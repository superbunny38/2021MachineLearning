{
  "nbformat": 4,
  "nbformat_minor": 0,
  "metadata": {
    "colab": {
      "name": "ProblemSet1(b).ipynb",
      "provenance": [],
      "collapsed_sections": [],
      "authorship_tag": "ABX9TyNkAQH5x+aLobtv5EupF4l1",
      "include_colab_link": true
    },
    "kernelspec": {
      "name": "python3",
      "display_name": "Python 3"
    },
    "language_info": {
      "name": "python"
    }
  },
  "cells": [
    {
      "cell_type": "markdown",
      "metadata": {
        "id": "view-in-github",
        "colab_type": "text"
      },
      "source": [
        "<a href=\"https://colab.research.google.com/github/superbunny38/2021MachineLearning/blob/main/CS229MachineLearning/assignments/ProblemSet1(b).ipynb\" target=\"_parent\"><img src=\"https://colab.research.google.com/assets/colab-badge.svg\" alt=\"Open In Colab\"/></a>"
      ]
    },
    {
      "cell_type": "markdown",
      "source": [
        "$h_\\theta(x) = g(\\theta^{T}x)$\n",
        "\n",
        "$g(z) = \\frac{1}{1+e^{-z}}$\n",
        "\n",
        "Hessian Matrix of Cost function $J(\\theta)$\n",
        "\n",
        "$H_{j,k} = \\frac{\\vartheta^2}{\\vartheta\\theta_j\\vartheta\\theta_k}J(\\theta)$\n",
        "= $\\frac{1}{m} ∑_{i=1}^{m}h_{\\theta}(y^ix^i)(1-h_{\\theta}(y^ix^i))x^i_jx^i_k$"
      ],
      "metadata": {
        "id": "_12dMbKf_gSU"
      }
    },
    {
      "cell_type": "markdown",
      "source": [
        "notation\n",
        "\n",
        "$x^{(i)}_j$\n",
        "i: datasample, j: feature"
      ],
      "metadata": {
        "id": "WLHXmJnWM8Ki"
      }
    },
    {
      "cell_type": "markdown",
      "source": [
        "# B.Implement Newtons method for optimizing J(θ), and apply it to fit a logistic regression model to the data."
      ],
      "metadata": {
        "id": "puCT5rb2BjDH"
      }
    },
    {
      "cell_type": "markdown",
      "source": [
        "### visualize data"
      ],
      "metadata": {
        "id": "UeGWTA4SCns_"
      }
    },
    {
      "cell_type": "code",
      "source": [
        "import numpy as np\n",
        "import pandas as pd\n",
        "import matplotlib.pyplot as plt"
      ],
      "metadata": {
        "id": "3FzE6MMCBJa_"
      },
      "execution_count": 1,
      "outputs": []
    },
    {
      "cell_type": "code",
      "source": [
        "tmp_logistic_x = pd.read_csv(\"logistic_x.txt\",header=None,delimiter=r\"\\s+\")\n",
        "logistic_y = pd.read_csv(\"logistic_y.txt\",header=None,delimiter=r\"\\s+\")"
      ],
      "metadata": {
        "id": "ruQMr9oIBiUK"
      },
      "execution_count": 20,
      "outputs": []
    },
    {
      "cell_type": "code",
      "source": [
        "logistic_x = []\n",
        "for x0,x1 in zip(tmp_logistic_x[0],tmp_logistic_x[1]):\n",
        "  logistic_x.append([x0,x1])"
      ],
      "metadata": {
        "id": "Ve5cCj5tB2aC"
      },
      "execution_count": 3,
      "outputs": []
    },
    {
      "cell_type": "code",
      "source": [
        "logistic_y = np.array(logistic_y)\n",
        "logistic_y = list(logistic_y)\n",
        "x_pos = []\n",
        "x_neg = []\n",
        "for i in range(len(logistic_y)):\n",
        "  if logistic_y[i] == 1.:\n",
        "    x_pos.append(logistic_x[i])\n",
        "  else:\n",
        "    x_neg.append(logistic_x[i])\n",
        "pos_x_ = []\n",
        "pos_y_ = []\n",
        "for x, y in x_pos:\n",
        "  pos_x_.append(x)\n",
        "  pos_y_.append(y)\n",
        "pos_df = pd.DataFrame({\"x0\":pos_x_,\"x1\":pos_y_})\n",
        "x_ = []\n",
        "y_ = []\n",
        "for x, y in x_neg:\n",
        "  x_.append(x)\n",
        "  y_.append(y)\n",
        "neg_df = pd.DataFrame({\"x0\":x_,\"x1\":y_})\n",
        "import matplotlib.pyplot as plt\n",
        "plt.title(\"Distribution of binary classification samples\")\n",
        "plt.scatter(pos_df[\"x0\"],pos_df[\"x1\"],label = \"pos(1)\")\n",
        "plt.scatter(neg_df[\"x0\"],neg_df[\"x1\"],label=\"neg(-1)\")\n",
        "plt.xlabel(\"x0\")\n",
        "plt.ylabel(\"x1\")\n",
        "plt.legend()\n",
        "plt.show()"
      ],
      "metadata": {
        "colab": {
          "base_uri": "https://localhost:8080/",
          "height": 295
        },
        "id": "UueXymp1B4sj",
        "outputId": "69a6c658-4bec-46ee-fb08-ec923b75bb23"
      },
      "execution_count": 6,
      "outputs": [
        {
          "output_type": "display_data",
          "data": {
            "image/png": "[encoded data removed]",
            "text/plain": [
              "<Figure size 432x288 with 1 Axes>"
            ]
          },
          "metadata": {
            "needs_background": "light"
          }
        }
      ]
    },
    {
      "cell_type": "markdown",
      "source": [
        "### prepare data to fit the model"
      ],
      "metadata": {
        "id": "xdFH8og1GTYj"
      }
    },
    {
      "cell_type": "code",
      "source": [
        "df_x = pd.read_csv(\"logistic_x.txt\", sep=\"\\ +\", names=[\"x1\",\"x2\"], header=None, engine='python')\n",
        "df_y = pd.read_csv('logistic_y.txt', sep='\\ +', names=[\"y\"], header=None, engine='python')\n",
        "df_y = df_y.astype(int)\n",
        "df_x.head()"
      ],
      "metadata": {
        "colab": {
          "base_uri": "https://localhost:8080/",
          "height": 206
        },
        "id": "HJ8MDpkOGsQz",
        "outputId": "2fa21f4f-0a75-4792-f579-5cf8045bdcfa"
      },
      "execution_count": 176,
      "outputs": [
        {
          "output_type": "execute_result",
          "data": {
            "text/html": [
              "\n",
              "  <div id=\"df-550cdda4-8cd2-49df-a9fa-240f80bf1773\">\n",
              "    <div class=\"colab-df-container\">\n",
              "      <div>\n",
              "<style scoped>\n",
              "    .dataframe tbody tr th:only-of-type {\n",
              "        vertical-align: middle;\n",
              "    }\n",
              "\n",
              "    .dataframe tbody tr th {\n",
              "        vertical-align: top;\n",
              "    }\n",
              "\n",
              "    .dataframe thead th {\n",
              "        text-align: right;\n",
              "    }\n",
              "</style>\n",
              "<table border=\"1\" class=\"dataframe\">\n",
              "  <thead>\n",
              "    <tr style=\"text-align: right;\">\n",
              "      <th></th>\n",
              "      <th>x1</th>\n",
              "      <th>x2</th>\n",
              "    </tr>\n",
              "  </thead>\n",
              "  <tbody>\n",
              "    <tr>\n",
              "      <th>0</th>\n",
              "      <td>1.343250</td>\n",
              "      <td>-1.331148</td>\n",
              "    </tr>\n",
              "    <tr>\n",
              "      <th>1</th>\n",
              "      <td>1.820553</td>\n",
              "      <td>-0.634668</td>\n",
              "    </tr>\n",
              "    <tr>\n",
              "      <th>2</th>\n",
              "      <td>0.986321</td>\n",
              "      <td>-1.888576</td>\n",
              "    </tr>\n",
              "    <tr>\n",
              "      <th>3</th>\n",
              "      <td>1.944373</td>\n",
              "      <td>-1.635452</td>\n",
              "    </tr>\n",
              "    <tr>\n",
              "      <th>4</th>\n",
              "      <td>0.976734</td>\n",
              "      <td>-1.353315</td>\n",
              "    </tr>\n",
              "  </tbody>\n",
              "</table>\n",
              "</div>\n",
              "      <button class=\"colab-df-convert\" onclick=\"convertToInteractive('df-550cdda4-8cd2-49df-a9fa-240f80bf1773')\"\n",
              "              title=\"Convert this dataframe to an interactive table.\"\n",
              "              style=\"display:none;\">\n",
              "        \n",
              "  <svg xmlns=\"http://www.w3.org/2000/svg\" height=\"24px\"viewBox=\"0 0 24 24\"\n",
              "       width=\"24px\">\n",
              "    <path d=\"M0 0h24v24H0V0z\" fill=\"none\"/>\n",
              "    <path d=\"M18.56 5.44l.94 2.06.94-2.06 2.06-.94-2.06-.94-.94-2.06-.94 2.06-2.06.94zm-11 1L8.5 8.5l.94-2.06 2.06-.94-2.06-.94L8.5 2.5l-.94 2.06-2.06.94zm10 10l.94 2.06.94-2.06 2.06-.94-2.06-.94-.94-2.06-.94 2.06-2.06.94z\"/><path d=\"M17.41 7.96l-1.37-1.37c-.4-.4-.92-.59-1.43-.59-.52 0-1.04.2-1.43.59L10.3 9.45l-7.72 7.72c-.78.78-.78 2.05 0 2.83L4 21.41c.39.39.9.59 1.41.59.51 0 1.02-.2 1.41-.59l7.78-7.78 2.81-2.81c.8-.78.8-2.07 0-2.86zM5.41 20L4 18.59l7.72-7.72 1.47 1.35L5.41 20z\"/>\n",
              "  </svg>\n",
              "      </button>\n",
              "      \n",
              "  <style>\n",
              "    .colab-df-container {\n",
              "      display:flex;\n",
              "      flex-wrap:wrap;\n",
              "      gap: 12px;\n",
              "    }\n",
              "\n",
              "    .colab-df-convert {\n",
              "      background-color: #E8F0FE;\n",
              "      border: none;\n",
              "      border-radius: 50%;\n",
              "      cursor: pointer;\n",
              "      display: none;\n",
              "      fill: #1967D2;\n",
              "      height: 32px;\n",
              "      padding: 0 0 0 0;\n",
              "      width: 32px;\n",
              "    }\n",
              "\n",
              "    .colab-df-convert:hover {\n",
              "      background-color: #E2EBFA;\n",
              "      box-shadow: 0px 1px 2px rgba(60, 64, 67, 0.3), 0px 1px 3px 1px rgba(60, 64, 67, 0.15);\n",
              "      fill: #174EA6;\n",
              "    }\n",
              "\n",
              "    [theme=dark] .colab-df-convert {\n",
              "      background-color: #3B4455;\n",
              "      fill: #D2E3FC;\n",
              "    }\n",
              "\n",
              "    [theme=dark] .colab-df-convert:hover {\n",
              "      background-color: #434B5C;\n",
              "      box-shadow: 0px 1px 3px 1px rgba(0, 0, 0, 0.15);\n",
              "      filter: drop-shadow(0px 1px 2px rgba(0, 0, 0, 0.3));\n",
              "      fill: #FFFFFF;\n",
              "    }\n",
              "  </style>\n",
              "\n",
              "      <script>\n",
              "        const buttonEl =\n",
              "          document.querySelector('#df-550cdda4-8cd2-49df-a9fa-240f80bf1773 button.colab-df-convert');\n",
              "        buttonEl.style.display =\n",
              "          google.colab.kernel.accessAllowed ? 'block' : 'none';\n",
              "\n",
              "        async function convertToInteractive(key) {\n",
              "          const element = document.querySelector('#df-550cdda4-8cd2-49df-a9fa-240f80bf1773');\n",
              "          const dataTable =\n",
              "            await google.colab.kernel.invokeFunction('convertToInteractive',\n",
              "                                                     [key], {});\n",
              "          if (!dataTable) return;\n",
              "\n",
              "          const docLinkHtml = 'Like what you see? Visit the ' +\n",
              "            '<a target=\"_blank\" href=https://colab.research.google.com/notebooks/data_table.ipynb>data table notebook</a>'\n",
              "            + ' to learn more about interactive tables.';\n",
              "          element.innerHTML = '';\n",
              "          dataTable['output_type'] = 'display_data';\n",
              "          await google.colab.output.renderOutput(dataTable, element);\n",
              "          const docLink = document.createElement('div');\n",
              "          docLink.innerHTML = docLinkHtml;\n",
              "          element.appendChild(docLink);\n",
              "        }\n",
              "      </script>\n",
              "    </div>\n",
              "  </div>\n",
              "  "
            ],
            "text/plain": [
              "         x1        x2\n",
              "0  1.343250 -1.331148\n",
              "1  1.820553 -0.634668\n",
              "2  0.986321 -1.888576\n",
              "3  1.944373 -1.635452\n",
              "4  0.976734 -1.353315"
            ]
          },
          "metadata": {},
          "execution_count": 176
        }
      ]
    },
    {
      "cell_type": "code",
      "source": [
        "x = np.hstack([np.ones((df_x.shape[0], 1)), df_x[[\"x1\",\"x2\"]].values])\n",
        "x[:3]#x0,x1,x2"
      ],
      "metadata": {
        "colab": {
          "base_uri": "https://localhost:8080/"
        },
        "id": "iDOSFSrcIpLi",
        "outputId": "9b278764-68db-451e-928c-e2598ad75fbd"
      },
      "execution_count": 148,
      "outputs": [
        {
          "output_type": "execute_result",
          "data": {
            "text/plain": [
              "array([[ 1.        ,  1.3432504 , -1.3311479 ],\n",
              "       [ 1.        ,  1.8205529 , -0.6346681 ],\n",
              "       [ 1.        ,  0.98632067, -1.8885762 ]])"
            ]
          },
          "metadata": {},
          "execution_count": 148
        }
      ]
    },
    {
      "cell_type": "code",
      "source": [
        "y = df_y[\"y\"].values\n",
        "y[:3]"
      ],
      "metadata": {
        "colab": {
          "base_uri": "https://localhost:8080/"
        },
        "id": "tzTW7yk_GpT-",
        "outputId": "f8e2af57-95ae-4ee0-9e56-e58d1574974d"
      },
      "execution_count": 149,
      "outputs": [
        {
          "output_type": "execute_result",
          "data": {
            "text/plain": [
              "array([-1, -1, -1])"
            ]
          },
          "metadata": {},
          "execution_count": 149
        }
      ]
    },
    {
      "cell_type": "markdown",
      "source": [
        "Sigmoid function $g(z)$"
      ],
      "metadata": {
        "id": "89rVZWXVDCkV"
      }
    },
    {
      "cell_type": "code",
      "source": [
        "def sigmoid(z):\n",
        "  return 1/(1+np.exp(-z))"
      ],
      "metadata": {
        "id": "UgmWB5yuCK_x"
      },
      "execution_count": 177,
      "outputs": []
    },
    {
      "cell_type": "markdown",
      "source": [
        "$h_{\\theta}(x) = g(\\theta^Tx)$"
      ],
      "metadata": {
        "id": "BSZLecQNDYx0"
      }
    },
    {
      "cell_type": "code",
      "source": [
        "def hypothesis(x,theta):\n",
        "  return np.dot(x,theta)"
      ],
      "metadata": {
        "id": "H1psMmuLDW13"
      },
      "execution_count": 160,
      "outputs": []
    },
    {
      "cell_type": "markdown",
      "source": [
        "dot product"
      ],
      "metadata": {
        "id": "drduzyLwDxdK"
      }
    },
    {
      "cell_type": "code",
      "source": [
        "x1 = [1,2,3]\n",
        "y1 = [1,2,3]\n",
        "np.dot(x1,y1)"
      ],
      "metadata": {
        "colab": {
          "base_uri": "https://localhost:8080/"
        },
        "id": "2aO5DhsyDteo",
        "outputId": "885aa24f-557e-493d-d1e4-1b416a30b7dc"
      },
      "execution_count": 152,
      "outputs": [
        {
          "output_type": "execute_result",
          "data": {
            "text/plain": [
              "14"
            ]
          },
          "metadata": {},
          "execution_count": 152
        }
      ]
    },
    {
      "cell_type": "markdown",
      "source": [
        "Initialize $\\theta$"
      ],
      "metadata": {
        "id": "egZznlsPEArk"
      }
    },
    {
      "cell_type": "code",
      "source": [
        "initial_theta = np.zeros((x.shape[1],1))\n",
        "initial_theta.shape"
      ],
      "metadata": {
        "colab": {
          "base_uri": "https://localhost:8080/"
        },
        "id": "5aR0Sp4cDweX",
        "outputId": "fe06c439-85c4-429a-d548-491c1f670c78"
      },
      "execution_count": 154,
      "outputs": [
        {
          "output_type": "execute_result",
          "data": {
            "text/plain": [
              "(3, 1)"
            ]
          },
          "metadata": {},
          "execution_count": 154
        }
      ]
    },
    {
      "cell_type": "code",
      "source": [
        "initial_theta"
      ],
      "metadata": {
        "colab": {
          "base_uri": "https://localhost:8080/"
        },
        "id": "hkkgfqbybF5J",
        "outputId": "804075c2-8f1c-41b7-faec-7c2724596c57"
      },
      "execution_count": 155,
      "outputs": [
        {
          "output_type": "execute_result",
          "data": {
            "text/plain": [
              "array([[0.],\n",
              "       [0.],\n",
              "       [0.]])"
            ]
          },
          "metadata": {},
          "execution_count": 155
        }
      ]
    },
    {
      "cell_type": "markdown",
      "source": [
        "$\\nabla_{\\theta}J(\\theta)$\n",
        "\n",
        "$\\frac{d}{d\\theta_j}J(\\theta)=-\\frac{1}{m}\\sum_{i=1}^m(1-h_{\\theta}(y^ix^i))y^ix^i_j$"
      ],
      "metadata": {
        "id": "l0_nIYkoFZBm"
      }
    },
    {
      "cell_type": "code",
      "source": [
        "def gradient(theta,x,y):\n",
        "  z = y*hypothesis(x,theta)\n",
        "  h = sigmoid(z)\n",
        "  g = -np.mean((1-h)*y*x.T, axis = 1)\n",
        "  return g"
      ],
      "metadata": {
        "id": "fDfSGa9_EeiM"
      },
      "execution_count": 198,
      "outputs": []
    },
    {
      "cell_type": "markdown",
      "source": [
        " #### Hessian Matrix (H)\n",
        "n = # of columns in input data(number of features + 1)\n",
        "\n",
        "i : datasample\n",
        "\n",
        "H in  $\\mathbb{R}^{(n+1)(n+1)}$\n",
        "\n",
        " $\\frac{1}{m} ∑_{i=1}^{m}h_{\\theta}(y^ix^i)(1-h_{\\theta}(y^ix^i))x^i_jx^i_k$"
      ],
      "metadata": {
        "id": "b1KCh0Q9JthB"
      }
    },
    {
      "cell_type": "code",
      "source": [
        "np.zeros((2,3))"
      ],
      "metadata": {
        "colab": {
          "base_uri": "https://localhost:8080/"
        },
        "id": "MQrQGQUOJ4ai",
        "outputId": "8e0aeb83-5b0c-4d9f-8047-79d7f82eec2f"
      },
      "execution_count": 199,
      "outputs": [
        {
          "output_type": "execute_result",
          "data": {
            "text/plain": [
              "array([[0., 0., 0.],\n",
              "       [0., 0., 0.]])"
            ]
          },
          "metadata": {},
          "execution_count": 199
        }
      ]
    },
    {
      "cell_type": "code",
      "source": [
        "x.shape"
      ],
      "metadata": {
        "colab": {
          "base_uri": "https://localhost:8080/"
        },
        "id": "qF5lIaKkJ_np",
        "outputId": "9e9f807b-f6bf-450e-a5c2-7d60d0edaf36"
      },
      "execution_count": 200,
      "outputs": [
        {
          "output_type": "execute_result",
          "data": {
            "text/plain": [
              "(99, 3)"
            ]
          },
          "metadata": {},
          "execution_count": 200
        }
      ]
    },
    {
      "cell_type": "code",
      "source": [
        "def hessian(theta, x, y):\n",
        "  hess = np.zeros((x.shape[1], x.shape[1]))#n+1 dimension\n",
        "  z = y*hypothesis(x,theta)\n",
        "  h = sigmoid(z)\n",
        "  #2nd dimensional array\n",
        "  for i in range(hess.shape[0]):#accessing data samples(1~m(:99))\n",
        "    for j in range(hess.shape[0]):\n",
        "      if i <= j:\n",
        "        #fill hessian matrix\n",
        "        hess[i][j] = np.mean(h*(1-h)*x[:,i]*x[:,j])\n",
        "        if i != j:\n",
        "          hess[j][i] = hess[i][j]#symmetric matrix\n",
        "  #print(\"hessian shape:\",hess.shape)\n",
        "  return hess"
      ],
      "metadata": {
        "id": "gnqCyn7AJkZf"
      },
      "execution_count": 201,
      "outputs": []
    },
    {
      "cell_type": "markdown",
      "source": [
        "### Newton's method\n",
        "\n",
        "$\\theta := \\theta- H^{-1}\\nabla_{\\theta}J(\\theta)$"
      ],
      "metadata": {
        "id": "2KZYkQ43Lusv"
      }
    },
    {
      "cell_type": "markdown",
      "source": [
        "delta intialize 어떻게 하는거지?"
      ],
      "metadata": {
        "id": "hc78aSRobf0R"
      }
    },
    {
      "cell_type": "code",
      "source": [
        "def newton(initial_theta, x,y, eps):\n",
        "  theta = initial_theta#intialize theta by 0\n",
        "  delta = 1#goal = 0\n",
        "  while delta > eps:#goal: to reduce delta\n",
        "    theta_prev = theta.copy()#create a new copy of theta(different from =)\n",
        "    result_h = hessian(theta,x,y)\n",
        "    \n",
        "    gr = gradient(theta,x,y)\n",
        "    \n",
        "    theta -= np.linalg.inv(result_h).dot(gr)#np.linalg.inv: inverse matrix\n",
        "    \n",
        "    delta = np.linalg.norm(theta-theta_prev, ord = 1)#find distance(delta)\n",
        "  return theta, delta"
      ],
      "metadata": {
        "id": "w4I5wxEjLtXp"
      },
      "execution_count": 209,
      "outputs": []
    },
    {
      "cell_type": "markdown",
      "source": [
        "## Run Newton's method to perform logistic regression"
      ],
      "metadata": {
        "id": "FNq4qwOiPW6T"
      }
    },
    {
      "cell_type": "code",
      "source": [
        "# Initialize theta0\n",
        "theta0 = np.zeros((x.shape[1]))\n",
        "theta0.shape"
      ],
      "metadata": {
        "colab": {
          "base_uri": "https://localhost:8080/"
        },
        "id": "xH5ZRo74eyEP",
        "outputId": "33c7cb9e-2c2c-42c3-9366-41d2e52edbf7"
      },
      "execution_count": 210,
      "outputs": [
        {
          "output_type": "execute_result",
          "data": {
            "text/plain": [
              "(3,)"
            ]
          },
          "metadata": {},
          "execution_count": 210
        }
      ]
    },
    {
      "cell_type": "code",
      "source": [
        "theta_final, delta = newton(theta0, x,y,1e-6)#eps:le-6"
      ],
      "metadata": {
        "id": "2G89mPuRPRqP"
      },
      "execution_count": 211,
      "outputs": []
    },
    {
      "cell_type": "code",
      "source": [
        "print(\"final theta: {}\".format(theta_final))"
      ],
      "metadata": {
        "colab": {
          "base_uri": "https://localhost:8080/"
        },
        "id": "vGDjuI2pgp1p",
        "outputId": "c1e70299-6082-4e5a-e304-44cc2f4258fc"
      },
      "execution_count": 212,
      "outputs": [
        {
          "output_type": "stream",
          "name": "stdout",
          "text": [
            "final theta: [-2.6205116   0.76037154  1.17194674]\n"
          ]
        }
      ]
    },
    {
      "cell_type": "code",
      "source": [
        "delta"
      ],
      "metadata": {
        "colab": {
          "base_uri": "https://localhost:8080/"
        },
        "id": "X3XUq4LRgvoH",
        "outputId": "66f90baa-d8e9-4acb-a60a-697c3381ff6e"
      },
      "execution_count": 213,
      "outputs": [
        {
          "output_type": "execute_result",
          "data": {
            "text/plain": [
              "4.146349930067572e-12"
            ]
          },
          "metadata": {},
          "execution_count": 213
        }
      ]
    },
    {
      "cell_type": "code",
      "source": [
        "print(\"weights: \",theta_final)"
      ],
      "metadata": {
        "colab": {
          "base_uri": "https://localhost:8080/"
        },
        "id": "lg1lVgG8g_Ah",
        "outputId": "8531ed90-e814-4113-9f26-b2ef0e2fa2d7"
      },
      "execution_count": 219,
      "outputs": [
        {
          "output_type": "stream",
          "name": "stdout",
          "text": [
            "weights:  [-2.6205116   0.76037154  1.17194674]\n"
          ]
        }
      ]
    },
    {
      "cell_type": "code",
      "source": [
        "b = theta_final[0]\n",
        "w1 = theta_final[1]\n",
        "w2 = theta_final[2]\n",
        "c = -b/w2\n",
        "m = -w1/w2"
      ],
      "metadata": {
        "id": "J4PpWue2kBYj"
      },
      "execution_count": 247,
      "outputs": []
    },
    {
      "cell_type": "code",
      "source": [
        "xmin, xmax = -0.5, 10\n",
        "xd = np.array([xmin, xmax])\n",
        "yd = m*xd + c"
      ],
      "metadata": {
        "id": "MecTVy0skOhO"
      },
      "execution_count": 248,
      "outputs": []
    },
    {
      "cell_type": "code",
      "source": [
        "logistic_y = np.array(logistic_y)\n",
        "logistic_y = list(logistic_y)\n",
        "x_pos = []\n",
        "x_neg = []\n",
        "for i in range(len(logistic_y)):\n",
        "  if logistic_y[i] == 1.:\n",
        "    x_pos.append(logistic_x[i])\n",
        "  else:\n",
        "    x_neg.append(logistic_x[i])\n",
        "pos_x_ = []\n",
        "pos_y_ = []\n",
        "for x, y in x_pos:\n",
        "  pos_x_.append(x)\n",
        "  pos_y_.append(y)\n",
        "pos_df = pd.DataFrame({\"x0\":pos_x_,\"x1\":pos_y_})\n",
        "x_ = []\n",
        "y_ = []\n",
        "for x, y in x_neg:\n",
        "  x_.append(x)\n",
        "  y_.append(y)\n",
        "neg_df = pd.DataFrame({\"x0\":x_,\"x1\":y_})\n",
        "import matplotlib.pyplot as plt\n",
        "plt.title(\"Distribution of binary classification samples\")\n",
        "plt.scatter(pos_df[\"x0\"],pos_df[\"x1\"],label = \"pos(1)\")\n",
        "plt.scatter(neg_df[\"x0\"],neg_df[\"x1\"],label=\"neg(-1)\")\n",
        "plt.plot(xd, yd, 'k', lw=1, ls='--')\n",
        "plt.xlabel(\"x0\")\n",
        "plt.ylabel(\"x1\")\n",
        "plt.legend()\n",
        "plt.show()"
      ],
      "metadata": {
        "colab": {
          "base_uri": "https://localhost:8080/",
          "height": 295
        },
        "id": "dAItsb_ikRSZ",
        "outputId": "ea65352b-5e88-4f99-ff82-64d568da4922"
      },
      "execution_count": 249,
      "outputs": [
        {
          "output_type": "display_data",
          "data": {
            "image/png": "[encoded data removed]",
            "text/plain": [
              "<Figure size 432x288 with 1 Axes>"
            ]
          },
          "metadata": {
            "needs_background": "light"
          }
        }
      ]
    },
    {
      "cell_type": "markdown",
      "source": [
        "## See if scikit-learn's regression returns the same result."
      ],
      "metadata": {
        "id": "tQSqdw6ehHvU"
      }
    },
    {
      "cell_type": "markdown",
      "source": [
        "### Step 1: Importing all the required libraries"
      ],
      "metadata": {
        "id": "4LnredZAhm-q"
      }
    },
    {
      "cell_type": "code",
      "source": [
        "import seaborn as sns\n",
        "import matplotlib.pyplot as plt\n",
        "from sklearn import preprocessing, svm\n",
        "from sklearn.model_selection import train_test_split\n",
        "from sklearn.linear_model import LinearRegression"
      ],
      "metadata": {
        "id": "7X3jS-CdhHAA"
      },
      "execution_count": 220,
      "outputs": []
    },
    {
      "cell_type": "code",
      "source": [
        "df_x = pd.read_csv(\"logistic_x.txt\", sep=\"\\ +\", names=[\"x1\",\"x2\"], header=None, engine='python')\n",
        "df_y = pd.read_csv('logistic_y.txt', sep='\\ +', names=[\"y\"], header=None, engine='python')\n",
        "df_y = df_y.astype(int)"
      ],
      "metadata": {
        "id": "QYcRvdm5hpaJ"
      },
      "execution_count": 221,
      "outputs": []
    },
    {
      "cell_type": "code",
      "source": [
        "sk_y = df_y[\"y\"].values\n",
        "sk_x = df_x[[\"x1\",\"x2\"]].values"
      ],
      "metadata": {
        "id": "jTZe1zN5hxR3"
      },
      "execution_count": 222,
      "outputs": []
    },
    {
      "cell_type": "code",
      "source": [
        "# Splitting the data into training and testing data\n",
        "X_train, X_test, y_train, y_test = train_test_split(sk_x, sk_y, test_size = 0.25)"
      ],
      "metadata": {
        "id": "Nf6blzE_h74C"
      },
      "execution_count": 226,
      "outputs": []
    },
    {
      "cell_type": "code",
      "source": [
        "regr = LinearRegression()\n",
        "  \n",
        "regr.fit(X_train, y_train)\n",
        "print(regr.score(X_test, y_test))"
      ],
      "metadata": {
        "colab": {
          "base_uri": "https://localhost:8080/"
        },
        "id": "e1fZ-tMdiLfp",
        "outputId": "fa90eef3-fb79-4a57-e764-8fca9a4bec91"
      },
      "execution_count": 227,
      "outputs": [
        {
          "output_type": "stream",
          "name": "stdout",
          "text": [
            "0.3665743982511037\n"
          ]
        }
      ]
    },
    {
      "cell_type": "code",
      "source": [
        "regr.coef_"
      ],
      "metadata": {
        "colab": {
          "base_uri": "https://localhost:8080/"
        },
        "id": "VEDC41AaiRng",
        "outputId": "ea973d21-c499-4872-c550-8cc362a4871c"
      },
      "execution_count": 228,
      "outputs": [
        {
          "output_type": "execute_result",
          "data": {
            "text/plain": [
              "array([0.24339122, 0.27261051])"
            ]
          },
          "metadata": {},
          "execution_count": 228
        }
      ]
    },
    {
      "cell_type": "code",
      "source": [
        "regr.intercept_"
      ],
      "metadata": {
        "colab": {
          "base_uri": "https://localhost:8080/"
        },
        "id": "SZwYyUV7idox",
        "outputId": "88d5f980-9a62-46d9-ead2-ecaab0ee8761"
      },
      "execution_count": 229,
      "outputs": [
        {
          "output_type": "execute_result",
          "data": {
            "text/plain": [
              "-0.9383717151741213"
            ]
          },
          "metadata": {},
          "execution_count": 229
        }
      ]
    },
    {
      "cell_type": "markdown",
      "source": [
        "### plot decision boundary of scikit-learn"
      ],
      "metadata": {
        "id": "3HG99Anzi47G"
      }
    },
    {
      "cell_type": "code",
      "source": [
        "b = regr.intercept_\n",
        "w1, w2 = regr.coef_.T"
      ],
      "metadata": {
        "id": "K6sFGqMCi4C5"
      },
      "execution_count": 231,
      "outputs": []
    },
    {
      "cell_type": "code",
      "source": [
        "c = -b/w2\n",
        "m = -w1/w2"
      ],
      "metadata": {
        "id": "ZbI_ArcRinBu"
      },
      "execution_count": 232,
      "outputs": []
    },
    {
      "cell_type": "code",
      "source": [
        "xmin, xmax = -0.5, 10\n",
        "xd = np.array([xmin, xmax])\n",
        "yd = m*xd + c"
      ],
      "metadata": {
        "id": "kdSVaKarji-I"
      },
      "execution_count": 244,
      "outputs": []
    },
    {
      "cell_type": "code",
      "source": [
        "logistic_y = np.array(logistic_y)\n",
        "logistic_y = list(logistic_y)\n",
        "x_pos = []\n",
        "x_neg = []\n",
        "for i in range(len(logistic_y)):\n",
        "  if logistic_y[i] == 1.:\n",
        "    x_pos.append(logistic_x[i])\n",
        "  else:\n",
        "    x_neg.append(logistic_x[i])\n",
        "pos_x_ = []\n",
        "pos_y_ = []\n",
        "for x, y in x_pos:\n",
        "  pos_x_.append(x)\n",
        "  pos_y_.append(y)\n",
        "pos_df = pd.DataFrame({\"x0\":pos_x_,\"x1\":pos_y_})\n",
        "x_ = []\n",
        "y_ = []\n",
        "for x, y in x_neg:\n",
        "  x_.append(x)\n",
        "  y_.append(y)\n",
        "neg_df = pd.DataFrame({\"x0\":x_,\"x1\":y_})\n",
        "import matplotlib.pyplot as plt\n",
        "plt.title(\"Distribution of binary classification samples\")\n",
        "plt.scatter(pos_df[\"x0\"],pos_df[\"x1\"],label = \"pos(1)\")\n",
        "plt.scatter(neg_df[\"x0\"],neg_df[\"x1\"],label=\"neg(-1)\")\n",
        "plt.plot(xd, yd, 'k', lw=1, ls='--')\n",
        "plt.xlabel(\"x0\")\n",
        "plt.ylabel(\"x1\")\n",
        "plt.legend()\n",
        "plt.show()\n",
        "#Scikit-learn: 8+5"
      ],
      "metadata": {
        "colab": {
          "base_uri": "https://localhost:8080/",
          "height": 295
        },
        "id": "7WmnkCatjQbZ",
        "outputId": "2577711d-e430-4ac2-f64b-540a39e41ac2"
      },
      "execution_count": 245,
      "outputs": [
        {
          "output_type": "display_data",
          "data": {
            "image/png": "[encoded data removed]",
            "text/plain": [
              "<Figure size 432x288 with 1 Axes>"
            ]
          },
          "metadata": {
            "needs_background": "light"
          }
        }
      ]
    },
    {
      "cell_type": "code",
      "source": [
        "#Newton's method decision boundary: 5+5"
      ],
      "metadata": {
        "colab": {
          "base_uri": "https://localhost:8080/",
          "height": 295
        },
        "id": "zSl0s5P_kXQv",
        "outputId": "c06d0414-0bf8-4fb7-b3af-0057d393db5b"
      },
      "execution_count": 250,
      "outputs": [
        {
          "output_type": "display_data",
          "data": {
            "image/png": "[encoded data removed]",
            "text/plain": [
              "<Figure size 432x288 with 1 Axes>"
            ]
          },
          "metadata": {
            "needs_background": "light"
          }
        }
      ]
    },
    {
      "cell_type": "markdown",
      "source": [
        "Performance of Newton's method seems better,,?"
      ],
      "metadata": {
        "id": "Ut0wFyAClBb5"
      }
    }
  ]
}