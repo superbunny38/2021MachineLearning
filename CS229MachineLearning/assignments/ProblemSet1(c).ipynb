{
  "nbformat": 4,
  "nbformat_minor": 0,
  "metadata": {
    "colab": {
      "name": "ProblemSet1(c).ipynb",
      "provenance": [],
      "collapsed_sections": [],
      "authorship_tag": "ABX9TyNXkKeQfFVDuYFBqlSQrdND",
      "include_colab_link": true
    },
    "kernelspec": {
      "name": "python3",
      "display_name": "Python 3"
    },
    "language_info": {
      "name": "python"
    }
  },
  "cells": [
    {
      "cell_type": "markdown",
      "metadata": {
        "id": "view-in-github",
        "colab_type": "text"
      },
      "source": [
        "<a href=\"https://colab.research.google.com/github/superbunny38/2021MachineLearning/blob/main/CS229MachineLearning/assignments/ProblemSet1(c).ipynb\" target=\"_parent\"><img src=\"https://colab.research.google.com/assets/colab-badge.svg\" alt=\"Open In Colab\"/></a>"
      ]
    },
    {
      "cell_type": "markdown",
      "source": [
        "$h_\\theta(x) = g(\\theta^{T}x)$\n",
        "\n",
        "$g(z) = \\frac{1}{1+e^{-z}}$\n",
        "\n",
        "Hessian Matrix of Cost function $J(\\theta)$\n",
        "\n",
        "$H_{j,k} = \\frac{\\vartheta^2}{\\vartheta\\theta_j\\vartheta\\theta_k}J(\\theta)$\n",
        "= $\\frac{1}{m} ∑_{i=1}^{m}h_{\\theta}(y^ix^i)(1-h_{\\theta}(y^ix^i))x^i_jx^i_k$"
      ],
      "metadata": {
        "id": "_12dMbKf_gSU"
      }
    },
    {
      "cell_type": "markdown",
      "source": [
        "notation\n",
        "\n",
        "$x^{(i)}_j$\n",
        "i: datasample, j: feature"
      ],
      "metadata": {
        "id": "WLHXmJnWM8Ki"
      }
    },
    {
      "cell_type": "markdown",
      "source": [
        "# B.Implement Newtons method for optimizing J(θ), and apply it to fit a logistic regression model to the data."
      ],
      "metadata": {
        "id": "puCT5rb2BjDH"
      }
    },
    {
      "cell_type": "markdown",
      "source": [
        "### visualize data"
      ],
      "metadata": {
        "id": "UeGWTA4SCns_"
      }
    },
    {
      "cell_type": "code",
      "source": [
        "import numpy as np\n",
        "import pandas as pd\n",
        "import matplotlib.pyplot as plt"
      ],
      "metadata": {
        "id": "3FzE6MMCBJa_"
      },
      "execution_count": 1,
      "outputs": []
    },
    {
      "cell_type": "code",
      "source": [
        "tmp_logistic_x = pd.read_csv(\"logistic_x.txt\",header=None,delimiter=r\"\\s+\")\n",
        "logistic_y = pd.read_csv(\"logistic_y.txt\",header=None,delimiter=r\"\\s+\")"
      ],
      "metadata": {
        "id": "ruQMr9oIBiUK"
      },
      "execution_count": 2,
      "outputs": []
    },
    {
      "cell_type": "code",
      "source": [
        "logistic_x = []\n",
        "for x0,x1 in zip(tmp_logistic_x[0],tmp_logistic_x[1]):\n",
        "  logistic_x.append([x0,x1])"
      ],
      "metadata": {
        "id": "Ve5cCj5tB2aC"
      },
      "execution_count": 3,
      "outputs": []
    },
    {
      "cell_type": "code",
      "source": [
        "logistic_y = np.array(logistic_y)\n",
        "logistic_y = list(logistic_y)\n",
        "x_pos = []\n",
        "x_neg = []\n",
        "for i in range(len(logistic_y)):\n",
        "  if logistic_y[i] == 1.:\n",
        "    x_pos.append(logistic_x[i])\n",
        "  else:\n",
        "    x_neg.append(logistic_x[i])\n",
        "pos_x_ = []\n",
        "pos_y_ = []\n",
        "for x, y in x_pos:\n",
        "  pos_x_.append(x)\n",
        "  pos_y_.append(y)\n",
        "pos_df = pd.DataFrame({\"x0\":pos_x_,\"x1\":pos_y_})\n",
        "x_ = []\n",
        "y_ = []\n",
        "for x, y in x_neg:\n",
        "  x_.append(x)\n",
        "  y_.append(y)\n",
        "neg_df = pd.DataFrame({\"x0\":x_,\"x1\":y_})\n",
        "import matplotlib.pyplot as plt\n",
        "plt.title(\"Distribution of binary classification samples\")\n",
        "plt.scatter(pos_df[\"x0\"],pos_df[\"x1\"],label = \"pos(1)\")\n",
        "plt.scatter(neg_df[\"x0\"],neg_df[\"x1\"],label=\"neg(-1)\")\n",
        "plt.xlabel(\"x1\")\n",
        "plt.ylabel(\"x2\")\n",
        "plt.legend()\n",
        "plt.show()"
      ],
      "metadata": {
        "colab": {
          "base_uri": "https://localhost:8080/",
          "height": 295
        },
        "id": "UueXymp1B4sj",
        "outputId": "5a8f76a8-efd1-4776-f005-5b851bb2d3ef"
      },
      "execution_count": 5,
      "outputs": [
        {
          "output_type": "display_data",
          "data": {
            "image/png": "[encoded data removed]",
            "text/plain": [
              "<Figure size 432x288 with 1 Axes>"
            ]
          },
          "metadata": {
            "needs_background": "light"
          }
        }
      ]
    },
    {
      "cell_type": "markdown",
      "source": [
        "### prepare data to fit the model"
      ],
      "metadata": {
        "id": "xdFH8og1GTYj"
      }
    },
    {
      "cell_type": "code",
      "source": [
        "df_x = pd.read_csv(\"logistic_x.txt\", sep=\"\\ +\", names=[\"x1\",\"x2\"], header=None, engine='python')\n",
        "df_y = pd.read_csv('logistic_y.txt', sep='\\ +', names=[\"y\"], header=None, engine='python')\n",
        "df_y = df_y.astype(int)\n",
        "df_x.head()"
      ],
      "metadata": {
        "colab": {
          "base_uri": "https://localhost:8080/",
          "height": 206
        },
        "id": "HJ8MDpkOGsQz",
        "outputId": "3080fb29-cbeb-497f-dc0d-3d63517a58b2"
      },
      "execution_count": 6,
      "outputs": [
        {
          "output_type": "execute_result",
          "data": {
            "text/html": [
              "\n",
              "  <div id=\"df-ca35650f-faa2-4004-a647-6bb18a1f45f8\">\n",
              "    <div class=\"colab-df-container\">\n",
              "      <div>\n",
              "<style scoped>\n",
              "    .dataframe tbody tr th:only-of-type {\n",
              "        vertical-align: middle;\n",
              "    }\n",
              "\n",
              "    .dataframe tbody tr th {\n",
              "        vertical-align: top;\n",
              "    }\n",
              "\n",
              "    .dataframe thead th {\n",
              "        text-align: right;\n",
              "    }\n",
              "</style>\n",
              "<table border=\"1\" class=\"dataframe\">\n",
              "  <thead>\n",
              "    <tr style=\"text-align: right;\">\n",
              "      <th></th>\n",
              "      <th>x1</th>\n",
              "      <th>x2</th>\n",
              "    </tr>\n",
              "  </thead>\n",
              "  <tbody>\n",
              "    <tr>\n",
              "      <th>0</th>\n",
              "      <td>1.343250</td>\n",
              "      <td>-1.331148</td>\n",
              "    </tr>\n",
              "    <tr>\n",
              "      <th>1</th>\n",
              "      <td>1.820553</td>\n",
              "      <td>-0.634668</td>\n",
              "    </tr>\n",
              "    <tr>\n",
              "      <th>2</th>\n",
              "      <td>0.986321</td>\n",
              "      <td>-1.888576</td>\n",
              "    </tr>\n",
              "    <tr>\n",
              "      <th>3</th>\n",
              "      <td>1.944373</td>\n",
              "      <td>-1.635452</td>\n",
              "    </tr>\n",
              "    <tr>\n",
              "      <th>4</th>\n",
              "      <td>0.976734</td>\n",
              "      <td>-1.353315</td>\n",
              "    </tr>\n",
              "  </tbody>\n",
              "</table>\n",
              "</div>\n",
              "      <button class=\"colab-df-convert\" onclick=\"convertToInteractive('df-ca35650f-faa2-4004-a647-6bb18a1f45f8')\"\n",
              "              title=\"Convert this dataframe to an interactive table.\"\n",
              "              style=\"display:none;\">\n",
              "        \n",
              "  <svg xmlns=\"http://www.w3.org/2000/svg\" height=\"24px\"viewBox=\"0 0 24 24\"\n",
              "       width=\"24px\">\n",
              "    <path d=\"M0 0h24v24H0V0z\" fill=\"none\"/>\n",
              "    <path d=\"M18.56 5.44l.94 2.06.94-2.06 2.06-.94-2.06-.94-.94-2.06-.94 2.06-2.06.94zm-11 1L8.5 8.5l.94-2.06 2.06-.94-2.06-.94L8.5 2.5l-.94 2.06-2.06.94zm10 10l.94 2.06.94-2.06 2.06-.94-2.06-.94-.94-2.06-.94 2.06-2.06.94z\"/><path d=\"M17.41 7.96l-1.37-1.37c-.4-.4-.92-.59-1.43-.59-.52 0-1.04.2-1.43.59L10.3 9.45l-7.72 7.72c-.78.78-.78 2.05 0 2.83L4 21.41c.39.39.9.59 1.41.59.51 0 1.02-.2 1.41-.59l7.78-7.78 2.81-2.81c.8-.78.8-2.07 0-2.86zM5.41 20L4 18.59l7.72-7.72 1.47 1.35L5.41 20z\"/>\n",
              "  </svg>\n",
              "      </button>\n",
              "      \n",
              "  <style>\n",
              "    .colab-df-container {\n",
              "      display:flex;\n",
              "      flex-wrap:wrap;\n",
              "      gap: 12px;\n",
              "    }\n",
              "\n",
              "    .colab-df-convert {\n",
              "      background-color: #E8F0FE;\n",
              "      border: none;\n",
              "      border-radius: 50%;\n",
              "      cursor: pointer;\n",
              "      display: none;\n",
              "      fill: #1967D2;\n",
              "      height: 32px;\n",
              "      padding: 0 0 0 0;\n",
              "      width: 32px;\n",
              "    }\n",
              "\n",
              "    .colab-df-convert:hover {\n",
              "      background-color: #E2EBFA;\n",
              "      box-shadow: 0px 1px 2px rgba(60, 64, 67, 0.3), 0px 1px 3px 1px rgba(60, 64, 67, 0.15);\n",
              "      fill: #174EA6;\n",
              "    }\n",
              "\n",
              "    [theme=dark] .colab-df-convert {\n",
              "      background-color: #3B4455;\n",
              "      fill: #D2E3FC;\n",
              "    }\n",
              "\n",
              "    [theme=dark] .colab-df-convert:hover {\n",
              "      background-color: #434B5C;\n",
              "      box-shadow: 0px 1px 3px 1px rgba(0, 0, 0, 0.15);\n",
              "      filter: drop-shadow(0px 1px 2px rgba(0, 0, 0, 0.3));\n",
              "      fill: #FFFFFF;\n",
              "    }\n",
              "  </style>\n",
              "\n",
              "      <script>\n",
              "        const buttonEl =\n",
              "          document.querySelector('#df-ca35650f-faa2-4004-a647-6bb18a1f45f8 button.colab-df-convert');\n",
              "        buttonEl.style.display =\n",
              "          google.colab.kernel.accessAllowed ? 'block' : 'none';\n",
              "\n",
              "        async function convertToInteractive(key) {\n",
              "          const element = document.querySelector('#df-ca35650f-faa2-4004-a647-6bb18a1f45f8');\n",
              "          const dataTable =\n",
              "            await google.colab.kernel.invokeFunction('convertToInteractive',\n",
              "                                                     [key], {});\n",
              "          if (!dataTable) return;\n",
              "\n",
              "          const docLinkHtml = 'Like what you see? Visit the ' +\n",
              "            '<a target=\"_blank\" href=https://colab.research.google.com/notebooks/data_table.ipynb>data table notebook</a>'\n",
              "            + ' to learn more about interactive tables.';\n",
              "          element.innerHTML = '';\n",
              "          dataTable['output_type'] = 'display_data';\n",
              "          await google.colab.output.renderOutput(dataTable, element);\n",
              "          const docLink = document.createElement('div');\n",
              "          docLink.innerHTML = docLinkHtml;\n",
              "          element.appendChild(docLink);\n",
              "        }\n",
              "      </script>\n",
              "    </div>\n",
              "  </div>\n",
              "  "
            ],
            "text/plain": [
              "         x1        x2\n",
              "0  1.343250 -1.331148\n",
              "1  1.820553 -0.634668\n",
              "2  0.986321 -1.888576\n",
              "3  1.944373 -1.635452\n",
              "4  0.976734 -1.353315"
            ]
          },
          "metadata": {},
          "execution_count": 6
        }
      ]
    },
    {
      "cell_type": "code",
      "source": [
        "x = np.hstack([np.ones((df_x.shape[0], 1)), df_x[[\"x1\",\"x2\"]].values])\n",
        "x[:3]#x0,x1,x2"
      ],
      "metadata": {
        "colab": {
          "base_uri": "https://localhost:8080/"
        },
        "id": "iDOSFSrcIpLi",
        "outputId": "1d8ae09e-5cb0-48f0-c77b-a20014e5c3e0"
      },
      "execution_count": 7,
      "outputs": [
        {
          "output_type": "execute_result",
          "data": {
            "text/plain": [
              "array([[ 1.        ,  1.3432504 , -1.3311479 ],\n",
              "       [ 1.        ,  1.8205529 , -0.6346681 ],\n",
              "       [ 1.        ,  0.98632067, -1.8885762 ]])"
            ]
          },
          "metadata": {},
          "execution_count": 7
        }
      ]
    },
    {
      "cell_type": "code",
      "source": [
        "y = df_y[\"y\"].values\n",
        "y[:3]"
      ],
      "metadata": {
        "colab": {
          "base_uri": "https://localhost:8080/"
        },
        "id": "tzTW7yk_GpT-",
        "outputId": "340ba3c7-d4ae-4bbd-c4f7-961d41b4e99f"
      },
      "execution_count": 8,
      "outputs": [
        {
          "output_type": "execute_result",
          "data": {
            "text/plain": [
              "array([-1, -1, -1])"
            ]
          },
          "metadata": {},
          "execution_count": 8
        }
      ]
    },
    {
      "cell_type": "markdown",
      "source": [
        "Sigmoid function $g(z)$"
      ],
      "metadata": {
        "id": "89rVZWXVDCkV"
      }
    },
    {
      "cell_type": "code",
      "source": [
        "def sigmoid(z):\n",
        "  return 1/(1+np.exp(-z))"
      ],
      "metadata": {
        "id": "UgmWB5yuCK_x"
      },
      "execution_count": 9,
      "outputs": []
    },
    {
      "cell_type": "markdown",
      "source": [
        "$h_{\\theta}(x) = g(\\theta^Tx)$"
      ],
      "metadata": {
        "id": "BSZLecQNDYx0"
      }
    },
    {
      "cell_type": "code",
      "source": [
        "def hypothesis(x,theta):\n",
        "  return np.dot(x,theta)"
      ],
      "metadata": {
        "id": "H1psMmuLDW13"
      },
      "execution_count": 10,
      "outputs": []
    },
    {
      "cell_type": "markdown",
      "source": [
        "dot product"
      ],
      "metadata": {
        "id": "drduzyLwDxdK"
      }
    },
    {
      "cell_type": "code",
      "source": [
        "x1 = [1,2,3]\n",
        "y1 = [1,2,3]\n",
        "np.dot(x1,y1)"
      ],
      "metadata": {
        "colab": {
          "base_uri": "https://localhost:8080/"
        },
        "id": "2aO5DhsyDteo",
        "outputId": "1b824230-acaf-4529-9c7b-efdb2a651015"
      },
      "execution_count": 11,
      "outputs": [
        {
          "output_type": "execute_result",
          "data": {
            "text/plain": [
              "14"
            ]
          },
          "metadata": {},
          "execution_count": 11
        }
      ]
    },
    {
      "cell_type": "markdown",
      "source": [
        "Initialize $\\theta$"
      ],
      "metadata": {
        "id": "egZznlsPEArk"
      }
    },
    {
      "cell_type": "code",
      "source": [
        "initial_theta = np.zeros((x.shape[1],1))\n",
        "initial_theta.shape"
      ],
      "metadata": {
        "colab": {
          "base_uri": "https://localhost:8080/"
        },
        "id": "5aR0Sp4cDweX",
        "outputId": "28f1189f-1431-4412-e8b5-afff9fab328e"
      },
      "execution_count": 12,
      "outputs": [
        {
          "output_type": "execute_result",
          "data": {
            "text/plain": [
              "(3, 1)"
            ]
          },
          "metadata": {},
          "execution_count": 12
        }
      ]
    },
    {
      "cell_type": "code",
      "source": [
        "initial_theta"
      ],
      "metadata": {
        "colab": {
          "base_uri": "https://localhost:8080/"
        },
        "id": "hkkgfqbybF5J",
        "outputId": "2f040264-1a64-4ea9-c71c-9344f5350190"
      },
      "execution_count": 13,
      "outputs": [
        {
          "output_type": "execute_result",
          "data": {
            "text/plain": [
              "array([[0.],\n",
              "       [0.],\n",
              "       [0.]])"
            ]
          },
          "metadata": {},
          "execution_count": 13
        }
      ]
    },
    {
      "cell_type": "markdown",
      "source": [
        "$\\nabla_{\\theta}J(\\theta)$\n",
        "\n",
        "$\\frac{d}{d\\theta_j}J(\\theta)=-\\frac{1}{m}\\sum_{i=1}^m(1-h_{\\theta}(y^ix^i))y^ix^i_j$"
      ],
      "metadata": {
        "id": "l0_nIYkoFZBm"
      }
    },
    {
      "cell_type": "code",
      "source": [
        "def gradient(theta,x,y):\n",
        "  z = y*hypothesis(x,theta)\n",
        "  h = sigmoid(z)\n",
        "  g = -np.mean((1-h)*y*x.T, axis = 1)\n",
        "  return g"
      ],
      "metadata": {
        "id": "fDfSGa9_EeiM"
      },
      "execution_count": 14,
      "outputs": []
    },
    {
      "cell_type": "markdown",
      "source": [
        " #### Hessian Matrix (H)\n",
        "n = # of columns in input data(number of features + 1)\n",
        "\n",
        "i : datasample\n",
        "\n",
        "H in  $\\mathbb{R}^{(n+1)(n+1)}$\n",
        "\n",
        " $\\frac{1}{m} ∑_{i=1}^{m}h_{\\theta}(y^ix^i)(1-h_{\\theta}(y^ix^i))x^i_jx^i_k$"
      ],
      "metadata": {
        "id": "b1KCh0Q9JthB"
      }
    },
    {
      "cell_type": "code",
      "source": [
        "np.zeros((2,3))"
      ],
      "metadata": {
        "colab": {
          "base_uri": "https://localhost:8080/"
        },
        "id": "MQrQGQUOJ4ai",
        "outputId": "d6e35713-5b20-4ac0-aa22-39c7e7e6066a"
      },
      "execution_count": 15,
      "outputs": [
        {
          "output_type": "execute_result",
          "data": {
            "text/plain": [
              "array([[0., 0., 0.],\n",
              "       [0., 0., 0.]])"
            ]
          },
          "metadata": {},
          "execution_count": 15
        }
      ]
    },
    {
      "cell_type": "code",
      "source": [
        "x.shape"
      ],
      "metadata": {
        "colab": {
          "base_uri": "https://localhost:8080/"
        },
        "id": "qF5lIaKkJ_np",
        "outputId": "45746de6-1427-4bc5-faf2-67c4ea758c7d"
      },
      "execution_count": 16,
      "outputs": [
        {
          "output_type": "execute_result",
          "data": {
            "text/plain": [
              "(99, 3)"
            ]
          },
          "metadata": {},
          "execution_count": 16
        }
      ]
    },
    {
      "cell_type": "code",
      "source": [
        "def hessian(theta, x, y):\n",
        "  hess = np.zeros((x.shape[1], x.shape[1]))#n+1 dimension\n",
        "  z = y*hypothesis(x,theta)\n",
        "  h = sigmoid(z)\n",
        "  #2nd dimensional array\n",
        "  for i in range(hess.shape[0]):#accessing data samples(1~m(:99))\n",
        "    for j in range(hess.shape[0]):\n",
        "      if i <= j:\n",
        "        #fill hessian matrix\n",
        "        hess[i][j] = np.mean(h*(1-h)*x[:,i]*x[:,j])\n",
        "        if i != j:\n",
        "          hess[j][i] = hess[i][j]#symmetric matrix\n",
        "  #print(\"hessian shape:\",hess.shape)\n",
        "  return hess"
      ],
      "metadata": {
        "id": "gnqCyn7AJkZf"
      },
      "execution_count": 17,
      "outputs": []
    },
    {
      "cell_type": "markdown",
      "source": [
        "### Newton's method\n",
        "\n",
        "$\\theta := \\theta- H^{-1}\\nabla_{\\theta}J(\\theta)$"
      ],
      "metadata": {
        "id": "2KZYkQ43Lusv"
      }
    },
    {
      "cell_type": "markdown",
      "source": [
        "delta intialize 어떻게 하는거지?"
      ],
      "metadata": {
        "id": "hc78aSRobf0R"
      }
    },
    {
      "cell_type": "code",
      "source": [
        "def newton(initial_theta, x,y, eps):\n",
        "  theta = initial_theta#intialize theta by 0\n",
        "  delta = 1#goal = 0\n",
        "  while delta > eps:#goal: to reduce delta\n",
        "    theta_prev = theta.copy()#create a new copy of theta(different from =)\n",
        "    result_h = hessian(theta,x,y)\n",
        "    \n",
        "    gr = gradient(theta,x,y)\n",
        "    \n",
        "    theta -= np.linalg.inv(result_h).dot(gr)#np.linalg.inv: inverse matrix\n",
        "    \n",
        "    delta = np.linalg.norm(theta-theta_prev, ord = 1)#find distance(delta)\n",
        "  return theta, delta"
      ],
      "metadata": {
        "id": "w4I5wxEjLtXp"
      },
      "execution_count": 18,
      "outputs": []
    },
    {
      "cell_type": "markdown",
      "source": [
        "## Run Newton's method to perform logistic regression"
      ],
      "metadata": {
        "id": "FNq4qwOiPW6T"
      }
    },
    {
      "cell_type": "code",
      "source": [
        "# Initialize theta0\n",
        "theta0 = np.zeros((x.shape[1]))\n",
        "theta0.shape"
      ],
      "metadata": {
        "colab": {
          "base_uri": "https://localhost:8080/"
        },
        "id": "xH5ZRo74eyEP",
        "outputId": "1f942b71-5a4b-47d9-fb81-64227a9ac47f"
      },
      "execution_count": 19,
      "outputs": [
        {
          "output_type": "execute_result",
          "data": {
            "text/plain": [
              "(3,)"
            ]
          },
          "metadata": {},
          "execution_count": 19
        }
      ]
    },
    {
      "cell_type": "code",
      "source": [
        "theta_final, delta = newton(theta0, x,y,1e-6)#eps:le-6"
      ],
      "metadata": {
        "id": "2G89mPuRPRqP"
      },
      "execution_count": 20,
      "outputs": []
    },
    {
      "cell_type": "code",
      "source": [
        "print(\"final theta: {}\".format(theta_final))"
      ],
      "metadata": {
        "colab": {
          "base_uri": "https://localhost:8080/"
        },
        "id": "vGDjuI2pgp1p",
        "outputId": "50a3bca6-29eb-41a8-8d38-532b6daf87b5"
      },
      "execution_count": 21,
      "outputs": [
        {
          "output_type": "stream",
          "name": "stdout",
          "text": [
            "final theta: [-2.6205116   0.76037154  1.17194674]\n"
          ]
        }
      ]
    },
    {
      "cell_type": "code",
      "source": [
        "delta"
      ],
      "metadata": {
        "colab": {
          "base_uri": "https://localhost:8080/"
        },
        "id": "X3XUq4LRgvoH",
        "outputId": "caa009df-4149-4059-ca7b-20698ea85341"
      },
      "execution_count": 22,
      "outputs": [
        {
          "output_type": "execute_result",
          "data": {
            "text/plain": [
              "4.146349930067572e-12"
            ]
          },
          "metadata": {},
          "execution_count": 22
        }
      ]
    },
    {
      "cell_type": "code",
      "source": [
        "print(\"weights: \",theta_final)"
      ],
      "metadata": {
        "colab": {
          "base_uri": "https://localhost:8080/"
        },
        "id": "lg1lVgG8g_Ah",
        "outputId": "3e8774e0-f758-4d7e-8dce-35a11daa4ea1"
      },
      "execution_count": 23,
      "outputs": [
        {
          "output_type": "stream",
          "name": "stdout",
          "text": [
            "weights:  [-2.6205116   0.76037154  1.17194674]\n"
          ]
        }
      ]
    },
    {
      "cell_type": "markdown",
      "source": [
        "# C.\n",
        "Plot the training data (your axes should be x1 and x2, corresponding to the two\n",
        "coordinates of the inputs, and you should use a different symbol for each point plotted to\n",
        "indicate whether that example had label 1 or -1). Also plot on the same figure the decision\n",
        "boundary fit by logistic regression. (This should be a straight line showing the boundary\n",
        "separating the region where hθ(x) > 0.5 from where hθ(x) ≤ 0.5.)"
      ],
      "metadata": {
        "id": "lTVckr1qYL0t"
      }
    },
    {
      "cell_type": "code",
      "source": [
        "b = theta_final[0]\n",
        "w1 = theta_final[1]\n",
        "w2 = theta_final[2]\n",
        "c = -b/w2\n",
        "m = -w1/w2"
      ],
      "metadata": {
        "id": "J4PpWue2kBYj"
      },
      "execution_count": 24,
      "outputs": []
    },
    {
      "cell_type": "code",
      "source": [
        "xmin, xmax = -0.5, 10\n",
        "xd = np.array([xmin, xmax])\n",
        "yd = m*xd + c"
      ],
      "metadata": {
        "id": "MecTVy0skOhO"
      },
      "execution_count": 25,
      "outputs": []
    },
    {
      "cell_type": "code",
      "source": [
        "logistic_y = np.array(logistic_y)\n",
        "logistic_y = list(logistic_y)\n",
        "x_pos = []\n",
        "x_neg = []\n",
        "for i in range(len(logistic_y)):\n",
        "  if logistic_y[i] == 1.:\n",
        "    x_pos.append(logistic_x[i])\n",
        "  else:\n",
        "    x_neg.append(logistic_x[i])\n",
        "pos_x_ = []\n",
        "pos_y_ = []\n",
        "for x, y in x_pos:\n",
        "  pos_x_.append(x)\n",
        "  pos_y_.append(y)\n",
        "pos_df = pd.DataFrame({\"x0\":pos_x_,\"x1\":pos_y_})\n",
        "x_ = []\n",
        "y_ = []\n",
        "for x, y in x_neg:\n",
        "  x_.append(x)\n",
        "  y_.append(y)\n",
        "neg_df = pd.DataFrame({\"x0\":x_,\"x1\":y_})\n",
        "import matplotlib.pyplot as plt\n",
        "plt.title(\"Distribution of binary classification samples\")\n",
        "plt.scatter(pos_df[\"x0\"],pos_df[\"x1\"],label = \"pos(1)\")\n",
        "plt.scatter(neg_df[\"x0\"],neg_df[\"x1\"],label=\"neg(-1)\")\n",
        "plt.plot(xd, yd, 'k', lw=1, ls='--')\n",
        "plt.xlabel(\"x1\")\n",
        "plt.ylabel(\"x2\")\n",
        "plt.legend()\n",
        "plt.show()"
      ],
      "metadata": {
        "colab": {
          "base_uri": "https://localhost:8080/",
          "height": 295
        },
        "id": "dAItsb_ikRSZ",
        "outputId": "b123996c-ec3b-499a-e5b5-21fd37593de5"
      },
      "execution_count": 37,
      "outputs": [
        {
          "output_type": "display_data",
          "data": {
            "image/png": "[encoded data removed]",
            "text/plain": [
              "<Figure size 432x288 with 1 Axes>"
            ]
          },
          "metadata": {
            "needs_background": "light"
          }
        }
      ]
    },
    {
      "cell_type": "code",
      "source": [
        "hyp_pos_x1 = []\n",
        "hyp_pos_x2 = []\n",
        "hyp_neg_x1 = []\n",
        "hyp_neg_x2 = []\n",
        "correct = 0\n",
        "error = 0\n",
        "for x1,x2,answer in zip(df_x[\"x1\"],df_x[\"x2\"],df_y[\"y\"]):\n",
        "  z = theta_final[0]+x1*theta_final[1]+x2*theta_final[2]\n",
        "  hyp = sigmoid(z)\n",
        "  #print(\"hypothesis:\",hyp,\"answer:\",answer)\n",
        "  if hyp>0.5:\n",
        "    final_hyp = 1\n",
        "    hyp_pos_x1.append(x1)\n",
        "    hyp_pos_x2.append(x2)\n",
        "  else:\n",
        "    final_hyp = -1\n",
        "    hyp_neg_x1.append(x1)\n",
        "    hyp_neg_x2.append(x2)\n",
        "  if final_hyp != answer:\n",
        "    error+=1\n",
        "  else:\n",
        "    correct+=1\n",
        "print(\"number of errors: {} accuracy: {:.2f}\".format(error, correct/(error+correct)))"
      ],
      "metadata": {
        "colab": {
          "base_uri": "https://localhost:8080/"
        },
        "id": "XkOCDVHlYWFU",
        "outputId": "a0f74bc2-f80b-4932-d8fc-324fa3c55276"
      },
      "execution_count": 39,
      "outputs": [
        {
          "output_type": "stream",
          "name": "stdout",
          "text": [
            "number of errors: 11 accuracy: 0.89\n"
          ]
        }
      ]
    },
    {
      "cell_type": "code",
      "source": [
        "hyp_pos = pd.DataFrame({\"x1\":hyp_pos_x1, \"x2\":hyp_pos_x2})\n",
        "hyp_neg = pd.DataFrame({\"x1\":hyp_neg_x1, \"x2\":hyp_neg_x2})\n",
        "plt.title(\"Distribution of binary hypothesis samples with decision boundary\")\n",
        "plt.plot(xd, yd, 'k', lw=1, ls='-')\n",
        "plt.scatter(hyp_pos[\"x1\"],hyp_pos[\"x2\"],label = \"pos(1)\")\n",
        "plt.scatter(hyp_neg[\"x1\"],hyp_neg[\"x2\"],label=\"neg(-1)\")\n",
        "plt.xlabel(\"x1\")\n",
        "plt.ylabel(\"x2\")\n",
        "plt.legend()\n",
        "plt.show()"
      ],
      "metadata": {
        "colab": {
          "base_uri": "https://localhost:8080/",
          "height": 295
        },
        "id": "cN1odAe8XQUX",
        "outputId": "2b327d74-3044-49ed-d5f7-84d3db87e964"
      },
      "execution_count": 41,
      "outputs": [
        {
          "output_type": "display_data",
          "data": {
            "image/png": "[encoded data removed]",
            "text/plain": [
              "<Figure size 432x288 with 1 Axes>"
            ]
          },
          "metadata": {
            "needs_background": "light"
          }
        }
      ]
    },
    {
      "cell_type": "markdown",
      "source": [
        "## See if scikit-learn's regression returns the same result."
      ],
      "metadata": {
        "id": "tQSqdw6ehHvU"
      }
    },
    {
      "cell_type": "markdown",
      "source": [
        "### Step 1: Importing all the required libraries"
      ],
      "metadata": {
        "id": "4LnredZAhm-q"
      }
    },
    {
      "cell_type": "code",
      "source": [
        "import seaborn as sns\n",
        "import matplotlib.pyplot as plt\n",
        "from sklearn import preprocessing, svm\n",
        "from sklearn.model_selection import train_test_split\n",
        "from sklearn.linear_model import LinearRegression"
      ],
      "metadata": {
        "id": "7X3jS-CdhHAA"
      },
      "execution_count": 42,
      "outputs": []
    },
    {
      "cell_type": "code",
      "source": [
        "df_x = pd.read_csv(\"logistic_x.txt\", sep=\"\\ +\", names=[\"x1\",\"x2\"], header=None, engine='python')\n",
        "df_y = pd.read_csv('logistic_y.txt', sep='\\ +', names=[\"y\"], header=None, engine='python')\n",
        "df_y = df_y.astype(int)"
      ],
      "metadata": {
        "id": "QYcRvdm5hpaJ"
      },
      "execution_count": 43,
      "outputs": []
    },
    {
      "cell_type": "code",
      "source": [
        "sk_y = df_y[\"y\"].values\n",
        "sk_x = df_x[[\"x1\",\"x2\"]].values"
      ],
      "metadata": {
        "id": "jTZe1zN5hxR3"
      },
      "execution_count": 44,
      "outputs": []
    },
    {
      "cell_type": "code",
      "source": [
        "# Splitting the data into training and testing data\n",
        "X_train, X_test, y_train, y_test = train_test_split(sk_x, sk_y, test_size = 0.05)"
      ],
      "metadata": {
        "id": "Nf6blzE_h74C"
      },
      "execution_count": 58,
      "outputs": []
    },
    {
      "cell_type": "code",
      "source": [
        "regr = LinearRegression()\n",
        "  \n",
        "regr.fit(X_train, y_train)\n",
        "print(regr.score(X_test, y_test))"
      ],
      "metadata": {
        "colab": {
          "base_uri": "https://localhost:8080/"
        },
        "id": "e1fZ-tMdiLfp",
        "outputId": "b6775d01-ba34-487e-eb1d-265404e0f9e8"
      },
      "execution_count": 59,
      "outputs": [
        {
          "output_type": "stream",
          "name": "stdout",
          "text": [
            "0.2584948487824087\n"
          ]
        }
      ]
    },
    {
      "cell_type": "code",
      "source": [
        "regr.coef_"
      ],
      "metadata": {
        "colab": {
          "base_uri": "https://localhost:8080/"
        },
        "id": "VEDC41AaiRng",
        "outputId": "ea5c0423-f8ee-4c93-90df-e46b5a057138"
      },
      "execution_count": 60,
      "outputs": [
        {
          "output_type": "execute_result",
          "data": {
            "text/plain": [
              "array([0.20813909, 0.31198857])"
            ]
          },
          "metadata": {},
          "execution_count": 60
        }
      ]
    },
    {
      "cell_type": "code",
      "source": [
        "regr.intercept_"
      ],
      "metadata": {
        "colab": {
          "base_uri": "https://localhost:8080/"
        },
        "id": "SZwYyUV7idox",
        "outputId": "fba54eac-bded-4741-ea0a-29993b66fba1"
      },
      "execution_count": 61,
      "outputs": [
        {
          "output_type": "execute_result",
          "data": {
            "text/plain": [
              "-0.7430348265852706"
            ]
          },
          "metadata": {},
          "execution_count": 61
        }
      ]
    },
    {
      "cell_type": "markdown",
      "source": [
        "count error and accuracy"
      ],
      "metadata": {
        "id": "GsSp9Qc3YyEC"
      }
    },
    {
      "cell_type": "code",
      "source": [
        "hyp_pos_x1 = []\n",
        "hyp_pos_x2 = []\n",
        "hyp_neg_x1 = []\n",
        "hyp_neg_x2 = []\n",
        "correct = 0\n",
        "error = 0\n",
        "\n",
        "for x1,x2,answer in zip(df_x[\"x1\"],df_x[\"x2\"],df_y[\"y\"]):\n",
        "  z = regr.intercept_+x1*regr.coef_[0]+x2*regr.coef_[1]\n",
        "  hyp = sigmoid(z)\n",
        "  #print(\"hypothesis:\",hyp,\"answer:\",answer)\n",
        "  if hyp>0.5:\n",
        "    final_hyp = 1\n",
        "    hyp_pos_x1.append(x1)\n",
        "    hyp_pos_x2.append(x2)\n",
        "  else:\n",
        "    final_hyp = -1\n",
        "    hyp_neg_x1.append(x1)\n",
        "    hyp_neg_x2.append(x2)\n",
        "  if final_hyp != answer:\n",
        "    error+=1\n",
        "  else:\n",
        "    correct+=1\n",
        "print(\"number of errors: {} accuracy: {:.2f}\".format(error, correct/(error+correct)))"
      ],
      "metadata": {
        "colab": {
          "base_uri": "https://localhost:8080/"
        },
        "id": "I9x-aIHiY1b-",
        "outputId": "af62963e-872e-4827-9e8d-23875ba25103"
      },
      "execution_count": 62,
      "outputs": [
        {
          "output_type": "stream",
          "name": "stdout",
          "text": [
            "number of errors: 10 accuracy: 0.90\n"
          ]
        }
      ]
    },
    {
      "cell_type": "code",
      "source": [
        "hyp_pos = pd.DataFrame({\"x1\":hyp_pos_x1, \"x2\":hyp_pos_x2})\n",
        "hyp_neg = pd.DataFrame({\"x1\":hyp_neg_x1, \"x2\":hyp_neg_x2})\n",
        "plt.title(\"Distribution of binary hypothesis samples(made by scikit-learn) with decision boundary\")\n",
        "plt.plot(xd, yd, 'k', lw=1, ls='-', label = \"NT\")#newton's method decision boundary\n",
        "plt.plot(xd, yd1, 'k', lw=2, ls='--', color = \"red\", label = \"sk\")#scikit-learn's decision boundary\n",
        "plt.scatter(hyp_pos[\"x1\"],hyp_pos[\"x2\"],label = \"pos(1)\")\n",
        "plt.scatter(hyp_neg[\"x1\"],hyp_neg[\"x2\"],label=\"neg(-1)\")\n",
        "plt.xlabel(\"x1\")\n",
        "plt.ylabel(\"x2\")\n",
        "plt.legend()\n",
        "plt.show()"
      ],
      "metadata": {
        "colab": {
          "base_uri": "https://localhost:8080/",
          "height": 295
        },
        "id": "u933josFZMP8",
        "outputId": "f9ff94b6-9d3b-4eec-97de-0506a871182e"
      },
      "execution_count": 72,
      "outputs": [
        {
          "output_type": "display_data",
          "data": {
            "image/png": "[encoded data removed]",
            "text/plain": [
              "<Figure size 432x288 with 1 Axes>"
            ]
          },
          "metadata": {
            "needs_background": "light"
          }
        }
      ]
    },
    {
      "cell_type": "markdown",
      "source": [
        "### comparison on the original dataset"
      ],
      "metadata": {
        "id": "TL9L8tkWaGS3"
      }
    },
    {
      "cell_type": "code",
      "source": [
        "logistic_y = np.array(logistic_y)\n",
        "logistic_y = list(logistic_y)\n",
        "x_pos = []\n",
        "x_neg = []\n",
        "for i in range(len(logistic_y)):\n",
        "  if logistic_y[i] == 1.:\n",
        "    x_pos.append(logistic_x[i])\n",
        "  else:\n",
        "    x_neg.append(logistic_x[i])\n",
        "pos_x_ = []\n",
        "pos_y_ = []\n",
        "for x, y in x_pos:\n",
        "  pos_x_.append(x)\n",
        "  pos_y_.append(y)\n",
        "pos_df = pd.DataFrame({\"x0\":pos_x_,\"x1\":pos_y_})\n",
        "x_ = []\n",
        "y_ = []\n",
        "for x, y in x_neg:\n",
        "  x_.append(x)\n",
        "  y_.append(y)\n",
        "neg_df = pd.DataFrame({\"x0\":x_,\"x1\":y_})\n",
        "import matplotlib.pyplot as plt\n",
        "plt.title(\"Distribution of binary classification samples and two different decision boundaries\")\n",
        "plt.scatter(pos_df[\"x0\"],pos_df[\"x1\"],label = \"pos(1)\")\n",
        "plt.scatter(neg_df[\"x0\"],neg_df[\"x1\"],label=\"neg(-1)\")\n",
        "plt.plot(xd, yd, 'k', lw=2, ls='-', label = \"NT\")#newton's method decision boundary\n",
        "plt.plot(xd, yd1, 'k', lw=2, ls='--', color = \"red\", label = \"scikit-learn\")#scikit-learn's decision boundary\n",
        "plt.xlabel(\"x1\")\n",
        "plt.ylabel(\"x2\")\n",
        "plt.legend()\n",
        "plt.show()"
      ],
      "metadata": {
        "colab": {
          "base_uri": "https://localhost:8080/",
          "height": 295
        },
        "id": "4E8aSubWaE00",
        "outputId": "adef6111-4d87-4b44-8769-ac3502fa2dab"
      },
      "execution_count": 75,
      "outputs": [
        {
          "output_type": "display_data",
          "data": {
            "image/png": "[encoded data removed]",
            "text/plain": [
              "<Figure size 432x288 with 1 Axes>"
            ]
          },
          "metadata": {
            "needs_background": "light"
          }
        }
      ]
    }
  ]
}