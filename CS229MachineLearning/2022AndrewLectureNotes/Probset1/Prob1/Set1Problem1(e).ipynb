{
  "nbformat": 4,
  "nbformat_minor": 0,
  "metadata": {
    "colab": {
      "name": "Set1Problem1(e).ipynb",
      "provenance": [],
      "collapsed_sections": [],
      "authorship_tag": "ABX9TyPwteO2/OFzHawPWinnjqOE",
      "include_colab_link": true
    },
    "kernelspec": {
      "name": "python3",
      "display_name": "Python 3"
    },
    "language_info": {
      "name": "python"
    }
  },
  "cells": [
    {
      "cell_type": "markdown",
      "metadata": {
        "id": "view-in-github",
        "colab_type": "text"
      },
      "source": [
        "<a href=\"https://colab.research.google.com/github/superbunny38/MachineLearning/blob/main/CS229MachineLearning/2022AndrewLectureNotes/Probset1/Prob1/Set1Problem1(e).ipynb\" target=\"_parent\"><img src=\"https://colab.research.google.com/assets/colab-badge.svg\" alt=\"Open In Colab\"/></a>"
      ]
    },
    {
      "cell_type": "markdown",
      "source": [
        "**Rights:**\n",
        "\n",
        "*Assignment made by: Prof. Andrew Ng, Stanford*\n",
        "\n",
        "*Assignment solved by: Chaeeun Ryu, SKKU*"
      ],
      "metadata": {
        "id": "iZMxs5fF3_fE"
      }
    },
    {
      "cell_type": "markdown",
      "source": [
        "# Prob 1. (e)\n",
        "Fill in the code to calculate $Φ$, $\\mu_0$, $\\mu_1$, and $Σ$, use these parameters to derive $θ$ and use the resulting GDA model to make predictions on the validation set."
      ],
      "metadata": {
        "id": "rXJYrySciMPr"
      }
    },
    {
      "cell_type": "code",
      "source": [
        "import pandas as pd\n",
        "import numpy as np\n",
        "import matplotlib.pyplot as plt"
      ],
      "metadata": {
        "id": "NpO-50n_jOHx"
      },
      "execution_count": 1,
      "outputs": []
    },
    {
      "cell_type": "markdown",
      "source": [
        "## Check data"
      ],
      "metadata": {
        "id": "0BQHAhQwjJwe"
      }
    },
    {
      "cell_type": "code",
      "source": [
        "train_df = pd.read_csv('/content/ds2_train.csv')\n",
        "train_df.head()"
      ],
      "metadata": {
        "colab": {
          "base_uri": "https://localhost:8080/",
          "height": 206
        },
        "id": "F1c7J4FXjMOF",
        "outputId": "5778e419-3e87-4e3d-e6f9-76e1efc8fbcc"
      },
      "execution_count": 2,
      "outputs": [
        {
          "output_type": "execute_result",
          "data": {
            "text/plain": [
              "        x_1       x_2    y\n",
              "0  3.759481  7.507940  0.0\n",
              "1  3.422057  4.991203  0.0\n",
              "2  2.778818  4.112071  0.0\n",
              "3  4.018066  5.653732  0.0\n",
              "4  1.806062  4.685966  0.0"
            ],
            "text/html": [
              "\n",
              "  <div id=\"df-b2032ea4-07c6-4407-9a20-2c79dec1df02\">\n",
              "    <div class=\"colab-df-container\">\n",
              "      <div>\n",
              "<style scoped>\n",
              "    .dataframe tbody tr th:only-of-type {\n",
              "        vertical-align: middle;\n",
              "    }\n",
              "\n",
              "    .dataframe tbody tr th {\n",
              "        vertical-align: top;\n",
              "    }\n",
              "\n",
              "    .dataframe thead th {\n",
              "        text-align: right;\n",
              "    }\n",
              "</style>\n",
              "<table border=\"1\" class=\"dataframe\">\n",
              "  <thead>\n",
              "    <tr style=\"text-align: right;\">\n",
              "      <th></th>\n",
              "      <th>x_1</th>\n",
              "      <th>x_2</th>\n",
              "      <th>y</th>\n",
              "    </tr>\n",
              "  </thead>\n",
              "  <tbody>\n",
              "    <tr>\n",
              "      <th>0</th>\n",
              "      <td>3.759481</td>\n",
              "      <td>7.507940</td>\n",
              "      <td>0.0</td>\n",
              "    </tr>\n",
              "    <tr>\n",
              "      <th>1</th>\n",
              "      <td>3.422057</td>\n",
              "      <td>4.991203</td>\n",
              "      <td>0.0</td>\n",
              "    </tr>\n",
              "    <tr>\n",
              "      <th>2</th>\n",
              "      <td>2.778818</td>\n",
              "      <td>4.112071</td>\n",
              "      <td>0.0</td>\n",
              "    </tr>\n",
              "    <tr>\n",
              "      <th>3</th>\n",
              "      <td>4.018066</td>\n",
              "      <td>5.653732</td>\n",
              "      <td>0.0</td>\n",
              "    </tr>\n",
              "    <tr>\n",
              "      <th>4</th>\n",
              "      <td>1.806062</td>\n",
              "      <td>4.685966</td>\n",
              "      <td>0.0</td>\n",
              "    </tr>\n",
              "  </tbody>\n",
              "</table>\n",
              "</div>\n",
              "      <button class=\"colab-df-convert\" onclick=\"convertToInteractive('df-b2032ea4-07c6-4407-9a20-2c79dec1df02')\"\n",
              "              title=\"Convert this dataframe to an interactive table.\"\n",
              "              style=\"display:none;\">\n",
              "        \n",
              "  <svg xmlns=\"http://www.w3.org/2000/svg\" height=\"24px\"viewBox=\"0 0 24 24\"\n",
              "       width=\"24px\">\n",
              "    <path d=\"M0 0h24v24H0V0z\" fill=\"none\"/>\n",
              "    <path d=\"M18.56 5.44l.94 2.06.94-2.06 2.06-.94-2.06-.94-.94-2.06-.94 2.06-2.06.94zm-11 1L8.5 8.5l.94-2.06 2.06-.94-2.06-.94L8.5 2.5l-.94 2.06-2.06.94zm10 10l.94 2.06.94-2.06 2.06-.94-2.06-.94-.94-2.06-.94 2.06-2.06.94z\"/><path d=\"M17.41 7.96l-1.37-1.37c-.4-.4-.92-.59-1.43-.59-.52 0-1.04.2-1.43.59L10.3 9.45l-7.72 7.72c-.78.78-.78 2.05 0 2.83L4 21.41c.39.39.9.59 1.41.59.51 0 1.02-.2 1.41-.59l7.78-7.78 2.81-2.81c.8-.78.8-2.07 0-2.86zM5.41 20L4 18.59l7.72-7.72 1.47 1.35L5.41 20z\"/>\n",
              "  </svg>\n",
              "      </button>\n",
              "      \n",
              "  <style>\n",
              "    .colab-df-container {\n",
              "      display:flex;\n",
              "      flex-wrap:wrap;\n",
              "      gap: 12px;\n",
              "    }\n",
              "\n",
              "    .colab-df-convert {\n",
              "      background-color: #E8F0FE;\n",
              "      border: none;\n",
              "      border-radius: 50%;\n",
              "      cursor: pointer;\n",
              "      display: none;\n",
              "      fill: #1967D2;\n",
              "      height: 32px;\n",
              "      padding: 0 0 0 0;\n",
              "      width: 32px;\n",
              "    }\n",
              "\n",
              "    .colab-df-convert:hover {\n",
              "      background-color: #E2EBFA;\n",
              "      box-shadow: 0px 1px 2px rgba(60, 64, 67, 0.3), 0px 1px 3px 1px rgba(60, 64, 67, 0.15);\n",
              "      fill: #174EA6;\n",
              "    }\n",
              "\n",
              "    [theme=dark] .colab-df-convert {\n",
              "      background-color: #3B4455;\n",
              "      fill: #D2E3FC;\n",
              "    }\n",
              "\n",
              "    [theme=dark] .colab-df-convert:hover {\n",
              "      background-color: #434B5C;\n",
              "      box-shadow: 0px 1px 3px 1px rgba(0, 0, 0, 0.15);\n",
              "      filter: drop-shadow(0px 1px 2px rgba(0, 0, 0, 0.3));\n",
              "      fill: #FFFFFF;\n",
              "    }\n",
              "  </style>\n",
              "\n",
              "      <script>\n",
              "        const buttonEl =\n",
              "          document.querySelector('#df-b2032ea4-07c6-4407-9a20-2c79dec1df02 button.colab-df-convert');\n",
              "        buttonEl.style.display =\n",
              "          google.colab.kernel.accessAllowed ? 'block' : 'none';\n",
              "\n",
              "        async function convertToInteractive(key) {\n",
              "          const element = document.querySelector('#df-b2032ea4-07c6-4407-9a20-2c79dec1df02');\n",
              "          const dataTable =\n",
              "            await google.colab.kernel.invokeFunction('convertToInteractive',\n",
              "                                                     [key], {});\n",
              "          if (!dataTable) return;\n",
              "\n",
              "          const docLinkHtml = 'Like what you see? Visit the ' +\n",
              "            '<a target=\"_blank\" href=https://colab.research.google.com/notebooks/data_table.ipynb>data table notebook</a>'\n",
              "            + ' to learn more about interactive tables.';\n",
              "          element.innerHTML = '';\n",
              "          dataTable['output_type'] = 'display_data';\n",
              "          await google.colab.output.renderOutput(dataTable, element);\n",
              "          const docLink = document.createElement('div');\n",
              "          docLink.innerHTML = docLinkHtml;\n",
              "          element.appendChild(docLink);\n",
              "        }\n",
              "      </script>\n",
              "    </div>\n",
              "  </div>\n",
              "  "
            ]
          },
          "metadata": {},
          "execution_count": 2
        }
      ]
    },
    {
      "cell_type": "markdown",
      "source": [
        "# Linear Models"
      ],
      "metadata": {
        "id": "sA5t4yDfh41X"
      }
    },
    {
      "cell_type": "code",
      "source": [
        "class LinearModel(object):\n",
        "    \"\"\"Base class for linear models.\"\"\"\n",
        "\n",
        "    def __init__(self, step_size=0.2, max_iter=100, eps=1e-5,\n",
        "                 theta_0=None, verbose=True):\n",
        "        \"\"\"\n",
        "        Args:\n",
        "            step_size: Step size for iterative solvers only.\n",
        "            max_iter: Maximum number of iterations for the solver.\n",
        "            eps: Threshold for determining convergence.\n",
        "            theta_0: Initial guess for theta. If None, use the zero vector.\n",
        "            verbose: Print loss values during training.\n",
        "        \"\"\"\n",
        "        self.theta = theta_0\n",
        "        self.step_size = step_size\n",
        "        self.max_iter = max_iter\n",
        "        self.eps = eps\n",
        "        self.verbose = verbose\n",
        "\n",
        "    def fit(self, x, y):\n",
        "        \"\"\"Run solver to fit linear model.\n",
        "\n",
        "        Args:\n",
        "            x: Training example inputs. Shape (m, n).\n",
        "            y: Training example labels. Shape (m,).\n",
        "        \"\"\"\n",
        "        raise NotImplementedError('Subclass of LinearModel must implement fit method.')\n",
        "\n",
        "    def predict(self, x):\n",
        "        \"\"\"Make a prediction given new inputs x.\n",
        "\n",
        "        Args:\n",
        "            x: Inputs of shape (m, n).\n",
        "\n",
        "        Returns:\n",
        "            Outputs of shape (m,).\n",
        "        \"\"\"\n",
        "        raise NotImplementedError('Subclass of LinearModel must implement predict method.')"
      ],
      "metadata": {
        "id": "2IN3V2HGh0wy"
      },
      "execution_count": 3,
      "outputs": []
    },
    {
      "cell_type": "markdown",
      "source": [
        "# Utils"
      ],
      "metadata": {
        "id": "B87YNqMeh05P"
      }
    },
    {
      "cell_type": "code",
      "source": [
        "import matplotlib.pyplot as plt\n",
        "import numpy as np\n",
        "\n",
        "\n",
        "def add_intercept(x):\n",
        "    \"\"\"Add intercept to matrix x.\n",
        "\n",
        "    Args:\n",
        "        x: 2D NumPy array.\n",
        "\n",
        "    Returns:\n",
        "        New matrix same as x with 1's in the 0th column.\n",
        "    \"\"\"\n",
        "    new_x = np.zeros((x.shape[0], x.shape[1] + 1), dtype=x.dtype)\n",
        "    new_x[:, 0] = 1\n",
        "    new_x[:, 1:] = x\n",
        "\n",
        "    return new_x\n",
        "\n",
        "\n",
        "def load_dataset(csv_path, label_col='y', add_intercept=False):\n",
        "    \"\"\"Load dataset from a CSV file.\n",
        "\n",
        "    Args:\n",
        "         csv_path: Path to CSV file containing dataset.\n",
        "         label_col: Name of column to use as labels (should be 'y' or 'l').\n",
        "         add_intercept: Add an intercept entry to x-values.\n",
        "\n",
        "    Returns:\n",
        "        xs: Numpy array of x-values (inputs).\n",
        "        ys: Numpy array of y-values (labels).\n",
        "    \"\"\"\n",
        "\n",
        "    def add_intercept_fn(x):\n",
        "        global add_intercept\n",
        "        return add_intercept(x)\n",
        "\n",
        "    # Validate label_col argument\n",
        "    allowed_label_cols = ('y', 't')\n",
        "    if label_col not in allowed_label_cols:\n",
        "        raise ValueError('Invalid label_col: {} (expected {})'\n",
        "                         .format(label_col, allowed_label_cols))\n",
        "\n",
        "    # Load headers\n",
        "    with open(csv_path, 'r') as csv_fh:\n",
        "        headers = csv_fh.readline().strip().split(',')\n",
        "\n",
        "    # Load features and labels\n",
        "    x_cols = [i for i in range(len(headers)) if headers[i].startswith('x')]\n",
        "    l_cols = [i for i in range(len(headers)) if headers[i] == label_col]\n",
        "    inputs = np.loadtxt(csv_path, delimiter=',', skiprows=1, usecols=x_cols)\n",
        "    labels = np.loadtxt(csv_path, delimiter=',', skiprows=1, usecols=l_cols)\n",
        "\n",
        "    if inputs.ndim == 1:\n",
        "        inputs = np.expand_dims(inputs, -1)\n",
        "\n",
        "    if add_intercept:\n",
        "        inputs = add_intercept_fn(inputs)\n",
        "\n",
        "    return inputs, labels\n",
        "\n",
        "\n",
        "def plot(x, y, theta, save_path=None, correction=1.0):\n",
        "    \"\"\"Plot dataset and fitted logistic regression parameters.\n",
        "    Args:\n",
        "        x: Matrix of training examples, one per row.\n",
        "        y: Vector of labels in {0, 1}.\n",
        "        theta: Vector of parameters for logistic regression model.\n",
        "        save_path: Path to save the plot.\n",
        "        correction: Correction factor to apply (Problem 2(e) only).\n",
        "    \"\"\"\n",
        "    # Plot dataset\n",
        "    plt.figure()\n",
        "    plt.plot(x[y == 1, -2], x[y == 1, -1], 'bx', linewidth=2)\n",
        "    plt.plot(x[y == 0, -2], x[y == 0, -1], 'go', linewidth=2)\n",
        "\n",
        "    # Plot decision boundary (found by solving for theta^T x = 0)\n",
        "    margin1 = (max(x[:, -2]) - min(x[:, -2]))*0.2\n",
        "    margin2 = (max(x[:, -1]) - min(x[:, -1]))*0.2\n",
        "    x1 = np.arange(min(x[:, -2])-margin1, max(x[:, -2])+margin1, 0.01)\n",
        "    x2 = -(theta[0] / theta[2] * correction + theta[1] / theta[2] * x1)\n",
        "    plt.plot(x1, x2, c='red', linewidth=2)\n",
        "    plt.xlim(x[:, -2].min()-margin1, x[:, -2].max()+margin1)\n",
        "    plt.ylim(x[:, -1].min()-margin2, x[:, -1].max()+margin2)\n",
        "\n",
        "    # Add labels and save to disk\n",
        "    plt.xlabel('x1')\n",
        "    plt.ylabel('x2')\n",
        "    if save_path is not None:\n",
        "        plt.savefig(save_path)"
      ],
      "metadata": {
        "id": "BeUVkRZzhwZK"
      },
      "execution_count": 4,
      "outputs": []
    },
    {
      "cell_type": "code",
      "source": [
        "import math\n",
        "def sigmoid(z):\n",
        "  result = 1/(1+np.exp(-z))\n",
        "  return result"
      ],
      "metadata": {
        "id": "alxJT9NDpERB"
      },
      "execution_count": 5,
      "outputs": []
    },
    {
      "cell_type": "code",
      "source": [
        "def convert_numpy(x):\n",
        "  list_ = []\n",
        "  for _ in x:\n",
        "    list_.append(np.array(_))\n",
        "  return list_[0],list_[1],list_[2], list_[3]"
      ],
      "metadata": {
        "id": "o7ZlQDr1ulwG"
      },
      "execution_count": 6,
      "outputs": []
    },
    {
      "cell_type": "code",
      "source": [
        "def acc(h,y):\n",
        "  as_labels = []\n",
        "  for _ in h:\n",
        "    if _ > 0.5:\n",
        "      as_labels.append(1.)\n",
        "    elif _ <= 0.5:\n",
        "      as_labels.append(0.)\n",
        "  as_labels, y = np.array(as_labels), np.array(y)\n",
        "  #print(as_labels)\n",
        "  return (as_labels == y).sum()/len(as_labels)"
      ],
      "metadata": {
        "id": "F_PFf7FaxY-K"
      },
      "execution_count": 7,
      "outputs": []
    },
    {
      "cell_type": "code",
      "execution_count": 8,
      "metadata": {
        "id": "GiFvz8Lbhk06"
      },
      "outputs": [],
      "source": [
        "import numpy as np\n",
        "\n",
        "\n",
        "def main(train_path = \"/content/ds2_train.csv\", eval_path = \"/content/ds2_valid.csv\", pred_path = None):\n",
        "    \"\"\"Problem 1(e): Gaussian discriminant analysis (GDA)\n",
        "\n",
        "    Args:\n",
        "        train_path: Path to CSV file containing dataset for training.\n",
        "        eval_path: Path to CSV file containing dataset for evaluation.\n",
        "        pred_path: Path to save predictions.\n",
        "    \"\"\"\n",
        "    # Load dataset\n",
        "    x_train, y_train = load_dataset(train_path, add_intercept=False)\n",
        "    print(f\"train dataset loaded (x: {x_train.shape}, y: {y_train.shape})\")\n",
        "    \n",
        "    # *** START CODE HERE ***\n",
        "    clf = GDA()\n",
        "    phi, mu_0, mu_1, sigma = clf.fit(x_train, y_train)\n",
        "    #print(f\"params: {phi, mu_0, mu_1, sigma}\")\n",
        "    predicted=[]\n",
        "    for x_ in x_train:\n",
        "      pred = clf.predict(x_)\n",
        "      predicted.append(pred)\n",
        "    train_acc = acc(predicted, y_train)\n",
        "    print(f\"train_acc: {train_acc}\")\n",
        "\n",
        "\n",
        "\n",
        "\n",
        "    # Validation dataset\n",
        "    x_val, y_val = load_dataset(eval_path, add_intercept= False)\n",
        "    print(f\"eval dataset loaded (x: {x_val.shape}, y: {y_val.shape})\")\n",
        "    predicted_val = []\n",
        "    for x_ in x_val:\n",
        "      pred = clf.predict(x_)\n",
        "      predicted_val.append(pred)\n",
        "    val_acc = acc(predicted_val, y_val)\n",
        "    print(f\"val_acc: {val_acc}\")\n",
        "    \n",
        "    #return phi, mu_0, mu_1, sigma\n",
        "    return predicted, predicted_val, clf#predictions for train dset & validation dset\n",
        "    # *** END CODE HERE ***\n",
        "\n",
        "\n",
        "class GDA(LinearModel):\n",
        "    \"\"\"Gaussian Discriminant Analysis.\n",
        "\n",
        "    Example usage:\n",
        "        > clf = GDA()\n",
        "        > clf.fit(x_train, y_train)\n",
        "        > clf.predict(x_eval)\n",
        "\n",
        "    \"\"\"\n",
        "    def __init__(self, phi = None, mu_0 = None, mu_1 = None, sigma = None, theta = None, theta_0 = None):\n",
        "      self.phi = phi\n",
        "      self.mu_0 = mu_0\n",
        "      self.mu_1 = mu_1\n",
        "      self.sigma = sigma\n",
        "      self.theta = theta\n",
        "      self.theta_0 = theta_0\n",
        "\n",
        "    def fit(self, x, y):\n",
        "        \"\"\"Fit a GDA model to training set given by x and y.\n",
        "\n",
        "        Args:\n",
        "            x: Training example inputs. Shape (m, n).\n",
        "            y: Training example labels. Shape (m,).\n",
        "\n",
        "        Returns:\n",
        "            theta: GDA model parameters.\n",
        "        \"\"\"\n",
        "        # *** START CODE HERE ***\n",
        "        m = len(y)\n",
        "        x_train, y_train = x,y\n",
        "        assert m == x.shape[0]\n",
        "        phi = np.array(np.where(y_train == 1)).shape[1]/m\n",
        "        zero_indices = np.array(np.where(y_train == 0))[0]\n",
        "        mu_0 =np.sum(x_train[zero_indices],axis = 0)/len(np.array(np.where(y_train == 0))[0])\n",
        "        one_indices = np.array(np.where(y_train == 1))[0]\n",
        "        mu_1 = np.sum(x_train[one_indices],axis = 0)/len(np.array(np.where(y_train == 1))[0])\n",
        "        sum_sigma = 0\n",
        "        for x_, y_ in zip(x, y):\n",
        "          x_ = np.array(x_)\n",
        "          if y_ == 1:\n",
        "            tmp = x_-mu_1\n",
        "            tmp = np.array(tmp).reshape(-1,1)\n",
        "            sum_sigma += np.matmul(tmp, tmp.T)\n",
        "          elif y_ == 0:\n",
        "            tmp = x_ - mu_0\n",
        "            tmp = np.array(tmp).reshape(-1,1)\n",
        "            sum_sigma += np.matmul(tmp, tmp.T)\n",
        "        sigma = sum_sigma/m\n",
        "        self.phi = phi\n",
        "        self.mu_0 = mu_0\n",
        "        self.mu_1 = mu_1\n",
        "        self.sigma = sigma\n",
        "        \n",
        "  \n",
        "        return phi, mu_0, mu_1, sigma\n",
        "        # *** END CODE HERE ***\n",
        "\n",
        "    def predict(self, x):\n",
        "        \"\"\"Make a prediction given new inputs x.\n",
        "\n",
        "        Args:\n",
        "            x: Inputs of shape (m, n).\n",
        "\n",
        "        Returns:\n",
        "            Outputs of shape (m,).\n",
        "        \"\"\"\n",
        "        \n",
        "\n",
        "        # *** START CODE HERE ***\n",
        "        phi, mu_0, mu_1, sigma = self.phi, self.mu_0, self.mu_1, self.sigma\n",
        "        phi, mu_0, mu_1, sigma = convert_numpy([phi, mu_0, mu_1, sigma])\n",
        "        mu_0, mu_1 = mu_0.reshape(-1,1),mu_1.reshape(-1,1)\n",
        "       \n",
        "        theta_transpose = -np.matmul((mu_0 - mu_1).T, np.linalg.inv(sigma))\n",
        "        #print(f\"shapes: {mu_0.T.shape, np.linalg.inv(sigma).shape, mu_0.shape}\")\n",
        "        #print(f\"shapes: {mu_1.T.shape, np.linalg.inv(sigma).shape,mu_1.shape}\")\n",
        "        first_matmul = np.matmul(np.matmul(mu_0.T, np.linalg.inv(sigma)), mu_0)\n",
        "        second_matmul = np.matmul(np.matmul(mu_1.T, np.linalg.inv(sigma)),mu_1)\n",
        "        #print(f\"first matmul: {first_matmul} second matmul: {second_matmul}\")\n",
        "        #print(f\"phi: {phi}\")\n",
        "        \n",
        "        theta_0 = 0.5*(first_matmul-second_matmul)-math.log((1.-phi)/phi)\n",
        "        x = np.array(x).reshape(-1,1)\n",
        "        z = np.matmul(theta_transpose,x)+theta_0\n",
        "        p_1 = sigmoid(z)\n",
        "        self.theta = theta_transpose.T\n",
        "        self.theta_0 = theta_0[0]\n",
        "        #print(f\"theta: {theta_transpose.T}, theta0: {theta_0}\")\n",
        "        return p_1\n",
        "        # *** END CODE HERE"
      ]
    },
    {
      "cell_type": "code",
      "source": [
        "pred_train, pred_val, gda = main()"
      ],
      "metadata": {
        "colab": {
          "base_uri": "https://localhost:8080/"
        },
        "id": "puGteYZLzuyJ",
        "outputId": "9fbaebab-5a25-4801-da2f-5bbb3c5ec6bf"
      },
      "execution_count": 9,
      "outputs": [
        {
          "output_type": "stream",
          "name": "stdout",
          "text": [
            "train dataset loaded (x: (800, 2), y: (800,))\n",
            "train_acc: 0.91375\n",
            "eval dataset loaded (x: (100, 2), y: (100,))\n",
            "val_acc: 0.91\n"
          ]
        }
      ]
    },
    {
      "cell_type": "code",
      "source": [
        "train_path = \"/content/ds2_train.csv\"\n",
        "eval_path = \"/content/ds2_valid.csv\""
      ],
      "metadata": {
        "id": "dFGYgwcs0vtG"
      },
      "execution_count": 10,
      "outputs": []
    },
    {
      "cell_type": "code",
      "source": [
        "x_train, y_train = load_dataset(train_path, add_intercept=False)\n",
        "x_val, y_val = load_dataset(eval_path, add_intercept= False)"
      ],
      "metadata": {
        "id": "5Jdsx9ds1A1L"
      },
      "execution_count": 11,
      "outputs": []
    },
    {
      "cell_type": "code",
      "source": [
        "def plot(x, y, theta, save_path=None, correction=1.0, title = \"\"):\n",
        "    \"\"\"Plot dataset and fitted logistic regression parameters.\n",
        "    Args:\n",
        "        x: Matrix of training examples, one per row.\n",
        "        y: Vector of labels in {0, 1}.\n",
        "        theta: Vector of parameters for logistic regression model.\n",
        "        save_path: Path to save the plot.\n",
        "        correction: Correction factor to apply (Problem 2(e) only).\n",
        "    \"\"\"\n",
        "    # Plot dataset\n",
        "    plt.figure()\n",
        "    plt.title(title)\n",
        "    plt.plot(x[y == 1, -2], x[y == 1, -1], 'bx', linewidth=2)\n",
        "    plt.plot(x[y == 0, -2], x[y == 0, -1], 'go', linewidth=2)\n",
        "\n",
        "    # Plot decision boundary (found by solving for theta^T x = 0)\n",
        "    margin1 = (max(x[:, -2]) - min(x[:, -2]))*0.2\n",
        "    margin2 = (max(x[:, -1]) - min(x[:, -1]))*0.2\n",
        "    \n",
        "    x1 = np.arange(min(x[:, -2])-margin1, max(x[:, -2])+margin1, 0.01)\n",
        "    x2 = -(theta[0] / theta[2] * correction + theta[1] / theta[2] * x1)\n",
        "    plt.plot(x1, x2, c='red', linewidth=2)\n",
        "    plt.xlim(x[:, -2].min()-margin1, x[:, -2].max()+margin1)\n",
        "    plt.ylim(x[:, -1].min()-margin2, x[:, -1].max()+margin2)\n",
        "\n",
        "    # Add labels and save to disk\n",
        "    plt.xlabel('x1')\n",
        "    plt.ylabel('x2')\n",
        "    if save_path is not None:\n",
        "        plt.savefig(save_path)"
      ],
      "metadata": {
        "id": "a1wZz8xY13o0"
      },
      "execution_count": 12,
      "outputs": []
    },
    {
      "cell_type": "code",
      "source": [
        "real_thetas = np.stack([gda.theta_0[0]]+list(gda.theta.flatten()))\n",
        "real_thetas"
      ],
      "metadata": {
        "colab": {
          "base_uri": "https://localhost:8080/"
        },
        "id": "Wpqhjqgf2-4d",
        "outputId": "0f97827b-38fc-45c3-c653-8698f5f04617"
      },
      "execution_count": 13,
      "outputs": [
        {
          "output_type": "execute_result",
          "data": {
            "text/plain": [
              "array([ 2.50874989,  3.76951271, -3.94657107])"
            ]
          },
          "metadata": {},
          "execution_count": 13
        }
      ]
    },
    {
      "cell_type": "code",
      "source": [
        "y_predicted = []\n",
        "for x in x_train:\n",
        "  tmp_pred = gda.predict(x)\n",
        "  y_predicted.append(tmp_pred)\n",
        "y_predicted = np.array(y_predicted).flatten()\n",
        "y_pred = []\n",
        "for _ in y_predicted:\n",
        "  if _ >0.5:\n",
        "    y_pred.append(1)\n",
        "  else:\n",
        "    y_pred.append(0)\n",
        "y_pred = np.array(y_pred)"
      ],
      "metadata": {
        "id": "XqXrUVhIF37N"
      },
      "execution_count": 43,
      "outputs": []
    },
    {
      "cell_type": "code",
      "source": [
        "y_predicted_val = []\n",
        "for x in x_val:\n",
        "  tmp_pred = gda.predict(x)\n",
        "  y_predicted_val.append(tmp_pred)\n",
        "y_predicted_val = np.array(y_predicted_val).flatten()\n",
        "y_pred_val = []\n",
        "for _ in y_predicted_val:\n",
        "  if _ >0.5:\n",
        "    y_pred_val.append(1)\n",
        "  else:\n",
        "    y_pred_val.append(0)\n",
        "y_pred_val = np.array(y_pred_val)"
      ],
      "metadata": {
        "id": "Y8eLCiDFHGWV"
      },
      "execution_count": 46,
      "outputs": []
    },
    {
      "cell_type": "code",
      "source": [
        "plot(x_train, y_train, real_thetas, title = \"decision boundary (GDA) on GT train dataset\")"
      ],
      "metadata": {
        "colab": {
          "base_uri": "https://localhost:8080/",
          "height": 295
        },
        "id": "w9Z8lBng185q",
        "outputId": "2768037c-e99d-46cc-8d61-af31a99ca579"
      },
      "execution_count": 49,
      "outputs": [
        {
          "output_type": "display_data",
          "data": {
            "text/plain": [
              "<Figure size 432x288 with 1 Axes>"
            ],
            "image/png": "[encoded data removed]"
          },
          "metadata": {
            "needs_background": "light"
          }
        }
      ]
    },
    {
      "cell_type": "code",
      "source": [
        "plot(x_train, y_pred, real_thetas, title = \"decision boundary (GDA) on predicted train dataset\")"
      ],
      "metadata": {
        "colab": {
          "base_uri": "https://localhost:8080/",
          "height": 295
        },
        "id": "cPDhGiqrF2EE",
        "outputId": "6f202686-d32d-4bf3-9584-f755dba9a09f"
      },
      "execution_count": 45,
      "outputs": [
        {
          "output_type": "display_data",
          "data": {
            "text/plain": [
              "<Figure size 432x288 with 1 Axes>"
            ],
            "image/png": "[encoded data removed]"
          },
          "metadata": {
            "needs_background": "light"
          }
        }
      ]
    },
    {
      "cell_type": "code",
      "source": [
        "plot(x_val, y_val, real_thetas, title = \"decision boundary (GDA) on GT validation dataset\")"
      ],
      "metadata": {
        "colab": {
          "base_uri": "https://localhost:8080/",
          "height": 295
        },
        "id": "AZn8AndP3t6c",
        "outputId": "2bff1dd4-4761-4531-cbfb-eb8c44a97f95"
      },
      "execution_count": 48,
      "outputs": [
        {
          "output_type": "display_data",
          "data": {
            "text/plain": [
              "<Figure size 432x288 with 1 Axes>"
            ],
            "image/png": "[encoded data removed]"
          },
          "metadata": {
            "needs_background": "light"
          }
        }
      ]
    },
    {
      "cell_type": "code",
      "source": [
        "plot(x_val, y_pred_val, real_thetas, title = \"decision boundary (GDA) on predicted validation dataset\")"
      ],
      "metadata": {
        "colab": {
          "base_uri": "https://localhost:8080/",
          "height": 295
        },
        "id": "XjL49-c-HVfC",
        "outputId": "73b4bad4-953d-4592-bb26-e1d7cc1e7eb9"
      },
      "execution_count": 47,
      "outputs": [
        {
          "output_type": "display_data",
          "data": {
            "text/plain": [
              "<Figure size 432x288 with 1 Axes>"
            ],
            "image/png": "[encoded data removed]"
          },
          "metadata": {
            "needs_background": "light"
          }
        }
      ]
    }
  ]
}