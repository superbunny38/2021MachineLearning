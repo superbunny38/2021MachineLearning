{
  "nbformat": 4,
  "nbformat_minor": 0,
  "metadata": {
    "colab": {
      "name": "Set1Problem2(c)(d)(e).ipynb",
      "provenance": [],
      "collapsed_sections": [],
      "toc_visible": true,
      "authorship_tag": "ABX9TyOygPvDnWS7+PMb9lKLCSbL",
      "include_colab_link": true
    },
    "kernelspec": {
      "name": "python3",
      "display_name": "Python 3"
    },
    "language_info": {
      "name": "python"
    }
  },
  "cells": [
    {
      "cell_type": "markdown",
      "metadata": {
        "id": "view-in-github",
        "colab_type": "text"
      },
      "source": [
        "<a href=\"https://colab.research.google.com/github/superbunny38/MachineLearning/blob/main/CS229MachineLearning/2022AndrewLectureNotes/Probset1/Prob2/Set1Problem2(c)(d)(e).ipynb\" target=\"_parent\"><img src=\"https://colab.research.google.com/assets/colab-badge.svg\" alt=\"Open In Colab\"/></a>"
      ]
    },
    {
      "cell_type": "code",
      "execution_count": 1,
      "metadata": {
        "id": "tnzQp5shM6dZ"
      },
      "outputs": [],
      "source": [
        "import numpy as pd\n",
        "import pandas as pd\n",
        "import os\n",
        "import matplotlib.pyplot as plt\n",
        "import seaborn as sns\n",
        "import math\n",
        "import copy"
      ]
    },
    {
      "cell_type": "markdown",
      "source": [
        "# (c)\n",
        "\n",
        "The following three problems will deal with a dataset which we have provided in the following files:\n",
        "\n",
        "**data/ds3_{train,valid,test}.csv**\n",
        "\n",
        "Each file contains the following columns: $x_1$, $x_2$, $y$, $t$. As in Problem 1, there is one example per row.\n",
        "First we will consider the ideal case, where we have access to the true t-labels for training. In src/p02cde_posonly, write a logistic classifier that uses $x_1$ and $x_2$ as input features, and train it using only t-labels (you can ignore the y-labels for this part). Output the trained model's predictions on the test set to the file specified in the code.\n"
      ],
      "metadata": {
        "id": "ixwaB7VUNNgA"
      }
    },
    {
      "cell_type": "markdown",
      "source": [
        "## Check data"
      ],
      "metadata": {
        "id": "hiK53RNmPVA6"
      }
    },
    {
      "cell_type": "code",
      "source": [
        "pd.read_csv('/content/ds3_train.csv').head()"
      ],
      "metadata": {
        "colab": {
          "base_uri": "https://localhost:8080/",
          "height": 206
        },
        "id": "B_qS3xBaPXau",
        "outputId": "760f8301-b054-42e3-edd0-6e11c4200b1d"
      },
      "execution_count": 2,
      "outputs": [
        {
          "output_type": "execute_result",
          "data": {
            "text/plain": [
              "     t       x_1       x_2  y\n",
              "0  0.0 -1.548319 -2.762987  0\n",
              "1  0.0 -3.958870 -0.612780  0\n",
              "2  0.0 -2.276375  0.614934  0\n",
              "3  0.0  0.556287 -3.931406  0\n",
              "4  0.0 -1.491000 -2.159297  0"
            ],
            "text/html": [
              "\n",
              "  <div id=\"df-f4629873-c698-4aec-a465-17d4c4742997\">\n",
              "    <div class=\"colab-df-container\">\n",
              "      <div>\n",
              "<style scoped>\n",
              "    .dataframe tbody tr th:only-of-type {\n",
              "        vertical-align: middle;\n",
              "    }\n",
              "\n",
              "    .dataframe tbody tr th {\n",
              "        vertical-align: top;\n",
              "    }\n",
              "\n",
              "    .dataframe thead th {\n",
              "        text-align: right;\n",
              "    }\n",
              "</style>\n",
              "<table border=\"1\" class=\"dataframe\">\n",
              "  <thead>\n",
              "    <tr style=\"text-align: right;\">\n",
              "      <th></th>\n",
              "      <th>t</th>\n",
              "      <th>x_1</th>\n",
              "      <th>x_2</th>\n",
              "      <th>y</th>\n",
              "    </tr>\n",
              "  </thead>\n",
              "  <tbody>\n",
              "    <tr>\n",
              "      <th>0</th>\n",
              "      <td>0.0</td>\n",
              "      <td>-1.548319</td>\n",
              "      <td>-2.762987</td>\n",
              "      <td>0</td>\n",
              "    </tr>\n",
              "    <tr>\n",
              "      <th>1</th>\n",
              "      <td>0.0</td>\n",
              "      <td>-3.958870</td>\n",
              "      <td>-0.612780</td>\n",
              "      <td>0</td>\n",
              "    </tr>\n",
              "    <tr>\n",
              "      <th>2</th>\n",
              "      <td>0.0</td>\n",
              "      <td>-2.276375</td>\n",
              "      <td>0.614934</td>\n",
              "      <td>0</td>\n",
              "    </tr>\n",
              "    <tr>\n",
              "      <th>3</th>\n",
              "      <td>0.0</td>\n",
              "      <td>0.556287</td>\n",
              "      <td>-3.931406</td>\n",
              "      <td>0</td>\n",
              "    </tr>\n",
              "    <tr>\n",
              "      <th>4</th>\n",
              "      <td>0.0</td>\n",
              "      <td>-1.491000</td>\n",
              "      <td>-2.159297</td>\n",
              "      <td>0</td>\n",
              "    </tr>\n",
              "  </tbody>\n",
              "</table>\n",
              "</div>\n",
              "      <button class=\"colab-df-convert\" onclick=\"convertToInteractive('df-f4629873-c698-4aec-a465-17d4c4742997')\"\n",
              "              title=\"Convert this dataframe to an interactive table.\"\n",
              "              style=\"display:none;\">\n",
              "        \n",
              "  <svg xmlns=\"http://www.w3.org/2000/svg\" height=\"24px\"viewBox=\"0 0 24 24\"\n",
              "       width=\"24px\">\n",
              "    <path d=\"M0 0h24v24H0V0z\" fill=\"none\"/>\n",
              "    <path d=\"M18.56 5.44l.94 2.06.94-2.06 2.06-.94-2.06-.94-.94-2.06-.94 2.06-2.06.94zm-11 1L8.5 8.5l.94-2.06 2.06-.94-2.06-.94L8.5 2.5l-.94 2.06-2.06.94zm10 10l.94 2.06.94-2.06 2.06-.94-2.06-.94-.94-2.06-.94 2.06-2.06.94z\"/><path d=\"M17.41 7.96l-1.37-1.37c-.4-.4-.92-.59-1.43-.59-.52 0-1.04.2-1.43.59L10.3 9.45l-7.72 7.72c-.78.78-.78 2.05 0 2.83L4 21.41c.39.39.9.59 1.41.59.51 0 1.02-.2 1.41-.59l7.78-7.78 2.81-2.81c.8-.78.8-2.07 0-2.86zM5.41 20L4 18.59l7.72-7.72 1.47 1.35L5.41 20z\"/>\n",
              "  </svg>\n",
              "      </button>\n",
              "      \n",
              "  <style>\n",
              "    .colab-df-container {\n",
              "      display:flex;\n",
              "      flex-wrap:wrap;\n",
              "      gap: 12px;\n",
              "    }\n",
              "\n",
              "    .colab-df-convert {\n",
              "      background-color: #E8F0FE;\n",
              "      border: none;\n",
              "      border-radius: 50%;\n",
              "      cursor: pointer;\n",
              "      display: none;\n",
              "      fill: #1967D2;\n",
              "      height: 32px;\n",
              "      padding: 0 0 0 0;\n",
              "      width: 32px;\n",
              "    }\n",
              "\n",
              "    .colab-df-convert:hover {\n",
              "      background-color: #E2EBFA;\n",
              "      box-shadow: 0px 1px 2px rgba(60, 64, 67, 0.3), 0px 1px 3px 1px rgba(60, 64, 67, 0.15);\n",
              "      fill: #174EA6;\n",
              "    }\n",
              "\n",
              "    [theme=dark] .colab-df-convert {\n",
              "      background-color: #3B4455;\n",
              "      fill: #D2E3FC;\n",
              "    }\n",
              "\n",
              "    [theme=dark] .colab-df-convert:hover {\n",
              "      background-color: #434B5C;\n",
              "      box-shadow: 0px 1px 3px 1px rgba(0, 0, 0, 0.15);\n",
              "      filter: drop-shadow(0px 1px 2px rgba(0, 0, 0, 0.3));\n",
              "      fill: #FFFFFF;\n",
              "    }\n",
              "  </style>\n",
              "\n",
              "      <script>\n",
              "        const buttonEl =\n",
              "          document.querySelector('#df-f4629873-c698-4aec-a465-17d4c4742997 button.colab-df-convert');\n",
              "        buttonEl.style.display =\n",
              "          google.colab.kernel.accessAllowed ? 'block' : 'none';\n",
              "\n",
              "        async function convertToInteractive(key) {\n",
              "          const element = document.querySelector('#df-f4629873-c698-4aec-a465-17d4c4742997');\n",
              "          const dataTable =\n",
              "            await google.colab.kernel.invokeFunction('convertToInteractive',\n",
              "                                                     [key], {});\n",
              "          if (!dataTable) return;\n",
              "\n",
              "          const docLinkHtml = 'Like what you see? Visit the ' +\n",
              "            '<a target=\"_blank\" href=https://colab.research.google.com/notebooks/data_table.ipynb>data table notebook</a>'\n",
              "            + ' to learn more about interactive tables.';\n",
              "          element.innerHTML = '';\n",
              "          dataTable['output_type'] = 'display_data';\n",
              "          await google.colab.output.renderOutput(dataTable, element);\n",
              "          const docLink = document.createElement('div');\n",
              "          docLink.innerHTML = docLinkHtml;\n",
              "          element.appendChild(docLink);\n",
              "        }\n",
              "      </script>\n",
              "    </div>\n",
              "  </div>\n",
              "  "
            ]
          },
          "metadata": {},
          "execution_count": 2
        }
      ]
    },
    {
      "cell_type": "markdown",
      "source": [
        "## Util"
      ],
      "metadata": {
        "id": "N5RnHHsQOl96"
      }
    },
    {
      "cell_type": "code",
      "source": [
        "import matplotlib.pyplot as plt\n",
        "import numpy as np\n",
        "\n",
        "\n",
        "def add_intercept(x):\n",
        "    \"\"\"Add intercept to matrix x.\n",
        "\n",
        "    Args:\n",
        "        x: 2D NumPy array.\n",
        "\n",
        "    Returns:\n",
        "        New matrix same as x with 1's in the 0th column.\n",
        "    \"\"\"\n",
        "    new_x = np.zeros((x.shape[0], x.shape[1] + 1), dtype=x.dtype)\n",
        "    new_x[:, 0] = 1\n",
        "    new_x[:, 1:] = x\n",
        "\n",
        "    return new_x\n",
        "\n",
        "\n",
        "def load_dataset(csv_path, label_col='y', add_intercept=False):\n",
        "    \"\"\"Load dataset from a CSV file.\n",
        "\n",
        "    Args:\n",
        "         csv_path: Path to CSV file containing dataset.\n",
        "         label_col: Name of column to use as labels (should be 'y' or 'l').\n",
        "         add_intercept: Add an intercept entry to x-values.\n",
        "\n",
        "    Returns:\n",
        "        xs: Numpy array of x-values (inputs).\n",
        "        ys: Numpy array of y-values (labels).\n",
        "    \"\"\"\n",
        "\n",
        "    def add_intercept_fn(x):\n",
        "        global add_intercept\n",
        "        return add_intercept(x)\n",
        "\n",
        "    # Validate label_col argument\n",
        "    allowed_label_cols = ('y', 't')\n",
        "    if label_col not in allowed_label_cols:\n",
        "        raise ValueError('Invalid label_col: {} (expected {})'\n",
        "                         .format(label_col, allowed_label_cols))\n",
        "\n",
        "    # Load headers\n",
        "    with open(csv_path, 'r') as csv_fh:\n",
        "        headers = csv_fh.readline().strip().split(',')\n",
        "\n",
        "    # Load features and labels\n",
        "    x_cols = [i for i in range(len(headers)) if headers[i].startswith('x')]\n",
        "    l_cols = [i for i in range(len(headers)) if headers[i] == label_col]\n",
        "    inputs = np.loadtxt(csv_path, delimiter=',', skiprows=1, usecols=x_cols)\n",
        "    labels = np.loadtxt(csv_path, delimiter=',', skiprows=1, usecols=l_cols)\n",
        "\n",
        "    if inputs.ndim == 1:\n",
        "        inputs = np.expand_dims(inputs, -1)\n",
        "\n",
        "    if add_intercept:\n",
        "        inputs = add_intercept_fn(inputs)\n",
        "\n",
        "    return inputs, labels\n",
        "\n",
        "\n",
        "def plot(x, y, theta, save_path=None, correction=1.0):\n",
        "    \"\"\"Plot dataset and fitted logistic regression parameters.\n",
        "    Args:\n",
        "        x: Matrix of training examples, one per row.\n",
        "        y: Vector of labels in {0, 1}.\n",
        "        theta: Vector of parameters for logistic regression model.\n",
        "        save_path: Path to save the plot.\n",
        "        correction: Correction factor to apply (Problem 2(e) only).\n",
        "    \"\"\"\n",
        "    # Plot dataset\n",
        "    plt.figure()\n",
        "    plt.plot(x[y == 1, -2], x[y == 1, -1], 'bx', linewidth=2)\n",
        "    plt.plot(x[y == 0, -2], x[y == 0, -1], 'go', linewidth=2)\n",
        "\n",
        "    # Plot decision boundary (found by solving for theta^T x = 0)\n",
        "    margin1 = (max(x[:, -2]) - min(x[:, -2]))*0.2\n",
        "    margin2 = (max(x[:, -1]) - min(x[:, -1]))*0.2\n",
        "    x1 = np.arange(min(x[:, -2])-margin1, max(x[:, -2])+margin1, 0.01)\n",
        "    x2 = -(theta[0] / theta[2] * correction + theta[1] / theta[2] * x1)\n",
        "    plt.plot(x1, x2, c='red', linewidth=2)\n",
        "    plt.xlim(x[:, -2].min()-margin1, x[:, -2].max()+margin1)\n",
        "    plt.ylim(x[:, -1].min()-margin2, x[:, -1].max()+margin2)\n",
        "\n",
        "    # Add labels and save to disk\n",
        "    plt.xlabel('x1')\n",
        "    plt.ylabel('x2')\n",
        "    if save_path is not None:\n",
        "        plt.savefig(save_path)"
      ],
      "metadata": {
        "id": "Uz6OeOvFOnEx"
      },
      "execution_count": 3,
      "outputs": []
    },
    {
      "cell_type": "code",
      "source": [
        "def sigmoid(theta, x):\n",
        "  theta_t = np.transpose(theta)\n",
        "  z = np.dot(theta_t,x)\n",
        "  result = 1/(1+np.exp(-z))\n",
        "  return result"
      ],
      "metadata": {
        "id": "sTeHs0L_QBE1"
      },
      "execution_count": 4,
      "outputs": []
    },
    {
      "cell_type": "code",
      "source": [
        "def criterion(h,y):#h: pred, y: actual\n",
        "  assert len(h) == len(y)\n",
        "  m = len(h)\n",
        "  loss = 0.\n",
        "  for i in range(m):\n",
        "    loss += -y[i]*math.log(h[i])-(1.-y[i])*math.log(1.-h[i])#BCE\n",
        "  #print(\"sum of loss:\",loss)\n",
        "  loss = loss/m\n",
        "  return loss"
      ],
      "metadata": {
        "id": "eJY1L8pUQDCz"
      },
      "execution_count": 5,
      "outputs": []
    },
    {
      "cell_type": "code",
      "source": [
        "def acc(h,y):\n",
        "  as_labels = []\n",
        "  for _ in h:\n",
        "    if _ > 0.5:\n",
        "      as_labels.append(1.)\n",
        "    elif _ <= 0.5:\n",
        "      as_labels.append(0.)\n",
        "  as_labels, y = np.array(as_labels), np.array(y)\n",
        "  #print(as_labels)\n",
        "  return (as_labels == y).sum()/len(as_labels)"
      ],
      "metadata": {
        "id": "eqyX8XVjQFKI"
      },
      "execution_count": 6,
      "outputs": []
    },
    {
      "cell_type": "code",
      "source": [
        "def check_convergence(previous_theta, new_theta):\n",
        "  eps=1e-5\n",
        "  dists = []\n",
        "  for p, n in zip(previous_theta, new_theta):\n",
        "    dists.append(abs(p-n))\n",
        "  diff = np.mean(dists)\n",
        "  print(f\"difference between thetas: {diff}\")\n",
        "  if diff < eps:\n",
        "    return True\n",
        "  else:\n",
        "    return False"
      ],
      "metadata": {
        "id": "_2Zkv-jnQKZH"
      },
      "execution_count": 7,
      "outputs": []
    },
    {
      "cell_type": "code",
      "source": [
        "#linear model\n",
        "class LinearModel(object):\n",
        "    \"\"\"Base class for linear models.\"\"\"\n",
        "\n",
        "    def __init__(self, step_size=0.2, max_iter=100, eps=1e-5,\n",
        "                 theta_0=[0.,0.,0.], verbose=True):\n",
        "        \"\"\"\n",
        "        Args:\n",
        "            step_size: Step size for iterative solvers only.\n",
        "            max_iter: Maximum number of iterations for the solver.\n",
        "            eps: Threshold for determining convergence.\n",
        "            theta_0: Initial guess for theta. If None, use the zero vector.\n",
        "            verbose: Print loss values during training.\n",
        "        \"\"\"\n",
        "        self.theta = theta_0\n",
        "        self.step_size = step_size\n",
        "        self.max_iter = max_iter\n",
        "        self.eps = eps\n",
        "        self.verbose = verbose\n",
        "\n",
        "    def fit(self, x, y):\n",
        "        \"\"\"Run solver to fit linear model.\n",
        "\n",
        "        Args:\n",
        "            x: Training example inputs. Shape (m, n).\n",
        "            y: Training example labels. Shape (m,).\n",
        "        \"\"\"\n",
        "        assert x.shape[0] ==  y.shape[0]\n",
        "        \n",
        "\n",
        "        ###### Find inverse of Hessian\n",
        "        #derivative of sigmoid\n",
        "        \n",
        "        prev_theta = copy.deepcopy(self.theta)\n",
        "        \n",
        "        m = x.shape[0]\n",
        "        Hessians = []\n",
        "        for j in range(3):\n",
        "          tmp_H = []\n",
        "          for k in range(3):\n",
        "            result_ = 0.\n",
        "            for i in range(m):\n",
        "              g = sigmoid(theta = self.theta, x = x[i])\n",
        "              result_ += g*(1-g)*x[i][j]*x[i][k]\n",
        "            result_ = result_/m\n",
        "            tmp_H.append(result_)\n",
        "          Hessians.append(tmp_H)\n",
        "        inverse_H = np.linalg.inv(Hessians)\n",
        "        #print(inverse_H)\n",
        "        \n",
        "        ###### Partial derivatives of l(theta) with respect to the theta's\n",
        "        i,j = 0,0\n",
        "        partial_d = []#partial d for x_0, x_1, x_2\n",
        "        for j in range(3):#for all features\n",
        "          tmp_d = 0. # save partial derivative for each feature\n",
        "          for i in range(m):\n",
        "            tmp_d += x[i][j]*(y[i]-sigmoid(theta = self.theta, x = x[i]))\n",
        "          tmp_d = tmp_d/m\n",
        "          partial_d.append(tmp_d)\n",
        "        assert len(partial_d) == x.shape[1]\n",
        "        #partial_d = np.array(partial_d).reshape(-1,1)\n",
        "        #print(\"inverse of Hessian:\\n\", inverse_H)\n",
        "        #print(\"\\n\\npartial deriv:\\n\", partial_d)\n",
        "\n",
        "        update_ = np.matmul(inverse_H, partial_d)\n",
        "\n",
        "        #calculate loss\n",
        "        preds = self.predict(x)\n",
        "        #print(\"predicted: \",preds[0])\n",
        "        #print(\"preds:\",preds, \"y:\",y)\n",
        "        #print(\"types:\",type(preds), type(y))\n",
        "        train_loss = criterion(preds, list(y))\n",
        "        print(\"train loss: \", train_loss)\n",
        "        train_acc = acc(preds, list(y))\n",
        "        print(\"train acc: \", train_acc)\n",
        "        #check convergence\n",
        "        #print(\"prev:\",prev_theta, \"new:\",update_)\n",
        "        self.theta = self.theta + update_\n",
        "        if check_convergence(prev_theta, self.theta) == True:\n",
        "          print(f\"Weights converged. (theta: {self.theta}\")\n",
        "          return True\n",
        "        return False\n",
        "        #print(update_)\n",
        "        #raise NotImplementedError('Subclass of LinearModel must implement fit method.')\n",
        "\n",
        "    def predict(self, x):\n",
        "        \"\"\"Make a prediction given new inputs x.\n",
        "\n",
        "        Args:\n",
        "            x: Inputs of shape (m, n).\n",
        "\n",
        "        Returns:\n",
        "            Outputs of shape (m,).\n",
        "        \"\"\"\n",
        "        preds = []\n",
        "        for sample in x:\n",
        "          #1/(1+np.exp(-z))\n",
        "          pred = sigmoid(self.theta, sample)\n",
        "          preds.append(pred)\n",
        "        return preds\n",
        "        #raise NotImplementedError('Subclass of LinearModel must implement predict method.')"
      ],
      "metadata": {
        "id": "g5ACAMJUOxS1"
      },
      "execution_count": 8,
      "outputs": []
    },
    {
      "cell_type": "code",
      "source": [
        "class LogisticRegression(LinearModel):\n",
        "    \"\"\"Logistic regression with Newton's Method as the solver.\n",
        "\n",
        "    Example usage:\n",
        "        > clf = LogisticRegression()\n",
        "        > clf.fit(x_train, y_train)\n",
        "        > clf.predict(x_eval)\n",
        "    \"\"\"\n",
        "    def __init__(self):\n",
        "      self.model = LinearModel()\n",
        "\n",
        "    def fit(self, x, y):\n",
        "        \"\"\"Run Newton's Method to minimize J(theta) for logistic regression.\n",
        "\n",
        "        Args:\n",
        "            x: Training example inputs. Shape (m, n).\n",
        "            y: Training example labels. Shape (m,).\n",
        "        \"\"\"\n",
        "      \n",
        "        # *** START CODE HERE ***\n",
        "        #model = LinearModel()\n",
        "        model = self.model\n",
        "        i = 0\n",
        "        iter = 10\n",
        "        while i<iter:#True:\n",
        "          print(f\"epoch: {i}\")\n",
        "          check_conv = model.fit(x,y)\n",
        "          if check_conv == True:\n",
        "            break\n",
        "          i += 1\n",
        "        # *** END CODE HERE ***\n",
        "\n",
        "    def predict(self, x):\n",
        "        \"\"\"Make a prediction given new inputs x.\n",
        "\n",
        "        Args:\n",
        "            x: Inputs of shape (m, n).\n",
        "\n",
        "        Returns:\n",
        "            Outputs of shape (m,).\n",
        "        \"\"\"\n",
        "        # *** START CODE HERE ***\n",
        "        return self.model.predict(x)\n",
        "        # *** END CODE HERE ***"
      ],
      "metadata": {
        "id": "2rB12p7kQaCq"
      },
      "execution_count": 9,
      "outputs": []
    },
    {
      "cell_type": "code",
      "source": [
        "def save_df(x=None,y=None,pred = None, name = None):\n",
        "  print(f\"Saving df for {name}.csv\")\n",
        "  df = pd.DataFrame({'y':y, 'pred':pred})\n",
        "  df.to_csv(f'{name}.csv', index = False)"
      ],
      "metadata": {
        "id": "84v9ys7Ysjt7"
      },
      "execution_count": 10,
      "outputs": []
    },
    {
      "cell_type": "markdown",
      "source": [
        "## Main"
      ],
      "metadata": {
        "id": "RSeQXhWgO3GP"
      }
    },
    {
      "cell_type": "code",
      "source": [
        "import numpy as np\n",
        "\n",
        "# Character to replace with sub-problem letter in plot_path/pred_path\n",
        "WILDCARD = 'X'\n",
        "\n",
        "\n",
        "def main(train_path = '/content/ds3_train.csv', valid_path = '/content/ds3_valid.csv', test_path = '/content/ds3_test.csv', pred_path = WILDCARD):\n",
        "    \"\"\"Problem 2: Logistic regression for incomplete, positive-only labels.\n",
        "\n",
        "    Run under the following conditions:\n",
        "        1. on y-labels,\n",
        "        2. on l-labels,\n",
        "        3. on l-labels with correction factor alpha.\n",
        "\n",
        "    Args:\n",
        "        train_path: Path to CSV file containing training set.\n",
        "        valid_path: Path to CSV file containing validation set.\n",
        "        test_path: Path to CSV file containing test set.\n",
        "        pred_path: Path to save predictions.\n",
        "    \"\"\"\n",
        "    pred_path_c = pred_path.replace(WILDCARD, 'c')\n",
        "    pred_path_d = pred_path.replace(WILDCARD, 'd')\n",
        "    pred_path_e = pred_path.replace(WILDCARD, 'e')\n",
        "\n",
        "    # *** START CODE HERE ***\n",
        "    # Part (c): Train and test on true labels\n",
        "    x_train, y_train = load_dataset(train_path, add_intercept=True,label_col='t')\n",
        "    print(f\"train dataset loaded (x with intercept on 0th col: {x_train.shape}, y: {y_train.shape})\")\n",
        "    \n",
        "    print(\"================Training Starts===========\\n\")\n",
        "    clf = LogisticRegression()\n",
        "    clf.fit(x_train, y_train)\n",
        "    pred_train = clf.predict(x_train)\n",
        "    save_df(x_train, y_train, pred_train, \"train_pred\")\n",
        "    train_loss = criterion(pred_train, y_train)\n",
        "    train_acc = acc(pred_train, y_train)\n",
        "    print(f\"train loss: {train_loss} train acc: {train_acc}\")\n",
        "    \n",
        "    #x_val, y_val = load_dataset(eval_path, add_intercept=True)\n",
        "  \n",
        "    #print(f\"validation dataset loaded (x with intercept on 0th col: {x_val.shape}, y: {y_val.shape})\")\n",
        "    \n",
        "    #pred_val = clf.predict(x_val)\n",
        "    #val_loss = criterion(pred_val, y_val)\n",
        "    #val_acc = acc(pred_val, y_val)\n",
        "    #count = 0\n",
        "    #print(\"validation loss:\",val_loss)\n",
        "    #print(\"validation acc:\",val_acc)\n",
        "\n",
        "    # Make sure to save outputs to pred_path_c\n",
        "    # Part (d): Train on y-labels and test on true labels\n",
        "    # Make sure to save outputs to pred_path_d\n",
        "    # Part (e): Apply correction factor using validation set and test on true labels\n",
        "    # Plot and use np.savetxt to save outputs to pred_path_e\n",
        "    # *** END CODER HERE"
      ],
      "metadata": {
        "id": "McZOUzdRNIUk"
      },
      "execution_count": 11,
      "outputs": []
    },
    {
      "cell_type": "code",
      "source": [
        "main()"
      ],
      "metadata": {
        "colab": {
          "base_uri": "https://localhost:8080/"
        },
        "id": "aRGUMLLIORBA",
        "outputId": "0f40c403-500c-4ddf-fb90-e8868e462283"
      },
      "execution_count": 12,
      "outputs": [
        {
          "output_type": "stream",
          "name": "stdout",
          "text": [
            "train dataset loaded (x with intercept on 0th col: (1250, 3), y: (1250,))\n",
            "================Training Starts===========\n",
            "\n",
            "epoch: 0\n",
            "train loss:  0.6931471805599237\n",
            "train acc:  0.5\n",
            "difference between thetas: 0.3268090556662272\n",
            "epoch: 1\n",
            "train loss:  0.255272108113938\n",
            "train acc:  0.9552\n",
            "difference between thetas: 0.2323814169921219\n",
            "epoch: 2\n",
            "train loss:  0.15492611782407203\n",
            "train acc:  0.9632\n",
            "difference between thetas: 0.29136367521747863\n",
            "epoch: 3\n",
            "train loss:  0.1127160024053409\n",
            "train acc:  0.9648\n",
            "difference between thetas: 0.3384278087569869\n",
            "epoch: 4\n",
            "train loss:  0.09573371248599\n",
            "train acc:  0.9632\n",
            "difference between thetas: 0.3081662109616556\n",
            "epoch: 5\n",
            "train loss:  0.09075960580492828\n",
            "train acc:  0.964\n",
            "difference between thetas: 0.16373867007892803\n",
            "epoch: 6\n",
            "train loss:  0.09011278765745298\n",
            "train acc:  0.9632\n",
            "difference between thetas: 0.030653440202831488\n",
            "epoch: 7\n",
            "train loss:  0.09009745294842639\n",
            "train acc:  0.9632\n",
            "difference between thetas: 0.0008493323185674676\n",
            "epoch: 8\n",
            "train loss:  0.0900974420815272\n",
            "train acc:  0.9632\n",
            "difference between thetas: 6.230429524152944e-07\n",
            "Weights converged. (theta: [-0.9711418   2.73208784  1.07403478]\n",
            "Saving df for train_pred.csv\n",
            "train loss: 0.0900974420815223 train acc: 0.9632\n"
          ]
        }
      ]
    },
    {
      "cell_type": "markdown",
      "source": [
        "# (d)\n",
        "\n",
        "We now consider the case where the t-labels are unavailable, so you only have access to the y-labels at training time. Add to your code in p02cde_posonly.py to re-train the classifier (still using x1 and x2 as input features), but using the y-labels only."
      ],
      "metadata": {
        "id": "0mm5vvUYt0yr"
      }
    },
    {
      "cell_type": "code",
      "source": [
        "import numpy as np\n",
        "\n",
        "# Character to replace with sub-problem letter in plot_path/pred_path\n",
        "WILDCARD = 'X'\n",
        "\n",
        "\n",
        "def main(train_path = '/content/ds3_train.csv', valid_path = '/content/ds3_valid.csv', test_path = '/content/ds3_test.csv', pred_path = WILDCARD):\n",
        "    \"\"\"Problem 2: Logistic regression for incomplete, positive-only labels.\n",
        "\n",
        "    Run under the following conditions:\n",
        "        1. on y-labels,\n",
        "        2. on l-labels,\n",
        "        3. on l-labels with correction factor alpha.\n",
        "\n",
        "    Args:\n",
        "        train_path: Path to CSV file containing training set.\n",
        "        valid_path: Path to CSV file containing validation set.\n",
        "        test_path: Path to CSV file containing test set.\n",
        "        pred_path: Path to save predictions.\n",
        "    \"\"\"\n",
        "    pred_path_c = pred_path.replace(WILDCARD, 'c')\n",
        "    pred_path_d = pred_path.replace(WILDCARD, 'd')\n",
        "    pred_path_e = pred_path.replace(WILDCARD, 'e')\n",
        "\n",
        "    # *** START CODE HERE ***\n",
        "    # Part (c): Train and test on true labels\n",
        "    x_train, y_train = load_dataset(train_path, add_intercept=True,label_col='y')\n",
        "    print(f\"train dataset loaded (x with intercept on 0th col: {x_train.shape}, y: {y_train.shape})\")\n",
        "    \n",
        "    print(\"================Training Starts===========\\n\")\n",
        "    clf = LogisticRegression()\n",
        "    clf.fit(x_train, y_train)\n",
        "    pred_train = clf.predict(x_train)\n",
        "    save_df(x_train, y_train, pred_train, \"train_pred\")\n",
        "    train_loss = criterion(pred_train, y_train)\n",
        "    train_acc = acc(pred_train, y_train)\n",
        "    print(f\"train loss: {train_loss} train acc: {train_acc}\")\n",
        "    \n",
        "    #x_val, y_val = load_dataset(eval_path, add_intercept=True)\n",
        "  \n",
        "    #print(f\"validation dataset loaded (x with intercept on 0th col: {x_val.shape}, y: {y_val.shape})\")\n",
        "    \n",
        "    #pred_val = clf.predict(x_val)\n",
        "    #val_loss = criterion(pred_val, y_val)\n",
        "    #val_acc = acc(pred_val, y_val)\n",
        "    #count = 0\n",
        "    #print(\"validation loss:\",val_loss)\n",
        "    #print(\"validation acc:\",val_acc)\n",
        "\n",
        "    # Make sure to save outputs to pred_path_c\n",
        "    # Part (d): Train on y-labels and test on true labels\n",
        "    # Make sure to save outputs to pred_path_d\n",
        "    # Part (e): Apply correction factor using validation set and test on true labels\n",
        "    # Plot and use np.savetxt to save outputs to pred_path_e\n",
        "    # *** END CODER HERE"
      ],
      "metadata": {
        "id": "vreVLG8RORDp"
      },
      "execution_count": 13,
      "outputs": []
    },
    {
      "cell_type": "code",
      "source": [
        "main()"
      ],
      "metadata": {
        "colab": {
          "base_uri": "https://localhost:8080/"
        },
        "id": "TG6cswFwORGy",
        "outputId": "55dba8ea-369c-49ed-b08f-0fc2e1d887c7"
      },
      "execution_count": 14,
      "outputs": [
        {
          "output_type": "stream",
          "name": "stdout",
          "text": [
            "train dataset loaded (x with intercept on 0th col: (1250, 3), y: (1250,))\n",
            "================Training Starts===========\n",
            "\n",
            "epoch: 0\n",
            "train loss:  0.6931471805599237\n",
            "train acc:  0.9\n",
            "difference between thetas: 0.5780482145838554\n",
            "epoch: 1\n",
            "train loss:  0.32260270056700235\n",
            "train acc:  0.9\n",
            "difference between thetas: 0.2628969567477062\n",
            "epoch: 2\n",
            "train loss:  0.2841524262392598\n",
            "train acc:  0.9\n",
            "difference between thetas: 0.2037460669210164\n",
            "epoch: 3\n",
            "train loss:  0.2734972734514839\n",
            "train acc:  0.9\n",
            "difference between thetas: 0.16129991718263825\n",
            "epoch: 4\n",
            "train loss:  0.2710017842758052\n",
            "train acc:  0.9\n",
            "difference between thetas: 0.06779004829961162\n",
            "epoch: 5\n",
            "train loss:  0.2707750864018856\n",
            "train acc:  0.9\n",
            "difference between thetas: 0.00791566078970285\n",
            "epoch: 6\n",
            "train loss:  0.27077265581631893\n",
            "train acc:  0.9\n",
            "difference between thetas: 9.156480654976447e-05\n",
            "epoch: 7\n",
            "train loss:  0.2707726554967858\n",
            "train acc:  0.9\n",
            "difference between thetas: 1.2127764699905915e-08\n",
            "Weights converged. (theta: [-2.91607454  0.78596651  0.09282768]\n",
            "Saving df for train_pred.csv\n",
            "train loss: 0.27077265549678575 train acc: 0.9\n"
          ]
        }
      ]
    },
    {
      "cell_type": "markdown",
      "source": [
        "# (e)\n",
        "Using the validation set, estimate the constant $α$ by averaging your classifier's predictions over all labeled examples in the validation set\n",
        "\n",
        "$$\\alpha ≈ \\frac{1}{|V+|}\\sum_{x^{(i)} ∈ V_+}h(x^{(i)})$$\n",
        "\n",
        "Add code in src/p02cde_posonly.py to rescale your classifier's predictions from part (d) using the estimated value for $α$.\n",
        "\n",
        "Finally, using a threshold of $p(t^{(i)} = 1|x^{(i)}) = 0.5$, make three separate plots with the decision boundaries from parts (c) - (e) plotted on the top of the test set. Plot $x_1$ on the horizontal axis and $x_2$ on the vertical axis, and use two different symbols for the positive $(t^{(i)} = 1)$ and negative $(t^{(i)} = 0)$ examples. In each plot, indicate the separating hyperplane with a red line."
      ],
      "metadata": {
        "id": "pUwOXJgPw1rq"
      }
    },
    {
      "cell_type": "markdown",
      "source": [
        "## $ h(x^{(i)})$\n",
        "$ h(x^{(i)}) ≈ \\alpha = p(y^{(i)} = 1 | x^{(i)})$ for all $x \\in V_{+}$"
      ],
      "metadata": {
        "id": "F2BV_drot_I2"
      }
    },
    {
      "cell_type": "code",
      "source": [
        "#check validation data\n",
        "pd.read_csv('ds3_valid.csv').head()"
      ],
      "metadata": {
        "colab": {
          "base_uri": "https://localhost:8080/",
          "height": 206
        },
        "id": "bqpisRIYcvmE",
        "outputId": "1fbc5a3b-69c4-4068-b863-bf60e9232beb"
      },
      "execution_count": 15,
      "outputs": [
        {
          "output_type": "execute_result",
          "data": {
            "text/plain": [
              "     t       x_1       x_2  y\n",
              "0  0.0 -3.045520 -1.857371  0\n",
              "1  0.0 -3.998597  0.368850  0\n",
              "2  0.0 -4.789953 -0.689660  0\n",
              "3  0.0 -3.596480 -2.434832  0\n",
              "4  0.0 -1.830972 -3.134346  0"
            ],
            "text/html": [
              "\n",
              "  <div id=\"df-1e3b274d-82e5-4694-9164-6d78197a8819\">\n",
              "    <div class=\"colab-df-container\">\n",
              "      <div>\n",
              "<style scoped>\n",
              "    .dataframe tbody tr th:only-of-type {\n",
              "        vertical-align: middle;\n",
              "    }\n",
              "\n",
              "    .dataframe tbody tr th {\n",
              "        vertical-align: top;\n",
              "    }\n",
              "\n",
              "    .dataframe thead th {\n",
              "        text-align: right;\n",
              "    }\n",
              "</style>\n",
              "<table border=\"1\" class=\"dataframe\">\n",
              "  <thead>\n",
              "    <tr style=\"text-align: right;\">\n",
              "      <th></th>\n",
              "      <th>t</th>\n",
              "      <th>x_1</th>\n",
              "      <th>x_2</th>\n",
              "      <th>y</th>\n",
              "    </tr>\n",
              "  </thead>\n",
              "  <tbody>\n",
              "    <tr>\n",
              "      <th>0</th>\n",
              "      <td>0.0</td>\n",
              "      <td>-3.045520</td>\n",
              "      <td>-1.857371</td>\n",
              "      <td>0</td>\n",
              "    </tr>\n",
              "    <tr>\n",
              "      <th>1</th>\n",
              "      <td>0.0</td>\n",
              "      <td>-3.998597</td>\n",
              "      <td>0.368850</td>\n",
              "      <td>0</td>\n",
              "    </tr>\n",
              "    <tr>\n",
              "      <th>2</th>\n",
              "      <td>0.0</td>\n",
              "      <td>-4.789953</td>\n",
              "      <td>-0.689660</td>\n",
              "      <td>0</td>\n",
              "    </tr>\n",
              "    <tr>\n",
              "      <th>3</th>\n",
              "      <td>0.0</td>\n",
              "      <td>-3.596480</td>\n",
              "      <td>-2.434832</td>\n",
              "      <td>0</td>\n",
              "    </tr>\n",
              "    <tr>\n",
              "      <th>4</th>\n",
              "      <td>0.0</td>\n",
              "      <td>-1.830972</td>\n",
              "      <td>-3.134346</td>\n",
              "      <td>0</td>\n",
              "    </tr>\n",
              "  </tbody>\n",
              "</table>\n",
              "</div>\n",
              "      <button class=\"colab-df-convert\" onclick=\"convertToInteractive('df-1e3b274d-82e5-4694-9164-6d78197a8819')\"\n",
              "              title=\"Convert this dataframe to an interactive table.\"\n",
              "              style=\"display:none;\">\n",
              "        \n",
              "  <svg xmlns=\"http://www.w3.org/2000/svg\" height=\"24px\"viewBox=\"0 0 24 24\"\n",
              "       width=\"24px\">\n",
              "    <path d=\"M0 0h24v24H0V0z\" fill=\"none\"/>\n",
              "    <path d=\"M18.56 5.44l.94 2.06.94-2.06 2.06-.94-2.06-.94-.94-2.06-.94 2.06-2.06.94zm-11 1L8.5 8.5l.94-2.06 2.06-.94-2.06-.94L8.5 2.5l-.94 2.06-2.06.94zm10 10l.94 2.06.94-2.06 2.06-.94-2.06-.94-.94-2.06-.94 2.06-2.06.94z\"/><path d=\"M17.41 7.96l-1.37-1.37c-.4-.4-.92-.59-1.43-.59-.52 0-1.04.2-1.43.59L10.3 9.45l-7.72 7.72c-.78.78-.78 2.05 0 2.83L4 21.41c.39.39.9.59 1.41.59.51 0 1.02-.2 1.41-.59l7.78-7.78 2.81-2.81c.8-.78.8-2.07 0-2.86zM5.41 20L4 18.59l7.72-7.72 1.47 1.35L5.41 20z\"/>\n",
              "  </svg>\n",
              "      </button>\n",
              "      \n",
              "  <style>\n",
              "    .colab-df-container {\n",
              "      display:flex;\n",
              "      flex-wrap:wrap;\n",
              "      gap: 12px;\n",
              "    }\n",
              "\n",
              "    .colab-df-convert {\n",
              "      background-color: #E8F0FE;\n",
              "      border: none;\n",
              "      border-radius: 50%;\n",
              "      cursor: pointer;\n",
              "      display: none;\n",
              "      fill: #1967D2;\n",
              "      height: 32px;\n",
              "      padding: 0 0 0 0;\n",
              "      width: 32px;\n",
              "    }\n",
              "\n",
              "    .colab-df-convert:hover {\n",
              "      background-color: #E2EBFA;\n",
              "      box-shadow: 0px 1px 2px rgba(60, 64, 67, 0.3), 0px 1px 3px 1px rgba(60, 64, 67, 0.15);\n",
              "      fill: #174EA6;\n",
              "    }\n",
              "\n",
              "    [theme=dark] .colab-df-convert {\n",
              "      background-color: #3B4455;\n",
              "      fill: #D2E3FC;\n",
              "    }\n",
              "\n",
              "    [theme=dark] .colab-df-convert:hover {\n",
              "      background-color: #434B5C;\n",
              "      box-shadow: 0px 1px 3px 1px rgba(0, 0, 0, 0.15);\n",
              "      filter: drop-shadow(0px 1px 2px rgba(0, 0, 0, 0.3));\n",
              "      fill: #FFFFFF;\n",
              "    }\n",
              "  </style>\n",
              "\n",
              "      <script>\n",
              "        const buttonEl =\n",
              "          document.querySelector('#df-1e3b274d-82e5-4694-9164-6d78197a8819 button.colab-df-convert');\n",
              "        buttonEl.style.display =\n",
              "          google.colab.kernel.accessAllowed ? 'block' : 'none';\n",
              "\n",
              "        async function convertToInteractive(key) {\n",
              "          const element = document.querySelector('#df-1e3b274d-82e5-4694-9164-6d78197a8819');\n",
              "          const dataTable =\n",
              "            await google.colab.kernel.invokeFunction('convertToInteractive',\n",
              "                                                     [key], {});\n",
              "          if (!dataTable) return;\n",
              "\n",
              "          const docLinkHtml = 'Like what you see? Visit the ' +\n",
              "            '<a target=\"_blank\" href=https://colab.research.google.com/notebooks/data_table.ipynb>data table notebook</a>'\n",
              "            + ' to learn more about interactive tables.';\n",
              "          element.innerHTML = '';\n",
              "          dataTable['output_type'] = 'display_data';\n",
              "          await google.colab.output.renderOutput(dataTable, element);\n",
              "          const docLink = document.createElement('div');\n",
              "          docLink.innerHTML = docLinkHtml;\n",
              "          element.appendChild(docLink);\n",
              "        }\n",
              "      </script>\n",
              "    </div>\n",
              "  </div>\n",
              "  "
            ]
          },
          "metadata": {},
          "execution_count": 15
        }
      ]
    },
    {
      "cell_type": "code",
      "source": [
        "import numpy as np\n",
        "\n",
        "# Character to replace with sub-problem letter in plot_path/pred_path\n",
        "WILDCARD = 'X'\n",
        "\n",
        "\n",
        "def main(train_path = '/content/ds3_train.csv', valid_path = '/content/ds3_valid.csv', test_path = '/content/ds3_test.csv', pred_path = WILDCARD):\n",
        "    \"\"\"Problem 2: Logistic regression for incomplete, positive-only labels.\n",
        "\n",
        "    Run under the following conditions:\n",
        "        1. on y-labels,\n",
        "        2. on l-labels,\n",
        "        3. on l-labels with correction factor alpha.\n",
        "\n",
        "    Args:\n",
        "        train_path: Path to CSV file containing training set.\n",
        "        valid_path: Path to CSV file containing validation set.\n",
        "        test_path: Path to CSV file containing test set.\n",
        "        pred_path: Path to save predictions.\n",
        "    \"\"\"\n",
        "    pred_path_c = pred_path.replace(WILDCARD, 'c')\n",
        "    pred_path_d = pred_path.replace(WILDCARD, 'd')\n",
        "    pred_path_e = pred_path.replace(WILDCARD, 'e')\n",
        "\n",
        "    # *** START CODE HERE ***\n",
        "    # Part (c): Train and test on true labels\n",
        "    x_train, y_train = load_dataset(train_path, add_intercept=True,label_col='y')\n",
        "    print(f\"train dataset loaded (x with intercept on 0th col: {x_train.shape}, y: {y_train.shape})\")\n",
        "    \n",
        "    print(\"================Training Starts===========\\n\")\n",
        "    clf = LogisticRegression()\n",
        "    clf.fit(x_train, y_train)\n",
        "    pred_train = clf.predict(x_train)\n",
        "    save_df(x_train, y_train, pred_train, \"train_pred\")\n",
        "    train_loss = criterion(pred_train, y_train)\n",
        "    train_acc = acc(pred_train, y_train)\n",
        "    print(f\"train loss: {train_loss} train acc: {train_acc}\")\n",
        "\n",
        "    print(\"================Validation=============\\n\")\n",
        "    x_val, y_val = load_dataset(valid_path, add_intercept=True, label_col='y')\n",
        "  \n",
        "    print(f\"validation dataset loaded (x with intercept on 0th col: {x_val.shape}, y: {y_val.shape})\")\n",
        "    \n",
        "    pred_val = clf.predict(x_val)\n",
        "    # val_loss = criterion(pred_val, y_val)\n",
        "    # val_acc = acc(pred_val, y_val)\n",
        "    # print(\"validation loss:\",val_loss)\n",
        "    # print(\"validation acc:\",val_acc)\n",
        "    return pred_val, clf\n",
        "    # Make sure to save outputs to pred_path_c\n",
        "    # Part (d): Train on y-labels and test on true labels\n",
        "    # Make sure to save outputs to pred_path_d\n",
        "    # Part (e): Apply correction factor using validation set and test on true labels\n",
        "    # Plot and use np.savetxt to save outputs to pred_path_e\n",
        "    # *** END CODER HERE"
      ],
      "metadata": {
        "id": "pzEvG9b9wypH"
      },
      "execution_count": 101,
      "outputs": []
    },
    {
      "cell_type": "code",
      "source": [
        "pred_val, clf = main()"
      ],
      "metadata": {
        "colab": {
          "base_uri": "https://localhost:8080/"
        },
        "id": "nVdtM7ARvKgi",
        "outputId": "4e91022e-b8fc-4dd5-b6bd-6f03adaeab4e"
      },
      "execution_count": 102,
      "outputs": [
        {
          "output_type": "stream",
          "name": "stdout",
          "text": [
            "train dataset loaded (x with intercept on 0th col: (1250, 3), y: (1250,))\n",
            "================Training Starts===========\n",
            "\n",
            "epoch: 0\n",
            "train loss:  0.6931471805599237\n",
            "train acc:  0.9\n",
            "difference between thetas: 0.5780482145838554\n",
            "epoch: 1\n",
            "train loss:  0.32260270056700235\n",
            "train acc:  0.9\n",
            "difference between thetas: 0.2628969567477062\n",
            "epoch: 2\n",
            "train loss:  0.2841524262392598\n",
            "train acc:  0.9\n",
            "difference between thetas: 0.2037460669210164\n",
            "epoch: 3\n",
            "train loss:  0.2734972734514839\n",
            "train acc:  0.9\n",
            "difference between thetas: 0.16129991718263825\n",
            "epoch: 4\n",
            "train loss:  0.2710017842758052\n",
            "train acc:  0.9\n",
            "difference between thetas: 0.06779004829961162\n",
            "epoch: 5\n",
            "train loss:  0.2707750864018856\n",
            "train acc:  0.9\n",
            "difference between thetas: 0.00791566078970285\n",
            "epoch: 6\n",
            "train loss:  0.27077265581631893\n",
            "train acc:  0.9\n",
            "difference between thetas: 9.156480654976447e-05\n",
            "epoch: 7\n",
            "train loss:  0.2707726554967858\n",
            "train acc:  0.9\n",
            "difference between thetas: 1.2127764699905915e-08\n",
            "Weights converged. (theta: [-2.91607454  0.78596651  0.09282768]\n",
            "Saving df for train_pred.csv\n",
            "train loss: 0.27077265549678575 train acc: 0.9\n",
            "================Validation=============\n",
            "\n",
            "validation dataset loaded (x with intercept on 0th col: (124, 3), y: (124,))\n"
          ]
        }
      ]
    },
    {
      "cell_type": "markdown",
      "source": [
        "## estimate the constant $\\alpha$ by averaging your classifier's predictions over all labeled examples in the validation set"
      ],
      "metadata": {
        "id": "wdAZElWQwO-F"
      }
    },
    {
      "cell_type": "code",
      "source": [
        "x_val, y_val = load_dataset('/content/ds3_valid.csv', add_intercept=True, label_col='y')"
      ],
      "metadata": {
        "id": "jy1W8nAcduXM"
      },
      "execution_count": 100,
      "outputs": []
    },
    {
      "cell_type": "code",
      "source": [
        "alpha = np.mean(pred_val)#the average probability of given x being labeled"
      ],
      "metadata": {
        "id": "m-v2DDjsLMPv"
      },
      "execution_count": 65,
      "outputs": []
    },
    {
      "cell_type": "code",
      "source": [
        "alpha"
      ],
      "metadata": {
        "colab": {
          "base_uri": "https://localhost:8080/"
        },
        "id": "hyg-cDxOLGaH",
        "outputId": "cb9e66be-c091-4bb9-b124-2e63937107be"
      },
      "execution_count": 66,
      "outputs": [
        {
          "output_type": "execute_result",
          "data": {
            "text/plain": [
              "0.10093150508835273"
            ]
          },
          "metadata": {},
          "execution_count": 66
        }
      ]
    },
    {
      "cell_type": "code",
      "source": [
        "val_ = []\n",
        "for y,p in zip(y_val, pred_val):\n",
        "  if y == 1.0:\n",
        "    val_.append(p)"
      ],
      "metadata": {
        "id": "3oEaCcYcd2Xi"
      },
      "execution_count": 104,
      "outputs": []
    },
    {
      "cell_type": "code",
      "source": [
        "alpha = np.mean(val_)"
      ],
      "metadata": {
        "id": "SwoOgQd6eEv1"
      },
      "execution_count": 106,
      "outputs": []
    },
    {
      "cell_type": "markdown",
      "source": [
        "## add code to rescale your classifier's predictions from part (d) using the estimated value for $α$\n",
        "\n",
        "$p(t^{(i)}=1|x^{(i)}) = p(y^{(i)}=1|x^{(i)})/α$"
      ],
      "metadata": {
        "id": "OKkGDrnIwbXc"
      }
    },
    {
      "cell_type": "code",
      "source": [
        "def criterion(h,y):#h: pred, y: actual\n",
        "  assert len(h) == len(y)\n",
        "  m = len(h)\n",
        "  loss = 0.\n",
        "  for i in range(m):\n",
        "    if h[i] == 0.:\n",
        "      print(\"h: \",h[i])\n",
        "    loss += -y[i]*math.log(h[i])-(1.-y[i])*math.log(1.-h[i])#BCE\n",
        "  #print(\"sum of loss:\",loss)\n",
        "  loss = loss/m\n",
        "  return loss"
      ],
      "metadata": {
        "id": "8kKIectJGrVD"
      },
      "execution_count": 48,
      "outputs": []
    },
    {
      "cell_type": "code",
      "source": [
        "import numpy as np\n",
        "\n",
        "# Character to replace with sub-problem letter in plot_path/pred_path\n",
        "WILDCARD = 'X'\n",
        "\n",
        "def main(train_path = '/content/ds3_train.csv', valid_path = '/content/ds3_valid.csv', test_path = '/content/ds3_test.csv', pred_path = WILDCARD, alpha = alpha):\n",
        "    \"\"\"Problem 2: Logistic regression for incomplete, positive-only labels.\n",
        "\n",
        "    Run under the following conditions:\n",
        "        1. on y-labels,\n",
        "        2. on l-labels,\n",
        "        3. on l-labels with correction factor alpha.\n",
        "\n",
        "    Args:\n",
        "        train_path: Path to CSV file containing training set.\n",
        "        valid_path: Path to CSV file containing validation set.\n",
        "        test_path: Path to CSV file containing test set.\n",
        "        pred_path: Path to save predictions.\n",
        "    \"\"\"\n",
        "    pred_path_c = pred_path.replace(WILDCARD, 'c')\n",
        "    pred_path_d = pred_path.replace(WILDCARD, 'd')\n",
        "    pred_path_e = pred_path.replace(WILDCARD, 'e')\n",
        "\n",
        "    # *** START CODE HERE ***\n",
        "    # Part (c): Train and test on true labels\n",
        "    x_train, y_train = load_dataset(train_path, add_intercept=True,label_col='y')\n",
        "    print(f\"train dataset loaded (x with intercept on 0th col: {x_train.shape}, y: {y_train.shape})\")\n",
        "    \n",
        "    print(\"================Training Starts===========\\n\")\n",
        "    clf = LogisticRegression()\n",
        "    # print(type(y_train))\n",
        "    rescaled_y = [y/alpha for y in y_train]\n",
        "    rescaled_y = np.array(rescaled_y)\n",
        "    clf.fit(x_train, rescaled_y)\n",
        "    # pred_train = clf.predict(x_train)\n",
        "    # save_df(x_train, y_train, pred_train, \"train_pred\")\n",
        "    # train_loss = criterion(pred_train, y_train)\n",
        "    # train_acc = acc(pred_train, y_train)\n",
        "    # print(f\"Original train loss: {train_loss} train acc: {train_acc}\")\n",
        "    \n",
        "    # rescaled_pred_train = [x/alpha for x in pred_train]\n",
        "    # save_df(x_train, y_train, rescaled_pred_train, \"rescaled_train_pred\")\n",
        "    # #rescaled_train_loss = criterion(rescaled_pred_train, y_train)\n",
        "    # rescaled_train_acc = acc(rescaled_pred_train, y_train)\n",
        "    # print(f\"recaled train acc: {rescaled_train_acc}\")\n",
        "    # #print(f\"validation dataset loaded (x with intercept on 0th col: {x_val.shape}, y: {y_val.shape})\")\n",
        "    \n",
        "    # return pred_train, rescaled_pred_train, clf\n",
        "    #val_loss = criterion(pred_val, y_val)\n",
        "    #val_acc = acc(pred_val, y_val)\n",
        "    #count = 0\n",
        "    #print(\"validation loss:\",val_loss)\n",
        "    #print(\"validation acc:\",val_acc)\n",
        "\n",
        "    # Make sure to save outputs to pred_path_c\n",
        "    # Part (d): Train on y-labels and test on true labels\n",
        "    # Make sure to save outputs to pred_path_d\n",
        "    # Part (e): Apply correction factor using validation set and test on true labels\n",
        "    # Plot and use np.savetxt to save outputs to pred_path_e\n",
        "    # *** END CODE HERE"
      ],
      "metadata": {
        "id": "5x5hi_LfvnjL"
      },
      "execution_count": 98,
      "outputs": []
    },
    {
      "cell_type": "markdown",
      "source": [
        "## Using a threshold of $p(t^{(i)} = 1|x^{(i)})$ = 0.5, make three separate plots with the decision boundaries from parts (c) - (e) plotted on top of the test set. Plot $x_1$ on the horizontal axis and $x_2$ on the vertical axis, and use two different symbols for the positive $(t^{(i)} = 1)$ and negative $(t^{(i)} = 0)$ examples. In each plot indicate the seaparating hyperplane with a red line"
      ],
      "metadata": {
        "id": "toK40of2NjhC"
      }
    },
    {
      "cell_type": "markdown",
      "source": [
        "### (c)"
      ],
      "metadata": {
        "id": "je0QxkeaOJA4"
      }
    },
    {
      "cell_type": "code",
      "source": [
        "x_test, y_test = load_dataset('/content/ds3_test.csv', add_intercept=True,label_col='t')"
      ],
      "metadata": {
        "id": "fuFyiDqyM_Rn"
      },
      "execution_count": 77,
      "outputs": []
    },
    {
      "cell_type": "code",
      "source": [
        "c_thetas = [-0.9711418,2.73208784,1.07403478]"
      ],
      "metadata": {
        "id": "bg9gKi6XOdAu"
      },
      "execution_count": 79,
      "outputs": []
    },
    {
      "cell_type": "code",
      "source": [
        "def plot(x, y, theta, save_path=None, correction=1.0, title = \"\"):\n",
        "    \"\"\"Plot dataset and fitted logistic regression parameters.\n",
        "    Args:\n",
        "        x: Matrix of training examples, one per row.\n",
        "        y: Vector of labels in {0, 1}.\n",
        "        theta: Vector of parameters for logistic regression model.\n",
        "        save_path: Path to save the plot.\n",
        "        correction: Correction factor to apply (Problem 2(e) only).\n",
        "    \"\"\"\n",
        "    # Plot dataset\n",
        "    plt.figure()\n",
        "    plt.title(title)\n",
        "    plt.plot(x[y == 1, -2], x[y == 1, -1], 'bx', linewidth=2)\n",
        "    plt.plot(x[y == 0, -2], x[y == 0, -1], 'go', linewidth=2)\n",
        "\n",
        "    # Plot decision boundary (found by solving for theta^T x = 0)\n",
        "    margin1 = (max(x[:, -2]) - min(x[:, -2]))*0.2\n",
        "    margin2 = (max(x[:, -1]) - min(x[:, -1]))*0.2\n",
        "    \n",
        "    x1 = np.arange(min(x[:, -2])-margin1, max(x[:, -2])+margin1, 0.01)\n",
        "    x2 = -(theta[0] / theta[2] * correction + theta[1] / theta[2] * x1)\n",
        "    plt.plot(x1, x2, c='red', linewidth=2)\n",
        "    plt.xlim(x[:, -2].min()-margin1, x[:, -2].max()+margin1)\n",
        "    plt.ylim(x[:, -1].min()-margin2, x[:, -1].max()+margin2)\n",
        "\n",
        "    # Add labels and save to disk\n",
        "    plt.xlabel('x1')\n",
        "    plt.ylabel('x2')\n",
        "    if save_path is not None:\n",
        "        plt.savefig(save_path)"
      ],
      "metadata": {
        "id": "nYtCnNlvOoxc"
      },
      "execution_count": 82,
      "outputs": []
    },
    {
      "cell_type": "code",
      "source": [
        "plot(x_test, y_test, c_thetas, title = \"decision boundary (c) on test dataset\")"
      ],
      "metadata": {
        "colab": {
          "base_uri": "https://localhost:8080/",
          "height": 295
        },
        "id": "sfO6F7duOU1e",
        "outputId": "d40d0134-d2e3-405a-f01a-fc65a0ae0664"
      },
      "execution_count": 85,
      "outputs": [
        {
          "output_type": "display_data",
          "data": {
            "text/plain": [
              "<Figure size 432x288 with 1 Axes>"
            ],
            "image/png": "[encoded data removed]"
          },
          "metadata": {
            "needs_background": "light"
          }
        }
      ]
    },
    {
      "cell_type": "markdown",
      "source": [
        "### (d)"
      ],
      "metadata": {
        "id": "p8eZTcNuOq-I"
      }
    },
    {
      "cell_type": "code",
      "source": [
        "d_thetas = [-2.91607454,0.78596651,0.09282768]"
      ],
      "metadata": {
        "id": "fbS1Uz-COkR2"
      },
      "execution_count": 84,
      "outputs": []
    },
    {
      "cell_type": "code",
      "source": [
        "plot(x_test, y_test, d_thetas, title = \"decision boundary (d) on test dataset\")"
      ],
      "metadata": {
        "colab": {
          "base_uri": "https://localhost:8080/",
          "height": 295
        },
        "id": "RjZF_vW1Owpe",
        "outputId": "46743014-e719-446d-97e0-5430e26a71f8"
      },
      "execution_count": 86,
      "outputs": [
        {
          "output_type": "display_data",
          "data": {
            "text/plain": [
              "<Figure size 432x288 with 1 Axes>"
            ],
            "image/png": "[encoded data removed]"
          },
          "metadata": {
            "needs_background": "light"
          }
        }
      ]
    },
    {
      "cell_type": "markdown",
      "source": [
        "### (e)"
      ],
      "metadata": {
        "id": "7jfzNRxqO47C"
      }
    },
    {
      "cell_type": "code",
      "source": [
        "update_theta0 = math.log(2/alpha-1)"
      ],
      "metadata": {
        "id": "P-gIhLPGfOTq"
      },
      "execution_count": 107,
      "outputs": []
    },
    {
      "cell_type": "code",
      "source": [
        "e_thetas = [-2.91607454+update_theta0,0.78596651, 0.09282768]"
      ],
      "metadata": {
        "id": "m1s8FznJO3Au"
      },
      "execution_count": 108,
      "outputs": []
    },
    {
      "cell_type": "code",
      "source": [
        "plot(x_test, y_test, e_thetas, title = \"decision boundary (e) on test dataset\")"
      ],
      "metadata": {
        "colab": {
          "base_uri": "https://localhost:8080/",
          "height": 295
        },
        "id": "NRb0kshBPCz9",
        "outputId": "aecb744e-4e68-47ce-8432-00cb40484e3b"
      },
      "execution_count": 109,
      "outputs": [
        {
          "output_type": "display_data",
          "data": {
            "text/plain": [
              "<Figure size 432x288 with 1 Axes>"
            ],
            "image/png": "[encoded data removed]"
          },
          "metadata": {
            "needs_background": "light"
          }
        }
      ]
    }
  ]
}