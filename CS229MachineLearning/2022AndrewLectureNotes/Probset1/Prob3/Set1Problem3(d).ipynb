{
  "nbformat": 4,
  "nbformat_minor": 0,
  "metadata": {
    "colab": {
      "name": "Set1Problem3(d).ipynb",
      "provenance": [],
      "collapsed_sections": [],
      "authorship_tag": "ABX9TyPalqbJu0WDzhuwxvEtNmey",
      "include_colab_link": true
    },
    "kernelspec": {
      "name": "python3",
      "display_name": "Python 3"
    },
    "language_info": {
      "name": "python"
    }
  },
  "cells": [
    {
      "cell_type": "markdown",
      "metadata": {
        "id": "view-in-github",
        "colab_type": "text"
      },
      "source": [
        "<a href=\"https://colab.research.google.com/github/superbunny38/MachineLearning/blob/main/CS229MachineLearning/2022AndrewLectureNotes/Probset1/Prob3/Set1Problem3(d).ipynb\" target=\"_parent\"><img src=\"https://colab.research.google.com/assets/colab-badge.svg\" alt=\"Open In Colab\"/></a>"
      ]
    },
    {
      "cell_type": "code",
      "execution_count": 148,
      "metadata": {
        "id": "31uXHxttcgLi"
      },
      "outputs": [],
      "source": [
        "import numpy as np\n",
        "import pandas as pd\n",
        "import seaborn as sns\n",
        "import matplotlib.pyplot as plt"
      ]
    },
    {
      "cell_type": "code",
      "source": [
        "import copy"
      ],
      "metadata": {
        "id": "k1y0jd09iLMi"
      },
      "execution_count": 149,
      "outputs": []
    },
    {
      "cell_type": "code",
      "source": [
        "pd.read_csv('/content/ds4_train.csv').head()"
      ],
      "metadata": {
        "colab": {
          "base_uri": "https://localhost:8080/",
          "height": 206
        },
        "id": "Ve8S0jDQeuSn",
        "outputId": "6aba002a-f5c0-4f29-8e45-33c515d66f6b"
      },
      "execution_count": 4,
      "outputs": [
        {
          "output_type": "execute_result",
          "data": {
            "text/plain": [
              "   x_1  x_2       x_3       x_4        y\n",
              "0  1.0  0.0  0.992047  0.325741  2463097\n",
              "1  0.0  1.0  0.470463  0.371866   645481\n",
              "2  0.0  1.0  0.496533  0.289853   474123\n",
              "3  0.0  1.0  0.196377  0.694672  1542136\n",
              "4  0.0  1.0  0.224992  0.880809  3705439"
            ],
            "text/html": [
              "\n",
              "  <div id=\"df-501d2ea3-436e-440c-bb35-ba6f12268cd7\">\n",
              "    <div class=\"colab-df-container\">\n",
              "      <div>\n",
              "<style scoped>\n",
              "    .dataframe tbody tr th:only-of-type {\n",
              "        vertical-align: middle;\n",
              "    }\n",
              "\n",
              "    .dataframe tbody tr th {\n",
              "        vertical-align: top;\n",
              "    }\n",
              "\n",
              "    .dataframe thead th {\n",
              "        text-align: right;\n",
              "    }\n",
              "</style>\n",
              "<table border=\"1\" class=\"dataframe\">\n",
              "  <thead>\n",
              "    <tr style=\"text-align: right;\">\n",
              "      <th></th>\n",
              "      <th>x_1</th>\n",
              "      <th>x_2</th>\n",
              "      <th>x_3</th>\n",
              "      <th>x_4</th>\n",
              "      <th>y</th>\n",
              "    </tr>\n",
              "  </thead>\n",
              "  <tbody>\n",
              "    <tr>\n",
              "      <th>0</th>\n",
              "      <td>1.0</td>\n",
              "      <td>0.0</td>\n",
              "      <td>0.992047</td>\n",
              "      <td>0.325741</td>\n",
              "      <td>2463097</td>\n",
              "    </tr>\n",
              "    <tr>\n",
              "      <th>1</th>\n",
              "      <td>0.0</td>\n",
              "      <td>1.0</td>\n",
              "      <td>0.470463</td>\n",
              "      <td>0.371866</td>\n",
              "      <td>645481</td>\n",
              "    </tr>\n",
              "    <tr>\n",
              "      <th>2</th>\n",
              "      <td>0.0</td>\n",
              "      <td>1.0</td>\n",
              "      <td>0.496533</td>\n",
              "      <td>0.289853</td>\n",
              "      <td>474123</td>\n",
              "    </tr>\n",
              "    <tr>\n",
              "      <th>3</th>\n",
              "      <td>0.0</td>\n",
              "      <td>1.0</td>\n",
              "      <td>0.196377</td>\n",
              "      <td>0.694672</td>\n",
              "      <td>1542136</td>\n",
              "    </tr>\n",
              "    <tr>\n",
              "      <th>4</th>\n",
              "      <td>0.0</td>\n",
              "      <td>1.0</td>\n",
              "      <td>0.224992</td>\n",
              "      <td>0.880809</td>\n",
              "      <td>3705439</td>\n",
              "    </tr>\n",
              "  </tbody>\n",
              "</table>\n",
              "</div>\n",
              "      <button class=\"colab-df-convert\" onclick=\"convertToInteractive('df-501d2ea3-436e-440c-bb35-ba6f12268cd7')\"\n",
              "              title=\"Convert this dataframe to an interactive table.\"\n",
              "              style=\"display:none;\">\n",
              "        \n",
              "  <svg xmlns=\"http://www.w3.org/2000/svg\" height=\"24px\"viewBox=\"0 0 24 24\"\n",
              "       width=\"24px\">\n",
              "    <path d=\"M0 0h24v24H0V0z\" fill=\"none\"/>\n",
              "    <path d=\"M18.56 5.44l.94 2.06.94-2.06 2.06-.94-2.06-.94-.94-2.06-.94 2.06-2.06.94zm-11 1L8.5 8.5l.94-2.06 2.06-.94-2.06-.94L8.5 2.5l-.94 2.06-2.06.94zm10 10l.94 2.06.94-2.06 2.06-.94-2.06-.94-.94-2.06-.94 2.06-2.06.94z\"/><path d=\"M17.41 7.96l-1.37-1.37c-.4-.4-.92-.59-1.43-.59-.52 0-1.04.2-1.43.59L10.3 9.45l-7.72 7.72c-.78.78-.78 2.05 0 2.83L4 21.41c.39.39.9.59 1.41.59.51 0 1.02-.2 1.41-.59l7.78-7.78 2.81-2.81c.8-.78.8-2.07 0-2.86zM5.41 20L4 18.59l7.72-7.72 1.47 1.35L5.41 20z\"/>\n",
              "  </svg>\n",
              "      </button>\n",
              "      \n",
              "  <style>\n",
              "    .colab-df-container {\n",
              "      display:flex;\n",
              "      flex-wrap:wrap;\n",
              "      gap: 12px;\n",
              "    }\n",
              "\n",
              "    .colab-df-convert {\n",
              "      background-color: #E8F0FE;\n",
              "      border: none;\n",
              "      border-radius: 50%;\n",
              "      cursor: pointer;\n",
              "      display: none;\n",
              "      fill: #1967D2;\n",
              "      height: 32px;\n",
              "      padding: 0 0 0 0;\n",
              "      width: 32px;\n",
              "    }\n",
              "\n",
              "    .colab-df-convert:hover {\n",
              "      background-color: #E2EBFA;\n",
              "      box-shadow: 0px 1px 2px rgba(60, 64, 67, 0.3), 0px 1px 3px 1px rgba(60, 64, 67, 0.15);\n",
              "      fill: #174EA6;\n",
              "    }\n",
              "\n",
              "    [theme=dark] .colab-df-convert {\n",
              "      background-color: #3B4455;\n",
              "      fill: #D2E3FC;\n",
              "    }\n",
              "\n",
              "    [theme=dark] .colab-df-convert:hover {\n",
              "      background-color: #434B5C;\n",
              "      box-shadow: 0px 1px 3px 1px rgba(0, 0, 0, 0.15);\n",
              "      filter: drop-shadow(0px 1px 2px rgba(0, 0, 0, 0.3));\n",
              "      fill: #FFFFFF;\n",
              "    }\n",
              "  </style>\n",
              "\n",
              "      <script>\n",
              "        const buttonEl =\n",
              "          document.querySelector('#df-501d2ea3-436e-440c-bb35-ba6f12268cd7 button.colab-df-convert');\n",
              "        buttonEl.style.display =\n",
              "          google.colab.kernel.accessAllowed ? 'block' : 'none';\n",
              "\n",
              "        async function convertToInteractive(key) {\n",
              "          const element = document.querySelector('#df-501d2ea3-436e-440c-bb35-ba6f12268cd7');\n",
              "          const dataTable =\n",
              "            await google.colab.kernel.invokeFunction('convertToInteractive',\n",
              "                                                     [key], {});\n",
              "          if (!dataTable) return;\n",
              "\n",
              "          const docLinkHtml = 'Like what you see? Visit the ' +\n",
              "            '<a target=\"_blank\" href=https://colab.research.google.com/notebooks/data_table.ipynb>data table notebook</a>'\n",
              "            + ' to learn more about interactive tables.';\n",
              "          element.innerHTML = '';\n",
              "          dataTable['output_type'] = 'display_data';\n",
              "          await google.colab.output.renderOutput(dataTable, element);\n",
              "          const docLink = document.createElement('div');\n",
              "          docLink.innerHTML = docLinkHtml;\n",
              "          element.appendChild(docLink);\n",
              "        }\n",
              "      </script>\n",
              "    </div>\n",
              "  </div>\n",
              "  "
            ]
          },
          "metadata": {},
          "execution_count": 4
        }
      ]
    },
    {
      "cell_type": "code",
      "source": [
        "import matplotlib.pyplot as plt\n",
        "import numpy as np\n",
        "\n",
        "\n",
        "def add_intercept(x):\n",
        "    \"\"\"Add intercept to matrix x.\n",
        "\n",
        "    Args:\n",
        "        x: 2D NumPy array.\n",
        "\n",
        "    Returns:\n",
        "        New matrix same as x with 1's in the 0th column.\n",
        "    \"\"\"\n",
        "    new_x = np.zeros((x.shape[0], x.shape[1] + 1), dtype=x.dtype)\n",
        "    new_x[:, 0] = 1\n",
        "    new_x[:, 1:] = x\n",
        "\n",
        "    return new_x\n",
        "\n",
        "\n",
        "def load_dataset(csv_path, label_col='y', add_intercept=False):\n",
        "    \"\"\"Load dataset from a CSV file.\n",
        "\n",
        "    Args:\n",
        "         csv_path: Path to CSV file containing dataset.\n",
        "         label_col: Name of column to use as labels (should be 'y' or 'l').\n",
        "         add_intercept: Add an intercept entry to x-values.\n",
        "\n",
        "    Returns:\n",
        "        xs: Numpy array of x-values (inputs).\n",
        "        ys: Numpy array of y-values (labels).\n",
        "    \"\"\"\n",
        "\n",
        "    def add_intercept_fn(x):\n",
        "        global add_intercept\n",
        "        return add_intercept(x)\n",
        "\n",
        "    # Validate label_col argument\n",
        "    allowed_label_cols = ('y', 't')\n",
        "    if label_col not in allowed_label_cols:\n",
        "        raise ValueError('Invalid label_col: {} (expected {})'\n",
        "                         .format(label_col, allowed_label_cols))\n",
        "\n",
        "    # Load headers\n",
        "    with open(csv_path, 'r') as csv_fh:\n",
        "        headers = csv_fh.readline().strip().split(',')\n",
        "\n",
        "    # Load features and labels\n",
        "    x_cols = [i for i in range(len(headers)) if headers[i].startswith('x')]\n",
        "    l_cols = [i for i in range(len(headers)) if headers[i] == label_col]\n",
        "    inputs = np.loadtxt(csv_path, delimiter=',', skiprows=1, usecols=x_cols)\n",
        "    labels = np.loadtxt(csv_path, delimiter=',', skiprows=1, usecols=l_cols)\n",
        "\n",
        "    if inputs.ndim == 1:\n",
        "        inputs = np.expand_dims(inputs, -1)\n",
        "\n",
        "    if add_intercept:\n",
        "        inputs = add_intercept_fn(inputs)\n",
        "\n",
        "    return inputs, labels\n",
        "\n",
        "\n",
        "def plot(x, y, theta, save_path=None, correction=1.0):\n",
        "    \"\"\"Plot dataset and fitted logistic regression parameters.\n",
        "    Args:\n",
        "        x: Matrix of training examples, one per row.\n",
        "        y: Vector of labels in {0, 1}.\n",
        "        theta: Vector of parameters for logistic regression model.\n",
        "        save_path: Path to save the plot.\n",
        "        correction: Correction factor to apply (Problem 2(e) only).\n",
        "    \"\"\"\n",
        "    # Plot dataset\n",
        "    plt.figure()\n",
        "    plt.plot(x[y == 1, -2], x[y == 1, -1], 'bx', linewidth=2)\n",
        "    plt.plot(x[y == 0, -2], x[y == 0, -1], 'go', linewidth=2)\n",
        "\n",
        "    # Plot decision boundary (found by solving for theta^T x = 0)\n",
        "    margin1 = (max(x[:, -2]) - min(x[:, -2]))*0.2\n",
        "    margin2 = (max(x[:, -1]) - min(x[:, -1]))*0.2\n",
        "    x1 = np.arange(min(x[:, -2])-margin1, max(x[:, -2])+margin1, 0.01)\n",
        "    x2 = -(theta[0] / theta[2] * correction + theta[1] / theta[2] * x1)\n",
        "    plt.plot(x1, x2, c='red', linewidth=2)\n",
        "    plt.xlim(x[:, -2].min()-margin1, x[:, -2].max()+margin1)\n",
        "    plt.ylim(x[:, -1].min()-margin2, x[:, -1].max()+margin2)\n",
        "\n",
        "    # Add labels and save to disk\n",
        "    plt.xlabel('x1')\n",
        "    plt.ylabel('x2')\n",
        "    if save_path is not None:\n",
        "        plt.savefig(save_path)"
      ],
      "metadata": {
        "id": "SeSN5IFEep1S"
      },
      "execution_count": 3,
      "outputs": []
    },
    {
      "cell_type": "code",
      "source": [
        "class LinearModel(object):\n",
        "    \"\"\"Base class for linear models.\"\"\"\n",
        "\n",
        "    def __init__(self, step_size=0.2, max_iter=100, eps=1e-5,\n",
        "                 theta_0=None, verbose=True):\n",
        "        \"\"\"\n",
        "        Args:\n",
        "            step_size: Step size for iterative solvers only.\n",
        "            max_iter: Maximum number of iterations for the solver.\n",
        "            eps: Threshold for determining convergence.\n",
        "            theta_0: Initial guess for theta. If None, use the zero vector.\n",
        "            verbose: Print loss values during training.\n",
        "        \"\"\"\n",
        "        self.theta = theta_0\n",
        "        self.step_size = step_size\n",
        "        self.max_iter = max_iter\n",
        "        self.eps = eps\n",
        "        self.verbose = verbose\n",
        "\n",
        "    def fit(self, x, y):\n",
        "        \"\"\"Run solver to fit linear model.\n",
        "\n",
        "        Args:\n",
        "            x: Training example inputs. Shape (m, n).\n",
        "            y: Training example labels. Shape (m,).\n",
        "        \"\"\"\n",
        "        raise NotImplementedError('Subclass of LinearModel must implement fit method.')\n",
        "\n",
        "    def predict(self, x):\n",
        "        \"\"\"Make a prediction given new inputs x.\n",
        "\n",
        "        Args:\n",
        "            x: Inputs of shape (m, n).\n",
        "\n",
        "        Returns:\n",
        "            Outputs of shape (m,).\n",
        "        \"\"\"\n",
        "        raise NotImplementedError('Subclass of LinearModel must implement predict method.')"
      ],
      "metadata": {
        "id": "w3O5O2Z2Pm09"
      },
      "execution_count": 261,
      "outputs": []
    },
    {
      "cell_type": "markdown",
      "source": [
        "# (c)\n",
        "Consider a website that wants to **predict its daily traffic**. The website owners have collected a dataset of past traffic to their website, along with some features which they think are useful in predicting the number of visitors per day. The dataset is split into train/valid/test sets and follows the same format as Datasets. We will apply **Poisson regression** to model the number of visitors per day. Note that applying Poisson regression in particular assumes that the data follows a poisson distribution whose natural parameter is a linear combination on the input featuers (i.e., $\\eta = θ^Tx$. Implement Possion regression for this dataset and **use gradient ascent** to maximize the log-likelihood of $θ$."
      ],
      "metadata": {
        "id": "Fthmks5ac_bV"
      }
    },
    {
      "cell_type": "code",
      "source": [
        "train_path = \"/content/ds4_train.csv\"\n",
        "eval_path = \"/content/ds4_valid.csv\"\n",
        "pred_path= \"/content/\""
      ],
      "metadata": {
        "id": "Lt8CfwyzF-sj"
      },
      "execution_count": 262,
      "outputs": []
    },
    {
      "cell_type": "code",
      "source": [
        "class PoissonRegression(LinearModel):\n",
        "    \"\"\"Poisson Regression.\n",
        "\n",
        "    Example usage:\n",
        "        > clf = PoissonRegression(step_size=lr)\n",
        "        > clf.fit(x_train, y_train)\n",
        "        > clf.predict(x_eval)\n",
        "    \"\"\"\n",
        "    def h(self, theta, x):\n",
        "      return np.exp(x@theta)\n",
        "\n",
        "    def fit(self, x, y):\n",
        "        \"\"\"Run gradient ascent to maximize likelihood for Poisson regression.\n",
        "\n",
        "        Args:\n",
        "            x: Training example inputs. Shape (m, n).\n",
        "            y: Training example labels. Shape (m,).\n",
        "        \"\"\"\n",
        "        # *** START CODE HERE ***\n",
        "        def nextstep(theta):\n",
        "          return self.step_size/x.shape[0]*x.T@(y-self.h(theta,x))\n",
        "        \n",
        "        theta = np.zeros(x.shape[1])\n",
        "        step = nextstep(theta)\n",
        "        while np.linalg.norm(step,1) > self.eps:\n",
        "          theta += step\n",
        "          step= nextstep(theta)\n",
        "        self.theta = theta\n",
        "        print(f\"converged: (theta: {theta})\")\n",
        "\n",
        "        # *** END CODE HERE ***\n",
        "\n",
        "    def predict(self, x):\n",
        "        \"\"\"Make a prediction given inputs x.\n",
        "\n",
        "        Args:\n",
        "            x: Inputs of shape (m, n).\n",
        "\n",
        "        Returns:\n",
        "            Floating-point prediction for each input, shape (m,).\n",
        "        \"\"\"\n",
        "        # *** START CODE HERE ***\n",
        "        return self.h(self.theta,x)\n",
        "        # *** END CODE HERE ***"
      ],
      "metadata": {
        "id": "woxd_6vsPxQq"
      },
      "execution_count": 315,
      "outputs": []
    },
    {
      "cell_type": "code",
      "source": [
        "import numpy as np\n",
        "def main(lr, train_path = train_path, eval_path = eval_path, pred_path = pred_path):\n",
        "    \"\"\"Problem 3(d): Poisson regression with gradient ascent.\n",
        "\n",
        "    Args:\n",
        "        lr: Learning rate for gradient ascent.\n",
        "        train_path: Path to CSV file containing dataset for training.\n",
        "        eval_path: Path to CSV file containing dataset for evaluation.\n",
        "        pred_path: Path to save predictions.\n",
        "    \"\"\"\n",
        "    # Load training set\n",
        "    x_train, y_train = load_dataset(train_path, add_intercept=False)\n",
        "    x_train = add_intercept(x_train)\n",
        "    clf = PoissonRegression(lr)\n",
        "    clf.fit(x_train,y_train)\n",
        "    y_train_pred = clf.predict(x_train)\n",
        "    np.savetxt(pred_path+'train_pred.txt',y_train_pred)\n",
        "\n",
        "\n",
        "    x_val, y_val = load_dataset(eval_path, add_intercept=False)\n",
        "    x_val = add_intercept(x_val)\n",
        "    y_val_pred = clf.predict(x_val)\n",
        "    np.savetxt(pred_path+'val_pred.txt',y_val_pred)\n",
        "    \n",
        "    plt.title(\"prediction for train data\")\n",
        "    plt.plot(y_train, 'go', label = 'y_train')\n",
        "    plt.plot(y_train_pred, 'rx', label = 'y_pred')\n",
        "    plt.legend()\n",
        "    plt.show()\n",
        "\n",
        "    plt.title(\"prediction for validation data\")\n",
        "    plt.plot(y_val, 'go', label = 'y_val')\n",
        "    plt.plot(y_val_pred, 'rx', label = 'y_pred')\n",
        "    plt.legend()\n",
        "    plt.show()\n",
        "    return y_train_pred,y_val_pred\n",
        "    # *** START CODE HERE ***\n",
        "    # Fit a Poisson Regression model\n",
        "    # Run on the validation set, and use np.savetxt to save outputs to pred_path\n",
        "    # *** END CODE HERE ***"
      ],
      "metadata": {
        "id": "kEoF8j5I1N4D"
      },
      "execution_count": 325,
      "outputs": []
    },
    {
      "cell_type": "code",
      "source": [
        "y_train_pred,y_val_pred = main(1e-7)"
      ],
      "metadata": {
        "colab": {
          "base_uri": "https://localhost:8080/",
          "height": 563
        },
        "id": "JRNzsVTQRpr0",
        "outputId": "f8112a18-0e56-4b34-a844-6e2920424fb9"
      },
      "execution_count": 326,
      "outputs": [
        {
          "output_type": "stream",
          "name": "stdout",
          "text": [
            "converged: (theta: [7.36634165 3.93318234 3.43315931 2.00016705 4.40044949])\n"
          ]
        },
        {
          "output_type": "display_data",
          "data": {
            "text/plain": [
              "<Figure size 432x288 with 1 Axes>"
            ],
            "image/png": "[encoded data removed]"
          },
          "metadata": {
            "needs_background": "light"
          }
        },
        {
          "output_type": "display_data",
          "data": {
            "text/plain": [
              "<Figure size 432x288 with 1 Axes>"
            ],
            "image/png": "[encoded data removed]"
          },
          "metadata": {
            "needs_background": "light"
          }
        }
      ]
    },
    {
      "cell_type": "code",
      "source": [
        "x_train, y_train = load_dataset(train_path, add_intercept=False)\n",
        "x_val, y_val = load_dataset(eval_path, add_intercept=False)"
      ],
      "metadata": {
        "id": "AcxC0VC8wqtz"
      },
      "execution_count": 327,
      "outputs": []
    },
    {
      "cell_type": "code",
      "source": [
        "plt.title(\"On train dataset\")\n",
        "plt.scatter(y_train, y_train_pred)\n",
        "plt.xlabel(\"train target\")\n",
        "plt.ylabel(\"train pred\")\n",
        "plt.show()"
      ],
      "metadata": {
        "colab": {
          "base_uri": "https://localhost:8080/",
          "height": 295
        },
        "id": "WplZB3_oSbip",
        "outputId": "a3775473-8f75-49bf-8bb5-7bb8d1476287"
      },
      "execution_count": 323,
      "outputs": [
        {
          "output_type": "display_data",
          "data": {
            "text/plain": [
              "<Figure size 432x288 with 1 Axes>"
            ],
            "image/png": "[encoded data removed]"
          },
          "metadata": {
            "needs_background": "light"
          }
        }
      ]
    },
    {
      "cell_type": "code",
      "source": [
        "plt.title(\"On validation dataset\")\n",
        "plt.scatter(y_val, y_val_pred)\n",
        "plt.xlabel(\"valid target\")\n",
        "plt.ylabel(\"valid pred\")\n",
        "plt.show()"
      ],
      "metadata": {
        "colab": {
          "base_uri": "https://localhost:8080/",
          "height": 295
        },
        "id": "WpUFk8leSdeY",
        "outputId": "ffe1d9d3-a823-41a3-9b10-4b19dca1e99e"
      },
      "execution_count": 324,
      "outputs": [
        {
          "output_type": "display_data",
          "data": {
            "text/plain": [
              "<Figure size 432x288 with 1 Axes>"
            ],
            "image/png": "[encoded data removed]"
          },
          "metadata": {
            "needs_background": "light"
          }
        }
      ]
    }
  ]
}