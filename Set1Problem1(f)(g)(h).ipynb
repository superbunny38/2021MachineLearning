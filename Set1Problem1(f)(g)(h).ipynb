{
  "nbformat": 4,
  "nbformat_minor": 0,
  "metadata": {
    "colab": {
      "name": "Set1Problem1(f)(g)(h).ipynb",
      "provenance": [],
      "collapsed_sections": [],
      "toc_visible": true,
      "authorship_tag": "ABX9TyMYmWsTg5XbqmnTl3Bfzp9k",
      "include_colab_link": true
    },
    "kernelspec": {
      "name": "python3",
      "display_name": "Python 3"
    },
    "language_info": {
      "name": "python"
    }
  },
  "cells": [
    {
      "cell_type": "markdown",
      "metadata": {
        "id": "view-in-github",
        "colab_type": "text"
      },
      "source": [
        "<a href=\"https://colab.research.google.com/github/superbunny38/MachineLearning/blob/main/Set1Problem1(f)(g)(h).ipynb\" target=\"_parent\"><img src=\"https://colab.research.google.com/assets/colab-badge.svg\" alt=\"Open In Colab\"/></a>"
      ]
    },
    {
      "cell_type": "code",
      "execution_count": 3,
      "metadata": {
        "cellView": "form",
        "id": "r2VHUVyQbmMe"
      },
      "outputs": [],
      "source": [
        "#@title Libraries\n",
        "import numpy as np\n",
        "import pandas as pd\n",
        "import math\n",
        "import time\n",
        "import tqdm as tqdm\n",
        "import matplotlib.pyplot as plt\n",
        "import copy\n",
        "from sklearn.utils import shuffle"
      ]
    },
    {
      "cell_type": "markdown",
      "source": [
        "**Rights:**\n",
        "\n",
        "*Assignment made by: Prof. Andrew Ng, Stanford*\n",
        "\n",
        "*Assignment solved by: Chaeeun Ryu, SKKU*"
      ],
      "metadata": {
        "id": "oKpRnBpScs4Y"
      }
    },
    {
      "cell_type": "markdown",
      "source": [
        "# 1.(f) \n",
        "\n",
        "For Dataset1, create a plot of the training data with $x_1$ on the horizontal axis, and $x_2$ on the vertical axis. To visualize the two classes, use a different symbol for examples $x^{(i)}$ with $y^{(i)}$ = 0 for those with $y^{(i)}$ = 1. On the same figure, plot the decision boundary found by logistic regression in part (b). Make an identical plot with the decision boundary found by GDA in part (e)."
      ],
      "metadata": {
        "id": "mC2-oPXXbsZM"
      }
    },
    {
      "cell_type": "code",
      "source": [
        "train_df1 = pd.read_csv('ds1_train.csv')\n",
        "train_df1.head()"
      ],
      "metadata": {
        "colab": {
          "base_uri": "https://localhost:8080/",
          "height": 206
        },
        "id": "R9o51uDjcdCm",
        "outputId": "c4cb15bb-9df0-48da-ada7-5443258288fd"
      },
      "execution_count": 4,
      "outputs": [
        {
          "output_type": "execute_result",
          "data": {
            "text/plain": [
              "        x_1         x_2    y\n",
              "0  2.911809   60.359613  0.0\n",
              "1  3.774746  344.149284  0.0\n",
              "2  2.615488  178.222087  0.0\n",
              "3  2.013694   15.259472  0.0\n",
              "4  2.757625   66.194174  0.0"
            ],
            "text/html": [
              "\n",
              "  <div id=\"df-410a224c-a171-4db1-ba2b-4730a149206f\">\n",
              "    <div class=\"colab-df-container\">\n",
              "      <div>\n",
              "<style scoped>\n",
              "    .dataframe tbody tr th:only-of-type {\n",
              "        vertical-align: middle;\n",
              "    }\n",
              "\n",
              "    .dataframe tbody tr th {\n",
              "        vertical-align: top;\n",
              "    }\n",
              "\n",
              "    .dataframe thead th {\n",
              "        text-align: right;\n",
              "    }\n",
              "</style>\n",
              "<table border=\"1\" class=\"dataframe\">\n",
              "  <thead>\n",
              "    <tr style=\"text-align: right;\">\n",
              "      <th></th>\n",
              "      <th>x_1</th>\n",
              "      <th>x_2</th>\n",
              "      <th>y</th>\n",
              "    </tr>\n",
              "  </thead>\n",
              "  <tbody>\n",
              "    <tr>\n",
              "      <th>0</th>\n",
              "      <td>2.911809</td>\n",
              "      <td>60.359613</td>\n",
              "      <td>0.0</td>\n",
              "    </tr>\n",
              "    <tr>\n",
              "      <th>1</th>\n",
              "      <td>3.774746</td>\n",
              "      <td>344.149284</td>\n",
              "      <td>0.0</td>\n",
              "    </tr>\n",
              "    <tr>\n",
              "      <th>2</th>\n",
              "      <td>2.615488</td>\n",
              "      <td>178.222087</td>\n",
              "      <td>0.0</td>\n",
              "    </tr>\n",
              "    <tr>\n",
              "      <th>3</th>\n",
              "      <td>2.013694</td>\n",
              "      <td>15.259472</td>\n",
              "      <td>0.0</td>\n",
              "    </tr>\n",
              "    <tr>\n",
              "      <th>4</th>\n",
              "      <td>2.757625</td>\n",
              "      <td>66.194174</td>\n",
              "      <td>0.0</td>\n",
              "    </tr>\n",
              "  </tbody>\n",
              "</table>\n",
              "</div>\n",
              "      <button class=\"colab-df-convert\" onclick=\"convertToInteractive('df-410a224c-a171-4db1-ba2b-4730a149206f')\"\n",
              "              title=\"Convert this dataframe to an interactive table.\"\n",
              "              style=\"display:none;\">\n",
              "        \n",
              "  <svg xmlns=\"http://www.w3.org/2000/svg\" height=\"24px\"viewBox=\"0 0 24 24\"\n",
              "       width=\"24px\">\n",
              "    <path d=\"M0 0h24v24H0V0z\" fill=\"none\"/>\n",
              "    <path d=\"M18.56 5.44l.94 2.06.94-2.06 2.06-.94-2.06-.94-.94-2.06-.94 2.06-2.06.94zm-11 1L8.5 8.5l.94-2.06 2.06-.94-2.06-.94L8.5 2.5l-.94 2.06-2.06.94zm10 10l.94 2.06.94-2.06 2.06-.94-2.06-.94-.94-2.06-.94 2.06-2.06.94z\"/><path d=\"M17.41 7.96l-1.37-1.37c-.4-.4-.92-.59-1.43-.59-.52 0-1.04.2-1.43.59L10.3 9.45l-7.72 7.72c-.78.78-.78 2.05 0 2.83L4 21.41c.39.39.9.59 1.41.59.51 0 1.02-.2 1.41-.59l7.78-7.78 2.81-2.81c.8-.78.8-2.07 0-2.86zM5.41 20L4 18.59l7.72-7.72 1.47 1.35L5.41 20z\"/>\n",
              "  </svg>\n",
              "      </button>\n",
              "      \n",
              "  <style>\n",
              "    .colab-df-container {\n",
              "      display:flex;\n",
              "      flex-wrap:wrap;\n",
              "      gap: 12px;\n",
              "    }\n",
              "\n",
              "    .colab-df-convert {\n",
              "      background-color: #E8F0FE;\n",
              "      border: none;\n",
              "      border-radius: 50%;\n",
              "      cursor: pointer;\n",
              "      display: none;\n",
              "      fill: #1967D2;\n",
              "      height: 32px;\n",
              "      padding: 0 0 0 0;\n",
              "      width: 32px;\n",
              "    }\n",
              "\n",
              "    .colab-df-convert:hover {\n",
              "      background-color: #E2EBFA;\n",
              "      box-shadow: 0px 1px 2px rgba(60, 64, 67, 0.3), 0px 1px 3px 1px rgba(60, 64, 67, 0.15);\n",
              "      fill: #174EA6;\n",
              "    }\n",
              "\n",
              "    [theme=dark] .colab-df-convert {\n",
              "      background-color: #3B4455;\n",
              "      fill: #D2E3FC;\n",
              "    }\n",
              "\n",
              "    [theme=dark] .colab-df-convert:hover {\n",
              "      background-color: #434B5C;\n",
              "      box-shadow: 0px 1px 3px 1px rgba(0, 0, 0, 0.15);\n",
              "      filter: drop-shadow(0px 1px 2px rgba(0, 0, 0, 0.3));\n",
              "      fill: #FFFFFF;\n",
              "    }\n",
              "  </style>\n",
              "\n",
              "      <script>\n",
              "        const buttonEl =\n",
              "          document.querySelector('#df-410a224c-a171-4db1-ba2b-4730a149206f button.colab-df-convert');\n",
              "        buttonEl.style.display =\n",
              "          google.colab.kernel.accessAllowed ? 'block' : 'none';\n",
              "\n",
              "        async function convertToInteractive(key) {\n",
              "          const element = document.querySelector('#df-410a224c-a171-4db1-ba2b-4730a149206f');\n",
              "          const dataTable =\n",
              "            await google.colab.kernel.invokeFunction('convertToInteractive',\n",
              "                                                     [key], {});\n",
              "          if (!dataTable) return;\n",
              "\n",
              "          const docLinkHtml = 'Like what you see? Visit the ' +\n",
              "            '<a target=\"_blank\" href=https://colab.research.google.com/notebooks/data_table.ipynb>data table notebook</a>'\n",
              "            + ' to learn more about interactive tables.';\n",
              "          element.innerHTML = '';\n",
              "          dataTable['output_type'] = 'display_data';\n",
              "          await google.colab.output.renderOutput(dataTable, element);\n",
              "          const docLink = document.createElement('div');\n",
              "          docLink.innerHTML = docLinkHtml;\n",
              "          element.appendChild(docLink);\n",
              "        }\n",
              "      </script>\n",
              "    </div>\n",
              "  </div>\n",
              "  "
            ]
          },
          "metadata": {},
          "execution_count": 4
        }
      ]
    },
    {
      "cell_type": "code",
      "source": [
        "#@title util\n",
        "import matplotlib.pyplot as plt\n",
        "import numpy as np\n",
        "\n",
        "\n",
        "def add_intercept(x):\n",
        "    \"\"\"Add intercept to matrix x.\n",
        "\n",
        "    Args:\n",
        "        x: 2D NumPy array.\n",
        "\n",
        "    Returns:\n",
        "        New matrix same as x with 1's in the 0th column.\n",
        "    \"\"\"\n",
        "    new_x = np.zeros((x.shape[0], x.shape[1] + 1), dtype=x.dtype)\n",
        "    new_x[:, 0] = 1\n",
        "    new_x[:, 1:] = x\n",
        "\n",
        "    return new_x\n",
        "\n",
        "\n",
        "def load_dataset(csv_path, label_col='y', add_intercept=False):\n",
        "    \"\"\"Load dataset from a CSV file.\n",
        "\n",
        "    Args:\n",
        "         csv_path: Path to CSV file containing dataset.\n",
        "         label_col: Name of column to use as labels (should be 'y' or 'l').\n",
        "         add_intercept: Add an intercept entry to x-values.\n",
        "\n",
        "    Returns:\n",
        "        xs: Numpy array of x-values (inputs).\n",
        "        ys: Numpy array of y-values (labels).\n",
        "    \"\"\"\n",
        "\n",
        "    def add_intercept_fn(x):\n",
        "        global add_intercept\n",
        "        return add_intercept(x)\n",
        "\n",
        "    # Validate label_col argument\n",
        "    allowed_label_cols = ('y', 't')\n",
        "    if label_col not in allowed_label_cols:\n",
        "        raise ValueError('Invalid label_col: {} (expected {})'\n",
        "                         .format(label_col, allowed_label_cols))\n",
        "\n",
        "    # Load headers\n",
        "    with open(csv_path, 'r') as csv_fh:\n",
        "        headers = csv_fh.readline().strip().split(',')\n",
        "\n",
        "    # Load features and labels\n",
        "    x_cols = [i for i in range(len(headers)) if headers[i].startswith('x')]\n",
        "    l_cols = [i for i in range(len(headers)) if headers[i] == label_col]\n",
        "    inputs = np.loadtxt(csv_path, delimiter=',', skiprows=1, usecols=x_cols)\n",
        "    labels = np.loadtxt(csv_path, delimiter=',', skiprows=1, usecols=l_cols)\n",
        "\n",
        "    if inputs.ndim == 1:\n",
        "        inputs = np.expand_dims(inputs, -1)\n",
        "\n",
        "    if add_intercept:\n",
        "        inputs = add_intercept_fn(inputs)\n",
        "\n",
        "    return inputs, labels\n",
        "\n",
        "\n",
        "def plot(x, y, theta, save_path=None, correction=1.0):\n",
        "    \"\"\"Plot dataset and fitted logistic regression parameters.\n",
        "    Args:\n",
        "        x: Matrix of training examples, one per row.\n",
        "        y: Vector of labels in {0, 1}.\n",
        "        theta: Vector of parameters for logistic regression model.\n",
        "        save_path: Path to save the plot.\n",
        "        correction: Correction factor to apply (Problem 2(e) only).\n",
        "    \"\"\"\n",
        "    # Plot dataset\n",
        "    plt.figure()\n",
        "    plt.plot(x[y == 1, -2], x[y == 1, -1], 'bx', linewidth=2)\n",
        "    plt.plot(x[y == 0, -2], x[y == 0, -1], 'go', linewidth=2)\n",
        "\n",
        "    # Plot decision boundary (found by solving for theta^T x = 0)\n",
        "    margin1 = (max(x[:, -2]) - min(x[:, -2]))*0.2\n",
        "    margin2 = (max(x[:, -1]) - min(x[:, -1]))*0.2\n",
        "    x1 = np.arange(min(x[:, -2])-margin1, max(x[:, -2])+margin1, 0.01)\n",
        "    x2 = -(theta[0] / theta[2] * correction + theta[1] / theta[2] * x1)\n",
        "    plt.plot(x1, x2, c='red', linewidth=2)\n",
        "    plt.xlim(x[:, -2].min()-margin1, x[:, -2].max()+margin1)\n",
        "    plt.ylim(x[:, -1].min()-margin2, x[:, -1].max()+margin2)\n",
        "\n",
        "    # Add labels and save to disk\n",
        "    plt.xlabel('x1')\n",
        "    plt.ylabel('x2')\n",
        "    if save_path is not None:\n",
        "        plt.savefig(save_path)\n",
        "\n",
        "def sigmoid(theta, x):\n",
        "  theta_t = np.transpose(theta)\n",
        "  z = np.dot(theta_t,x)\n",
        "  result = 1/(1+np.exp(-z))\n",
        "  return result\n",
        "\n",
        "def criterion(h,y):#h: pred, y: actual\n",
        "  assert len(h) == len(y)\n",
        "  m = len(h)\n",
        "  loss = 0.\n",
        "  for i in range(m):\n",
        "    loss += -y[i]*math.log(h[i])-(1.-y[i])*math.log(1.-h[i])#BCE\n",
        "  #print(\"sum of loss:\",loss)\n",
        "  loss = loss/m\n",
        "  return loss\n",
        "\n",
        "def acc(h,y):\n",
        "  as_labels = []\n",
        "  for _ in h:\n",
        "    if _ > 0.5:\n",
        "      as_labels.append(1.)\n",
        "    elif _ <= 0.5:\n",
        "      as_labels.append(0.)\n",
        "  as_labels, y = np.array(as_labels), np.array(y)\n",
        "  #print(as_labels)\n",
        "  return (as_labels == y).sum()/len(as_labels)\n",
        "\n"
      ],
      "metadata": {
        "cellView": "form",
        "id": "O8No7SGlcyo4"
      },
      "execution_count": 5,
      "outputs": []
    },
    {
      "cell_type": "markdown",
      "source": [
        "## Logistic Regression Implementation"
      ],
      "metadata": {
        "id": "Q-bAX8IZdz06"
      }
    },
    {
      "cell_type": "code",
      "source": [
        "def check_convergence(previous_theta, new_theta):\n",
        "  eps=1e-5\n",
        "  dists = []\n",
        "  for p, n in zip(previous_theta, new_theta):\n",
        "    dists.append(abs(p-n))\n",
        "  diff = np.mean(dists)\n",
        "  print(f\"difference between thetas: {diff}\")\n",
        "  if diff < eps:\n",
        "    return True\n",
        "  else:\n",
        "    return False"
      ],
      "metadata": {
        "id": "2Mxo3A-jc-0F"
      },
      "execution_count": 6,
      "outputs": []
    },
    {
      "cell_type": "code",
      "source": [
        "#linear model\n",
        "class LinearModel(object):\n",
        "    \"\"\"Base class for linear models.\"\"\"\n",
        "\n",
        "    def __init__(self, step_size=0.2, max_iter=100, eps=1e-5,\n",
        "                 theta_0=[0.,0.,0.], verbose=True):\n",
        "        \"\"\"\n",
        "        Args:\n",
        "            step_size: Step size for iterative solvers only.\n",
        "            max_iter: Maximum number of iterations for the solver.\n",
        "            eps: Threshold for determining convergence.\n",
        "            theta_0: Initial guess for theta. If None, use the zero vector.\n",
        "            verbose: Print loss values during training.\n",
        "        \"\"\"\n",
        "        self.theta = theta_0\n",
        "        self.step_size = step_size\n",
        "        self.max_iter = max_iter\n",
        "        self.eps = eps\n",
        "        self.verbose = verbose\n",
        "\n",
        "    def fit(self, x, y):\n",
        "        x,y = shuffle(x,y)\n",
        "        \"\"\"Run solver to fit linear model.\n",
        "\n",
        "        Args:\n",
        "            x: Training example inputs. Shape (m, n).\n",
        "            y: Training example labels. Shape (m,).\n",
        "        \"\"\"\n",
        "        assert x.shape[0] ==  y.shape[0]\n",
        "        \n",
        "\n",
        "        ###### Find inverse of Hessian\n",
        "        #derivative of sigmoid\n",
        "        \n",
        "        prev_theta = copy.deepcopy(self.theta)\n",
        "        \n",
        "        m = x.shape[0]\n",
        "        Hessians = []\n",
        "        for j in range(3):\n",
        "          tmp_H = []\n",
        "          for k in range(3):\n",
        "            result_ = 0.\n",
        "            for i in range(m):\n",
        "              g = sigmoid(theta = self.theta, x = x[i])\n",
        "              result_ += g*(1-g)*x[i][j]*x[i][k]\n",
        "            result_ = result_/m\n",
        "            tmp_H.append(result_)\n",
        "          Hessians.append(tmp_H)\n",
        "        inverse_H = np.linalg.inv(Hessians)\n",
        "        #print(inverse_H)\n",
        "        \n",
        "        ###### Partial derivatives of l(theta) with respect to the theta's\n",
        "        i,j = 0,0\n",
        "        partial_d = []#partial d for x_0, x_1, x_2\n",
        "        for j in range(3):#for all features\n",
        "          tmp_d = 0. # save partial derivative for each feature\n",
        "          for i in range(m):\n",
        "            tmp_d += x[i][j]*(y[i]-sigmoid(theta = self.theta, x = x[i]))\n",
        "          tmp_d = tmp_d/m\n",
        "          partial_d.append(tmp_d)\n",
        "        assert len(partial_d) == x.shape[1]\n",
        "        #partial_d = np.array(partial_d).reshape(-1,1)\n",
        "        #print(\"inverse of Hessian:\\n\", inverse_H)\n",
        "        #print(\"\\n\\npartial deriv:\\n\", partial_d)\n",
        "\n",
        "        update_ = np.matmul(inverse_H, partial_d)\n",
        "\n",
        "        #calculate loss\n",
        "        preds = self.predict(x)\n",
        "        #print(\"predicted: \",preds[0])\n",
        "        #print(\"preds:\",preds, \"y:\",y)\n",
        "        #print(\"types:\",type(preds), type(y))\n",
        "        train_loss = criterion(preds, list(y))\n",
        "        print(\"train loss: \", train_loss)\n",
        "        train_acc = acc(preds, list(y))\n",
        "        print(\"train acc: \", train_acc)\n",
        "        #check convergence\n",
        "        #print(\"prev:\",prev_theta, \"new:\",update_)\n",
        "        self.theta = self.theta + update_\n",
        "        if check_convergence(prev_theta, self.theta) == True:\n",
        "          print(f\"Weights converged. (theta: {self.theta}\")\n",
        "          return True\n",
        "        return False\n",
        "        #print(update_)\n",
        "        #raise NotImplementedError('Subclass of LinearModel must implement fit method.')\n",
        "\n",
        "    def predict(self, x):\n",
        "        \"\"\"Make a prediction given new inputs x.\n",
        "\n",
        "        Args:\n",
        "            x: Inputs of shape (m, n).\n",
        "\n",
        "        Returns:\n",
        "            Outputs of shape (m,).\n",
        "        \"\"\"\n",
        "        preds = []\n",
        "        for sample in x:\n",
        "          #1/(1+np.exp(-z))\n",
        "          pred = sigmoid(self.theta, sample)\n",
        "          preds.append(pred)\n",
        "        return preds\n",
        "        #raise NotImplementedError('Subclass of LinearModel must implement predict method.')\n"
      ],
      "metadata": {
        "id": "a0BxIvNQdAk2"
      },
      "execution_count": 7,
      "outputs": []
    },
    {
      "cell_type": "code",
      "source": [
        "#p01b_logreg.py\n",
        "import numpy as np\n",
        "\n",
        "def main(train_path = '/content/ds1_train.csv', eval_path = '/content/ds1_valid.csv', pred_path = None):\n",
        "    \"\"\"Problem 1(b): Logistic regression with Newton's Method.\n",
        "\n",
        "    Args:\n",
        "        train_path: Path to CSV file containing dataset for training.\n",
        "        eval_path: Path to CSV file containing dataset for evaluation.\n",
        "        pred_path: Path to save predictions.\n",
        "    \"\"\"\n",
        "    x_train, y_train = load_dataset(train_path, add_intercept=True)\n",
        "    print(f\"train dataset loaded (x with intercept on 0th col: {x_train.shape}, y: {y_train.shape})\")\n",
        "    \n",
        "    # *** START CODE HERE ***\n",
        "    print(\"================Training Starts===========\\n\")\n",
        "    clf = LogisticRegression()\n",
        "    clf.fit(x_train, y_train)\n",
        "    \n",
        "    print(\"==============Validation starts===========\")\n",
        "    x_val, y_val = load_dataset(eval_path, add_intercept=True)\n",
        "  \n",
        "    print(f\"validation dataset loaded (x with intercept on 0th col: {x_val.shape}, y: {y_val.shape})\")\n",
        "    \n",
        "    pred_val = clf.predict(x_val)\n",
        "    val_loss = criterion(pred_val, y_val)\n",
        "    val_acc = acc(pred_val, y_val)\n",
        "    count = 0\n",
        "    print(\"validation loss:\",val_loss)\n",
        "    print(\"validation acc:\",val_acc)\n",
        "\n",
        "    # *** END CODE HERE ***\n",
        "    \n",
        "\n",
        "\n",
        "class LogisticRegression(LinearModel):\n",
        "    \"\"\"Logistic regression with Newton's Method as the solver.\n",
        "\n",
        "    Example usage:\n",
        "        > clf = LogisticRegression()\n",
        "        > clf.fit(x_train, y_train)\n",
        "        > clf.predict(x_eval)\n",
        "    \"\"\"\n",
        "    def __init__(self):\n",
        "      self.model = LinearModel()\n",
        "\n",
        "    def fit(self, x, y):\n",
        "        \"\"\"Run Newton's Method to minimize J(theta) for logistic regression.\n",
        "\n",
        "        Args:\n",
        "            x: Training example inputs. Shape (m, n).\n",
        "            y: Training example labels. Shape (m,).\n",
        "        \"\"\"\n",
        "      \n",
        "        # *** START CODE HERE ***\n",
        "        #model = LinearModel()\n",
        "        model = self.model\n",
        "        i = 0\n",
        "        iter = 10\n",
        "        while i<iter:#True:\n",
        "          print(f\"epoch: {i}\")\n",
        "          check_conv = model.fit(x,y)\n",
        "          if check_conv == True:\n",
        "            break\n",
        "          i += 1\n",
        "        # *** END CODE HERE ***\n",
        "\n",
        "    def predict(self, x):\n",
        "        \"\"\"Make a prediction given new inputs x.\n",
        "\n",
        "        Args:\n",
        "            x: Inputs of shape (m, n).\n",
        "\n",
        "        Returns:\n",
        "            Outputs of shape (m,).\n",
        "        \"\"\"\n",
        "        # *** START CODE HERE ***\n",
        "        return self.model.predict(x)\n",
        "        # *** END CODE HERE ***"
      ],
      "metadata": {
        "id": "O2O6aUPWdEDt"
      },
      "execution_count": null,
      "outputs": []
    },
    {
      "cell_type": "code",
      "source": [
        "main()#Logistic Regression"
      ],
      "metadata": {
        "colab": {
          "base_uri": "https://localhost:8080/"
        },
        "id": "LK5ou7BodHw0",
        "outputId": "67a58c3a-7c74-4bde-c541-94100355e242"
      },
      "execution_count": null,
      "outputs": [
        {
          "output_type": "stream",
          "name": "stdout",
          "text": [
            "train dataset loaded (x with intercept on 0th col: (800, 3), y: (800,))\n",
            "================Training Starts===========\n",
            "\n",
            "epoch: 0\n",
            "train loss:  0.6931471805599426\n",
            "train acc:  0.5\n",
            "difference between thetas: 1.4554742786112016\n",
            "epoch: 1\n",
            "train loss:  0.4117763837603567\n",
            "train acc:  0.86625\n",
            "difference between thetas: 0.7451431202836653\n",
            "epoch: 2\n",
            "train loss:  0.34386418420634207\n",
            "train acc:  0.8725\n",
            "difference between thetas: 0.49898465555465216\n",
            "epoch: 3\n",
            "train loss:  0.32715319008479665\n",
            "train acc:  0.88125\n",
            "difference between thetas: 0.19810485359376348\n",
            "epoch: 4\n",
            "train loss:  0.32559133608624186\n",
            "train acc:  0.8825\n",
            "difference between thetas: 0.0243566766906724\n",
            "epoch: 5\n",
            "train loss:  0.3255719149202474\n",
            "train acc:  0.8825\n",
            "difference between thetas: 0.0003263278944413775\n",
            "epoch: 6\n",
            "train loss:  0.3255719112349648\n",
            "train acc:  0.8825\n",
            "difference between thetas: 6.009403684392733e-08\n",
            "Weights converged. (theta: [-6.26018491  2.47707251 -0.0299125 ]\n",
            "==============Validation starts===========\n",
            "validation dataset loaded (x with intercept on 0th col: (100, 3), y: (100,))\n",
            "validation loss: 0.27133098311965553\n",
            "validation acc: 0.9\n"
          ]
        }
      ]
    },
    {
      "cell_type": "code",
      "source": [
        "logistic_theta = [-6.26018491,  2.47707251, -0.0299125 ]"
      ],
      "metadata": {
        "id": "hGL2TIEVdKGT"
      },
      "execution_count": 8,
      "outputs": []
    },
    {
      "cell_type": "markdown",
      "source": [
        "## Gaussian Discriminant Analysis Implementation"
      ],
      "metadata": {
        "id": "RCsKLhPxd29r"
      }
    },
    {
      "cell_type": "code",
      "source": [
        "def convert_numpy(x):\n",
        "  list_ = []\n",
        "  for _ in x:\n",
        "    list_.append(np.array(_))\n",
        "  return list_[0],list_[1],list_[2], list_[3]"
      ],
      "metadata": {
        "id": "E_zF_GgBd6Ox"
      },
      "execution_count": 9,
      "outputs": []
    },
    {
      "cell_type": "code",
      "source": [
        "import math\n",
        "def sigmoid(z):\n",
        "  result = 1/(1+np.exp(-z))\n",
        "  return result"
      ],
      "metadata": {
        "id": "_lmKLaixd7fm"
      },
      "execution_count": 10,
      "outputs": []
    },
    {
      "cell_type": "code",
      "source": [
        "import numpy as np\n",
        "\n",
        "\n",
        "def main(train_path = \"/content/ds1_train.csv\", eval_path = \"/content/ds1_valid.csv\", pred_path = None):\n",
        "    \"\"\"Problem 1(e): Gaussian discriminant analysis (GDA)\n",
        "\n",
        "    Args:\n",
        "        train_path: Path to CSV file containing dataset for training.\n",
        "        eval_path: Path to CSV file containing dataset for evaluation.\n",
        "        pred_path: Path to save predictions.\n",
        "    \"\"\"\n",
        "    # Load dataset\n",
        "    x_train, y_train = load_dataset(train_path, add_intercept=False)\n",
        "    print(f\"train dataset loaded (x: {x_train.shape}, y: {y_train.shape})\")\n",
        "    \n",
        "    # *** START CODE HERE ***\n",
        "    clf = GDA()\n",
        "    phi, mu_0, mu_1, sigma = clf.fit(x_train, y_train)\n",
        "    #print(f\"params: {phi, mu_0, mu_1, sigma}\")\n",
        "    predicted=[]\n",
        "    for x_ in x_train:\n",
        "      pred = clf.predict(x_)\n",
        "      predicted.append(pred)\n",
        "    train_acc = acc(predicted, y_train)\n",
        "    print(f\"train_acc: {train_acc}\")\n",
        "\n",
        "\n",
        "\n",
        "\n",
        "    # Validation dataset\n",
        "    x_val, y_val = load_dataset(eval_path, add_intercept= False)\n",
        "    print(f\"eval dataset loaded (x: {x_val.shape}, y: {y_val.shape})\")\n",
        "    predicted_val = []\n",
        "    for x_ in x_val:\n",
        "      pred = clf.predict(x_)\n",
        "      predicted_val.append(pred)\n",
        "    val_acc = acc(predicted_val, y_val)\n",
        "    print(f\"val_acc: {val_acc}\")\n",
        "    \n",
        "    #return phi, mu_0, mu_1, sigma\n",
        "    return predicted, predicted_val, clf#predictions for train dset & validation dset\n",
        "    # *** END CODE HERE ***\n",
        "\n",
        "\n",
        "class GDA(LinearModel):\n",
        "    \"\"\"Gaussian Discriminant Analysis.\n",
        "\n",
        "    Example usage:\n",
        "        > clf = GDA()\n",
        "        > clf.fit(x_train, y_train)\n",
        "        > clf.predict(x_eval)\n",
        "\n",
        "    \"\"\"\n",
        "    def __init__(self, phi = None, mu_0 = None, mu_1 = None, sigma = None, theta = None, theta_0 = None):\n",
        "      self.phi = phi\n",
        "      self.mu_0 = mu_0\n",
        "      self.mu_1 = mu_1\n",
        "      self.sigma = sigma\n",
        "      self.theta = theta\n",
        "      self.theta_0 = theta_0\n",
        "\n",
        "    def fit(self, x, y):\n",
        "        \"\"\"Fit a GDA model to training set given by x and y.\n",
        "\n",
        "        Args:\n",
        "            x: Training example inputs. Shape (m, n).\n",
        "            y: Training example labels. Shape (m,).\n",
        "\n",
        "        Returns:\n",
        "            theta: GDA model parameters.\n",
        "        \"\"\"\n",
        "        # *** START CODE HERE ***\n",
        "        m = len(y)\n",
        "        x_train, y_train = x,y\n",
        "        assert m == x.shape[0]\n",
        "        phi = np.array(np.where(y_train == 1)).shape[1]/m\n",
        "        zero_indices = np.array(np.where(y_train == 0))[0]\n",
        "        mu_0 =np.sum(x_train[zero_indices],axis = 0)/len(np.array(np.where(y_train == 0))[0])\n",
        "        one_indices = np.array(np.where(y_train == 1))[0]\n",
        "        mu_1 = np.sum(x_train[one_indices],axis = 0)/len(np.array(np.where(y_train == 1))[0])\n",
        "        sum_sigma = 0\n",
        "        for x_, y_ in zip(x, y):\n",
        "          x_ = np.array(x_)\n",
        "          if y_ == 1:\n",
        "            tmp = x_-mu_1\n",
        "            tmp = np.array(tmp).reshape(-1,1)\n",
        "            sum_sigma += np.matmul(tmp, tmp.T)\n",
        "          elif y_ == 0:\n",
        "            tmp = x_ - mu_0\n",
        "            tmp = np.array(tmp).reshape(-1,1)\n",
        "            sum_sigma += np.matmul(tmp, tmp.T)\n",
        "        sigma = sum_sigma/m\n",
        "        self.phi = phi\n",
        "        self.mu_0 = mu_0\n",
        "        self.mu_1 = mu_1\n",
        "        self.sigma = sigma\n",
        "        \n",
        "  \n",
        "        return phi, mu_0, mu_1, sigma\n",
        "        # *** END CODE HERE ***\n",
        "\n",
        "    def predict(self, x):\n",
        "        \"\"\"Make a prediction given new inputs x.\n",
        "\n",
        "        Args:\n",
        "            x: Inputs of shape (m, n).\n",
        "\n",
        "        Returns:\n",
        "            Outputs of shape (m,).\n",
        "        \"\"\"\n",
        "        \n",
        "\n",
        "        # *** START CODE HERE ***\n",
        "        phi, mu_0, mu_1, sigma = self.phi, self.mu_0, self.mu_1, self.sigma\n",
        "        phi, mu_0, mu_1, sigma = convert_numpy([phi, mu_0, mu_1, sigma])\n",
        "        mu_0, mu_1 = mu_0.reshape(-1,1),mu_1.reshape(-1,1)\n",
        "       \n",
        "        theta_transpose = -np.matmul((mu_0 - mu_1).T, np.linalg.inv(sigma))\n",
        "        #print(f\"shapes: {mu_0.T.shape, np.linalg.inv(sigma).shape, mu_0.shape}\")\n",
        "        #print(f\"shapes: {mu_1.T.shape, np.linalg.inv(sigma).shape,mu_1.shape}\")\n",
        "        first_matmul = np.matmul(np.matmul(mu_0.T, np.linalg.inv(sigma)), mu_0)\n",
        "        second_matmul = np.matmul(np.matmul(mu_1.T, np.linalg.inv(sigma)),mu_1)\n",
        "        #print(f\"first matmul: {first_matmul} second matmul: {second_matmul}\")\n",
        "        #print(f\"phi: {phi}\")\n",
        "        \n",
        "        theta_0 = 0.5*(first_matmul-second_matmul)-math.log((1.-phi)/phi)\n",
        "        x = np.array(x).reshape(-1,1)\n",
        "        z = np.matmul(theta_transpose,x)+theta_0\n",
        "        p_1 = sigmoid(z)\n",
        "        self.theta = theta_transpose.T\n",
        "        self.theta_0 = theta_0[0]\n",
        "        #print(f\"theta: {theta_transpose.T}, theta0: {theta_0}\")\n",
        "        return p_1\n",
        "        # *** END CODE HERE"
      ],
      "metadata": {
        "id": "_vCyH_B5eB65"
      },
      "execution_count": 11,
      "outputs": []
    },
    {
      "cell_type": "code",
      "source": [
        "pred_train, pred_val, gda = main()#GDA"
      ],
      "metadata": {
        "colab": {
          "base_uri": "https://localhost:8080/"
        },
        "id": "8HA8D1FFeD7C",
        "outputId": "93697d7c-9ddc-45f4-9705-bec0c23b914c"
      },
      "execution_count": null,
      "outputs": [
        {
          "output_type": "stream",
          "name": "stdout",
          "text": [
            "train dataset loaded (x: (800, 2), y: (800,))\n",
            "train_acc: 0.86625\n",
            "eval dataset loaded (x: (100, 2), y: (100,))\n",
            "val_acc: 0.83\n"
          ]
        }
      ]
    },
    {
      "cell_type": "code",
      "source": [
        "train_path = '/content/ds1_train.csv'\n",
        "eval_path = '/content/ds1_valid.csv'"
      ],
      "metadata": {
        "id": "asP6WGj-dNV0"
      },
      "execution_count": 12,
      "outputs": []
    },
    {
      "cell_type": "code",
      "source": [
        "x_train, y_train = load_dataset(train_path, add_intercept=False)\n",
        "x_val, y_val = load_dataset(eval_path, add_intercept= False)"
      ],
      "metadata": {
        "id": "Xok8xr8AeK6N"
      },
      "execution_count": null,
      "outputs": []
    },
    {
      "cell_type": "code",
      "source": [
        "gda_thetas = np.stack([gda.theta_0[0]]+list(gda.theta.flatten()))\n",
        "gda_thetas"
      ],
      "metadata": {
        "colab": {
          "base_uri": "https://localhost:8080/"
        },
        "id": "CPRvd65MeNqq",
        "outputId": "6216723b-6583-4a3a-8d53-147092f73fb3"
      },
      "execution_count": null,
      "outputs": [
        {
          "output_type": "execute_result",
          "data": {
            "text/plain": [
              "array([-6.17158405,  2.22055506, -0.01763375])"
            ]
          },
          "metadata": {},
          "execution_count": 27
        }
      ]
    },
    {
      "cell_type": "code",
      "source": [
        "x_train, y_train = load_dataset(train_path, add_intercept=True)\n",
        "x_val, y_val = load_dataset(eval_path, add_intercept=True)"
      ],
      "metadata": {
        "id": "1WRWIUVUdOic"
      },
      "execution_count": null,
      "outputs": []
    },
    {
      "cell_type": "code",
      "source": [
        "def plot(x, y, theta = logistic_theta, gda_theta = gda_thetas, save_path=None, correction=1.0, title = \"\"):\n",
        "    \"\"\"Plot dataset and fitted logistic regression parameters.\n",
        "    Args:\n",
        "        x: Matrix of training examples, one per row.\n",
        "        y: Vector of labels in {0, 1}.\n",
        "        theta: Vector of parameters for logistic regression model.\n",
        "        save_path: Path to save the plot.\n",
        "        correction: Correction factor to apply (Problem 2(e) only).\n",
        "    \"\"\"\n",
        "    # Plot dataset\n",
        "    plt.figure()\n",
        "    plt.title(title)\n",
        "    plt.plot(x[y == 1, -2], x[y == 1, -1], 'bx', linewidth=2)\n",
        "    plt.plot(x[y == 0, -2], x[y == 0, -1], 'go', linewidth=2)\n",
        "\n",
        "    # Plot decision boundary (found by solving for theta^T x = 0)\n",
        "    margin1 = (max(x[:, -2]) - min(x[:, -2]))*0.2\n",
        "    margin2 = (max(x[:, -1]) - min(x[:, -1]))*0.2\n",
        "    \n",
        "    #logistic regression boundary\n",
        "    x1 = np.arange(min(x[:, -2])-margin1, max(x[:, -2])+margin1, 0.01)\n",
        "    x2 = -(theta[0] / theta[2] * correction + theta[1] / theta[2] * x1)\n",
        "    plt.plot(x1, x2, c='red', linewidth=2, label = \"LR\")\n",
        "\n",
        "    #gda boundary\n",
        "    x1 = np.arange(min(x[:, -2])-margin1, max(x[:, -2])+margin1, 0.01)\n",
        "    x2 = -(theta[0] / gda_theta[2] * correction + gda_theta[1] / gda_theta[2] * x1)\n",
        "    plt.plot(x1, x2, c='pink', linewidth=2, label = \"GDA\")\n",
        "\n",
        "    plt.xlim(x[:, -2].min()-margin1, x[:, -2].max()+margin1)\n",
        "    plt.ylim(x[:, -1].min()-margin2, x[:, -1].max()+margin2)\n",
        "    plt.legend()\n",
        "\n",
        "    # Add labels and save to disk\n",
        "    plt.xlabel('x1')\n",
        "    plt.ylabel('x2')\n",
        "    if save_path is not None:\n",
        "        plt.savefig(save_path)"
      ],
      "metadata": {
        "id": "2C2Hezdddj3K"
      },
      "execution_count": null,
      "outputs": []
    },
    {
      "cell_type": "markdown",
      "source": [
        "# Visualize Results"
      ],
      "metadata": {
        "id": "5DZVLH0WdiKm"
      }
    },
    {
      "cell_type": "markdown",
      "source": [
        "- LR: train acc:  0.8825\n",
        "- GDA: train acc: 0.8662"
      ],
      "metadata": {
        "id": "XuAEK8SbgkZQ"
      }
    },
    {
      "cell_type": "code",
      "source": [
        "plot(x_train, y_train, title = \"decision boundaries on train dataset\")"
      ],
      "metadata": {
        "colab": {
          "base_uri": "https://localhost:8080/",
          "height": 295
        },
        "id": "Qn4ekO0jdWjQ",
        "outputId": "db497e38-0e1c-438c-fdbc-c0cddfa9ea52"
      },
      "execution_count": null,
      "outputs": [
        {
          "output_type": "display_data",
          "data": {
            "text/plain": [
              "<Figure size 432x288 with 1 Axes>"
            ],
            "image/png": "[encoded data removed]"
          },
          "metadata": {
            "needs_background": "light"
          }
        }
      ]
    },
    {
      "cell_type": "markdown",
      "source": [
        "- LR: val_acc: 0.9\n",
        "- GDA: val_acc: 0.83"
      ],
      "metadata": {
        "id": "WFVNuaDLgqVY"
      }
    },
    {
      "cell_type": "code",
      "source": [
        "plot(x_val, y_val, title = \"decision boundaries on valid dataset\")"
      ],
      "metadata": {
        "colab": {
          "base_uri": "https://localhost:8080/",
          "height": 295
        },
        "id": "aMpHYR-Hday0",
        "outputId": "2a13173c-8fa6-48f8-8147-f687c5f3e9df"
      },
      "execution_count": null,
      "outputs": [
        {
          "output_type": "display_data",
          "data": {
            "text/plain": [
              "<Figure size 432x288 with 1 Axes>"
            ],
            "image/png": "[encoded data removed]"
          },
          "metadata": {
            "needs_background": "light"
          }
        }
      ]
    },
    {
      "cell_type": "markdown",
      "source": [
        "# 1.(g) \n",
        "\n",
        "Repeat the steps in part (f) for Dataset 2, On which dataset does GDA seem to work worse that logistic regression? Why might be the case?"
      ],
      "metadata": {
        "id": "pxk-9bL2fgJ-"
      }
    },
    {
      "cell_type": "markdown",
      "source": [
        "## Logistic Regression"
      ],
      "metadata": {
        "id": "RIJ6TXVmfyA3"
      }
    },
    {
      "cell_type": "code",
      "source": [
        "#linear model\n",
        "class LinearModel(object):\n",
        "    \"\"\"Base class for linear models.\"\"\"\n",
        "\n",
        "    def __init__(self, step_size=0.2, max_iter=100, eps=1e-5,\n",
        "                 theta_0=[0.,0.,0.], verbose=True):\n",
        "        \"\"\"\n",
        "        Args:\n",
        "            step_size: Step size for iterative solvers only.\n",
        "            max_iter: Maximum number of iterations for the solver.\n",
        "            eps: Threshold for determining convergence.\n",
        "            theta_0: Initial guess for theta. If None, use the zero vector.\n",
        "            verbose: Print loss values during training.\n",
        "        \"\"\"\n",
        "        self.theta = theta_0\n",
        "        self.step_size = step_size\n",
        "        self.max_iter = max_iter\n",
        "        self.eps = eps\n",
        "        self.verbose = verbose\n",
        "\n",
        "    def fit(self, x, y):\n",
        "        x,y = shuffle(x,y)\n",
        "        \"\"\"Run solver to fit linear model.\n",
        "\n",
        "        Args:\n",
        "            x: Training example inputs. Shape (m, n).\n",
        "            y: Training example labels. Shape (m,).\n",
        "        \"\"\"\n",
        "        assert x.shape[0] ==  y.shape[0]\n",
        "        \n",
        "\n",
        "        ###### Find inverse of Hessian\n",
        "        #derivative of sigmoid\n",
        "        \n",
        "        prev_theta = copy.deepcopy(self.theta)\n",
        "        \n",
        "        m = x.shape[0]\n",
        "        Hessians = []\n",
        "        for j in range(3):\n",
        "          tmp_H = []\n",
        "          for k in range(3):\n",
        "            result_ = 0.\n",
        "            for i in range(m):\n",
        "              g = sigmoid(theta = self.theta, x = x[i])\n",
        "              result_ += g*(1-g)*x[i][j]*x[i][k]\n",
        "            result_ = result_/m\n",
        "            tmp_H.append(result_)\n",
        "          Hessians.append(tmp_H)\n",
        "        inverse_H = np.linalg.inv(Hessians)\n",
        "        #print(inverse_H)\n",
        "        \n",
        "        ###### Partial derivatives of l(theta) with respect to the theta's\n",
        "        i,j = 0,0\n",
        "        partial_d = []#partial d for x_0, x_1, x_2\n",
        "        for j in range(3):#for all features\n",
        "          tmp_d = 0. # save partial derivative for each feature\n",
        "          for i in range(m):\n",
        "            tmp_d += x[i][j]*(y[i]-sigmoid(theta = self.theta, x = x[i]))\n",
        "          tmp_d = tmp_d/m\n",
        "          partial_d.append(tmp_d)\n",
        "        assert len(partial_d) == x.shape[1]\n",
        "        #partial_d = np.array(partial_d).reshape(-1,1)\n",
        "        #print(\"inverse of Hessian:\\n\", inverse_H)\n",
        "        #print(\"\\n\\npartial deriv:\\n\", partial_d)\n",
        "\n",
        "        update_ = np.matmul(inverse_H, partial_d)\n",
        "\n",
        "        #calculate loss\n",
        "        preds = self.predict(x)\n",
        "        #print(\"predicted: \",preds[0])\n",
        "        #print(\"preds:\",preds, \"y:\",y)\n",
        "        #print(\"types:\",type(preds), type(y))\n",
        "        train_loss = criterion(preds, list(y))\n",
        "        print(\"train loss: \", train_loss)\n",
        "        train_acc = acc(preds, list(y))\n",
        "        print(\"train acc: \", train_acc)\n",
        "        #check convergence\n",
        "        #print(\"prev:\",prev_theta, \"new:\",update_)\n",
        "        self.theta = self.theta + update_\n",
        "        if check_convergence(prev_theta, self.theta) == True:\n",
        "          print(f\"Weights converged. (theta: {self.theta}\")\n",
        "          return True\n",
        "        return False\n",
        "        #print(update_)\n",
        "        #raise NotImplementedError('Subclass of LinearModel must implement fit method.')\n",
        "\n",
        "    def predict(self, x):\n",
        "        \"\"\"Make a prediction given new inputs x.\n",
        "\n",
        "        Args:\n",
        "            x: Inputs of shape (m, n).\n",
        "\n",
        "        Returns:\n",
        "            Outputs of shape (m,).\n",
        "        \"\"\"\n",
        "        preds = []\n",
        "        for sample in x:\n",
        "          #1/(1+np.exp(-z))\n",
        "          pred = sigmoid(self.theta, sample)\n",
        "          preds.append(pred)\n",
        "        return preds\n",
        "        #raise NotImplementedError('Subclass of LinearModel must implement predict method.')\n"
      ],
      "metadata": {
        "id": "pyoPYnkEfpXd"
      },
      "execution_count": null,
      "outputs": []
    },
    {
      "cell_type": "code",
      "source": [
        "#p01b_logreg.py\n",
        "import numpy as np\n",
        "\n",
        "def main(train_path = '/content/ds2_train.csv', eval_path = '/content/ds2_valid.csv', pred_path = None):\n",
        "    \"\"\"Problem 1(b): Logistic regression with Newton's Method.\n",
        "\n",
        "    Args:\n",
        "        train_path: Path to CSV file containing dataset for training.\n",
        "        eval_path: Path to CSV file containing dataset for evaluation.\n",
        "        pred_path: Path to save predictions.\n",
        "    \"\"\"\n",
        "    x_train, y_train = load_dataset(train_path, add_intercept=True)\n",
        "    print(f\"train dataset loaded (x with intercept on 0th col: {x_train.shape}, y: {y_train.shape})\")\n",
        "    \n",
        "    # *** START CODE HERE ***\n",
        "    print(\"================Training Starts===========\\n\")\n",
        "    clf = LogisticRegression()\n",
        "    clf.fit(x_train, y_train)\n",
        "    \n",
        "    print(\"==============Validation starts===========\")\n",
        "    x_val, y_val = load_dataset(eval_path, add_intercept=True)\n",
        "  \n",
        "    print(f\"validation dataset loaded (x with intercept on 0th col: {x_val.shape}, y: {y_val.shape})\")\n",
        "    \n",
        "    pred_val = clf.predict(x_val)\n",
        "    val_loss = criterion(pred_val, y_val)\n",
        "    val_acc = acc(pred_val, y_val)\n",
        "    count = 0\n",
        "    print(\"validation loss:\",val_loss)\n",
        "    print(\"validation acc:\",val_acc)\n",
        "\n",
        "    # *** END CODE HERE ***\n",
        "    \n",
        "\n",
        "\n",
        "class LogisticRegression(LinearModel):\n",
        "    \"\"\"Logistic regression with Newton's Method as the solver.\n",
        "\n",
        "    Example usage:\n",
        "        > clf = LogisticRegression()\n",
        "        > clf.fit(x_train, y_train)\n",
        "        > clf.predict(x_eval)\n",
        "    \"\"\"\n",
        "    def __init__(self):\n",
        "      self.model = LinearModel()\n",
        "\n",
        "    def fit(self, x, y):\n",
        "        \"\"\"Run Newton's Method to minimize J(theta) for logistic regression.\n",
        "\n",
        "        Args:\n",
        "            x: Training example inputs. Shape (m, n).\n",
        "            y: Training example labels. Shape (m,).\n",
        "        \"\"\"\n",
        "      \n",
        "        # *** START CODE HERE ***\n",
        "        #model = LinearModel()\n",
        "        model = self.model\n",
        "        i = 0\n",
        "        iter = 10\n",
        "        while i<iter:#True:\n",
        "          print(f\"epoch: {i}\")\n",
        "          check_conv = model.fit(x,y)\n",
        "          if check_conv == True:\n",
        "            break\n",
        "          i += 1\n",
        "        # *** END CODE HERE ***\n",
        "\n",
        "    def predict(self, x):\n",
        "        \"\"\"Make a prediction given new inputs x.\n",
        "\n",
        "        Args:\n",
        "            x: Inputs of shape (m, n).\n",
        "\n",
        "        Returns:\n",
        "            Outputs of shape (m,).\n",
        "        \"\"\"\n",
        "        # *** START CODE HERE ***\n",
        "        return self.model.predict(x)\n",
        "        # *** END CODE HERE ***"
      ],
      "metadata": {
        "id": "Ar1igbxBfv72"
      },
      "execution_count": null,
      "outputs": []
    },
    {
      "cell_type": "code",
      "source": [
        "main()#Logistic Regression"
      ],
      "metadata": {
        "colab": {
          "base_uri": "https://localhost:8080/"
        },
        "id": "X68GsssUf0E0",
        "outputId": "a426fbd6-61a9-4316-aee8-59b19e8fb5ec"
      },
      "execution_count": null,
      "outputs": [
        {
          "output_type": "stream",
          "name": "stdout",
          "text": [
            "train dataset loaded (x with intercept on 0th col: (800, 3), y: (800,))\n",
            "================Training Starts===========\n",
            "\n",
            "epoch: 0\n",
            "train loss:  0.6931471805599426\n",
            "train acc:  0.5\n",
            "difference between thetas: 1.150780468912868\n",
            "epoch: 1\n",
            "train loss:  0.30897679688997937\n",
            "train acc:  0.91375\n",
            "difference between thetas: 0.8004771998224035\n",
            "epoch: 2\n",
            "train loss:  0.22984552562488086\n",
            "train acc:  0.915\n",
            "difference between thetas: 0.7207139230139052\n",
            "epoch: 3\n",
            "train loss:  0.20550760595803208\n",
            "train acc:  0.915\n",
            "difference between thetas: 0.4613206994308981\n",
            "epoch: 4\n",
            "train loss:  0.20103088010308304\n",
            "train acc:  0.915\n",
            "difference between thetas: 0.13557600775136494\n",
            "epoch: 5\n",
            "train loss:  0.2007930051019603\n",
            "train acc:  0.915\n",
            "difference between thetas: 0.00900101133180146\n",
            "epoch: 6\n",
            "train loss:  0.2007920783675635\n",
            "train acc:  0.915\n",
            "difference between thetas: 3.685590210415294e-05\n",
            "epoch: 7\n",
            "train loss:  0.200792078351712\n",
            "train acc:  0.915\n",
            "difference between thetas: 6.258679500585155e-10\n",
            "Weights converged. (theta: [ 2.38425454  3.6371206  -3.81234337]\n",
            "==============Validation starts===========\n",
            "validation dataset loaded (x with intercept on 0th col: (100, 3), y: (100,))\n",
            "validation loss: 0.21920570998983624\n",
            "validation acc: 0.91\n"
          ]
        }
      ]
    },
    {
      "cell_type": "code",
      "source": [
        "logistic_theta = [ 2.38425454,  3.6371206,  -3.81234337]"
      ],
      "metadata": {
        "id": "yBaBLWjrf8FL"
      },
      "execution_count": null,
      "outputs": []
    },
    {
      "cell_type": "markdown",
      "source": [
        "## Gaussian Discriminant Analysis"
      ],
      "metadata": {
        "id": "f9FLYStggTz1"
      }
    },
    {
      "cell_type": "code",
      "source": [
        "import math\n",
        "def sigmoid(z):\n",
        "  result = 1/(1+np.exp(-z))\n",
        "  return result"
      ],
      "metadata": {
        "id": "yGdfuuR4gHwm"
      },
      "execution_count": 40,
      "outputs": []
    },
    {
      "cell_type": "code",
      "source": [
        "import numpy as np\n",
        "\n",
        "\n",
        "def main(train_path = \"/content/ds2_train.csv\", eval_path = \"/content/ds2_valid.csv\", pred_path = None):\n",
        "    \"\"\"Problem 1(e): Gaussian discriminant analysis (GDA)\n",
        "\n",
        "    Args:\n",
        "        train_path: Path to CSV file containing dataset for training.\n",
        "        eval_path: Path to CSV file containing dataset for evaluation.\n",
        "        pred_path: Path to save predictions.\n",
        "    \"\"\"\n",
        "    # Load dataset\n",
        "    x_train, y_train = load_dataset(train_path, add_intercept=False)\n",
        "    print(f\"dataset names: {train_path, eval_path}\")\n",
        "    print(f\"train dataset loaded (x: {x_train.shape}, y: {y_train.shape})\")\n",
        "    \n",
        "    # *** START CODE HERE ***\n",
        "    clf = GDA()\n",
        "    phi, mu_0, mu_1, sigma = clf.fit(x_train, y_train)\n",
        "    #print(f\"params: {phi, mu_0, mu_1, sigma}\")\n",
        "    predicted=[]\n",
        "    for x_ in x_train:\n",
        "      pred = clf.predict(x_)\n",
        "      predicted.append(pred)\n",
        "    train_acc = acc(predicted, y_train)\n",
        "    print(f\"train_acc: {train_acc}\")\n",
        "\n",
        "\n",
        "\n",
        "\n",
        "    # Validation dataset\n",
        "    x_val, y_val = load_dataset(eval_path, add_intercept= False)\n",
        "    print(f\"eval dataset loaded (x: {x_val.shape}, y: {y_val.shape})\")\n",
        "    predicted_val = []\n",
        "    for x_ in x_val:\n",
        "      pred = clf.predict(x_)\n",
        "      predicted_val.append(pred)\n",
        "    val_acc = acc(predicted_val, y_val)\n",
        "    print(f\"val_acc: {val_acc}\")\n",
        "    \n",
        "    #return phi, mu_0, mu_1, sigma\n",
        "    return predicted, predicted_val, clf#predictions for train dset & validation dset\n",
        "    # *** END CODE HERE ***\n",
        "\n",
        "\n",
        "class GDA(LinearModel):\n",
        "    \"\"\"Gaussian Discriminant Analysis.\n",
        "\n",
        "    Example usage:\n",
        "        > clf = GDA()\n",
        "        > clf.fit(x_train, y_train)\n",
        "        > clf.predict(x_eval)\n",
        "\n",
        "    \"\"\"\n",
        "    def __init__(self, phi = None, mu_0 = None, mu_1 = None, sigma = None, theta = None, theta_0 = None):\n",
        "      self.phi = phi\n",
        "      self.mu_0 = mu_0\n",
        "      self.mu_1 = mu_1\n",
        "      self.sigma = sigma\n",
        "      self.theta = theta\n",
        "      self.theta_0 = theta_0\n",
        "\n",
        "    def fit(self, x, y):\n",
        "        \"\"\"Fit a GDA model to training set given by x and y.\n",
        "\n",
        "        Args:\n",
        "            x: Training example inputs. Shape (m, n).\n",
        "            y: Training example labels. Shape (m,).\n",
        "\n",
        "        Returns:\n",
        "            theta: GDA model parameters.\n",
        "        \"\"\"\n",
        "        # *** START CODE HERE ***\n",
        "        m = len(y)\n",
        "        x_train, y_train = x,y\n",
        "        assert m == x.shape[0]\n",
        "        phi = np.array(np.where(y_train == 1)).shape[1]/m\n",
        "        zero_indices = np.array(np.where(y_train == 0))[0]\n",
        "        mu_0 =np.sum(x_train[zero_indices],axis = 0)/len(np.array(np.where(y_train == 0))[0])\n",
        "        one_indices = np.array(np.where(y_train == 1))[0]\n",
        "        mu_1 = np.sum(x_train[one_indices],axis = 0)/len(np.array(np.where(y_train == 1))[0])\n",
        "        sum_sigma = 0\n",
        "        for x_, y_ in zip(x, y):\n",
        "          x_ = np.array(x_)\n",
        "          if y_ == 1:\n",
        "            tmp = x_-mu_1\n",
        "            tmp = np.array(tmp).reshape(-1,1)\n",
        "            sum_sigma += np.matmul(tmp, tmp.T)\n",
        "          elif y_ == 0:\n",
        "            tmp = x_ - mu_0\n",
        "            tmp = np.array(tmp).reshape(-1,1)\n",
        "            sum_sigma += np.matmul(tmp, tmp.T)\n",
        "        sigma = sum_sigma/m\n",
        "        self.phi = phi\n",
        "        self.mu_0 = mu_0\n",
        "        self.mu_1 = mu_1\n",
        "        self.sigma = sigma\n",
        "        \n",
        "  \n",
        "        return phi, mu_0, mu_1, sigma\n",
        "        # *** END CODE HERE ***\n",
        "\n",
        "    def predict(self, x):\n",
        "        \"\"\"Make a prediction given new inputs x.\n",
        "\n",
        "        Args:\n",
        "            x: Inputs of shape (m, n).\n",
        "\n",
        "        Returns:\n",
        "            Outputs of shape (m,).\n",
        "        \"\"\"\n",
        "        \n",
        "\n",
        "        # *** START CODE HERE ***\n",
        "        phi, mu_0, mu_1, sigma = self.phi, self.mu_0, self.mu_1, self.sigma\n",
        "        phi, mu_0, mu_1, sigma = convert_numpy([phi, mu_0, mu_1, sigma])\n",
        "        mu_0, mu_1 = mu_0.reshape(-1,1),mu_1.reshape(-1,1)\n",
        "       \n",
        "        theta_transpose = -np.matmul((mu_0 - mu_1).T, np.linalg.inv(sigma))\n",
        "        #print(f\"shapes: {mu_0.T.shape, np.linalg.inv(sigma).shape, mu_0.shape}\")\n",
        "        #print(f\"shapes: {mu_1.T.shape, np.linalg.inv(sigma).shape,mu_1.shape}\")\n",
        "        first_matmul = np.matmul(np.matmul(mu_0.T, np.linalg.inv(sigma)), mu_0)\n",
        "        second_matmul = np.matmul(np.matmul(mu_1.T, np.linalg.inv(sigma)),mu_1)\n",
        "        #print(f\"first matmul: {first_matmul} second matmul: {second_matmul}\")\n",
        "        #print(f\"phi: {phi}\")\n",
        "        \n",
        "        theta_0 = 0.5*(first_matmul-second_matmul)-math.log((1.-phi)/phi)\n",
        "        x = np.array(x).reshape(-1,1)\n",
        "        z = np.matmul(theta_transpose,x)+theta_0\n",
        "        p_1 = sigmoid(z)\n",
        "        self.theta = theta_transpose.T\n",
        "        self.theta_0 = theta_0[0]\n",
        "        #print(f\"theta: {theta_transpose.T}, theta0: {theta_0}\")\n",
        "        return p_1\n",
        "        # *** END CODE HERE"
      ],
      "metadata": {
        "id": "NKrRgubvg0lc"
      },
      "execution_count": null,
      "outputs": []
    },
    {
      "cell_type": "code",
      "source": [
        "pred_train, pred_val, gda = main()#GDA"
      ],
      "metadata": {
        "colab": {
          "base_uri": "https://localhost:8080/"
        },
        "id": "gnFklqtkg2Yr",
        "outputId": "98ee3ac9-3cd3-4111-ebdf-057da9e60c9c"
      },
      "execution_count": null,
      "outputs": [
        {
          "output_type": "stream",
          "name": "stdout",
          "text": [
            "dataset names: ('/content/ds2_train.csv', '/content/ds2_valid.csv')\n",
            "train dataset loaded (x: (800, 2), y: (800,))\n",
            "train_acc: 0.91375\n",
            "eval dataset loaded (x: (100, 2), y: (100,))\n",
            "val_acc: 0.91\n"
          ]
        }
      ]
    },
    {
      "cell_type": "code",
      "source": [
        "gda_thetas = np.stack([gda.theta_0[0]]+list(gda.theta.flatten()))\n",
        "gda_thetas"
      ],
      "metadata": {
        "colab": {
          "base_uri": "https://localhost:8080/"
        },
        "id": "Iu00j9oug67s",
        "outputId": "bfe24ec2-b35a-4f2c-b5c6-10c5561de816"
      },
      "execution_count": null,
      "outputs": [
        {
          "output_type": "execute_result",
          "data": {
            "text/plain": [
              "array([ 2.50874989,  3.76951271, -3.94657107])"
            ]
          },
          "metadata": {},
          "execution_count": 64
        }
      ]
    },
    {
      "cell_type": "markdown",
      "source": [
        "# Visualize Results"
      ],
      "metadata": {
        "id": "ZKFRSn5XhIMO"
      }
    },
    {
      "cell_type": "code",
      "source": [
        "train_path = '/content/ds2_train.csv'\n",
        "eval_path = '/content/ds2_valid.csv'\n",
        "x_train, y_train = load_dataset(train_path, add_intercept=False)\n",
        "x_val, y_val = load_dataset(eval_path, add_intercept= False)"
      ],
      "metadata": {
        "id": "-bWFTyT8g9gk"
      },
      "execution_count": null,
      "outputs": []
    },
    {
      "cell_type": "markdown",
      "source": [
        "- LR: train acc: 0.915\n",
        "- GDA: train acc: 0.91375"
      ],
      "metadata": {
        "id": "82QWo4gchZSI"
      }
    },
    {
      "cell_type": "code",
      "source": [
        "plot(x_train, y_train, title = \"decision boundaries on train dataset\")"
      ],
      "metadata": {
        "colab": {
          "base_uri": "https://localhost:8080/",
          "height": 295
        },
        "id": "iFQPygAMhLus",
        "outputId": "94815bab-1ec1-4f5d-b948-cce43d8b5d15"
      },
      "execution_count": null,
      "outputs": [
        {
          "output_type": "display_data",
          "data": {
            "text/plain": [
              "<Figure size 432x288 with 1 Axes>"
            ],
            "image/png": "[encoded data removed]"
          },
          "metadata": {
            "needs_background": "light"
          }
        }
      ]
    },
    {
      "cell_type": "markdown",
      "source": [
        "- LR: val acc: 0.91\n",
        "- GDA: val acc: 0.91"
      ],
      "metadata": {
        "id": "F0KLKmNutf57"
      }
    },
    {
      "cell_type": "code",
      "source": [
        "plot(x_val, y_val, title = \"decision boundaries on train dataset\")"
      ],
      "metadata": {
        "colab": {
          "base_uri": "https://localhost:8080/",
          "height": 295
        },
        "id": "TGIrt1BwhO5s",
        "outputId": "1cb76b35-9e27-4df6-dcd8-385b72185dd1"
      },
      "execution_count": null,
      "outputs": [
        {
          "output_type": "display_data",
          "data": {
            "text/plain": [
              "<Figure size 432x288 with 1 Axes>"
            ],
            "image/png": "[encoded data removed]"
          },
          "metadata": {
            "needs_background": "light"
          }
        }
      ]
    },
    {
      "cell_type": "markdown",
      "source": [
        "# (g) Answers in text"
      ],
      "metadata": {
        "id": "IrynmrKdueR9"
      }
    },
    {
      "cell_type": "markdown",
      "source": [
        "On dataset1, the GDA seems to perform worse than logistic regression. It might be because $p(x|y)$ for dataset1 is not represented well by gaussian distribution compared to the dataset2."
      ],
      "metadata": {
        "id": "actmgOO6ugVu"
      }
    },
    {
      "cell_type": "markdown",
      "source": [
        "# (h)\n",
        "For the dataset where GDA performed worse in parts (f) and (g), can you find a transformation of the $x^{(i)}$'s such that GDA performs better? What is the transformation?"
      ],
      "metadata": {
        "id": "N6qNrkwGvKF5"
      }
    },
    {
      "cell_type": "code",
      "source": [
        "train_path = '/content/ds1_train.csv'\n",
        "eval_path = '/content/ds1_valid.csv'"
      ],
      "metadata": {
        "id": "swmEMm6oufpJ"
      },
      "execution_count": 13,
      "outputs": []
    },
    {
      "cell_type": "code",
      "source": [
        "train_df = pd.read_csv(train_path)\n",
        "eval_df = pd.read_csv(eval_path)"
      ],
      "metadata": {
        "id": "I2UFPDi7zzhQ"
      },
      "execution_count": 43,
      "outputs": []
    },
    {
      "cell_type": "code",
      "source": [
        "pd.read_csv(train_path).head()"
      ],
      "metadata": {
        "colab": {
          "base_uri": "https://localhost:8080/",
          "height": 206
        },
        "id": "Tkobrjo-wXKL",
        "outputId": "86bcfaf0-e472-408c-bc7c-367859616ad0"
      },
      "execution_count": 18,
      "outputs": [
        {
          "output_type": "execute_result",
          "data": {
            "text/plain": [
              "        x_1         x_2    y\n",
              "0  2.911809   60.359613  0.0\n",
              "1  3.774746  344.149284  0.0\n",
              "2  2.615488  178.222087  0.0\n",
              "3  2.013694   15.259472  0.0\n",
              "4  2.757625   66.194174  0.0"
            ],
            "text/html": [
              "\n",
              "  <div id=\"df-81156ebe-6f79-4385-8186-41099ae73aea\">\n",
              "    <div class=\"colab-df-container\">\n",
              "      <div>\n",
              "<style scoped>\n",
              "    .dataframe tbody tr th:only-of-type {\n",
              "        vertical-align: middle;\n",
              "    }\n",
              "\n",
              "    .dataframe tbody tr th {\n",
              "        vertical-align: top;\n",
              "    }\n",
              "\n",
              "    .dataframe thead th {\n",
              "        text-align: right;\n",
              "    }\n",
              "</style>\n",
              "<table border=\"1\" class=\"dataframe\">\n",
              "  <thead>\n",
              "    <tr style=\"text-align: right;\">\n",
              "      <th></th>\n",
              "      <th>x_1</th>\n",
              "      <th>x_2</th>\n",
              "      <th>y</th>\n",
              "    </tr>\n",
              "  </thead>\n",
              "  <tbody>\n",
              "    <tr>\n",
              "      <th>0</th>\n",
              "      <td>2.911809</td>\n",
              "      <td>60.359613</td>\n",
              "      <td>0.0</td>\n",
              "    </tr>\n",
              "    <tr>\n",
              "      <th>1</th>\n",
              "      <td>3.774746</td>\n",
              "      <td>344.149284</td>\n",
              "      <td>0.0</td>\n",
              "    </tr>\n",
              "    <tr>\n",
              "      <th>2</th>\n",
              "      <td>2.615488</td>\n",
              "      <td>178.222087</td>\n",
              "      <td>0.0</td>\n",
              "    </tr>\n",
              "    <tr>\n",
              "      <th>3</th>\n",
              "      <td>2.013694</td>\n",
              "      <td>15.259472</td>\n",
              "      <td>0.0</td>\n",
              "    </tr>\n",
              "    <tr>\n",
              "      <th>4</th>\n",
              "      <td>2.757625</td>\n",
              "      <td>66.194174</td>\n",
              "      <td>0.0</td>\n",
              "    </tr>\n",
              "  </tbody>\n",
              "</table>\n",
              "</div>\n",
              "      <button class=\"colab-df-convert\" onclick=\"convertToInteractive('df-81156ebe-6f79-4385-8186-41099ae73aea')\"\n",
              "              title=\"Convert this dataframe to an interactive table.\"\n",
              "              style=\"display:none;\">\n",
              "        \n",
              "  <svg xmlns=\"http://www.w3.org/2000/svg\" height=\"24px\"viewBox=\"0 0 24 24\"\n",
              "       width=\"24px\">\n",
              "    <path d=\"M0 0h24v24H0V0z\" fill=\"none\"/>\n",
              "    <path d=\"M18.56 5.44l.94 2.06.94-2.06 2.06-.94-2.06-.94-.94-2.06-.94 2.06-2.06.94zm-11 1L8.5 8.5l.94-2.06 2.06-.94-2.06-.94L8.5 2.5l-.94 2.06-2.06.94zm10 10l.94 2.06.94-2.06 2.06-.94-2.06-.94-.94-2.06-.94 2.06-2.06.94z\"/><path d=\"M17.41 7.96l-1.37-1.37c-.4-.4-.92-.59-1.43-.59-.52 0-1.04.2-1.43.59L10.3 9.45l-7.72 7.72c-.78.78-.78 2.05 0 2.83L4 21.41c.39.39.9.59 1.41.59.51 0 1.02-.2 1.41-.59l7.78-7.78 2.81-2.81c.8-.78.8-2.07 0-2.86zM5.41 20L4 18.59l7.72-7.72 1.47 1.35L5.41 20z\"/>\n",
              "  </svg>\n",
              "      </button>\n",
              "      \n",
              "  <style>\n",
              "    .colab-df-container {\n",
              "      display:flex;\n",
              "      flex-wrap:wrap;\n",
              "      gap: 12px;\n",
              "    }\n",
              "\n",
              "    .colab-df-convert {\n",
              "      background-color: #E8F0FE;\n",
              "      border: none;\n",
              "      border-radius: 50%;\n",
              "      cursor: pointer;\n",
              "      display: none;\n",
              "      fill: #1967D2;\n",
              "      height: 32px;\n",
              "      padding: 0 0 0 0;\n",
              "      width: 32px;\n",
              "    }\n",
              "\n",
              "    .colab-df-convert:hover {\n",
              "      background-color: #E2EBFA;\n",
              "      box-shadow: 0px 1px 2px rgba(60, 64, 67, 0.3), 0px 1px 3px 1px rgba(60, 64, 67, 0.15);\n",
              "      fill: #174EA6;\n",
              "    }\n",
              "\n",
              "    [theme=dark] .colab-df-convert {\n",
              "      background-color: #3B4455;\n",
              "      fill: #D2E3FC;\n",
              "    }\n",
              "\n",
              "    [theme=dark] .colab-df-convert:hover {\n",
              "      background-color: #434B5C;\n",
              "      box-shadow: 0px 1px 3px 1px rgba(0, 0, 0, 0.15);\n",
              "      filter: drop-shadow(0px 1px 2px rgba(0, 0, 0, 0.3));\n",
              "      fill: #FFFFFF;\n",
              "    }\n",
              "  </style>\n",
              "\n",
              "      <script>\n",
              "        const buttonEl =\n",
              "          document.querySelector('#df-81156ebe-6f79-4385-8186-41099ae73aea button.colab-df-convert');\n",
              "        buttonEl.style.display =\n",
              "          google.colab.kernel.accessAllowed ? 'block' : 'none';\n",
              "\n",
              "        async function convertToInteractive(key) {\n",
              "          const element = document.querySelector('#df-81156ebe-6f79-4385-8186-41099ae73aea');\n",
              "          const dataTable =\n",
              "            await google.colab.kernel.invokeFunction('convertToInteractive',\n",
              "                                                     [key], {});\n",
              "          if (!dataTable) return;\n",
              "\n",
              "          const docLinkHtml = 'Like what you see? Visit the ' +\n",
              "            '<a target=\"_blank\" href=https://colab.research.google.com/notebooks/data_table.ipynb>data table notebook</a>'\n",
              "            + ' to learn more about interactive tables.';\n",
              "          element.innerHTML = '';\n",
              "          dataTable['output_type'] = 'display_data';\n",
              "          await google.colab.output.renderOutput(dataTable, element);\n",
              "          const docLink = document.createElement('div');\n",
              "          docLink.innerHTML = docLinkHtml;\n",
              "          element.appendChild(docLink);\n",
              "        }\n",
              "      </script>\n",
              "    </div>\n",
              "  </div>\n",
              "  "
            ]
          },
          "metadata": {},
          "execution_count": 18
        }
      ]
    },
    {
      "cell_type": "code",
      "source": [
        "x_train, y_train = load_dataset(train_path, add_intercept=False)\n",
        "x_val, y_val = load_dataset(eval_path, add_intercept= False)"
      ],
      "metadata": {
        "id": "ATWK0henwDAp"
      },
      "execution_count": 14,
      "outputs": []
    },
    {
      "cell_type": "markdown",
      "source": [
        "## Tried Standard Normalization (-> no improvement)"
      ],
      "metadata": {
        "id": "LR5_vnAQy-Zr"
      }
    },
    {
      "cell_type": "code",
      "source": [
        "#normalization?\n",
        "x_train.shape"
      ],
      "metadata": {
        "colab": {
          "base_uri": "https://localhost:8080/"
        },
        "id": "J5E7aKxrwKbT",
        "outputId": "75b3d50a-6086-474e-b78a-fc3ce3d95f8e"
      },
      "execution_count": 17,
      "outputs": [
        {
          "output_type": "execute_result",
          "data": {
            "text/plain": [
              "(800, 2)"
            ]
          },
          "metadata": {},
          "execution_count": 17
        }
      ]
    },
    {
      "cell_type": "code",
      "source": [
        "mean_x1 = np.mean(x_train[:,0])\n",
        "mean_x2 = np.mean(x_train[:,1])\n",
        "std_x1 = np.std(x_train[:,0])\n",
        "std_x2 = np.std(x_train[:,1])"
      ],
      "metadata": {
        "id": "xaJPpf7fwR85"
      },
      "execution_count": 25,
      "outputs": []
    },
    {
      "cell_type": "code",
      "source": [
        "normalized_x = []\n",
        "for (x1,x2) in x_train:\n",
        "  tmp_row = [(x1-mean_x1)/std_x1, (x2-mean_x2)/std_x2]\n",
        "  normalized_x.append(tmp_row)"
      ],
      "metadata": {
        "id": "zHOYT_iGwclH"
      },
      "execution_count": 26,
      "outputs": []
    },
    {
      "cell_type": "code",
      "source": [
        "np.array(normalized_x).shape"
      ],
      "metadata": {
        "colab": {
          "base_uri": "https://localhost:8080/"
        },
        "id": "l4Uf217gxMl6",
        "outputId": "360dd2ba-b7ff-4f4f-9280-207d227c7df3"
      },
      "execution_count": 28,
      "outputs": [
        {
          "output_type": "execute_result",
          "data": {
            "text/plain": [
              "(800, 2)"
            ]
          },
          "metadata": {},
          "execution_count": 28
        }
      ]
    },
    {
      "cell_type": "code",
      "source": [
        "normalized_x = np.array(normalized_x)"
      ],
      "metadata": {
        "id": "-FcwzSQ0xfEb"
      },
      "execution_count": 29,
      "outputs": []
    },
    {
      "cell_type": "code",
      "source": [
        "train_normalized_df = pd.DataFrame({'x_1':normalized_x[:,0], 'x_2':normalized_x[:,1], 'y':y_train})"
      ],
      "metadata": {
        "id": "U4CBrbHFxN0Z"
      },
      "execution_count": 33,
      "outputs": []
    },
    {
      "cell_type": "code",
      "source": [
        "train_normalized_df.to_csv('normalized_ds1_train.csv', index = False)"
      ],
      "metadata": {
        "id": "CaQHMjnXxlIx"
      },
      "execution_count": 34,
      "outputs": []
    },
    {
      "cell_type": "code",
      "source": [
        "normalized_val_x = []\n",
        "for (x1,x2) in x_val:\n",
        "  tmp_row = [(x1-mean_x1)/std_x1, (x2-mean_x2)/std_x2]\n",
        "  normalized_val_x.append(tmp_row)"
      ],
      "metadata": {
        "id": "P3aEz9YQx2ER"
      },
      "execution_count": 35,
      "outputs": []
    },
    {
      "cell_type": "code",
      "source": [
        "normalized_val_x = np.array(normalized_val_x)"
      ],
      "metadata": {
        "id": "LbZtP7gDyCfy"
      },
      "execution_count": 36,
      "outputs": []
    },
    {
      "cell_type": "code",
      "source": [
        "valid_normalized_df = pd.DataFrame({'x_1':normalized_val_x[:,0], 'x_2':normalized_val_x[:,1], 'y':y_val})"
      ],
      "metadata": {
        "id": "XyiQ1YfGyGQh"
      },
      "execution_count": 37,
      "outputs": []
    },
    {
      "cell_type": "code",
      "source": [
        "valid_normalized_df.head()"
      ],
      "metadata": {
        "colab": {
          "base_uri": "https://localhost:8080/",
          "height": 206
        },
        "id": "BID_17NzyNfQ",
        "outputId": "4e2be443-4cb7-4c21-fbaa-c13ea5df36fc"
      },
      "execution_count": 38,
      "outputs": [
        {
          "output_type": "execute_result",
          "data": {
            "text/plain": [
              "        x_1       x_2    y\n",
              "0 -1.198903 -0.124093  0.0\n",
              "1  0.390822  0.270661  0.0\n",
              "2 -0.147485 -0.395495  0.0\n",
              "3 -1.290683 -0.577921  0.0\n",
              "4  0.057284  1.177416  0.0"
            ],
            "text/html": [
              "\n",
              "  <div id=\"df-05f023b1-eeab-44a3-b680-1dfe845c2aa4\">\n",
              "    <div class=\"colab-df-container\">\n",
              "      <div>\n",
              "<style scoped>\n",
              "    .dataframe tbody tr th:only-of-type {\n",
              "        vertical-align: middle;\n",
              "    }\n",
              "\n",
              "    .dataframe tbody tr th {\n",
              "        vertical-align: top;\n",
              "    }\n",
              "\n",
              "    .dataframe thead th {\n",
              "        text-align: right;\n",
              "    }\n",
              "</style>\n",
              "<table border=\"1\" class=\"dataframe\">\n",
              "  <thead>\n",
              "    <tr style=\"text-align: right;\">\n",
              "      <th></th>\n",
              "      <th>x_1</th>\n",
              "      <th>x_2</th>\n",
              "      <th>y</th>\n",
              "    </tr>\n",
              "  </thead>\n",
              "  <tbody>\n",
              "    <tr>\n",
              "      <th>0</th>\n",
              "      <td>-1.198903</td>\n",
              "      <td>-0.124093</td>\n",
              "      <td>0.0</td>\n",
              "    </tr>\n",
              "    <tr>\n",
              "      <th>1</th>\n",
              "      <td>0.390822</td>\n",
              "      <td>0.270661</td>\n",
              "      <td>0.0</td>\n",
              "    </tr>\n",
              "    <tr>\n",
              "      <th>2</th>\n",
              "      <td>-0.147485</td>\n",
              "      <td>-0.395495</td>\n",
              "      <td>0.0</td>\n",
              "    </tr>\n",
              "    <tr>\n",
              "      <th>3</th>\n",
              "      <td>-1.290683</td>\n",
              "      <td>-0.577921</td>\n",
              "      <td>0.0</td>\n",
              "    </tr>\n",
              "    <tr>\n",
              "      <th>4</th>\n",
              "      <td>0.057284</td>\n",
              "      <td>1.177416</td>\n",
              "      <td>0.0</td>\n",
              "    </tr>\n",
              "  </tbody>\n",
              "</table>\n",
              "</div>\n",
              "      <button class=\"colab-df-convert\" onclick=\"convertToInteractive('df-05f023b1-eeab-44a3-b680-1dfe845c2aa4')\"\n",
              "              title=\"Convert this dataframe to an interactive table.\"\n",
              "              style=\"display:none;\">\n",
              "        \n",
              "  <svg xmlns=\"http://www.w3.org/2000/svg\" height=\"24px\"viewBox=\"0 0 24 24\"\n",
              "       width=\"24px\">\n",
              "    <path d=\"M0 0h24v24H0V0z\" fill=\"none\"/>\n",
              "    <path d=\"M18.56 5.44l.94 2.06.94-2.06 2.06-.94-2.06-.94-.94-2.06-.94 2.06-2.06.94zm-11 1L8.5 8.5l.94-2.06 2.06-.94-2.06-.94L8.5 2.5l-.94 2.06-2.06.94zm10 10l.94 2.06.94-2.06 2.06-.94-2.06-.94-.94-2.06-.94 2.06-2.06.94z\"/><path d=\"M17.41 7.96l-1.37-1.37c-.4-.4-.92-.59-1.43-.59-.52 0-1.04.2-1.43.59L10.3 9.45l-7.72 7.72c-.78.78-.78 2.05 0 2.83L4 21.41c.39.39.9.59 1.41.59.51 0 1.02-.2 1.41-.59l7.78-7.78 2.81-2.81c.8-.78.8-2.07 0-2.86zM5.41 20L4 18.59l7.72-7.72 1.47 1.35L5.41 20z\"/>\n",
              "  </svg>\n",
              "      </button>\n",
              "      \n",
              "  <style>\n",
              "    .colab-df-container {\n",
              "      display:flex;\n",
              "      flex-wrap:wrap;\n",
              "      gap: 12px;\n",
              "    }\n",
              "\n",
              "    .colab-df-convert {\n",
              "      background-color: #E8F0FE;\n",
              "      border: none;\n",
              "      border-radius: 50%;\n",
              "      cursor: pointer;\n",
              "      display: none;\n",
              "      fill: #1967D2;\n",
              "      height: 32px;\n",
              "      padding: 0 0 0 0;\n",
              "      width: 32px;\n",
              "    }\n",
              "\n",
              "    .colab-df-convert:hover {\n",
              "      background-color: #E2EBFA;\n",
              "      box-shadow: 0px 1px 2px rgba(60, 64, 67, 0.3), 0px 1px 3px 1px rgba(60, 64, 67, 0.15);\n",
              "      fill: #174EA6;\n",
              "    }\n",
              "\n",
              "    [theme=dark] .colab-df-convert {\n",
              "      background-color: #3B4455;\n",
              "      fill: #D2E3FC;\n",
              "    }\n",
              "\n",
              "    [theme=dark] .colab-df-convert:hover {\n",
              "      background-color: #434B5C;\n",
              "      box-shadow: 0px 1px 3px 1px rgba(0, 0, 0, 0.15);\n",
              "      filter: drop-shadow(0px 1px 2px rgba(0, 0, 0, 0.3));\n",
              "      fill: #FFFFFF;\n",
              "    }\n",
              "  </style>\n",
              "\n",
              "      <script>\n",
              "        const buttonEl =\n",
              "          document.querySelector('#df-05f023b1-eeab-44a3-b680-1dfe845c2aa4 button.colab-df-convert');\n",
              "        buttonEl.style.display =\n",
              "          google.colab.kernel.accessAllowed ? 'block' : 'none';\n",
              "\n",
              "        async function convertToInteractive(key) {\n",
              "          const element = document.querySelector('#df-05f023b1-eeab-44a3-b680-1dfe845c2aa4');\n",
              "          const dataTable =\n",
              "            await google.colab.kernel.invokeFunction('convertToInteractive',\n",
              "                                                     [key], {});\n",
              "          if (!dataTable) return;\n",
              "\n",
              "          const docLinkHtml = 'Like what you see? Visit the ' +\n",
              "            '<a target=\"_blank\" href=https://colab.research.google.com/notebooks/data_table.ipynb>data table notebook</a>'\n",
              "            + ' to learn more about interactive tables.';\n",
              "          element.innerHTML = '';\n",
              "          dataTable['output_type'] = 'display_data';\n",
              "          await google.colab.output.renderOutput(dataTable, element);\n",
              "          const docLink = document.createElement('div');\n",
              "          docLink.innerHTML = docLinkHtml;\n",
              "          element.appendChild(docLink);\n",
              "        }\n",
              "      </script>\n",
              "    </div>\n",
              "  </div>\n",
              "  "
            ]
          },
          "metadata": {},
          "execution_count": 38
        }
      ]
    },
    {
      "cell_type": "code",
      "source": [
        "valid_normalized_df.to_csv('normalized_ds1_val.csv', index = False)"
      ],
      "metadata": {
        "id": "ikgjvs2nyPSp"
      },
      "execution_count": 39,
      "outputs": []
    },
    {
      "cell_type": "code",
      "source": [
        "import numpy as np\n",
        "\n",
        "\n",
        "def main(train_path = \"/content/normalized_ds1_train.csv\", eval_path = \"/content/normalized_ds1_val.csv\", pred_path = None):\n",
        "    \"\"\"Problem 1(e): Gaussian discriminant analysis (GDA)\n",
        "\n",
        "    Args:\n",
        "        train_path: Path to CSV file containing dataset for training.\n",
        "        eval_path: Path to CSV file containing dataset for evaluation.\n",
        "        pred_path: Path to save predictions.\n",
        "    \"\"\"\n",
        "    # Load dataset\n",
        "    x_train, y_train = load_dataset(train_path, add_intercept=False)\n",
        "    print(f\"dataset names: {train_path, eval_path}\")\n",
        "    print(f\"train dataset loaded (x: {x_train.shape}, y: {y_train.shape})\")\n",
        "    \n",
        "    # *** START CODE HERE ***\n",
        "    clf = GDA()\n",
        "    phi, mu_0, mu_1, sigma = clf.fit(x_train, y_train)\n",
        "    #print(f\"params: {phi, mu_0, mu_1, sigma}\")\n",
        "    predicted=[]\n",
        "    for x_ in x_train:\n",
        "      pred = clf.predict(x_)\n",
        "      predicted.append(pred)\n",
        "    train_acc = acc(predicted, y_train)\n",
        "    print(f\"train_acc: {train_acc}\")\n",
        "\n",
        "\n",
        "\n",
        "\n",
        "    # Validation dataset\n",
        "    x_val, y_val = load_dataset(eval_path, add_intercept= False)\n",
        "    print(f\"eval dataset loaded (x: {x_val.shape}, y: {y_val.shape})\")\n",
        "    predicted_val = []\n",
        "    for x_ in x_val:\n",
        "      pred = clf.predict(x_)\n",
        "      predicted_val.append(pred)\n",
        "    val_acc = acc(predicted_val, y_val)\n",
        "    print(f\"val_acc: {val_acc}\")\n",
        "    \n",
        "    #return phi, mu_0, mu_1, sigma\n",
        "    return predicted, predicted_val, clf#predictions for train dset & validation dset\n",
        "    # *** END CODE HERE ***\n",
        "\n",
        "\n",
        "class GDA(LinearModel):\n",
        "    \"\"\"Gaussian Discriminant Analysis.\n",
        "\n",
        "    Example usage:\n",
        "        > clf = GDA()\n",
        "        > clf.fit(x_train, y_train)\n",
        "        > clf.predict(x_eval)\n",
        "\n",
        "    \"\"\"\n",
        "    def __init__(self, phi = None, mu_0 = None, mu_1 = None, sigma = None, theta = None, theta_0 = None):\n",
        "      self.phi = phi\n",
        "      self.mu_0 = mu_0\n",
        "      self.mu_1 = mu_1\n",
        "      self.sigma = sigma\n",
        "      self.theta = theta\n",
        "      self.theta_0 = theta_0\n",
        "\n",
        "    def fit(self, x, y):\n",
        "        \"\"\"Fit a GDA model to training set given by x and y.\n",
        "\n",
        "        Args:\n",
        "            x: Training example inputs. Shape (m, n).\n",
        "            y: Training example labels. Shape (m,).\n",
        "\n",
        "        Returns:\n",
        "            theta: GDA model parameters.\n",
        "        \"\"\"\n",
        "        # *** START CODE HERE ***\n",
        "        m = len(y)\n",
        "        x_train, y_train = x,y\n",
        "        assert m == x.shape[0]\n",
        "        phi = np.array(np.where(y_train == 1)).shape[1]/m\n",
        "        zero_indices = np.array(np.where(y_train == 0))[0]\n",
        "        mu_0 =np.sum(x_train[zero_indices],axis = 0)/len(np.array(np.where(y_train == 0))[0])\n",
        "        one_indices = np.array(np.where(y_train == 1))[0]\n",
        "        mu_1 = np.sum(x_train[one_indices],axis = 0)/len(np.array(np.where(y_train == 1))[0])\n",
        "        sum_sigma = 0\n",
        "        for x_, y_ in zip(x, y):\n",
        "          x_ = np.array(x_)\n",
        "          if y_ == 1:\n",
        "            tmp = x_-mu_1\n",
        "            tmp = np.array(tmp).reshape(-1,1)\n",
        "            sum_sigma += np.matmul(tmp, tmp.T)\n",
        "          elif y_ == 0:\n",
        "            tmp = x_ - mu_0\n",
        "            tmp = np.array(tmp).reshape(-1,1)\n",
        "            sum_sigma += np.matmul(tmp, tmp.T)\n",
        "        sigma = sum_sigma/m\n",
        "        self.phi = phi\n",
        "        self.mu_0 = mu_0\n",
        "        self.mu_1 = mu_1\n",
        "        self.sigma = sigma\n",
        "        \n",
        "  \n",
        "        return phi, mu_0, mu_1, sigma\n",
        "        # *** END CODE HERE ***\n",
        "\n",
        "    def predict(self, x):\n",
        "        \"\"\"Make a prediction given new inputs x.\n",
        "\n",
        "        Args:\n",
        "            x: Inputs of shape (m, n).\n",
        "\n",
        "        Returns:\n",
        "            Outputs of shape (m,).\n",
        "        \"\"\"\n",
        "        \n",
        "\n",
        "        # *** START CODE HERE ***\n",
        "        phi, mu_0, mu_1, sigma = self.phi, self.mu_0, self.mu_1, self.sigma\n",
        "        phi, mu_0, mu_1, sigma = convert_numpy([phi, mu_0, mu_1, sigma])\n",
        "        mu_0, mu_1 = mu_0.reshape(-1,1),mu_1.reshape(-1,1)\n",
        "       \n",
        "        theta_transpose = -np.matmul((mu_0 - mu_1).T, np.linalg.inv(sigma))\n",
        "        #print(f\"shapes: {mu_0.T.shape, np.linalg.inv(sigma).shape, mu_0.shape}\")\n",
        "        #print(f\"shapes: {mu_1.T.shape, np.linalg.inv(sigma).shape,mu_1.shape}\")\n",
        "        first_matmul = np.matmul(np.matmul(mu_0.T, np.linalg.inv(sigma)), mu_0)\n",
        "        second_matmul = np.matmul(np.matmul(mu_1.T, np.linalg.inv(sigma)),mu_1)\n",
        "        #print(f\"first matmul: {first_matmul} second matmul: {second_matmul}\")\n",
        "        #print(f\"phi: {phi}\")\n",
        "        \n",
        "        theta_0 = 0.5*(first_matmul-second_matmul)-math.log((1.-phi)/phi)\n",
        "        x = np.array(x).reshape(-1,1)\n",
        "        z = np.matmul(theta_transpose,x)+theta_0\n",
        "        p_1 = sigmoid(z)\n",
        "        self.theta = theta_transpose.T\n",
        "        self.theta_0 = theta_0[0]\n",
        "        #print(f\"theta: {theta_transpose.T}, theta0: {theta_0}\")\n",
        "        return p_1\n",
        "        # *** END CODE HERE"
      ],
      "metadata": {
        "id": "952QjRvzyWWC"
      },
      "execution_count": 41,
      "outputs": []
    },
    {
      "cell_type": "code",
      "source": [
        "pred_train, pred_val, gda = main()#GDA"
      ],
      "metadata": {
        "colab": {
          "base_uri": "https://localhost:8080/"
        },
        "id": "21uqyLTSyezo",
        "outputId": "e359ece4-90f5-4703-bdb2-1411c3263e16"
      },
      "execution_count": 42,
      "outputs": [
        {
          "output_type": "stream",
          "name": "stdout",
          "text": [
            "dataset names: ('/content/normalized_ds1_train.csv', '/content/normalized_ds1_val.csv')\n",
            "train dataset loaded (x: (800, 2), y: (800,))\n",
            "train_acc: 0.86625\n",
            "eval dataset loaded (x: (100, 2), y: (100,))\n",
            "val_acc: 0.83\n"
          ]
        }
      ]
    },
    {
      "cell_type": "markdown",
      "source": [
        "## Check skewness\n",
        "\n",
        " -0.5 < skewness < 0.5 are symmetric i.e normally distributed"
      ],
      "metadata": {
        "id": "DzExLq_dzsVQ"
      }
    },
    {
      "cell_type": "code",
      "source": [
        "train_df.skew()"
      ],
      "metadata": {
        "colab": {
          "base_uri": "https://localhost:8080/"
        },
        "id": "BPTELgsAyiXZ",
        "outputId": "46220ab5-ddb9-48b0-cef5-5305a579a35c"
      },
      "execution_count": 45,
      "outputs": [
        {
          "output_type": "execute_result",
          "data": {
            "text/plain": [
              "x_1    0.096205\n",
              "x_2    3.423625\n",
              "y      0.000000\n",
              "dtype: float64"
            ]
          },
          "metadata": {},
          "execution_count": 45
        }
      ]
    },
    {
      "cell_type": "code",
      "source": [
        "train_df.x_1.hist()"
      ],
      "metadata": {
        "colab": {
          "base_uri": "https://localhost:8080/",
          "height": 283
        },
        "id": "oRI6F6vyz_Rh",
        "outputId": "6f40b987-5ee2-4c39-f842-e86086d0e83d"
      },
      "execution_count": 47,
      "outputs": [
        {
          "output_type": "execute_result",
          "data": {
            "text/plain": [
              "<matplotlib.axes._subplots.AxesSubplot at 0x7f7f6c9bde10>"
            ]
          },
          "metadata": {},
          "execution_count": 47
        },
        {
          "output_type": "display_data",
          "data": {
            "text/plain": [
              "<Figure size 432x288 with 1 Axes>"
            ],
            "image/png": "[encoded data removed]"
          },
          "metadata": {
            "needs_background": "light"
          }
        }
      ]
    },
    {
      "cell_type": "code",
      "source": [
        "train_df.x_2.hist()"
      ],
      "metadata": {
        "colab": {
          "base_uri": "https://localhost:8080/",
          "height": 283
        },
        "id": "05JPdAZf0XUQ",
        "outputId": "a6080d2b-523a-4933-f6fd-ff77c46e39e4"
      },
      "execution_count": 48,
      "outputs": [
        {
          "output_type": "execute_result",
          "data": {
            "text/plain": [
              "<matplotlib.axes._subplots.AxesSubplot at 0x7f7f6e3b7990>"
            ]
          },
          "metadata": {},
          "execution_count": 48
        },
        {
          "output_type": "display_data",
          "data": {
            "text/plain": [
              "<Figure size 432x288 with 1 Axes>"
            ],
            "image/png": "[encoded data removed]"
          },
          "metadata": {
            "needs_background": "light"
          }
        }
      ]
    },
    {
      "cell_type": "code",
      "source": [
        "import scipy.stats as stats\n",
        "import pylab"
      ],
      "metadata": {
        "id": "-lHqFzRe0ajQ"
      },
      "execution_count": 49,
      "outputs": []
    },
    {
      "cell_type": "code",
      "source": [
        "stats.probplot(train_df.x_1,plot=pylab)"
      ],
      "metadata": {
        "colab": {
          "base_uri": "https://localhost:8080/",
          "height": 1000
        },
        "id": "7BLHG14E0jvI",
        "outputId": "fcda8799-be94-4748-9a52-bbf2e8528bf3"
      },
      "execution_count": 50,
      "outputs": [
        {
          "output_type": "execute_result",
          "data": {
            "text/plain": [
              "((array([-3.13269090e+00, -2.86240960e+00, -2.71124085e+00, -2.60445496e+00,\n",
              "         -2.52103830e+00, -2.45216961e+00, -2.39327695e+00, -2.34167369e+00,\n",
              "         -2.29564214e+00, -2.25401521e+00, -2.21596250e+00, -2.18087139e+00,\n",
              "         -2.14827658e+00, -2.11781604e+00, -2.08920237e+00, -2.06220345e+00,\n",
              "         -2.03662904e+00, -2.01232119e+00, -1.98914727e+00, -1.96699480e+00,\n",
              "         -1.94576754e+00, -1.92538245e+00, -1.90576741e+00, -1.88685932e+00,\n",
              "         -1.86860270e+00, -1.85094845e+00, -1.83385292e+00, -1.81727714e+00,\n",
              "         -1.80118612e+00, -1.78554840e+00, -1.77033549e+00, -1.75552160e+00,\n",
              "         -1.74108324e+00, -1.72699897e+00, -1.71324918e+00, -1.69981586e+00,\n",
              "         -1.68668245e+00, -1.67383370e+00, -1.66125548e+00, -1.64893473e+00,\n",
              "         -1.63685932e+00, -1.62501798e+00, -1.61340021e+00, -1.60199621e+00,\n",
              "         -1.59079683e+00, -1.57979349e+00, -1.56897816e+00, -1.55834331e+00,\n",
              "         -1.54788184e+00, -1.53758709e+00, -1.52745276e+00, -1.51747292e+00,\n",
              "         -1.50764196e+00, -1.49795460e+00, -1.48840581e+00, -1.47899083e+00,\n",
              "         -1.46970515e+00, -1.46054450e+00, -1.45150480e+00, -1.44258218e+00,\n",
              "         -1.43377295e+00, -1.42507361e+00, -1.41648079e+00, -1.40799130e+00,\n",
              "         -1.39960210e+00, -1.39131026e+00, -1.38311298e+00, -1.37500761e+00,\n",
              "         -1.36699158e+00, -1.35906244e+00, -1.35121783e+00, -1.34345551e+00,\n",
              "         -1.33577329e+00, -1.32816912e+00, -1.32064097e+00, -1.31318694e+00,\n",
              "         -1.30580516e+00, -1.29849386e+00, -1.29125132e+00, -1.28407589e+00,\n",
              "         -1.27696596e+00, -1.26992001e+00, -1.26293655e+00, -1.25601414e+00,\n",
              "         -1.24915140e+00, -1.24234700e+00, -1.23559963e+00, -1.22890805e+00,\n",
              "         -1.22227105e+00, -1.21568746e+00, -1.20915615e+00, -1.20267601e+00,\n",
              "         -1.19624598e+00, -1.18986504e+00, -1.18353218e+00, -1.17724643e+00,\n",
              "         -1.17100685e+00, -1.16481254e+00, -1.15866260e+00, -1.15255617e+00,\n",
              "         -1.14649242e+00, -1.14047054e+00, -1.13448973e+00, -1.12854922e+00,\n",
              "         -1.12264828e+00, -1.11678618e+00, -1.11096220e+00, -1.10517566e+00,\n",
              "         -1.09942590e+00, -1.09371225e+00, -1.08803409e+00, -1.08239079e+00,\n",
              "         -1.07678175e+00, -1.07120639e+00, -1.06566413e+00, -1.06015441e+00,\n",
              "         -1.05467668e+00, -1.04923042e+00, -1.04381511e+00, -1.03843024e+00,\n",
              "         -1.03307530e+00, -1.02774983e+00, -1.02245335e+00, -1.01718540e+00,\n",
              "         -1.01194553e+00, -1.00673329e+00, -1.00154826e+00, -9.96390023e-01,\n",
              "         -9.91258158e-01, -9.86152267e-01, -9.81071957e-01, -9.76016842e-01,\n",
              "         -9.70986547e-01, -9.65980701e-01, -9.60998946e-01, -9.56040927e-01,\n",
              "         -9.51106299e-01, -9.46194722e-01, -9.41305866e-01, -9.36439405e-01,\n",
              "         -9.31595021e-01, -9.26772402e-01, -9.21971241e-01, -9.17191239e-01,\n",
              "         -9.12432102e-01, -9.07693542e-01, -9.02975277e-01, -8.98277028e-01,\n",
              "         -8.93598524e-01, -8.88939498e-01, -8.84299689e-01, -8.79678839e-01,\n",
              "         -8.75076696e-01, -8.70493013e-01, -8.65927547e-01, -8.61380058e-01,\n",
              "         -8.56850313e-01, -8.52338082e-01, -8.47843138e-01, -8.43365259e-01,\n",
              "         -8.38904228e-01, -8.34459829e-01, -8.30031852e-01, -8.25620091e-01,\n",
              "         -8.21224340e-01, -8.16844401e-01, -8.12480076e-01, -8.08131172e-01,\n",
              "         -8.03797499e-01, -7.99478870e-01, -7.95175100e-01, -7.90886008e-01,\n",
              "         -7.86611417e-01, -7.82351151e-01, -7.78105037e-01, -7.73872906e-01,\n",
              "         -7.69654590e-01, -7.65449926e-01, -7.61258751e-01, -7.57080905e-01,\n",
              "         -7.52916233e-01, -7.48764578e-01, -7.44625790e-01, -7.40499717e-01,\n",
              "         -7.36386213e-01, -7.32285132e-01, -7.28196330e-01, -7.24119666e-01,\n",
              "         -7.20055001e-01, -7.16002197e-01, -7.11961121e-01, -7.07931637e-01,\n",
              "         -7.03913616e-01, -6.99906926e-01, -6.95911442e-01, -6.91927036e-01,\n",
              "         -6.87953584e-01, -6.83990965e-01, -6.80039057e-01, -6.76097741e-01,\n",
              "         -6.72166899e-01, -6.68246417e-01, -6.64336178e-01, -6.60436071e-01,\n",
              "         -6.56545984e-01, -6.52665808e-01, -6.48795432e-01, -6.44934752e-01,\n",
              "         -6.41083660e-01, -6.37242052e-01, -6.33409826e-01, -6.29586880e-01,\n",
              "         -6.25773113e-01, -6.21968426e-01, -6.18172722e-01, -6.14385902e-01,\n",
              "         -6.10607873e-01, -6.06838539e-01, -6.03077808e-01, -5.99325586e-01,\n",
              "         -5.95581784e-01, -5.91846311e-01, -5.88119078e-01, -5.84399997e-01,\n",
              "         -5.80688983e-01, -5.76985948e-01, -5.73290808e-01, -5.69603479e-01,\n",
              "         -5.65923879e-01, -5.62251925e-01, -5.58587537e-01, -5.54930634e-01,\n",
              "         -5.51281136e-01, -5.47638967e-01, -5.44004048e-01, -5.40376302e-01,\n",
              "         -5.36755654e-01, -5.33142029e-01, -5.29535353e-01, -5.25935551e-01,\n",
              "         -5.22342552e-01, -5.18756284e-01, -5.15176675e-01, -5.11603656e-01,\n",
              "         -5.08037156e-01, -5.04477106e-01, -5.00923439e-01, -4.97376086e-01,\n",
              "         -4.93834981e-01, -4.90300058e-01, -4.86771251e-01, -4.83248495e-01,\n",
              "         -4.79731726e-01, -4.76220880e-01, -4.72715894e-01, -4.69216706e-01,\n",
              "         -4.65723254e-01, -4.62235477e-01, -4.58753313e-01, -4.55276703e-01,\n",
              "         -4.51805587e-01, -4.48339906e-01, -4.44879602e-01, -4.41424617e-01,\n",
              "         -4.37974892e-01, -4.34530373e-01, -4.31091001e-01, -4.27656721e-01,\n",
              "         -4.24227477e-01, -4.20803215e-01, -4.17383880e-01, -4.13969419e-01,\n",
              "         -4.10559776e-01, -4.07154900e-01, -4.03754738e-01, -4.00359237e-01,\n",
              "         -3.96968346e-01, -3.93582013e-01, -3.90200188e-01, -3.86822819e-01,\n",
              "         -3.83449857e-01, -3.80081252e-01, -3.76716954e-01, -3.73356914e-01,\n",
              "         -3.70001085e-01, -3.66649417e-01, -3.63301863e-01, -3.59958375e-01,\n",
              "         -3.56618906e-01, -3.53283410e-01, -3.49951840e-01, -3.46624149e-01,\n",
              "         -3.43300292e-01, -3.39980223e-01, -3.36663898e-01, -3.33351272e-01,\n",
              "         -3.30042299e-01, -3.26736937e-01, -3.23435140e-01, -3.20136865e-01,\n",
              "         -3.16842070e-01, -3.13550710e-01, -3.10262744e-01, -3.06978128e-01,\n",
              "         -3.03696821e-01, -3.00418781e-01, -2.97143965e-01, -2.93872334e-01,\n",
              "         -2.90603844e-01, -2.87338457e-01, -2.84076130e-01, -2.80816824e-01,\n",
              "         -2.77560498e-01, -2.74307113e-01, -2.71056628e-01, -2.67809005e-01,\n",
              "         -2.64564204e-01, -2.61322186e-01, -2.58082913e-01, -2.54846345e-01,\n",
              "         -2.51612445e-01, -2.48381174e-01, -2.45152494e-01, -2.41926368e-01,\n",
              "         -2.38702758e-01, -2.35481627e-01, -2.32262937e-01, -2.29046651e-01,\n",
              "         -2.25832733e-01, -2.22621146e-01, -2.19411853e-01, -2.16204819e-01,\n",
              "         -2.13000007e-01, -2.09797381e-01, -2.06596906e-01, -2.03398545e-01,\n",
              "         -2.00202264e-01, -1.97008027e-01, -1.93815798e-01, -1.90625543e-01,\n",
              "         -1.87437228e-01, -1.84250816e-01, -1.81066275e-01, -1.77883568e-01,\n",
              "         -1.74702662e-01, -1.71523523e-01, -1.68346117e-01, -1.65170409e-01,\n",
              "         -1.61996366e-01, -1.58823955e-01, -1.55653141e-01, -1.52483891e-01,\n",
              "         -1.49316172e-01, -1.46149951e-01, -1.42985194e-01, -1.39821868e-01,\n",
              "         -1.36659941e-01, -1.33499380e-01, -1.30340152e-01, -1.27182224e-01,\n",
              "         -1.24025564e-01, -1.20870139e-01, -1.17715918e-01, -1.14562867e-01,\n",
              "         -1.11410954e-01, -1.08260149e-01, -1.05110417e-01, -1.01961728e-01,\n",
              "         -9.88140494e-02, -9.56673496e-02, -9.25215967e-02, -8.93767592e-02,\n",
              "         -8.62328054e-02, -8.30897037e-02, -7.99474227e-02, -7.68059308e-02,\n",
              "         -7.36651968e-02, -7.05251892e-02, -6.73858769e-02, -6.42472285e-02,\n",
              "         -6.11092129e-02, -5.79717989e-02, -5.48349555e-02, -5.16986515e-02,\n",
              "         -4.85628560e-02, -4.54275380e-02, -4.22926664e-02, -3.91582104e-02,\n",
              "         -3.60241391e-02, -3.28904216e-02, -2.97570271e-02, -2.66239247e-02,\n",
              "         -2.34910836e-02, -2.03584731e-02, -1.72260623e-02, -1.40938205e-02,\n",
              "         -1.09617170e-02, -7.82972108e-03, -4.69780193e-03, -1.56592886e-03,\n",
              "          1.56592886e-03,  4.69780193e-03,  7.82972108e-03,  1.09617170e-02,\n",
              "          1.40938205e-02,  1.72260623e-02,  2.03584731e-02,  2.34910836e-02,\n",
              "          2.66239247e-02,  2.97570271e-02,  3.28904216e-02,  3.60241391e-02,\n",
              "          3.91582104e-02,  4.22926664e-02,  4.54275380e-02,  4.85628560e-02,\n",
              "          5.16986515e-02,  5.48349555e-02,  5.79717989e-02,  6.11092129e-02,\n",
              "          6.42472285e-02,  6.73858769e-02,  7.05251892e-02,  7.36651968e-02,\n",
              "          7.68059308e-02,  7.99474227e-02,  8.30897037e-02,  8.62328054e-02,\n",
              "          8.93767592e-02,  9.25215967e-02,  9.56673496e-02,  9.88140494e-02,\n",
              "          1.01961728e-01,  1.05110417e-01,  1.08260149e-01,  1.11410954e-01,\n",
              "          1.14562867e-01,  1.17715918e-01,  1.20870139e-01,  1.24025564e-01,\n",
              "          1.27182224e-01,  1.30340152e-01,  1.33499380e-01,  1.36659941e-01,\n",
              "          1.39821868e-01,  1.42985194e-01,  1.46149951e-01,  1.49316172e-01,\n",
              "          1.52483891e-01,  1.55653141e-01,  1.58823955e-01,  1.61996366e-01,\n",
              "          1.65170409e-01,  1.68346117e-01,  1.71523523e-01,  1.74702662e-01,\n",
              "          1.77883568e-01,  1.81066275e-01,  1.84250816e-01,  1.87437228e-01,\n",
              "          1.90625543e-01,  1.93815798e-01,  1.97008027e-01,  2.00202264e-01,\n",
              "          2.03398545e-01,  2.06596906e-01,  2.09797381e-01,  2.13000007e-01,\n",
              "          2.16204819e-01,  2.19411853e-01,  2.22621146e-01,  2.25832733e-01,\n",
              "          2.29046651e-01,  2.32262937e-01,  2.35481627e-01,  2.38702758e-01,\n",
              "          2.41926368e-01,  2.45152494e-01,  2.48381174e-01,  2.51612445e-01,\n",
              "          2.54846345e-01,  2.58082913e-01,  2.61322186e-01,  2.64564204e-01,\n",
              "          2.67809005e-01,  2.71056628e-01,  2.74307113e-01,  2.77560498e-01,\n",
              "          2.80816824e-01,  2.84076130e-01,  2.87338457e-01,  2.90603844e-01,\n",
              "          2.93872334e-01,  2.97143965e-01,  3.00418781e-01,  3.03696821e-01,\n",
              "          3.06978128e-01,  3.10262744e-01,  3.13550710e-01,  3.16842070e-01,\n",
              "          3.20136865e-01,  3.23435140e-01,  3.26736937e-01,  3.30042299e-01,\n",
              "          3.33351272e-01,  3.36663898e-01,  3.39980223e-01,  3.43300292e-01,\n",
              "          3.46624149e-01,  3.49951840e-01,  3.53283410e-01,  3.56618906e-01,\n",
              "          3.59958375e-01,  3.63301863e-01,  3.66649417e-01,  3.70001085e-01,\n",
              "          3.73356914e-01,  3.76716954e-01,  3.80081252e-01,  3.83449857e-01,\n",
              "          3.86822819e-01,  3.90200188e-01,  3.93582013e-01,  3.96968346e-01,\n",
              "          4.00359237e-01,  4.03754738e-01,  4.07154900e-01,  4.10559776e-01,\n",
              "          4.13969419e-01,  4.17383880e-01,  4.20803215e-01,  4.24227477e-01,\n",
              "          4.27656721e-01,  4.31091001e-01,  4.34530373e-01,  4.37974892e-01,\n",
              "          4.41424617e-01,  4.44879602e-01,  4.48339906e-01,  4.51805587e-01,\n",
              "          4.55276703e-01,  4.58753313e-01,  4.62235477e-01,  4.65723254e-01,\n",
              "          4.69216706e-01,  4.72715894e-01,  4.76220880e-01,  4.79731726e-01,\n",
              "          4.83248495e-01,  4.86771251e-01,  4.90300058e-01,  4.93834981e-01,\n",
              "          4.97376086e-01,  5.00923439e-01,  5.04477106e-01,  5.08037156e-01,\n",
              "          5.11603656e-01,  5.15176675e-01,  5.18756284e-01,  5.22342552e-01,\n",
              "          5.25935551e-01,  5.29535353e-01,  5.33142029e-01,  5.36755654e-01,\n",
              "          5.40376302e-01,  5.44004048e-01,  5.47638967e-01,  5.51281136e-01,\n",
              "          5.54930634e-01,  5.58587537e-01,  5.62251925e-01,  5.65923879e-01,\n",
              "          5.69603479e-01,  5.73290808e-01,  5.76985948e-01,  5.80688983e-01,\n",
              "          5.84399997e-01,  5.88119078e-01,  5.91846311e-01,  5.95581784e-01,\n",
              "          5.99325586e-01,  6.03077808e-01,  6.06838539e-01,  6.10607873e-01,\n",
              "          6.14385902e-01,  6.18172722e-01,  6.21968426e-01,  6.25773113e-01,\n",
              "          6.29586880e-01,  6.33409826e-01,  6.37242052e-01,  6.41083660e-01,\n",
              "          6.44934752e-01,  6.48795432e-01,  6.52665808e-01,  6.56545984e-01,\n",
              "          6.60436071e-01,  6.64336178e-01,  6.68246417e-01,  6.72166899e-01,\n",
              "          6.76097741e-01,  6.80039057e-01,  6.83990965e-01,  6.87953584e-01,\n",
              "          6.91927036e-01,  6.95911442e-01,  6.99906926e-01,  7.03913616e-01,\n",
              "          7.07931637e-01,  7.11961121e-01,  7.16002197e-01,  7.20055001e-01,\n",
              "          7.24119666e-01,  7.28196330e-01,  7.32285132e-01,  7.36386213e-01,\n",
              "          7.40499717e-01,  7.44625790e-01,  7.48764578e-01,  7.52916233e-01,\n",
              "          7.57080905e-01,  7.61258751e-01,  7.65449926e-01,  7.69654590e-01,\n",
              "          7.73872906e-01,  7.78105037e-01,  7.82351151e-01,  7.86611417e-01,\n",
              "          7.90886008e-01,  7.95175100e-01,  7.99478870e-01,  8.03797499e-01,\n",
              "          8.08131172e-01,  8.12480076e-01,  8.16844401e-01,  8.21224340e-01,\n",
              "          8.25620091e-01,  8.30031852e-01,  8.34459829e-01,  8.38904228e-01,\n",
              "          8.43365259e-01,  8.47843138e-01,  8.52338082e-01,  8.56850313e-01,\n",
              "          8.61380058e-01,  8.65927547e-01,  8.70493013e-01,  8.75076696e-01,\n",
              "          8.79678839e-01,  8.84299689e-01,  8.88939498e-01,  8.93598524e-01,\n",
              "          8.98277028e-01,  9.02975277e-01,  9.07693542e-01,  9.12432102e-01,\n",
              "          9.17191239e-01,  9.21971241e-01,  9.26772402e-01,  9.31595021e-01,\n",
              "          9.36439405e-01,  9.41305866e-01,  9.46194722e-01,  9.51106299e-01,\n",
              "          9.56040927e-01,  9.60998946e-01,  9.65980701e-01,  9.70986547e-01,\n",
              "          9.76016842e-01,  9.81071957e-01,  9.86152267e-01,  9.91258158e-01,\n",
              "          9.96390023e-01,  1.00154826e+00,  1.00673329e+00,  1.01194553e+00,\n",
              "          1.01718540e+00,  1.02245335e+00,  1.02774983e+00,  1.03307530e+00,\n",
              "          1.03843024e+00,  1.04381511e+00,  1.04923042e+00,  1.05467668e+00,\n",
              "          1.06015441e+00,  1.06566413e+00,  1.07120639e+00,  1.07678175e+00,\n",
              "          1.08239079e+00,  1.08803409e+00,  1.09371225e+00,  1.09942590e+00,\n",
              "          1.10517566e+00,  1.11096220e+00,  1.11678618e+00,  1.12264828e+00,\n",
              "          1.12854922e+00,  1.13448973e+00,  1.14047054e+00,  1.14649242e+00,\n",
              "          1.15255617e+00,  1.15866260e+00,  1.16481254e+00,  1.17100685e+00,\n",
              "          1.17724643e+00,  1.18353218e+00,  1.18986504e+00,  1.19624598e+00,\n",
              "          1.20267601e+00,  1.20915615e+00,  1.21568746e+00,  1.22227105e+00,\n",
              "          1.22890805e+00,  1.23559963e+00,  1.24234700e+00,  1.24915140e+00,\n",
              "          1.25601414e+00,  1.26293655e+00,  1.26992001e+00,  1.27696596e+00,\n",
              "          1.28407589e+00,  1.29125132e+00,  1.29849386e+00,  1.30580516e+00,\n",
              "          1.31318694e+00,  1.32064097e+00,  1.32816912e+00,  1.33577329e+00,\n",
              "          1.34345551e+00,  1.35121783e+00,  1.35906244e+00,  1.36699158e+00,\n",
              "          1.37500761e+00,  1.38311298e+00,  1.39131026e+00,  1.39960210e+00,\n",
              "          1.40799130e+00,  1.41648079e+00,  1.42507361e+00,  1.43377295e+00,\n",
              "          1.44258218e+00,  1.45150480e+00,  1.46054450e+00,  1.46970515e+00,\n",
              "          1.47899083e+00,  1.48840581e+00,  1.49795460e+00,  1.50764196e+00,\n",
              "          1.51747292e+00,  1.52745276e+00,  1.53758709e+00,  1.54788184e+00,\n",
              "          1.55834331e+00,  1.56897816e+00,  1.57979349e+00,  1.59079683e+00,\n",
              "          1.60199621e+00,  1.61340021e+00,  1.62501798e+00,  1.63685932e+00,\n",
              "          1.64893473e+00,  1.66125548e+00,  1.67383370e+00,  1.68668245e+00,\n",
              "          1.69981586e+00,  1.71324918e+00,  1.72699897e+00,  1.74108324e+00,\n",
              "          1.75552160e+00,  1.77033549e+00,  1.78554840e+00,  1.80118612e+00,\n",
              "          1.81727714e+00,  1.83385292e+00,  1.85094845e+00,  1.86860270e+00,\n",
              "          1.88685932e+00,  1.90576741e+00,  1.92538245e+00,  1.94576754e+00,\n",
              "          1.96699480e+00,  1.98914727e+00,  2.01232119e+00,  2.03662904e+00,\n",
              "          2.06220345e+00,  2.08920237e+00,  2.11781604e+00,  2.14827658e+00,\n",
              "          2.18087139e+00,  2.21596250e+00,  2.25401521e+00,  2.29564214e+00,\n",
              "          2.34167369e+00,  2.39327695e+00,  2.45216961e+00,  2.52103830e+00,\n",
              "          2.60445496e+00,  2.71124085e+00,  2.86240960e+00,  3.13269090e+00]),\n",
              "  array([-0.5174639 ,  0.27548186,  0.67496656,  0.73802346,  0.78893444,\n",
              "          0.93669788,  0.97392246,  1.02285225,  1.03351786,  1.08609848,\n",
              "          1.12202667,  1.14340311,  1.16216989,  1.21022023,  1.21611664,\n",
              "          1.2177282 ,  1.29852399,  1.30191553,  1.32759741,  1.40132687,\n",
              "          1.40703242,  1.41381907,  1.44201471,  1.46739152,  1.53977359,\n",
              "          1.55502841,  1.61704768,  1.61876158,  1.62108627,  1.63381988,\n",
              "          1.64277   ,  1.65370781,  1.65595147,  1.66822572,  1.68415505,\n",
              "          1.68512761,  1.70818936,  1.7327727 ,  1.73404662,  1.7393149 ,\n",
              "          1.74569798,  1.76400484,  1.76406486,  1.78455336,  1.79450585,\n",
              "          1.79853993,  1.80894988,  1.8288406 ,  1.84386511,  1.8511805 ,\n",
              "          1.85153458,  1.85785092,  1.86344858,  1.87379116,  1.89549481,\n",
              "          1.8993274 ,  1.90983062,  1.9100988 ,  1.91799922,  1.91948732,\n",
              "          1.94060727,  1.96054354,  1.9705132 ,  1.97176824,  1.97579005,\n",
              "          1.9830772 ,  2.00556488,  2.00984318,  2.01369376,  2.01423155,\n",
              "          2.02376985,  2.02904251,  2.04090103,  2.04234446,  2.04357387,\n",
              "          2.0472984 ,  2.05365845,  2.06774725,  2.0747188 ,  2.09773013,\n",
              "          2.10053523,  2.10982995,  2.1177354 ,  2.11962772,  2.12549358,\n",
              "          2.13280476,  2.13618313,  2.13783786,  2.13822303,  2.14994026,\n",
              "          2.15128118,  2.15442079,  2.18648524,  2.18918507,  2.19215373,\n",
              "          2.19672027,  2.19697655,  2.20516416,  2.20520515,  2.21037452,\n",
              "          2.24319743,  2.24768991,  2.24773297,  2.25551289,  2.26231579,\n",
              "          2.26448071,  2.27645284,  2.28455531,  2.29524108,  2.29711969,\n",
              "          2.30324751,  2.3071748 ,  2.31113158,  2.31433469,  2.31487873,\n",
              "          2.31613837,  2.31707853,  2.317726  ,  2.32585262,  2.33892503,\n",
              "          2.34491674,  2.35011387,  2.35731061,  2.36772808,  2.37302424,\n",
              "          2.39314322,  2.40864091,  2.40930492,  2.41415698,  2.41957021,\n",
              "          2.42093451,  2.4238881 ,  2.44068038,  2.45850835,  2.46306831,\n",
              "          2.46907777,  2.47014052,  2.47507492,  2.49104973,  2.49123585,\n",
              "          2.49328382,  2.51700243,  2.52140227,  2.54773643,  2.55371183,\n",
              "          2.55901461,  2.56195483,  2.56648957,  2.56786645,  2.56844753,\n",
              "          2.57181185,  2.57997392,  2.58242393,  2.58590723,  2.58630307,\n",
              "          2.59515524,  2.60440673,  2.606354  ,  2.60766448,  2.60833136,\n",
              "          2.6115856 ,  2.61548828,  2.61666437,  2.62181029,  2.62380685,\n",
              "          2.62476472,  2.62792463,  2.62883364,  2.62935811,  2.63348815,\n",
              "          2.63997692,  2.64881287,  2.64965941,  2.6508616 ,  2.6559088 ,\n",
              "          2.65801457,  2.68454137,  2.68514221,  2.68661221,  2.69083224,\n",
              "          2.69676047,  2.698239  ,  2.70058021,  2.70208908,  2.70221095,\n",
              "          2.71452583,  2.72341102,  2.72477861,  2.73240556,  2.74114556,\n",
              "          2.74214482,  2.74484874,  2.75299034,  2.75593662,  2.75762504,\n",
              "          2.76191625,  2.76309408,  2.77527891,  2.7757715 ,  2.7868411 ,\n",
              "          2.79503754,  2.79912451,  2.80110871,  2.80424376,  2.80434767,\n",
              "          2.81125715,  2.81179839,  2.81204368,  2.81381106,  2.81559305,\n",
              "          2.82398975,  2.82602223,  2.8268932 ,  2.83052565,  2.83090065,\n",
              "          2.83117414,  2.83464708,  2.84067798,  2.8484454 ,  2.85166343,\n",
              "          2.85756305,  2.86252173,  2.8673851 ,  2.8702403 ,  2.87032574,\n",
              "          2.87136089,  2.87529432,  2.88025802,  2.88373065,  2.88418564,\n",
              "          2.88848049,  2.89176919,  2.89655818,  2.9020748 ,  2.90597212,\n",
              "          2.91180854,  2.9223377 ,  2.92368466,  2.92667539,  2.94040032,\n",
              "          2.94826927,  2.96455319,  2.96733404,  2.96909526,  2.96955444,\n",
              "          2.97373864,  2.97541896,  2.97714518,  2.97815541,  2.98924014,\n",
              "          2.98994046,  3.00000017,  3.00421269,  3.00626278,  3.00959965,\n",
              "          3.01141048,  3.01789391,  3.02173807,  3.02483396,  3.02697304,\n",
              "          3.02860824,  3.03151571,  3.03293396,  3.03314417,  3.034044  ,\n",
              "          3.03445753,  3.03757818,  3.03833633,  3.04383682,  3.0467057 ,\n",
              "          3.04899939,  3.05243866,  3.05526832,  3.0565504 ,  3.05891919,\n",
              "          3.06313776,  3.06415851,  3.0647667 ,  3.06689947,  3.06727469,\n",
              "          3.06882745,  3.07461621,  3.07587258,  3.07670375,  3.07852079,\n",
              "          3.08494576,  3.08702511,  3.10295957,  3.10678133,  3.10740922,\n",
              "          3.11159386,  3.11172331,  3.11696994,  3.12300884,  3.12436802,\n",
              "          3.1263843 ,  3.13373936,  3.13614563,  3.13813481,  3.13905526,\n",
              "          3.14132304,  3.14507456,  3.14861369,  3.15178671,  3.155013  ,\n",
              "          3.1563782 ,  3.16061758,  3.16221795,  3.16502888,  3.17166114,\n",
              "          3.17251052,  3.17454076,  3.17604855,  3.17749159,  3.17896336,\n",
              "          3.1790603 ,  3.18022789,  3.18804088,  3.18890887,  3.19166063,\n",
              "          3.19434341,  3.1967532 ,  3.19761802,  3.20041614,  3.20442833,\n",
              "          3.21089371,  3.21555034,  3.21872656,  3.21939817,  3.22242939,\n",
              "          3.22428531,  3.23223423,  3.23691082,  3.23705709,  3.23760355,\n",
              "          3.24569523,  3.24601261,  3.24701159,  3.25388078,  3.25447353,\n",
              "          3.26128088,  3.27439457,  3.27692375,  3.27940078,  3.27951557,\n",
              "          3.27953728,  3.2802083 ,  3.28538669,  3.28842191,  3.29420608,\n",
              "          3.29600711,  3.2967515 ,  3.29785983,  3.29810948,  3.3002977 ,\n",
              "          3.30367961,  3.30447895,  3.3052944 ,  3.30580279,  3.31116934,\n",
              "          3.31226498,  3.32079555,  3.32151139,  3.32848207,  3.33272005,\n",
              "          3.33705603,  3.33843422,  3.34173572,  3.34272091,  3.34276083,\n",
              "          3.3463017 ,  3.34884782,  3.35455016,  3.35522577,  3.36061259,\n",
              "          3.3626531 ,  3.36384274,  3.36514794,  3.36986738,  3.37522177,\n",
              "          3.37583009,  3.38036705,  3.38295928,  3.39819047,  3.40303666,\n",
              "          3.41489169,  3.43059413,  3.4331005 ,  3.43657564,  3.43780719,\n",
              "          3.43885571,  3.43911576,  3.44359279,  3.44771231,  3.44811429,\n",
              "          3.45002234,  3.45693142,  3.45891261,  3.45972922,  3.46186676,\n",
              "          3.46228452,  3.4653526 ,  3.4653918 ,  3.47401543,  3.47466269,\n",
              "          3.47933253,  3.4799446 ,  3.4804176 ,  3.48579864,  3.49037978,\n",
              "          3.49665236,  3.4991892 ,  3.49983674,  3.50062022,  3.50309884,\n",
              "          3.50638131,  3.50883775,  3.51671652,  3.51998593,  3.52251856,\n",
              "          3.52899441,  3.53260643,  3.53325818,  3.53563333,  3.5429934 ,\n",
              "          3.54891702,  3.54916547,  3.54916693,  3.55545784,  3.55605149,\n",
              "          3.55656916,  3.56317566,  3.56605662,  3.56874184,  3.57017351,\n",
              "          3.57134578,  3.57967024,  3.58098865,  3.58590238,  3.59014697,\n",
              "          3.5908679 ,  3.60424633,  3.60565689,  3.60668329,  3.60680683,\n",
              "          3.60722253,  3.60919946,  3.6110295 ,  3.61581047,  3.61584661,\n",
              "          3.61798027,  3.62028693,  3.62181244,  3.62551294,  3.62795724,\n",
              "          3.62983652,  3.6305042 ,  3.63193807,  3.63207839,  3.63307742,\n",
              "          3.64200372,  3.64495991,  3.64879089,  3.65204777,  3.65489256,\n",
              "          3.65534765,  3.65799524,  3.66300829,  3.6693935 ,  3.67063199,\n",
              "          3.67787995,  3.68246726,  3.69905936,  3.6992048 ,  3.70437106,\n",
              "          3.70722784,  3.70870607,  3.70955362,  3.71698714,  3.71995849,\n",
              "          3.72257373,  3.72352345,  3.72469659,  3.73141083,  3.73401488,\n",
              "          3.73916178,  3.73937467,  3.75463073,  3.76126679,  3.76800783,\n",
              "          3.76910657,  3.77403148,  3.77433354,  3.77474554,  3.7791613 ,\n",
              "          3.78530644,  3.79181657,  3.80226545,  3.80553028,  3.80894127,\n",
              "          3.8090265 ,  3.80905577,  3.81505607,  3.81905742,  3.82198852,\n",
              "          3.83161726,  3.83234897,  3.83703404,  3.83955481,  3.8481746 ,\n",
              "          3.85491991,  3.85628304,  3.85709733,  3.85886335,  3.86568397,\n",
              "          3.87265461,  3.87917378,  3.88630528,  3.88673518,  3.89011307,\n",
              "          3.89090974,  3.89118469,  3.89761099,  3.8986789 ,  3.91111135,\n",
              "          3.9144245 ,  3.9146188 ,  3.91616131,  3.9161625 ,  3.92763446,\n",
              "          3.92860425,  3.9374475 ,  3.93767258,  3.94438017,  3.94483407,\n",
              "          3.94981846,  3.95520669,  3.9566897 ,  3.95705446,  3.95753102,\n",
              "          3.95761252,  3.96442114,  3.9679682 ,  3.9703938 ,  3.97118355,\n",
              "          3.9756539 ,  4.00092218,  4.00174856,  4.00735996,  4.02115371,\n",
              "          4.02282585,  4.02533402,  4.0314101 ,  4.03654839,  4.03807356,\n",
              "          4.04248105,  4.04771831,  4.05175741,  4.06328928,  4.06794671,\n",
              "          4.0830354 ,  4.08382634,  4.08744514,  4.09075902,  4.09994739,\n",
              "          4.11111935,  4.11909408,  4.12146816,  4.1216761 ,  4.12606531,\n",
              "          4.12703623,  4.12955321,  4.13023609,  4.13568366,  4.16012046,\n",
              "          4.17038121,  4.17687613,  4.17938277,  4.18109881,  4.20973517,\n",
              "          4.21429115,  4.21471069,  4.22345191,  4.23108511,  4.2363908 ,\n",
              "          4.23950187,  4.24074459,  4.24260204,  4.24344163,  4.24420624,\n",
              "          4.24461296,  4.25156291,  4.25594932,  4.26226182,  4.26262054,\n",
              "          4.26406963,  4.26758031,  4.28113135,  4.28201384,  4.29446983,\n",
              "          4.30534619,  4.30811683,  4.30905846,  4.31920121,  4.32225491,\n",
              "          4.32698369,  4.32952636,  4.33112334,  4.33792273,  4.34292604,\n",
              "          4.34397324,  4.34402166,  4.34908452,  4.35094206,  4.35167579,\n",
              "          4.35544675,  4.3616069 ,  4.36800418,  4.37495739,  4.37568117,\n",
              "          4.38584394,  4.38619487,  4.38926748,  4.39825198,  4.40602705,\n",
              "          4.40970907,  4.41488078,  4.41577468,  4.42843801,  4.42975972,\n",
              "          4.43726509,  4.44110397,  4.45681953,  4.46396009,  4.46918957,\n",
              "          4.48051891,  4.48089906,  4.4814772 ,  4.48342284,  4.4845791 ,\n",
              "          4.48490554,  4.48546237,  4.48882137,  4.49611823,  4.50376735,\n",
              "          4.52720914,  4.52805862,  4.52859714,  4.54101649,  4.5423273 ,\n",
              "          4.54721521,  4.55418742,  4.55591835,  4.56697459,  4.57680364,\n",
              "          4.58151187,  4.58190414,  4.61149777,  4.62273114,  4.62309879,\n",
              "          4.62738667,  4.63024647,  4.64032279,  4.64581316,  4.64882524,\n",
              "          4.65328026,  4.66995121,  4.67025673,  4.67526847,  4.67750773,\n",
              "          4.68858034,  4.69856813,  4.72309455,  4.726391  ,  4.73096256,\n",
              "          4.73773993,  4.7382912 ,  4.73992797,  4.74590743,  4.76014211,\n",
              "          4.7618945 ,  4.765255  ,  4.77299577,  4.77918172,  4.78239388,\n",
              "          4.78336755,  4.80018659,  4.80092279,  4.80273052,  4.81356335,\n",
              "          4.81647769,  4.81892762,  4.82365881,  4.83252629,  4.83297365,\n",
              "          4.8509296 ,  4.8580364 ,  4.85975807,  4.86820085,  4.88029966,\n",
              "          4.88049657,  4.8858324 ,  4.88770672,  4.8880008 ,  4.88977764,\n",
              "          4.90075302,  4.91986817,  4.92728944,  4.93360541,  4.94658358,\n",
              "          4.95485819,  4.95596773,  4.96458934,  4.96690069,  4.96758601,\n",
              "          4.98054005,  4.98183098,  4.99097296,  4.99295069,  5.00151391,\n",
              "          5.00397819,  5.00971755,  5.0184014 ,  5.02535976,  5.03239805,\n",
              "          5.03904957,  5.04198767,  5.04712599,  5.0546549 ,  5.07476505,\n",
              "          5.08565313,  5.09045838,  5.10187136,  5.11428487,  5.11485193,\n",
              "          5.11688921,  5.11984305,  5.12057678,  5.12426515,  5.12969656,\n",
              "          5.13287681,  5.13628385,  5.15098005,  5.15313408,  5.15333757,\n",
              "          5.17750279,  5.19058456,  5.19110548,  5.19261981,  5.19964299,\n",
              "          5.20400048,  5.21243769,  5.22951539,  5.2338937 ,  5.25065403,\n",
              "          5.26199746,  5.26420093,  5.26482999,  5.27411113,  5.31638171,\n",
              "          5.3588866 ,  5.3671133 ,  5.39538443,  5.39975526,  5.44886896,\n",
              "          5.45759036,  5.45778057,  5.4913906 ,  5.49358623,  5.50112471,\n",
              "          5.50242985,  5.51614625,  5.55153391,  5.56032844,  5.59028844,\n",
              "          5.61172676,  5.65286933,  5.66281536,  5.67315975,  5.68156126,\n",
              "          5.69101831,  5.75862346,  5.76504438,  5.78802802,  5.82964478,\n",
              "          5.86267166,  5.99115708,  6.08400282,  6.11352025,  6.17513873,\n",
              "          6.19750952,  6.21181887,  6.2571121 ,  6.28165524,  6.41146157,\n",
              "          6.46811162,  6.5935628 ,  6.60789446,  6.76223017,  7.01704415])),\n",
              " (1.1187904893714544, 3.5158252568006416, 0.9987751587407916))"
            ]
          },
          "metadata": {},
          "execution_count": 50
        },
        {
          "output_type": "display_data",
          "data": {
            "text/plain": [
              "<Figure size 432x288 with 1 Axes>"
            ],
            "image/png": "[encoded data removed]"
          },
          "metadata": {
            "needs_background": "light"
          }
        }
      ]
    },
    {
      "cell_type": "code",
      "source": [
        "stats.probplot(train_df.x_2,plot=pylab)"
      ],
      "metadata": {
        "colab": {
          "base_uri": "https://localhost:8080/",
          "height": 1000
        },
        "id": "OUtHeMv40nqw",
        "outputId": "8599b254-b383-4d88-8467-45fa3e7bdb6b"
      },
      "execution_count": 51,
      "outputs": [
        {
          "output_type": "execute_result",
          "data": {
            "text/plain": [
              "((array([-3.13269090e+00, -2.86240960e+00, -2.71124085e+00, -2.60445496e+00,\n",
              "         -2.52103830e+00, -2.45216961e+00, -2.39327695e+00, -2.34167369e+00,\n",
              "         -2.29564214e+00, -2.25401521e+00, -2.21596250e+00, -2.18087139e+00,\n",
              "         -2.14827658e+00, -2.11781604e+00, -2.08920237e+00, -2.06220345e+00,\n",
              "         -2.03662904e+00, -2.01232119e+00, -1.98914727e+00, -1.96699480e+00,\n",
              "         -1.94576754e+00, -1.92538245e+00, -1.90576741e+00, -1.88685932e+00,\n",
              "         -1.86860270e+00, -1.85094845e+00, -1.83385292e+00, -1.81727714e+00,\n",
              "         -1.80118612e+00, -1.78554840e+00, -1.77033549e+00, -1.75552160e+00,\n",
              "         -1.74108324e+00, -1.72699897e+00, -1.71324918e+00, -1.69981586e+00,\n",
              "         -1.68668245e+00, -1.67383370e+00, -1.66125548e+00, -1.64893473e+00,\n",
              "         -1.63685932e+00, -1.62501798e+00, -1.61340021e+00, -1.60199621e+00,\n",
              "         -1.59079683e+00, -1.57979349e+00, -1.56897816e+00, -1.55834331e+00,\n",
              "         -1.54788184e+00, -1.53758709e+00, -1.52745276e+00, -1.51747292e+00,\n",
              "         -1.50764196e+00, -1.49795460e+00, -1.48840581e+00, -1.47899083e+00,\n",
              "         -1.46970515e+00, -1.46054450e+00, -1.45150480e+00, -1.44258218e+00,\n",
              "         -1.43377295e+00, -1.42507361e+00, -1.41648079e+00, -1.40799130e+00,\n",
              "         -1.39960210e+00, -1.39131026e+00, -1.38311298e+00, -1.37500761e+00,\n",
              "         -1.36699158e+00, -1.35906244e+00, -1.35121783e+00, -1.34345551e+00,\n",
              "         -1.33577329e+00, -1.32816912e+00, -1.32064097e+00, -1.31318694e+00,\n",
              "         -1.30580516e+00, -1.29849386e+00, -1.29125132e+00, -1.28407589e+00,\n",
              "         -1.27696596e+00, -1.26992001e+00, -1.26293655e+00, -1.25601414e+00,\n",
              "         -1.24915140e+00, -1.24234700e+00, -1.23559963e+00, -1.22890805e+00,\n",
              "         -1.22227105e+00, -1.21568746e+00, -1.20915615e+00, -1.20267601e+00,\n",
              "         -1.19624598e+00, -1.18986504e+00, -1.18353218e+00, -1.17724643e+00,\n",
              "         -1.17100685e+00, -1.16481254e+00, -1.15866260e+00, -1.15255617e+00,\n",
              "         -1.14649242e+00, -1.14047054e+00, -1.13448973e+00, -1.12854922e+00,\n",
              "         -1.12264828e+00, -1.11678618e+00, -1.11096220e+00, -1.10517566e+00,\n",
              "         -1.09942590e+00, -1.09371225e+00, -1.08803409e+00, -1.08239079e+00,\n",
              "         -1.07678175e+00, -1.07120639e+00, -1.06566413e+00, -1.06015441e+00,\n",
              "         -1.05467668e+00, -1.04923042e+00, -1.04381511e+00, -1.03843024e+00,\n",
              "         -1.03307530e+00, -1.02774983e+00, -1.02245335e+00, -1.01718540e+00,\n",
              "         -1.01194553e+00, -1.00673329e+00, -1.00154826e+00, -9.96390023e-01,\n",
              "         -9.91258158e-01, -9.86152267e-01, -9.81071957e-01, -9.76016842e-01,\n",
              "         -9.70986547e-01, -9.65980701e-01, -9.60998946e-01, -9.56040927e-01,\n",
              "         -9.51106299e-01, -9.46194722e-01, -9.41305866e-01, -9.36439405e-01,\n",
              "         -9.31595021e-01, -9.26772402e-01, -9.21971241e-01, -9.17191239e-01,\n",
              "         -9.12432102e-01, -9.07693542e-01, -9.02975277e-01, -8.98277028e-01,\n",
              "         -8.93598524e-01, -8.88939498e-01, -8.84299689e-01, -8.79678839e-01,\n",
              "         -8.75076696e-01, -8.70493013e-01, -8.65927547e-01, -8.61380058e-01,\n",
              "         -8.56850313e-01, -8.52338082e-01, -8.47843138e-01, -8.43365259e-01,\n",
              "         -8.38904228e-01, -8.34459829e-01, -8.30031852e-01, -8.25620091e-01,\n",
              "         -8.21224340e-01, -8.16844401e-01, -8.12480076e-01, -8.08131172e-01,\n",
              "         -8.03797499e-01, -7.99478870e-01, -7.95175100e-01, -7.90886008e-01,\n",
              "         -7.86611417e-01, -7.82351151e-01, -7.78105037e-01, -7.73872906e-01,\n",
              "         -7.69654590e-01, -7.65449926e-01, -7.61258751e-01, -7.57080905e-01,\n",
              "         -7.52916233e-01, -7.48764578e-01, -7.44625790e-01, -7.40499717e-01,\n",
              "         -7.36386213e-01, -7.32285132e-01, -7.28196330e-01, -7.24119666e-01,\n",
              "         -7.20055001e-01, -7.16002197e-01, -7.11961121e-01, -7.07931637e-01,\n",
              "         -7.03913616e-01, -6.99906926e-01, -6.95911442e-01, -6.91927036e-01,\n",
              "         -6.87953584e-01, -6.83990965e-01, -6.80039057e-01, -6.76097741e-01,\n",
              "         -6.72166899e-01, -6.68246417e-01, -6.64336178e-01, -6.60436071e-01,\n",
              "         -6.56545984e-01, -6.52665808e-01, -6.48795432e-01, -6.44934752e-01,\n",
              "         -6.41083660e-01, -6.37242052e-01, -6.33409826e-01, -6.29586880e-01,\n",
              "         -6.25773113e-01, -6.21968426e-01, -6.18172722e-01, -6.14385902e-01,\n",
              "         -6.10607873e-01, -6.06838539e-01, -6.03077808e-01, -5.99325586e-01,\n",
              "         -5.95581784e-01, -5.91846311e-01, -5.88119078e-01, -5.84399997e-01,\n",
              "         -5.80688983e-01, -5.76985948e-01, -5.73290808e-01, -5.69603479e-01,\n",
              "         -5.65923879e-01, -5.62251925e-01, -5.58587537e-01, -5.54930634e-01,\n",
              "         -5.51281136e-01, -5.47638967e-01, -5.44004048e-01, -5.40376302e-01,\n",
              "         -5.36755654e-01, -5.33142029e-01, -5.29535353e-01, -5.25935551e-01,\n",
              "         -5.22342552e-01, -5.18756284e-01, -5.15176675e-01, -5.11603656e-01,\n",
              "         -5.08037156e-01, -5.04477106e-01, -5.00923439e-01, -4.97376086e-01,\n",
              "         -4.93834981e-01, -4.90300058e-01, -4.86771251e-01, -4.83248495e-01,\n",
              "         -4.79731726e-01, -4.76220880e-01, -4.72715894e-01, -4.69216706e-01,\n",
              "         -4.65723254e-01, -4.62235477e-01, -4.58753313e-01, -4.55276703e-01,\n",
              "         -4.51805587e-01, -4.48339906e-01, -4.44879602e-01, -4.41424617e-01,\n",
              "         -4.37974892e-01, -4.34530373e-01, -4.31091001e-01, -4.27656721e-01,\n",
              "         -4.24227477e-01, -4.20803215e-01, -4.17383880e-01, -4.13969419e-01,\n",
              "         -4.10559776e-01, -4.07154900e-01, -4.03754738e-01, -4.00359237e-01,\n",
              "         -3.96968346e-01, -3.93582013e-01, -3.90200188e-01, -3.86822819e-01,\n",
              "         -3.83449857e-01, -3.80081252e-01, -3.76716954e-01, -3.73356914e-01,\n",
              "         -3.70001085e-01, -3.66649417e-01, -3.63301863e-01, -3.59958375e-01,\n",
              "         -3.56618906e-01, -3.53283410e-01, -3.49951840e-01, -3.46624149e-01,\n",
              "         -3.43300292e-01, -3.39980223e-01, -3.36663898e-01, -3.33351272e-01,\n",
              "         -3.30042299e-01, -3.26736937e-01, -3.23435140e-01, -3.20136865e-01,\n",
              "         -3.16842070e-01, -3.13550710e-01, -3.10262744e-01, -3.06978128e-01,\n",
              "         -3.03696821e-01, -3.00418781e-01, -2.97143965e-01, -2.93872334e-01,\n",
              "         -2.90603844e-01, -2.87338457e-01, -2.84076130e-01, -2.80816824e-01,\n",
              "         -2.77560498e-01, -2.74307113e-01, -2.71056628e-01, -2.67809005e-01,\n",
              "         -2.64564204e-01, -2.61322186e-01, -2.58082913e-01, -2.54846345e-01,\n",
              "         -2.51612445e-01, -2.48381174e-01, -2.45152494e-01, -2.41926368e-01,\n",
              "         -2.38702758e-01, -2.35481627e-01, -2.32262937e-01, -2.29046651e-01,\n",
              "         -2.25832733e-01, -2.22621146e-01, -2.19411853e-01, -2.16204819e-01,\n",
              "         -2.13000007e-01, -2.09797381e-01, -2.06596906e-01, -2.03398545e-01,\n",
              "         -2.00202264e-01, -1.97008027e-01, -1.93815798e-01, -1.90625543e-01,\n",
              "         -1.87437228e-01, -1.84250816e-01, -1.81066275e-01, -1.77883568e-01,\n",
              "         -1.74702662e-01, -1.71523523e-01, -1.68346117e-01, -1.65170409e-01,\n",
              "         -1.61996366e-01, -1.58823955e-01, -1.55653141e-01, -1.52483891e-01,\n",
              "         -1.49316172e-01, -1.46149951e-01, -1.42985194e-01, -1.39821868e-01,\n",
              "         -1.36659941e-01, -1.33499380e-01, -1.30340152e-01, -1.27182224e-01,\n",
              "         -1.24025564e-01, -1.20870139e-01, -1.17715918e-01, -1.14562867e-01,\n",
              "         -1.11410954e-01, -1.08260149e-01, -1.05110417e-01, -1.01961728e-01,\n",
              "         -9.88140494e-02, -9.56673496e-02, -9.25215967e-02, -8.93767592e-02,\n",
              "         -8.62328054e-02, -8.30897037e-02, -7.99474227e-02, -7.68059308e-02,\n",
              "         -7.36651968e-02, -7.05251892e-02, -6.73858769e-02, -6.42472285e-02,\n",
              "         -6.11092129e-02, -5.79717989e-02, -5.48349555e-02, -5.16986515e-02,\n",
              "         -4.85628560e-02, -4.54275380e-02, -4.22926664e-02, -3.91582104e-02,\n",
              "         -3.60241391e-02, -3.28904216e-02, -2.97570271e-02, -2.66239247e-02,\n",
              "         -2.34910836e-02, -2.03584731e-02, -1.72260623e-02, -1.40938205e-02,\n",
              "         -1.09617170e-02, -7.82972108e-03, -4.69780193e-03, -1.56592886e-03,\n",
              "          1.56592886e-03,  4.69780193e-03,  7.82972108e-03,  1.09617170e-02,\n",
              "          1.40938205e-02,  1.72260623e-02,  2.03584731e-02,  2.34910836e-02,\n",
              "          2.66239247e-02,  2.97570271e-02,  3.28904216e-02,  3.60241391e-02,\n",
              "          3.91582104e-02,  4.22926664e-02,  4.54275380e-02,  4.85628560e-02,\n",
              "          5.16986515e-02,  5.48349555e-02,  5.79717989e-02,  6.11092129e-02,\n",
              "          6.42472285e-02,  6.73858769e-02,  7.05251892e-02,  7.36651968e-02,\n",
              "          7.68059308e-02,  7.99474227e-02,  8.30897037e-02,  8.62328054e-02,\n",
              "          8.93767592e-02,  9.25215967e-02,  9.56673496e-02,  9.88140494e-02,\n",
              "          1.01961728e-01,  1.05110417e-01,  1.08260149e-01,  1.11410954e-01,\n",
              "          1.14562867e-01,  1.17715918e-01,  1.20870139e-01,  1.24025564e-01,\n",
              "          1.27182224e-01,  1.30340152e-01,  1.33499380e-01,  1.36659941e-01,\n",
              "          1.39821868e-01,  1.42985194e-01,  1.46149951e-01,  1.49316172e-01,\n",
              "          1.52483891e-01,  1.55653141e-01,  1.58823955e-01,  1.61996366e-01,\n",
              "          1.65170409e-01,  1.68346117e-01,  1.71523523e-01,  1.74702662e-01,\n",
              "          1.77883568e-01,  1.81066275e-01,  1.84250816e-01,  1.87437228e-01,\n",
              "          1.90625543e-01,  1.93815798e-01,  1.97008027e-01,  2.00202264e-01,\n",
              "          2.03398545e-01,  2.06596906e-01,  2.09797381e-01,  2.13000007e-01,\n",
              "          2.16204819e-01,  2.19411853e-01,  2.22621146e-01,  2.25832733e-01,\n",
              "          2.29046651e-01,  2.32262937e-01,  2.35481627e-01,  2.38702758e-01,\n",
              "          2.41926368e-01,  2.45152494e-01,  2.48381174e-01,  2.51612445e-01,\n",
              "          2.54846345e-01,  2.58082913e-01,  2.61322186e-01,  2.64564204e-01,\n",
              "          2.67809005e-01,  2.71056628e-01,  2.74307113e-01,  2.77560498e-01,\n",
              "          2.80816824e-01,  2.84076130e-01,  2.87338457e-01,  2.90603844e-01,\n",
              "          2.93872334e-01,  2.97143965e-01,  3.00418781e-01,  3.03696821e-01,\n",
              "          3.06978128e-01,  3.10262744e-01,  3.13550710e-01,  3.16842070e-01,\n",
              "          3.20136865e-01,  3.23435140e-01,  3.26736937e-01,  3.30042299e-01,\n",
              "          3.33351272e-01,  3.36663898e-01,  3.39980223e-01,  3.43300292e-01,\n",
              "          3.46624149e-01,  3.49951840e-01,  3.53283410e-01,  3.56618906e-01,\n",
              "          3.59958375e-01,  3.63301863e-01,  3.66649417e-01,  3.70001085e-01,\n",
              "          3.73356914e-01,  3.76716954e-01,  3.80081252e-01,  3.83449857e-01,\n",
              "          3.86822819e-01,  3.90200188e-01,  3.93582013e-01,  3.96968346e-01,\n",
              "          4.00359237e-01,  4.03754738e-01,  4.07154900e-01,  4.10559776e-01,\n",
              "          4.13969419e-01,  4.17383880e-01,  4.20803215e-01,  4.24227477e-01,\n",
              "          4.27656721e-01,  4.31091001e-01,  4.34530373e-01,  4.37974892e-01,\n",
              "          4.41424617e-01,  4.44879602e-01,  4.48339906e-01,  4.51805587e-01,\n",
              "          4.55276703e-01,  4.58753313e-01,  4.62235477e-01,  4.65723254e-01,\n",
              "          4.69216706e-01,  4.72715894e-01,  4.76220880e-01,  4.79731726e-01,\n",
              "          4.83248495e-01,  4.86771251e-01,  4.90300058e-01,  4.93834981e-01,\n",
              "          4.97376086e-01,  5.00923439e-01,  5.04477106e-01,  5.08037156e-01,\n",
              "          5.11603656e-01,  5.15176675e-01,  5.18756284e-01,  5.22342552e-01,\n",
              "          5.25935551e-01,  5.29535353e-01,  5.33142029e-01,  5.36755654e-01,\n",
              "          5.40376302e-01,  5.44004048e-01,  5.47638967e-01,  5.51281136e-01,\n",
              "          5.54930634e-01,  5.58587537e-01,  5.62251925e-01,  5.65923879e-01,\n",
              "          5.69603479e-01,  5.73290808e-01,  5.76985948e-01,  5.80688983e-01,\n",
              "          5.84399997e-01,  5.88119078e-01,  5.91846311e-01,  5.95581784e-01,\n",
              "          5.99325586e-01,  6.03077808e-01,  6.06838539e-01,  6.10607873e-01,\n",
              "          6.14385902e-01,  6.18172722e-01,  6.21968426e-01,  6.25773113e-01,\n",
              "          6.29586880e-01,  6.33409826e-01,  6.37242052e-01,  6.41083660e-01,\n",
              "          6.44934752e-01,  6.48795432e-01,  6.52665808e-01,  6.56545984e-01,\n",
              "          6.60436071e-01,  6.64336178e-01,  6.68246417e-01,  6.72166899e-01,\n",
              "          6.76097741e-01,  6.80039057e-01,  6.83990965e-01,  6.87953584e-01,\n",
              "          6.91927036e-01,  6.95911442e-01,  6.99906926e-01,  7.03913616e-01,\n",
              "          7.07931637e-01,  7.11961121e-01,  7.16002197e-01,  7.20055001e-01,\n",
              "          7.24119666e-01,  7.28196330e-01,  7.32285132e-01,  7.36386213e-01,\n",
              "          7.40499717e-01,  7.44625790e-01,  7.48764578e-01,  7.52916233e-01,\n",
              "          7.57080905e-01,  7.61258751e-01,  7.65449926e-01,  7.69654590e-01,\n",
              "          7.73872906e-01,  7.78105037e-01,  7.82351151e-01,  7.86611417e-01,\n",
              "          7.90886008e-01,  7.95175100e-01,  7.99478870e-01,  8.03797499e-01,\n",
              "          8.08131172e-01,  8.12480076e-01,  8.16844401e-01,  8.21224340e-01,\n",
              "          8.25620091e-01,  8.30031852e-01,  8.34459829e-01,  8.38904228e-01,\n",
              "          8.43365259e-01,  8.47843138e-01,  8.52338082e-01,  8.56850313e-01,\n",
              "          8.61380058e-01,  8.65927547e-01,  8.70493013e-01,  8.75076696e-01,\n",
              "          8.79678839e-01,  8.84299689e-01,  8.88939498e-01,  8.93598524e-01,\n",
              "          8.98277028e-01,  9.02975277e-01,  9.07693542e-01,  9.12432102e-01,\n",
              "          9.17191239e-01,  9.21971241e-01,  9.26772402e-01,  9.31595021e-01,\n",
              "          9.36439405e-01,  9.41305866e-01,  9.46194722e-01,  9.51106299e-01,\n",
              "          9.56040927e-01,  9.60998946e-01,  9.65980701e-01,  9.70986547e-01,\n",
              "          9.76016842e-01,  9.81071957e-01,  9.86152267e-01,  9.91258158e-01,\n",
              "          9.96390023e-01,  1.00154826e+00,  1.00673329e+00,  1.01194553e+00,\n",
              "          1.01718540e+00,  1.02245335e+00,  1.02774983e+00,  1.03307530e+00,\n",
              "          1.03843024e+00,  1.04381511e+00,  1.04923042e+00,  1.05467668e+00,\n",
              "          1.06015441e+00,  1.06566413e+00,  1.07120639e+00,  1.07678175e+00,\n",
              "          1.08239079e+00,  1.08803409e+00,  1.09371225e+00,  1.09942590e+00,\n",
              "          1.10517566e+00,  1.11096220e+00,  1.11678618e+00,  1.12264828e+00,\n",
              "          1.12854922e+00,  1.13448973e+00,  1.14047054e+00,  1.14649242e+00,\n",
              "          1.15255617e+00,  1.15866260e+00,  1.16481254e+00,  1.17100685e+00,\n",
              "          1.17724643e+00,  1.18353218e+00,  1.18986504e+00,  1.19624598e+00,\n",
              "          1.20267601e+00,  1.20915615e+00,  1.21568746e+00,  1.22227105e+00,\n",
              "          1.22890805e+00,  1.23559963e+00,  1.24234700e+00,  1.24915140e+00,\n",
              "          1.25601414e+00,  1.26293655e+00,  1.26992001e+00,  1.27696596e+00,\n",
              "          1.28407589e+00,  1.29125132e+00,  1.29849386e+00,  1.30580516e+00,\n",
              "          1.31318694e+00,  1.32064097e+00,  1.32816912e+00,  1.33577329e+00,\n",
              "          1.34345551e+00,  1.35121783e+00,  1.35906244e+00,  1.36699158e+00,\n",
              "          1.37500761e+00,  1.38311298e+00,  1.39131026e+00,  1.39960210e+00,\n",
              "          1.40799130e+00,  1.41648079e+00,  1.42507361e+00,  1.43377295e+00,\n",
              "          1.44258218e+00,  1.45150480e+00,  1.46054450e+00,  1.46970515e+00,\n",
              "          1.47899083e+00,  1.48840581e+00,  1.49795460e+00,  1.50764196e+00,\n",
              "          1.51747292e+00,  1.52745276e+00,  1.53758709e+00,  1.54788184e+00,\n",
              "          1.55834331e+00,  1.56897816e+00,  1.57979349e+00,  1.59079683e+00,\n",
              "          1.60199621e+00,  1.61340021e+00,  1.62501798e+00,  1.63685932e+00,\n",
              "          1.64893473e+00,  1.66125548e+00,  1.67383370e+00,  1.68668245e+00,\n",
              "          1.69981586e+00,  1.71324918e+00,  1.72699897e+00,  1.74108324e+00,\n",
              "          1.75552160e+00,  1.77033549e+00,  1.78554840e+00,  1.80118612e+00,\n",
              "          1.81727714e+00,  1.83385292e+00,  1.85094845e+00,  1.86860270e+00,\n",
              "          1.88685932e+00,  1.90576741e+00,  1.92538245e+00,  1.94576754e+00,\n",
              "          1.96699480e+00,  1.98914727e+00,  2.01232119e+00,  2.03662904e+00,\n",
              "          2.06220345e+00,  2.08920237e+00,  2.11781604e+00,  2.14827658e+00,\n",
              "          2.18087139e+00,  2.21596250e+00,  2.25401521e+00,  2.29564214e+00,\n",
              "          2.34167369e+00,  2.39327695e+00,  2.45216961e+00,  2.52103830e+00,\n",
              "          2.60445496e+00,  2.71124085e+00,  2.86240960e+00,  3.13269090e+00]),\n",
              "  array([  1.40327023,   1.98498622,   2.26713156,   3.89367978,\n",
              "           4.02785555,   4.42283292,   4.54390421,   4.59797161,\n",
              "           4.77422734,   5.00150663,   5.16031394,   5.55878291,\n",
              "           5.78300378,   5.94922732,   5.97053841,   6.29325898,\n",
              "           6.6507405 ,   6.69525023,   6.82732818,   7.02365303,\n",
              "           7.1907785 ,   7.29722836,   7.32552382,   7.33023387,\n",
              "           7.57243081,   7.81527117,   7.87544703,   7.8881488 ,\n",
              "           7.90414404,   8.04297146,   8.0661584 ,   8.70145873,\n",
              "           8.76001109,   8.91644864,   9.03342816,   9.14972882,\n",
              "           9.33106217,   9.41260998,   9.4604353 ,   9.62267907,\n",
              "           9.68777219,   9.76616147,   9.83617332,  10.07516533,\n",
              "          10.21435776,  10.2587179 ,  10.27854294,  10.38209976,\n",
              "          10.47008052,  10.57830773,  10.58771841,  10.74254985,\n",
              "          10.75363237,  10.83787904,  10.97440245,  11.03992614,\n",
              "          11.26100021,  11.27144094,  11.44467299,  11.47967053,\n",
              "          11.5405247 ,  11.59179243,  11.63519404,  12.07319661,\n",
              "          12.13654891,  12.23316511,  12.32110984,  12.5052174 ,\n",
              "          12.58315346,  12.6337485 ,  12.67690658,  12.70916173,\n",
              "          12.94540251,  13.02130235,  13.07782928,  13.19118067,\n",
              "          13.27164621,  13.27538676,  13.33668882,  13.34776585,\n",
              "          13.38666077,  13.57140449,  13.78612579,  13.80187917,\n",
              "          13.86787454,  14.1052271 ,  14.25014893,  14.37425009,\n",
              "          14.43585138,  14.51652129,  14.5320911 ,  14.66083939,\n",
              "          14.82459638,  14.87561156,  15.21025444,  15.25947155,\n",
              "          15.27099988,  15.57858706,  15.59607311,  16.03875117,\n",
              "          16.08637711,  16.30436133,  16.45263303,  16.71274807,\n",
              "          16.71911299,  16.73987458,  16.85554647,  16.88573231,\n",
              "          17.02950911,  17.29292966,  17.56696545,  17.76628507,\n",
              "          17.98264294,  18.02356526,  18.07224424,  18.1395687 ,\n",
              "          18.31343318,  18.33258429,  18.47307254,  18.5140142 ,\n",
              "          18.54569413,  18.70931673,  18.80945918,  18.81560476,\n",
              "          19.2116082 ,  19.45854   ,  19.50242115,  19.52623875,\n",
              "          19.58134679,  19.71413774,  19.77567822,  19.95492757,\n",
              "          20.01877799,  20.2438253 ,  20.24997848,  20.39362597,\n",
              "          20.42522935,  20.51056381,  20.56148789,  20.61215778,\n",
              "          20.74611092,  20.77106803,  20.87811303,  20.93658913,\n",
              "          21.2202345 ,  21.38428945,  21.7029483 ,  21.71158754,\n",
              "          21.78358747,  21.8035182 ,  21.86193226,  21.9833777 ,\n",
              "          22.04809202,  22.22690703,  22.25967258,  22.38350945,\n",
              "          22.41983764,  22.43329156,  22.65037293,  22.68072132,\n",
              "          22.70068541,  22.73390821,  22.80942925,  22.8251949 ,\n",
              "          22.96616078,  22.98179631,  23.21858719,  23.21996337,\n",
              "          23.24394023,  23.65455703,  23.76605938,  23.99602086,\n",
              "          24.0530599 ,  24.13239528,  24.25911236,  24.286864  ,\n",
              "          24.36272067,  24.39863708,  24.56310847,  24.66488158,\n",
              "          24.69835827,  24.75007769,  24.75697329,  24.82189336,\n",
              "          24.97751497,  25.00718015,  25.05507284,  25.22214442,\n",
              "          25.24594071,  25.32247989,  25.34276527,  25.35731639,\n",
              "          25.48867419,  25.58295593,  25.65438803,  25.6760691 ,\n",
              "          25.6878564 ,  25.91887835,  26.06608692,  26.17552757,\n",
              "          26.26688424,  26.31112078,  26.39884426,  26.57897072,\n",
              "          26.58493223,  26.58968603,  26.92100822,  27.09951043,\n",
              "          27.23411383,  27.26196973,  27.70370072,  27.72183695,\n",
              "          27.81984168,  27.82734052,  27.9527827 ,  28.01340776,\n",
              "          28.02663041,  28.08877703,  28.55100057,  28.59548901,\n",
              "          28.60826419,  28.70510382,  28.97859701,  29.09288517,\n",
              "          29.10070397,  29.46943655,  29.56907921,  29.77814542,\n",
              "          29.94753498,  29.95820285,  30.0722646 ,  30.16805389,\n",
              "          30.34653319,  30.59262815,  30.76226249,  30.83625363,\n",
              "          31.07588649,  31.14217714,  31.18618224,  31.27332472,\n",
              "          31.28363944,  31.37320982,  31.48136179,  31.5005132 ,\n",
              "          31.64313517,  31.75478656,  31.76060324,  31.77564333,\n",
              "          31.90797949,  32.04431041,  32.14971049,  32.25543156,\n",
              "          32.42740603,  32.57402101,  32.71166811,  32.74327641,\n",
              "          32.88075813,  32.90030124,  32.98431491,  33.01488052,\n",
              "          33.01857339,  33.08723434,  33.13904938,  33.27059585,\n",
              "          33.27495203,  33.35806029,  33.4522566 ,  33.48515239,\n",
              "          33.6081205 ,  33.93285343,  33.94427984,  33.97016038,\n",
              "          34.2028813 ,  34.31675287,  34.5987345 ,  34.6503891 ,\n",
              "          34.72964378,  34.8032029 ,  35.02041202,  35.59754518,\n",
              "          35.65498061,  35.68206672,  35.74048917,  35.78461217,\n",
              "          35.96990594,  36.55128518,  36.64247789,  36.90899681,\n",
              "          36.9205053 ,  37.06598976,  37.63080375,  37.88638288,\n",
              "          38.32273202,  38.78235075,  38.83712488,  38.87578532,\n",
              "          38.94006544,  39.11088694,  39.21610293,  39.30182889,\n",
              "          39.36811378,  39.62669561,  39.78620005,  39.93818322,\n",
              "          40.50312031,  40.69340328,  40.72366698,  40.85442166,\n",
              "          40.98031827,  41.0415689 ,  41.1391903 ,  41.15081955,\n",
              "          41.16046995,  41.26714077,  41.41161565,  41.45107868,\n",
              "          41.49341314,  41.53260552,  41.67766519,  42.10457038,\n",
              "          42.2144253 ,  42.24417261,  42.27620335,  42.34706943,\n",
              "          42.8406065 ,  42.91814939,  43.07971698,  43.35654947,\n",
              "          43.37699859,  43.38698397,  43.46597038,  43.49496114,\n",
              "          43.65924495,  44.18689546,  44.46477755,  44.48059727,\n",
              "          44.52186664,  44.59894717,  44.84078115,  44.88820859,\n",
              "          45.01202585,  45.12852697,  45.57550064,  45.71263094,\n",
              "          45.98770179,  46.21273261,  46.5831323 ,  46.62433389,\n",
              "          46.6429529 ,  46.96874669,  47.02854876,  47.40936995,\n",
              "          47.53470643,  47.7028548 ,  47.97344312,  48.2333977 ,\n",
              "          48.24488992,  48.72367438,  48.77934477,  48.8041074 ,\n",
              "          48.95038657,  48.95087267,  49.12437249,  49.26687726,\n",
              "          49.81869058,  50.03606684,  50.23591961,  51.00588163,\n",
              "          51.00886291,  51.32156513,  51.34211559,  51.81211433,\n",
              "          51.82165342,  52.05374139,  52.4371375 ,  52.55420603,\n",
              "          52.60676662,  52.60927346,  53.09805238,  53.14220078,\n",
              "          53.1855954 ,  53.52065161,  53.68564026,  53.99701929,\n",
              "          53.99926632,  54.46204268,  54.47474374,  54.49834196,\n",
              "          54.5815162 ,  54.64247295,  54.6799792 ,  54.84017628,\n",
              "          54.8440201 ,  54.95072466,  55.00059254,  55.01485567,\n",
              "          55.06491727,  55.08316212,  55.21818135,  55.23226084,\n",
              "          55.41804345,  55.65212708,  55.74050692,  55.74518237,\n",
              "          55.90808326,  57.05637566,  57.07923717,  57.66087165,\n",
              "          58.16990117,  58.3873043 ,  58.39994458,  58.52996718,\n",
              "          58.585151  ,  58.94806209,  58.98573883,  59.17746367,\n",
              "          59.20689644,  59.34086172,  59.48091621,  59.66451671,\n",
              "          59.75717467,  59.89485468,  59.92472417,  60.09821451,\n",
              "          60.35194411,  60.35961272,  60.39310014,  60.58882177,\n",
              "          60.8156246 ,  60.91146601,  61.00764374,  61.12128443,\n",
              "          61.17809622,  61.55081046,  61.72812418,  62.45078254,\n",
              "          62.52082805,  62.76088658,  62.88213111,  62.9720619 ,\n",
              "          63.01109005,  63.45012755,  63.66870793,  63.74912917,\n",
              "          64.44806417,  64.47143556,  64.70290778,  64.80308409,\n",
              "          65.00374794,  65.10805375,  65.136266  ,  65.15282619,\n",
              "          65.1739176 ,  65.21701456,  65.35518725,  65.72810591,\n",
              "          66.19417399,  66.27277303,  66.92850269,  67.06924646,\n",
              "          67.10575858,  67.32831983,  67.50431447,  67.57710989,\n",
              "          68.2366735 ,  68.80613033,  68.95771636,  70.73096763,\n",
              "          70.81572456,  71.05274331,  71.21107177,  71.46775491,\n",
              "          71.83610013,  72.11178905,  72.26922159,  73.37515357,\n",
              "          73.99285102,  74.08491252,  74.9493377 ,  75.05810567,\n",
              "          75.10220799,  75.91304627,  75.91916174,  76.23092053,\n",
              "          76.43573403,  76.63672138,  76.95781454,  77.03461628,\n",
              "          77.51111225,  77.65159142,  77.94823874,  78.20251547,\n",
              "          78.22199695,  78.24809857,  78.36607162,  79.24692536,\n",
              "          79.35068779,  79.62236376,  79.73646551,  80.58094528,\n",
              "          80.6131819 ,  81.86571277,  82.11554984,  82.13075935,\n",
              "          82.23561022,  83.06827414,  83.31600706,  83.69192969,\n",
              "          83.75938494,  84.14172897,  84.17084918,  84.66375018,\n",
              "          84.70474705,  84.70880148,  84.74997409,  85.02589089,\n",
              "          85.41423726,  85.59641384,  86.30597461,  86.72422682,\n",
              "          87.03365873,  87.55436466,  87.77077232,  88.42296205,\n",
              "          88.63168312,  89.12643899,  89.1629544 ,  89.89060198,\n",
              "          90.1031144 ,  90.13742445,  90.38932972,  91.3898113 ,\n",
              "          91.9021956 ,  91.93731253,  92.28519474,  92.28866231,\n",
              "          92.66643696,  92.69287232,  93.11236498,  93.73852723,\n",
              "          93.83956661,  94.10319865,  94.12278003,  94.58892754,\n",
              "          94.74134732,  94.95687878,  94.96544411,  95.393487  ,\n",
              "          95.62850415,  95.76571411,  96.19403723,  96.70555751,\n",
              "          97.25179488,  97.43845164,  97.50668717,  97.68814694,\n",
              "          97.82290878,  97.92672121,  98.08248628,  98.74495126,\n",
              "          98.84147655,  99.51381829,  99.74027199,  99.84700761,\n",
              "         101.36603778, 101.90799058, 102.40204023, 102.67200585,\n",
              "         103.19073284, 103.51264735, 103.60974246, 103.64587149,\n",
              "         104.00939129, 104.07788593, 104.24347256, 105.10648415,\n",
              "         106.4168509 , 106.86255249, 106.94998187, 107.06888487,\n",
              "         107.28154486, 107.38296323, 107.99984603, 108.14778842,\n",
              "         108.78824129, 109.02115124, 109.13186803, 109.13550474,\n",
              "         109.18190888, 109.68255094, 109.68635192, 109.86310391,\n",
              "         109.96036268, 110.2967875 , 110.63383051, 110.69915404,\n",
              "         112.21658137, 113.35249087, 114.28814049, 114.5803979 ,\n",
              "         114.84925891, 116.02123818, 116.37732131, 116.37803622,\n",
              "         116.56584059, 116.87751847, 118.01542092, 118.24882079,\n",
              "         118.26744959, 119.48085229, 119.52314449, 119.78524864,\n",
              "         119.78879093, 120.70980709, 120.92413924, 120.95902387,\n",
              "         121.14752847, 121.64790904, 122.11709918, 123.4664046 ,\n",
              "         124.156537  , 124.16902577, 125.0024246 , 125.12886291,\n",
              "         125.18571287, 125.26179675, 125.34192902, 127.41122106,\n",
              "         128.52910189, 128.9958878 , 129.68840288, 131.08639246,\n",
              "         131.11554346, 131.60860453, 131.73698229, 132.66029025,\n",
              "         132.94294029, 132.99763755, 134.12165131, 134.556162  ,\n",
              "         134.71995289, 134.79228668, 135.18452297, 135.38788893,\n",
              "         136.20800236, 136.22730305, 136.30802077, 137.73478735,\n",
              "         138.16226852, 138.74992463, 139.04481985, 139.89592674,\n",
              "         141.19154483, 141.32909275, 141.35490417, 142.49950489,\n",
              "         143.27558992, 144.3415302 , 144.84951446, 145.08391457,\n",
              "         146.94292972, 148.95788196, 149.62164828, 150.05444747,\n",
              "         150.19837885, 151.3250097 , 151.33406911, 151.45893857,\n",
              "         154.59060423, 156.67635796, 157.63273092, 159.08617473,\n",
              "         159.21076273, 159.91626324, 161.35040043, 162.23219383,\n",
              "         162.73118294, 163.07868319, 163.66112947, 166.67933002,\n",
              "         168.05905823, 169.41466178, 169.75915444, 171.00790582,\n",
              "         171.77995674, 172.02147816, 172.22816778, 173.00497549,\n",
              "         174.15507946, 174.83460877, 174.93243256, 175.45917706,\n",
              "         175.68181398, 175.90726158, 177.84233487, 178.22208681,\n",
              "         178.98945082, 179.2517268 , 181.7563422 , 183.45952157,\n",
              "         184.50613933, 185.08268151, 185.58724675, 185.95208514,\n",
              "         186.33393533, 186.90823874, 187.3860812 , 187.71452004,\n",
              "         190.98757423, 192.43532461, 193.03250744, 195.04023294,\n",
              "         196.219516  , 197.00601918, 197.58612575, 198.81627098,\n",
              "         200.11800754, 201.44589033, 202.09808032, 202.2132856 ,\n",
              "         203.24835432, 204.18361294, 206.07097454, 206.98044665,\n",
              "         211.71647294, 212.72363711, 213.34660193, 213.63122511,\n",
              "         214.41889282, 215.7709778 , 215.8994832 , 215.92239591,\n",
              "         215.99377455, 220.69843288, 221.44222276, 226.48371672,\n",
              "         228.47854694, 229.59281869, 235.91062768, 236.16637451,\n",
              "         236.8427671 , 238.12316677, 238.1710642 , 242.58203301,\n",
              "         248.63241365, 254.63576771, 255.94280469, 257.65250502,\n",
              "         259.7824606 , 259.83835412, 260.6947536 , 264.06942845,\n",
              "         266.82970888, 270.86375508, 271.43717613, 278.73898463,\n",
              "         284.06921382, 284.65072533, 285.58377326, 286.03125462,\n",
              "         288.86285975, 291.12597553, 295.18685546, 305.01627332,\n",
              "         306.38593822, 315.97417327, 319.26624591, 319.46283136,\n",
              "         320.58658475, 323.66592353, 331.56104594, 332.82425869,\n",
              "         334.98613294, 344.1492843 , 347.70761959, 350.12776668,\n",
              "         354.08869909, 369.98378136, 376.08262978, 377.65091461,\n",
              "         380.42603519, 391.69000272, 423.70661514, 463.32480097,\n",
              "         478.59484764, 485.56378778, 512.46228946, 535.53423   ,\n",
              "         539.8361809 , 554.04793492, 625.14446359, 655.80875121,\n",
              "         672.18171652, 681.30991389, 695.36462802, 741.99377272,\n",
              "         755.43890074, 878.81336764, 898.57266729, 922.40355396])),\n",
              " (92.36640523905908, 92.74823917020618, 0.8091219732946677))"
            ]
          },
          "metadata": {},
          "execution_count": 51
        },
        {
          "output_type": "display_data",
          "data": {
            "text/plain": [
              "<Figure size 432x288 with 1 Axes>"
            ],
            "image/png": "[encoded data removed]"
          },
          "metadata": {
            "needs_background": "light"
          }
        }
      ]
    },
    {
      "cell_type": "markdown",
      "source": [
        "shows that x_2 is not normally distributed"
      ],
      "metadata": {
        "id": "IGP0Tu3T0u2t"
      }
    },
    {
      "cell_type": "markdown",
      "source": [
        "## Log transformation on x_2"
      ],
      "metadata": {
        "id": "i7fIGq3A1CWQ"
      }
    },
    {
      "cell_type": "code",
      "source": [
        "new_x2 = np.log(train_df['x_2'])"
      ],
      "metadata": {
        "id": "IPTWPXmE0r2w"
      },
      "execution_count": 53,
      "outputs": []
    },
    {
      "cell_type": "code",
      "source": [
        "log_train_df = pd.DataFrame({'x_1':train_df['x_1'], 'x_2':new_x2, 'y':train_df['y']})"
      ],
      "metadata": {
        "id": "DU0UgIbO1Hqf"
      },
      "execution_count": 55,
      "outputs": []
    },
    {
      "cell_type": "code",
      "source": [
        "log_train_df.to_csv('log_train.csv', index = False)"
      ],
      "metadata": {
        "id": "o-2ZmDDp1SQw"
      },
      "execution_count": 56,
      "outputs": []
    },
    {
      "cell_type": "code",
      "source": [
        "new_val_x2 = np.log()"
      ],
      "metadata": {
        "id": "-YWrxmrP1auw"
      },
      "execution_count": null,
      "outputs": []
    }
  ]
}