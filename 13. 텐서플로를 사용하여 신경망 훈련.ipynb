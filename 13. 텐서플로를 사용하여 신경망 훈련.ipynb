{
 "cells": [
  {
   "cell_type": "markdown",
   "id": "00bef3f9",
   "metadata": {},
   "source": [
    "#### 텐서플로 설치"
   ]
  },
  {
   "cell_type": "code",
   "execution_count": 1,
   "id": "b2543578",
   "metadata": {},
   "outputs": [
    {
     "name": "stdout",
     "output_type": "stream",
     "text": [
      "Requirement already satisfied: tensorflow in c:\\anaconda3\\envs\\dsfs\\lib\\site-packages (2.5.0)\n",
      "Requirement already satisfied: absl-py~=0.10 in c:\\anaconda3\\envs\\dsfs\\lib\\site-packages (from tensorflow) (0.13.0)\n",
      "Requirement already satisfied: opt-einsum~=3.3.0 in c:\\anaconda3\\envs\\dsfs\\lib\\site-packages (from tensorflow) (3.3.0)\n",
      "Requirement already satisfied: wheel~=0.35 in c:\\anaconda3\\envs\\dsfs\\lib\\site-packages (from tensorflow) (0.36.2)\n",
      "Requirement already satisfied: tensorboard~=2.5 in c:\\anaconda3\\envs\\dsfs\\lib\\site-packages (from tensorflow) (2.5.0)\n",
      "Requirement already satisfied: termcolor~=1.1.0 in c:\\anaconda3\\envs\\dsfs\\lib\\site-packages (from tensorflow) (1.1.0)\n",
      "Requirement already satisfied: typing-extensions~=3.7.4 in c:\\anaconda3\\envs\\dsfs\\lib\\site-packages (from tensorflow) (3.7.4.3)\n",
      "Requirement already satisfied: flatbuffers~=1.12.0 in c:\\anaconda3\\envs\\dsfs\\lib\\site-packages (from tensorflow) (1.12)\n",
      "Requirement already satisfied: astunparse~=1.6.3 in c:\\anaconda3\\envs\\dsfs\\lib\\site-packages (from tensorflow) (1.6.3)\n",
      "Requirement already satisfied: keras-preprocessing~=1.1.2 in c:\\anaconda3\\envs\\dsfs\\lib\\site-packages (from tensorflow) (1.1.2)\n",
      "Requirement already satisfied: six~=1.15.0 in c:\\anaconda3\\envs\\dsfs\\lib\\site-packages (from tensorflow) (1.15.0)\n",
      "Requirement already satisfied: wrapt~=1.12.1 in c:\\anaconda3\\envs\\dsfs\\lib\\site-packages (from tensorflow) (1.12.1)\n",
      "Requirement already satisfied: numpy~=1.19.2 in c:\\anaconda3\\envs\\dsfs\\lib\\site-packages (from tensorflow) (1.19.5)\n",
      "Requirement already satisfied: tensorflow-estimator<2.6.0,>=2.5.0rc0 in c:\\anaconda3\\envs\\dsfs\\lib\\site-packages (from tensorflow) (2.5.0)\n",
      "Requirement already satisfied: google-pasta~=0.2 in c:\\anaconda3\\envs\\dsfs\\lib\\site-packages (from tensorflow) (0.2.0)\n",
      "Requirement already satisfied: protobuf>=3.9.2 in c:\\anaconda3\\envs\\dsfs\\lib\\site-packages (from tensorflow) (3.17.3)\n",
      "Requirement already satisfied: h5py~=3.1.0 in c:\\anaconda3\\envs\\dsfs\\lib\\site-packages (from tensorflow) (3.1.0)\n",
      "Requirement already satisfied: grpcio~=1.34.0 in c:\\anaconda3\\envs\\dsfs\\lib\\site-packages (from tensorflow) (1.34.1)\n",
      "Requirement already satisfied: keras-nightly~=2.5.0.dev in c:\\anaconda3\\envs\\dsfs\\lib\\site-packages (from tensorflow) (2.5.0.dev2021032900)\n",
      "Requirement already satisfied: gast==0.4.0 in c:\\anaconda3\\envs\\dsfs\\lib\\site-packages (from tensorflow) (0.4.0)\n",
      "Requirement already satisfied: google-auth<2,>=1.6.3 in c:\\anaconda3\\envs\\dsfs\\lib\\site-packages (from tensorboard~=2.5->tensorflow) (1.32.1)\n",
      "Requirement already satisfied: tensorboard-plugin-wit>=1.6.0 in c:\\anaconda3\\envs\\dsfs\\lib\\site-packages (from tensorboard~=2.5->tensorflow) (1.8.0)\n",
      "Requirement already satisfied: werkzeug>=0.11.15 in c:\\anaconda3\\envs\\dsfs\\lib\\site-packages (from tensorboard~=2.5->tensorflow) (2.0.1)\n",
      "Requirement already satisfied: tensorboard-data-server<0.7.0,>=0.6.0 in c:\\anaconda3\\envs\\dsfs\\lib\\site-packages (from tensorboard~=2.5->tensorflow) (0.6.1)\n",
      "Requirement already satisfied: setuptools>=41.0.0 in c:\\anaconda3\\envs\\dsfs\\lib\\site-packages (from tensorboard~=2.5->tensorflow) (52.0.0.post20210125)\n",
      "Requirement already satisfied: requests<3,>=2.21.0 in c:\\anaconda3\\envs\\dsfs\\lib\\site-packages (from tensorboard~=2.5->tensorflow) (2.25.1)\n",
      "Requirement already satisfied: markdown>=2.6.8 in c:\\anaconda3\\envs\\dsfs\\lib\\site-packages (from tensorboard~=2.5->tensorflow) (3.3.4)\n",
      "Requirement already satisfied: google-auth-oauthlib<0.5,>=0.4.1 in c:\\anaconda3\\envs\\dsfs\\lib\\site-packages (from tensorboard~=2.5->tensorflow) (0.4.4)\n",
      "Requirement already satisfied: rsa<5,>=3.1.4 in c:\\anaconda3\\envs\\dsfs\\lib\\site-packages (from google-auth<2,>=1.6.3->tensorboard~=2.5->tensorflow) (4.7.2)\n",
      "Requirement already satisfied: pyasn1-modules>=0.2.1 in c:\\anaconda3\\envs\\dsfs\\lib\\site-packages (from google-auth<2,>=1.6.3->tensorboard~=2.5->tensorflow) (0.2.8)\n",
      "Requirement already satisfied: cachetools<5.0,>=2.0.0 in c:\\anaconda3\\envs\\dsfs\\lib\\site-packages (from google-auth<2,>=1.6.3->tensorboard~=2.5->tensorflow) (4.2.2)\n",
      "Requirement already satisfied: requests-oauthlib>=0.7.0 in c:\\anaconda3\\envs\\dsfs\\lib\\site-packages (from google-auth-oauthlib<0.5,>=0.4.1->tensorboard~=2.5->tensorflow) (1.3.0)\n",
      "Requirement already satisfied: pyasn1<0.5.0,>=0.4.6 in c:\\anaconda3\\envs\\dsfs\\lib\\site-packages (from pyasn1-modules>=0.2.1->google-auth<2,>=1.6.3->tensorboard~=2.5->tensorflow) (0.4.8)\n",
      "Requirement already satisfied: certifi>=2017.4.17 in c:\\anaconda3\\envs\\dsfs\\lib\\site-packages (from requests<3,>=2.21.0->tensorboard~=2.5->tensorflow) (2021.5.30)\n",
      "Requirement already satisfied: chardet<5,>=3.0.2 in c:\\anaconda3\\envs\\dsfs\\lib\\site-packages (from requests<3,>=2.21.0->tensorboard~=2.5->tensorflow) (4.0.0)\n",
      "Requirement already satisfied: urllib3<1.27,>=1.21.1 in c:\\anaconda3\\envs\\dsfs\\lib\\site-packages (from requests<3,>=2.21.0->tensorboard~=2.5->tensorflow) (1.26.6)\n",
      "Requirement already satisfied: idna<3,>=2.5 in c:\\anaconda3\\envs\\dsfs\\lib\\site-packages (from requests<3,>=2.21.0->tensorboard~=2.5->tensorflow) (2.10)\n",
      "Requirement already satisfied: oauthlib>=3.0.0 in c:\\anaconda3\\envs\\dsfs\\lib\\site-packages (from requests-oauthlib>=0.7.0->google-auth-oauthlib<0.5,>=0.4.1->tensorboard~=2.5->tensorflow) (3.1.1)\n"
     ]
    }
   ],
   "source": [
    "!pip install tensorflow"
   ]
  },
  {
   "cell_type": "code",
   "execution_count": 2,
   "id": "79a063eb",
   "metadata": {},
   "outputs": [
    {
     "name": "stdout",
     "output_type": "stream",
     "text": [
      "Collecting tensorflow-gpu\n",
      "  Downloading tensorflow_gpu-2.5.0-cp39-cp39-win_amd64.whl (422.6 MB)\n",
      "Requirement already satisfied: absl-py~=0.10 in c:\\anaconda3\\envs\\dsfs\\lib\\site-packages (from tensorflow-gpu) (0.13.0)\n",
      "Requirement already satisfied: gast==0.4.0 in c:\\anaconda3\\envs\\dsfs\\lib\\site-packages (from tensorflow-gpu) (0.4.0)\n",
      "Requirement already satisfied: typing-extensions~=3.7.4 in c:\\anaconda3\\envs\\dsfs\\lib\\site-packages (from tensorflow-gpu) (3.7.4.3)\n",
      "Requirement already satisfied: google-pasta~=0.2 in c:\\anaconda3\\envs\\dsfs\\lib\\site-packages (from tensorflow-gpu) (0.2.0)\n",
      "Requirement already satisfied: wheel~=0.35 in c:\\anaconda3\\envs\\dsfs\\lib\\site-packages (from tensorflow-gpu) (0.36.2)\n",
      "Requirement already satisfied: protobuf>=3.9.2 in c:\\anaconda3\\envs\\dsfs\\lib\\site-packages (from tensorflow-gpu) (3.17.3)\n",
      "Requirement already satisfied: keras-nightly~=2.5.0.dev in c:\\anaconda3\\envs\\dsfs\\lib\\site-packages (from tensorflow-gpu) (2.5.0.dev2021032900)\n",
      "Requirement already satisfied: tensorflow-estimator<2.6.0,>=2.5.0rc0 in c:\\anaconda3\\envs\\dsfs\\lib\\site-packages (from tensorflow-gpu) (2.5.0)\n",
      "Requirement already satisfied: keras-preprocessing~=1.1.2 in c:\\anaconda3\\envs\\dsfs\\lib\\site-packages (from tensorflow-gpu) (1.1.2)\n",
      "Requirement already satisfied: six~=1.15.0 in c:\\anaconda3\\envs\\dsfs\\lib\\site-packages (from tensorflow-gpu) (1.15.0)\n",
      "Requirement already satisfied: flatbuffers~=1.12.0 in c:\\anaconda3\\envs\\dsfs\\lib\\site-packages (from tensorflow-gpu) (1.12)\n",
      "Requirement already satisfied: tensorboard~=2.5 in c:\\anaconda3\\envs\\dsfs\\lib\\site-packages (from tensorflow-gpu) (2.5.0)"
     ]
    },
    {
     "name": "stderr",
     "output_type": "stream",
     "text": [
      "ERROR: Could not install packages due to an OSError: [WinError 5] 액세스가 거부되었습니다: 'C:\\\\Anaconda3\\\\envs\\\\dsfs\\\\Lib\\\\site-packages\\\\tensorflow\\\\lite\\\\experimental\\\\microfrontend\\\\python\\\\ops\\\\_audio_microfrontend_op.so'\n",
      "Consider using the `--user` option or check the permissions.\n",
      "\n"
     ]
    },
    {
     "name": "stdout",
     "output_type": "stream",
     "text": [
      "\n",
      "Requirement already satisfied: numpy~=1.19.2 in c:\\anaconda3\\envs\\dsfs\\lib\\site-packages (from tensorflow-gpu) (1.19.5)\n",
      "Requirement already satisfied: wrapt~=1.12.1 in c:\\anaconda3\\envs\\dsfs\\lib\\site-packages (from tensorflow-gpu) (1.12.1)\n",
      "Requirement already satisfied: grpcio~=1.34.0 in c:\\anaconda3\\envs\\dsfs\\lib\\site-packages (from tensorflow-gpu) (1.34.1)\n",
      "Requirement already satisfied: opt-einsum~=3.3.0 in c:\\anaconda3\\envs\\dsfs\\lib\\site-packages (from tensorflow-gpu) (3.3.0)\n",
      "Requirement already satisfied: h5py~=3.1.0 in c:\\anaconda3\\envs\\dsfs\\lib\\site-packages (from tensorflow-gpu) (3.1.0)\n",
      "Requirement already satisfied: termcolor~=1.1.0 in c:\\anaconda3\\envs\\dsfs\\lib\\site-packages (from tensorflow-gpu) (1.1.0)\n",
      "Requirement already satisfied: astunparse~=1.6.3 in c:\\anaconda3\\envs\\dsfs\\lib\\site-packages (from tensorflow-gpu) (1.6.3)\n",
      "Requirement already satisfied: google-auth-oauthlib<0.5,>=0.4.1 in c:\\anaconda3\\envs\\dsfs\\lib\\site-packages (from tensorboard~=2.5->tensorflow-gpu) (0.4.4)\n",
      "Requirement already satisfied: werkzeug>=0.11.15 in c:\\anaconda3\\envs\\dsfs\\lib\\site-packages (from tensorboard~=2.5->tensorflow-gpu) (2.0.1)\n",
      "Requirement already satisfied: setuptools>=41.0.0 in c:\\anaconda3\\envs\\dsfs\\lib\\site-packages (from tensorboard~=2.5->tensorflow-gpu) (52.0.0.post20210125)\n",
      "Requirement already satisfied: google-auth<2,>=1.6.3 in c:\\anaconda3\\envs\\dsfs\\lib\\site-packages (from tensorboard~=2.5->tensorflow-gpu) (1.32.1)\n",
      "Requirement already satisfied: requests<3,>=2.21.0 in c:\\anaconda3\\envs\\dsfs\\lib\\site-packages (from tensorboard~=2.5->tensorflow-gpu) (2.25.1)\n",
      "Requirement already satisfied: tensorboard-plugin-wit>=1.6.0 in c:\\anaconda3\\envs\\dsfs\\lib\\site-packages (from tensorboard~=2.5->tensorflow-gpu) (1.8.0)\n",
      "Requirement already satisfied: tensorboard-data-server<0.7.0,>=0.6.0 in c:\\anaconda3\\envs\\dsfs\\lib\\site-packages (from tensorboard~=2.5->tensorflow-gpu) (0.6.1)\n",
      "Requirement already satisfied: markdown>=2.6.8 in c:\\anaconda3\\envs\\dsfs\\lib\\site-packages (from tensorboard~=2.5->tensorflow-gpu) (3.3.4)\n",
      "Requirement already satisfied: rsa<5,>=3.1.4 in c:\\anaconda3\\envs\\dsfs\\lib\\site-packages (from google-auth<2,>=1.6.3->tensorboard~=2.5->tensorflow-gpu) (4.7.2)\n",
      "Requirement already satisfied: cachetools<5.0,>=2.0.0 in c:\\anaconda3\\envs\\dsfs\\lib\\site-packages (from google-auth<2,>=1.6.3->tensorboard~=2.5->tensorflow-gpu) (4.2.2)\n",
      "Requirement already satisfied: pyasn1-modules>=0.2.1 in c:\\anaconda3\\envs\\dsfs\\lib\\site-packages (from google-auth<2,>=1.6.3->tensorboard~=2.5->tensorflow-gpu) (0.2.8)\n",
      "Requirement already satisfied: requests-oauthlib>=0.7.0 in c:\\anaconda3\\envs\\dsfs\\lib\\site-packages (from google-auth-oauthlib<0.5,>=0.4.1->tensorboard~=2.5->tensorflow-gpu) (1.3.0)\n",
      "Requirement already satisfied: pyasn1<0.5.0,>=0.4.6 in c:\\anaconda3\\envs\\dsfs\\lib\\site-packages (from pyasn1-modules>=0.2.1->google-auth<2,>=1.6.3->tensorboard~=2.5->tensorflow-gpu) (0.4.8)\n",
      "Requirement already satisfied: idna<3,>=2.5 in c:\\anaconda3\\envs\\dsfs\\lib\\site-packages (from requests<3,>=2.21.0->tensorboard~=2.5->tensorflow-gpu) (2.10)\n",
      "Requirement already satisfied: chardet<5,>=3.0.2 in c:\\anaconda3\\envs\\dsfs\\lib\\site-packages (from requests<3,>=2.21.0->tensorboard~=2.5->tensorflow-gpu) (4.0.0)\n",
      "Requirement already satisfied: certifi>=2017.4.17 in c:\\anaconda3\\envs\\dsfs\\lib\\site-packages (from requests<3,>=2.21.0->tensorboard~=2.5->tensorflow-gpu) (2021.5.30)\n",
      "Requirement already satisfied: urllib3<1.27,>=1.21.1 in c:\\anaconda3\\envs\\dsfs\\lib\\site-packages (from requests<3,>=2.21.0->tensorboard~=2.5->tensorflow-gpu) (1.26.6)\n",
      "Requirement already satisfied: oauthlib>=3.0.0 in c:\\anaconda3\\envs\\dsfs\\lib\\site-packages (from requests-oauthlib>=0.7.0->google-auth-oauthlib<0.5,>=0.4.1->tensorboard~=2.5->tensorflow-gpu) (3.1.1)\n",
      "Installing collected packages: tensorflow-gpu\n"
     ]
    }
   ],
   "source": [
    "#GPU 용 텐서플로 설치\n",
    "!pip install tensorflow-gpu"
   ]
  },
  {
   "cell_type": "code",
   "execution_count": 3,
   "id": "ac218077",
   "metadata": {},
   "outputs": [
    {
     "name": "stdout",
     "output_type": "stream",
     "text": [
      "2.5.0\n"
     ]
    }
   ],
   "source": [
    "#텐서플로 버전 확인 \n",
    "import tensorflow as tf\n",
    "print(tf.__version__)"
   ]
  },
  {
   "cell_type": "markdown",
   "id": "e00d7315",
   "metadata": {},
   "source": [
    "### 텐서플로 1.x 방식의 저수준 API"
   ]
  },
  {
   "cell_type": "code",
   "execution_count": 5,
   "id": "2b8d60c5",
   "metadata": {},
   "outputs": [
    {
     "name": "stdout",
     "output_type": "stream",
     "text": [
      "x= 1.0 --> z= 2.7\n",
      "x= 0.6 --> z= 1.9\n",
      "x=-1.8 --> z=-2.9\n"
     ]
    }
   ],
   "source": [
    "##그래프 생성\n",
    "g = tf.Graph()\n",
    "\n",
    "with g.as_default():\n",
    "    x = tf.compat.v1.placeholder(dtype=tf.float32,\n",
    "                                shape = (None), name = 'x')#1차원 데이터셋 x\n",
    "    w = tf.Variable(2.0, name = 'weight')#가중치 w\n",
    "    b = tf.Variable(0.7, name = 'bias')#절편 b\n",
    "    \n",
    "    z = w*x+b#최종입력 계산 z\n",
    "    init = tf.compat.v1.global_variables_initializer()\n",
    "\n",
    "##세션을 만들고 그래프 g를 전달함\n",
    "with tf.compat.v1.Session(graph=g) as sess:#세션을 만듦, 그래프 g를 전달\n",
    "    ##w와 b를 초기화\n",
    "    sess.run(init)\n",
    "    \n",
    "    #z를 평가\n",
    "    for t in [1.0,0.6,-1.8]:\n",
    "        print(\"x=%4.1f --> z=%4.1f\"%(t,sess.run(z,feed_dict = {x:t})))#z평가"
   ]
  },
  {
   "cell_type": "code",
   "execution_count": 6,
   "id": "0d929ce6",
   "metadata": {},
   "outputs": [
    {
     "name": "stdout",
     "output_type": "stream",
     "text": [
      "[2.7 4.7 6.7]\n"
     ]
    }
   ],
   "source": [
    "#원소 하나씩 차례대로 모델에 주입\n",
    "with tf.compat.v1.Session(graph=g) as sess:\n",
    "    sess.run(init)\n",
    "    print(sess.run(z, feed_dict = {x:[1.,2.,3.]}))"
   ]
  },
  {
   "cell_type": "code",
   "execution_count": 7,
   "id": "a36ba587",
   "metadata": {},
   "outputs": [
    {
     "name": "stdout",
     "output_type": "stream",
     "text": [
      "Tensor(\"add:0\", dtype=float32)\n"
     ]
    }
   ],
   "source": [
    "#텐서 z 출력\n",
    "print(z)"
   ]
  },
  {
   "cell_type": "markdown",
   "id": "9a9e8377",
   "metadata": {},
   "source": [
    "### 텐서플로 2.x 방식"
   ]
  },
  {
   "cell_type": "code",
   "execution_count": 8,
   "id": "c3208e47",
   "metadata": {},
   "outputs": [],
   "source": [
    "w = tf.Variable(2.0, name = 'weight')#가중치 w=2.0\n",
    "b = tf.Variable(0.7, name = 'bias')#절편 b= 0.7"
   ]
  },
  {
   "cell_type": "code",
   "execution_count": 9,
   "id": "c990c4c1",
   "metadata": {},
   "outputs": [
    {
     "name": "stdout",
     "output_type": "stream",
     "text": [
      "x =  1.0 --> z=  2.7\n",
      "x =  0.6 --> z=  1.9\n",
      "x = -1.8 --> z= -2.9\n"
     ]
    }
   ],
   "source": [
    "#z를 평가\n",
    "for x in [1.0,0.6,-1.8]:\n",
    "    z = w*x + b\n",
    "    print('x = %4.1f --> z= %4.1f'%(x,z))"
   ]
  },
  {
   "cell_type": "code",
   "execution_count": 10,
   "id": "50739ad9",
   "metadata": {},
   "outputs": [
    {
     "name": "stdout",
     "output_type": "stream",
     "text": [
      "tf.Tensor(-2.8999999, shape=(), dtype=float32)\n"
     ]
    }
   ],
   "source": [
    "print(z)#마지막 실행 결과인 -2.9 출력"
   ]
  },
  {
   "cell_type": "code",
   "execution_count": 11,
   "id": "4cd77aab",
   "metadata": {},
   "outputs": [
    {
     "name": "stdout",
     "output_type": "stream",
     "text": [
      "[2.7 4.7 6.7]\n"
     ]
    }
   ],
   "source": [
    "z = w*[1.,2.,3.]+b#리스트 데이터 한 번에 계산 가능\n",
    "print(z.numpy())#넘파이 배열로 출력"
   ]
  },
  {
   "cell_type": "markdown",
   "id": "d7309ff0",
   "metadata": {},
   "source": [
    "### 배열 구조 다루기"
   ]
  },
  {
   "cell_type": "code",
   "execution_count": 18,
   "id": "749386b4",
   "metadata": {},
   "outputs": [
    {
     "name": "stdout",
     "output_type": "stream",
     "text": [
      "입력 크기:  (3, 2, 3)\n",
      "\n",
      "크기가 변경된 입력:\n",
      " [[ 0  1  2  3  4  5]\n",
      " [ 6  7  8  9 10 11]\n",
      " [12 13 14 15 16 17]]\n",
      "\n",
      "열의 합:\n",
      " [18 21 24 27 30 33]\n",
      "\n",
      "열의 평균:\n",
      " [ 6  7  8  9 10 11]\n"
     ]
    }
   ],
   "source": [
    "import tensorflow as tf\n",
    "import numpy as np\n",
    "\n",
    "x_array = np.arange(18).reshape(3,2,3)\n",
    "x2 = tf.reshape(x_array, shape = (-1, 6))#턴서 크기를 바꿈 tf.reshape()\n",
    "\n",
    "#각 열의 합을 계산\n",
    "xsum = tf.reduce_sum(x2,axis = 0)#열 column의 합(axis = 0)\n",
    "\n",
    "#각 열의 평균을 계산\n",
    "xmean = tf.reduce_mean(x2, axis = 0)#열 column의 평균(axis = 0)\n",
    "\n",
    "print(\"입력 크기: \", x_array.shape)\n",
    "print(\"\\n크기가 변경된 입력:\\n\",x2.numpy())\n",
    "print(\"\\n열의 합:\\n\",xsum.numpy())\n",
    "print(\"\\n열의 평균:\\n\",xmean.numpy())"
   ]
  },
  {
   "cell_type": "code",
   "execution_count": 19,
   "id": "892387c1",
   "metadata": {},
   "outputs": [
    {
     "name": "stdout",
     "output_type": "stream",
     "text": [
      "입력 크기:  (3, 2, 3)\n",
      "\n",
      "크기가 변경된 입력:\n",
      " [[ 0  1  2  3  4  5]\n",
      " [ 6  7  8  9 10 11]\n",
      " [12 13 14 15 16 17]]\n",
      "\n",
      "행의 합:\n",
      " [15 51 87]\n",
      "\n",
      "행의 평균:\n",
      " [ 2  8 14]\n"
     ]
    }
   ],
   "source": [
    "import tensorflow as tf\n",
    "import numpy as np\n",
    "\n",
    "x_array = np.arange(18).reshape(3,2,3)\n",
    "x2 = tf.reshape(x_array, shape = (-1, 6))#턴서 크기를 바꿈 tf.reshape()\n",
    "\n",
    "#각 열의 합을 계산\n",
    "ysum = tf.reduce_sum(x2,axis = 1)#열 column의 합(axis = 0)\n",
    "\n",
    "#각 열의 평균을 계산\n",
    "ymean = tf.reduce_mean(x2, axis = 1)#열 column의 평균(axis = 0)\n",
    "\n",
    "print(\"입력 크기: \", x_array.shape)\n",
    "print(\"\\n크기가 변경된 입력:\\n\",x2.numpy())\n",
    "print(\"\\n행의 합:\\n\",ysum.numpy())\n",
    "print(\"\\n행의 평균:\\n\",ymean.numpy())"
   ]
  },
  {
   "cell_type": "markdown",
   "id": "ab642aaf",
   "metadata": {},
   "source": [
    "### 텐서플로 저수준 API로 간단한 모델 개발"
   ]
  },
  {
   "cell_type": "code",
   "execution_count": 21,
   "id": "2a647c25",
   "metadata": {},
   "outputs": [],
   "source": [
    "X_train = np.arange(10).reshape((10,1))#10개의 훈련 샘플\n",
    "y_train = np.array([1.0,1.3,3.1,\n",
    "                   2.0,5.0,6.3,\n",
    "                   6.6,7.4,8.0,\n",
    "                   9.0])"
   ]
  },
  {
   "cell_type": "code",
   "execution_count": 22,
   "id": "243adf28",
   "metadata": {},
   "outputs": [],
   "source": [
    "class TfLinreg(object):#선형 회귀 모델\n",
    "    \n",
    "    def __init__(self, learning_rate = 0.01):\n",
    "        #가중치와 절편 정의\n",
    "        self.w = tf.Variable(tf.zeros(shape=(1)))\n",
    "        self.b = tf.Variable(tf.zeros(shape = (1)))\n",
    "        \n",
    "        #경사하강법 옵티마이저 설정\n",
    "        self.optimizer = tf.keras.optimizers.SGD(lr = learning_rate)\n",
    "    \n",
    "    def fit(self,X,y,num_epochs = 10):#훈련\n",
    "        ##비용함수의 값을 저장하기 위한 리스트 정의\n",
    "        training_costs = []#비용 함수 값 저장 리스트\n",
    "        for step in range(num_epochs):#에포크마다\n",
    "            ##자동 미분을 위해 연산 과정 기록\n",
    "            with tf.GradientTape() as tape:\n",
    "                z_net = self.w *X + self.b\n",
    "                z_net = tf.reshape(z_net, [-1])\n",
    "                sqr_errors = tf.square(y-z_net)#오차행렬\n",
    "                mean_cost = tf.reduce_mean(sqr_errors)#평균 제곱 오차 MSE\n",
    "            \n",
    "            #비용함수에 대한 가중치의 그래디언트를 계산\n",
    "            grads = tape.gradient(mean_cost, [self.w, self.b])#(미분대상, 그래디언트를 구하려는 변수 리스트)\n",
    "            \n",
    "            #옵티마이저에 그래디언트를 반영\n",
    "            self.optimizer.apply_gradients(zip(grads, [self.w, self.b]))#(그래디언트, 변수 튜플)\n",
    "            \n",
    "            #비용함수의 값을 저장\n",
    "            training_costs.append(mean_cost.numpy())\n",
    "                \n",
    "        return training_costs#비용함수 반환"
   ]
  },
  {
   "cell_type": "code",
   "execution_count": 29,
   "id": "ff538987",
   "metadata": {},
   "outputs": [
    {
     "name": "stderr",
     "output_type": "stream",
     "text": [
      "C:\\Anaconda3\\envs\\dsfs\\lib\\site-packages\\tensorflow\\python\\keras\\optimizer_v2\\optimizer_v2.py:374: UserWarning: The `lr` argument is deprecated, use `learning_rate` instead.\n",
      "  warnings.warn(\n"
     ]
    }
   ],
   "source": [
    "lrmodel = TfLinreg()#인스턴스 생성"
   ]
  },
  {
   "cell_type": "code",
   "execution_count": 30,
   "id": "33e9d8ea",
   "metadata": {},
   "outputs": [],
   "source": [
    "training_costs = \n",
    "lrmodel.fit(X_train,y_train)#모델 훈련"
   ]
  },
  {
   "cell_type": "code",
   "execution_count": 25,
   "id": "e31b79cf",
   "metadata": {},
   "outputs": [
    {
     "data": {
      "image/png": "[encoded data removed]",
      "text/plain": [
       "<Figure size 432x288 with 1 Axes>"
      ]
     },
     "metadata": {
      "needs_background": "light"
     },
     "output_type": "display_data"
    }
   ],
   "source": [
    "#열번의 에포크동안 계산된 훈련 비용 시각화\n",
    "import matplotlib.pyplot as plt\n",
    "plt.plot(range(1,len(training_costs)+1),training_costs)\n",
    "plt.tight_layout()\n",
    "plt.xlabel('Epoch')\n",
    "plt.ylabel('Training Cost')\n",
    "plt.show()#수렴함"
   ]
  },
  {
   "cell_type": "markdown",
   "id": "7174f667",
   "metadata": {},
   "source": [
    "예측 메서드 추가"
   ]
  },
  {
   "cell_type": "code",
   "execution_count": 37,
   "id": "72712a8e",
   "metadata": {},
   "outputs": [],
   "source": [
    "class TfLinreg(object):#선형 회귀 모델\n",
    "    \n",
    "    def __init__(self, learning_rate = 0.01):\n",
    "        #가중치와 절편 정의\n",
    "        self.w = tf.Variable(tf.zeros(shape=(1)))\n",
    "        self.b = tf.Variable(tf.zeros(shape = (1)))\n",
    "        \n",
    "        #경사하강법 옵티마이저 설정\n",
    "        self.optimizer = tf.keras.optimizers.SGD(lr = learning_rate)\n",
    "    \n",
    "    def fit(self,X,y,num_epochs = 10):#훈련\n",
    "        ##비용함수의 값을 저장하기 위한 리스트 정의\n",
    "        training_costs = []#비용 함수 값 저장 리스트\n",
    "        for step in range(num_epochs):#에포크마다\n",
    "            ##자동 미분을 위해 연산 과정 기록\n",
    "            with tf.GradientTape() as tape:\n",
    "                z_net = self.w *X + self.b\n",
    "                z_net = tf.reshape(z_net, [-1])\n",
    "                sqr_errors = tf.square(y-z_net)#오차행렬\n",
    "                mean_cost = tf.reduce_mean(sqr_errors)#평균 제곱 오차 MSE\n",
    "            \n",
    "            #비용함수에 대한 가중치의 그래디언트를 계산\n",
    "            grads = tape.gradient(mean_cost, [self.w, self.b])#(미분대상, 그래디언트를 구하려는 변수 리스트)\n",
    "            \n",
    "            #옵티마이저에 그래디언트를 반영\n",
    "            self.optimizer.apply_gradients(zip(grads, [self.w, self.b]))#(그래디언트, 변수 튜플)\n",
    "            \n",
    "            #비용함수의 값을 저장\n",
    "            training_costs.append(mean_cost.numpy())\n",
    "                \n",
    "        return training_costs#비용함수 반환\n",
    "    \n",
    "    def predict(self,X):#예측 매서드 추가\n",
    "        return self.w*X + self.b"
   ]
  },
  {
   "cell_type": "code",
   "execution_count": 38,
   "id": "7b7c5c11",
   "metadata": {},
   "outputs": [
    {
     "name": "stderr",
     "output_type": "stream",
     "text": [
      "C:\\Anaconda3\\envs\\dsfs\\lib\\site-packages\\tensorflow\\python\\keras\\optimizer_v2\\optimizer_v2.py:374: UserWarning: The `lr` argument is deprecated, use `learning_rate` instead.\n",
      "  warnings.warn(\n"
     ]
    }
   ],
   "source": [
    "lrmodel = TfLinreg()#인스턴스 생성"
   ]
  },
  {
   "cell_type": "code",
   "execution_count": 39,
   "id": "84c3e640",
   "metadata": {},
   "outputs": [],
   "source": [
    "training_costs = lrmodel.fit(X_train,y_train)#모델 훈련"
   ]
  },
  {
   "cell_type": "code",
   "execution_count": 40,
   "id": "001b1978",
   "metadata": {},
   "outputs": [
    {
     "data": {
      "image/png": "[encoded data removed]",
      "text/plain": [
       "<Figure size 432x288 with 1 Axes>"
      ]
     },
     "metadata": {
      "needs_background": "light"
     },
     "output_type": "display_data"
    }
   ],
   "source": [
    "#훈련데아터와 학습된 선형 회귀 곡선 시각화\n",
    "plt.scatter(X_train, y_train,\n",
    "           marker ='s',\n",
    "           s=50,\n",
    "           label = 'Training Data')\n",
    "\n",
    "plt.plot(range(X_train.shape[0]),\n",
    "        lrmodel.predict(X_train),\n",
    "        color = 'gray',marker='o',\n",
    "        markersize=6, linewidth=3,\n",
    "        label = 'LinReg Model')#선형회귀곡선\n",
    "\n",
    "plt.xlabel('x')\n",
    "plt.ylabel('y')\n",
    "plt.legend()\n",
    "plt.tight_layout()\n",
    "plt.show()"
   ]
  },
  {
   "cell_type": "markdown",
   "id": "c2336a73",
   "metadata": {},
   "source": [
    "훈련 데이터셋과 테스트 데이터셋 로드"
   ]
  },
  {
   "cell_type": "code",
   "execution_count": 41,
   "id": "3351c91a",
   "metadata": {},
   "outputs": [],
   "source": [
    "#서버 액세스 안되서 그냥 불러옴\n",
    "from tensorflow.keras.datasets import mnist\n",
    "(X_train, y_train), (X_test, y_test) = mnist.load_data()"
   ]
  },
  {
   "cell_type": "code",
   "execution_count": 42,
   "id": "e710dcce",
   "metadata": {},
   "outputs": [],
   "source": [
    "X_train = X_train.reshape(-1,784)\n",
    "X_test = X_test.reshape(-1,784)"
   ]
  },
  {
   "cell_type": "code",
   "execution_count": 44,
   "id": "5698907c",
   "metadata": {},
   "outputs": [
    {
     "name": "stdout",
     "output_type": "stream",
     "text": [
      "행: 60000, 열: 784\n",
      "행: 10000, 열: 784\n"
     ]
    }
   ],
   "source": [
    "print(\"행: %d, 열: %d\"%(X_train.shape[0],X_train.shape[1]))\n",
    "print(\"행: %d, 열: %d\"%(X_test.shape[0],X_test.shape[1]))"
   ]
  },
  {
   "cell_type": "code",
   "execution_count": 46,
   "id": "526f4ba2",
   "metadata": {},
   "outputs": [
    {
     "name": "stdout",
     "output_type": "stream",
     "text": [
      "(60000, 784) (60000,)\n",
      "(10000, 784) (10000,)\n"
     ]
    }
   ],
   "source": [
    "#평균을 0으로 만들고 표준편차로 나눔(정규화)\n",
    "mean_vals = np.mean(X_train, axis = 0)\n",
    "std_val = np.std(X_train)\n",
    "\n",
    "X_train_centered = (X_train-mean_vals)/std_val\n",
    "X_test_centered = (X_test-mean_vals)/std_val\n",
    "\n",
    "del X_train,X_test\n",
    "\n",
    "print(X_train_centered.shape,y_train.shape)\n",
    "print(X_test_centered.shape,y_test.shape)"
   ]
  },
  {
   "cell_type": "code",
   "execution_count": 47,
   "id": "7f918733",
   "metadata": {},
   "outputs": [],
   "source": [
    "#넘파이 난수 초깃값 생성\n",
    "np.random.seed(123)"
   ]
  },
  {
   "cell_type": "code",
   "execution_count": 48,
   "id": "ee38d9b5",
   "metadata": {},
   "outputs": [
    {
     "name": "stdout",
     "output_type": "stream",
     "text": [
      "처음 3개 레이블: [5 0 4]\n",
      "\n",
      " 처음 3개 레이블 (원-핫):\n",
      " [[0. 0. 0. 0. 0. 1. 0. 0. 0. 0.]\n",
      " [1. 0. 0. 0. 0. 0. 0. 0. 0. 0.]\n",
      " [0. 0. 0. 0. 1. 0. 0. 0. 0. 0.]]\n"
     ]
    }
   ],
   "source": [
    "#클래스 레이블 원-핫 인코딩\n",
    "y_train_onehot  = tf.keras.utils.to_categorical(y_train)\n",
    "print(\"처음 3개 레이블:\", y_train[:3])\n",
    "print(\"\\n 처음 3개 레이블 (원-핫):\\n\",y_train_onehot[:3])"
   ]
  },
  {
   "cell_type": "markdown",
   "id": "60263e03",
   "metadata": {},
   "source": [
    "###  tf.keras API를 이용한 신경망 구성"
   ]
  },
  {
   "cell_type": "code",
   "execution_count": 50,
   "id": "753d060b",
   "metadata": {},
   "outputs": [],
   "source": [
    "model = tf.keras.models.Sequential()\n",
    "\n",
    "model.add(\n",
    "    tf.keras.layers.Dense(\n",
    "        units = 50,\n",
    "        input_dim = X_train_centered.shape[1],#input_dim이 훈련세트에 있는 특성(열) 개수와 일치해야 함\n",
    "        kernel_initializer = 'glorot_uniform',#새로은 가중치 행렬 초기화 알고리즘(심층 신경망을 안정적으로 초기화하는 방법)\n",
    "        bias_initializer = 'zeros',\n",
    "        activation='tanh'#하이퍼볼릭 탄젠트\n",
    "    )\n",
    ")\n",
    "\n",
    "model.add(\n",
    "    tf.keras.layers.Dense(\n",
    "        units = 50,#units == input_dim\n",
    "        input_dim = 50,\n",
    "        kernel_initializer = 'glorot_uniform',\n",
    "        bias_initializer = 'zeros',\n",
    "        activation = 'tanh'#하이퍼볼릭 탄젠트\n",
    "    )\n",
    ")\n",
    "\n",
    "model.add(\n",
    "    tf.keras.layers.Dense(\n",
    "        units = y_train_onehot.shape[1],\n",
    "        input_dim = 50,\n",
    "        kernel_initializer = 'glorot_uniform',\n",
    "        bias_initializer='zeros',\n",
    "        activation = 'softmax'\n",
    "    )\n",
    ")"
   ]
  },
  {
   "cell_type": "code",
   "execution_count": 52,
   "id": "9c565e8f",
   "metadata": {},
   "outputs": [
    {
     "name": "stdout",
     "output_type": "stream",
     "text": [
      "Model: \"sequential\"\n",
      "_________________________________________________________________\n",
      "Layer (type)                 Output Shape              Param #   \n",
      "=================================================================\n",
      "dense (Dense)                (None, 50)                39250     \n",
      "_________________________________________________________________\n",
      "dense_1 (Dense)              (None, 50)                2550      \n",
      "_________________________________________________________________\n",
      "dense_2 (Dense)              (None, 10)                510       \n",
      "=================================================================\n",
      "Total params: 42,310\n",
      "Trainable params: 42,310\n",
      "Non-trainable params: 0\n",
      "_________________________________________________________________\n"
     ]
    }
   ],
   "source": [
    "model.summary()"
   ]
  },
  {
   "cell_type": "markdown",
   "id": "30d831a0",
   "metadata": {},
   "source": [
    "#### 피드포워드 신경망 훈련"
   ]
  },
  {
   "cell_type": "code",
   "execution_count": 53,
   "id": "793764b3",
   "metadata": {},
   "outputs": [
    {
     "name": "stderr",
     "output_type": "stream",
     "text": [
      "C:\\Anaconda3\\envs\\dsfs\\lib\\site-packages\\tensorflow\\python\\keras\\optimizer_v2\\optimizer_v2.py:374: UserWarning: The `lr` argument is deprecated, use `learning_rate` instead.\n",
      "  warnings.warn(\n"
     ]
    }
   ],
   "source": [
    "sgd_optimizer = tf.keras.optimizers.SGD(lr=0.001, decay = 1e-7, momentum = .9)#경사하강법 옵티마이저"
   ]
  },
  {
   "cell_type": "code",
   "execution_count": 54,
   "id": "8104fa8e",
   "metadata": {},
   "outputs": [],
   "source": [
    "#모델 컴파일\n",
    "model.compile(optimizer=sgd_optimizer,\n",
    "             loss = 'categorical_crossentropy')#범주형 크로스엔트로피 손실 함수"
   ]
  },
  {
   "cell_type": "code",
   "execution_count": 55,
   "id": "7a1f4fa5",
   "metadata": {},
   "outputs": [
    {
     "name": "stdout",
     "output_type": "stream",
     "text": [
      "Epoch 1/50\n",
      "844/844 [==============================] - 3s 3ms/step - loss: 0.7227 - val_loss: 0.3627\n",
      "Epoch 2/50\n",
      "844/844 [==============================] - 2s 3ms/step - loss: 0.3707 - val_loss: 0.2756\n",
      "Epoch 3/50\n",
      "844/844 [==============================] - 2s 2ms/step - loss: 0.3052 - val_loss: 0.2360\n",
      "Epoch 4/50\n",
      "844/844 [==============================] - 2s 3ms/step - loss: 0.2688 - val_loss: 0.2119\n",
      "Epoch 5/50\n",
      "844/844 [==============================] - 2s 2ms/step - loss: 0.2428 - val_loss: 0.1953\n",
      "Epoch 6/50\n",
      "844/844 [==============================] - 2s 3ms/step - loss: 0.2230 - val_loss: 0.1823\n",
      "Epoch 7/50\n",
      "844/844 [==============================] - 2s 2ms/step - loss: 0.2065 - val_loss: 0.1724\n",
      "Epoch 8/50\n",
      "844/844 [==============================] - 2s 3ms/step - loss: 0.1928 - val_loss: 0.1629\n",
      "Epoch 9/50\n",
      "844/844 [==============================] - 2s 3ms/step - loss: 0.1810 - val_loss: 0.1556\n",
      "Epoch 10/50\n",
      "844/844 [==============================] - 2s 3ms/step - loss: 0.1708 - val_loss: 0.1502\n",
      "Epoch 11/50\n",
      "844/844 [==============================] - 2s 3ms/step - loss: 0.1617 - val_loss: 0.1444\n",
      "Epoch 12/50\n",
      "844/844 [==============================] - 2s 3ms/step - loss: 0.1535 - val_loss: 0.1400\n",
      "Epoch 13/50\n",
      "844/844 [==============================] - 2s 3ms/step - loss: 0.1461 - val_loss: 0.1356\n",
      "Epoch 14/50\n",
      "844/844 [==============================] - 2s 3ms/step - loss: 0.1392 - val_loss: 0.1326\n",
      "Epoch 15/50\n",
      "844/844 [==============================] - 2s 3ms/step - loss: 0.1333 - val_loss: 0.1290\n",
      "Epoch 16/50\n",
      "844/844 [==============================] - 2s 3ms/step - loss: 0.1274 - val_loss: 0.1266\n",
      "Epoch 17/50\n",
      "844/844 [==============================] - 2s 3ms/step - loss: 0.1222 - val_loss: 0.1245\n",
      "Epoch 18/50\n",
      "844/844 [==============================] - 2s 2ms/step - loss: 0.1173 - val_loss: 0.1212\n",
      "Epoch 19/50\n",
      "844/844 [==============================] - 3s 3ms/step - loss: 0.1129 - val_loss: 0.1195\n",
      "Epoch 20/50\n",
      "844/844 [==============================] - 2s 3ms/step - loss: 0.1086 - val_loss: 0.1174\n",
      "Epoch 21/50\n",
      "844/844 [==============================] - 3s 3ms/step - loss: 0.1046 - val_loss: 0.1154\n",
      "Epoch 22/50\n",
      "844/844 [==============================] - 2s 2ms/step - loss: 0.1009 - val_loss: 0.1148\n",
      "Epoch 23/50\n",
      "844/844 [==============================] - 2s 3ms/step - loss: 0.0973 - val_loss: 0.1129\n",
      "Epoch 24/50\n",
      "844/844 [==============================] - 2s 2ms/step - loss: 0.0941 - val_loss: 0.1118\n",
      "Epoch 25/50\n",
      "844/844 [==============================] - 3s 3ms/step - loss: 0.0908 - val_loss: 0.1106\n",
      "Epoch 26/50\n",
      "844/844 [==============================] - 2s 3ms/step - loss: 0.0879 - val_loss: 0.1101\n",
      "Epoch 27/50\n",
      "844/844 [==============================] - 2s 2ms/step - loss: 0.0849 - val_loss: 0.1084\n",
      "Epoch 28/50\n",
      "844/844 [==============================] - 2s 3ms/step - loss: 0.0823 - val_loss: 0.1076\n",
      "Epoch 29/50\n",
      "844/844 [==============================] - 2s 3ms/step - loss: 0.0796 - val_loss: 0.1077\n",
      "Epoch 30/50\n",
      "844/844 [==============================] - 2s 3ms/step - loss: 0.0773 - val_loss: 0.1066\n",
      "Epoch 31/50\n",
      "844/844 [==============================] - 2s 3ms/step - loss: 0.0749 - val_loss: 0.1065\n",
      "Epoch 32/50\n",
      "844/844 [==============================] - 3s 3ms/step - loss: 0.0726 - val_loss: 0.1061\n",
      "Epoch 33/50\n",
      "844/844 [==============================] - 2s 3ms/step - loss: 0.0705 - val_loss: 0.1053\n",
      "Epoch 34/50\n",
      "844/844 [==============================] - 2s 3ms/step - loss: 0.0683 - val_loss: 0.1047\n",
      "Epoch 35/50\n",
      "844/844 [==============================] - 2s 3ms/step - loss: 0.0663 - val_loss: 0.1047\n",
      "Epoch 36/50\n",
      "844/844 [==============================] - 3s 3ms/step - loss: 0.0645 - val_loss: 0.1044\n",
      "Epoch 37/50\n",
      "844/844 [==============================] - 2s 3ms/step - loss: 0.0626 - val_loss: 0.1040\n",
      "Epoch 38/50\n",
      "844/844 [==============================] - 2s 3ms/step - loss: 0.0609 - val_loss: 0.1040\n",
      "Epoch 39/50\n",
      "844/844 [==============================] - 2s 3ms/step - loss: 0.0592 - val_loss: 0.1041\n",
      "Epoch 40/50\n",
      "844/844 [==============================] - 2s 3ms/step - loss: 0.0575 - val_loss: 0.1041\n",
      "Epoch 41/50\n",
      "844/844 [==============================] - 2s 2ms/step - loss: 0.0559 - val_loss: 0.1045\n",
      "Epoch 42/50\n",
      "844/844 [==============================] - 2s 3ms/step - loss: 0.0544 - val_loss: 0.1049\n",
      "Epoch 43/50\n",
      "844/844 [==============================] - 2s 2ms/step - loss: 0.0529 - val_loss: 0.1040\n",
      "Epoch 44/50\n",
      "844/844 [==============================] - 2s 3ms/step - loss: 0.0515 - val_loss: 0.1044\n",
      "Epoch 45/50\n",
      "844/844 [==============================] - 2s 3ms/step - loss: 0.0500 - val_loss: 0.1041\n",
      "Epoch 46/50\n",
      "844/844 [==============================] - 2s 3ms/step - loss: 0.0487 - val_loss: 0.1047\n",
      "Epoch 47/50\n",
      "844/844 [==============================] - 2s 3ms/step - loss: 0.0475 - val_loss: 0.1043\n",
      "Epoch 48/50\n",
      "844/844 [==============================] - 2s 3ms/step - loss: 0.0463 - val_loss: 0.1039\n",
      "Epoch 49/50\n",
      "844/844 [==============================] - 2s 3ms/step - loss: 0.0451 - val_loss: 0.1042\n",
      "Epoch 50/50\n",
      "844/844 [==============================] - 2s 3ms/step - loss: 0.0437 - val_loss: 0.1046\n"
     ]
    }
   ],
   "source": [
    "#훈련\n",
    "history = model.fit(X_train_centered, y_train_onehot,\n",
    "                   batch_size=64, epochs=50,\n",
    "                   verbose = 1,#훈련동안 비용함수 따라가기\n",
    "                    validation_split=0.1)#훈련 데이터의 10%를 검증 데이터로 할당"
   ]
  },
  {
   "cell_type": "code",
   "execution_count": 56,
   "id": "50588450",
   "metadata": {},
   "outputs": [
    {
     "name": "stderr",
     "output_type": "stream",
     "text": [
      "C:\\Anaconda3\\envs\\dsfs\\lib\\site-packages\\tensorflow\\python\\keras\\engine\\sequential.py:455: UserWarning: `model.predict_classes()` is deprecated and will be removed after 2021-01-01. Please use instead:* `np.argmax(model.predict(x), axis=-1)`,   if your model does multi-class classification   (e.g. if it uses a `softmax` last-layer activation).* `(model.predict(x) > 0.5).astype(\"int32\")`,   if your model does binary classification   (e.g. if it uses a `sigmoid` last-layer activation).\n",
      "  warnings.warn('`model.predict_classes()` is deprecated and '\n"
     ]
    },
    {
     "name": "stdout",
     "output_type": "stream",
     "text": [
      "처음 3개 예측:  [5 0 4]\n"
     ]
    }
   ],
   "source": [
    "y_train_pred = model.predict_classes(X_train_centered, verbose = 0)#정수로 된 클래스 레이블 예측\n",
    "print(\"처음 3개 예측: \",y_train_pred[:3])"
   ]
  },
  {
   "cell_type": "code",
   "execution_count": 57,
   "id": "cc6b2c61",
   "metadata": {},
   "outputs": [
    {
     "name": "stderr",
     "output_type": "stream",
     "text": [
      "C:\\Anaconda3\\envs\\dsfs\\lib\\site-packages\\tensorflow\\python\\keras\\engine\\sequential.py:455: UserWarning: `model.predict_classes()` is deprecated and will be removed after 2021-01-01. Please use instead:* `np.argmax(model.predict(x), axis=-1)`,   if your model does multi-class classification   (e.g. if it uses a `softmax` last-layer activation).* `(model.predict(x) > 0.5).astype(\"int32\")`,   if your model does binary classification   (e.g. if it uses a `sigmoid` last-layer activation).\n",
      "  warnings.warn('`model.predict_classes()` is deprecated and '\n"
     ]
    }
   ],
   "source": [
    "#훈련 세트와 테스트 세트에서 모델 정확도 출력\n",
    "y_train_pred = model.predict_classes(X_train_centered, verbose =0)\n",
    "correct_preds = np.sum(y_train == y_train_pred, axis = 0)#훈련세트 예측 중 맞은 것 개수\n",
    "train_acc = correct_preds/y_train.shape[0]#훈련 정확도"
   ]
  },
  {
   "cell_type": "code",
   "execution_count": 58,
   "id": "6e480f58",
   "metadata": {},
   "outputs": [
    {
     "name": "stdout",
     "output_type": "stream",
     "text": [
      "훈련 정확도: 98.99%\n"
     ]
    }
   ],
   "source": [
    "print(\"훈련 정확도: %.2f%%\"%(train_acc*100))"
   ]
  },
  {
   "cell_type": "code",
   "execution_count": 59,
   "id": "76894f50",
   "metadata": {},
   "outputs": [
    {
     "name": "stderr",
     "output_type": "stream",
     "text": [
      "C:\\Anaconda3\\envs\\dsfs\\lib\\site-packages\\tensorflow\\python\\keras\\engine\\sequential.py:455: UserWarning: `model.predict_classes()` is deprecated and will be removed after 2021-01-01. Please use instead:* `np.argmax(model.predict(x), axis=-1)`,   if your model does multi-class classification   (e.g. if it uses a `softmax` last-layer activation).* `(model.predict(x) > 0.5).astype(\"int32\")`,   if your model does binary classification   (e.g. if it uses a `sigmoid` last-layer activation).\n",
      "  warnings.warn('`model.predict_classes()` is deprecated and '\n"
     ]
    },
    {
     "name": "stdout",
     "output_type": "stream",
     "text": [
      "테스트 정확도: 96.36%\n"
     ]
    }
   ],
   "source": [
    "y_test_pred = model.predict_classes(X_test_centered, verbose = 0)#테스트세트 예측\n",
    "correct_preds = np.sum(y_test == y_test_pred, axis = 0)#테스트 세트 예측 중 맞은 것 개수\n",
    "test_acc = correct_preds/y_test.shape[0]#테스트 정확도\n",
    "print(\"테스트 정확도: %.2f%%\"%(test_acc*100))"
   ]
  },
  {
   "cell_type": "markdown",
   "id": "52783605",
   "metadata": {},
   "source": [
    "#### 신경망 층 늘리면 성능이 개선될까?"
   ]
  },
  {
   "cell_type": "code",
   "execution_count": 77,
   "id": "e597496f",
   "metadata": {},
   "outputs": [
    {
     "name": "stderr",
     "output_type": "stream",
     "text": [
      "C:\\Anaconda3\\envs\\dsfs\\lib\\site-packages\\tensorflow\\python\\keras\\optimizer_v2\\optimizer_v2.py:374: UserWarning: The `lr` argument is deprecated, use `learning_rate` instead.\n",
      "  warnings.warn(\n"
     ]
    },
    {
     "name": "stdout",
     "output_type": "stream",
     "text": [
      "Epoch 1/50\n",
      "844/844 [==============================] - 2s 2ms/step - loss: 0.7953 - val_loss: 0.3707\n",
      "Epoch 2/50\n",
      "844/844 [==============================] - 2s 2ms/step - loss: 0.3690 - val_loss: 0.2746\n",
      "Epoch 3/50\n",
      "844/844 [==============================] - 2s 2ms/step - loss: 0.2965 - val_loss: 0.2347\n",
      "Epoch 4/50\n",
      "844/844 [==============================] - 2s 2ms/step - loss: 0.2585 - val_loss: 0.2109\n",
      "Epoch 5/50\n",
      "844/844 [==============================] - 2s 2ms/step - loss: 0.2327 - val_loss: 0.1934\n",
      "Epoch 6/50\n",
      "844/844 [==============================] - 2s 2ms/step - loss: 0.2124 - val_loss: 0.1807\n",
      "Epoch 7/50\n",
      "844/844 [==============================] - 2s 2ms/step - loss: 0.1960 - val_loss: 0.1691\n",
      "Epoch 8/50\n",
      "844/844 [==============================] - 2s 2ms/step - loss: 0.1820 - val_loss: 0.1626\n",
      "Epoch 9/50\n",
      "844/844 [==============================] - 2s 2ms/step - loss: 0.1698 - val_loss: 0.1544\n",
      "Epoch 10/50\n",
      "844/844 [==============================] - 2s 2ms/step - loss: 0.1591 - val_loss: 0.1493\n",
      "Epoch 11/50\n",
      "844/844 [==============================] - 2s 2ms/step - loss: 0.1494 - val_loss: 0.1444\n",
      "Epoch 12/50\n",
      "844/844 [==============================] - 2s 2ms/step - loss: 0.1409 - val_loss: 0.1402\n",
      "Epoch 13/50\n",
      "844/844 [==============================] - 2s 2ms/step - loss: 0.1331 - val_loss: 0.1352\n",
      "Epoch 14/50\n",
      "844/844 [==============================] - 2s 2ms/step - loss: 0.1262 - val_loss: 0.1328\n",
      "Epoch 15/50\n",
      "844/844 [==============================] - 2s 2ms/step - loss: 0.1197 - val_loss: 0.1292\n",
      "Epoch 16/50\n",
      "844/844 [==============================] - 2s 2ms/step - loss: 0.1139 - val_loss: 0.1276\n",
      "Epoch 17/50\n",
      "844/844 [==============================] - 2s 2ms/step - loss: 0.1083 - val_loss: 0.1259\n",
      "Epoch 18/50\n",
      "844/844 [==============================] - 2s 2ms/step - loss: 0.1034 - val_loss: 0.1248\n",
      "Epoch 19/50\n",
      "844/844 [==============================] - 2s 2ms/step - loss: 0.0989 - val_loss: 0.1227\n",
      "Epoch 20/50\n",
      "844/844 [==============================] - 2s 2ms/step - loss: 0.0944 - val_loss: 0.1219\n",
      "Epoch 21/50\n",
      "844/844 [==============================] - 2s 2ms/step - loss: 0.0905 - val_loss: 0.1202\n",
      "Epoch 22/50\n",
      "844/844 [==============================] - 2s 2ms/step - loss: 0.0865 - val_loss: 0.1198\n",
      "Epoch 23/50\n",
      "844/844 [==============================] - 2s 2ms/step - loss: 0.0831 - val_loss: 0.1180\n",
      "Epoch 24/50\n",
      "844/844 [==============================] - 2s 2ms/step - loss: 0.0795 - val_loss: 0.1156\n",
      "Epoch 25/50\n",
      "844/844 [==============================] - 2s 2ms/step - loss: 0.0763 - val_loss: 0.1167\n",
      "Epoch 26/50\n",
      "844/844 [==============================] - 2s 2ms/step - loss: 0.0731 - val_loss: 0.1146\n",
      "Epoch 27/50\n",
      "844/844 [==============================] - 2s 2ms/step - loss: 0.0701 - val_loss: 0.1145\n",
      "Epoch 28/50\n",
      "844/844 [==============================] - 2s 2ms/step - loss: 0.0674 - val_loss: 0.1139\n",
      "Epoch 29/50\n",
      "844/844 [==============================] - 2s 2ms/step - loss: 0.0648 - val_loss: 0.1139\n",
      "Epoch 30/50\n",
      "844/844 [==============================] - 2s 2ms/step - loss: 0.0621 - val_loss: 0.1145\n",
      "Epoch 31/50\n",
      "844/844 [==============================] - 2s 2ms/step - loss: 0.0597 - val_loss: 0.1133\n",
      "Epoch 32/50\n",
      "844/844 [==============================] - 2s 2ms/step - loss: 0.0574 - val_loss: 0.1145\n",
      "Epoch 33/50\n",
      "844/844 [==============================] - 2s 2ms/step - loss: 0.0550 - val_loss: 0.1134\n",
      "Epoch 34/50\n",
      "844/844 [==============================] - 2s 2ms/step - loss: 0.0531 - val_loss: 0.1141\n",
      "Epoch 35/50\n",
      "844/844 [==============================] - 2s 2ms/step - loss: 0.0511 - val_loss: 0.1153\n",
      "Epoch 36/50\n",
      "844/844 [==============================] - 2s 2ms/step - loss: 0.0492 - val_loss: 0.1132\n",
      "Epoch 37/50\n",
      "844/844 [==============================] - 2s 2ms/step - loss: 0.0472 - val_loss: 0.1138\n",
      "Epoch 38/50\n",
      "844/844 [==============================] - 2s 2ms/step - loss: 0.0455 - val_loss: 0.1144\n",
      "Epoch 39/50\n",
      "844/844 [==============================] - 2s 2ms/step - loss: 0.0437 - val_loss: 0.1140\n",
      "Epoch 40/50\n",
      "844/844 [==============================] - 2s 2ms/step - loss: 0.0421 - val_loss: 0.1162\n",
      "Epoch 41/50\n",
      "844/844 [==============================] - 2s 2ms/step - loss: 0.0405 - val_loss: 0.1158\n",
      "Epoch 42/50\n",
      "844/844 [==============================] - 2s 2ms/step - loss: 0.0390 - val_loss: 0.1146\n",
      "Epoch 43/50\n",
      "844/844 [==============================] - 2s 2ms/step - loss: 0.0376 - val_loss: 0.1166\n",
      "Epoch 44/50\n",
      "844/844 [==============================] - 2s 2ms/step - loss: 0.0363 - val_loss: 0.1171\n",
      "Epoch 45/50\n",
      "844/844 [==============================] - 2s 2ms/step - loss: 0.0350 - val_loss: 0.1165\n",
      "Epoch 46/50\n",
      "844/844 [==============================] - 2s 2ms/step - loss: 0.0337 - val_loss: 0.1178\n",
      "Epoch 47/50\n",
      "844/844 [==============================] - 2s 2ms/step - loss: 0.0326 - val_loss: 0.1176\n",
      "Epoch 48/50\n",
      "844/844 [==============================] - 2s 2ms/step - loss: 0.0314 - val_loss: 0.1190\n",
      "Epoch 49/50\n",
      "844/844 [==============================] - 2s 2ms/step - loss: 0.0303 - val_loss: 0.1181\n",
      "Epoch 50/50\n",
      "844/844 [==============================] - 2s 2ms/step - loss: 0.0292 - val_loss: 0.1183\n"
     ]
    }
   ],
   "source": [
    "model0 = tf.keras.models.Sequential()\n",
    "\n",
    "model0.add(\n",
    "    tf.keras.layers.Dense(\n",
    "        units = 50,\n",
    "        input_dim = X_train_centered.shape[1],#input_dim이 훈련세트에 있는 특성(열) 개수와 일치해야 함\n",
    "        kernel_initializer = 'glorot_uniform',#새로은 가중치 행렬 초기화 알고리즘(심층 신경망을 안정적으로 초기화하는 방법)\n",
    "        bias_initializer = 'zeros',\n",
    "        activation='tanh'#하이퍼볼릭 탄젠트\n",
    "    )\n",
    ")\n",
    "\n",
    "model0.add(\n",
    "    tf.keras.layers.Dense(\n",
    "        units = 50,#units == input_dim\n",
    "        input_dim = 50,\n",
    "        kernel_initializer = 'glorot_uniform',\n",
    "        bias_initializer = 'zeros',\n",
    "        activation = 'tanh'#하이퍼볼릭 탄젠트\n",
    "    )\n",
    ")\n",
    "\n",
    "###층만 추가함\n",
    "model0.add(\n",
    "    tf.keras.layers.Dense(\n",
    "        units = 50,#units == input_dim\n",
    "        input_dim = 50,\n",
    "        kernel_initializer = 'glorot_uniform',\n",
    "        bias_initializer = 'zeros',\n",
    "        activation = 'tanh'#하이퍼볼릭 탄젠트\n",
    "    )\n",
    ")\n",
    "\n",
    "\n",
    "model0.add(\n",
    "    tf.keras.layers.Dense(\n",
    "        units = y_train_onehot.shape[1],\n",
    "        input_dim = 50,\n",
    "        kernel_initializer = 'glorot_uniform',\n",
    "        bias_initializer='zeros',\n",
    "        activation = 'softmax'\n",
    "    )\n",
    ")\n",
    "sgd_optimizer = tf.keras.optimizers.SGD(lr=0.001, decay = 1e-7, momentum = .9)#경사하강법 옵티마이저\n",
    "\n",
    "#모델 컴파일\n",
    "model0.compile(optimizer=sgd_optimizer,\n",
    "             loss = 'categorical_crossentropy')#범주형 크로스엔트로피 손실 함수\n",
    "\n",
    "#훈련\n",
    "history = model0.fit(X_train_centered, y_train_onehot,\n",
    "                   batch_size=64, epochs=50,\n",
    "                   verbose = 1,#훈련동안 비용함수 따라가기\n",
    "                    validation_split=0.1)#훈련 데이터의 10%를 검증 데이터로 할당"
   ]
  },
  {
   "cell_type": "code",
   "execution_count": 78,
   "id": "e6a1cdf2",
   "metadata": {},
   "outputs": [
    {
     "name": "stdout",
     "output_type": "stream",
     "text": [
      "기본 훈련 정확도: 98.99%\n",
      "기본 테스트 정확도: 96.36%\n",
      "model0 훈련 정확도: 99.32%\n",
      "model0 테스트 정확도: 95.98%\n"
     ]
    }
   ],
   "source": [
    "#훈련 세트와 테스트 세트에서 모델 정확도 출력\n",
    "y_train_pred = model.predict_classes(X_train_centered, verbose =0)\n",
    "correct_preds = np.sum(y_train == y_train_pred, axis = 0)#훈련세트 예측 중 맞은 것 개수\n",
    "train_acc = correct_preds/y_train.shape[0]#훈련 정확도\n",
    "print(\"기본 훈련 정확도: %.2f%%\"%(train_acc*100))\n",
    "\n",
    "y_test_pred = model.predict_classes(X_test_centered, verbose = 0)#테스트세트 예측\n",
    "correct_preds = np.sum(y_test == y_test_pred, axis = 0)#테스트 세트 예측 중 맞은 것 개수\n",
    "test_acc = correct_preds/y_test.shape[0]#테스트 정확도\n",
    "print(\"기본 테스트 정확도: %.2f%%\"%(test_acc*100))\n",
    "\n",
    "y_train_pred = model0.predict_classes(X_train_centered, verbose =0)\n",
    "correct_preds = np.sum(y_train == y_train_pred, axis = 0)#훈련세트 예측 중 맞은 것 개수\n",
    "train_acc = correct_preds/y_train.shape[0]#훈련 정확도\n",
    "print(\"model0 훈련 정확도: %.2f%%\"%(train_acc*100))\n",
    "\n",
    "y_test_pred = model0.predict_classes(X_test_centered, verbose = 0)#테스트세트 예측\n",
    "correct_preds = np.sum(y_test == y_test_pred, axis = 0)#테스트 세트 예측 중 맞은 것 개수\n",
    "test_acc = correct_preds/y_test.shape[0]#테스트 정확도\n",
    "print(\"model0 테스트 정확도: %.2f%%\"%(test_acc*100))\n"
   ]
  },
  {
   "cell_type": "markdown",
   "id": "ac4d0a68",
   "metadata": {},
   "source": [
    "층을 추가했더니 성능이 감소함"
   ]
  },
  {
   "cell_type": "code",
   "execution_count": 68,
   "id": "84bf5c85",
   "metadata": {},
   "outputs": [],
   "source": [
    "model1 = tf.keras.models.Sequential()\n",
    "\n",
    "model1.add(\n",
    "    tf.keras.layers.Dense(\n",
    "        units = 50,\n",
    "        input_dim = X_train_centered.shape[1],#input_dim이 훈련세트에 있는 특성(열) 개수와 일치해야 함\n",
    "        kernel_initializer = 'glorot_uniform',#새로은 가중치 행렬 초기화 알고리즘(심층 신경망을 안정적으로 초기화하는 방법)\n",
    "        bias_initializer = 'zeros',\n",
    "        activation='tanh'#하이퍼볼릭 탄젠트\n",
    "    )\n",
    ")\n",
    "\n",
    "model1.add(\n",
    "    tf.keras.layers.Dense(\n",
    "        units = 50,#units == input_dim\n",
    "        input_dim = 50,\n",
    "        kernel_initializer = 'glorot_uniform',\n",
    "        bias_initializer = 'zeros',\n",
    "        activation = 'tanh'#하이퍼볼릭 탄젠트\n",
    "    )\n",
    ")\n",
    "\n",
    "################추가된 층\n",
    "model1.add(\n",
    "    tf.keras.layers.Dense(\n",
    "        units = 100,#units == input_dim\n",
    "        input_dim = 100,\n",
    "        kernel_initializer = 'normal',#그냥 해봄\n",
    "        bias_initializer = 'zeros',\n",
    "        activation = 'relu'#얘도 궁금해서 사용해봄\n",
    "    )\n",
    ")\n",
    "\n",
    "\n",
    "model1.add(\n",
    "    tf.keras.layers.Dense(\n",
    "        units = y_train_onehot.shape[1],\n",
    "        input_dim = 50,\n",
    "        kernel_initializer = 'glorot_uniform',\n",
    "        bias_initializer='zeros',\n",
    "        activation = 'softmax'\n",
    "    )\n",
    ")"
   ]
  },
  {
   "cell_type": "code",
   "execution_count": 72,
   "id": "79df0311",
   "metadata": {},
   "outputs": [],
   "source": [
    "adam_optimizer = tf.keras.optimizers.Adam(\n",
    "    learning_rate=0.001, beta_1=0.9, beta_2=0.999, epsilon=1e-07, amsgrad=False,\n",
    "    name='Adam'\n",
    ")#궁금해서 해봄"
   ]
  },
  {
   "cell_type": "code",
   "execution_count": 73,
   "id": "c1e9394c",
   "metadata": {},
   "outputs": [],
   "source": [
    "#모델 컴파일\n",
    "model1.compile(optimizer=adam_optimizer,\n",
    "             loss = 'categorical_crossentropy')#범주형 크로스엔트로피 손실 함수"
   ]
  },
  {
   "cell_type": "code",
   "execution_count": 74,
   "id": "1803a72a",
   "metadata": {},
   "outputs": [
    {
     "name": "stdout",
     "output_type": "stream",
     "text": [
      "Epoch 1/50\n",
      "844/844 [==============================] - 2s 2ms/step - loss: 0.3199 - val_loss: 0.1299\n",
      "Epoch 2/50\n",
      "844/844 [==============================] - 2s 2ms/step - loss: 0.1350 - val_loss: 0.1167\n",
      "Epoch 3/50\n",
      "844/844 [==============================] - 2s 2ms/step - loss: 0.0981 - val_loss: 0.1069\n",
      "Epoch 4/50\n",
      "844/844 [==============================] - 2s 2ms/step - loss: 0.0775 - val_loss: 0.1146\n",
      "Epoch 5/50\n",
      "844/844 [==============================] - 2s 2ms/step - loss: 0.0637 - val_loss: 0.1153\n",
      "Epoch 6/50\n",
      "844/844 [==============================] - 2s 2ms/step - loss: 0.0529 - val_loss: 0.1067\n",
      "Epoch 7/50\n",
      "844/844 [==============================] - 2s 2ms/step - loss: 0.0439 - val_loss: 0.1209\n",
      "Epoch 8/50\n",
      "844/844 [==============================] - 2s 2ms/step - loss: 0.0381 - val_loss: 0.1303\n",
      "Epoch 9/50\n",
      "844/844 [==============================] - 2s 2ms/step - loss: 0.0316 - val_loss: 0.1352\n",
      "Epoch 10/50\n",
      "844/844 [==============================] - 2s 2ms/step - loss: 0.0270 - val_loss: 0.1337\n",
      "Epoch 11/50\n",
      "844/844 [==============================] - 2s 2ms/step - loss: 0.0270 - val_loss: 0.1332\n",
      "Epoch 12/50\n",
      "844/844 [==============================] - 2s 2ms/step - loss: 0.0245 - val_loss: 0.1471\n",
      "Epoch 13/50\n",
      "844/844 [==============================] - 2s 2ms/step - loss: 0.0196 - val_loss: 0.1440\n",
      "Epoch 14/50\n",
      "844/844 [==============================] - 2s 2ms/step - loss: 0.0197 - val_loss: 0.1560\n",
      "Epoch 15/50\n",
      "844/844 [==============================] - 2s 2ms/step - loss: 0.0209 - val_loss: 0.1530\n",
      "Epoch 16/50\n",
      "844/844 [==============================] - 2s 2ms/step - loss: 0.0164 - val_loss: 0.1489\n",
      "Epoch 17/50\n",
      "844/844 [==============================] - 2s 2ms/step - loss: 0.0156 - val_loss: 0.1589\n",
      "Epoch 18/50\n",
      "844/844 [==============================] - 2s 2ms/step - loss: 0.0166 - val_loss: 0.1723\n",
      "Epoch 19/50\n",
      "844/844 [==============================] - 2s 3ms/step - loss: 0.0159 - val_loss: 0.1784\n",
      "Epoch 20/50\n",
      "844/844 [==============================] - 2s 2ms/step - loss: 0.0142 - val_loss: 0.1684\n",
      "Epoch 21/50\n",
      "844/844 [==============================] - 2s 2ms/step - loss: 0.0126 - val_loss: 0.1776\n",
      "Epoch 22/50\n",
      "844/844 [==============================] - 2s 2ms/step - loss: 0.0141 - val_loss: 0.1698\n",
      "Epoch 23/50\n",
      "844/844 [==============================] - 2s 2ms/step - loss: 0.0129 - val_loss: 0.1837\n",
      "Epoch 24/50\n",
      "844/844 [==============================] - 2s 2ms/step - loss: 0.0130 - val_loss: 0.1809\n",
      "Epoch 25/50\n",
      "844/844 [==============================] - 2s 3ms/step - loss: 0.0126 - val_loss: 0.1838\n",
      "Epoch 26/50\n",
      "844/844 [==============================] - 2s 2ms/step - loss: 0.0081 - val_loss: 0.1748\n",
      "Epoch 27/50\n",
      "844/844 [==============================] - 2s 2ms/step - loss: 0.0106 - val_loss: 0.1910\n",
      "Epoch 28/50\n",
      "844/844 [==============================] - 2s 3ms/step - loss: 0.0142 - val_loss: 0.1826\n",
      "Epoch 29/50\n",
      "844/844 [==============================] - 2s 2ms/step - loss: 0.0132 - val_loss: 0.1899\n",
      "Epoch 30/50\n",
      "844/844 [==============================] - 2s 2ms/step - loss: 0.0092 - val_loss: 0.1930 ET\n",
      "Epoch 31/50\n",
      "844/844 [==============================] - 2s 2ms/step - loss: 0.0064 - val_loss: 0.1928\n",
      "Epoch 32/50\n",
      "844/844 [==============================] - 2s 2ms/step - loss: 0.0126 - val_loss: 0.1872\n",
      "Epoch 33/50\n",
      "844/844 [==============================] - 2s 2ms/step - loss: 0.0164 - val_loss: 0.1999\n",
      "Epoch 34/50\n",
      "844/844 [==============================] - 2s 2ms/step - loss: 0.0109 - val_loss: 0.1997\n",
      "Epoch 35/50\n",
      "844/844 [==============================] - 2s 2ms/step - loss: 0.0080 - val_loss: 0.1938\n",
      "Epoch 36/50\n",
      "844/844 [==============================] - 2s 2ms/step - loss: 0.0060 - val_loss: 0.2002\n",
      "Epoch 37/50\n",
      "844/844 [==============================] - 2s 2ms/step - loss: 0.0144 - val_loss: 0.2139\n",
      "Epoch 38/50\n",
      "844/844 [==============================] - 2s 2ms/step - loss: 0.0116 - val_loss: 0.1952\n",
      "Epoch 39/50\n",
      "844/844 [==============================] - 2s 2ms/step - loss: 0.0081 - val_loss: 0.1988\n",
      "Epoch 40/50\n",
      "844/844 [==============================] - 2s 2ms/step - loss: 0.0083 - val_loss: 0.2185\n",
      "Epoch 41/50\n",
      "844/844 [==============================] - 2s 2ms/step - loss: 0.0097 - val_loss: 0.2214\n",
      "Epoch 42/50\n",
      "844/844 [==============================] - 2s 2ms/step - loss: 0.0114 - val_loss: 0.2152\n",
      "Epoch 43/50\n",
      "844/844 [==============================] - 2s 2ms/step - loss: 0.0101 - val_loss: 0.2034\n",
      "Epoch 44/50\n",
      "844/844 [==============================] - 2s 2ms/step - loss: 0.0066 - val_loss: 0.1934\n",
      "Epoch 45/50\n",
      "844/844 [==============================] - 2s 2ms/step - loss: 0.0077 - val_loss: 0.2161\n",
      "Epoch 46/50\n",
      "844/844 [==============================] - 2s 2ms/step - loss: 0.0112 - val_loss: 0.2253\n",
      "Epoch 47/50\n",
      "844/844 [==============================] - 2s 2ms/step - loss: 0.0143 - val_loss: 0.2037\n",
      "Epoch 48/50\n",
      "844/844 [==============================] - 2s 2ms/step - loss: 0.0052 - val_loss: 0.2158\n",
      "Epoch 49/50\n",
      "844/844 [==============================] - 2s 2ms/step - loss: 0.0041 - val_loss: 0.2188\n",
      "Epoch 50/50\n",
      "844/844 [==============================] - 2s 2ms/step - loss: 0.0078 - val_loss: 0.2505\n"
     ]
    }
   ],
   "source": [
    "#훈련\n",
    "history = model1.fit(X_train_centered, y_train_onehot,\n",
    "                   batch_size=64, epochs=50,\n",
    "                   verbose = 1,#훈련동안 비용함수 따라가기\n",
    "                    validation_split=0.1)#훈련 데이터의 10%를 검증 데이터로 할당"
   ]
  },
  {
   "cell_type": "code",
   "execution_count": 76,
   "id": "989a687c",
   "metadata": {},
   "outputs": [
    {
     "name": "stdout",
     "output_type": "stream",
     "text": [
      "기본 훈련 정확도: 98.99%\n",
      "기본 테스트 정확도: 96.36%\n",
      "model1 훈련 정확도: 99.25%\n",
      "model1 테스트 정확도: 95.95%\n"
     ]
    }
   ],
   "source": [
    "#훈련 세트와 테스트 세트에서 모델 정확도 출력\n",
    "y_train_pred = model.predict_classes(X_train_centered, verbose =0)\n",
    "correct_preds = np.sum(y_train == y_train_pred, axis = 0)#훈련세트 예측 중 맞은 것 개수\n",
    "train_acc = correct_preds/y_train.shape[0]#훈련 정확도\n",
    "print(\"기본 훈련 정확도: %.2f%%\"%(train_acc*100))\n",
    "\n",
    "y_test_pred = model.predict_classes(X_test_centered, verbose = 0)#테스트세트 예측\n",
    "correct_preds = np.sum(y_test == y_test_pred, axis = 0)#테스트 세트 예측 중 맞은 것 개수\n",
    "test_acc = correct_preds/y_test.shape[0]#테스트 정확도\n",
    "print(\"기본 테스트 정확도: %.2f%%\"%(test_acc*100))\n",
    "\n",
    "y_train_pred = model1.predict_classes(X_train_centered, verbose =0)\n",
    "correct_preds = np.sum(y_train == y_train_pred, axis = 0)#훈련세트 예측 중 맞은 것 개수\n",
    "train_acc = correct_preds/y_train.shape[0]#훈련 정확도\n",
    "print(\"model1 훈련 정확도: %.2f%%\"%(train_acc*100))\n",
    "\n",
    "y_test_pred = model1.predict_classes(X_test_centered, verbose = 0)#테스트세트 예측\n",
    "correct_preds = np.sum(y_test == y_test_pred, axis = 0)#테스트 세트 예측 중 맞은 것 개수\n",
    "test_acc = correct_preds/y_test.shape[0]#테스트 정확도\n",
    "print(\"model1 테스트 정확도: %.2f%%\"%(test_acc*100))\n"
   ]
  },
  {
   "cell_type": "markdown",
   "id": "030b71d9",
   "metadata": {},
   "source": [
    "테스트 정확도 기본 모델보다 더 높여보고 싶다"
   ]
  },
  {
   "cell_type": "code",
   "execution_count": 83,
   "id": "c8fc82bb",
   "metadata": {},
   "outputs": [
    {
     "name": "stdout",
     "output_type": "stream",
     "text": [
      "Epoch 1/50\n",
      "844/844 [==============================] - 3s 3ms/step - loss: 0.3413 - val_loss: 0.1503\n",
      "Epoch 2/50\n",
      "844/844 [==============================] - 2s 2ms/step - loss: 0.1534 - val_loss: 0.1263\n",
      "Epoch 3/50\n",
      "844/844 [==============================] - 2s 2ms/step - loss: 0.1146 - val_loss: 0.1170\n",
      "Epoch 4/50\n",
      "844/844 [==============================] - 2s 2ms/step - loss: 0.0928 - val_loss: 0.1155\n",
      "Epoch 5/50\n",
      "844/844 [==============================] - 2s 2ms/step - loss: 0.0753 - val_loss: 0.1196\n",
      "Epoch 6/50\n",
      "844/844 [==============================] - 2s 2ms/step - loss: 0.0626 - val_loss: 0.1211\n",
      "Epoch 7/50\n",
      "844/844 [==============================] - 3s 3ms/step - loss: 0.0531 - val_loss: 0.1201\n",
      "Epoch 8/50\n",
      "844/844 [==============================] - 2s 2ms/step - loss: 0.0437 - val_loss: 0.1362\n",
      "Epoch 9/50\n",
      "844/844 [==============================] - 2s 2ms/step - loss: 0.0377 - val_loss: 0.1283\n",
      "Epoch 10/50\n",
      "844/844 [==============================] - 2s 3ms/step - loss: 0.0321 - val_loss: 0.1375\n",
      "Epoch 11/50\n",
      "844/844 [==============================] - 2s 2ms/step - loss: 0.0282 - val_loss: 0.1457\n",
      "Epoch 12/50\n",
      "844/844 [==============================] - 2s 2ms/step - loss: 0.0240 - val_loss: 0.1370\n",
      "Epoch 13/50\n",
      "844/844 [==============================] - 2s 3ms/step - loss: 0.0222 - val_loss: 0.1617\n",
      "Epoch 14/50\n",
      "844/844 [==============================] - 2s 2ms/step - loss: 0.0181 - val_loss: 0.1628\n",
      "Epoch 15/50\n",
      "844/844 [==============================] - 2s 2ms/step - loss: 0.0163 - val_loss: 0.1623\n",
      "Epoch 16/50\n",
      "844/844 [==============================] - 2s 2ms/step - loss: 0.0148 - val_loss: 0.1712\n",
      "Epoch 17/50\n",
      "844/844 [==============================] - 2s 2ms/step - loss: 0.0136 - val_loss: 0.1810\n",
      "Epoch 18/50\n",
      "844/844 [==============================] - 2s 2ms/step - loss: 0.0115 - val_loss: 0.1808\n",
      "Epoch 19/50\n",
      "844/844 [==============================] - 2s 2ms/step - loss: 0.0122 - val_loss: 0.1832\n",
      "Epoch 20/50\n",
      "844/844 [==============================] - 2s 2ms/step - loss: 0.0100 - val_loss: 0.2148\n",
      "Epoch 21/50\n",
      "844/844 [==============================] - 2s 2ms/step - loss: 0.0085 - val_loss: 0.2068\n",
      "Epoch 22/50\n",
      "844/844 [==============================] - 2s 2ms/step - loss: 0.0095 - val_loss: 0.2127\n",
      "Epoch 23/50\n",
      "844/844 [==============================] - 2s 2ms/step - loss: 0.0090 - val_loss: 0.2158\n",
      "Epoch 24/50\n",
      "844/844 [==============================] - 2s 2ms/step - loss: 0.0072 - val_loss: 0.2251\n",
      "Epoch 25/50\n",
      "844/844 [==============================] - 2s 2ms/step - loss: 0.0078 - val_loss: 0.2268\n",
      "Epoch 26/50\n",
      "844/844 [==============================] - 2s 2ms/step - loss: 0.0070 - val_loss: 0.2406\n",
      "Epoch 27/50\n",
      "844/844 [==============================] - 2s 2ms/step - loss: 0.0072 - val_loss: 0.2582\n",
      "Epoch 28/50\n",
      "844/844 [==============================] - 2s 2ms/step - loss: 0.0073 - val_loss: 0.2529\n",
      "Epoch 29/50\n",
      "844/844 [==============================] - 2s 2ms/step - loss: 0.0072 - val_loss: 0.2550\n",
      "Epoch 30/50\n",
      "844/844 [==============================] - 2s 2ms/step - loss: 0.0070 - val_loss: 0.2653\n",
      "Epoch 31/50\n",
      "844/844 [==============================] - 2s 2ms/step - loss: 0.0060 - val_loss: 0.2644\n",
      "Epoch 32/50\n",
      "844/844 [==============================] - 2s 2ms/step - loss: 0.0059 - val_loss: 0.2588\n",
      "Epoch 33/50\n",
      "844/844 [==============================] - 2s 2ms/step - loss: 0.0059 - val_loss: 0.2758\n",
      "Epoch 34/50\n",
      "844/844 [==============================] - 2s 2ms/step - loss: 0.0054 - val_loss: 0.2612\n",
      "Epoch 35/50\n",
      "844/844 [==============================] - 2s 2ms/step - loss: 0.0056 - val_loss: 0.2917\n",
      "Epoch 36/50\n",
      "844/844 [==============================] - 2s 2ms/step - loss: 0.0045 - val_loss: 0.3038\n",
      "Epoch 37/50\n",
      "844/844 [==============================] - 2s 2ms/step - loss: 0.0053 - val_loss: 0.2957\n",
      "Epoch 38/50\n",
      "844/844 [==============================] - 2s 2ms/step - loss: 0.0056 - val_loss: 0.2916\n",
      "Epoch 39/50\n",
      "844/844 [==============================] - 2s 2ms/step - loss: 0.0044 - val_loss: 0.2745\n",
      "Epoch 40/50\n",
      "844/844 [==============================] - 2s 2ms/step - loss: 0.0040 - val_loss: 0.2924\n",
      "Epoch 41/50\n",
      "844/844 [==============================] - 2s 2ms/step - loss: 0.0043 - val_loss: 0.3174\n",
      "Epoch 42/50\n",
      "844/844 [==============================] - 2s 2ms/step - loss: 0.0050 - val_loss: 0.3184\n",
      "Epoch 43/50\n",
      "844/844 [==============================] - 2s 2ms/step - loss: 0.0042 - val_loss: 0.3346\n",
      "Epoch 44/50\n",
      "844/844 [==============================] - 2s 2ms/step - loss: 0.0041 - val_loss: 0.3242\n",
      "Epoch 45/50\n",
      "844/844 [==============================] - 2s 2ms/step - loss: 0.0043 - val_loss: 0.3171\n",
      "Epoch 46/50\n",
      "844/844 [==============================] - 2s 2ms/step - loss: 0.0042 - val_loss: 0.3255\n",
      "Epoch 47/50\n",
      "844/844 [==============================] - 2s 2ms/step - loss: 0.0045 - val_loss: 0.3366\n",
      "Epoch 48/50\n",
      "844/844 [==============================] - 2s 2ms/step - loss: 0.0033 - val_loss: 0.3227\n",
      "Epoch 49/50\n",
      "844/844 [==============================] - 2s 2ms/step - loss: 0.0046 - val_loss: 0.3208\n",
      "Epoch 50/50\n",
      "844/844 [==============================] - 2s 2ms/step - loss: 0.0040 - val_loss: 0.3544\n"
     ]
    }
   ],
   "source": [
    "\n",
    "model2 = tf.keras.models.Sequential()\n",
    "\n",
    "model2.add(\n",
    "    tf.keras.layers.Dense(\n",
    "        units = 50,\n",
    "        input_dim = X_train_centered.shape[1],#input_dim이 훈련세트에 있는 특성(열) 개수와 일치해야 함\n",
    "        kernel_initializer = 'glorot_uniform',#새로은 가중치 행렬 초기화 알고리즘(심층 신경망을 안정적으로 초기화하는 방법)\n",
    "        bias_initializer = 'zeros',\n",
    "        activation='tanh'#하이퍼볼릭 탄젠트\n",
    "    )\n",
    ")\n",
    "\n",
    "model2.add(\n",
    "    tf.keras.layers.Dense(\n",
    "        units = 50,#units == input_dim\n",
    "        input_dim = 50,\n",
    "        kernel_initializer = 'glorot_uniform',\n",
    "        bias_initializer = 'zeros',\n",
    "        activation = 'tanh'#하이퍼볼릭 탄젠트\n",
    "    )\n",
    ")\n",
    "\n",
    "###층 추가함\n",
    "model2.add(\n",
    "    tf.keras.layers.Dense(\n",
    "        units = 70,#units == input_dim\n",
    "        input_dim = 70,\n",
    "        kernel_initializer = 'glorot_uniform',\n",
    "        bias_initializer = 'zeros',\n",
    "        activation = 'relu'\n",
    "    )\n",
    ")\n",
    "\n",
    "\n",
    "model2.add(\n",
    "    tf.keras.layers.Dense(\n",
    "        units = y_train_onehot.shape[1],\n",
    "        input_dim = 50,\n",
    "        kernel_initializer = 'normal',\n",
    "        bias_initializer='zeros',\n",
    "        activation = 'softmax'\n",
    "    )\n",
    ")\n",
    "\n",
    "rms_optimizer = tf.keras.optimizers.RMSprop(\n",
    "    learning_rate=0.001, rho=0.9, momentum=0.0, epsilon=1e-07, centered=False)#새로운 옵티마이저\n",
    "\n",
    "#모델 컴파일\n",
    "model2.compile(optimizer=rms_optimizer,\n",
    "             loss = 'categorical_crossentropy')#범주형 크로스엔트로피 손실 함수\n",
    "\n",
    "#훈련\n",
    "history = model2.fit(X_train_centered, y_train_onehot,\n",
    "                   batch_size=64, epochs=50,\n",
    "                   verbose = 1,#훈련동안 비용함수 따라가기\n",
    "                    validation_split=0.1)#훈련 데이터의 10%를 검증 데이터로 할당"
   ]
  },
  {
   "cell_type": "code",
   "execution_count": 85,
   "id": "2396eab0",
   "metadata": {},
   "outputs": [
    {
     "name": "stdout",
     "output_type": "stream",
     "text": [
      "기본 훈련 정확도: 98.99%\n",
      "기본 테스트 정확도: 96.36%\n",
      "model2 훈련 정확도: 99.58%\n",
      "model2 테스트 정확도: 96.01%\n"
     ]
    }
   ],
   "source": [
    "#훈련 세트와 테스트 세트에서 모델 정확도 출력\n",
    "y_train_pred = model.predict_classes(X_train_centered, verbose =0)\n",
    "correct_preds = np.sum(y_train == y_train_pred, axis = 0)#훈련세트 예측 중 맞은 것 개수\n",
    "train_acc = correct_preds/y_train.shape[0]#훈련 정확도\n",
    "print(\"기본 훈련 정확도: %.2f%%\"%(train_acc*100))\n",
    "\n",
    "y_test_pred = model.predict_classes(X_test_centered, verbose = 0)#테스트세트 예측\n",
    "correct_preds = np.sum(y_test == y_test_pred, axis = 0)#테스트 세트 예측 중 맞은 것 개수\n",
    "test_acc = correct_preds/y_test.shape[0]#테스트 정확도\n",
    "print(\"기본 테스트 정확도: %.2f%%\"%(test_acc*100))\n",
    "\n",
    "y_train_pred = model2.predict_classes(X_train_centered, verbose =0)\n",
    "correct_preds = np.sum(y_train == y_train_pred, axis = 0)#훈련세트 예측 중 맞은 것 개수\n",
    "train_acc = correct_preds/y_train.shape[0]#훈련 정확도\n",
    "print(\"model2 훈련 정확도: %.2f%%\"%(train_acc*100))\n",
    "\n",
    "y_test_pred = model2.predict_classes(X_test_centered, verbose = 0)#테스트세트 예측\n",
    "correct_preds = np.sum(y_test == y_test_pred, axis = 0)#테스트 세트 예측 중 맞은 것 개수\n",
    "test_acc = correct_preds/y_test.shape[0]#테스트 정확도\n",
    "print(\"model2 테스트 정확도: %.2f%%\"%(test_acc*100))\n"
   ]
  },
  {
   "cell_type": "code",
   "execution_count": 87,
   "id": "70ee5111",
   "metadata": {},
   "outputs": [],
   "source": [
    "#Nadam\n",
    "model3 = tf.keras.models.Sequential()\n",
    "\n",
    "model3.add(\n",
    "    tf.keras.layers.Dense(\n",
    "        units = 50,\n",
    "        input_dim = X_train_centered.shape[1],#input_dim이 훈련세트에 있는 특성(열) 개수와 일치해야 함\n",
    "        kernel_initializer = 'glorot_uniform',#새로은 가중치 행렬 초기화 알고리즘(심층 신경망을 안정적으로 초기화하는 방법)\n",
    "        bias_initializer = 'zeros',\n",
    "        activation='tanh'#하이퍼볼릭 탄젠트\n",
    "    )\n",
    ")\n",
    "\n",
    "model3.add(\n",
    "    tf.keras.layers.Dense(\n",
    "        units = 50,#units == input_dim\n",
    "        input_dim = 50,\n",
    "        kernel_initializer = 'glorot_uniform',\n",
    "        bias_initializer = 'zeros',\n",
    "        activation = 'tanh'#하이퍼볼릭 탄젠트\n",
    "    )\n",
    ")\n",
    "\n",
    "###층 추가함\n",
    "model3.add(\n",
    "    tf.keras.layers.Dense(\n",
    "        units = 70,#units == input_dim\n",
    "        input_dim = 70,\n",
    "        kernel_initializer = 'glorot_uniform',\n",
    "        bias_initializer = 'zeros',\n",
    "        activation = 'relu'\n",
    "    )\n",
    ")\n",
    "\n",
    "\n",
    "model3.add(\n",
    "    tf.keras.layers.Dense(\n",
    "        units = y_train_onehot.shape[1],\n",
    "        input_dim = 50,\n",
    "        kernel_initializer = 'normal',\n",
    "        bias_initializer='zeros',\n",
    "        activation = 'softmax'\n",
    "    )\n",
    ")\n",
    "\n",
    "nadam_optimizer = tf.keras.optimizers.Nadam(\n",
    "    learning_rate=0.001, beta_1=0.9, beta_2=0.999, epsilon=1e-07,\n",
    ")\n",
    "\n",
    "#모델 컴파일\n",
    "model3.compile(optimizer=nadam_optimizer,\n",
    "             loss = 'categorical_crossentropy')#범주형 크로스엔트로피 손실 함수\n",
    "\n",
    "#훈련\n",
    "history = model3.fit(X_train_centered, y_train_onehot,\n",
    "                   batch_size=64, epochs=50,\n",
    "                   verbose = 0,#훈련동안 비용함수 따라가기\n",
    "                    validation_split=0.1)#훈련 데이터의 10%를 검증 데이터로 할당"
   ]
  },
  {
   "cell_type": "code",
   "execution_count": 89,
   "id": "21fe560e",
   "metadata": {},
   "outputs": [
    {
     "name": "stdout",
     "output_type": "stream",
     "text": [
      "기본 훈련 정확도: 98.99%\n",
      "기본 테스트 정확도: 96.36%\n",
      "model3 훈련 정확도: 99.52%\n",
      "model3 테스트 정확도: 96.17%\n"
     ]
    }
   ],
   "source": [
    "#훈련 세트와 테스트 세트에서 모델 정확도 출력\n",
    "y_train_pred = model.predict_classes(X_train_centered, verbose =0)\n",
    "correct_preds = np.sum(y_train == y_train_pred, axis = 0)#훈련세트 예측 중 맞은 것 개수\n",
    "train_acc = correct_preds/y_train.shape[0]#훈련 정확도\n",
    "print(\"기본 훈련 정확도: %.2f%%\"%(train_acc*100))\n",
    "\n",
    "y_test_pred = model.predict_classes(X_test_centered, verbose = 0)#테스트세트 예측\n",
    "correct_preds = np.sum(y_test == y_test_pred, axis = 0)#테스트 세트 예측 중 맞은 것 개수\n",
    "test_acc = correct_preds/y_test.shape[0]#테스트 정확도\n",
    "print(\"기본 테스트 정확도: %.2f%%\"%(test_acc*100))\n",
    "\n",
    "y_train_pred = model3.predict_classes(X_train_centered, verbose =0)\n",
    "correct_preds = np.sum(y_train == y_train_pred, axis = 0)#훈련세트 예측 중 맞은 것 개수\n",
    "train_acc = correct_preds/y_train.shape[0]#훈련 정확도\n",
    "print(\"model3 훈련 정확도: %.2f%%\"%(train_acc*100))\n",
    "\n",
    "y_test_pred = model3.predict_classes(X_test_centered, verbose = 0)#테스트세트 예측\n",
    "correct_preds = np.sum(y_test == y_test_pred, axis = 0)#테스트 세트 예측 중 맞은 것 개수\n",
    "test_acc = correct_preds/y_test.shape[0]#테스트 정확도\n",
    "print(\"model3 테스트 정확도: %.2f%%\"%(test_acc*100))\n"
   ]
  },
  {
   "cell_type": "code",
   "execution_count": 94,
   "id": "eb748d09",
   "metadata": {},
   "outputs": [],
   "source": [
    "#adagrad\n",
    "model4 = tf.keras.models.Sequential()\n",
    "\n",
    "model4.add(\n",
    "    tf.keras.layers.Dense(\n",
    "        units = 50,\n",
    "        input_dim = X_train_centered.shape[1],#input_dim이 훈련세트에 있는 특성(열) 개수와 일치해야 함\n",
    "        kernel_initializer = 'glorot_uniform',#새로은 가중치 행렬 초기화 알고리즘(심층 신경망을 안정적으로 초기화하는 방법)\n",
    "        bias_initializer = 'zeros',\n",
    "        activation='tanh'#하이퍼볼릭 탄젠트\n",
    "    )\n",
    ")\n",
    "\n",
    "model4.add(\n",
    "    tf.keras.layers.Dense(\n",
    "        units = 50,#units == input_dim\n",
    "        input_dim = 50,\n",
    "        kernel_initializer = 'glorot_uniform',\n",
    "        bias_initializer = 'zeros',\n",
    "        activation = 'tanh'#하이퍼볼릭 탄젠트\n",
    "    )\n",
    ")\n",
    "\n",
    "###층 추가함\n",
    "model4.add(\n",
    "    tf.keras.layers.Dense(\n",
    "        units = 70,#units == input_dim\n",
    "        input_dim = 70,\n",
    "        kernel_initializer = 'glorot_uniform',\n",
    "        bias_initializer = 'zeros',\n",
    "        activation = 'relu'\n",
    "    )\n",
    ")\n",
    "\n",
    "\n",
    "model4.add(\n",
    "    tf.keras.layers.Dense(\n",
    "        units = y_train_onehot.shape[1],\n",
    "        input_dim = 50,\n",
    "        kernel_initializer = 'normal',\n",
    "        bias_initializer='zeros',\n",
    "        activation = 'softmax'\n",
    "    )\n",
    ")\n",
    "\n",
    "ftrl_optimizer = tf.keras.optimizers.Adadelta(\n",
    "    learning_rate=0.001, rho=0.95, epsilon=1e-07\n",
    ")\n",
    "\n",
    "\n",
    "#모델 컴파일\n",
    "model4.compile(optimizer=ftrl_optimizer,\n",
    "             loss = 'categorical_crossentropy')#범주형 크로스엔트로피 손실 함수\n",
    "\n",
    "#훈련\n",
    "history = model4.fit(X_train_centered, y_train_onehot,\n",
    "                   batch_size=64, epochs=50,\n",
    "                   verbose = 0,#훈련동안 비용함수 따라가기\n",
    "                    validation_split=0.1)#훈련 데이터의 10%를 검증 데이터로 할당"
   ]
  },
  {
   "cell_type": "code",
   "execution_count": 95,
   "id": "aa8a76fc",
   "metadata": {},
   "outputs": [
    {
     "name": "stderr",
     "output_type": "stream",
     "text": [
      "C:\\Anaconda3\\envs\\dsfs\\lib\\site-packages\\tensorflow\\python\\keras\\engine\\sequential.py:455: UserWarning: `model.predict_classes()` is deprecated and will be removed after 2021-01-01. Please use instead:* `np.argmax(model.predict(x), axis=-1)`,   if your model does multi-class classification   (e.g. if it uses a `softmax` last-layer activation).* `(model.predict(x) > 0.5).astype(\"int32\")`,   if your model does binary classification   (e.g. if it uses a `sigmoid` last-layer activation).\n",
      "  warnings.warn('`model.predict_classes()` is deprecated and '\n"
     ]
    },
    {
     "name": "stdout",
     "output_type": "stream",
     "text": [
      "기본 훈련 정확도: 98.99%\n",
      "기본 테스트 정확도: 96.36%\n",
      "model4 훈련 정확도: 83.04%\n",
      "model4 테스트 정확도: 83.81%\n"
     ]
    }
   ],
   "source": [
    "#훈련 세트와 테스트 세트에서 모델 정확도 출력\n",
    "y_train_pred = model.predict_classes(X_train_centered, verbose =0)\n",
    "correct_preds = np.sum(y_train == y_train_pred, axis = 0)#훈련세트 예측 중 맞은 것 개수\n",
    "train_acc = correct_preds/y_train.shape[0]#훈련 정확도\n",
    "print(\"기본 훈련 정확도: %.2f%%\"%(train_acc*100))\n",
    "\n",
    "y_test_pred = model.predict_classes(X_test_centered, verbose = 0)#테스트세트 예측\n",
    "correct_preds = np.sum(y_test == y_test_pred, axis = 0)#테스트 세트 예측 중 맞은 것 개수\n",
    "test_acc = correct_preds/y_test.shape[0]#테스트 정확도\n",
    "print(\"기본 테스트 정확도: %.2f%%\"%(test_acc*100))\n",
    "\n",
    "y_train_pred = model4.predict_classes(X_train_centered, verbose =0)\n",
    "correct_preds = np.sum(y_train == y_train_pred, axis = 0)#훈련세트 예측 중 맞은 것 개수\n",
    "train_acc = correct_preds/y_train.shape[0]#훈련 정확도\n",
    "print(\"model4 훈련 정확도: %.2f%%\"%(train_acc*100))\n",
    "\n",
    "y_test_pred = model4.predict_classes(X_test_centered, verbose = 0)#테스트세트 예측\n",
    "correct_preds = np.sum(y_test == y_test_pred, axis = 0)#테스트 세트 예측 중 맞은 것 개수\n",
    "test_acc = correct_preds/y_test.shape[0]#테스트 정확도\n",
    "print(\"model4 테스트 정확도: %.2f%%\"%(test_acc*100))\n"
   ]
  },
  {
   "cell_type": "markdown",
   "id": "48f1adf4",
   "metadata": {},
   "source": [
    "#### 로지스틱 함수 요약\n",
    "\n",
    "$$ \\Phi_{logistic} (z) = \\frac{1}{1+e^{-z}} $$"
   ]
  },
  {
   "cell_type": "code",
   "execution_count": 97,
   "id": "8a25f49f",
   "metadata": {},
   "outputs": [
    {
     "name": "stdout",
     "output_type": "stream",
     "text": [
      "P(y=1|x) = 0.888\n"
     ]
    }
   ],
   "source": [
    "import numpy as np\n",
    "X = np.array([1,1.4,2.5])\n",
    "w = np.array([0.4,0.3,0.5])\n",
    "\n",
    "def net_input(X,w):#최종 입력\n",
    "    return np.dot(X,w)\n",
    "\n",
    "def logistic(z):\n",
    "    return 1.0/(1.0 + np.exp(-z))\n",
    "\n",
    "def logistic_activation(X,w):\n",
    "    z = net_input(X,w)\n",
    "    return logistic(z)\n",
    "\n",
    "print(\"P(y=1|x) = %.3f\"%(logistic_activation(X,w)))#샘플 x가 양성 클래스에 속할 비율"
   ]
  },
  {
   "cell_type": "code",
   "execution_count": 100,
   "id": "2b46d1c8",
   "metadata": {},
   "outputs": [
    {
     "name": "stdout",
     "output_type": "stream",
     "text": [
      "최종입력:\n",
      " [1.78 0.76 1.65]\n",
      "출력 유닛:\n",
      " [0.85569687 0.68135373 0.83889105]\n",
      "예측 클래스 레이블: 0\n"
     ]
    }
   ],
   "source": [
    "W = np.array([[1.1,1.2,0.8,0.4],\n",
    "             [0.2,0.4,1.0,0.2],\n",
    "             [0.6,1.5,1.2,0.7]])\n",
    "A =np.array([[1,0.1,0.4,0.6]])\n",
    "Z = np.dot(W,A[0])\n",
    "y_probas = logistic(Z)\n",
    "print(\"최종입력:\\n\",Z)\n",
    "print(\"출력 유닛:\\n\",y_probas)#이해하기 어려운 로지스틱 함수\n",
    "\n",
    "y_class = np.argmax(Z,axis=0)#클래스 레이블 예측하는 방법: 가장 큰 값 선택\n",
    "print(\"예측 클래스 레이블: %d\"%y_class)"
   ]
  },
  {
   "cell_type": "markdown",
   "id": "34a15b0b",
   "metadata": {},
   "source": [
    "### 소프트맥스 함수를 사용하여 다중 클래스 확률 예측\n",
    "하나의 클래스 인덱스를 찾는 대신 각 클래서의 확률을 반환"
   ]
  },
  {
   "cell_type": "markdown",
   "id": "6580b16b",
   "metadata": {},
   "source": [
    "$$P(y = i|z) = \\phi(z) \\frac{e^{Z_i}}{\\sum\\nolimits_{j=1}^{M} e^{Z_j}} $$"
   ]
  },
  {
   "cell_type": "code",
   "execution_count": 101,
   "id": "3516637b",
   "metadata": {},
   "outputs": [],
   "source": [
    "def softmax(z):\n",
    "    return np.exp(z) / np.sum(np.exp(z))"
   ]
  },
  {
   "cell_type": "code",
   "execution_count": 102,
   "id": "c75ef627",
   "metadata": {},
   "outputs": [
    {
     "name": "stdout",
     "output_type": "stream",
     "text": [
      "확률:\n",
      " [0.44668973 0.16107406 0.39223621]\n"
     ]
    }
   ],
   "source": [
    "y_probas = softmax(Z)\n",
    "print(\"확률:\\n\",y_probas)"
   ]
  },
  {
   "cell_type": "code",
   "execution_count": 103,
   "id": "aa868cd6",
   "metadata": {},
   "outputs": [
    {
     "data": {
      "text/plain": [
       "1.0"
      ]
     },
     "execution_count": 103,
     "metadata": {},
     "output_type": "execute_result"
    }
   ],
   "source": [
    "np.sum(y_probas)"
   ]
  },
  {
   "cell_type": "markdown",
   "id": "b9858d82",
   "metadata": {},
   "source": [
    "### 하이퍼볼릭 탄젠트로 출력 범위 넓히기\n",
    "$$\\phi_{logistic} = \\frac{1}{1+e^{-z}}$$\n",
    "\n",
    "<br>\n",
    "\n",
    "$$\\phi_tanh(z) = 2x\\phi_{logistic}(2z) - 1 = \\frac{e^z - e^{-z}}{e^z + e^{-z}}$$\n",
    "\n",
    "하이퍼볼릭 탄젠트: <u>스케일이 조정된 로지스틱 함수</u>\n",
    "<br>출력 범위를 (-1,1) 사이로 넓힘"
   ]
  },
  {
   "cell_type": "code",
   "execution_count": 104,
   "id": "97db7d42",
   "metadata": {},
   "outputs": [],
   "source": [
    "import matplotlib.pyplot as plt\n",
    "\n",
    "def tanh(z):#하이퍼볼릭 탄젠트\n",
    "    e_p = np.exp(z)\n",
    "    e_m = np.exp(-z)\n",
    "    \n",
    "    return (e_p - e_m)/(e_p + e_m)"
   ]
  },
  {
   "cell_type": "code",
   "execution_count": 106,
   "id": "2aafa60b",
   "metadata": {},
   "outputs": [
    {
     "data": {
      "image/png": "[encoded data removed]",
      "text/plain": [
       "<Figure size 432x288 with 1 Axes>"
      ]
     },
     "metadata": {
      "needs_background": "light"
     },
     "output_type": "display_data"
    }
   ],
   "source": [
    "#로지스틱 함수와 하이퍼볼릭 탄젠트 함수 비교\n",
    "z = np.arange(-5,5,0.005)\n",
    "log_act = logistic(z)#로지스틱 함수\n",
    "tanh_act = tanh(z)#하이퍼볼릭 탄젠트\n",
    "\n",
    "plt.ylim([-1.5,1.5])\n",
    "plt.xlabel('net input $z$')\n",
    "plt.ylabel('activation $\\phi(z)$')\n",
    "plt.axhline(1,color = 'black', linestyle = ':')\n",
    "plt.axhline(0.5,color = 'black', linestyle = ':')\n",
    "plt.axhline(0,color = 'black', linestyle = ':')\n",
    "plt.axhline(-0.5,color = 'black', linestyle = ':')\n",
    "plt.axhline(-1,color = 'black', linestyle = ':')\n",
    "\n",
    "plt.plot(z, tanh_act,\n",
    "        linewidth = 3,\n",
    "        linestyle = '--',\n",
    "        label = 'tanh')\n",
    "plt.plot(z, log_act, \n",
    "        linewidth = 3,\n",
    "        label = 'logistic')\n",
    "\n",
    "plt.legend(loc = 'lower right')\n",
    "plt.tight_layout()\n",
    "plt.show()"
   ]
  },
  {
   "cell_type": "code",
   "execution_count": 107,
   "id": "a7d2dc8f",
   "metadata": {},
   "outputs": [],
   "source": [
    "#넘파이 tanh 함수\n",
    "tanh_act = np.tanh(z)"
   ]
  },
  {
   "cell_type": "code",
   "execution_count": 108,
   "id": "5d22e5d0",
   "metadata": {},
   "outputs": [],
   "source": [
    "#사이파이 로지스틱 함수\n",
    "from scipy.special import expit\n",
    "log_act = expit(z)"
   ]
  },
  {
   "cell_type": "markdown",
   "id": "5ca12877",
   "metadata": {},
   "source": [
    "### 렐루 활성화 함수(Rectified Linear Unit, ReLU)\n",
    "$$\\phi(z) = max(0,z)$$\n",
    "\n",
    "- 하이퍼볼릭 탄젠트와 로지스틱 활성화 함수의 그래디언트 소실 문제(vanishing gradient problem)을 개선\n",
    "- 그래디언트 소실 문제: 그래디언트가 0에 아주 가까워지기 때문에 훈련 과정 동안 가중치가 매우 느리게 학습됨\n",
    "- 입력 값이 양수면 입력에 대한 렐루의 도함수는 항상 1"
   ]
  }
 ],
 "metadata": {
  "kernelspec": {
   "display_name": "Python 3",
   "language": "python",
   "name": "python3"
  },
  "language_info": {
   "codemirror_mode": {
    "name": "ipython",
    "version": 3
   },
   "file_extension": ".py",
   "mimetype": "text/x-python",
   "name": "python",
   "nbconvert_exporter": "python",
   "pygments_lexer": "ipython3",
   "version": "3.9.5"
  }
 },
 "nbformat": 4,
 "nbformat_minor": 5
}
