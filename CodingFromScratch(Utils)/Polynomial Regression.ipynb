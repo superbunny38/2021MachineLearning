{
 "cells": [
  {
   "cell_type": "markdown",
   "id": "888bceaa",
   "metadata": {},
   "source": [
    "Data={(0.0,0.0),(1.0,1.0),(1.0,2.0),(2.0,1.0)}에 적합한 Polynomial Regression모델을 찾으시오.\n",
    "(단, f(x; w) = w2x2+w1x+w0을 가정하시오.)\n",
    "<br>\n",
    "\n",
    "(제출하는 문제는 아니고 손으로 풀어보거나, 코딩을 하여도 좋습니다.) 결과물을 padlet에 올려보세요.\n",
    "\n"
   ]
  },
  {
   "cell_type": "code",
   "execution_count": 1,
   "id": "75133caf",
   "metadata": {},
   "outputs": [],
   "source": [
    "X = [0.0,1.0,1.0,2.0]"
   ]
  },
  {
   "cell_type": "code",
   "execution_count": 2,
   "id": "37d15463",
   "metadata": {},
   "outputs": [],
   "source": [
    "T = [0.0,1.0,2.0,1.0]"
   ]
  },
  {
   "cell_type": "code",
   "execution_count": 4,
   "id": "bad7941a",
   "metadata": {},
   "outputs": [
    {
     "data": {
      "image/png": "[encoded data removed]",
      "text/plain": [
       "<Figure size 288x288 with 1 Axes>"
      ]
     },
     "metadata": {
      "needs_background": "light"
     },
     "output_type": "display_data"
    }
   ],
   "source": [
    "import numpy as np\n",
    "import matplotlib.pyplot as plt\n",
    "%matplotlib inline\n",
    "\n",
    "#데이터 그래프\n",
    "#X와 T를 그래프로 표시\n",
    "plt.figure(figsize=(4,4))\n",
    "plt.plot(X,T,marker = 'o',linestyle = 'None',\n",
    "        markeredgecolor = 'black', color = 'cornflowerblue')\n",
    "#plt.xlim(X_min, X_max)\n",
    "plt.grid(True)\n",
    "plt.show()"
   ]
  },
  {
   "cell_type": "code",
   "execution_count": 9,
   "id": "2b696c74",
   "metadata": {},
   "outputs": [],
   "source": [
    "#면의 MSE\n",
    "def mse_plane(x0,x1,t,w):\n",
    "    #x0 = x1**2\n",
    "    y = w[0]*x0 + w[1]*x1 + w[2]#면의 함수\n",
    "    mse = np.mean((y-t)**2)\n",
    "    return mse"
   ]
  },
  {
   "cell_type": "code",
   "execution_count": 13,
   "id": "1634a9c4",
   "metadata": {},
   "outputs": [],
   "source": [
    "#해석해\n",
    "def fit_plane(x0,x1,t):\n",
    "    c_tx0 = np.mean(t*x0)-np.mean(t)*np.mean(x0)#공분산\n",
    "    c_tx1 = np.mean(t*x1)-np.mean(t)*np.mean(x1)#공분산\n",
    "    c_x0x1 = np.mean(x0*x1)-np.mean(x0)*np.mean(x1)\n",
    "    v_x0 = np.var(x0)\n",
    "    v_x1 = np.var(x1)\n",
    "    w0 = (c_tx1*c_x0x1 - v_x1+c_tx0)/(c_x0x1**2-v_x0*v_x1)\n",
    "    w1 = (c_tx0*c_x0x1 - v_x0*c_tx1)/(c_x0x1**2 - v_x0*v_x1)\n",
    "    w2 = -w0*np.mean(x0)-w1*np.mean(x1)+np.mean(t)\n",
    "    return np.array([w0,w1,w2])"
   ]
  },
  {
   "cell_type": "code",
   "execution_count": 17,
   "id": "8f50cfc9",
   "metadata": {},
   "outputs": [
    {
     "name": "stdout",
     "output_type": "stream",
     "text": [
      "함수: x0*w0 + x1*w1 + w2\n",
      "x0 = x1^2\n",
      "w0 = -0.0, w1=2.5, w2 = -1.5\n"
     ]
    }
   ],
   "source": [
    "X0 = [num**2 for num in X]\n",
    "X1 = X\n",
    "X0 = np.array(X0)\n",
    "X1 = np.array(X1)\n",
    "W = fit_plane(X0,X1,T)\n",
    "print(\"함수: x0*w0 + x1*w1 + w2\")\n",
    "print(\"x0 = x1^2\")\n",
    "print('w0 = {0:.1f}, w1={1:.1f}, w2 = {2:.1f}'.format(W[0],W[1],W[2]))"
   ]
  }
 ],
 "metadata": {
  "kernelspec": {
   "display_name": "Python 3",
   "language": "python",
   "name": "python3"
  },
  "language_info": {
   "codemirror_mode": {
    "name": "ipython",
    "version": 3
   },
   "file_extension": ".py",
   "mimetype": "text/x-python",
   "name": "python",
   "nbconvert_exporter": "python",
   "pygments_lexer": "ipython3",
   "version": "3.9.5"
  }
 },
 "nbformat": 4,
 "nbformat_minor": 5
}
