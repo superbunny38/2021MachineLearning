{
 "cells": [
  {
   "cell_type": "markdown",
   "id": "6afc7a82",
   "metadata": {},
   "source": [
    "## Convert to binary string"
   ]
  },
  {
   "cell_type": "code",
   "execution_count": 84,
   "id": "c3ba72e5",
   "metadata": {},
   "outputs": [
    {
     "data": {
      "text/plain": [
       "1024.0"
      ]
     },
     "execution_count": 84,
     "metadata": {},
     "output_type": "execute_result"
    }
   ],
   "source": [
    "import math\n",
    "math.pow(2,10)#10개 bitstring"
   ]
  },
  {
   "cell_type": "code",
   "execution_count": 19,
   "id": "7fca9acf",
   "metadata": {},
   "outputs": [],
   "source": [
    "def decimalToBinary(n):\n",
    "    return \"{0:b}\".format(int(n))"
   ]
  },
  {
   "cell_type": "code",
   "execution_count": 23,
   "id": "b0c95ba6",
   "metadata": {},
   "outputs": [],
   "source": [
    "def convert_to_binarystring(n, n_string):\n",
    "    binary = bin(n)[2:].zfill(n_string)\n",
    "    return binary"
   ]
  },
  {
   "cell_type": "code",
   "execution_count": 24,
   "id": "67a62287",
   "metadata": {},
   "outputs": [
    {
     "data": {
      "text/plain": [
       "'1110000100'"
      ]
     },
     "execution_count": 24,
     "metadata": {},
     "output_type": "execute_result"
    }
   ],
   "source": [
    "convert_to_binarystring(900,10)"
   ]
  },
  {
   "cell_type": "code",
   "execution_count": 25,
   "id": "619ff336",
   "metadata": {},
   "outputs": [
    {
     "data": {
      "text/plain": [
       "10"
      ]
     },
     "execution_count": 25,
     "metadata": {},
     "output_type": "execute_result"
    }
   ],
   "source": [
    "len(convert_to_binarystring(300,10))"
   ]
  },
  {
   "cell_type": "code",
   "execution_count": 26,
   "id": "aa1e821e",
   "metadata": {},
   "outputs": [
    {
     "data": {
      "text/plain": [
       "'0100101100'"
      ]
     },
     "execution_count": 26,
     "metadata": {},
     "output_type": "execute_result"
    }
   ],
   "source": [
    "convert_to_binarystring(300,10)"
   ]
  },
  {
   "cell_type": "code",
   "execution_count": 29,
   "id": "f04d9213",
   "metadata": {},
   "outputs": [
    {
     "data": {
      "text/plain": [
       "'1111111111'"
      ]
     },
     "execution_count": 29,
     "metadata": {},
     "output_type": "execute_result"
    }
   ],
   "source": [
    "convert_to_binarystring(1023,10)"
   ]
  },
  {
   "cell_type": "markdown",
   "id": "e646024c",
   "metadata": {},
   "source": [
    "<b>representation</b><br>\n",
    "You have to find x and y which minimize f(x,y) where x and y are positive integers less than 127"
   ]
  },
  {
   "cell_type": "code",
   "execution_count": 38,
   "id": "efe3e9a6",
   "metadata": {},
   "outputs": [],
   "source": [
    "def encode_two(s,n_bitstring):\n",
    "    x,y = s.split(\",\")\n",
    "    x = x.replace(\"(\",\"\")\n",
    "    y = y.replace(\")\",\"\")\n",
    "    encoded_x = convert_to_binarystring(int(x),7)\n",
    "    encoded_y = convert_to_binarystring(int(y),7)\n",
    "    return \"\".join([encoded_x,encoded_y])"
   ]
  },
  {
   "cell_type": "code",
   "execution_count": 39,
   "id": "432e1aab",
   "metadata": {},
   "outputs": [
    {
     "data": {
      "text/plain": [
       "'00000000000000'"
      ]
     },
     "execution_count": 39,
     "metadata": {},
     "output_type": "execute_result"
    }
   ],
   "source": [
    "encode_two(\"(0,0)\",7)"
   ]
  },
  {
   "cell_type": "code",
   "execution_count": 40,
   "id": "f32a0393",
   "metadata": {},
   "outputs": [
    {
     "data": {
      "text/plain": [
       "'00000010011101'"
      ]
     },
     "execution_count": 40,
     "metadata": {},
     "output_type": "execute_result"
    }
   ],
   "source": [
    "encode_two(\"(1,29)\",7)"
   ]
  },
  {
   "cell_type": "code",
   "execution_count": 41,
   "id": "6ea7561e",
   "metadata": {},
   "outputs": [
    {
     "data": {
      "text/plain": [
       "14"
      ]
     },
     "execution_count": 41,
     "metadata": {},
     "output_type": "execute_result"
    }
   ],
   "source": [
    "len(encode_two(\"(1,29)\",7))"
   ]
  },
  {
   "cell_type": "markdown",
   "id": "64299cc7",
   "metadata": {},
   "source": [
    "# Simple Genetic Algorithm\n",
    "\n",
    "### Selection: Roulette wheel"
   ]
  },
  {
   "cell_type": "markdown",
   "id": "c4551fd0",
   "metadata": {},
   "source": [
    "fitness(A) = 3<br>\n",
    "fitness(B) = 1<br>\n",
    "fitness(C) = 2<br>"
   ]
  },
  {
   "cell_type": "code",
   "execution_count": 43,
   "id": "8a843e1a",
   "metadata": {},
   "outputs": [
    {
     "name": "stdout",
     "output_type": "stream",
     "text": [
      "A should be with cosen with a probabiliy: 3/3+1+2 == 0.5\n",
      "B should be with cosen with a probabiliy: 1/3+1+2 == 0.16666666666666666\n",
      "C should be with cosen with a probabiliy: 2/3+1+2 == 0.3333333333333333\n"
     ]
    }
   ],
   "source": [
    "fitness = {\"A\":3, \"B\":1, \"C\":2}\n",
    "summ = 3+1+2\n",
    "for k,v in fitness.items():\n",
    "    print(\"{} should be with cosen with a probabiliy: {}/{} == {}\".format(k,v,\"3+1+2\",v/summ))"
   ]
  },
  {
   "cell_type": "markdown",
   "id": "302a0952",
   "metadata": {},
   "source": [
    "### Crossover/Recombination: 1-point crossover"
   ]
  },
  {
   "cell_type": "code",
   "execution_count": 62,
   "id": "c37e3bb5",
   "metadata": {},
   "outputs": [],
   "source": [
    "import random\n",
    "def one_point_crossover(p1,p2):\n",
    "    assert len(p1) == len(p2)\n",
    "    n = random.randint(0, len(p1)-1)\n",
    "    \n",
    "    child1 = \"\".join([p1[:n],p2[n:]])#offspring1\n",
    "    child2 = \"\".join([p1[n:],p2[:n]])#offspring2\n",
    "    return child1, child2"
   ]
  },
  {
   "cell_type": "code",
   "execution_count": 63,
   "id": "cc30717b",
   "metadata": {},
   "outputs": [
    {
     "data": {
      "text/plain": [
       "('0000', '1111')"
      ]
     },
     "execution_count": 63,
     "metadata": {},
     "output_type": "execute_result"
    }
   ],
   "source": [
    "one_point_crossover(\"0001\",\"1110\")"
   ]
  },
  {
   "cell_type": "code",
   "execution_count": 64,
   "id": "4a9f3f3a",
   "metadata": {},
   "outputs": [
    {
     "data": {
      "text/plain": [
       "('000110', '111100')"
      ]
     },
     "execution_count": 64,
     "metadata": {},
     "output_type": "execute_result"
    }
   ],
   "source": [
    "one_point_crossover(\"000111\",\"110010\")"
   ]
  },
  {
   "cell_type": "markdown",
   "id": "dfbd6e0f",
   "metadata": {},
   "source": [
    "### Mutation"
   ]
  },
  {
   "cell_type": "code",
   "execution_count": 75,
   "id": "72810e09",
   "metadata": {},
   "outputs": [],
   "source": [
    "def split(word):\n",
    "    return [char for char in word]"
   ]
  },
  {
   "cell_type": "code",
   "execution_count": 80,
   "id": "da4af874",
   "metadata": {},
   "outputs": [],
   "source": [
    "def mutation(offspring1, offspring2):\n",
    "    p = random.random()\n",
    "    assert len(offspring1) == len(offspring2)\n",
    "    if p> 0.9:\n",
    "        n = random.randint(0,len(offspring1)-1)\n",
    "        offspring1 = split(offspring1)\n",
    "        offspring2 = split(offspring2)\n",
    "        if offspring1[n] == '0':\n",
    "            offspring1 = split(offspring1)\n",
    "            offspring1[n] = '1'\n",
    "        else:\n",
    "            offspring1[n] = '0'\n",
    "        \n",
    "        if offspring2[n] == '0':\n",
    "            offspring2[n] = '1'\n",
    "        else:\n",
    "            offspring2[n] = '0'\n",
    "        offspring1 = \"\".join(offspring1)\n",
    "        offspring2 = \"\".join(offspring2)\n",
    "        return offspring1, offspring2\n",
    "    else:\n",
    "        return offspring1, offspring2"
   ]
  },
  {
   "cell_type": "code",
   "execution_count": 81,
   "id": "f0b29211",
   "metadata": {},
   "outputs": [
    {
     "data": {
      "text/plain": [
       "('000111', '110010')"
      ]
     },
     "execution_count": 81,
     "metadata": {},
     "output_type": "execute_result"
    }
   ],
   "source": [
    "mutation(\"000111\",\"110010\")"
   ]
  },
  {
   "cell_type": "markdown",
   "id": "bb3f895e",
   "metadata": {},
   "source": [
    "## Example\n",
    "\n",
    "Find x which maximizes f(x)\n",
    "- x is an integer, 0 <= x <= 31"
   ]
  },
  {
   "cell_type": "code",
   "execution_count": null,
   "id": "817cfc6f",
   "metadata": {},
   "outputs": [],
   "source": []
  }
 ],
 "metadata": {
  "kernelspec": {
   "display_name": "Python 3",
   "language": "python",
   "name": "python3"
  },
  "language_info": {
   "codemirror_mode": {
    "name": "ipython",
    "version": 3
   },
   "file_extension": ".py",
   "mimetype": "text/x-python",
   "name": "python",
   "nbconvert_exporter": "python",
   "pygments_lexer": "ipython3",
   "version": "3.9.5"
  }
 },
 "nbformat": 4,
 "nbformat_minor": 5
}
