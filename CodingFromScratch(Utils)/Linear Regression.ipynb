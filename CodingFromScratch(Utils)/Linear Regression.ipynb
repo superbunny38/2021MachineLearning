{
 "cells": [
  {
   "cell_type": "code",
   "execution_count": 168,
   "id": "bd5dc854",
   "metadata": {},
   "outputs": [],
   "source": [
    "data = ((2,2),(3,4),(6,4),(7,9),(8,10),(10,6),(14,10),(15,13),(16,18),(17,14),(18,16))"
   ]
  },
  {
   "cell_type": "code",
   "execution_count": 169,
   "id": "ada85729",
   "metadata": {},
   "outputs": [
    {
     "name": "stdout",
     "output_type": "stream",
     "text": [
      "2 2\n",
      "3 4\n",
      "6 4\n",
      "7 9\n",
      "8 10\n",
      "10 6\n",
      "14 10\n",
      "15 13\n",
      "16 18\n",
      "17 14\n",
      "18 16\n"
     ]
    }
   ],
   "source": [
    "x = []\n",
    "y = []\n",
    "for x_,y_ in data:\n",
    "    print(x_,y_)\n",
    "    x.append(x_)\n",
    "    y.append(y_)\n",
    "original_x = x"
   ]
  },
  {
   "cell_type": "code",
   "execution_count": 76,
   "id": "97d35f2d",
   "metadata": {},
   "outputs": [
    {
     "data": {
      "text/plain": [
       "[<matplotlib.lines.Line2D at 0x250b7ca0b80>]"
      ]
     },
     "execution_count": 76,
     "metadata": {},
     "output_type": "execute_result"
    },
    {
     "data": {
      "image/png": "[encoded data removed]",
      "text/plain": [
       "<Figure size 432x288 with 1 Axes>"
      ]
     },
     "metadata": {
      "needs_background": "light"
     },
     "output_type": "display_data"
    }
   ],
   "source": [
    "import matplotlib.pyplot as plt\n",
    "plt.plot(x,y,'o')"
   ]
  },
  {
   "cell_type": "markdown",
   "id": "b78f0b60",
   "metadata": {},
   "source": [
    "# 1차 방정식 풀이\n",
    "## Example 1\n",
    "### 코딩 풀이\n",
    "$$ y = w_0 + w_1x$$\n",
    "find w_0, w_1"
   ]
  },
  {
   "cell_type": "code",
   "execution_count": 26,
   "id": "7b43bc6f",
   "metadata": {},
   "outputs": [],
   "source": [
    "import pandas as pd\n",
    "import numpy as np\n",
    "\n",
    "import torch\n",
    "from torch import nn\n",
    "\n",
    "#음? 파이토치로 하면 random 껴서 정확하게 안 나옴\n",
    "from sklearn.linear_model import LinearRegression"
   ]
  },
  {
   "cell_type": "code",
   "execution_count": 44,
   "id": "9317eeb2",
   "metadata": {},
   "outputs": [],
   "source": [
    "x = np.array(x).reshape(-1,1)"
   ]
  },
  {
   "cell_type": "code",
   "execution_count": 33,
   "id": "50a117d9",
   "metadata": {},
   "outputs": [],
   "source": [
    "reg = LinearRegression().fit(x, y)"
   ]
  },
  {
   "cell_type": "code",
   "execution_count": 34,
   "id": "fcacb252",
   "metadata": {},
   "outputs": [
    {
     "data": {
      "text/plain": [
       "array([0.8340708])"
      ]
     },
     "execution_count": 34,
     "metadata": {},
     "output_type": "execute_result"
    }
   ],
   "source": [
    "reg.coef_"
   ]
  },
  {
   "cell_type": "code",
   "execution_count": 35,
   "id": "08440ca9",
   "metadata": {},
   "outputs": [
    {
     "data": {
      "text/plain": [
       "0.8407079646017674"
      ]
     },
     "execution_count": 35,
     "metadata": {},
     "output_type": "execute_result"
    }
   ],
   "source": [
    "reg.intercept_"
   ]
  },
  {
   "cell_type": "code",
   "execution_count": 37,
   "id": "ff7a10fb",
   "metadata": {},
   "outputs": [
    {
     "name": "stdout",
     "output_type": "stream",
     "text": [
      "w_0: 0.8407079646017674\n",
      "w_1: [0.8340708]\n"
     ]
    }
   ],
   "source": [
    "print(\"w_0:\",reg.intercept_)\n",
    "print(\"w_1:\",reg.coef_)"
   ]
  },
  {
   "cell_type": "markdown",
   "id": "31a27b66",
   "metadata": {},
   "source": [
    "### 행렬 풀이\n",
    "\n",
    "$$A = X^{T}X$$\n",
    "$$b = X^{T}Y$$\n",
    "$$w = (A)^{-1}(b)$$"
   ]
  },
  {
   "cell_type": "code",
   "execution_count": 58,
   "id": "e6c0c8cc",
   "metadata": {},
   "outputs": [],
   "source": [
    "x = [[1,_] for _ in original_x]"
   ]
  },
  {
   "cell_type": "code",
   "execution_count": 59,
   "id": "579a2cde",
   "metadata": {},
   "outputs": [
    {
     "data": {
      "text/plain": [
       "[[1, 2],\n",
       " [1, 3],\n",
       " [1, 6],\n",
       " [1, 7],\n",
       " [1, 8],\n",
       " [1, 10],\n",
       " [1, 14],\n",
       " [1, 15],\n",
       " [1, 16],\n",
       " [1, 17],\n",
       " [1, 18]]"
      ]
     },
     "execution_count": 59,
     "metadata": {},
     "output_type": "execute_result"
    }
   ],
   "source": [
    "x"
   ]
  },
  {
   "cell_type": "code",
   "execution_count": 55,
   "id": "c9718e5a",
   "metadata": {},
   "outputs": [
    {
     "data": {
      "text/plain": [
       "[2, 4, 4, 9, 10, 6, 10, 13, 18, 14, 16]"
      ]
     },
     "execution_count": 55,
     "metadata": {},
     "output_type": "execute_result"
    }
   ],
   "source": [
    "y"
   ]
  },
  {
   "cell_type": "code",
   "execution_count": 62,
   "id": "51f7a064",
   "metadata": {},
   "outputs": [
    {
     "data": {
      "text/plain": [
       "array([[  11,  116],\n",
       "       [ 116, 1552]])"
      ]
     },
     "execution_count": 62,
     "metadata": {},
     "output_type": "execute_result"
    }
   ],
   "source": [
    "x = np.array(x)\n",
    "A = np.dot(x.T,x)\n",
    "A"
   ]
  },
  {
   "cell_type": "code",
   "execution_count": 65,
   "id": "a853c0f4",
   "metadata": {},
   "outputs": [
    {
     "data": {
      "text/plain": [
       "array([ 106, 1392])"
      ]
     },
     "execution_count": 65,
     "metadata": {},
     "output_type": "execute_result"
    }
   ],
   "source": [
    "b = np.dot(x.T,y)\n",
    "b"
   ]
  },
  {
   "cell_type": "code",
   "execution_count": 67,
   "id": "ab67b01d",
   "metadata": {},
   "outputs": [
    {
     "data": {
      "text/plain": [
       "array([0.84070796, 0.8340708 ])"
      ]
     },
     "execution_count": 67,
     "metadata": {},
     "output_type": "execute_result"
    }
   ],
   "source": [
    "inv_A = np.linalg.inv(A)\n",
    "w = np.dot(inv_A,b)\n",
    "w#intercept, coefficient"
   ]
  },
  {
   "cell_type": "markdown",
   "id": "0c4e26bf",
   "metadata": {},
   "source": [
    "# Additive Linear Model"
   ]
  },
  {
   "cell_type": "markdown",
   "id": "0e53f826",
   "metadata": {},
   "source": [
    "## Example 2\n",
    "Find the 3rd order Polynomial which best fits the data\n",
    "\n",
    "$$ f(x) = w_0 + w_1h_1(x) + w_2h_2(x) + w_3h_3(x)$$ \n",
    "<tab>where</tab>, $h_1(x) = x, h_2(x) = x^2, h_3(x) = x^3$\n",
    "\n",
    "$$w = (H^TH)^{-1}(H^TY)$$"
   ]
  },
  {
   "cell_type": "code",
   "execution_count": 99,
   "id": "2122cf3b",
   "metadata": {},
   "outputs": [
    {
     "data": {
      "text/plain": [
       "[2, 3, 6, 7, 8, 10, 14, 15, 16, 17, 18]"
      ]
     },
     "execution_count": 99,
     "metadata": {},
     "output_type": "execute_result"
    }
   ],
   "source": [
    "x"
   ]
  },
  {
   "cell_type": "code",
   "execution_count": 100,
   "id": "00ec4d07",
   "metadata": {},
   "outputs": [
    {
     "data": {
      "text/plain": [
       "[2, 4, 4, 9, 10, 6, 10, 13, 18, 14, 16]"
      ]
     },
     "execution_count": 100,
     "metadata": {},
     "output_type": "execute_result"
    }
   ],
   "source": [
    "y"
   ]
  },
  {
   "cell_type": "code",
   "execution_count": 101,
   "id": "47666de4",
   "metadata": {},
   "outputs": [],
   "source": [
    "def h_0(x):\n",
    "    return 1\n",
    "\n",
    "def h_1(x):\n",
    "    return x\n",
    "\n",
    "def h_2(x):\n",
    "    return x**2\n",
    "\n",
    "def h_3(x):\n",
    "    return x**3"
   ]
  },
  {
   "cell_type": "code",
   "execution_count": 102,
   "id": "f696e1e5",
   "metadata": {},
   "outputs": [],
   "source": [
    "H = [[h_0(_),h_1(_),h_2(_),h_3(_)] for _ in x]"
   ]
  },
  {
   "cell_type": "code",
   "execution_count": 103,
   "id": "d22c75ce",
   "metadata": {},
   "outputs": [
    {
     "data": {
      "text/plain": [
       "[[1, 2, 4, 8],\n",
       " [1, 3, 9, 27],\n",
       " [1, 6, 36, 216],\n",
       " [1, 7, 49, 343],\n",
       " [1, 8, 64, 512],\n",
       " [1, 10, 100, 1000],\n",
       " [1, 14, 196, 2744],\n",
       " [1, 15, 225, 3375],\n",
       " [1, 16, 256, 4096],\n",
       " [1, 17, 289, 4913],\n",
       " [1, 18, 324, 5832]]"
      ]
     },
     "execution_count": 103,
     "metadata": {},
     "output_type": "execute_result"
    }
   ],
   "source": [
    "H"
   ]
  },
  {
   "cell_type": "markdown",
   "id": "60ed4d77",
   "metadata": {},
   "source": [
    "$A= (H^TH)^-1$"
   ]
  },
  {
   "cell_type": "code",
   "execution_count": 105,
   "id": "2cb05b82",
   "metadata": {},
   "outputs": [],
   "source": [
    "H = np.array(H)\n",
    "A = np.dot(H.T,H)\n",
    "A = np.linalg.inv(A)"
   ]
  },
  {
   "cell_type": "markdown",
   "id": "b1299b3e",
   "metadata": {},
   "source": [
    "$B = (H^TY)$"
   ]
  },
  {
   "cell_type": "code",
   "execution_count": 107,
   "id": "483e9266",
   "metadata": {},
   "outputs": [
    {
     "data": {
      "text/plain": [
       "array([   106,   1392,  20592, 322332])"
      ]
     },
     "execution_count": 107,
     "metadata": {},
     "output_type": "execute_result"
    }
   ],
   "source": [
    "B = np.dot(H.T, y)\n",
    "B"
   ]
  },
  {
   "cell_type": "markdown",
   "id": "de6ad22e",
   "metadata": {},
   "source": [
    "$w$"
   ]
  },
  {
   "cell_type": "code",
   "execution_count": 108,
   "id": "97de8df5",
   "metadata": {},
   "outputs": [],
   "source": [
    "w = np.dot(A,B)"
   ]
  },
  {
   "cell_type": "code",
   "execution_count": 109,
   "id": "3aeb7dca",
   "metadata": {},
   "outputs": [
    {
     "data": {
      "text/plain": [
       "array([-0.63135296,  1.71346443, -0.12190118,  0.00448165])"
      ]
     },
     "execution_count": 109,
     "metadata": {},
     "output_type": "execute_result"
    }
   ],
   "source": [
    "w"
   ]
  },
  {
   "cell_type": "code",
   "execution_count": 110,
   "id": "c7d618c8",
   "metadata": {},
   "outputs": [],
   "source": [
    "w_0 = w[0]\n",
    "w_1 = w[1]\n",
    "w_2 = w[2]\n",
    "w_3 = w[3]"
   ]
  },
  {
   "cell_type": "code",
   "execution_count": 120,
   "id": "1f1a9533",
   "metadata": {},
   "outputs": [
    {
     "data": {
      "text/plain": [
       "[<matplotlib.lines.Line2D at 0x250bb636640>]"
      ]
     },
     "execution_count": 120,
     "metadata": {},
     "output_type": "execute_result"
    },
    {
     "data": {
      "image/png": "[encoded data removed]",
      "text/plain": [
       "<Figure size 432x288 with 1 Axes>"
      ]
     },
     "metadata": {
      "needs_background": "light"
     },
     "output_type": "display_data"
    }
   ],
   "source": [
    "import matplotlib.pyplot as plt\n",
    "plt.plot(x,y,'o')\n",
    "x_axis = np.linspace(2,18,200)\n",
    "line = [w_0+w_1*x+w_2*x**2+w_3*x**3 for x in x_axis]\n",
    "plt.plot(x_axis,line)"
   ]
  },
  {
   "cell_type": "markdown",
   "id": "f4c24739",
   "metadata": {},
   "source": [
    "## Example 3\n",
    "$$f(x) = w_0 + w_1h_1(x)+ w_2h_2(x)$$\n",
    "where $h_1(x) = x, h_2(x) = sin(ax)$"
   ]
  },
  {
   "cell_type": "code",
   "execution_count": 151,
   "id": "36089d37",
   "metadata": {},
   "outputs": [],
   "source": [
    "x = original_x"
   ]
  },
  {
   "cell_type": "code",
   "execution_count": 152,
   "id": "3724c4c7",
   "metadata": {},
   "outputs": [],
   "source": [
    "import math\n",
    "def h_0(x):\n",
    "    return 1\n",
    "def h_1(x):\n",
    "    return x\n",
    "def h_2(x):\n",
    "    return math.sin(x)"
   ]
  },
  {
   "cell_type": "code",
   "execution_count": 153,
   "id": "97a51043",
   "metadata": {},
   "outputs": [],
   "source": [
    "H = [[h_0(_),h_1(_),h_2(_)] for _ in x]"
   ]
  },
  {
   "cell_type": "code",
   "execution_count": 154,
   "id": "f3eb836b",
   "metadata": {},
   "outputs": [],
   "source": [
    "H = np.array(H)\n",
    "A = np.dot(H.T,H)\n",
    "A = np.linalg.inv(A)"
   ]
  },
  {
   "cell_type": "code",
   "execution_count": 155,
   "id": "b7a3fcb7",
   "metadata": {},
   "outputs": [
    {
     "data": {
      "text/plain": [
       "array([ 106.        , 1392.        ,    1.50994303])"
      ]
     },
     "execution_count": 155,
     "metadata": {},
     "output_type": "execute_result"
    }
   ],
   "source": [
    "B = np.dot(H.T, y)\n",
    "B"
   ]
  },
  {
   "cell_type": "code",
   "execution_count": 156,
   "id": "a9ad3ebe",
   "metadata": {},
   "outputs": [
    {
     "data": {
      "text/plain": [
       "array([0.32877088, 0.87373928, 0.68019117])"
      ]
     },
     "execution_count": 156,
     "metadata": {},
     "output_type": "execute_result"
    }
   ],
   "source": [
    "w = np.dot(A,B)\n",
    "w"
   ]
  },
  {
   "cell_type": "code",
   "execution_count": 157,
   "id": "4fae7b29",
   "metadata": {},
   "outputs": [],
   "source": [
    "w_0 = w[0]\n",
    "w_1 = w[1]\n",
    "w_2 = w[2]"
   ]
  },
  {
   "cell_type": "code",
   "execution_count": 158,
   "id": "caaf4c5a",
   "metadata": {},
   "outputs": [
    {
     "data": {
      "text/plain": [
       "[<matplotlib.lines.Line2D at 0x250bb891700>]"
      ]
     },
     "execution_count": 158,
     "metadata": {},
     "output_type": "execute_result"
    },
    {
     "data": {
      "image/png": "[encoded data removed]",
      "text/plain": [
       "<Figure size 432x288 with 1 Axes>"
      ]
     },
     "metadata": {
      "needs_background": "light"
     },
     "output_type": "display_data"
    }
   ],
   "source": [
    "import matplotlib.pyplot as plt\n",
    "plt.plot(x,y,'o')\n",
    "x_axis = np.linspace(2,18,500)\n",
    "line = [w_0+w_1*h_1(x)+w_2*h_2(x) for x in x_axis]\n",
    "plt.plot(x_axis,line)"
   ]
  },
  {
   "cell_type": "markdown",
   "id": "51694ea3",
   "metadata": {},
   "source": [
    "## Example 4: Kernel Regression\n",
    "$$f(x) = w_0 + w_1h_1(x) + w_2h_2(x) + w_3h_3(x)$$\n",
    "\n",
    "where, $h_1(x) = exp(\\frac{-(x-1)^2}{18}),h_2(x) = exp(\\frac{-(x-9)^2}{18}),h_3(x) = exp(\\frac{-(x-18)^2}{18})$"
   ]
  },
  {
   "cell_type": "code",
   "execution_count": 171,
   "id": "0361d0c7",
   "metadata": {},
   "outputs": [],
   "source": [
    "x = original_x"
   ]
  },
  {
   "cell_type": "code",
   "execution_count": 172,
   "id": "80950191",
   "metadata": {},
   "outputs": [],
   "source": [
    "import math\n",
    "\n",
    "def h_0(x):\n",
    "    return 1\n",
    "\n",
    "def h_1(x):\n",
    "    return math.exp(-(x-1)**2/18)\n",
    "\n",
    "def h_2(x):\n",
    "    return math.exp(-(x-9)**2/18)\n",
    "\n",
    "def h_3(x):\n",
    "    return math.exp(-(x-18)**2/18)"
   ]
  },
  {
   "cell_type": "code",
   "execution_count": 173,
   "id": "e489a6c9",
   "metadata": {},
   "outputs": [],
   "source": [
    "H = [[h_0(_),h_1(_),h_2(_),h_3(_)] for _ in x]"
   ]
  },
  {
   "cell_type": "code",
   "execution_count": 174,
   "id": "871e3023",
   "metadata": {},
   "outputs": [
    {
     "data": {
      "text/plain": [
       "array([[ 6.51664581, -6.69965932, -7.00917844, -7.35037506],\n",
       "       [-6.69965932,  7.54009654,  7.09201056,  7.56801328],\n",
       "       [-7.00917844,  7.09201056,  7.90651972,  7.86921576],\n",
       "       [-7.35037506,  7.56801328,  7.86921576,  8.61977172]])"
      ]
     },
     "execution_count": 174,
     "metadata": {},
     "output_type": "execute_result"
    }
   ],
   "source": [
    "H = np.array(H)\n",
    "A = np.dot(H.T,H)\n",
    "A = np.linalg.inv(A)\n",
    "A"
   ]
  },
  {
   "cell_type": "code",
   "execution_count": 175,
   "id": "370f88b0",
   "metadata": {},
   "outputs": [
    {
     "data": {
      "text/plain": [
       "array([106.        ,   8.03539143,  31.4545642 ,  55.87497233])"
      ]
     },
     "execution_count": 175,
     "metadata": {},
     "output_type": "execute_result"
    }
   ],
   "source": [
    "B = np.dot(H.T, y)\n",
    "B"
   ]
  },
  {
   "cell_type": "code",
   "execution_count": 176,
   "id": "7a913a30",
   "metadata": {},
   "outputs": [
    {
     "data": {
      "text/plain": [
       "array([ 5.75741455, -3.63762643,  2.40251132, 10.82445112])"
      ]
     },
     "execution_count": 176,
     "metadata": {},
     "output_type": "execute_result"
    }
   ],
   "source": [
    "w = np.dot(A,B)\n",
    "w"
   ]
  },
  {
   "cell_type": "code",
   "execution_count": 177,
   "id": "3031abb8",
   "metadata": {},
   "outputs": [],
   "source": [
    "w_0 = w[0]\n",
    "w_1 = w[1]\n",
    "w_2 = w[2]\n",
    "w_3 = w[3]"
   ]
  },
  {
   "cell_type": "code",
   "execution_count": 181,
   "id": "1a396d79",
   "metadata": {},
   "outputs": [
    {
     "data": {
      "text/plain": [
       "[<matplotlib.lines.Line2D at 0x250bb4d7dc0>]"
      ]
     },
     "execution_count": 181,
     "metadata": {},
     "output_type": "execute_result"
    },
    {
     "data": {
      "image/png": "[encoded data removed]",
      "text/plain": [
       "<Figure size 432x288 with 1 Axes>"
      ]
     },
     "metadata": {
      "needs_background": "light"
     },
     "output_type": "display_data"
    }
   ],
   "source": [
    "import matplotlib.pyplot as plt\n",
    "plt.plot(x,y,'o')\n",
    "x_axis = np.linspace(2,20,5000)\n",
    "line = [w_0+w_1*h_1(x)+w_2*h_2(x) for x in x_axis]\n",
    "plt.plot(x_axis,line)"
   ]
  },
  {
   "cell_type": "markdown",
   "id": "e92186bb",
   "metadata": {},
   "source": [
    "# Maximum Likelihood Estimation"
   ]
  },
  {
   "cell_type": "code",
   "execution_count": null,
   "id": "15359a1c",
   "metadata": {},
   "outputs": [],
   "source": []
  }
 ],
 "metadata": {
  "kernelspec": {
   "display_name": "Python 3",
   "language": "python",
   "name": "python3"
  },
  "language_info": {
   "codemirror_mode": {
    "name": "ipython",
    "version": 3
   },
   "file_extension": ".py",
   "mimetype": "text/x-python",
   "name": "python",
   "nbconvert_exporter": "python",
   "pygments_lexer": "ipython3",
   "version": "3.9.5"
  }
 },
 "nbformat": 4,
 "nbformat_minor": 5
}
