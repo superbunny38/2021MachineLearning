{
 "cells": [
  {
   "cell_type": "code",
   "execution_count": 1,
   "id": "f8490cc3",
   "metadata": {},
   "outputs": [],
   "source": [
    "import matplotlib.pyplot as plt\n",
    "import numpy as np\n",
    "import pandas as pd\n",
    "import math"
   ]
  },
  {
   "cell_type": "markdown",
   "id": "839957a7",
   "metadata": {},
   "source": [
    "# Principal Component Analysis"
   ]
  },
  {
   "cell_type": "markdown",
   "id": "2b3cd763",
   "metadata": {},
   "source": [
    "### Example\n",
    "\n",
    "Step1: Data $\\rightarrow$Adjusted Data(data-mean)"
   ]
  },
  {
   "cell_type": "code",
   "execution_count": 108,
   "id": "db1ebedc",
   "metadata": {},
   "outputs": [
    {
     "data": {
      "text/html": [
       "<div>\n",
       "<style scoped>\n",
       "    .dataframe tbody tr th:only-of-type {\n",
       "        vertical-align: middle;\n",
       "    }\n",
       "\n",
       "    .dataframe tbody tr th {\n",
       "        vertical-align: top;\n",
       "    }\n",
       "\n",
       "    .dataframe thead th {\n",
       "        text-align: right;\n",
       "    }\n",
       "</style>\n",
       "<table border=\"1\" class=\"dataframe\">\n",
       "  <thead>\n",
       "    <tr style=\"text-align: right;\">\n",
       "      <th></th>\n",
       "      <th>x</th>\n",
       "      <th>y</th>\n",
       "    </tr>\n",
       "  </thead>\n",
       "  <tbody>\n",
       "    <tr>\n",
       "      <th>0</th>\n",
       "      <td>2.5</td>\n",
       "      <td>2.4</td>\n",
       "    </tr>\n",
       "    <tr>\n",
       "      <th>1</th>\n",
       "      <td>0.5</td>\n",
       "      <td>0.7</td>\n",
       "    </tr>\n",
       "    <tr>\n",
       "      <th>2</th>\n",
       "      <td>2.2</td>\n",
       "      <td>2.9</td>\n",
       "    </tr>\n",
       "    <tr>\n",
       "      <th>3</th>\n",
       "      <td>1.9</td>\n",
       "      <td>2.2</td>\n",
       "    </tr>\n",
       "    <tr>\n",
       "      <th>4</th>\n",
       "      <td>3.1</td>\n",
       "      <td>3.0</td>\n",
       "    </tr>\n",
       "    <tr>\n",
       "      <th>5</th>\n",
       "      <td>2.3</td>\n",
       "      <td>2.7</td>\n",
       "    </tr>\n",
       "    <tr>\n",
       "      <th>6</th>\n",
       "      <td>2.0</td>\n",
       "      <td>1.6</td>\n",
       "    </tr>\n",
       "    <tr>\n",
       "      <th>7</th>\n",
       "      <td>1.0</td>\n",
       "      <td>1.1</td>\n",
       "    </tr>\n",
       "    <tr>\n",
       "      <th>8</th>\n",
       "      <td>1.5</td>\n",
       "      <td>1.6</td>\n",
       "    </tr>\n",
       "    <tr>\n",
       "      <th>9</th>\n",
       "      <td>1.1</td>\n",
       "      <td>0.9</td>\n",
       "    </tr>\n",
       "  </tbody>\n",
       "</table>\n",
       "</div>"
      ],
      "text/plain": [
       "     x    y\n",
       "0  2.5  2.4\n",
       "1  0.5  0.7\n",
       "2  2.2  2.9\n",
       "3  1.9  2.2\n",
       "4  3.1  3.0\n",
       "5  2.3  2.7\n",
       "6  2.0  1.6\n",
       "7  1.0  1.1\n",
       "8  1.5  1.6\n",
       "9  1.1  0.9"
      ]
     },
     "execution_count": 108,
     "metadata": {},
     "output_type": "execute_result"
    }
   ],
   "source": [
    "x = [2.5,0.5,2.2,1.9,3.1,2.3,2,1,1.5,1.1]\n",
    "y = [2.4,0.7,2.9,2.2,3.0,2.7,1.6,1.1,1.6,0.9]\n",
    "original_data = pd.DataFrame({\"x\":x, \"y\":y})\n",
    "original_data"
   ]
  },
  {
   "cell_type": "code",
   "execution_count": 111,
   "id": "bfcb7549",
   "metadata": {},
   "outputs": [
    {
     "data": {
      "image/png": "[encoded data removed]",
      "text/plain": [
       "<Figure size 432x288 with 1 Axes>"
      ]
     },
     "metadata": {
      "needs_background": "light"
     },
     "output_type": "display_data"
    }
   ],
   "source": [
    "#Data\n",
    "x = [2.5,0.5,2.2,1.9,3.1,2.3,2,1,1.5,1.1]\n",
    "y = [2.4,0.7,2.9,2.2,3.0,2.7,1.6,1.1,1.6,0.9]\n",
    "plt.scatter(x,y)\n",
    "plt.xlim([-1, 4])\n",
    "plt.ylim([-1, 4])\n",
    "plt.axhline(0, color='gray')\n",
    "plt.axvline(0, color='gray')\n",
    "plt.title(\"Original PCA data\")\n",
    "plt.show()"
   ]
  },
  {
   "cell_type": "markdown",
   "id": "670066a9",
   "metadata": {},
   "source": [
    "adjusted = $X^T$"
   ]
  },
  {
   "cell_type": "code",
   "execution_count": 112,
   "id": "8cffe4f2",
   "metadata": {},
   "outputs": [
    {
     "data": {
      "image/png": "[encoded data removed]",
      "text/plain": [
       "<Figure size 432x288 with 1 Axes>"
      ]
     },
     "metadata": {
      "needs_background": "light"
     },
     "output_type": "display_data"
    }
   ],
   "source": [
    "adjusted_x = x- np.mean(x)\n",
    "adjusted_y = y - np.mean(y)\n",
    "plt.scatter(adjusted_x,adjusted_y)\n",
    "plt.xlim([-4, 4])\n",
    "plt.ylim([-4,4])\n",
    "plt.axhline(0, color='gray')\n",
    "plt.axvline(0, color='gray')\n",
    "plt.show()"
   ]
  },
  {
   "cell_type": "code",
   "execution_count": 224,
   "id": "c3ff140d",
   "metadata": {},
   "outputs": [],
   "source": [
    "df = [[6,-3,-2,7],[-4,5,6,-3]]"
   ]
  },
  {
   "cell_type": "code",
   "execution_count": 226,
   "id": "5ed2bd01",
   "metadata": {},
   "outputs": [
    {
     "data": {
      "text/plain": [
       "1.3333333333333357"
      ]
     },
     "execution_count": 226,
     "metadata": {},
     "output_type": "execute_result"
    }
   ],
   "source": [
    "import numpy as np\n",
    "np.sum(np.cov(df))"
   ]
  },
  {
   "cell_type": "code",
   "execution_count": 113,
   "id": "36bbc5ab",
   "metadata": {},
   "outputs": [
    {
     "data": {
      "text/html": [
       "<div>\n",
       "<style scoped>\n",
       "    .dataframe tbody tr th:only-of-type {\n",
       "        vertical-align: middle;\n",
       "    }\n",
       "\n",
       "    .dataframe tbody tr th {\n",
       "        vertical-align: top;\n",
       "    }\n",
       "\n",
       "    .dataframe thead th {\n",
       "        text-align: right;\n",
       "    }\n",
       "</style>\n",
       "<table border=\"1\" class=\"dataframe\">\n",
       "  <thead>\n",
       "    <tr style=\"text-align: right;\">\n",
       "      <th></th>\n",
       "      <th>x</th>\n",
       "      <th>y</th>\n",
       "    </tr>\n",
       "  </thead>\n",
       "  <tbody>\n",
       "    <tr>\n",
       "      <th>0</th>\n",
       "      <td>0.69</td>\n",
       "      <td>0.49</td>\n",
       "    </tr>\n",
       "    <tr>\n",
       "      <th>1</th>\n",
       "      <td>-1.31</td>\n",
       "      <td>-1.21</td>\n",
       "    </tr>\n",
       "    <tr>\n",
       "      <th>2</th>\n",
       "      <td>0.39</td>\n",
       "      <td>0.99</td>\n",
       "    </tr>\n",
       "    <tr>\n",
       "      <th>3</th>\n",
       "      <td>0.09</td>\n",
       "      <td>0.29</td>\n",
       "    </tr>\n",
       "    <tr>\n",
       "      <th>4</th>\n",
       "      <td>1.29</td>\n",
       "      <td>1.09</td>\n",
       "    </tr>\n",
       "    <tr>\n",
       "      <th>5</th>\n",
       "      <td>0.49</td>\n",
       "      <td>0.79</td>\n",
       "    </tr>\n",
       "    <tr>\n",
       "      <th>6</th>\n",
       "      <td>0.19</td>\n",
       "      <td>-0.31</td>\n",
       "    </tr>\n",
       "    <tr>\n",
       "      <th>7</th>\n",
       "      <td>-0.81</td>\n",
       "      <td>-0.81</td>\n",
       "    </tr>\n",
       "    <tr>\n",
       "      <th>8</th>\n",
       "      <td>-0.31</td>\n",
       "      <td>-0.31</td>\n",
       "    </tr>\n",
       "    <tr>\n",
       "      <th>9</th>\n",
       "      <td>-0.71</td>\n",
       "      <td>-1.01</td>\n",
       "    </tr>\n",
       "  </tbody>\n",
       "</table>\n",
       "</div>"
      ],
      "text/plain": [
       "      x     y\n",
       "0  0.69  0.49\n",
       "1 -1.31 -1.21\n",
       "2  0.39  0.99\n",
       "3  0.09  0.29\n",
       "4  1.29  1.09\n",
       "5  0.49  0.79\n",
       "6  0.19 -0.31\n",
       "7 -0.81 -0.81\n",
       "8 -0.31 -0.31\n",
       "9 -0.71 -1.01"
      ]
     },
     "execution_count": 113,
     "metadata": {},
     "output_type": "execute_result"
    }
   ],
   "source": [
    "DataAdjust = pd.DataFrame({\"x\":adjusted_x,\"y\":adjusted_y})#교안과 일치\n",
    "DataAdjust#X^T"
   ]
  },
  {
   "cell_type": "markdown",
   "id": "33e2aba9",
   "metadata": {},
   "source": [
    "Step2: Calculate the covariance matrix of X"
   ]
  },
  {
   "cell_type": "code",
   "execution_count": 221,
   "id": "a481290b",
   "metadata": {},
   "outputs": [],
   "source": [
    "X = DataAdjust.T"
   ]
  },
  {
   "cell_type": "code",
   "execution_count": 222,
   "id": "d973da82",
   "metadata": {},
   "outputs": [
    {
     "data": {
      "text/plain": [
       "array([[5.549, 5.539],\n",
       "       [5.539, 6.449]])"
      ]
     },
     "execution_count": 222,
     "metadata": {},
     "output_type": "execute_result"
    }
   ],
   "source": [
    "XXT = np.dot(X,X.T)#교안과 다름\n",
    "XXT"
   ]
  },
  {
   "cell_type": "code",
   "execution_count": 223,
   "id": "a7a7171c",
   "metadata": {},
   "outputs": [
    {
     "data": {
      "text/plain": [
       "array([[0.61655556, 0.61544444],\n",
       "       [0.61544444, 0.71655556]])"
      ]
     },
     "execution_count": 223,
     "metadata": {},
     "output_type": "execute_result"
    }
   ],
   "source": [
    "(1/9)*XXT"
   ]
  },
  {
   "cell_type": "code",
   "execution_count": 121,
   "id": "b7013bf4",
   "metadata": {},
   "outputs": [
    {
     "data": {
      "text/plain": [
       "array([[0.61655556, 0.61544444],\n",
       "       [0.61544444, 0.71655556]])"
      ]
     },
     "execution_count": 121,
     "metadata": {},
     "output_type": "execute_result"
    }
   ],
   "source": [
    "XXT = np.cov(X)#교안과 같음"
   ]
  },
  {
   "cell_type": "markdown",
   "id": "cf17e3e4",
   "metadata": {},
   "source": [
    "Step3: Calculate the eigenvectors and eigenvalues of $XX^T$"
   ]
  },
  {
   "cell_type": "code",
   "execution_count": 187,
   "id": "70e88de7",
   "metadata": {},
   "outputs": [
    {
     "name": "stdout",
     "output_type": "stream",
     "text": [
      "\n",
      "lambda 0(eigen value): 0.04908339893832736\n",
      "transposed eigen vector 0: [-0.6778734  -0.73517866]\n",
      "\n",
      "lambda 1(eigen value): 1.2840277121727839\n",
      "transposed eigen vector 1: [-0.73517866  0.6778734 ]\n"
     ]
    }
   ],
   "source": [
    "from numpy import linalg as LA\n",
    "w, v = LA.eig(XXT)\n",
    "S = [[],[]]#S는 V.T를 세로로 쭉쭉\n",
    "for _ in range(len(w)):\n",
    "    print(\"\\nlambda {}(eigen value): {}\".format(_,w[_]))\n",
    "    print(\"transposed eigen vector {}: {}\".format(_,v[_][::-1].T))#교안과 같게 맞춤 흑\n",
    "    S[0].append(v[_][::-1].T[0])\n",
    "    S[1].append(v[_][::-1].T[1])"
   ]
  },
  {
   "cell_type": "code",
   "execution_count": 188,
   "id": "1db556e2",
   "metadata": {},
   "outputs": [
    {
     "data": {
      "text/plain": [
       "[[-0.6778733985280117, -0.735178655544408],\n",
       " [-0.735178655544408, 0.6778733985280117]]"
      ]
     },
     "execution_count": 188,
     "metadata": {},
     "output_type": "execute_result"
    }
   ],
   "source": [
    "S"
   ]
  },
  {
   "cell_type": "code",
   "execution_count": 192,
   "id": "1b943e4a",
   "metadata": {},
   "outputs": [
    {
     "name": "stdout",
     "output_type": "stream",
     "text": [
      "w:\n",
      " [0.0490834  1.28402771]\n",
      "k: 1\n",
      "selected:\n",
      " [-0.73517866  0.6778734 ]\n"
     ]
    }
   ],
   "source": [
    "k = np.argmax(w)\n",
    "print(\"w:\\n\",w)\n",
    "print(\"k:\",k)\n",
    "print(\"selected:\\n\",v[k][::-1])"
   ]
  },
  {
   "cell_type": "code",
   "execution_count": 201,
   "id": "5ee96da2",
   "metadata": {},
   "outputs": [
    {
     "name": "stdout",
     "output_type": "stream",
     "text": [
      "[-0.6778734  -0.73517866]\n"
     ]
    },
    {
     "data": {
      "text/plain": [
       "array([-0.82797019,  1.77758033, -0.99219749, -0.27421042, -1.67580142,\n",
       "       -0.9129491 ,  0.09910944,  1.14457216,  0.43804614,  1.22382056])"
      ]
     },
     "execution_count": 201,
     "metadata": {},
     "output_type": "execute_result"
    }
   ],
   "source": [
    "tmp_Y = np.dot(v[0][::-1],X)\n",
    "print(v[0][::-1])\n",
    "tmp_Y"
   ]
  },
  {
   "cell_type": "code",
   "execution_count": 200,
   "id": "489a7576",
   "metadata": {},
   "outputs": [
    {
     "data": {
      "image/png": "[encoded data removed]",
      "text/plain": [
       "<Figure size 432x288 with 1 Axes>"
      ]
     },
     "metadata": {
      "needs_background": "light"
     },
     "output_type": "display_data"
    }
   ],
   "source": [
    "\n",
    "y = [0 for _ in range(10)]\n",
    "plt.scatter(tmp_Y,y)\n",
    "plt.xlim([-2, 2])\n",
    "plt.ylim([-2,2])\n",
    "plt.axhline(0, color='gray')\n",
    "plt.axvline(0, color='gray')\n",
    "plt.show()#교안과 다름"
   ]
  },
  {
   "cell_type": "code",
   "execution_count": 202,
   "id": "64891cc2",
   "metadata": {},
   "outputs": [],
   "source": [
    "#어쩔 수 없지\n",
    "P = v[0][::-1]\n",
    "plz_X = np.dot(P.T,Y)+np.mean(x)"
   ]
  },
  {
   "cell_type": "code",
   "execution_count": 203,
   "id": "920751ed",
   "metadata": {},
   "outputs": [
    {
     "data": {
      "text/plain": [
       "array([2.5, 0.5, 2.2, 1.9, 3.1, 2.3, 2. , 1. , 1.5, 1.1])"
      ]
     },
     "execution_count": 203,
     "metadata": {},
     "output_type": "execute_result"
    }
   ],
   "source": [
    "plz_X#원래 대로 나오긴 함"
   ]
  },
  {
   "cell_type": "code",
   "execution_count": 204,
   "id": "126f0109",
   "metadata": {},
   "outputs": [
    {
     "data": {
      "text/plain": [
       "[2.5, 0.5, 2.2, 1.9, 3.1, 2.3, 2, 1, 1.5, 1.1]"
      ]
     },
     "execution_count": 204,
     "metadata": {},
     "output_type": "execute_result"
    }
   ],
   "source": [
    "x"
   ]
  },
  {
   "cell_type": "code",
   "execution_count": 213,
   "id": "9afb2635",
   "metadata": {},
   "outputs": [],
   "source": [
    "plz_Y = np.dot(P,Y)"
   ]
  },
  {
   "cell_type": "code",
   "execution_count": 219,
   "id": "c42fc058",
   "metadata": {},
   "outputs": [
    {
     "data": {
      "image/png": "[encoded data removed]",
      "text/plain": [
       "<Figure size 432x288 with 1 Axes>"
      ]
     },
     "metadata": {
      "needs_background": "light"
     },
     "output_type": "display_data"
    }
   ],
   "source": [
    "plt.scatter(plz_X, plz_Y+np.mean(x))\n",
    "plt.xlim([-1, 4])\n",
    "plt.ylim([-1, 4])\n",
    "plt.axhline(0, color='gray')\n",
    "plt.axvline(0, color='gray')\n",
    "plt.show()#오.. 된 것 같긴 한데 왜지?"
   ]
  },
  {
   "cell_type": "code",
   "execution_count": 220,
   "id": "1e4cebe3",
   "metadata": {},
   "outputs": [
    {
     "data": {
      "image/png": "[encoded data removed]",
      "text/plain": [
       "<Figure size 432x288 with 1 Axes>"
      ]
     },
     "metadata": {
      "needs_background": "light"
     },
     "output_type": "display_data"
    }
   ],
   "source": [
    "#Data\n",
    "x = [2.5,0.5,2.2,1.9,3.1,2.3,2,1,1.5,1.1]\n",
    "y = [2.4,0.7,2.9,2.2,3.0,2.7,1.6,1.1,1.6,0.9]\n",
    "plt.scatter(x,y)\n",
    "plt.xlim([-1, 4])\n",
    "plt.ylim([-1, 4])\n",
    "plt.axhline(0, color='gray')\n",
    "plt.axvline(0, color='gray')\n",
    "plt.title(\"Original PCA data\")\n",
    "plt.show()"
   ]
  },
  {
   "cell_type": "markdown",
   "id": "e8ace6b4",
   "metadata": {},
   "source": [
    "$Y = PX$\n",
    "\n",
    "$P = S^T$"
   ]
  },
  {
   "cell_type": "code",
   "execution_count": 199,
   "id": "eeefcc45",
   "metadata": {},
   "outputs": [
    {
     "data": {
      "text/plain": [
       "array([[-0.6778734 , -0.73517866],\n",
       "       [-0.73517866,  0.6778734 ]])"
      ]
     },
     "execution_count": 199,
     "metadata": {},
     "output_type": "execute_result"
    }
   ],
   "source": [
    "S = np.array(S)\n",
    "P = S.T\n",
    "P"
   ]
  },
  {
   "cell_type": "code",
   "execution_count": 195,
   "id": "a483ae9e",
   "metadata": {
    "scrolled": true
   },
   "outputs": [
    {
     "data": {
      "text/plain": [
       "array([[-0.82797019,  1.77758033, -0.99219749, -0.27421042, -1.67580142,\n",
       "        -0.9129491 ,  0.09910944,  1.14457216,  0.43804614,  1.22382056],\n",
       "       [-0.17511531,  0.14285723,  0.38437499,  0.13041721, -0.20949846,\n",
       "         0.17528244, -0.3498247 ,  0.04641726,  0.01776463, -0.16267529]])"
      ]
     },
     "execution_count": 195,
     "metadata": {},
     "output_type": "execute_result"
    }
   ],
   "source": [
    "Y = np.dot(P,X)\n",
    "Y"
   ]
  },
  {
   "cell_type": "code",
   "execution_count": 196,
   "id": "a2c88823",
   "metadata": {},
   "outputs": [
    {
     "data": {
      "image/png": "[encoded data removed]",
      "text/plain": [
       "<Figure size 432x288 with 1 Axes>"
      ]
     },
     "metadata": {
      "needs_background": "light"
     },
     "output_type": "display_data"
    }
   ],
   "source": [
    "y_x = []\n",
    "y_y = []\n",
    "for _ in range(len(Y[1])):\n",
    "    tmp_x = Y[0][_]\n",
    "    tmp_y = Y[1][_]\n",
    "    y_x.append(tmp_x)\n",
    "    y_y.append(tmp_y)\n",
    "plt.scatter(y_x,y_y)\n",
    "plt.xlim([-2, 2])\n",
    "plt.ylim([-2, 2])\n",
    "plt.axhline(0, color='gray')\n",
    "plt.axvline(0, color='gray')\n",
    "plt.show()"
   ]
  },
  {
   "cell_type": "markdown",
   "id": "3f0285a2",
   "metadata": {},
   "source": [
    "Step4: Choose k large eigenvalues and form a matrix with corresponding row eigenvectors<br>\n",
    "<b>eigen value 기준으로 큰 거!!</b>"
   ]
  },
  {
   "cell_type": "code",
   "execution_count": 153,
   "id": "2d3a61ab",
   "metadata": {},
   "outputs": [
    {
     "name": "stdout",
     "output_type": "stream",
     "text": [
      "w: [0.0490834  1.28402771]\n",
      "k: 1\n"
     ]
    }
   ],
   "source": [
    "print(\"w:\",w)\n",
    "k = np.argmax(w)\n",
    "print(\"k:\",k)"
   ]
  },
  {
   "cell_type": "code",
   "execution_count": 156,
   "id": "114fe114",
   "metadata": {},
   "outputs": [
    {
     "data": {
      "text/plain": [
       "array([-0.73517866,  0.6778734 ])"
      ]
     },
     "execution_count": 156,
     "metadata": {},
     "output_type": "execute_result"
    }
   ],
   "source": [
    "P = v[k][::-1]\n",
    "P"
   ]
  },
  {
   "cell_type": "markdown",
   "id": "f6a4376d",
   "metadata": {},
   "source": [
    "Step5: Transform Data"
   ]
  },
  {
   "cell_type": "code",
   "execution_count": 157,
   "id": "93a5e2c5",
   "metadata": {},
   "outputs": [
    {
     "data": {
      "text/plain": [
       "array([[-0.82797019, -0.17511531],\n",
       "       [ 1.77758033,  0.14285723],\n",
       "       [-0.99219749,  0.38437499],\n",
       "       [-0.27421042,  0.13041721],\n",
       "       [-1.67580142, -0.20949846],\n",
       "       [-0.9129491 ,  0.17528244],\n",
       "       [ 0.09910944, -0.3498247 ],\n",
       "       [ 1.14457216,  0.04641726],\n",
       "       [ 0.43804614,  0.01776463],\n",
       "       [ 1.22382056, -0.16267529]])"
      ]
     },
     "execution_count": 157,
     "metadata": {},
     "output_type": "execute_result"
    }
   ],
   "source": [
    "Y.T"
   ]
  },
  {
   "cell_type": "code",
   "execution_count": 164,
   "id": "4e57a48c",
   "metadata": {},
   "outputs": [
    {
     "name": "stdout",
     "output_type": "stream",
     "text": [
      "[-0.73517866  0.6778734 ]\n",
      "[-0.17511531  0.14285723  0.38437499  0.13041721 -0.20949846  0.17528244\n",
      " -0.3498247   0.04641726  0.01776463 -0.16267529]\n"
     ]
    }
   ],
   "source": [
    "Y2 = np.dot(P,X)\n",
    "print(P)\n",
    "print(Y2)"
   ]
  },
  {
   "cell_type": "code",
   "execution_count": 167,
   "id": "a0c9f185",
   "metadata": {},
   "outputs": [
    {
     "data": {
      "image/png": "[encoded data removed]",
      "text/plain": [
       "<Figure size 432x288 with 1 Axes>"
      ]
     },
     "metadata": {
      "needs_background": "light"
     },
     "output_type": "display_data"
    }
   ],
   "source": [
    "\n",
    "y = [0 for _ in range(10)]\n",
    "plt.scatter(Y2,y)\n",
    "plt.xlim([-2, 2])\n",
    "plt.ylim([-2,2])\n",
    "plt.axhline(0, color='gray')\n",
    "plt.axvline(0, color='gray')\n",
    "plt.show()#교안과 다름"
   ]
  },
  {
   "cell_type": "code",
   "execution_count": 168,
   "id": "7d603953",
   "metadata": {},
   "outputs": [
    {
     "data": {
      "text/plain": [
       "array([-0.82797019,  1.77758033, -0.9921975 , -0.27421042, -1.67580143,\n",
       "       -0.91294911,  0.09910944,  1.14457217,  0.43804614,  1.22382056])"
      ]
     },
     "execution_count": 168,
     "metadata": {},
     "output_type": "execute_result"
    }
   ],
   "source": [
    "wt = np.dot([-0.6778734,  -0.73517866],X)\n",
    "wt"
   ]
  },
  {
   "cell_type": "code",
   "execution_count": 169,
   "id": "bd64a6a3",
   "metadata": {},
   "outputs": [
    {
     "data": {
      "image/png": "[encoded data removed]",
      "text/plain": [
       "<Figure size 432x288 with 1 Axes>"
      ]
     },
     "metadata": {
      "needs_background": "light"
     },
     "output_type": "display_data"
    }
   ],
   "source": [
    "\n",
    "y = [0 for _ in range(10)]\n",
    "plt.scatter(wt,y)\n",
    "plt.xlim([-2, 2])\n",
    "plt.ylim([-2,2])\n",
    "plt.axhline(0, color='gray')\n",
    "plt.axvline(0, color='gray')\n",
    "plt.show()#교안과 다름"
   ]
  },
  {
   "cell_type": "code",
   "execution_count": 75,
   "id": "e4ba7e0e",
   "metadata": {},
   "outputs": [
    {
     "data": {
      "text/plain": [
       "array([[-0.821868,  1.783632, -0.985968, -0.329088, -1.669668, -0.906768,\n",
       "         0.105132,  1.150632,  0.444132,  1.229832],\n",
       "       [-0.168315,  0.149085,  0.391185,  0.070935, -0.202515,  0.182085,\n",
       "        -0.343215,  0.052785,  0.024285, -0.156315]])"
      ]
     },
     "execution_count": 75,
     "metadata": {},
     "output_type": "execute_result"
    }
   ],
   "source": [
    "Y"
   ]
  },
  {
   "cell_type": "code",
   "execution_count": 84,
   "id": "e54dcc6d",
   "metadata": {},
   "outputs": [
    {
     "name": "stdout",
     "output_type": "stream",
     "text": [
      "10\n",
      "[-0.821868  1.783632 -0.985968 -0.329088 -1.669668 -0.906768  0.105132\n",
      "  1.150632  0.444132  1.229832]\n"
     ]
    },
    {
     "data": {
      "image/png": "[encoded data removed]",
      "text/plain": [
       "<Figure size 432x288 with 1 Axes>"
      ]
     },
     "metadata": {
      "needs_background": "light"
     },
     "output_type": "display_data"
    }
   ],
   "source": [
    "Y[0]\n",
    "print(len(Y[0]))\n",
    "print(Y[0])\n",
    "plt.scatter(Y[0],y)\n",
    "plt.xlim([-2, 2])\n",
    "plt.ylim([-2,2])\n",
    "plt.axhline(0, color='gray')\n",
    "plt.axvline(0, color='gray')\n",
    "plt.show()"
   ]
  },
  {
   "cell_type": "code",
   "execution_count": 83,
   "id": "af781204",
   "metadata": {},
   "outputs": [
    {
     "data": {
      "text/plain": [
       "array([[-0.821868, -0.168315],\n",
       "       [ 1.783632,  0.149085],\n",
       "       [-0.985968,  0.391185],\n",
       "       [-0.329088,  0.070935],\n",
       "       [-1.669668, -0.202515],\n",
       "       [-0.906768,  0.182085],\n",
       "       [ 0.105132, -0.343215],\n",
       "       [ 1.150632,  0.052785],\n",
       "       [ 0.444132,  0.024285],\n",
       "       [ 1.229832, -0.156315]])"
      ]
     },
     "execution_count": 83,
     "metadata": {},
     "output_type": "execute_result"
    }
   ],
   "source": [
    "Y.T"
   ]
  },
  {
   "cell_type": "code",
   "execution_count": 85,
   "id": "602606e3",
   "metadata": {},
   "outputs": [
    {
     "data": {
      "text/html": [
       "<div>\n",
       "<style scoped>\n",
       "    .dataframe tbody tr th:only-of-type {\n",
       "        vertical-align: middle;\n",
       "    }\n",
       "\n",
       "    .dataframe tbody tr th {\n",
       "        vertical-align: top;\n",
       "    }\n",
       "\n",
       "    .dataframe thead th {\n",
       "        text-align: right;\n",
       "    }\n",
       "</style>\n",
       "<table border=\"1\" class=\"dataframe\">\n",
       "  <thead>\n",
       "    <tr style=\"text-align: right;\">\n",
       "      <th></th>\n",
       "      <th>0</th>\n",
       "      <th>1</th>\n",
       "      <th>2</th>\n",
       "      <th>3</th>\n",
       "      <th>4</th>\n",
       "      <th>5</th>\n",
       "      <th>6</th>\n",
       "      <th>7</th>\n",
       "      <th>8</th>\n",
       "      <th>9</th>\n",
       "    </tr>\n",
       "  </thead>\n",
       "  <tbody>\n",
       "    <tr>\n",
       "      <th>x</th>\n",
       "      <td>0.681</td>\n",
       "      <td>-1.319</td>\n",
       "      <td>0.381</td>\n",
       "      <td>0.171</td>\n",
       "      <td>1.281</td>\n",
       "      <td>0.481</td>\n",
       "      <td>0.181</td>\n",
       "      <td>-0.819</td>\n",
       "      <td>-0.319</td>\n",
       "      <td>-0.719</td>\n",
       "    </tr>\n",
       "    <tr>\n",
       "      <th>y</th>\n",
       "      <td>0.490</td>\n",
       "      <td>-1.210</td>\n",
       "      <td>0.990</td>\n",
       "      <td>0.290</td>\n",
       "      <td>1.090</td>\n",
       "      <td>0.790</td>\n",
       "      <td>-0.310</td>\n",
       "      <td>-0.810</td>\n",
       "      <td>-0.310</td>\n",
       "      <td>-1.010</td>\n",
       "    </tr>\n",
       "  </tbody>\n",
       "</table>\n",
       "</div>"
      ],
      "text/plain": [
       "       0      1      2      3      4      5      6      7      8      9\n",
       "x  0.681 -1.319  0.381  0.171  1.281  0.481  0.181 -0.819 -0.319 -0.719\n",
       "y  0.490 -1.210  0.990  0.290  1.090  0.790 -0.310 -0.810 -0.310 -1.010"
      ]
     },
     "execution_count": 85,
     "metadata": {},
     "output_type": "execute_result"
    }
   ],
   "source": [
    "X"
   ]
  },
  {
   "cell_type": "markdown",
   "id": "654ced96",
   "metadata": {},
   "source": [
    "Get Back to Original Data"
   ]
  },
  {
   "cell_type": "code",
   "execution_count": 87,
   "id": "004322f4",
   "metadata": {},
   "outputs": [
    {
     "name": "stdout",
     "output_type": "stream",
     "text": [
      "원래 데이터\n"
     ]
    },
    {
     "data": {
      "image/png": "[encoded data removed]",
      "text/plain": [
       "<Figure size 432x288 with 1 Axes>"
      ]
     },
     "metadata": {
      "needs_background": "light"
     },
     "output_type": "display_data"
    }
   ],
   "source": [
    "print(\"원래 데이터\")\n",
    "#Data\n",
    "x = [2.5,0.5,2.2,1.99,3.1,2.3,2,1,1.5,1.1]\n",
    "y = [2.4,0.7,2.9,2.2,3.0,2.7,1.6,1.1,1.6,0.9]\n",
    "plt.scatter(x,y)\n",
    "plt.xlim([-2, 4])\n",
    "plt.ylim([-2, 4])\n",
    "plt.axhline(0, color='gray')\n",
    "plt.axvline(0, color='gray')\n",
    "plt.show()"
   ]
  },
  {
   "cell_type": "code",
   "execution_count": 98,
   "id": "c47ea14e",
   "metadata": {},
   "outputs": [
    {
     "name": "stdout",
     "output_type": "stream",
     "text": [
      "After PCA\n",
      "P:\n",
      " [[-0.678 -0.735]\n",
      " [-0.735  0.678]] \n",
      "Y:\n",
      " [[-0.821868  1.783632 -0.985968 -0.329088 -1.669668 -0.906768  0.105132\n",
      "   1.150632  0.444132  1.229832]\n",
      " [-0.168315  0.149085  0.391185  0.070935 -0.202515  0.182085 -0.343215\n",
      "   0.052785  0.024285 -0.156315]]\n"
     ]
    },
    {
     "data": {
      "text/plain": [
       "array([[2.49993803, 0.50012003, 2.19996533, 1.98998444, 3.09988343,\n",
       "        2.29995623, 1.99998353, 1.00007453, 1.50002903, 1.10006543],\n",
       "       [2.39995541, 0.70011011, 2.89990991, 2.19997361, 2.99990081,\n",
       "        2.69992811, 1.60002821, 1.10007371, 1.60002821, 0.90009191]])"
      ]
     },
     "execution_count": 98,
     "metadata": {},
     "output_type": "execute_result"
    }
   ],
   "source": [
    "print(\"After PCA\")\n",
    "print(\"P:\\n\",P,\"\\nY:\\n\",Y)\n",
    "pca_X = np.dot(P.T,Y) #+ [np.mean(x),np.mean(y)]\n",
    "pca_X[0] += np.mean(x)\n",
    "pca_X[1] += np.mean(y)\n",
    "pca_X"
   ]
  },
  {
   "cell_type": "code",
   "execution_count": 99,
   "id": "fc897a35",
   "metadata": {},
   "outputs": [
    {
     "data": {
      "image/png": "[encoded data removed]",
      "text/plain": [
       "<Figure size 432x288 with 1 Axes>"
      ]
     },
     "metadata": {
      "needs_background": "light"
     },
     "output_type": "display_data"
    }
   ],
   "source": [
    "plt.scatter(pca_X[0],pca_X[1])\n",
    "plt.xlim([-2, 4])\n",
    "plt.ylim([-2, 4])\n",
    "plt.axhline(0, color='gray')\n",
    "plt.axvline(0, color='gray')\n",
    "plt.show()"
   ]
  },
  {
   "cell_type": "code",
   "execution_count": 103,
   "id": "fa9fcb16",
   "metadata": {},
   "outputs": [
    {
     "data": {
      "text/plain": [
       "array([-0.821868,  1.783632, -0.985968, -0.329088, -1.669668, -0.906768,\n",
       "        0.105132,  1.150632,  0.444132,  1.229832])"
      ]
     },
     "execution_count": 103,
     "metadata": {},
     "output_type": "execute_result"
    }
   ],
   "source": [
    "Y[0]"
   ]
  },
  {
   "cell_type": "code",
   "execution_count": 15,
   "id": "87c6fa31",
   "metadata": {},
   "outputs": [
    {
     "data": {
      "text/plain": [
       "array([[ 6, -4],\n",
       "       [-3,  5],\n",
       "       [-2,  6],\n",
       "       [ 7, -3]])"
      ]
     },
     "execution_count": 15,
     "metadata": {},
     "output_type": "execute_result"
    }
   ],
   "source": [
    "x = [[6,-4],[-3,5],[-2,6],[7,-3]]\n",
    "x = np.array(x)\n",
    "x"
   ]
  },
  {
   "cell_type": "code",
   "execution_count": 16,
   "id": "6e84cff1",
   "metadata": {},
   "outputs": [
    {
     "data": {
      "text/plain": [
       "array([[ 50., -40., -40.,  50.],\n",
       "       [-40.,  32.,  32., -40.],\n",
       "       [-40.,  32.,  32., -40.],\n",
       "       [ 50., -40., -40.,  50.]])"
      ]
     },
     "execution_count": 16,
     "metadata": {},
     "output_type": "execute_result"
    }
   ],
   "source": [
    "import numpy as np\n",
    "a = np.cov(x)\n",
    "a"
   ]
  },
  {
   "cell_type": "code",
   "execution_count": 17,
   "id": "654f63b5",
   "metadata": {},
   "outputs": [
    {
     "data": {
      "text/plain": [
       "8.0"
      ]
     },
     "execution_count": 17,
     "metadata": {},
     "output_type": "execute_result"
    }
   ],
   "source": [
    "np.sum(a)"
   ]
  },
  {
   "cell_type": "code",
   "execution_count": 18,
   "id": "eea1c3a0",
   "metadata": {},
   "outputs": [
    {
     "data": {
      "text/plain": [
       "array([[ 6, -3, -2,  7],\n",
       "       [-4,  5,  6, -3]])"
      ]
     },
     "execution_count": 18,
     "metadata": {},
     "output_type": "execute_result"
    }
   ],
   "source": [
    "b = [[6,-3,-2,7],[-4,5,6,-3]]\n",
    "b = np.array(b)\n",
    "b"
   ]
  },
  {
   "cell_type": "code",
   "execution_count": 19,
   "id": "b6cfe878",
   "metadata": {},
   "outputs": [
    {
     "data": {
      "text/plain": [
       "array([[ 27.33333333, -26.66666667],\n",
       "       [-26.66666667,  27.33333333]])"
      ]
     },
     "execution_count": 19,
     "metadata": {},
     "output_type": "execute_result"
    }
   ],
   "source": [
    "c = np.cov(b)\n",
    "c"
   ]
  },
  {
   "cell_type": "code",
   "execution_count": 20,
   "id": "05263789",
   "metadata": {},
   "outputs": [
    {
     "data": {
      "text/plain": [
       "1.3333333333333357"
      ]
     },
     "execution_count": 20,
     "metadata": {},
     "output_type": "execute_result"
    }
   ],
   "source": [
    "np.sum(c)"
   ]
  },
  {
   "cell_type": "code",
   "execution_count": 21,
   "id": "63659885",
   "metadata": {},
   "outputs": [],
   "source": [
    "k = [6,-3,-2,7,-4,5,6,-3]"
   ]
  }
 ],
 "metadata": {
  "kernelspec": {
   "display_name": "Python 3",
   "language": "python",
   "name": "python3"
  },
  "language_info": {
   "codemirror_mode": {
    "name": "ipython",
    "version": 3
   },
   "file_extension": ".py",
   "mimetype": "text/x-python",
   "name": "python",
   "nbconvert_exporter": "python",
   "pygments_lexer": "ipython3",
   "version": "3.9.5"
  }
 },
 "nbformat": 4,
 "nbformat_minor": 5
}
