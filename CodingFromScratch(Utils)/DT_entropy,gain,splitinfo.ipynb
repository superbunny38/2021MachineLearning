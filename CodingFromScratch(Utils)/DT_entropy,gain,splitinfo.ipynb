{
 "cells": [
  {
   "cell_type": "markdown",
   "id": "a54437b9",
   "metadata": {},
   "source": [
    "Entropy는 낮을 수록 좋은 것!"
   ]
  },
  {
   "cell_type": "code",
   "execution_count": 33,
   "id": "1be6a0bd",
   "metadata": {},
   "outputs": [],
   "source": [
    "import numpy as np\n",
    "import math\n",
    "import pandas as pd\n",
    "from sklearn.preprocessing import OrdinalEncoder"
   ]
  },
  {
   "cell_type": "markdown",
   "id": "1c57d0f0",
   "metadata": {},
   "source": [
    "# Simple binary entropy"
   ]
  },
  {
   "cell_type": "code",
   "execution_count": 30,
   "id": "e35f43e8",
   "metadata": {},
   "outputs": [],
   "source": [
    "def entropy(_set):\n",
    "    array = list(_set)\n",
    "    #print(array)\n",
    "    n_ones = array.count(1)\n",
    "    n_zeros = array.count(0)\n",
    "    if n_ones == 0 or n_zeros == 0:\n",
    "        result = 0\n",
    "    else:\n",
    "        n_total = len(array)\n",
    "        P_1 = float(n_ones)/n_total\n",
    "        P_0 = float(n_zeros)/n_total\n",
    "        print(\"P_1:{}/{} P_0:{}/{}\".format(n_ones,n_total,n_zeros,n_total))\n",
    "        print(\"n_ones: {}, n_zeros: {}, P_1: {}, P_0: {}\".format(n_ones, n_zeros,P_1,P_0))\n",
    "        result = -P_1*math.log(P_1,2)-P_0*math.log(P_0,2)\n",
    "    #print(\"entropy:\",result)\n",
    "    return result"
   ]
  },
  {
   "cell_type": "code",
   "execution_count": 10,
   "id": "fc39ce3c",
   "metadata": {},
   "outputs": [
    {
     "name": "stdout",
     "output_type": "stream",
     "text": [
      "P_1:3/8 P_0:5/8\n",
      "n_ones: 3, n_zeros: 5, P_1: 0.375, P_0: 0.625\n"
     ]
    },
    {
     "data": {
      "text/plain": [
       "0.9544340029249649"
      ]
     },
     "execution_count": 10,
     "metadata": {},
     "output_type": "execute_result"
    }
   ],
   "source": [
    "A = [1,1,1,0,0,0,0,0]\n",
    "entropy(A)"
   ]
  },
  {
   "cell_type": "code",
   "execution_count": 4,
   "id": "f279a137",
   "metadata": {},
   "outputs": [
    {
     "name": "stdout",
     "output_type": "stream",
     "text": [
      "1.0\n",
      "0\n"
     ]
    }
   ],
   "source": [
    "print(entropy([1,0]))\n",
    "print(entropy([0,0]))"
   ]
  },
  {
   "cell_type": "markdown",
   "id": "a971cf05",
   "metadata": {},
   "source": [
    "# Entropy for non binary<br>\n",
    "$Entropy(set) = -\\sum^n_{i=1}{P_{c_i}log_2 P_{c_i}}$\n",
    "\n",
    "$ P_{c_i}$: probability that $c_i$ appears in the set"
   ]
  },
  {
   "cell_type": "code",
   "execution_count": 182,
   "id": "e4b97d5c",
   "metadata": {},
   "outputs": [],
   "source": [
    "def non_binary_entropy(_set):\n",
    "    _set = list(_set)\n",
    "    labels = np.unique(_set)\n",
    "    \n",
    "    n_total = len(_set)\n",
    "    summ = 0\n",
    "    for label in list(labels):\n",
    "        n_c = _set.count(label)\n",
    "        if n_c == 0 or n_c == n_total:\n",
    "            continue\n",
    "        else:\n",
    "            p = n_c/n_total\n",
    "            summ += p*math.log(p,2)\n",
    "        \n",
    "    entropy = -summ\n",
    "    return entropy"
   ]
  },
  {
   "cell_type": "code",
   "execution_count": 94,
   "id": "5c98c589",
   "metadata": {},
   "outputs": [
    {
     "name": "stdout",
     "output_type": "stream",
     "text": [
      "set:  ['e', 'b', 'b', 'd', 'e', 'b', 'c', 'e', 'e', 'e', 'b', 'b', 'c', 'd', 'b']\n"
     ]
    }
   ],
   "source": [
    "letters = ['a','b','c','d','e']\n",
    "import random\n",
    "s = []\n",
    "for i in range(15):\n",
    "    n = random.randrange(1,len(letters))\n",
    "    s.append(letters[n])\n",
    "print(\"set: \",s)"
   ]
  },
  {
   "cell_type": "markdown",
   "id": "00a5ba05",
   "metadata": {},
   "source": [
    "# Entropy of Partitions"
   ]
  },
  {
   "cell_type": "markdown",
   "id": "fe97a678",
   "metadata": {},
   "source": [
    "Which partitioning is better for two partitions"
   ]
  },
  {
   "cell_type": "code",
   "execution_count": 96,
   "id": "a8834b5a",
   "metadata": {},
   "outputs": [],
   "source": [
    "def which_is_better_for_two(P1, P2):\n",
    "    P1_0 = len(P1[0])/(len(P1[0])+len(P1[1]))\n",
    "    P1_1 = len(P1[1])/(len(P1[0])+len(P1[1]))\n",
    "    P1_entropy = P1_0*entropy(P1[0])+P1_1*entropy(P1[1])\n",
    "    \n",
    "    P2_0 = len(P2[0])/(len(P2[0])+len(P2[1]))\n",
    "    P2_1 = len(P2[1])/(len(P2[0])+len(P2[1]))\n",
    "    P2_entropy = P2_0*entropy(P2[0])+P2_1*entropy(P2[1])\n",
    "    \n",
    "    print(\"Partitioning 1 entropy: {} | Partitioning 2 entropy : {}\".format(P1_entropy, P2_entropy))\n",
    "    result = np.argmin([P1_entropy, P2_entropy])\n",
    "    print(\"P{} is better partitioned\".format(result+1))"
   ]
  },
  {
   "cell_type": "code",
   "execution_count": 97,
   "id": "a88bbdd4",
   "metadata": {},
   "outputs": [
    {
     "name": "stdout",
     "output_type": "stream",
     "text": [
      "P_1:2/5 P_0:3/5\n",
      "n_ones: 2, n_zeros: 3, P_1: 0.4, P_0: 0.6\n",
      "P_1:2/3 P_0:1/3\n",
      "n_ones: 2, n_zeros: 1, P_1: 0.6666666666666666, P_0: 0.3333333333333333\n",
      "P_1:4/5 P_0:1/5\n",
      "n_ones: 4, n_zeros: 1, P_1: 0.8, P_0: 0.2\n",
      "Partitioning 1 entropy: 0.9512050593046015 | Partitioning 2 entropy : 0.4512050593046014\n",
      "P2 is better partitioned\n"
     ]
    }
   ],
   "source": [
    "P1 = [[1,1,0,0,0],[1,1,0]]#Partitioning 1\n",
    "P2 = [[1,1,1,1,0],[0,0,0]]#Partitioning 2\n",
    "which_is_better_for_two(P1,P2)"
   ]
  },
  {
   "cell_type": "code",
   "execution_count": 98,
   "id": "e00d2fb5",
   "metadata": {},
   "outputs": [
    {
     "name": "stdout",
     "output_type": "stream",
     "text": [
      "P_1:3/6 P_0:3/6\n",
      "n_ones: 3, n_zeros: 3, P_1: 0.5, P_0: 0.5\n",
      "P_1:2/4 P_0:2/4\n",
      "n_ones: 2, n_zeros: 2, P_1: 0.5, P_0: 0.5\n",
      "P_1:4/6 P_0:2/6\n",
      "n_ones: 4, n_zeros: 2, P_1: 0.6666666666666666, P_0: 0.3333333333333333\n",
      "P_1:1/4 P_0:3/4\n",
      "n_ones: 1, n_zeros: 3, P_1: 0.25, P_0: 0.75\n",
      "Partitioning 1 entropy: 1.0 | Partitioning 2 entropy : 0.8754887502163469\n",
      "P2 is better partitioned\n"
     ]
    }
   ],
   "source": [
    "P1 = [[1,1,0,0,0,1],[0,1,1,0]]\n",
    "P2 = [[1,1,1,1,0,0],[1,0,0,0]]\n",
    "which_is_better_for_two(P1,P2)"
   ]
  },
  {
   "cell_type": "markdown",
   "id": "1437d016",
   "metadata": {},
   "source": [
    "# Seleciting Attribute"
   ]
  },
  {
   "cell_type": "code",
   "execution_count": 99,
   "id": "a0f0450e",
   "metadata": {},
   "outputs": [
    {
     "name": "stdout",
     "output_type": "stream",
     "text": [
      "P_1:3/5 P_0:2/5\n",
      "n_ones: 3, n_zeros: 2, P_1: 0.6, P_0: 0.4\n"
     ]
    },
    {
     "data": {
      "text/plain": [
       "0.9709505944546686"
      ]
     },
     "execution_count": 99,
     "metadata": {},
     "output_type": "execute_result"
    }
   ],
   "source": [
    "list2 = [1,1,1,0,0]\n",
    "entropy(list2)"
   ]
  },
  {
   "cell_type": "code",
   "execution_count": 100,
   "id": "f96ecac6",
   "metadata": {},
   "outputs": [
    {
     "data": {
      "text/html": [
       "<div>\n",
       "<style scoped>\n",
       "    .dataframe tbody tr th:only-of-type {\n",
       "        vertical-align: middle;\n",
       "    }\n",
       "\n",
       "    .dataframe tbody tr th {\n",
       "        vertical-align: top;\n",
       "    }\n",
       "\n",
       "    .dataframe thead th {\n",
       "        text-align: right;\n",
       "    }\n",
       "</style>\n",
       "<table border=\"1\" class=\"dataframe\">\n",
       "  <thead>\n",
       "    <tr style=\"text-align: right;\">\n",
       "      <th></th>\n",
       "      <th>Day</th>\n",
       "      <th>A</th>\n",
       "      <th>B</th>\n",
       "      <th>C</th>\n",
       "      <th>Play</th>\n",
       "    </tr>\n",
       "  </thead>\n",
       "  <tbody>\n",
       "    <tr>\n",
       "      <th>0</th>\n",
       "      <td>1</td>\n",
       "      <td>1.0</td>\n",
       "      <td>1.0</td>\n",
       "      <td>1.0</td>\n",
       "      <td>1.0</td>\n",
       "    </tr>\n",
       "    <tr>\n",
       "      <th>1</th>\n",
       "      <td>2</td>\n",
       "      <td>1.0</td>\n",
       "      <td>1.0</td>\n",
       "      <td>0.0</td>\n",
       "      <td>1.0</td>\n",
       "    </tr>\n",
       "    <tr>\n",
       "      <th>2</th>\n",
       "      <td>3</td>\n",
       "      <td>0.0</td>\n",
       "      <td>1.0</td>\n",
       "      <td>0.0</td>\n",
       "      <td>1.0</td>\n",
       "    </tr>\n",
       "    <tr>\n",
       "      <th>3</th>\n",
       "      <td>4</td>\n",
       "      <td>0.0</td>\n",
       "      <td>0.0</td>\n",
       "      <td>1.0</td>\n",
       "      <td>0.0</td>\n",
       "    </tr>\n",
       "    <tr>\n",
       "      <th>4</th>\n",
       "      <td>5</td>\n",
       "      <td>0.0</td>\n",
       "      <td>0.0</td>\n",
       "      <td>0.0</td>\n",
       "      <td>0.0</td>\n",
       "    </tr>\n",
       "  </tbody>\n",
       "</table>\n",
       "</div>"
      ],
      "text/plain": [
       "   Day    A    B    C  Play\n",
       "0    1  1.0  1.0  1.0   1.0\n",
       "1    2  1.0  1.0  0.0   1.0\n",
       "2    3  0.0  1.0  0.0   1.0\n",
       "3    4  0.0  0.0  1.0   0.0\n",
       "4    5  0.0  0.0  0.0   0.0"
      ]
     },
     "execution_count": 100,
     "metadata": {},
     "output_type": "execute_result"
    }
   ],
   "source": [
    "Day = [1,2,3,4,5]\n",
    "T = 'T'\n",
    "F= 'F'\n",
    "A = [T,T,F,F,F]\n",
    "B = [T,T,T,F,F]\n",
    "C = [T,F,F,T,F]\n",
    "Play = [T,T,T,F,F]\n",
    "df = pd.DataFrame({'Day':Day, 'A':A, 'B':B, 'C':C, 'Play':Play})\n",
    "ord_enc = OrdinalEncoder()\n",
    "df['A'] = ord_enc.fit_transform(df[['A']])\n",
    "ord_enc = OrdinalEncoder()\n",
    "df['B'] = ord_enc.fit_transform(df[['B']])\n",
    "ord_enc = OrdinalEncoder()\n",
    "df['C'] = ord_enc.fit_transform(df[['C']])\n",
    "ord_enc = OrdinalEncoder()\n",
    "df['Play'] = ord_enc.fit_transform(df[['Play']])\n",
    "df.head()"
   ]
  },
  {
   "cell_type": "markdown",
   "id": "36f3c144",
   "metadata": {},
   "source": [
    "before partitioning"
   ]
  },
  {
   "cell_type": "code",
   "execution_count": 101,
   "id": "5a5be7e4",
   "metadata": {},
   "outputs": [
    {
     "name": "stdout",
     "output_type": "stream",
     "text": [
      "P_1:3/5 P_0:2/5\n",
      "n_ones: 3, n_zeros: 2, P_1: 0.6, P_0: 0.4\n"
     ]
    },
    {
     "data": {
      "text/plain": [
       "0.9709505944546686"
      ]
     },
     "execution_count": 101,
     "metadata": {},
     "output_type": "execute_result"
    }
   ],
   "source": [
    "entropy(df['Play'])"
   ]
  },
  {
   "cell_type": "markdown",
   "id": "777346f1",
   "metadata": {},
   "source": [
    "which attribute partitions \"Play\" with the lowest entropy"
   ]
  },
  {
   "cell_type": "code",
   "execution_count": 102,
   "id": "fdca37aa",
   "metadata": {},
   "outputs": [
    {
     "name": "stdout",
     "output_type": "stream",
     "text": [
      "0.0\n",
      "P_1:1/3 P_0:2/3\n",
      "n_ones: 1, n_zeros: 2, P_1: 0.3333333333333333, P_0: 0.6666666666666666\n",
      "0.5509775004326938\n"
     ]
    }
   ],
   "source": [
    "print(entropy(df[df['A']==1]['Play'])*2/5)#A=T\n",
    "print(entropy(df[df['A']==0]['Play'])*3/5)#A=F"
   ]
  },
  {
   "cell_type": "code",
   "execution_count": 49,
   "id": "c6572644",
   "metadata": {},
   "outputs": [
    {
     "data": {
      "text/plain": [
       "0    1.0\n",
       "1    1.0\n",
       "Name: Play, dtype: float64"
      ]
     },
     "execution_count": 49,
     "metadata": {},
     "output_type": "execute_result"
    }
   ],
   "source": [
    "df[df['A']==1]['Play']"
   ]
  },
  {
   "cell_type": "code",
   "execution_count": 50,
   "id": "291bea68",
   "metadata": {
    "scrolled": true
   },
   "outputs": [
    {
     "name": "stdout",
     "output_type": "stream",
     "text": [
      "P_1:1/3 P_0:2/3\n",
      "n_ones: 1, n_zeros: 2, P_1: 0.3333333333333333, P_0: 0.6666666666666666\n"
     ]
    },
    {
     "data": {
      "text/plain": [
       "0.9182958340544896"
      ]
     },
     "execution_count": 50,
     "metadata": {},
     "output_type": "execute_result"
    }
   ],
   "source": [
    "entropy(df[df['A']==0]['Play'])"
   ]
  },
  {
   "cell_type": "code",
   "execution_count": 53,
   "id": "69c1e3ab",
   "metadata": {},
   "outputs": [
    {
     "name": "stdout",
     "output_type": "stream",
     "text": [
      "0.0\n",
      "0.0\n"
     ]
    }
   ],
   "source": [
    "print(entropy(df[df['B']==1]['Play'])*3/5)#B=T\n",
    "print(entropy(df[df['B']==0]['Play'])*2/5)#B=F"
   ]
  },
  {
   "cell_type": "code",
   "execution_count": 51,
   "id": "e4ae1775",
   "metadata": {},
   "outputs": [
    {
     "data": {
      "text/plain": [
       "0    1.0\n",
       "1    1.0\n",
       "2    1.0\n",
       "Name: Play, dtype: float64"
      ]
     },
     "execution_count": 51,
     "metadata": {},
     "output_type": "execute_result"
    }
   ],
   "source": [
    "df[df['B']==1]['Play']"
   ]
  },
  {
   "cell_type": "code",
   "execution_count": 52,
   "id": "59fa9b8d",
   "metadata": {},
   "outputs": [
    {
     "data": {
      "text/plain": [
       "3    0.0\n",
       "4    0.0\n",
       "Name: Play, dtype: float64"
      ]
     },
     "execution_count": 52,
     "metadata": {},
     "output_type": "execute_result"
    }
   ],
   "source": [
    "df[df['B']==0]['Play']"
   ]
  },
  {
   "cell_type": "code",
   "execution_count": 64,
   "id": "e244e3c8",
   "metadata": {},
   "outputs": [
    {
     "name": "stdout",
     "output_type": "stream",
     "text": [
      "P_1:1/2 P_0:1/2\n",
      "n_ones: 1, n_zeros: 1, P_1: 0.5, P_0: 0.5\n",
      "0.4\n",
      "P_1:2/3 P_0:1/3\n",
      "n_ones: 2, n_zeros: 1, P_1: 0.6666666666666666, P_0: 0.3333333333333333\n",
      "0.5509775004326938\n",
      "\n",
      "result:\n",
      "P_1:1/2 P_0:1/2\n",
      "n_ones: 1, n_zeros: 1, P_1: 0.5, P_0: 0.5\n",
      "P_1:2/3 P_0:1/3\n",
      "n_ones: 2, n_zeros: 1, P_1: 0.6666666666666666, P_0: 0.3333333333333333\n",
      "0.9509775004326938\n"
     ]
    }
   ],
   "source": [
    "print(entropy(df[df['C']==1]['Play'])*2/5)#C=T\n",
    "print(entropy(df[df['C']==0]['Play'])*3/5)#C=F\n",
    "print(\"\\nresult:\")\n",
    "print(entropy(df[df['C']==1]['Play'])*2/5+entropy(df[df['C']==0]['Play'])*3/5)"
   ]
  },
  {
   "cell_type": "code",
   "execution_count": 58,
   "id": "ac626c59",
   "metadata": {},
   "outputs": [
    {
     "data": {
      "text/plain": [
       "0    1.0\n",
       "3    0.0\n",
       "Name: Play, dtype: float64"
      ]
     },
     "execution_count": 58,
     "metadata": {},
     "output_type": "execute_result"
    }
   ],
   "source": [
    "df[df['C']==1]['Play']"
   ]
  },
  {
   "cell_type": "code",
   "execution_count": 59,
   "id": "29b5dc55",
   "metadata": {},
   "outputs": [
    {
     "data": {
      "text/plain": [
       "1    1.0\n",
       "2    1.0\n",
       "4    0.0\n",
       "Name: Play, dtype: float64"
      ]
     },
     "execution_count": 59,
     "metadata": {},
     "output_type": "execute_result"
    }
   ],
   "source": [
    "df[df['C']==0]['Play']"
   ]
  },
  {
   "cell_type": "markdown",
   "id": "764f071d",
   "metadata": {},
   "source": [
    "답: C"
   ]
  },
  {
   "cell_type": "markdown",
   "id": "0fbe5412",
   "metadata": {},
   "source": [
    "### another example of selecting attribute"
   ]
  },
  {
   "cell_type": "code",
   "execution_count": 68,
   "id": "fd98a88b",
   "metadata": {},
   "outputs": [
    {
     "data": {
      "text/html": [
       "<div>\n",
       "<style scoped>\n",
       "    .dataframe tbody tr th:only-of-type {\n",
       "        vertical-align: middle;\n",
       "    }\n",
       "\n",
       "    .dataframe tbody tr th {\n",
       "        vertical-align: top;\n",
       "    }\n",
       "\n",
       "    .dataframe thead th {\n",
       "        text-align: right;\n",
       "    }\n",
       "</style>\n",
       "<table border=\"1\" class=\"dataframe\">\n",
       "  <thead>\n",
       "    <tr style=\"text-align: right;\">\n",
       "      <th></th>\n",
       "      <th>Day</th>\n",
       "      <th>A</th>\n",
       "      <th>B</th>\n",
       "      <th>Play</th>\n",
       "    </tr>\n",
       "  </thead>\n",
       "  <tbody>\n",
       "    <tr>\n",
       "      <th>0</th>\n",
       "      <td>1</td>\n",
       "      <td>1.0</td>\n",
       "      <td>1.0</td>\n",
       "      <td>1.0</td>\n",
       "    </tr>\n",
       "    <tr>\n",
       "      <th>1</th>\n",
       "      <td>2</td>\n",
       "      <td>1.0</td>\n",
       "      <td>1.0</td>\n",
       "      <td>1.0</td>\n",
       "    </tr>\n",
       "    <tr>\n",
       "      <th>2</th>\n",
       "      <td>3</td>\n",
       "      <td>0.0</td>\n",
       "      <td>1.0</td>\n",
       "      <td>1.0</td>\n",
       "    </tr>\n",
       "    <tr>\n",
       "      <th>3</th>\n",
       "      <td>4</td>\n",
       "      <td>0.0</td>\n",
       "      <td>1.0</td>\n",
       "      <td>0.0</td>\n",
       "    </tr>\n",
       "    <tr>\n",
       "      <th>4</th>\n",
       "      <td>5</td>\n",
       "      <td>0.0</td>\n",
       "      <td>0.0</td>\n",
       "      <td>0.0</td>\n",
       "    </tr>\n",
       "  </tbody>\n",
       "</table>\n",
       "</div>"
      ],
      "text/plain": [
       "   Day    A    B  Play\n",
       "0    1  1.0  1.0   1.0\n",
       "1    2  1.0  1.0   1.0\n",
       "2    3  0.0  1.0   1.0\n",
       "3    4  0.0  1.0   0.0\n",
       "4    5  0.0  0.0   0.0"
      ]
     },
     "execution_count": 68,
     "metadata": {},
     "output_type": "execute_result"
    }
   ],
   "source": [
    "Day = [1,2,3,4,5]\n",
    "A = [T,T,F,F,F]\n",
    "B = [T,T,T,T,F]\n",
    "Play = [T,T,T,F,F]\n",
    "df = pd.DataFrame({\"Day\":Day,\"A\":A,\"B\":B,\"Play\":Play})\n",
    "ord_enc = OrdinalEncoder()\n",
    "df['A'] = ord_enc.fit_transform(df[['A']])\n",
    "ord_enc = OrdinalEncoder()\n",
    "df['B'] = ord_enc.fit_transform(df[['B']])\n",
    "ord_enc = OrdinalEncoder()\n",
    "df['Play'] = ord_enc.fit_transform(df[['Play']])\n",
    "df.head()"
   ]
  },
  {
   "cell_type": "code",
   "execution_count": 70,
   "id": "8011a87e",
   "metadata": {},
   "outputs": [
    {
     "name": "stdout",
     "output_type": "stream",
     "text": [
      "0.0\n",
      "P_1:1/3 P_0:2/3\n",
      "n_ones: 1, n_zeros: 2, P_1: 0.3333333333333333, P_0: 0.6666666666666666\n",
      "0.5509775004326938\n",
      "\n",
      "result:\n",
      "P_1:1/3 P_0:2/3\n",
      "n_ones: 1, n_zeros: 2, P_1: 0.3333333333333333, P_0: 0.6666666666666666\n",
      "0.5509775004326938\n"
     ]
    }
   ],
   "source": [
    "print(entropy(df[df['A']==1]['Play'])*2/5)#A=T\n",
    "print(entropy(df[df['A']==0]['Play'])*3/5)#A=F\n",
    "print(\"\\nresult:\")\n",
    "print(entropy(df[df['A']==1]['Play'])*2/5+entropy(df[df['A']==0]['Play'])*3/5)"
   ]
  },
  {
   "cell_type": "code",
   "execution_count": 72,
   "id": "6700be8f",
   "metadata": {},
   "outputs": [
    {
     "data": {
      "text/plain": [
       "0    1.0\n",
       "1    1.0\n",
       "2    1.0\n",
       "3    0.0\n",
       "Name: Play, dtype: float64"
      ]
     },
     "execution_count": 72,
     "metadata": {},
     "output_type": "execute_result"
    }
   ],
   "source": [
    "df[df['B']==1]['Play']"
   ]
  },
  {
   "cell_type": "code",
   "execution_count": 73,
   "id": "7b1bf263",
   "metadata": {},
   "outputs": [
    {
     "data": {
      "text/plain": [
       "4    0.0\n",
       "Name: Play, dtype: float64"
      ]
     },
     "execution_count": 73,
     "metadata": {},
     "output_type": "execute_result"
    }
   ],
   "source": [
    "df[df['B']==0]['Play']"
   ]
  },
  {
   "cell_type": "code",
   "execution_count": 74,
   "id": "256e1809",
   "metadata": {},
   "outputs": [
    {
     "name": "stdout",
     "output_type": "stream",
     "text": [
      "P_1:3/4 P_0:1/4\n",
      "n_ones: 3, n_zeros: 1, P_1: 0.75, P_0: 0.25\n",
      "0.6490224995673063\n",
      "0.0\n",
      "\n",
      "result:\n",
      "P_1:3/4 P_0:1/4\n",
      "n_ones: 3, n_zeros: 1, P_1: 0.75, P_0: 0.25\n",
      "0.6490224995673063\n"
     ]
    }
   ],
   "source": [
    "print(entropy(df[df['B']==1]['Play'])*4/5)#B=T\n",
    "print(entropy(df[df['B']==0]['Play'])*1/5)#B=F\n",
    "print(\"\\nresult:\")\n",
    "print(entropy(df[df['B']==1]['Play'])*4/5+entropy(df[df['B']==0]['Play'])*1/5)"
   ]
  },
  {
   "cell_type": "markdown",
   "id": "bbdc8d63",
   "metadata": {},
   "source": [
    "### Tennis playing record data"
   ]
  },
  {
   "cell_type": "code",
   "execution_count": 221,
   "id": "a049f218",
   "metadata": {},
   "outputs": [],
   "source": [
    "Outlook = ['Sunny','Sunny','Overcast','Rain','Rain','Rain','Overcast','Sunny','Sunny','Rain','Sunny','Overcast','Overcast','Rain']\n",
    "Temp = ['Hot','Hot','Hot','Mild','Cool','Cool','Cool','Mild','Cool','Mild','Mild','Mild','Hot','Mild']\n",
    "Humidity=['High','High','High','High','Normal','Normal','Normal','High','Normal','Normal','Normal','High','Normal','High']\n",
    "Wind = ['Weak','Strong','Weak','Weak','Weak','Strong','Strong','Weak','Weak','Weak','Strong','Strong','Weak','Strong']\n",
    "Play =['No','No','Yes','Yes','Yes','No','Yes','No','Yes','Yes','Yes','Yes','Yes','No']\n",
    "df = pd.DataFrame({'Outlook':Outlook, 'Temp':Temp, 'Humidity':Humidity, 'Wind':Wind, 'Play':Play})"
   ]
  },
  {
   "cell_type": "code",
   "execution_count": 105,
   "id": "bbdec214",
   "metadata": {},
   "outputs": [
    {
     "data": {
      "text/html": [
       "<div>\n",
       "<style scoped>\n",
       "    .dataframe tbody tr th:only-of-type {\n",
       "        vertical-align: middle;\n",
       "    }\n",
       "\n",
       "    .dataframe tbody tr th {\n",
       "        vertical-align: top;\n",
       "    }\n",
       "\n",
       "    .dataframe thead th {\n",
       "        text-align: right;\n",
       "    }\n",
       "</style>\n",
       "<table border=\"1\" class=\"dataframe\">\n",
       "  <thead>\n",
       "    <tr style=\"text-align: right;\">\n",
       "      <th></th>\n",
       "      <th>Outlook</th>\n",
       "      <th>Temp</th>\n",
       "      <th>Humidity</th>\n",
       "      <th>Wind</th>\n",
       "      <th>Play</th>\n",
       "    </tr>\n",
       "  </thead>\n",
       "  <tbody>\n",
       "    <tr>\n",
       "      <th>0</th>\n",
       "      <td>2.0</td>\n",
       "      <td>1.0</td>\n",
       "      <td>0.0</td>\n",
       "      <td>1.0</td>\n",
       "      <td>0.0</td>\n",
       "    </tr>\n",
       "    <tr>\n",
       "      <th>1</th>\n",
       "      <td>2.0</td>\n",
       "      <td>1.0</td>\n",
       "      <td>0.0</td>\n",
       "      <td>0.0</td>\n",
       "      <td>0.0</td>\n",
       "    </tr>\n",
       "    <tr>\n",
       "      <th>2</th>\n",
       "      <td>0.0</td>\n",
       "      <td>1.0</td>\n",
       "      <td>0.0</td>\n",
       "      <td>1.0</td>\n",
       "      <td>1.0</td>\n",
       "    </tr>\n",
       "    <tr>\n",
       "      <th>3</th>\n",
       "      <td>1.0</td>\n",
       "      <td>2.0</td>\n",
       "      <td>0.0</td>\n",
       "      <td>1.0</td>\n",
       "      <td>1.0</td>\n",
       "    </tr>\n",
       "    <tr>\n",
       "      <th>4</th>\n",
       "      <td>1.0</td>\n",
       "      <td>0.0</td>\n",
       "      <td>1.0</td>\n",
       "      <td>1.0</td>\n",
       "      <td>1.0</td>\n",
       "    </tr>\n",
       "  </tbody>\n",
       "</table>\n",
       "</div>"
      ],
      "text/plain": [
       "   Outlook  Temp  Humidity  Wind  Play\n",
       "0      2.0   1.0       0.0   1.0   0.0\n",
       "1      2.0   1.0       0.0   0.0   0.0\n",
       "2      0.0   1.0       0.0   1.0   1.0\n",
       "3      1.0   2.0       0.0   1.0   1.0\n",
       "4      1.0   0.0       1.0   1.0   1.0"
      ]
     },
     "execution_count": 105,
     "metadata": {},
     "output_type": "execute_result"
    }
   ],
   "source": [
    "columnlist = df.columns\n",
    "for c in columnlist:\n",
    "    df[c] = ord_enc.fit_transform(df[[c]])\n",
    "df.head()"
   ]
  },
  {
   "cell_type": "code",
   "execution_count": 106,
   "id": "f1e41fc9",
   "metadata": {},
   "outputs": [
    {
     "name": "stdout",
     "output_type": "stream",
     "text": [
      "P_1:9/14 P_0:5/14\n",
      "n_ones: 9, n_zeros: 5, P_1: 0.6428571428571429, P_0: 0.35714285714285715\n"
     ]
    },
    {
     "data": {
      "text/plain": [
       "0.9402859586706309"
      ]
     },
     "execution_count": 106,
     "metadata": {},
     "output_type": "execute_result"
    }
   ],
   "source": [
    "entropy(df['Play'])"
   ]
  },
  {
   "cell_type": "code",
   "execution_count": 107,
   "id": "442e61a5",
   "metadata": {},
   "outputs": [
    {
     "data": {
      "text/plain": [
       "7"
      ]
     },
     "execution_count": 107,
     "metadata": {},
     "output_type": "execute_result"
    }
   ],
   "source": [
    "len(df[df['Humidity']==0]['Play'])"
   ]
  },
  {
   "cell_type": "code",
   "execution_count": 108,
   "id": "72ee4058",
   "metadata": {},
   "outputs": [
    {
     "data": {
      "text/plain": [
       "7"
      ]
     },
     "execution_count": 108,
     "metadata": {},
     "output_type": "execute_result"
    }
   ],
   "source": [
    "len(df[df['Humidity']==1]['Play'])"
   ]
  },
  {
   "cell_type": "code",
   "execution_count": 109,
   "id": "6629bd8f",
   "metadata": {},
   "outputs": [
    {
     "name": "stdout",
     "output_type": "stream",
     "text": [
      "P_1:3/7 P_0:4/7\n",
      "n_ones: 3, n_zeros: 4, P_1: 0.42857142857142855, P_0: 0.5714285714285714\n",
      "0.9852281360342516\n",
      "P_1:6/7 P_0:1/7\n",
      "n_ones: 6, n_zeros: 1, P_1: 0.8571428571428571, P_0: 0.14285714285714285\n",
      "0.5916727785823275\n"
     ]
    }
   ],
   "source": [
    "print(entropy(df[df['Humidity']==0]['Play']))\n",
    "print(entropy(df[df['Humidity']==1]['Play']))"
   ]
  },
  {
   "cell_type": "code",
   "execution_count": 110,
   "id": "581f59bc",
   "metadata": {},
   "outputs": [
    {
     "name": "stdout",
     "output_type": "stream",
     "text": [
      "P_1:3/7 P_0:4/7\n",
      "n_ones: 3, n_zeros: 4, P_1: 0.42857142857142855, P_0: 0.5714285714285714\n",
      "P_1:6/7 P_0:1/7\n",
      "n_ones: 6, n_zeros: 1, P_1: 0.8571428571428571, P_0: 0.14285714285714285\n"
     ]
    },
    {
     "data": {
      "text/plain": [
       "0.7884504573082896"
      ]
     },
     "execution_count": 110,
     "metadata": {},
     "output_type": "execute_result"
    }
   ],
   "source": [
    "0.5*(entropy(df[df['Humidity']==0]['Play'])+entropy(df[df['Humidity']==1]['Play']))"
   ]
  },
  {
   "cell_type": "markdown",
   "id": "65807cf2",
   "metadata": {},
   "source": [
    "Which attribute is best classifier between outlook and wind:"
   ]
  },
  {
   "cell_type": "code",
   "execution_count": 111,
   "id": "232a3495",
   "metadata": {},
   "outputs": [
    {
     "name": "stdout",
     "output_type": "stream",
     "text": [
      "4\n",
      "5\n",
      "5\n"
     ]
    }
   ],
   "source": [
    "#outlook\n",
    "print(len(df[df['Outlook']==0]))\n",
    "print(len(df[df['Outlook']==1]))\n",
    "print(len(df[df['Outlook']==2]))"
   ]
  },
  {
   "cell_type": "code",
   "execution_count": 126,
   "id": "6f5c8a0f",
   "metadata": {},
   "outputs": [
    {
     "data": {
      "text/plain": [
       "2.321928094887362"
      ]
     },
     "execution_count": 126,
     "metadata": {},
     "output_type": "execute_result"
    }
   ],
   "source": [
    "4/14 *non_binary_entropy(df[df['Outlook']==0])+5/14*non_binary_entropy(df[df['Outlook']==1])+5/14*non_binary_entropy(df[df['Outlook']==2])"
   ]
  },
  {
   "cell_type": "code",
   "execution_count": 130,
   "id": "3d69a1c0",
   "metadata": {},
   "outputs": [
    {
     "name": "stdout",
     "output_type": "stream",
     "text": [
      "P_1:9/14 P_0:5/14\n",
      "n_ones: 9, n_zeros: 5, P_1: 0.6428571428571429, P_0: 0.35714285714285715\n"
     ]
    },
    {
     "data": {
      "text/plain": [
       "-1.3816421362167313"
      ]
     },
     "execution_count": 130,
     "metadata": {},
     "output_type": "execute_result"
    }
   ],
   "source": [
    "#info gain\n",
    "entropy(df['Play'])-(4/14 *non_binary_entropy(df[df['Outlook']==0])+5/14*non_binary_entropy(df[df['Outlook']==1])+5/14*non_binary_entropy(df[df['Outlook']==2]))"
   ]
  },
  {
   "cell_type": "code",
   "execution_count": 127,
   "id": "62c78107",
   "metadata": {},
   "outputs": [
    {
     "name": "stdout",
     "output_type": "stream",
     "text": [
      "6\n",
      "8\n"
     ]
    }
   ],
   "source": [
    "#wind\n",
    "print(len(df[df['Wind']==0]))\n",
    "print(len(df[df['Wind']==1]))"
   ]
  },
  {
   "cell_type": "code",
   "execution_count": 128,
   "id": "ecf2d17a",
   "metadata": {},
   "outputs": [
    {
     "data": {
      "text/plain": [
       "2.321928094887362"
      ]
     },
     "execution_count": 128,
     "metadata": {},
     "output_type": "execute_result"
    }
   ],
   "source": [
    "6/14 *non_binary_entropy(df[df['Wind']==0])+8/14*non_binary_entropy(df[df['Wind']==1])"
   ]
  },
  {
   "cell_type": "markdown",
   "id": "200ee0af",
   "metadata": {},
   "source": [
    "which attribute is the best classifier by using Gain"
   ]
  },
  {
   "cell_type": "code",
   "execution_count": 224,
   "id": "1acd8d97",
   "metadata": {},
   "outputs": [],
   "source": [
    "def Gain_for_all_columns(df,y):\n",
    "    Gain_S = non_binary_entropy(df[y])\n",
    "    print(\"\\nGain of root: {}\".format(Gain_S))\n",
    "    columns_list = df.columns\n",
    "    maxx = 0\n",
    "    max_column = 0\n",
    "    for column in list(columns_list):\n",
    "        if column == 'Play':\n",
    "            continue\n",
    "        #print(\".............calculating gain for {}\".format(column))\n",
    "        n_total = len(df[column])\n",
    "        percent = []\n",
    "        labels = np.unique(df[column])\n",
    "        summ = 0\n",
    "        i\n",
    "        for label in labels:\n",
    "            #print(\".............label : {}\".format(label))\n",
    "            n_label = len(df[df[column]==label])\n",
    "            p = n_label/n_total\n",
    "            #print(\".............p:{}\".format(p))\n",
    "            #print(\".............adding:{}\".format(p*non_binary_entropy(df[df[column]==label])))\n",
    "            print(\"\\t\\tS_{}={}: E = {}\".format(column,label,non_binary_entropy(df[df[column]==label][y])))\n",
    "            #print(\"p:{}\".format(p))\n",
    "            summ += p*non_binary_entropy(df[df[column]==label][y])\n",
    "            #print(\"\\t\\tp:\",p,\"p*non_binary_entropy(df[df[column]==label]):\",p*non_binary_entropy(df[df[column]==label]))\n",
    "        print(\"Entropy(S,{}) = {}\".format(column,summ))\n",
    "        if maxx < Gain_S-summ:\n",
    "            max_column = column\n",
    "            maxx = Gain_S-summ\n",
    "        print(\"Gain(S, {}): {}\\n\".format(column, Gain_S-summ))\n",
    "    print(\"\\n>>best classifier: {} Gain: {}\".format(max_column, maxx))"
   ]
  },
  {
   "cell_type": "code",
   "execution_count": 225,
   "id": "1d1dd09a",
   "metadata": {},
   "outputs": [
    {
     "name": "stdout",
     "output_type": "stream",
     "text": [
      "\n",
      "Gain of root: 0.9402859586706309\n",
      "\t\tS_Outlook=Overcast: E = 0\n",
      "\t\tS_Outlook=Rain: E = 0.9709505944546686\n",
      "\t\tS_Outlook=Sunny: E = 0.9709505944546686\n",
      "Entropy(S,Outlook) = 0.6935361388961918\n",
      "Gain(S, Outlook): 0.2467498197744391\n",
      "\n",
      "\t\tS_Temp=Cool: E = 0.8112781244591328\n",
      "\t\tS_Temp=Hot: E = 1.0\n",
      "\t\tS_Temp=Mild: E = 0.9182958340544896\n",
      "Entropy(S,Temp) = 0.9110633930116763\n",
      "Gain(S, Temp): 0.029222565658954647\n",
      "\n",
      "\t\tS_Humidity=High: E = 0.9852281360342516\n",
      "\t\tS_Humidity=Normal: E = 0.5916727785823275\n",
      "Entropy(S,Humidity) = 0.7884504573082896\n",
      "Gain(S, Humidity): 0.15183550136234136\n",
      "\n",
      "\t\tS_Wind=Strong: E = 1.0\n",
      "\t\tS_Wind=Weak: E = 0.8112781244591328\n",
      "Entropy(S,Wind) = 0.8921589282623617\n",
      "Gain(S, Wind): 0.04812703040826927\n",
      "\n",
      "\n",
      ">>best classifier: Outlook Gain: 0.2467498197744391\n"
     ]
    }
   ],
   "source": [
    "Gain_for_all_columns(df,'Play')"
   ]
  },
  {
   "cell_type": "markdown",
   "id": "a3cbb040",
   "metadata": {},
   "source": [
    "# CART(Classification and Regression Tree)"
   ]
  },
  {
   "cell_type": "markdown",
   "id": "1bb49366",
   "metadata": {},
   "source": [
    "\n",
    "####  C4.5 : GainInfo\n",
    "\n",
    "#### CART : Gini Index(O), Entropy(X) &BinarySplit\n",
    "\n",
    "#### Regression Tree: Squared Error(O), Entropy(X)"
   ]
  },
  {
   "cell_type": "code",
   "execution_count": 226,
   "id": "62be56fc",
   "metadata": {},
   "outputs": [
    {
     "data": {
      "text/html": [
       "<div>\n",
       "<style scoped>\n",
       "    .dataframe tbody tr th:only-of-type {\n",
       "        vertical-align: middle;\n",
       "    }\n",
       "\n",
       "    .dataframe tbody tr th {\n",
       "        vertical-align: top;\n",
       "    }\n",
       "\n",
       "    .dataframe thead th {\n",
       "        text-align: right;\n",
       "    }\n",
       "</style>\n",
       "<table border=\"1\" class=\"dataframe\">\n",
       "  <thead>\n",
       "    <tr style=\"text-align: right;\">\n",
       "      <th></th>\n",
       "      <th>OUTLOOK</th>\n",
       "      <th>TEMP</th>\n",
       "      <th>HUMIDITY</th>\n",
       "      <th>WINDY</th>\n",
       "      <th>PLAY</th>\n",
       "    </tr>\n",
       "  </thead>\n",
       "  <tbody>\n",
       "    <tr>\n",
       "      <th>0</th>\n",
       "      <td>sunny</td>\n",
       "      <td>85</td>\n",
       "      <td>85</td>\n",
       "      <td>false</td>\n",
       "      <td>No</td>\n",
       "    </tr>\n",
       "    <tr>\n",
       "      <th>1</th>\n",
       "      <td>sunny</td>\n",
       "      <td>80</td>\n",
       "      <td>90</td>\n",
       "      <td>true</td>\n",
       "      <td>No</td>\n",
       "    </tr>\n",
       "    <tr>\n",
       "      <th>2</th>\n",
       "      <td>overcast</td>\n",
       "      <td>83</td>\n",
       "      <td>78</td>\n",
       "      <td>false</td>\n",
       "      <td>Yes</td>\n",
       "    </tr>\n",
       "    <tr>\n",
       "      <th>3</th>\n",
       "      <td>rain</td>\n",
       "      <td>70</td>\n",
       "      <td>96</td>\n",
       "      <td>false</td>\n",
       "      <td>Yes</td>\n",
       "    </tr>\n",
       "    <tr>\n",
       "      <th>4</th>\n",
       "      <td>rain</td>\n",
       "      <td>68</td>\n",
       "      <td>80</td>\n",
       "      <td>false</td>\n",
       "      <td>Yes</td>\n",
       "    </tr>\n",
       "  </tbody>\n",
       "</table>\n",
       "</div>"
      ],
      "text/plain": [
       "    OUTLOOK  TEMP  HUMIDITY  WINDY PLAY\n",
       "0     sunny    85        85  false   No\n",
       "1     sunny    80        90   true   No\n",
       "2  overcast    83        78  false  Yes\n",
       "3      rain    70        96  false  Yes\n",
       "4      rain    68        80  false  Yes"
      ]
     },
     "execution_count": 226,
     "metadata": {},
     "output_type": "execute_result"
    }
   ],
   "source": [
    "OUTLOOK = ['sunny','sunny','overcast','rain','rain','rain','overcast','sunny','sunny','rain','sunny','overcast','overcast','rain']\n",
    "TEMP = [85,80,83,70,68,65,64,72,69,75,75,72,81,71]\n",
    "HUMIDITY = [85,90,78,96,80,70,65,95,70,80,70,90,75,80]\n",
    "WINDY = ['false', 'true', 'false', 'false', 'false', 'true', 'true', 'false', 'false', 'false', 'true', 'true', 'false', 'true']\n",
    "PLAY = ['No','No','Yes','Yes','Yes','No','Yes','No','Yes','Yes','Yes','Yes','Yes','No']\n",
    "df = pd.DataFrame({'OUTLOOK':OUTLOOK, 'TEMP':TEMP, 'HUMIDITY':HUMIDITY, 'WINDY':WINDY, 'PLAY':PLAY})\n",
    "df.head()"
   ]
  },
  {
   "cell_type": "code",
   "execution_count": 227,
   "id": "498f0680",
   "metadata": {},
   "outputs": [
    {
     "name": "stdout",
     "output_type": "stream",
     "text": [
      "\n",
      "Gain of root: 0.9402859586706309\n",
      "\t\tS_OUTLOOK=overcast: E = 0\n",
      "\t\tS_OUTLOOK=rain: E = 0.9709505944546686\n",
      "\t\tS_OUTLOOK=sunny: E = 0.9709505944546686\n",
      "Entropy(S,OUTLOOK) = 0.6935361388961918\n",
      "Gain(S, OUTLOOK): 0.2467498197744391\n",
      "\n",
      "\t\tS_TEMP=64: E = 0\n",
      "\t\tS_TEMP=65: E = 0\n",
      "\t\tS_TEMP=68: E = 0\n",
      "\t\tS_TEMP=69: E = 0\n",
      "\t\tS_TEMP=70: E = 0\n",
      "\t\tS_TEMP=71: E = 0\n",
      "\t\tS_TEMP=72: E = 1.0\n",
      "\t\tS_TEMP=75: E = 0\n",
      "\t\tS_TEMP=80: E = 0\n",
      "\t\tS_TEMP=81: E = 0\n",
      "\t\tS_TEMP=83: E = 0\n",
      "\t\tS_TEMP=85: E = 0\n",
      "Entropy(S,TEMP) = 0.14285714285714285\n",
      "Gain(S, TEMP): 0.7974288158134881\n",
      "\n",
      "\t\tS_HUMIDITY=65: E = 0\n",
      "\t\tS_HUMIDITY=70: E = 0.9182958340544896\n",
      "\t\tS_HUMIDITY=75: E = 0\n",
      "\t\tS_HUMIDITY=78: E = 0\n",
      "\t\tS_HUMIDITY=80: E = 0.9182958340544896\n",
      "\t\tS_HUMIDITY=85: E = 0\n",
      "\t\tS_HUMIDITY=90: E = 1.0\n",
      "\t\tS_HUMIDITY=95: E = 0\n",
      "\t\tS_HUMIDITY=96: E = 0\n",
      "Entropy(S,HUMIDITY) = 0.536412500309067\n",
      "Gain(S, HUMIDITY): 0.40387345836156396\n",
      "\n",
      "\t\tS_WINDY=false: E = 0.8112781244591328\n",
      "\t\tS_WINDY=true: E = 1.0\n",
      "Entropy(S,WINDY) = 0.8921589282623617\n",
      "Gain(S, WINDY): 0.04812703040826927\n",
      "\n",
      "\t\tS_PLAY=No: E = 0\n",
      "\t\tS_PLAY=Yes: E = 0\n",
      "Entropy(S,PLAY) = 0.0\n",
      "Gain(S, PLAY): 0.9402859586706309\n",
      "\n",
      "\n",
      ">>best classifier: PLAY Gain: 0.9402859586706309\n"
     ]
    }
   ],
   "source": [
    "Gain_for_all_columns(df,'PLAY')# x continuous"
   ]
  },
  {
   "cell_type": "code",
   "execution_count": 232,
   "id": "cd620a01",
   "metadata": {},
   "outputs": [],
   "source": [
    "P = [ [1, 0, 1, 1, 1, 0, 0, 1, 0, 0] , [1, 1, 1, 0 ,0] ]#Set"
   ]
  },
  {
   "cell_type": "code",
   "execution_count": 235,
   "id": "0296d60c",
   "metadata": {},
   "outputs": [],
   "source": [
    "def entropy_of_P(P):\n",
    "    P_0 = float(len(P[0]))/(len(P[0])+len(P[1]))\n",
    "    P_1 = float(len(P[1]))/(len(P[0])+len(P[1]))\n",
    "    P_entropy = P_0*non_binary_entropy(P[0])+P_1*non_binary_entropy(P[1])\n",
    "    return P_entropy"
   ]
  },
  {
   "cell_type": "code",
   "execution_count": 236,
   "id": "a5de35a1",
   "metadata": {},
   "outputs": [
    {
     "data": {
      "text/plain": [
       "0.9903168648182228"
      ]
     },
     "execution_count": 236,
     "metadata": {},
     "output_type": "execute_result"
    }
   ],
   "source": [
    "entropy_of_P(P)"
   ]
  },
  {
   "cell_type": "markdown",
   "id": "21d8dee2",
   "metadata": {},
   "source": [
    "## Alternative Measures for Selecting Attributes(C4.5)"
   ]
  },
  {
   "cell_type": "code",
   "execution_count": 8,
   "id": "915dfa08",
   "metadata": {},
   "outputs": [
    {
     "data": {
      "text/html": [
       "<div>\n",
       "<style scoped>\n",
       "    .dataframe tbody tr th:only-of-type {\n",
       "        vertical-align: middle;\n",
       "    }\n",
       "\n",
       "    .dataframe tbody tr th {\n",
       "        vertical-align: top;\n",
       "    }\n",
       "\n",
       "    .dataframe thead th {\n",
       "        text-align: right;\n",
       "    }\n",
       "</style>\n",
       "<table border=\"1\" class=\"dataframe\">\n",
       "  <thead>\n",
       "    <tr style=\"text-align: right;\">\n",
       "      <th></th>\n",
       "      <th>A</th>\n",
       "      <th>B</th>\n",
       "      <th>PLAY</th>\n",
       "    </tr>\n",
       "  </thead>\n",
       "  <tbody>\n",
       "    <tr>\n",
       "      <th>0</th>\n",
       "      <td>a1</td>\n",
       "      <td>b1</td>\n",
       "      <td>Yes</td>\n",
       "    </tr>\n",
       "    <tr>\n",
       "      <th>1</th>\n",
       "      <td>a1</td>\n",
       "      <td>b2</td>\n",
       "      <td>Yes</td>\n",
       "    </tr>\n",
       "    <tr>\n",
       "      <th>2</th>\n",
       "      <td>a1</td>\n",
       "      <td>b3</td>\n",
       "      <td>Yes</td>\n",
       "    </tr>\n",
       "    <tr>\n",
       "      <th>3</th>\n",
       "      <td>a1</td>\n",
       "      <td>b4</td>\n",
       "      <td>No</td>\n",
       "    </tr>\n",
       "    <tr>\n",
       "      <th>4</th>\n",
       "      <td>a2</td>\n",
       "      <td>b5</td>\n",
       "      <td>No</td>\n",
       "    </tr>\n",
       "    <tr>\n",
       "      <th>5</th>\n",
       "      <td>a2</td>\n",
       "      <td>b6</td>\n",
       "      <td>No</td>\n",
       "    </tr>\n",
       "  </tbody>\n",
       "</table>\n",
       "</div>"
      ],
      "text/plain": [
       "    A   B PLAY\n",
       "0  a1  b1  Yes\n",
       "1  a1  b2  Yes\n",
       "2  a1  b3  Yes\n",
       "3  a1  b4   No\n",
       "4  a2  b5   No\n",
       "5  a2  b6   No"
      ]
     },
     "execution_count": 8,
     "metadata": {},
     "output_type": "execute_result"
    }
   ],
   "source": [
    "\n",
    "A = ['a1','a1','a1','a1','a2','a2']\n",
    "B = ['b1','b2','b3','b4','b5','b6']\n",
    "PLAY = ['Yes','Yes','Yes','No','No','No']\n",
    "df = pd.DataFrame({'A':A,'B':B,'PLAY':PLAY})\n",
    "df"
   ]
  },
  {
   "cell_type": "code",
   "execution_count": 20,
   "id": "1bf19658",
   "metadata": {},
   "outputs": [],
   "source": [
    "def convert_to_binary(_set):#yes/no\n",
    "    _set = list(_set)\n",
    "    result = [1 if _ == 'Yes' else 0 for _ in _set]\n",
    "    return result"
   ]
  },
  {
   "cell_type": "code",
   "execution_count": 22,
   "id": "8c7e534b",
   "metadata": {},
   "outputs": [
    {
     "name": "stdout",
     "output_type": "stream",
     "text": [
      "entropy: 1.0\n"
     ]
    }
   ],
   "source": [
    "entropy_S = entropy(convert_to_binary(df['PLAY']))"
   ]
  },
  {
   "cell_type": "code",
   "execution_count": 96,
   "id": "26ac32cf",
   "metadata": {},
   "outputs": [
    {
     "data": {
      "text/plain": [
       "0    a1\n",
       "1    a1\n",
       "2    a1\n",
       "3    a1\n",
       "4    a2\n",
       "5    a2\n",
       "Name: A, dtype: object"
      ]
     },
     "execution_count": 96,
     "metadata": {},
     "output_type": "execute_result"
    }
   ],
   "source": [
    "df['A']"
   ]
  },
  {
   "cell_type": "code",
   "execution_count": 133,
   "id": "219d7502",
   "metadata": {},
   "outputs": [],
   "source": [
    "def Gain(sets, alphabet = 'A'):\n",
    "    entropy_S = entropy(convert_to_binary(sets['PLAY']))#where 'label'\n",
    "    \n",
    "    print('entropy_S:',entropy_S)\n",
    "    #print(sets.columns)\n",
    "    #print('alphabet:',alphabet)\n",
    "    #list_sets = sets[,alphabet].values\n",
    "    #print(list_sets)\n",
    "    attrs = list(np.unique(alphabet))\n",
    "    #attrs = list(np.unique(sets[alphabet]))#''\n",
    "    print('attrs:',attrs)\n",
    "    result = 0\n",
    "    for a in attrs:\n",
    "        #print(\"a:\",a)\n",
    "        n_a = list(alphabet).count(a)\n",
    "        #print('n_a:',n_a)\n",
    "        P = n_a/len(alphabet)\n",
    "        #print('P:',P)\n",
    "        #print(sets[sets['A'] == a]['PLAY'])\n",
    "        result += -P*entropy(convert_to_binary(sets[alphabet == a]['PLAY']))\n",
    "        #print(\"result:\",result)\n",
    "    #print('\\nentropy_S:',entropy_S)\n",
    "    \n",
    "    result = entropy_S + result\n",
    "    return result"
   ]
  },
  {
   "cell_type": "code",
   "execution_count": 122,
   "id": "e27ceefc",
   "metadata": {},
   "outputs": [
    {
     "name": "stdout",
     "output_type": "stream",
     "text": [
      "entropy_S: 1.0\n",
      "attrs: ['a1', 'a2']\n"
     ]
    },
    {
     "data": {
      "text/plain": [
       "0.4591479170272448"
      ]
     },
     "execution_count": 122,
     "metadata": {},
     "output_type": "execute_result"
    }
   ],
   "source": [
    "Gain(df,df['A'])"
   ]
  },
  {
   "cell_type": "code",
   "execution_count": 123,
   "id": "6cd53fea",
   "metadata": {},
   "outputs": [],
   "source": [
    "def SplitInfo(sets, attr):\n",
    "    vals = np.unique(attr)\n",
    "    result = 0\n",
    "    for val in vals:\n",
    "        n_val= list(attr).count(val)\n",
    "        P = n_val/len(attr)\n",
    "        result += -P*math.log(P,2)\n",
    "    return result"
   ]
  },
  {
   "cell_type": "code",
   "execution_count": 124,
   "id": "9820b7bc",
   "metadata": {},
   "outputs": [
    {
     "data": {
      "text/plain": [
       "0.9182958340544896"
      ]
     },
     "execution_count": 124,
     "metadata": {},
     "output_type": "execute_result"
    }
   ],
   "source": [
    "SplitInfo(df, A)"
   ]
  },
  {
   "cell_type": "code",
   "execution_count": 125,
   "id": "f77ea772",
   "metadata": {},
   "outputs": [
    {
     "data": {
      "text/plain": [
       "2.584962500721156"
      ]
     },
     "execution_count": 125,
     "metadata": {},
     "output_type": "execute_result"
    }
   ],
   "source": [
    "SplitInfo(df,B)"
   ]
  },
  {
   "cell_type": "code",
   "execution_count": 126,
   "id": "a1c0ef33",
   "metadata": {},
   "outputs": [],
   "source": [
    "def GainInfo(_set, alphabet = 'A'):\n",
    "    G = Gain(_set, _set[alphabet])\n",
    "    S = SplitInfo(_set, list(_set[alphabet]))\n",
    "    print('Gain/Splitinfo: {}/{}'.format(G,S))\n",
    "    return G/S"
   ]
  },
  {
   "cell_type": "code",
   "execution_count": 129,
   "id": "ef105c88",
   "metadata": {},
   "outputs": [
    {
     "name": "stdout",
     "output_type": "stream",
     "text": [
      "entropy_S: 1.0\n",
      "attrs: ['a1', 'a2']\n",
      "Gain/Splitinfo: 0.4591479170272448/0.9182958340544896\n"
     ]
    },
    {
     "data": {
      "text/plain": [
       "0.5"
      ]
     },
     "execution_count": 129,
     "metadata": {},
     "output_type": "execute_result"
    }
   ],
   "source": [
    "GainInfo(df,'A')"
   ]
  },
  {
   "cell_type": "code",
   "execution_count": 130,
   "id": "37c98c2a",
   "metadata": {},
   "outputs": [
    {
     "name": "stdout",
     "output_type": "stream",
     "text": [
      "entropy_S: 1.0\n",
      "attrs: ['b1', 'b2', 'b3', 'b4', 'b5', 'b6']\n",
      "Gain/Splitinfo: 1.0/2.584962500721156\n"
     ]
    },
    {
     "data": {
      "text/plain": [
       "0.38685280723454163"
      ]
     },
     "execution_count": 130,
     "metadata": {},
     "output_type": "execute_result"
    }
   ],
   "source": [
    "GainInfo(df,'B')"
   ]
  },
  {
   "cell_type": "markdown",
   "id": "3450424b",
   "metadata": {},
   "source": [
    "## Regression Tree\n"
   ]
  },
  {
   "cell_type": "code",
   "execution_count": 238,
   "id": "df5a5800",
   "metadata": {},
   "outputs": [],
   "source": [
    "A = ['Strong','Strong','Weak','Weak']\n",
    "B = ['High','Low','High','Low']\n",
    "Output = [1.5,1.0,2.0,1.0]\n",
    "df = pd.DataFrame({'A':A,'B':B,'Output':Output})"
   ]
  },
  {
   "cell_type": "code",
   "execution_count": 239,
   "id": "05f03acf",
   "metadata": {},
   "outputs": [],
   "source": [
    "import math\n",
    "def SquaredError_RT(df, alphabet = 'A'):\n",
    "    attr = np.unique(df[alphabet])\n",
    "    summ = 0\n",
    "    for a in attr:\n",
    "        tmp_df = df[df[alphabet]==a]\n",
    "        #print(tmp_df)\n",
    "        mu = np.mean(tmp_df['Output'])\n",
    "        #print(mu)\n",
    "        li = list(tmp_df['Output']-mu)\n",
    "        li = [(_)**2 for _ in li]\n",
    "        tmp_result = sum(li)\n",
    "        print(a,':',tmp_result)\n",
    "        n_tot=len(df[alphabet])\n",
    "        n_a = len(tmp_df)\n",
    "        summ += (n_a/n_tot)*tmp_result\n",
    "        #print(np.sum(math.sqrt(tmp_df[alphabet]-mu)))\n",
    "    \n",
    "    return summ"
   ]
  },
  {
   "cell_type": "code",
   "execution_count": 240,
   "id": "8876bccc",
   "metadata": {},
   "outputs": [
    {
     "name": "stdout",
     "output_type": "stream",
     "text": [
      "Strong : 0.125\n",
      "Weak : 0.5\n"
     ]
    },
    {
     "data": {
      "text/plain": [
       "0.3125"
      ]
     },
     "execution_count": 240,
     "metadata": {},
     "output_type": "execute_result"
    }
   ],
   "source": [
    "SquaredError_RT(df,'A')#'A  '"
   ]
  },
  {
   "cell_type": "code",
   "execution_count": 241,
   "id": "d46edd69",
   "metadata": {},
   "outputs": [
    {
     "name": "stdout",
     "output_type": "stream",
     "text": [
      "High : 0.125\n",
      "Low : 0.0\n"
     ]
    },
    {
     "data": {
      "text/plain": [
       "0.0625"
      ]
     },
     "execution_count": 241,
     "metadata": {},
     "output_type": "execute_result"
    }
   ],
   "source": [
    "SquaredError_RT(df,'B')"
   ]
  },
  {
   "cell_type": "code",
   "execution_count": 242,
   "id": "b1072980",
   "metadata": {},
   "outputs": [],
   "source": [
    "import numpy as np"
   ]
  },
  {
   "cell_type": "code",
   "execution_count": 243,
   "id": "2af95ff9",
   "metadata": {},
   "outputs": [],
   "source": [
    "import math"
   ]
  },
  {
   "cell_type": "code",
   "execution_count": 244,
   "id": "afc87473",
   "metadata": {},
   "outputs": [],
   "source": [
    "data = [[43, 43], [12, 19], [34, 40], [32, 39], [23, 25]]"
   ]
  },
  {
   "cell_type": "code",
   "execution_count": 246,
   "id": "9ae07e73",
   "metadata": {},
   "outputs": [
    {
     "data": {
      "text/plain": [
       "7.551999999999997"
      ]
     },
     "execution_count": 246,
     "metadata": {},
     "output_type": "execute_result"
    }
   ],
   "source": [
    "summ = 0\n",
    "for li in data:\n",
    "    x,y = li[0],li[1]\n",
    "    y_hat = 9.2+0.8*x\n",
    "    summ += (y-y_hat)**2\n",
    "summ/len(data)"
   ]
  },
  {
   "cell_type": "code",
   "execution_count": null,
   "id": "5ef39117",
   "metadata": {},
   "outputs": [],
   "source": []
  }
 ],
 "metadata": {
  "kernelspec": {
   "display_name": "Python 3",
   "language": "python",
   "name": "python3"
  },
  "language_info": {
   "codemirror_mode": {
    "name": "ipython",
    "version": 3
   },
   "file_extension": ".py",
   "mimetype": "text/x-python",
   "name": "python",
   "nbconvert_exporter": "python",
   "pygments_lexer": "ipython3",
   "version": "3.9.5"
  }
 },
 "nbformat": 4,
 "nbformat_minor": 5
}
