{
 "cells": [
  {
   "cell_type": "code",
   "execution_count": 2,
   "id": "a4602b96",
   "metadata": {},
   "outputs": [],
   "source": [
    "import numpy as np\n",
    "import math\n",
    "import pandas as pd"
   ]
  },
  {
   "cell_type": "code",
   "execution_count": 25,
   "id": "278df1af",
   "metadata": {},
   "outputs": [
    {
     "name": "stdout",
     "output_type": "stream",
     "text": [
      "Requirement already satisfied: scipy in c:\\anaconda3\\envs\\dsfs\\lib\\site-packages (1.7.0)\n",
      "Requirement already satisfied: numpy<1.23.0,>=1.16.5 in c:\\anaconda3\\envs\\dsfs\\lib\\site-packages (from scipy) (1.19.5)\n"
     ]
    }
   ],
   "source": [
    "!pip install scipy"
   ]
  },
  {
   "cell_type": "markdown",
   "id": "dceab5db",
   "metadata": {},
   "source": [
    "# List of Distance:\n",
    "- Generalized Euclidean distance\n",
    "- Mahalanobis distance\n",
    "- Cosine similarity\n",
    "- Pearson Correlation\n",
    "- Jaccard similarity"
   ]
  },
  {
   "cell_type": "markdown",
   "id": "4512a6c0",
   "metadata": {},
   "source": [
    "## Manhattan distance"
   ]
  },
  {
   "cell_type": "code",
   "execution_count": 8,
   "id": "17dcab63",
   "metadata": {},
   "outputs": [],
   "source": [
    "def Manhattan_Distance(arr_x,arr_y):#L1 norm\n",
    "    subtr = np.subtract(arr_x, arr_y)\n",
    "    abstr = abs(subtr)\n",
    "    summation = np.sum(abstr)\n",
    "    return summation"
   ]
  },
  {
   "cell_type": "markdown",
   "id": "d1d3bbe0",
   "metadata": {},
   "source": [
    "## Euclidean Distance"
   ]
  },
  {
   "cell_type": "code",
   "execution_count": 5,
   "id": "76c711b0",
   "metadata": {},
   "outputs": [],
   "source": [
    "def Euclidiean_Distance(arr_x, arr_y):#L2 norm\n",
    "    subtr = np.subtract(arr_x, arr_y)\n",
    "    square = np.square(subtr)\n",
    "    summation = np.sum(square)\n",
    "    root = np.sqrt(summation)\n",
    "    return root"
   ]
  },
  {
   "cell_type": "markdown",
   "id": "d854aef6",
   "metadata": {},
   "source": [
    "## $L_{infinity}$ norm"
   ]
  },
  {
   "cell_type": "code",
   "execution_count": 7,
   "id": "0028fa76",
   "metadata": {},
   "outputs": [],
   "source": [
    "def Manhattan_Distance_infinity(arr_x,arr_y):#L_infinity norm\n",
    "    subtr = np.subtract(arr_x, arr_y)\n",
    "    abstr = abs(subtr)\n",
    "    return max(abstr)"
   ]
  },
  {
   "cell_type": "markdown",
   "id": "f247baa4",
   "metadata": {},
   "source": [
    "## Mahalanobis distance"
   ]
  },
  {
   "cell_type": "code",
   "execution_count": 20,
   "id": "612da69f",
   "metadata": {},
   "outputs": [],
   "source": [
    "import scipy\n",
    "def mahalanobis(x=None, y=None, cov=None):\n",
    "    \"\"\"Compute the Mahalanobis Distance between each row of x and the data  \n",
    "    x    : vector or matrix of data with, say, p columns.\n",
    "    data : ndarray of the distribution from which Mahalanobis distance of each observation of x is to be computed.\n",
    "    cov  : covariance matrix (p x p) of the distribution. If None, will be computed from data.\n",
    "    \"\"\"\n",
    "    y = np.array(y)\n",
    "    x_minus_mu = x - np.mean(y)\n",
    "    if not cov:\n",
    "        cov = np.cov(y.T)\n",
    "    inv_covmat = scipy.linalg.inv(cov)\n",
    "    left_term = np.dot(x_minus_mu, inv_covmat)\n",
    "    mahal = np.dot(left_term, x_minus_mu.T)\n",
    "    return mahal.diagonal()"
   ]
  },
  {
   "cell_type": "code",
   "execution_count": 11,
   "id": "4e6d7c8c",
   "metadata": {},
   "outputs": [],
   "source": [
    "#un-correlated case\n",
    "def Mahal_uncorrelated(arr_x,arr_y):\n",
    "    subtr = np.subtract(arr_x,arr_y)\n",
    "    square = np.square(subtr)\n",
    "    cov = np.cov(arr_x, arr_y)\n",
    "    cov_square = np.square(cov)\n",
    "    summation = np.sum(subtr/cov_square)\n",
    "    root = np.sqrt(summation)\n",
    "    return root"
   ]
  },
  {
   "cell_type": "code",
   "execution_count": 29,
   "id": "5ef49ef3",
   "metadata": {},
   "outputs": [],
   "source": [
    "#correlated case\n",
    "def Mahal_correlated(arr_x, arr_y):\n",
    "    return None\n",
    "\n"
   ]
  },
  {
   "cell_type": "markdown",
   "id": "acd806c2",
   "metadata": {},
   "source": [
    "## Cosine Similarity"
   ]
  },
  {
   "cell_type": "code",
   "execution_count": 11,
   "id": "17197c9d",
   "metadata": {},
   "outputs": [],
   "source": [
    "def Cosine_similarity(arr_x, arr_y):\n",
    "    dot_product = np.dot(x,y)\n",
    "    square_x = np.square(x)\n",
    "    abs_x = np.sqrt(square_x)\n",
    "    square_y = np.square(y)\n",
    "    abs_y = np.sqrt(square_y)\n",
    "    divisor = np.multiply(abs_x,abs_y)\n",
    "    return dot_product/divisor"
   ]
  },
  {
   "cell_type": "markdown",
   "id": "5dd746d5",
   "metadata": {},
   "source": [
    "## Pearson Correlation Coefficient"
   ]
  },
  {
   "cell_type": "code",
   "execution_count": 41,
   "id": "fa98a2e4",
   "metadata": {},
   "outputs": [],
   "source": [
    "\n",
    "#이걸로 사용\n",
    "from scipy import stats\n",
    "stats.pearsonr(x,y)#첫 반환값이 답\n",
    "'''\n",
    "def Pearson_Correlation_Coefficient(arr_x, arr_y):#잘못 계산됨\n",
    "    up_x = (x-np.mean(x))\n",
    "    up_y = (y-np.mean(y))\n",
    "    up = np.sum(np.multiply(up_x,up_y))\n",
    "    down_x = np.square(x-np.mean(x))\n",
    "    down_x = np.sum(down_x)\n",
    "    down_y = np.square(y-np.mean(y))\n",
    "    down_y = np.sum(down_y)\n",
    "    down = np.sqrt(np.multiply(down_x, down_y))\n",
    "    return up/down'''"
   ]
  },
  {
   "cell_type": "markdown",
   "id": "1a06ef20",
   "metadata": {},
   "source": [
    "## Jaccard Similarity"
   ]
  },
  {
   "cell_type": "code",
   "execution_count": 2,
   "id": "8de0a771",
   "metadata": {},
   "outputs": [],
   "source": [
    "def Jaccard_Similarity(arr_x, arr_y):\n",
    "    set_x = set(arr_x)\n",
    "    set_y = set(arr_y)\n",
    "    \n",
    "    up = len(set_x.intersection(set_y))\n",
    "    down = len(set_x.union(set_y))\n",
    "    print(\"{}/{}\".format(up,down))\n",
    "    return up/down\n",
    "    "
   ]
  },
  {
   "cell_type": "markdown",
   "id": "1c27decb",
   "metadata": {},
   "source": [
    "# test"
   ]
  },
  {
   "cell_type": "markdown",
   "id": "2ccac261",
   "metadata": {},
   "source": [
    "## data"
   ]
  },
  {
   "cell_type": "code",
   "execution_count": 5,
   "id": "49b2dbfc",
   "metadata": {},
   "outputs": [],
   "source": [
    "#data\n",
    "x = [1,6,5,8,3,5]\n",
    "y = [2,7,6,9,4,6]\n",
    "y2 = [2,3,5,8,1,6]"
   ]
  },
  {
   "cell_type": "markdown",
   "id": "e2571522",
   "metadata": {},
   "source": [
    "# Manhattan"
   ]
  },
  {
   "cell_type": "code",
   "execution_count": 15,
   "id": "6d66d426",
   "metadata": {},
   "outputs": [
    {
     "data": {
      "text/plain": [
       "6"
      ]
     },
     "execution_count": 15,
     "metadata": {},
     "output_type": "execute_result"
    }
   ],
   "source": [
    "Manhattan_Distance(x,y)"
   ]
  },
  {
   "cell_type": "code",
   "execution_count": 17,
   "id": "b0d82d28",
   "metadata": {},
   "outputs": [
    {
     "data": {
      "text/plain": [
       "6"
      ]
     },
     "execution_count": 17,
     "metadata": {},
     "output_type": "execute_result"
    }
   ],
   "source": [
    "#검증용\n",
    "# calculating manhattan distance between vectors\n",
    "from math import sqrt\n",
    "def manhattan_distance(a, b):\n",
    "    return sum(abs(e1-e2) for e1, e2 in zip(a,b))\n",
    "manhattan_distance(x,y)"
   ]
  },
  {
   "cell_type": "markdown",
   "id": "2c7e020a",
   "metadata": {},
   "source": [
    "# Euclidean"
   ]
  },
  {
   "cell_type": "code",
   "execution_count": 18,
   "id": "bcca8687",
   "metadata": {},
   "outputs": [
    {
     "data": {
      "text/plain": [
       "2.449489742783178"
      ]
     },
     "execution_count": 18,
     "metadata": {},
     "output_type": "execute_result"
    }
   ],
   "source": [
    "Euclidiean_Distance(x,y)"
   ]
  },
  {
   "cell_type": "code",
   "execution_count": 9,
   "id": "90addc39",
   "metadata": {},
   "outputs": [
    {
     "data": {
      "text/plain": [
       "2.449489742783178"
      ]
     },
     "execution_count": 9,
     "metadata": {},
     "output_type": "execute_result"
    }
   ],
   "source": [
    "#검증용\n",
    "from scipy.spatial import distance\n",
    "distance.euclidean(x,y)"
   ]
  },
  {
   "cell_type": "markdown",
   "id": "f2bbc118",
   "metadata": {},
   "source": [
    "# Manhattan Infinity"
   ]
  },
  {
   "cell_type": "code",
   "execution_count": 20,
   "id": "6015796e",
   "metadata": {},
   "outputs": [
    {
     "data": {
      "text/plain": [
       "1"
      ]
     },
     "execution_count": 20,
     "metadata": {},
     "output_type": "execute_result"
    }
   ],
   "source": [
    "Manhattan_Distance_infinity(x,y)"
   ]
  },
  {
   "cell_type": "markdown",
   "id": "72354444",
   "metadata": {},
   "source": [
    "# Mahalanobis"
   ]
  },
  {
   "cell_type": "code",
   "execution_count": 24,
   "id": "78e2a917",
   "metadata": {},
   "outputs": [
    {
     "ename": "LinAlgError",
     "evalue": "0-dimensional array given. Array must be at least two-dimensional",
     "output_type": "error",
     "traceback": [
      "\u001b[1;31m---------------------------------------------------------------------------\u001b[0m",
      "\u001b[1;31mLinAlgError\u001b[0m                               Traceback (most recent call last)",
      "\u001b[1;32m<ipython-input-24-eb2fde134d43>\u001b[0m in \u001b[0;36m<module>\u001b[1;34m\u001b[0m\n\u001b[1;32m----> 1\u001b[1;33m \u001b[0mcov_x_inv\u001b[0m \u001b[1;33m=\u001b[0m \u001b[0mnp\u001b[0m\u001b[1;33m.\u001b[0m\u001b[0mlinalg\u001b[0m\u001b[1;33m.\u001b[0m\u001b[0minv\u001b[0m\u001b[1;33m(\u001b[0m\u001b[0mnp\u001b[0m\u001b[1;33m.\u001b[0m\u001b[0mcov\u001b[0m\u001b[1;33m(\u001b[0m\u001b[0mx\u001b[0m\u001b[1;33m,\u001b[0m\u001b[0mrowvar\u001b[0m\u001b[1;33m=\u001b[0m\u001b[1;32mFalse\u001b[0m\u001b[1;33m)\u001b[0m\u001b[1;33m)\u001b[0m\u001b[1;33m\u001b[0m\u001b[1;33m\u001b[0m\u001b[0m\n\u001b[0m\u001b[0;32m      2\u001b[0m \u001b[0mcdist\u001b[0m \u001b[1;33m=\u001b[0m \u001b[0mscipy\u001b[0m\u001b[1;33m.\u001b[0m\u001b[0mspatial\u001b[0m\u001b[1;33m.\u001b[0m\u001b[0mdistance\u001b[0m\u001b[1;33m.\u001b[0m\u001b[0mcdist\u001b[0m\u001b[1;33m\u001b[0m\u001b[1;33m\u001b[0m\u001b[0m\n\u001b[0;32m      3\u001b[0m \u001b[0mmd\u001b[0m \u001b[1;33m=\u001b[0m \u001b[0mcdist\u001b[0m\u001b[1;33m(\u001b[0m\u001b[0my\u001b[0m\u001b[1;33m,\u001b[0m\u001b[0mx\u001b[0m\u001b[1;33m,\u001b[0m\u001b[1;34m'mahalanobis'\u001b[0m\u001b[1;33m,\u001b[0m\u001b[0mcov_x_inv\u001b[0m\u001b[1;33m)\u001b[0m\u001b[1;33m\u001b[0m\u001b[1;33m\u001b[0m\u001b[0m\n",
      "\u001b[1;32m<__array_function__ internals>\u001b[0m in \u001b[0;36minv\u001b[1;34m(*args, **kwargs)\u001b[0m\n",
      "\u001b[1;32mC:\\Anaconda3\\envs\\dsfs\\lib\\site-packages\\numpy\\linalg\\linalg.py\u001b[0m in \u001b[0;36minv\u001b[1;34m(a)\u001b[0m\n\u001b[0;32m    538\u001b[0m     \"\"\"\n\u001b[0;32m    539\u001b[0m     \u001b[0ma\u001b[0m\u001b[1;33m,\u001b[0m \u001b[0mwrap\u001b[0m \u001b[1;33m=\u001b[0m \u001b[0m_makearray\u001b[0m\u001b[1;33m(\u001b[0m\u001b[0ma\u001b[0m\u001b[1;33m)\u001b[0m\u001b[1;33m\u001b[0m\u001b[1;33m\u001b[0m\u001b[0m\n\u001b[1;32m--> 540\u001b[1;33m     \u001b[0m_assert_stacked_2d\u001b[0m\u001b[1;33m(\u001b[0m\u001b[0ma\u001b[0m\u001b[1;33m)\u001b[0m\u001b[1;33m\u001b[0m\u001b[1;33m\u001b[0m\u001b[0m\n\u001b[0m\u001b[0;32m    541\u001b[0m     \u001b[0m_assert_stacked_square\u001b[0m\u001b[1;33m(\u001b[0m\u001b[0ma\u001b[0m\u001b[1;33m)\u001b[0m\u001b[1;33m\u001b[0m\u001b[1;33m\u001b[0m\u001b[0m\n\u001b[0;32m    542\u001b[0m     \u001b[0mt\u001b[0m\u001b[1;33m,\u001b[0m \u001b[0mresult_t\u001b[0m \u001b[1;33m=\u001b[0m \u001b[0m_commonType\u001b[0m\u001b[1;33m(\u001b[0m\u001b[0ma\u001b[0m\u001b[1;33m)\u001b[0m\u001b[1;33m\u001b[0m\u001b[1;33m\u001b[0m\u001b[0m\n",
      "\u001b[1;32mC:\\Anaconda3\\envs\\dsfs\\lib\\site-packages\\numpy\\linalg\\linalg.py\u001b[0m in \u001b[0;36m_assert_stacked_2d\u001b[1;34m(*arrays)\u001b[0m\n\u001b[0;32m    195\u001b[0m     \u001b[1;32mfor\u001b[0m \u001b[0ma\u001b[0m \u001b[1;32min\u001b[0m \u001b[0marrays\u001b[0m\u001b[1;33m:\u001b[0m\u001b[1;33m\u001b[0m\u001b[1;33m\u001b[0m\u001b[0m\n\u001b[0;32m    196\u001b[0m         \u001b[1;32mif\u001b[0m \u001b[0ma\u001b[0m\u001b[1;33m.\u001b[0m\u001b[0mndim\u001b[0m \u001b[1;33m<\u001b[0m \u001b[1;36m2\u001b[0m\u001b[1;33m:\u001b[0m\u001b[1;33m\u001b[0m\u001b[1;33m\u001b[0m\u001b[0m\n\u001b[1;32m--> 197\u001b[1;33m             raise LinAlgError('%d-dimensional array given. Array must be '\n\u001b[0m\u001b[0;32m    198\u001b[0m                     'at least two-dimensional' % a.ndim)\n\u001b[0;32m    199\u001b[0m \u001b[1;33m\u001b[0m\u001b[0m\n",
      "\u001b[1;31mLinAlgError\u001b[0m: 0-dimensional array given. Array must be at least two-dimensional"
     ]
    }
   ],
   "source": [
    "cov_x_inv = np.linalg.inv(np.cov(x,rowvar=False)) \n",
    "cdist = scipy.spatial.distance.cdist \n",
    "md = cdist(y,x,'mahalanobis',cov_x_inv)"
   ]
  },
  {
   "cell_type": "markdown",
   "id": "bdf6c1b0",
   "metadata": {},
   "source": [
    "# Pearson"
   ]
  },
  {
   "cell_type": "code",
   "execution_count": 1,
   "id": "41e4ea79",
   "metadata": {},
   "outputs": [
    {
     "ename": "NameError",
     "evalue": "name 'x' is not defined",
     "output_type": "error",
     "traceback": [
      "\u001b[1;31m---------------------------------------------------------------------------\u001b[0m",
      "\u001b[1;31mNameError\u001b[0m                                 Traceback (most recent call last)",
      "\u001b[1;32m<ipython-input-1-8ff611ab36a9>\u001b[0m in \u001b[0;36m<module>\u001b[1;34m\u001b[0m\n\u001b[0;32m      1\u001b[0m \u001b[1;32mfrom\u001b[0m \u001b[0mscipy\u001b[0m \u001b[1;32mimport\u001b[0m \u001b[0mstats\u001b[0m\u001b[1;33m\u001b[0m\u001b[1;33m\u001b[0m\u001b[0m\n\u001b[1;32m----> 2\u001b[1;33m \u001b[0mprint\u001b[0m\u001b[1;33m(\u001b[0m\u001b[0mstats\u001b[0m\u001b[1;33m.\u001b[0m\u001b[0mpearsonr\u001b[0m\u001b[1;33m(\u001b[0m\u001b[0mx\u001b[0m\u001b[1;33m,\u001b[0m\u001b[0my\u001b[0m\u001b[1;33m)\u001b[0m\u001b[1;33m[\u001b[0m\u001b[1;36m0\u001b[0m\u001b[1;33m]\u001b[0m\u001b[1;33m)\u001b[0m\u001b[1;31m#첫 인자가 답\u001b[0m\u001b[1;33m\u001b[0m\u001b[1;33m\u001b[0m\u001b[0m\n\u001b[0m\u001b[0;32m      3\u001b[0m \u001b[0mprint\u001b[0m\u001b[1;33m(\u001b[0m\u001b[0mstats\u001b[0m\u001b[1;33m.\u001b[0m\u001b[0mpearsonr\u001b[0m\u001b[1;33m(\u001b[0m\u001b[0mx\u001b[0m\u001b[1;33m,\u001b[0m\u001b[0my2\u001b[0m\u001b[1;33m)\u001b[0m\u001b[1;33m[\u001b[0m\u001b[1;36m0\u001b[0m\u001b[1;33m]\u001b[0m\u001b[1;33m)\u001b[0m\u001b[1;33m\u001b[0m\u001b[1;33m\u001b[0m\u001b[0m\n",
      "\u001b[1;31mNameError\u001b[0m: name 'x' is not defined"
     ]
    }
   ],
   "source": [
    "from scipy import stats\n",
    "print(stats.pearsonr(x,y)[0])#첫 인자가 답\n",
    "print(stats.pearsonr(x,y2)[0])"
   ]
  },
  {
   "cell_type": "code",
   "execution_count": 4,
   "id": "75936246",
   "metadata": {},
   "outputs": [
    {
     "name": "stdout",
     "output_type": "stream",
     "text": [
      "0.05050762722761049\n",
      "-0.23586408826243166\n",
      "-0.5400617248673217\n",
      "\n",
      " 0.05050762722761049\n",
      "0.23586408826243166\n",
      "0.5400617248673217\n"
     ]
    }
   ],
   "source": [
    "#padlet 예시\n",
    "a = [4,5,8,3,9,7]\n",
    "b = [3,5,6,7,6,3]\n",
    "c = [1,6,8,9,2,4]\n",
    "d = [4,3,6,7,1,3]\n",
    "from scipy import stats\n",
    "print(stats.pearsonr(a,b)[0])\n",
    "print(stats.pearsonr(a,c)[0])\n",
    "print(stats.pearsonr(a,d)[0])\n",
    "\n",
    "\n",
    "#강한: abs(절대값)으로 비교해야함\n",
    "print(\"\\n\",abs(stats.pearsonr(a,b)[0]))\n",
    "print(abs(stats.pearsonr(a,c)[0]))\n",
    "print(abs(stats.pearsonr(a,d)[0]))"
   ]
  },
  {
   "cell_type": "markdown",
   "id": "87e97000",
   "metadata": {},
   "source": [
    "# Jaccarrd"
   ]
  },
  {
   "cell_type": "code",
   "execution_count": 1,
   "id": "60321b5f",
   "metadata": {},
   "outputs": [
    {
     "ename": "NameError",
     "evalue": "name 'Jaccard_Similarity' is not defined",
     "output_type": "error",
     "traceback": [
      "\u001b[1;31m---------------------------------------------------------------------------\u001b[0m",
      "\u001b[1;31mNameError\u001b[0m                                 Traceback (most recent call last)",
      "\u001b[1;32m<ipython-input-1-bacfaca3ad65>\u001b[0m in \u001b[0;36m<module>\u001b[1;34m\u001b[0m\n\u001b[0;32m      1\u001b[0m \u001b[0mA\u001b[0m \u001b[1;33m=\u001b[0m \u001b[1;33m{\u001b[0m\u001b[1;36m1\u001b[0m\u001b[1;33m,\u001b[0m\u001b[1;36m3\u001b[0m\u001b[1;33m,\u001b[0m\u001b[1;36m5\u001b[0m\u001b[1;33m,\u001b[0m\u001b[1;36m6\u001b[0m\u001b[1;33m,\u001b[0m\u001b[1;36m8\u001b[0m\u001b[1;33m}\u001b[0m\u001b[1;33m\u001b[0m\u001b[1;33m\u001b[0m\u001b[0m\n\u001b[0;32m      2\u001b[0m \u001b[0mB\u001b[0m \u001b[1;33m=\u001b[0m \u001b[1;33m{\u001b[0m\u001b[1;36m1\u001b[0m\u001b[1;33m,\u001b[0m\u001b[1;36m4\u001b[0m\u001b[1;33m,\u001b[0m\u001b[1;36m6\u001b[0m\u001b[1;33m,\u001b[0m\u001b[1;36m7\u001b[0m\u001b[1;33m,\u001b[0m\u001b[1;36m8\u001b[0m\u001b[1;33m}\u001b[0m\u001b[1;33m\u001b[0m\u001b[1;33m\u001b[0m\u001b[0m\n\u001b[1;32m----> 3\u001b[1;33m \u001b[0mJaccard_Similarity\u001b[0m\u001b[1;33m(\u001b[0m\u001b[0mA\u001b[0m\u001b[1;33m,\u001b[0m\u001b[0mB\u001b[0m\u001b[1;33m)\u001b[0m\u001b[1;33m\u001b[0m\u001b[1;33m\u001b[0m\u001b[0m\n\u001b[0m\u001b[0;32m      4\u001b[0m \u001b[0mJaccard_Similarity\u001b[0m\u001b[1;33m(\u001b[0m\u001b[0mB\u001b[0m\u001b[1;33m,\u001b[0m\u001b[0mA\u001b[0m\u001b[1;33m)\u001b[0m\u001b[1;33m\u001b[0m\u001b[1;33m\u001b[0m\u001b[0m\n",
      "\u001b[1;31mNameError\u001b[0m: name 'Jaccard_Similarity' is not defined"
     ]
    }
   ],
   "source": [
    "A = {1,3,5,6,8}\n",
    "B = {1,4,6,7,8}\n",
    "Jaccard_Similarity(A,B)\n",
    "Jaccard_Similarity(B,A)"
   ]
  },
  {
   "cell_type": "code",
   "execution_count": 3,
   "id": "9368ea27",
   "metadata": {},
   "outputs": [],
   "source": [
    "A = {1, 2, 3, 5, 6, 11}\n",
    "\n",
    "B = {1, 4, 6, 7, 9, 10}"
   ]
  },
  {
   "cell_type": "code",
   "execution_count": 4,
   "id": "9a7c7632",
   "metadata": {},
   "outputs": [
    {
     "name": "stdout",
     "output_type": "stream",
     "text": [
      "2/10\n",
      "2/10\n"
     ]
    },
    {
     "data": {
      "text/plain": [
       "0.2"
      ]
     },
     "execution_count": 4,
     "metadata": {},
     "output_type": "execute_result"
    }
   ],
   "source": [
    "Jaccard_Similarity(A,B)\n",
    "Jaccard_Similarity(B,A)"
   ]
  },
  {
   "cell_type": "code",
   "execution_count": null,
   "id": "e3dfedb5",
   "metadata": {},
   "outputs": [],
   "source": []
  }
 ],
 "metadata": {
  "kernelspec": {
   "display_name": "Python 3",
   "language": "python",
   "name": "python3"
  },
  "language_info": {
   "codemirror_mode": {
    "name": "ipython",
    "version": 3
   },
   "file_extension": ".py",
   "mimetype": "text/x-python",
   "name": "python",
   "nbconvert_exporter": "python",
   "pygments_lexer": "ipython3",
   "version": "3.9.5"
  }
 },
 "nbformat": 4,
 "nbformat_minor": 5
}
