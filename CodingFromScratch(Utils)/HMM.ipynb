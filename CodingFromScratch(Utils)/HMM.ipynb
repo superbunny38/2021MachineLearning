{
 "cells": [
  {
   "cell_type": "code",
   "execution_count": 87,
   "id": "551a0f37",
   "metadata": {},
   "outputs": [],
   "source": [
    "import numpy as np\n",
    "import math\n",
    "import pandas as pd\n",
    "from itertools import permutations"
   ]
  },
  {
   "cell_type": "markdown",
   "id": "11463b2b",
   "metadata": {},
   "source": [
    "# Markov Models\n",
    "<br>\n",
    "p(after|before)"
   ]
  },
  {
   "cell_type": "code",
   "execution_count": 3,
   "id": "ddb99839",
   "metadata": {},
   "outputs": [],
   "source": [
    "sequences = [\"ABABAB\",\"ABABAA\",\"BBABAA\",\"AAB\"]"
   ]
  },
  {
   "cell_type": "code",
   "execution_count": 4,
   "id": "7c757a77",
   "metadata": {},
   "outputs": [],
   "source": [
    "def pi(seq, letter):\n",
    "    count = 0\n",
    "    for s in seq:\n",
    "        if s[0]==letter:\n",
    "            count+=1\n",
    "    if(count == 0 or count < 0):\n",
    "        print(letter,\"not in the sequences\")\n",
    "        return None\n",
    "    else:\n",
    "        print(str(count)+\"/\"+str(len(seq)))\n",
    "        return count/len(seq)"
   ]
  },
  {
   "cell_type": "code",
   "execution_count": 5,
   "id": "61e94848",
   "metadata": {},
   "outputs": [
    {
     "name": "stdout",
     "output_type": "stream",
     "text": [
      "3/4\n"
     ]
    },
    {
     "data": {
      "text/plain": [
       "0.75"
      ]
     },
     "execution_count": 5,
     "metadata": {},
     "output_type": "execute_result"
    }
   ],
   "source": [
    "pi(sequences,'A')"
   ]
  },
  {
   "cell_type": "code",
   "execution_count": 6,
   "id": "ce8bf013",
   "metadata": {
    "scrolled": true
   },
   "outputs": [
    {
     "name": "stdout",
     "output_type": "stream",
     "text": [
      "1/4\n"
     ]
    },
    {
     "data": {
      "text/plain": [
       "0.25"
      ]
     },
     "execution_count": 6,
     "metadata": {},
     "output_type": "execute_result"
    }
   ],
   "source": [
    "pi(sequences,'B')"
   ]
  },
  {
   "cell_type": "code",
   "execution_count": 16,
   "id": "eb1c71e3",
   "metadata": {},
   "outputs": [
    {
     "data": {
      "text/html": [
       "<div>\n",
       "<style scoped>\n",
       "    .dataframe tbody tr th:only-of-type {\n",
       "        vertical-align: middle;\n",
       "    }\n",
       "\n",
       "    .dataframe tbody tr th {\n",
       "        vertical-align: top;\n",
       "    }\n",
       "\n",
       "    .dataframe thead th {\n",
       "        text-align: right;\n",
       "    }\n",
       "</style>\n",
       "<table border=\"1\" class=\"dataframe\">\n",
       "  <thead>\n",
       "    <tr style=\"text-align: right;\">\n",
       "      <th></th>\n",
       "      <th>A</th>\n",
       "      <th>B</th>\n",
       "    </tr>\n",
       "  </thead>\n",
       "  <tbody>\n",
       "    <tr>\n",
       "      <th>prevA</th>\n",
       "      <td>0.7</td>\n",
       "      <td>0.3</td>\n",
       "    </tr>\n",
       "    <tr>\n",
       "      <th>prevB</th>\n",
       "      <td>0.4</td>\n",
       "      <td>0.6</td>\n",
       "    </tr>\n",
       "    <tr>\n",
       "      <th>pi</th>\n",
       "      <td>0.3</td>\n",
       "      <td>0.7</td>\n",
       "    </tr>\n",
       "  </tbody>\n",
       "</table>\n",
       "</div>"
      ],
      "text/plain": [
       "         A    B\n",
       "prevA  0.7  0.3\n",
       "prevB  0.4  0.6\n",
       "pi     0.3  0.7"
      ]
     },
     "execution_count": 16,
     "metadata": {},
     "output_type": "execute_result"
    }
   ],
   "source": [
    "A = [0.7,0.4,0.3]\n",
    "B = [0.3,0.6,0.7]\n",
    "df = pd.DataFrame({\"A\":A, \"B\":B}, index = [\"prevA\",\"prevB\",\"pi\"])\n",
    "df"
   ]
  },
  {
   "cell_type": "code",
   "execution_count": 17,
   "id": "1a3de8b5",
   "metadata": {},
   "outputs": [
    {
     "data": {
      "text/plain": [
       "0.7"
      ]
     },
     "execution_count": 17,
     "metadata": {},
     "output_type": "execute_result"
    }
   ],
   "source": [
    "df[\"A\"][\"prevA\"]"
   ]
  },
  {
   "cell_type": "code",
   "execution_count": 26,
   "id": "5e75e5f1",
   "metadata": {},
   "outputs": [],
   "source": [
    "def probability(df, find_seq):\n",
    "    first = find_seq[0]\n",
    "    p = df[first][\"pi\"]\n",
    "    print(\"{}x\".format(p),end = \"\")\n",
    "    for _ in range(len(find_seq)-1):\n",
    "        before_idx = _\n",
    "        after_idx = _+1\n",
    "        print(\"{}x\".format(df[find_seq[after_idx]][\"prev\"+find_seq[before_idx]]),end = \"\")\n",
    "        p*=df[find_seq[after_idx]][\"prev\"+find_seq[before_idx]]\n",
    "    return p"
   ]
  },
  {
   "cell_type": "markdown",
   "id": "e1e182e1",
   "metadata": {},
   "source": [
    "what is the probability of AABBABAB"
   ]
  },
  {
   "cell_type": "code",
   "execution_count": 28,
   "id": "9ceda2b5",
   "metadata": {},
   "outputs": [
    {
     "name": "stdout",
     "output_type": "stream",
     "text": [
      "0.3x0.7x0.3x0.6x0.4x0.3x0.4x0.3x"
     ]
    },
    {
     "data": {
      "text/plain": [
       "0.00054432"
      ]
     },
     "execution_count": 28,
     "metadata": {},
     "output_type": "execute_result"
    }
   ],
   "source": [
    "probability(df,\"AABBABAB\")"
   ]
  },
  {
   "cell_type": "markdown",
   "id": "7f71a6ff",
   "metadata": {},
   "source": [
    "# Hidden Markov Model: \n",
    "# cannot observe states(A,B) can observe outputs(a,b)"
   ]
  },
  {
   "cell_type": "code",
   "execution_count": 116,
   "id": "49efedb5",
   "metadata": {},
   "outputs": [
    {
     "data": {
      "text/html": [
       "<div>\n",
       "<style scoped>\n",
       "    .dataframe tbody tr th:only-of-type {\n",
       "        vertical-align: middle;\n",
       "    }\n",
       "\n",
       "    .dataframe tbody tr th {\n",
       "        vertical-align: top;\n",
       "    }\n",
       "\n",
       "    .dataframe thead th {\n",
       "        text-align: right;\n",
       "    }\n",
       "</style>\n",
       "<table border=\"1\" class=\"dataframe\">\n",
       "  <thead>\n",
       "    <tr style=\"text-align: right;\">\n",
       "      <th></th>\n",
       "      <th>A</th>\n",
       "      <th>B</th>\n",
       "    </tr>\n",
       "  </thead>\n",
       "  <tbody>\n",
       "    <tr>\n",
       "      <th>a</th>\n",
       "      <td>0.3</td>\n",
       "      <td>0.5</td>\n",
       "    </tr>\n",
       "    <tr>\n",
       "      <th>b</th>\n",
       "      <td>0.7</td>\n",
       "      <td>0.5</td>\n",
       "    </tr>\n",
       "    <tr>\n",
       "      <th>pi</th>\n",
       "      <td>0.3</td>\n",
       "      <td>0.7</td>\n",
       "    </tr>\n",
       "    <tr>\n",
       "      <th>prevA</th>\n",
       "      <td>0.7</td>\n",
       "      <td>0.3</td>\n",
       "    </tr>\n",
       "    <tr>\n",
       "      <th>prevB</th>\n",
       "      <td>0.4</td>\n",
       "      <td>0.6</td>\n",
       "    </tr>\n",
       "  </tbody>\n",
       "</table>\n",
       "</div>"
      ],
      "text/plain": [
       "         A    B\n",
       "a      0.3  0.5\n",
       "b      0.7  0.5\n",
       "pi     0.3  0.7\n",
       "prevA  0.7  0.3\n",
       "prevB  0.4  0.6"
      ]
     },
     "execution_count": 116,
     "metadata": {},
     "output_type": "execute_result"
    }
   ],
   "source": [
    "A = [0.3,0.7,0.3,0.7,0.4,]\n",
    "B = [0.5,0.5,0.7,0.3,0.6]\n",
    "df = pd.DataFrame({\"A\":A, \"B\":B}, index = [\"a\",\"b\",\"pi\",\"prevA\",\"prevB\"])\n",
    "df"
   ]
  },
  {
   "cell_type": "code",
   "execution_count": 29,
   "id": "19366fb4",
   "metadata": {},
   "outputs": [],
   "source": [
    "def split(word):\n",
    "    return [char for char in word]"
   ]
  },
  {
   "cell_type": "code",
   "execution_count": 117,
   "id": "ca2b4526",
   "metadata": {},
   "outputs": [],
   "source": [
    "def hmm_output(df, find, observed):\n",
    "    percents = []\n",
    "    observed = split(observed)\n",
    "    find = split(find)\n",
    "    p = 1\n",
    "    for o, f in zip(observed, find):\n",
    "        print(\"p({}|{}) x \".format(f,o),end = \"\")\n",
    "        percents.append(str(df[o][f]))\n",
    "        p*=df[o][f]\n",
    "    print(\"\\n\")\n",
    "    print(\" x \".join(percents))\n",
    "    return p"
   ]
  },
  {
   "cell_type": "markdown",
   "id": "10670cf1",
   "metadata": {},
   "source": [
    "We observe the AABBABAB.<br>\n",
    "What is the probability of abababab?"
   ]
  },
  {
   "cell_type": "markdown",
   "id": "88743f05",
   "metadata": {},
   "source": [
    "$p(o_1,o_2, \\cdots o_t|q_1,q_2,\\cdots q_t)$"
   ]
  },
  {
   "cell_type": "code",
   "execution_count": 118,
   "id": "39cd6910",
   "metadata": {},
   "outputs": [
    {
     "name": "stdout",
     "output_type": "stream",
     "text": [
      "p(a|A) x p(b|A) x p(a|B) x p(b|B) x p(a|A) x p(b|B) x p(a|A) x p(b|B) x \n",
      "\n",
      "0.3 x 0.7 x 0.5 x 0.5 x 0.3 x 0.5 x 0.3 x 0.5\n"
     ]
    },
    {
     "data": {
      "text/plain": [
       "0.00118125"
      ]
     },
     "execution_count": 118,
     "metadata": {},
     "output_type": "execute_result"
    }
   ],
   "source": [
    "hmm_output(df,\"abababab\",\"AABBABAB\")#p(abababab|AABBABAB)"
   ]
  },
  {
   "cell_type": "markdown",
   "id": "a9c41439",
   "metadata": {},
   "source": [
    "we observe abababab<br>\n",
    "what is the probability of AABBABAB?<br>\n",
    "\n",
    "$p(q_1,q_2,\\cdots q_t|o_1,o_2, \\cdots o_t) = \\frac{p(o_1,o_2, \\cdots o_t|q_1,q_2 \\cdots q_t)p(q_1,q_2 \\cdots q_t)}{p(o_1,o_2, \\cdots o_t)}$"
   ]
  },
  {
   "cell_type": "code",
   "execution_count": 144,
   "id": "b5d6c1b9",
   "metadata": {},
   "outputs": [],
   "source": [
    "def p_state(model, letter):#분모 구하기\n",
    "    states = np.unique(df.columns)\n",
    "    \n",
    "    if len(letter) == 1:\n",
    "        p = 0\n",
    "        process = []\n",
    "        for s in list(states):\n",
    "            print(\"p({}|{})p({}) + \".format(letter, s, s),end = \"\")\n",
    "            tmp_p = df[s][letter]\n",
    "            process.append(str(tmp_p))\n",
    "            tmp_p *= df[s][\"pi\"]\n",
    "            process.append(str(df[s][\"pi\"]))\n",
    "            p += tmp_p\n",
    "        print(\"\\n\")\n",
    "        print(\"x\".join(process))\n",
    "        return p\n",
    "    else:\n",
    "        p = 0\n",
    "        tmp_states = []\n",
    "        states = list(states)\n",
    "        for _ in range(len(states)):\n",
    "            tmp_states += states\n",
    "        #print(tmp_states)\n",
    "        tmp_permute = permutations(tmp_states,len(letter))\n",
    "        permute = []\n",
    "        for per in tmp_permute:\n",
    "            permute.append(\"\".join(per))\n",
    "        permute = np.unique(permute)\n",
    "        tmp_p = 0\n",
    "        for per in permute:\n",
    "            \n",
    "            tmp_p = hmm_output(df,letter,per)*probability(df,per)\n",
    "            print(\"\\n\\n>>p({}|{})p({}): {}\".format(letter,per,per,tmp_p))\n",
    "            p += tmp_p\n",
    "        return p"
   ]
  },
  {
   "cell_type": "code",
   "execution_count": 145,
   "id": "0ad5e5c3",
   "metadata": {},
   "outputs": [
    {
     "name": "stdout",
     "output_type": "stream",
     "text": [
      "p(a|A)p(A) + p(a|B)p(B) + \n",
      "\n",
      "0.3x0.3x0.5x0.7\n"
     ]
    },
    {
     "data": {
      "text/plain": [
       "0.43999999999999995"
      ]
     },
     "execution_count": 145,
     "metadata": {},
     "output_type": "execute_result"
    }
   ],
   "source": [
    "p_state(df, 'a')"
   ]
  },
  {
   "cell_type": "code",
   "execution_count": 146,
   "id": "5e60dba7",
   "metadata": {},
   "outputs": [
    {
     "name": "stdout",
     "output_type": "stream",
     "text": [
      "p(a|A) x p(a|A) x \n",
      "\n",
      "0.3 x 0.3\n",
      "0.3x0.7x\n",
      "\n",
      ">>p(aa|AA)p(AA): 0.0189\n",
      "p(a|A) x p(a|B) x \n",
      "\n",
      "0.3 x 0.5\n",
      "0.3x0.3x\n",
      "\n",
      ">>p(aa|AB)p(AB): 0.0135\n",
      "p(a|B) x p(a|A) x \n",
      "\n",
      "0.5 x 0.3\n",
      "0.7x0.4x\n",
      "\n",
      ">>p(aa|BA)p(BA): 0.041999999999999996\n",
      "p(a|B) x p(a|B) x \n",
      "\n",
      "0.5 x 0.5\n",
      "0.7x0.6x\n",
      "\n",
      ">>p(aa|BB)p(BB): 0.105\n"
     ]
    },
    {
     "data": {
      "text/plain": [
       "0.1794"
      ]
     },
     "execution_count": 146,
     "metadata": {},
     "output_type": "execute_result"
    }
   ],
   "source": [
    "p_state(df,'aa')"
   ]
  },
  {
   "cell_type": "code",
   "execution_count": 147,
   "id": "af94c177",
   "metadata": {},
   "outputs": [
    {
     "name": "stdout",
     "output_type": "stream",
     "text": [
      "p(a|A) x p(a|A) x p(b|B) x \n",
      "\n",
      "0.3 x 0.3 x 0.5\n",
      "0.3x0.7x0.3x\n",
      "\n",
      ">>p(aab|AAB)p(AAB): 0.002835\n",
      "p(a|A) x p(a|B) x p(b|A) x \n",
      "\n",
      "0.3 x 0.5 x 0.7\n",
      "0.3x0.3x0.4x\n",
      "\n",
      ">>p(aab|ABA)p(ABA): 0.0037799999999999995\n",
      "p(a|A) x p(a|B) x p(b|B) x \n",
      "\n",
      "0.3 x 0.5 x 0.5\n",
      "0.3x0.3x0.6x\n",
      "\n",
      ">>p(aab|ABB)p(ABB): 0.00405\n",
      "p(a|B) x p(a|A) x p(b|A) x \n",
      "\n",
      "0.5 x 0.3 x 0.7\n",
      "0.7x0.4x0.7x\n",
      "\n",
      ">>p(aab|BAA)p(BAA): 0.020579999999999998\n",
      "p(a|B) x p(a|A) x p(b|B) x \n",
      "\n",
      "0.5 x 0.3 x 0.5\n",
      "0.7x0.4x0.3x\n",
      "\n",
      ">>p(aab|BAB)p(BAB): 0.006299999999999999\n",
      "p(a|B) x p(a|B) x p(b|A) x \n",
      "\n",
      "0.5 x 0.5 x 0.7\n",
      "0.7x0.6x0.4x\n",
      "\n",
      ">>p(aab|BBA)p(BBA): 0.0294\n"
     ]
    },
    {
     "data": {
      "text/plain": [
       "0.06694499999999999"
      ]
     },
     "execution_count": 147,
     "metadata": {},
     "output_type": "execute_result"
    }
   ],
   "source": [
    "p_state(df,'aab')#굉장히 귀찮고 어려움: 교수님 피셜"
   ]
  },
  {
   "cell_type": "code",
   "execution_count": 148,
   "id": "86711e5f",
   "metadata": {},
   "outputs": [],
   "source": [
    "def p_real(df, observe, find):\n",
    "    #분자 계산\n",
    "    up = hmm_output(df,observe, find)*probability(df,find)\n",
    "    #분모:\n",
    "    down = p_state(df,observe)\n",
    "    print(\"=======================\")\n",
    "    print(\"result : {:.4f}\".format(up/down))\n",
    "    return up/down"
   ]
  },
  {
   "cell_type": "code",
   "execution_count": 149,
   "id": "6aef5a35",
   "metadata": {},
   "outputs": [
    {
     "name": "stdout",
     "output_type": "stream",
     "text": [
      "p(a|A) x p(b|A) x p(a|B) x p(b|B) x p(a|A) x p(b|B) x p(a|A) x p(b|B) x \n",
      "\n",
      "0.3 x 0.7 x 0.5 x 0.5 x 0.3 x 0.5 x 0.3 x 0.5\n",
      "0.3x0.7x0.3x0.6x0.4x0.3x0.4x0.3x=======================\n",
      "result : inf\n"
     ]
    },
    {
     "name": "stderr",
     "output_type": "stream",
     "text": [
      "<ipython-input-148-941ad9d94fec>:7: RuntimeWarning: divide by zero encountered in double_scalars\n",
      "  print(\"result : {:.4f}\".format(up/down))\n",
      "<ipython-input-148-941ad9d94fec>:8: RuntimeWarning: divide by zero encountered in double_scalars\n",
      "  return up/down\n"
     ]
    },
    {
     "data": {
      "text/plain": [
       "inf"
      ]
     },
     "execution_count": 149,
     "metadata": {},
     "output_type": "execute_result"
    }
   ],
   "source": [
    "p_real(df,\"abababab\",\"AABBABAB\")"
   ]
  },
  {
   "cell_type": "code",
   "execution_count": 5,
   "id": "d1bb60f0",
   "metadata": {},
   "outputs": [],
   "source": [
    "def uniqueletters(seq):\n",
    "    tmp = []\n",
    "    for s in seq:\n",
    "        tmp = tmp+split(s)\n",
    "    return list(set(tmp))\n",
    "        "
   ]
  },
  {
   "cell_type": "code",
   "execution_count": 6,
   "id": "80e94e34",
   "metadata": {
    "scrolled": true
   },
   "outputs": [
    {
     "data": {
      "text/plain": [
       "['A', 'B']"
      ]
     },
     "execution_count": 6,
     "metadata": {},
     "output_type": "execute_result"
    }
   ],
   "source": [
    "uniqueletters(sequences)"
   ]
  },
  {
   "cell_type": "code",
   "execution_count": 7,
   "id": "d1e46386",
   "metadata": {},
   "outputs": [],
   "source": [
    "def total_slices(seq):\n",
    "    total_count = 0\n",
    "    for s in seq:\n",
    "        \n",
    "        total_count+=len(s)-1\n",
    "    return total_count"
   ]
  },
  {
   "cell_type": "code",
   "execution_count": 8,
   "id": "498f1bef",
   "metadata": {},
   "outputs": [],
   "source": [
    "def p(seq,command):\n",
    "    #print(split(command))\n",
    "    if '|' in split(command):\n",
    "        start,end = command.split(\"|\")\n",
    "        letters = uniqueletters(seq)\n",
    "        real_c = 0\n",
    "        total_ = 0\n",
    "        for l in letters:\n",
    "            tmp_command = end+\"->\"+l\n",
    "            print(tmp_command)\n",
    "            c = p(seq,tmp_command)\n",
    "            \n",
    "            total_ += c\n",
    "            if start == l:\n",
    "                real_c = c\n",
    "        \n",
    "        \n",
    "        print(real_c,\"/\",total_)\n",
    "        return real_c/total_\n",
    "            \n",
    "    elif '-' in split(command) and '>' in split(command):#before->after\n",
    "        start,end = command.split(\"->\")\n",
    "        count = 0\n",
    "        total = total_slices(seq)\n",
    "        for s in seq:\n",
    "            for _ in range(len(s)-1):\n",
    "                first = s[_]\n",
    "                second = s[_+1]\n",
    "                \n",
    "                if first == start and second == end:\n",
    "                    count+=1\n",
    "        print(count)\n",
    "        return count\n",
    "                    \n",
    "    else:\n",
    "        print(\"wrong command\")"
   ]
  },
  {
   "cell_type": "code",
   "execution_count": 9,
   "id": "55e65db1",
   "metadata": {},
   "outputs": [
    {
     "name": "stdout",
     "output_type": "stream",
     "text": [
      "7\n"
     ]
    },
    {
     "data": {
      "text/plain": [
       "7"
      ]
     },
     "execution_count": 9,
     "metadata": {},
     "output_type": "execute_result"
    }
   ],
   "source": [
    "p(sequences,'A->B')"
   ]
  },
  {
   "cell_type": "code",
   "execution_count": 10,
   "id": "047e4101",
   "metadata": {},
   "outputs": [
    {
     "name": "stdout",
     "output_type": "stream",
     "text": [
      "6\n"
     ]
    },
    {
     "data": {
      "text/plain": [
       "6"
      ]
     },
     "execution_count": 10,
     "metadata": {},
     "output_type": "execute_result"
    }
   ],
   "source": [
    "p(sequencesces, 'B->A')"
   ]
  },
  {
   "cell_type": "code",
   "execution_count": 108,
   "id": "55cff23c",
   "metadata": {},
   "outputs": [
    {
     "name": "stdout",
     "output_type": "stream",
     "text": [
      "3\n"
     ]
    },
    {
     "data": {
      "text/plain": [
       "3"
      ]
     },
     "execution_count": 108,
     "metadata": {},
     "output_type": "execute_result"
    }
   ],
   "source": [
    "p(sequences,'A->A')"
   ]
  },
  {
   "cell_type": "code",
   "execution_count": 12,
   "id": "e277f464",
   "metadata": {},
   "outputs": [
    {
     "name": "stdout",
     "output_type": "stream",
     "text": [
      "A->A\n",
      "3\n",
      "A->B\n",
      "7\n",
      "7 / 10\n"
     ]
    },
    {
     "data": {
      "text/plain": [
       "0.7"
      ]
     },
     "execution_count": 12,
     "metadata": {},
     "output_type": "execute_result"
    }
   ],
   "source": [
    "p(sequences,'B|A')"
   ]
  },
  {
   "cell_type": "code",
   "execution_count": 14,
   "id": "be8527bf",
   "metadata": {},
   "outputs": [
    {
     "name": "stdout",
     "output_type": "stream",
     "text": [
      "B->A\n",
      "6\n",
      "B->B\n",
      "1\n",
      "6 / 7\n"
     ]
    },
    {
     "data": {
      "text/plain": [
       "0.8571428571428571"
      ]
     },
     "execution_count": 14,
     "metadata": {},
     "output_type": "execute_result"
    }
   ],
   "source": [
    "p(sequences, 'A|B')"
   ]
  },
  {
   "cell_type": "code",
   "execution_count": 15,
   "id": "c25a3317",
   "metadata": {},
   "outputs": [
    {
     "name": "stdout",
     "output_type": "stream",
     "text": [
      "A->A\n",
      "3\n",
      "A->B\n",
      "7\n",
      "7 / 10\n"
     ]
    },
    {
     "data": {
      "text/plain": [
       "0.7"
      ]
     },
     "execution_count": 15,
     "metadata": {},
     "output_type": "execute_result"
    }
   ],
   "source": [
    "p(sequences, 'B|A')"
   ]
  },
  {
   "cell_type": "code",
   "execution_count": null,
   "id": "1278312d",
   "metadata": {},
   "outputs": [],
   "source": []
  }
 ],
 "metadata": {
  "kernelspec": {
   "display_name": "Python 3",
   "language": "python",
   "name": "python3"
  },
  "language_info": {
   "codemirror_mode": {
    "name": "ipython",
    "version": 3
   },
   "file_extension": ".py",
   "mimetype": "text/x-python",
   "name": "python",
   "nbconvert_exporter": "python",
   "pygments_lexer": "ipython3",
   "version": "3.9.5"
  }
 },
 "nbformat": 4,
 "nbformat_minor": 5
}
