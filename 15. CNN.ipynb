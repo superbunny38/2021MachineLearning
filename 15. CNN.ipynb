{
 "cells": [
  {
   "cell_type": "code",
   "execution_count": 1,
   "id": "b9e0b3fe",
   "metadata": {},
   "outputs": [],
   "source": [
    "import numpy as np"
   ]
  },
  {
   "cell_type": "code",
   "execution_count": 5,
   "id": "30b1f80f",
   "metadata": {},
   "outputs": [],
   "source": [
    "def cov1d(x,w,p = 0,s=1):#1차원 합성곱\n",
    "    w_rot = np.array(w[::-1])#필터 뒤집기\n",
    "    x_padded = np.array(x)\n",
    "    \n",
    "    if p>0:\n",
    "        zero_pad = np.zeros(shape=p)#제로 패딩\n",
    "        x_padded = np.concatenate([zero_pad,\n",
    "                                    x_padded,\n",
    "                                    zero_pad])#입력에 패딩 씌움(앞 뒤로 패딩 추가)\n",
    "        res = []\n",
    "        for i in range(0,int(len(x)/s),s):#스트라이드 만큼 옮김\n",
    "            res.append(np.sum(x_padded[i:i+w_rot.shape[0]]*\n",
    "                             w_rot))#곱 계산\n",
    "        return np.array(res)#배열로 반환"
   ]
  },
  {
   "cell_type": "code",
   "execution_count": 6,
   "id": "5386c286",
   "metadata": {},
   "outputs": [],
   "source": [
    "## 테스트\n",
    "x = [1,3,2,4,5,6,1,3]\n",
    "w= [1,0,3,1,2]"
   ]
  },
  {
   "cell_type": "code",
   "execution_count": 7,
   "id": "4f15cc25",
   "metadata": {},
   "outputs": [
    {
     "name": "stdout",
     "output_type": "stream",
     "text": [
      "Cov1d 구현: [ 5. 14. 16. 26. 24. 34. 19. 22.]\n"
     ]
    }
   ],
   "source": [
    "print('Cov1d 구현:',\n",
    "     cov1d(x,w,p=2,s=1))"
   ]
  },
  {
   "cell_type": "code",
   "execution_count": 8,
   "id": "e9172e20",
   "metadata": {},
   "outputs": [
    {
     "name": "stdout",
     "output_type": "stream",
     "text": [
      "넘파이 결과: [ 5 14 16 26 24 34 19 22]\n"
     ]
    }
   ],
   "source": [
    "print('넘파이 결과:',\n",
    "     np.convolve(x,w,mode='same'))"
   ]
  },
  {
   "cell_type": "code",
   "execution_count": 9,
   "id": "6467884b",
   "metadata": {},
   "outputs": [],
   "source": [
    "import scipy.signal"
   ]
  },
  {
   "cell_type": "code",
   "execution_count": 17,
   "id": "52f29107",
   "metadata": {},
   "outputs": [],
   "source": [
    "def cov2d(X,W,p=(0,0),s=(1,1)):#2D 합성곱 계산\n",
    "    W_rot = np.array(W)[::-1,::-1]\n",
    "    X_orig = np.array(X)\n",
    "    n1 = X_orig.shape[0]+2*p[0]#(원본+패딩) 세로 길이\n",
    "    n2 = X_orig.shape[1]+2*p[1]#(원본+패딩) 가로 길이\n",
    "    X_padded = np.zeros(shape=(n1,n2))#제로 패딩 생성\n",
    "    X_padded[p[0]:p[0]+X_orig.shape[0],\n",
    "            p[1]:p[1]+X_orig.shape[1]]=X_orig#입력에 패딩 씌움\n",
    "    res=[]\n",
    "    for i in range(0,int((X_padded.shape[0]-\n",
    "                         W_rot.shape[0])/s[0])+1,s[0]):#스트라이드만큼 세로로 움직임\n",
    "        res.append([])#row 곱\n",
    "        for j in range(0,int((X_padded.shape[1]-W_rot.shape[1])/s[1])+1,s[1]):#스트라이드 만큼 가로로 움직임\n",
    "            X_sub = X_padded[i:i+W_rot.shape[0],j:j+W_rot.shape[1]]\n",
    "            res[-1].append(np.sum(X_sub*W_rot))#합성곱 계싼(마지막 row에 현재 곱 append)\n",
    "    return(np.array(res))"
   ]
  },
  {
   "cell_type": "code",
   "execution_count": 18,
   "id": "4155ace8",
   "metadata": {},
   "outputs": [],
   "source": [
    "X = [[1,3,2,4],[5,6,1,3],[1,2,0,2],[3,4,3,2]]\n",
    "W = [[1,0,3],[1,2,1],[0,1,1]]"
   ]
  },
  {
   "cell_type": "code",
   "execution_count": 19,
   "id": "8d1d6731",
   "metadata": {},
   "outputs": [
    {
     "name": "stdout",
     "output_type": "stream",
     "text": [
      "Cov2d 구현:\n",
      " [[11. 25. 32. 13.]\n",
      " [19. 25. 24. 13.]\n",
      " [13. 28. 25. 17.]\n",
      " [11. 17. 14.  9.]]\n"
     ]
    }
   ],
   "source": [
    "print('Cov2d 구현:\\n',\n",
    "     cov2d(X,W,p=(1,1),s=(1,1)))"
   ]
  },
  {
   "cell_type": "code",
   "execution_count": 20,
   "id": "f5cc1b8c",
   "metadata": {},
   "outputs": [
    {
     "name": "stdout",
     "output_type": "stream",
     "text": [
      "사이파이 결과:\n",
      " [[11 25 32 13]\n",
      " [19 25 24 13]\n",
      " [13 28 25 17]\n",
      " [11 17 14  9]]\n"
     ]
    }
   ],
   "source": [
    "print('사이파이 결과:\\n',\n",
    "     scipy.signal.convolve2d(X,W,mode='same'))"
   ]
  },
  {
   "cell_type": "code",
   "execution_count": 22,
   "id": "0476501b",
   "metadata": {},
   "outputs": [
    {
     "name": "stdout",
     "output_type": "stream",
     "text": [
      "Collecting imageio\n",
      "  Downloading imageio-2.9.0-py3-none-any.whl (3.3 MB)\n",
      "Requirement already satisfied: pillow in c:\\anaconda3\\envs\\dsfs\\lib\\site-packages (from imageio) (8.2.0)\n",
      "Requirement already satisfied: numpy in c:\\anaconda3\\envs\\dsfs\\lib\\site-packages (from imageio) (1.19.5)\n",
      "Installing collected packages: imageio\n",
      "Successfully installed imageio-2.9.0\n"
     ]
    }
   ],
   "source": [
    "#파이썬에서 이미지 읽기\n",
    "!pip install imageio"
   ]
  },
  {
   "cell_type": "code",
   "execution_count": 28,
   "id": "a186d28d",
   "metadata": {},
   "outputs": [],
   "source": [
    "#파이썬에서 이미지 읽기\n",
    "import imageio\n",
    "img = imageio.imread('./example-image.png',pilmode='RGB')"
   ]
  },
  {
   "cell_type": "code",
   "execution_count": 29,
   "id": "e76ca7ba",
   "metadata": {},
   "outputs": [
    {
     "name": "stdout",
     "output_type": "stream",
     "text": [
      "이미지 크기: (252, 221, 3)\n"
     ]
    }
   ],
   "source": [
    "print('이미지 크기:',img.shape)"
   ]
  },
  {
   "cell_type": "code",
   "execution_count": 31,
   "id": "d2508082",
   "metadata": {},
   "outputs": [
    {
     "name": "stdout",
     "output_type": "stream",
     "text": [
      "채널 수: 3\n"
     ]
    }
   ],
   "source": [
    "print('채널 수:',img.shape[2])"
   ]
  },
  {
   "cell_type": "code",
   "execution_count": 33,
   "id": "072975b4",
   "metadata": {},
   "outputs": [
    {
     "name": "stdout",
     "output_type": "stream",
     "text": [
      "이미지 데이터 타입: uint8\n"
     ]
    }
   ],
   "source": [
    "print('이미지 데이터 타입:',img.dtype)"
   ]
  },
  {
   "cell_type": "code",
   "execution_count": 35,
   "id": "0a8d7b07",
   "metadata": {},
   "outputs": [
    {
     "name": "stdout",
     "output_type": "stream",
     "text": [
      "[[[179 134 110]\n",
      "  [182 136 112]]\n",
      "\n",
      " [[180 135 111]\n",
      "  [182 137 113]]]\n"
     ]
    }
   ],
   "source": [
    "print(img[100:102, 100:102, :])"
   ]
  },
  {
   "cell_type": "code",
   "execution_count": 36,
   "id": "d8ebbd4f",
   "metadata": {},
   "outputs": [],
   "source": [
    "#가져옴\n",
    "import struct\n",
    " \n",
    "def load_mnist(path, kind='train'):\n",
    "    \"\"\"`path`에서 MNIST 데이터 적재하기\"\"\"\n",
    "    labels_path = os.path.join(path, \n",
    "                               '%s-labels-idx1-ubyte' % kind)\n",
    "    images_path = os.path.join(path, \n",
    "                               '%s-images-idx3-ubyte' % kind)\n",
    "        \n",
    "    with open(labels_path, 'rb') as lbpath:\n",
    "        magic, n = struct.unpack('>II', \n",
    "                                 lbpath.read(8))\n",
    "        labels = np.fromfile(lbpath, \n",
    "                             dtype=np.uint8)\n",
    "\n",
    "    with open(images_path, 'rb') as imgpath:\n",
    "        magic, num, rows, cols = struct.unpack(\">IIII\", \n",
    "                                               imgpath.read(16))\n",
    "        images = np.fromfile(imgpath, \n",
    "                             dtype=np.uint8).reshape(len(labels), 784)\n",
    "        images = ((images / 255.) - .5) * 2\n",
    " \n",
    "    return images, labels\n"
   ]
  },
  {
   "cell_type": "code",
   "execution_count": 37,
   "id": "3bb17bc8",
   "metadata": {},
   "outputs": [],
   "source": [
    "#mnist 폴더 없어서\n",
    "from keras.datasets import mnist"
   ]
  },
  {
   "cell_type": "code",
   "execution_count": 47,
   "id": "a819f726",
   "metadata": {},
   "outputs": [],
   "source": [
    "(train_X, train_y), (X_test, y_test) = mnist.load_data()"
   ]
  },
  {
   "cell_type": "code",
   "execution_count": 48,
   "id": "409541f3",
   "metadata": {},
   "outputs": [
    {
     "name": "stdout",
     "output_type": "stream",
     "text": [
      "(60000, 28, 28)\n"
     ]
    }
   ],
   "source": [
    "print(train_X.shape)"
   ]
  },
  {
   "cell_type": "code",
   "execution_count": 49,
   "id": "7d3e9d44",
   "metadata": {},
   "outputs": [
    {
     "name": "stdout",
     "output_type": "stream",
     "text": [
      "(10000, 28, 28)\n"
     ]
    }
   ],
   "source": [
    "print(X_test.shape)"
   ]
  },
  {
   "cell_type": "code",
   "execution_count": 50,
   "id": "31e405d7",
   "metadata": {},
   "outputs": [],
   "source": [
    "train_X = train_X.reshape([60000,28*28])\n",
    "X_test = X_test.reshape([10000,28*28])"
   ]
  },
  {
   "cell_type": "code",
   "execution_count": 51,
   "id": "de5223ae",
   "metadata": {},
   "outputs": [
    {
     "name": "stdout",
     "output_type": "stream",
     "text": [
      "(60000, 784)\n",
      "(10000, 784)\n"
     ]
    }
   ],
   "source": [
    "print(train_X.shape)\n",
    "print(X_test.shape)"
   ]
  },
  {
   "cell_type": "code",
   "execution_count": 52,
   "id": "2c0e8b0c",
   "metadata": {},
   "outputs": [
    {
     "name": "stdout",
     "output_type": "stream",
     "text": [
      "(60000,)\n",
      "(10000,)\n"
     ]
    }
   ],
   "source": [
    "print(train_y.shape)\n",
    "print(y_test.shape)"
   ]
  },
  {
   "cell_type": "code",
   "execution_count": 55,
   "id": "50de80ea",
   "metadata": {},
   "outputs": [],
   "source": [
    "X_train, y_train = train_X[:50000,:],train_y[:50000]\n",
    "X_valid, y_valid = train_X[50000:,:], train_y[50000:]"
   ]
  },
  {
   "cell_type": "code",
   "execution_count": 56,
   "id": "bf168c5e",
   "metadata": {},
   "outputs": [
    {
     "name": "stdout",
     "output_type": "stream",
     "text": [
      "훈련 세트: (50000, 784) (50000,)\n"
     ]
    }
   ],
   "source": [
    "print('훈련 세트:',X_train.shape, y_train.shape)"
   ]
  },
  {
   "cell_type": "code",
   "execution_count": 57,
   "id": "e140b519",
   "metadata": {},
   "outputs": [
    {
     "name": "stdout",
     "output_type": "stream",
     "text": [
      "검증 세트: (10000, 784) (10000,)\n"
     ]
    }
   ],
   "source": [
    "print('검증 세트:',X_valid.shape, y_valid.shape)"
   ]
  },
  {
   "cell_type": "code",
   "execution_count": 58,
   "id": "ca815c18",
   "metadata": {},
   "outputs": [
    {
     "name": "stdout",
     "output_type": "stream",
     "text": [
      "테스트 세트: (10000, 784) (10000,)\n"
     ]
    }
   ],
   "source": [
    "print('테스트 세트:',X_test.shape,y_test.shape)"
   ]
  },
  {
   "cell_type": "code",
   "execution_count": 59,
   "id": "87cb1af4",
   "metadata": {},
   "outputs": [],
   "source": [
    "mean_vals = np.mean(X_train, axis = 0)"
   ]
  },
  {
   "cell_type": "code",
   "execution_count": 60,
   "id": "62256633",
   "metadata": {},
   "outputs": [],
   "source": [
    "std_val = np.std(X_train)"
   ]
  },
  {
   "cell_type": "code",
   "execution_count": 61,
   "id": "5dd5c837",
   "metadata": {},
   "outputs": [],
   "source": [
    "X_train_centered = (X_train - mean_vals)/std_val\n",
    "X_valid_centered = (X_valid - mean_vals)/std_val\n",
    "X_test_centered = (X_test - mean_vals)/std_val"
   ]
  },
  {
   "cell_type": "code",
   "execution_count": 62,
   "id": "95a08c80",
   "metadata": {},
   "outputs": [],
   "source": [
    "X_train_centered = X_train_centered.reshape((-1,28,28,1))\n",
    "X_valid_centered = X_valid_centered.reshape((-1,28,28,1))\n",
    "X_test_centered = X_test_centered.reshape((-1,28,28,1))"
   ]
  },
  {
   "cell_type": "code",
   "execution_count": 63,
   "id": "ff1f6dee",
   "metadata": {},
   "outputs": [],
   "source": [
    "from tensorflow.keras.utils import to_categorical\n",
    "\n",
    "y_train_onehot = to_categorical(y_train)\n",
    "y_valid_onehot = to_categorical(y_valid)\n",
    "y_test_onehot = to_categorical(y_test)"
   ]
  },
  {
   "cell_type": "code",
   "execution_count": 64,
   "id": "8f40c0f8",
   "metadata": {},
   "outputs": [
    {
     "name": "stdout",
     "output_type": "stream",
     "text": [
      "5 [0. 0. 0. 0. 0. 1. 0. 0. 0. 0.]\n"
     ]
    }
   ],
   "source": [
    "print(y_train[0],y_train_onehot[0])"
   ]
  },
  {
   "cell_type": "code",
   "execution_count": 65,
   "id": "e9ec595e",
   "metadata": {},
   "outputs": [
    {
     "name": "stdout",
     "output_type": "stream",
     "text": [
      "훈련 세트: (50000, 28, 28, 1) (50000, 10)\n",
      "검증 세트: (10000, 28, 28, 1) (10000, 10)\n",
      "테스트 세트: (10000, 28, 28, 1) (10000, 10)\n"
     ]
    }
   ],
   "source": [
    "print('훈련 세트:',X_train_centered.shape, y_train_onehot.shape)\n",
    "print('검증 세트:',X_valid_centered.shape, y_valid_onehot.shape)\n",
    "print('테스트 세트:',X_test_centered.shape, y_test_onehot.shape)"
   ]
  },
  {
   "cell_type": "code",
   "execution_count": 99,
   "id": "1f1a5288",
   "metadata": {},
   "outputs": [],
   "source": [
    "from tensorflow.keras import layers, models"
   ]
  },
  {
   "cell_type": "code",
   "execution_count": 100,
   "id": "1ee32a03",
   "metadata": {},
   "outputs": [],
   "source": [
    "model = models.Sequential()"
   ]
  },
  {
   "cell_type": "code",
   "execution_count": 101,
   "id": "22ed5f34",
   "metadata": {},
   "outputs": [],
   "source": [
    "model.add(layers.Conv2D(32,(5,5),padding = 'valid',\n",
    "                      activation = 'relu', input_shape = (28,28,1)))"
   ]
  },
  {
   "cell_type": "code",
   "execution_count": 102,
   "id": "b2980060",
   "metadata": {},
   "outputs": [],
   "source": [
    "model.add(layers.MaxPool2D(2,2))"
   ]
  },
  {
   "cell_type": "code",
   "execution_count": 103,
   "id": "5676ae85",
   "metadata": {},
   "outputs": [],
   "source": [
    "model.add(layers.Conv2D(64,(5,5),padding = 'valid',\n",
    "                       activation = 'relu'))"
   ]
  },
  {
   "cell_type": "code",
   "execution_count": 104,
   "id": "f9368951",
   "metadata": {},
   "outputs": [],
   "source": [
    "model.add(layers.MaxPool2D(2,2))"
   ]
  },
  {
   "cell_type": "code",
   "execution_count": 105,
   "id": "a5871b20",
   "metadata": {},
   "outputs": [],
   "source": [
    "model.add(layers.Flatten())"
   ]
  },
  {
   "cell_type": "code",
   "execution_count": 106,
   "id": "6bf7b107",
   "metadata": {},
   "outputs": [],
   "source": [
    "model.add(layers.Dense(1024, activation = 'relu'))"
   ]
  },
  {
   "cell_type": "code",
   "execution_count": 107,
   "id": "9f11336e",
   "metadata": {},
   "outputs": [],
   "source": [
    "model.add(layers.Dropout(0.5))"
   ]
  },
  {
   "cell_type": "code",
   "execution_count": 108,
   "id": "02f2c256",
   "metadata": {},
   "outputs": [],
   "source": [
    "model.add(layers.Dense(10,activation = 'softmax'))"
   ]
  },
  {
   "cell_type": "code",
   "execution_count": 109,
   "id": "d957d7fe",
   "metadata": {},
   "outputs": [
    {
     "name": "stdout",
     "output_type": "stream",
     "text": [
      "Model: \"sequential_2\"\n",
      "_________________________________________________________________\n",
      "Layer (type)                 Output Shape              Param #   \n",
      "=================================================================\n",
      "conv2d_6 (Conv2D)            (None, 24, 24, 32)        832       \n",
      "_________________________________________________________________\n",
      "max_pooling2d_4 (MaxPooling2 (None, 12, 12, 32)        0         \n",
      "_________________________________________________________________\n",
      "conv2d_7 (Conv2D)            (None, 8, 8, 64)          51264     \n",
      "_________________________________________________________________\n",
      "max_pooling2d_5 (MaxPooling2 (None, 4, 4, 64)          0         \n",
      "_________________________________________________________________\n",
      "flatten_2 (Flatten)          (None, 1024)              0         \n",
      "_________________________________________________________________\n",
      "dense_4 (Dense)              (None, 1024)              1049600   \n",
      "_________________________________________________________________\n",
      "dropout_2 (Dropout)          (None, 1024)              0         \n",
      "_________________________________________________________________\n",
      "dense_5 (Dense)              (None, 10)                10250     \n",
      "=================================================================\n",
      "Total params: 1,111,946\n",
      "Trainable params: 1,111,946\n",
      "Non-trainable params: 0\n",
      "_________________________________________________________________\n"
     ]
    }
   ],
   "source": [
    "model.summary()"
   ]
  },
  {
   "cell_type": "code",
   "execution_count": 110,
   "id": "b10dc061",
   "metadata": {},
   "outputs": [],
   "source": [
    "model.compile(loss = 'categorical_crossentropy',\n",
    "             optimizer = 'adam', metrics = ['acc'])"
   ]
  },
  {
   "cell_type": "code",
   "execution_count": 120,
   "id": "e17abcb0",
   "metadata": {},
   "outputs": [],
   "source": [
    "import time\n",
    "from tensorflow.keras.callbacks import ModelCheckpoint, TensorBoard"
   ]
  },
  {
   "cell_type": "code",
   "execution_count": 140,
   "id": "4727d0f3",
   "metadata": {},
   "outputs": [],
   "source": [
    "callback_list = [ModelCheckpoint(filepath = 'cnn_checkpoint.h5',\n",
    "                                monitor = 'val_loss',\n",
    "                                save_best_only=True),\n",
    "                TensorBoard(log_dir = 'logs/{}'.format(str(time.asctime())[:5]))]"
   ]
  },
  {
   "cell_type": "code",
   "execution_count": 141,
   "id": "039e30e6",
   "metadata": {},
   "outputs": [
    {
     "name": "stdout",
     "output_type": "stream",
     "text": [
      "Epoch 1/20\n",
      "782/782 [==============================] - 40s 49ms/step - loss: 0.1391 - acc: 0.9573 - val_loss: 0.0546 - val_acc: 0.9842\n",
      "Epoch 2/20\n",
      "782/782 [==============================] - 38s 49ms/step - loss: 0.0495 - acc: 0.9849 - val_loss: 0.0446 - val_acc: 0.9865\n",
      "Epoch 3/20\n",
      "782/782 [==============================] - 38s 48ms/step - loss: 0.0355 - acc: 0.9889 - val_loss: 0.0363 - val_acc: 0.9897\n",
      "Epoch 4/20\n",
      "782/782 [==============================] - 38s 48ms/step - loss: 0.0292 - acc: 0.9911 - val_loss: 0.0455 - val_acc: 0.9886\n",
      "Epoch 5/20\n",
      "782/782 [==============================] - 38s 48ms/step - loss: 0.0235 - acc: 0.9927 - val_loss: 0.0454 - val_acc: 0.9880\n",
      "Epoch 6/20\n",
      "782/782 [==============================] - 40s 52ms/step - loss: 0.0202 - acc: 0.9936 - val_loss: 0.0414 - val_acc: 0.9908\n",
      "Epoch 7/20\n",
      "782/782 [==============================] - 49s 63ms/step - loss: 0.0168 - acc: 0.9946 - val_loss: 0.0385 - val_acc: 0.9910\n",
      "Epoch 8/20\n",
      "782/782 [==============================] - 54s 70ms/step - loss: 0.0169 - acc: 0.9946 - val_loss: 0.0372 - val_acc: 0.9905\n",
      "Epoch 9/20\n",
      "782/782 [==============================] - 49s 63ms/step - loss: 0.0162 - acc: 0.9952 - val_loss: 0.0373 - val_acc: 0.9920\n",
      "Epoch 10/20\n",
      "782/782 [==============================] - 46s 58ms/step - loss: 0.0165 - acc: 0.9949 - val_loss: 0.0421 - val_acc: 0.9920\n",
      "Epoch 11/20\n",
      "782/782 [==============================] - 55s 70ms/step - loss: 0.0117 - acc: 0.9962 - val_loss: 0.0407 - val_acc: 0.9915\n",
      "Epoch 12/20\n",
      "782/782 [==============================] - 45s 58ms/step - loss: 0.0132 - acc: 0.9959 - val_loss: 0.0523 - val_acc: 0.9916\n",
      "Epoch 13/20\n",
      "782/782 [==============================] - 40s 51ms/step - loss: 0.0127 - acc: 0.9962 - val_loss: 0.0485 - val_acc: 0.9904\n",
      "Epoch 14/20\n",
      "782/782 [==============================] - 39s 50ms/step - loss: 0.0085 - acc: 0.9973 - val_loss: 0.0629 - val_acc: 0.9875\n",
      "Epoch 15/20\n",
      "782/782 [==============================] - 38s 49ms/step - loss: 0.0140 - acc: 0.9958 - val_loss: 0.0517 - val_acc: 0.9905\n",
      "Epoch 16/20\n",
      "782/782 [==============================] - 38s 49ms/step - loss: 0.0114 - acc: 0.9966 - val_loss: 0.0589 - val_acc: 0.9912\n",
      "Epoch 17/20\n",
      "782/782 [==============================] - 39s 49ms/step - loss: 0.0095 - acc: 0.9972 - val_loss: 0.0627 - val_acc: 0.9914\n",
      "Epoch 18/20\n",
      "782/782 [==============================] - 41s 52ms/step - loss: 0.0131 - acc: 0.9968 - val_loss: 0.0856 - val_acc: 0.9890\n",
      "Epoch 19/20\n",
      "782/782 [==============================] - 40s 51ms/step - loss: 0.0109 - acc: 0.9970 - val_loss: 0.0756 - val_acc: 0.9898\n",
      "Epoch 20/20\n",
      "782/782 [==============================] - 40s 51ms/step - loss: 0.0079 - acc: 0.9979 - val_loss: 0.0695 - val_acc: 0.9889\n"
     ]
    }
   ],
   "source": [
    "history = model.fit(X_train_centered, y_train_onehot,\n",
    "                   batch_size=64, epochs=20,\n",
    "                   validation_data=(X_valid_centered,y_valid_onehot),\n",
    "                   callbacks=callback_list)"
   ]
  },
  {
   "cell_type": "code",
   "execution_count": 142,
   "id": "7854dcf6",
   "metadata": {},
   "outputs": [
    {
     "data": {
      "image/png": "[encoded data removed]",
      "text/plain": [
       "<Figure size 432x288 with 1 Axes>"
      ]
     },
     "metadata": {
      "needs_background": "light"
     },
     "output_type": "display_data"
    }
   ],
   "source": [
    "import matplotlib.pyplot as plt\n",
    "\n",
    "epochs = np.arange(1,21)\n",
    "plt.plot(epochs, history.history['loss'])\n",
    "plt.plot(epochs, history.history['val_loss'])\n",
    "plt.xlabel('epochs')\n",
    "plt.ylabel('loss')\n",
    "plt.show()"
   ]
  },
  {
   "cell_type": "code",
   "execution_count": 143,
   "id": "3f9e2010",
   "metadata": {},
   "outputs": [
    {
     "data": {
      "image/png": "[encoded data removed]",
      "text/plain": [
       "<Figure size 432x288 with 1 Axes>"
      ]
     },
     "metadata": {
      "needs_background": "light"
     },
     "output_type": "display_data"
    }
   ],
   "source": [
    "plt.plot(epochs, history.history['acc'])\n",
    "plt.plot(epochs, history.history['val_acc'])\n",
    "plt.xlabel('epochs')\n",
    "plt.ylabel('accuracy')\n",
    "plt.show()"
   ]
  },
  {
   "cell_type": "code",
   "execution_count": 144,
   "id": "b9589c15",
   "metadata": {},
   "outputs": [],
   "source": [
    "model.save('cnn_model.h5')"
   ]
  },
  {
   "cell_type": "code",
   "execution_count": 145,
   "id": "0d698d3c",
   "metadata": {},
   "outputs": [],
   "source": [
    "from tensorflow.keras.models import load_model\n",
    "\n",
    "restored_model = load_model('cnn_model.h5')\n",
    "restored_modell.load_weights('cnn_checkpoint.h5')"
   ]
  },
  {
   "cell_type": "code",
   "execution_count": 146,
   "id": "eeeb21d1",
   "metadata": {},
   "outputs": [
    {
     "name": "stdout",
     "output_type": "stream",
     "text": [
      "313/313 [==============================] - 3s 8ms/step - loss: 0.0326 - acc: 0.9892\n"
     ]
    },
    {
     "data": {
      "text/plain": [
       "[0.032633304595947266, 0.9891999959945679]"
      ]
     },
     "execution_count": 146,
     "metadata": {},
     "output_type": "execute_result"
    }
   ],
   "source": [
    "restored_model.evaluate(X_test_centered, y_test_onehot)"
   ]
  },
  {
   "cell_type": "code",
   "execution_count": 147,
   "id": "208dd892",
   "metadata": {},
   "outputs": [
    {
     "data": {
      "text/plain": [
       "array([7, 2, 1, 0, 4, 1, 4, 9, 5, 9], dtype=int64)"
      ]
     },
     "execution_count": 147,
     "metadata": {},
     "output_type": "execute_result"
    }
   ],
   "source": [
    "np.argmax(restored_model.predict(X_test_centered[:10]),axis=1)"
   ]
  },
  {
   "cell_type": "code",
   "execution_count": 148,
   "id": "d3d7166a",
   "metadata": {},
   "outputs": [
    {
     "data": {
      "text/plain": [
       "array([7, 2, 1, 0, 4, 1, 4, 9, 5, 9], dtype=uint8)"
      ]
     },
     "execution_count": 148,
     "metadata": {},
     "output_type": "execute_result"
    }
   ],
   "source": [
    "y_test[:10]"
   ]
  },
  {
   "cell_type": "code",
   "execution_count": 149,
   "id": "537acc83",
   "metadata": {},
   "outputs": [
    {
     "data": {
      "image/png": "[encoded data removed]",
      "text/plain": [
       "<Figure size 720x360 with 10 Axes>"
      ]
     },
     "metadata": {
      "needs_background": "light"
     },
     "output_type": "display_data"
    }
   ],
   "source": [
    "fig = plt.figure(figsize=(10,5))\n",
    "for i in range(10):\n",
    "    fig.add_subplot(2,5,i+1)\n",
    "    plt.imshow(X_test_centered[i].reshape(28,28))"
   ]
  },
  {
   "cell_type": "code",
   "execution_count": 150,
   "id": "1fe8ae85",
   "metadata": {},
   "outputs": [
    {
     "name": "stdout",
     "output_type": "stream",
     "text": [
      "<tensorflow.python.keras.layers.convolutional.Conv2D object at 0x000001E80435EE80>\n"
     ]
    }
   ],
   "source": [
    "#활성화 출력과 필터 시각화\n",
    "\n",
    "first_layer = model.layers[0]\n",
    "print(first_layer)"
   ]
  },
  {
   "cell_type": "code",
   "execution_count": 151,
   "id": "a65af3aa",
   "metadata": {},
   "outputs": [
    {
     "name": "stdout",
     "output_type": "stream",
     "text": [
      "KerasTensor(type_spec=TensorSpec(shape=(None, 28, 28, 1), dtype=tf.float32, name='conv2d_6_input'), name='conv2d_6_input', description=\"created by layer 'conv2d_6_input'\")\n"
     ]
    }
   ],
   "source": [
    "print(model.input)"
   ]
  },
  {
   "cell_type": "code",
   "execution_count": 152,
   "id": "a79027cb",
   "metadata": {},
   "outputs": [],
   "source": [
    "first_activation = models.Model(inputs = model.input,\n",
    "                               outputs = first_layer.output)\n",
    "\n",
    "activation = first_activation.predict(X_test_centered[:10])"
   ]
  },
  {
   "cell_type": "code",
   "execution_count": 153,
   "id": "4168c124",
   "metadata": {},
   "outputs": [
    {
     "name": "stdout",
     "output_type": "stream",
     "text": [
      "(10, 24, 24, 32)\n"
     ]
    }
   ],
   "source": [
    "print(activation.shape)"
   ]
  },
  {
   "cell_type": "code",
   "execution_count": 155,
   "id": "cb8dd833",
   "metadata": {},
   "outputs": [
    {
     "data": {
      "image/png": "[encoded data removed]",
      "text/plain": [
       "<Figure size 720x1080 with 32 Axes>"
      ]
     },
     "metadata": {
      "needs_background": "light"
     },
     "output_type": "display_data"
    }
   ],
   "source": [
    "fig = plt.figure(figsize = (10,15))\n",
    "for i in range(32):\n",
    "    fig.add_subplot(7,5,i+1)\n",
    "    plt.imshow(activation[0,:,:,i])"
   ]
  },
  {
   "cell_type": "code",
   "execution_count": 156,
   "id": "22b67f19",
   "metadata": {},
   "outputs": [
    {
     "data": {
      "image/png": "[encoded data removed]",
      "text/plain": [
       "<Figure size 720x1080 with 32 Axes>"
      ]
     },
     "metadata": {
      "needs_background": "light"
     },
     "output_type": "display_data"
    }
   ],
   "source": [
    "fig = plt.figure(figsize=(10,15))\n",
    "for i in range(32):\n",
    "    fig.add_subplot(7,5,i+1)\n",
    "    plt.imshow(activation[3,:,:,i])"
   ]
  },
  {
   "cell_type": "code",
   "execution_count": 157,
   "id": "cbb5f242",
   "metadata": {},
   "outputs": [
    {
     "data": {
      "image/png": "[encoded data removed]",
      "text/plain": [
       "<Figure size 720x1080 with 32 Axes>"
      ]
     },
     "metadata": {
      "needs_background": "light"
     },
     "output_type": "display_data"
    }
   ],
   "source": [
    "fig = plt.figure(figsize=(10,15))\n",
    "\n",
    "for i in range(32):\n",
    "    fig.add_subplot(7,5,i+1)\n",
    "    plt.imshow(first_layer.kernel[:,:,0,i])"
   ]
  }
 ],
 "metadata": {
  "kernelspec": {
   "display_name": "Python 3",
   "language": "python",
   "name": "python3"
  },
  "language_info": {
   "codemirror_mode": {
    "name": "ipython",
    "version": 3
   },
   "file_extension": ".py",
   "mimetype": "text/x-python",
   "name": "python",
   "nbconvert_exporter": "python",
   "pygments_lexer": "ipython3",
   "version": "3.9.5"
  }
 },
 "nbformat": 4,
 "nbformat_minor": 5
}
