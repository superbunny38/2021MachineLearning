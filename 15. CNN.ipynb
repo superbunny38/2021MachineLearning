{
 "cells": [
  {
   "cell_type": "code",
   "execution_count": 1,
   "id": "2b1ec3a9",
   "metadata": {},
   "outputs": [],
   "source": [
    "import numpy as np"
   ]
  },
  {
   "cell_type": "code",
   "execution_count": 5,
   "id": "daa4ac7e",
   "metadata": {},
   "outputs": [],
   "source": [
    "def cov1d(x,w,p = 0,s=1):#1차원 합성곱\n",
    "    w_rot = np.array(w[::-1])#필터 뒤집기\n",
    "    x_padded = np.array(x)\n",
    "    \n",
    "    if p>0:\n",
    "        zero_pad = np.zeros(shape=p)#제로 패딩\n",
    "        x_padded = np.concatenate([zero_pad,\n",
    "                                    x_padded,\n",
    "                                    zero_pad])#입력에 패딩 씌움(앞 뒤로 패딩 추가)\n",
    "        res = []\n",
    "        for i in range(0,int(len(x)/s),s):#스트라이드 만큼 옮김\n",
    "            res.append(np.sum(x_padded[i:i+w_rot.shape[0]]*\n",
    "                             w_rot))#곱 계산\n",
    "        return np.array(res)#배열로 반환"
   ]
  },
  {
   "cell_type": "code",
   "execution_count": 6,
   "id": "4cab3dd6",
   "metadata": {},
   "outputs": [],
   "source": [
    "## 테스트\n",
    "x = [1,3,2,4,5,6,1,3]\n",
    "w= [1,0,3,1,2]"
   ]
  },
  {
   "cell_type": "code",
   "execution_count": 7,
   "id": "91289e4d",
   "metadata": {},
   "outputs": [
    {
     "name": "stdout",
     "output_type": "stream",
     "text": [
      "Cov1d 구현: [ 5. 14. 16. 26. 24. 34. 19. 22.]\n"
     ]
    }
   ],
   "source": [
    "print('Cov1d 구현:',\n",
    "     cov1d(x,w,p=2,s=1))"
   ]
  },
  {
   "cell_type": "code",
   "execution_count": 8,
   "id": "cb263f3f",
   "metadata": {},
   "outputs": [
    {
     "name": "stdout",
     "output_type": "stream",
     "text": [
      "넘파이 결과: [ 5 14 16 26 24 34 19 22]\n"
     ]
    }
   ],
   "source": [
    "print('넘파이 결과:',\n",
    "     np.convolve(x,w,mode='same'))"
   ]
  },
  {
   "cell_type": "code",
   "execution_count": 9,
   "id": "c277ce38",
   "metadata": {},
   "outputs": [],
   "source": [
    "import scipy.signal"
   ]
  },
  {
   "cell_type": "code",
   "execution_count": 17,
   "id": "3622d968",
   "metadata": {},
   "outputs": [],
   "source": [
    "def cov2d(X,W,p=(0,0),s=(1,1)):#2D 합성곱 계산\n",
    "    W_rot = np.array(W)[::-1,::-1]\n",
    "    X_orig = np.array(X)\n",
    "    n1 = X_orig.shape[0]+2*p[0]#(원본+패딩) 세로 길이\n",
    "    n2 = X_orig.shape[1]+2*p[1]#(원본+패딩) 가로 길이\n",
    "    X_padded = np.zeros(shape=(n1,n2))#제로 패딩 생성\n",
    "    X_padded[p[0]:p[0]+X_orig.shape[0],\n",
    "            p[1]:p[1]+X_orig.shape[1]]=X_orig#입력에 패딩 씌움\n",
    "    res=[]\n",
    "    for i in range(0,int((X_padded.shape[0]-\n",
    "                         W_rot.shape[0])/s[0])+1,s[0]):#스트라이드만큼 세로로 움직임\n",
    "        res.append([])#row 곱\n",
    "        for j in range(0,int((X_padded.shape[1]-W_rot.shape[1])/s[1])+1,s[1]):#스트라이드 만큼 가로로 움직임\n",
    "            X_sub = X_padded[i:i+W_rot.shape[0],j:j+W_rot.shape[1]]\n",
    "            res[-1].append(np.sum(X_sub*W_rot))#합성곱 계싼(마지막 row에 현재 곱 append)\n",
    "    return(np.array(res))"
   ]
  },
  {
   "cell_type": "code",
   "execution_count": 18,
   "id": "3f394392",
   "metadata": {},
   "outputs": [],
   "source": [
    "X = [[1,3,2,4],[5,6,1,3],[1,2,0,2],[3,4,3,2]]\n",
    "W = [[1,0,3],[1,2,1],[0,1,1]]"
   ]
  },
  {
   "cell_type": "code",
   "execution_count": 19,
   "id": "fc635d74",
   "metadata": {},
   "outputs": [
    {
     "name": "stdout",
     "output_type": "stream",
     "text": [
      "Cov2d 구현:\n",
      " [[11. 25. 32. 13.]\n",
      " [19. 25. 24. 13.]\n",
      " [13. 28. 25. 17.]\n",
      " [11. 17. 14.  9.]]\n"
     ]
    }
   ],
   "source": [
    "print('Cov2d 구현:\\n',\n",
    "     cov2d(X,W,p=(1,1),s=(1,1)))"
   ]
  },
  {
   "cell_type": "code",
   "execution_count": 20,
   "id": "14e6486e",
   "metadata": {},
   "outputs": [
    {
     "name": "stdout",
     "output_type": "stream",
     "text": [
      "사이파이 결과:\n",
      " [[11 25 32 13]\n",
      " [19 25 24 13]\n",
      " [13 28 25 17]\n",
      " [11 17 14  9]]\n"
     ]
    }
   ],
   "source": [
    "print('사이파이 결과:\\n',\n",
    "     scipy.signal.convolve2d(X,W,mode='same'))"
   ]
  },
  {
   "cell_type": "code",
   "execution_count": 22,
   "id": "d8483508",
   "metadata": {},
   "outputs": [
    {
     "name": "stdout",
     "output_type": "stream",
     "text": [
      "Collecting imageio\n",
      "  Downloading imageio-2.9.0-py3-none-any.whl (3.3 MB)\n",
      "Requirement already satisfied: pillow in c:\\anaconda3\\envs\\dsfs\\lib\\site-packages (from imageio) (8.2.0)\n",
      "Requirement already satisfied: numpy in c:\\anaconda3\\envs\\dsfs\\lib\\site-packages (from imageio) (1.19.5)\n",
      "Installing collected packages: imageio\n",
      "Successfully installed imageio-2.9.0\n"
     ]
    }
   ],
   "source": [
    "#파이썬에서 이미지 읽기\n",
    "!pip install imageio"
   ]
  },
  {
   "cell_type": "code",
   "execution_count": 28,
   "id": "877d8508",
   "metadata": {},
   "outputs": [],
   "source": [
    "#파이썬에서 이미지 읽기\n",
    "import imageio\n",
    "img = imageio.imread('./example-image.png',pilmode='RGB')"
   ]
  },
  {
   "cell_type": "code",
   "execution_count": 29,
   "id": "0023eaaa",
   "metadata": {},
   "outputs": [
    {
     "name": "stdout",
     "output_type": "stream",
     "text": [
      "이미지 크기: (252, 221, 3)\n"
     ]
    }
   ],
   "source": [
    "print('이미지 크기:',img.shape)"
   ]
  },
  {
   "cell_type": "code",
   "execution_count": 31,
   "id": "e5353c6d",
   "metadata": {},
   "outputs": [
    {
     "name": "stdout",
     "output_type": "stream",
     "text": [
      "채널 수: 3\n"
     ]
    }
   ],
   "source": [
    "print('채널 수:',img.shape[2])"
   ]
  },
  {
   "cell_type": "code",
   "execution_count": 33,
   "id": "5b8c5e5a",
   "metadata": {},
   "outputs": [
    {
     "name": "stdout",
     "output_type": "stream",
     "text": [
      "이미지 데이터 타입: uint8\n"
     ]
    }
   ],
   "source": [
    "print('이미지 데이터 타입:',img.dtype)"
   ]
  },
  {
   "cell_type": "code",
   "execution_count": 35,
   "id": "44e29fcd",
   "metadata": {},
   "outputs": [
    {
     "name": "stdout",
     "output_type": "stream",
     "text": [
      "[[[179 134 110]\n",
      "  [182 136 112]]\n",
      "\n",
      " [[180 135 111]\n",
      "  [182 137 113]]]\n"
     ]
    }
   ],
   "source": [
    "print(img[100:102, 100:102, :])"
   ]
  },
  {
   "cell_type": "code",
   "execution_count": 36,
   "id": "b6d9b5e5",
   "metadata": {},
   "outputs": [],
   "source": [
    "#가져옴\n",
    "import struct\n",
    " \n",
    "def load_mnist(path, kind='train'):\n",
    "    \"\"\"`path`에서 MNIST 데이터 적재하기\"\"\"\n",
    "    labels_path = os.path.join(path, \n",
    "                               '%s-labels-idx1-ubyte' % kind)\n",
    "    images_path = os.path.join(path, \n",
    "                               '%s-images-idx3-ubyte' % kind)\n",
    "        \n",
    "    with open(labels_path, 'rb') as lbpath:\n",
    "        magic, n = struct.unpack('>II', \n",
    "                                 lbpath.read(8))\n",
    "        labels = np.fromfile(lbpath, \n",
    "                             dtype=np.uint8)\n",
    "\n",
    "    with open(images_path, 'rb') as imgpath:\n",
    "        magic, num, rows, cols = struct.unpack(\">IIII\", \n",
    "                                               imgpath.read(16))\n",
    "        images = np.fromfile(imgpath, \n",
    "                             dtype=np.uint8).reshape(len(labels), 784)\n",
    "        images = ((images / 255.) - .5) * 2\n",
    " \n",
    "    return images, labels\n"
   ]
  },
  {
   "cell_type": "code",
   "execution_count": 37,
   "id": "7ff872ad",
   "metadata": {},
   "outputs": [],
   "source": [
    "#mnist 폴더 없어서\n",
    "from keras.datasets import mnist"
   ]
  },
  {
   "cell_type": "code",
   "execution_count": 47,
   "id": "6817c6f1",
   "metadata": {},
   "outputs": [],
   "source": [
    "(train_X, train_y), (X_test, y_test) = mnist.load_data()"
   ]
  },
  {
   "cell_type": "code",
   "execution_count": 48,
   "id": "96f9d7c8",
   "metadata": {},
   "outputs": [
    {
     "name": "stdout",
     "output_type": "stream",
     "text": [
      "(60000, 28, 28)\n"
     ]
    }
   ],
   "source": [
    "print(train_X.shape)"
   ]
  },
  {
   "cell_type": "code",
   "execution_count": 49,
   "id": "2e3bc5e6",
   "metadata": {},
   "outputs": [
    {
     "name": "stdout",
     "output_type": "stream",
     "text": [
      "(10000, 28, 28)\n"
     ]
    }
   ],
   "source": [
    "print(X_test.shape)"
   ]
  },
  {
   "cell_type": "code",
   "execution_count": 50,
   "id": "e9632da7",
   "metadata": {},
   "outputs": [],
   "source": [
    "train_X = train_X.reshape([60000,28*28])\n",
    "X_test = X_test.reshape([10000,28*28])"
   ]
  },
  {
   "cell_type": "code",
   "execution_count": 51,
   "id": "8fe3dc8f",
   "metadata": {},
   "outputs": [
    {
     "name": "stdout",
     "output_type": "stream",
     "text": [
      "(60000, 784)\n",
      "(10000, 784)\n"
     ]
    }
   ],
   "source": [
    "print(train_X.shape)\n",
    "print(X_test.shape)"
   ]
  },
  {
   "cell_type": "code",
   "execution_count": 52,
   "id": "e3477aa5",
   "metadata": {},
   "outputs": [
    {
     "name": "stdout",
     "output_type": "stream",
     "text": [
      "(60000,)\n",
      "(10000,)\n"
     ]
    }
   ],
   "source": [
    "print(train_y.shape)\n",
    "print(y_test.shape)"
   ]
  },
  {
   "cell_type": "code",
   "execution_count": 55,
   "id": "d8ad720f",
   "metadata": {},
   "outputs": [],
   "source": [
    "X_train, y_train = train_X[:50000,:],train_y[:50000]\n",
    "X_valid, y_valid = train_X[50000:,:], train_y[50000:]"
   ]
  },
  {
   "cell_type": "code",
   "execution_count": 56,
   "id": "4baf5591",
   "metadata": {},
   "outputs": [
    {
     "name": "stdout",
     "output_type": "stream",
     "text": [
      "훈련 세트: (50000, 784) (50000,)\n"
     ]
    }
   ],
   "source": [
    "print('훈련 세트:',X_train.shape, y_train.shape)"
   ]
  },
  {
   "cell_type": "code",
   "execution_count": 57,
   "id": "438cd160",
   "metadata": {},
   "outputs": [
    {
     "name": "stdout",
     "output_type": "stream",
     "text": [
      "검증 세트: (10000, 784) (10000,)\n"
     ]
    }
   ],
   "source": [
    "print('검증 세트:',X_valid.shape, y_valid.shape)"
   ]
  },
  {
   "cell_type": "code",
   "execution_count": 58,
   "id": "c3a42f36",
   "metadata": {},
   "outputs": [
    {
     "name": "stdout",
     "output_type": "stream",
     "text": [
      "테스트 세트: (10000, 784) (10000,)\n"
     ]
    }
   ],
   "source": [
    "print('테스트 세트:',X_test.shape,y_test.shape)"
   ]
  },
  {
   "cell_type": "code",
   "execution_count": 59,
   "id": "80da79cf",
   "metadata": {},
   "outputs": [],
   "source": [
    "mean_vals = np.mean(X_train, axis = 0)"
   ]
  },
  {
   "cell_type": "code",
   "execution_count": 60,
   "id": "5b84a82f",
   "metadata": {},
   "outputs": [],
   "source": [
    "std_val = np.std(X_train)"
   ]
  },
  {
   "cell_type": "code",
   "execution_count": 61,
   "id": "85993428",
   "metadata": {},
   "outputs": [],
   "source": [
    "X_train_centered = (X_train - mean_vals)/std_val\n",
    "X_valid_centered = (X_valid - mean_vals)/std_val\n",
    "X_test_centered = (X_test - mean_vals)/std_val"
   ]
  },
  {
   "cell_type": "code",
   "execution_count": 62,
   "id": "4334d5a8",
   "metadata": {},
   "outputs": [],
   "source": [
    "X_train_centered = X_train_centered.reshape((-1,28,28,1))\n",
    "X_valid_centered = X_valid_centered.reshape((-1,28,28,1))\n",
    "X_test_centered = X_test_centered.reshape((-1,28,28,1))"
   ]
  },
  {
   "cell_type": "code",
   "execution_count": 63,
   "id": "af05c055",
   "metadata": {},
   "outputs": [],
   "source": [
    "from tensorflow.keras.utils import to_categorical\n",
    "\n",
    "y_train_onehot = to_categorical(y_train)\n",
    "y_valid_onehot = to_categorical(y_valid)\n",
    "y_test_onehot = to_categorical(y_test)"
   ]
  },
  {
   "cell_type": "code",
   "execution_count": 64,
   "id": "d523c9ae",
   "metadata": {},
   "outputs": [
    {
     "name": "stdout",
     "output_type": "stream",
     "text": [
      "5 [0. 0. 0. 0. 0. 1. 0. 0. 0. 0.]\n"
     ]
    }
   ],
   "source": [
    "print(y_train[0],y_train_onehot[0])"
   ]
  },
  {
   "cell_type": "code",
   "execution_count": null,
   "id": "ddabc613",
   "metadata": {},
   "outputs": [],
   "source": [
    "print('훈련 세트:',X_train_centered.shape, y_train_onehot.shape)\n",
    "print()"
   ]
  }
 ],
 "metadata": {
  "kernelspec": {
   "display_name": "Python 3",
   "language": "python",
   "name": "python3"
  },
  "language_info": {
   "codemirror_mode": {
    "name": "ipython",
    "version": 3
   },
   "file_extension": ".py",
   "mimetype": "text/x-python",
   "name": "python",
   "nbconvert_exporter": "python",
   "pygments_lexer": "ipython3",
   "version": "3.9.5"
  }
 },
 "nbformat": 4,
 "nbformat_minor": 5
}
