{
 "cells": [
  {
   "cell_type": "markdown",
   "id": "9827b2d1",
   "metadata": {},
   "source": [
    "## 주성분 분석 (Principal Component Analysis, PCA)\n",
    "<b><br>\n",
    "- 비지도 선형 변환 기법\n",
    "- 데이터 셋에 있는 분산이 최대인 직교 성분 축을 찾음\n",
    "- 고차원 데이터에서 분산이 가장 큰 방향을 찾고 좀 더 작거나 같은 수의 차원을 갖는 새로운 부분 공간으로 이를 투영\n",
    " \n",
    "    </b>"
   ]
  },
  {
   "cell_type": "markdown",
   "id": "99eab694",
   "metadata": {},
   "source": [
    "### PCA 알고리즘\n",
    "\n",
    "[주성분 추출단계: 1~4]\n",
    "1. d차원 데이터셋을 표준화 전처리한다.\n",
    "2. 공분산 행렬(covariance matrix)를 만든다.\n",
    "3. 공분산 행렬을 고유 벡터(eigenvector)와 고윳값(eigenvalue)로 분해한다.\n",
    "4. 고윳값을 내림차순으로 정렬하고 그에 해당하는 고유벡터의 순위를 매긴다\n",
    "\n",
    "[특성변환 단계: 5~7]\n",
    "\n",
    "5. 고윳값이 가장 큰 k개의 고유 벡터를 선택한다. 여기서 k는 새로운 특성 부분 공간의 차원이다.(k<=d)\n",
    "6. 최상위 k개의 고유 벡터로 투영 행렬(projection matrix) W를 만든다.\n",
    "7. 투영 행렬 W를 사용하여 d차원 입력 데이터셋 X를 새로운 k 차원의 특성 부분 공간으로 변환한다."
   ]
  },
  {
   "cell_type": "code",
   "execution_count": 1,
   "id": "6d6e7a8d",
   "metadata": {},
   "outputs": [],
   "source": [
    "import pandas as pd\n",
    "df_wine = pd.read_csv(\"C:/Users/LG/Desktop/2021/여름방학/MachineLearningTextbook/wine.data.txt\")"
   ]
  },
  {
   "cell_type": "markdown",
   "id": "689124e6",
   "metadata": {},
   "source": [
    "<b>단계 1) 데이터셋 표준화 전처리</b>"
   ]
  },
  {
   "cell_type": "code",
   "execution_count": 2,
   "id": "d3df720e",
   "metadata": {},
   "outputs": [],
   "source": [
    "import numpy as np\n",
    "from sklearn.model_selection import train_test_split\n",
    "X,y = df_wine.iloc[:,1:].values, df_wine.iloc[:,0].values\n",
    "X_train,X_test,y_train,y_test= train_test_split(X,y,test_size=0.3,stratify=y,random_state=0)#훈련 세트와 테스트 세트 나눔\n",
    "\n",
    "#표준화 전처리\n",
    "from sklearn.preprocessing import StandardScaler\n",
    "sc = StandardScaler()\n",
    "X_train_std = sc.fit_transform(X_train)\n",
    "X_test_std = sc.transform(X_test)"
   ]
  },
  {
   "cell_type": "markdown",
   "id": "8ad92d03",
   "metadata": {},
   "source": [
    "<b>단계 2) 공분산 행렬 만들기</b>"
   ]
  },
  {
   "cell_type": "code",
   "execution_count": 6,
   "id": "571e6913",
   "metadata": {},
   "outputs": [],
   "source": [
    "cov_mat = np.cov(X_train_std.T)#공분산 행렬"
   ]
  },
  {
   "cell_type": "markdown",
   "id": "39c65167",
   "metadata": {},
   "source": [
    "<b>단계 3) 공분산 행렬을 고유벡터와 고윳값으로 분해</b>"
   ]
  },
  {
   "cell_type": "code",
   "execution_count": 7,
   "id": "18ff42b9",
   "metadata": {},
   "outputs": [],
   "source": [
    "eigen_vals,eigen_vecs = np.linalg.eig(cov_mat)"
   ]
  },
  {
   "cell_type": "code",
   "execution_count": 8,
   "id": "47ea4f95",
   "metadata": {},
   "outputs": [
    {
     "name": "stdout",
     "output_type": "stream",
     "text": [
      "고윳값 [4.79500219 2.50003078 1.44306678 0.99901271 0.87517717 0.67821564\n",
      " 0.53031813 0.35080209 0.28446498 0.11333093 0.14810971 0.18968162\n",
      " 0.19934466]\n"
     ]
    }
   ],
   "source": [
    "print(\"고윳값\",eigen_vals)"
   ]
  },
  {
   "cell_type": "code",
   "execution_count": 9,
   "id": "8fb6b95f",
   "metadata": {},
   "outputs": [
    {
     "name": "stdout",
     "output_type": "stream",
     "text": [
      "고유 벡터 [[ 0.12221148  0.49927666 -0.12829383 -0.01136017 -0.35962533  0.23048312\n",
      "   0.04714035 -0.39450917 -0.37873538  0.10409129 -0.07349869  0.45755259\n",
      "  -0.09926907]\n",
      " [-0.24391049  0.15419073  0.1337824   0.54699739 -0.01698596  0.60977103\n",
      "  -0.35388209 -0.03230253  0.07247366 -0.03035566  0.05093259 -0.29983979\n",
      "  -0.05071359]\n",
      " [ 0.00369454  0.25170137  0.68792836 -0.23900517 -0.05336737  0.09514094\n",
      "   0.13810458  0.11452347  0.42213357 -0.08005053 -0.03823149  0.18581102\n",
      "  -0.37627553]\n",
      " [-0.249647   -0.12269609  0.59377246  0.00821015  0.0239095  -0.08118367\n",
      "   0.20497479 -0.38757845 -0.33788462  0.0565922  -0.06769449 -0.12717355\n",
      "   0.48215182]\n",
      " [ 0.13011026  0.31420427  0.08497154 -0.2395333   0.78023056  0.09478221\n",
      "  -0.28258535  0.07484282 -0.29483288  0.05231238  0.14339912  0.07323052\n",
      "   0.03102063]\n",
      " [ 0.39099441  0.05595656  0.19268611  0.19038516 -0.14478068 -0.08777222\n",
      "  -0.09820019  0.39221599 -0.37290376 -0.53850843 -0.37707533 -0.06214601\n",
      "   0.0581313 ]\n",
      " [ 0.41649235 -0.02637354  0.17557319  0.12710511 -0.09809546 -0.02399015\n",
      "  -0.00157734  0.21330841 -0.10814667  0.7933956  -0.15502733 -0.22468051\n",
      "  -0.0864211 ]\n",
      " [-0.31569983  0.07362469  0.14144693 -0.14397781 -0.3623129  -0.34996396\n",
      "  -0.66135648  0.23189151 -0.10113392  0.12389145  0.23098643  0.14560588\n",
      "   0.09556013]\n",
      " [ 0.2982478  -0.01094724  0.10831831  0.50797474  0.19387822 -0.44672728\n",
      "  -0.26286453 -0.43379869  0.2907922  -0.03543909 -0.01726654  0.24245459\n",
      "  -0.04272858]\n",
      " [-0.07304049  0.53961007 -0.04566347  0.12906415 -0.04960602 -0.41216773\n",
      "   0.26596722 -0.029185   -0.10312288 -0.08223035  0.33536197 -0.51955629\n",
      "  -0.20250302]\n",
      " [ 0.31641846 -0.21061646  0.03375899 -0.4398643  -0.15537495  0.09171275\n",
      "  -0.34939097 -0.47115093 -0.03714341 -0.1539475   0.02172227 -0.44167755\n",
      "  -0.25230846]\n",
      " [ 0.37253046 -0.23649287  0.15215839  0.11987325 -0.12791144  0.18082623\n",
      "   0.13830236  0.10069926 -0.10767923 -0.09560296  0.79530351  0.16577842\n",
      "   0.09337111]\n",
      " [ 0.29514562  0.38598117 -0.08087437 -0.17441276 -0.12567652  0.09549583\n",
      "  -0.05938995  0.01098965  0.45040873 -0.01488871 -0.00877459 -0.13360808\n",
      "   0.69091775]]\n"
     ]
    }
   ],
   "source": [
    "print(\"고유 벡터\",eigen_vecs)"
   ]
  },
  {
   "cell_type": "code",
   "execution_count": 11,
   "id": "3075377a",
   "metadata": {},
   "outputs": [],
   "source": [
    "tot = sum(eigen_vals)#고윳값 합"
   ]
  },
  {
   "cell_type": "code",
   "execution_count": 14,
   "id": "f9cf4bca",
   "metadata": {},
   "outputs": [
    {
     "data": {
      "text/plain": [
       "[0.36584757147541014,\n",
       " 0.19074656393406986,\n",
       " 0.11010265583784805,\n",
       " 0.07622235775294409,\n",
       " 0.06677399296512859,\n",
       " 0.05174628422400787,\n",
       " 0.040462046149778885,\n",
       " 0.02676538801093347,\n",
       " 0.02170401974094434,\n",
       " 0.015209536025670826,\n",
       " 0.014472268465673664,\n",
       " 0.011300427894675787,\n",
       " 0.00864688752291444]"
      ]
     },
     "execution_count": 14,
     "metadata": {},
     "output_type": "execute_result"
    }
   ],
   "source": [
    "#설명된 분산\n",
    "var_exp = [(i/tot) for i in sorted(eigen_vals, reverse=True)]#내림차순(큰->작)\n",
    "var_exp"
   ]
  },
  {
   "cell_type": "code",
   "execution_count": 15,
   "id": "e9e3cca5",
   "metadata": {},
   "outputs": [
    {
     "data": {
      "text/plain": [
       "array([0.36584757, 0.55659414, 0.66669679, 0.74291915, 0.80969314,\n",
       "       0.86143943, 0.90190147, 0.92866686, 0.95037088, 0.96558042,\n",
       "       0.98005268, 0.99135311, 1.        ])"
      ]
     },
     "execution_count": 15,
     "metadata": {},
     "output_type": "execute_result"
    }
   ],
   "source": [
    "cum_var_exp = np.cumsum(var_exp)#설명된 분산의 누적값\n",
    "cum_var_exp"
   ]
  },
  {
   "cell_type": "code",
   "execution_count": 17,
   "id": "c9562cba",
   "metadata": {},
   "outputs": [
    {
     "data": {
      "image/png": "[encoded data removed]",
      "text/plain": [
       "<Figure size 432x288 with 1 Axes>"
      ]
     },
     "metadata": {
      "needs_background": "light"
     },
     "output_type": "display_data"
    }
   ],
   "source": [
    "#주성분의 설명된 분산\n",
    "import matplotlib.pyplot as plt\n",
    "plt.bar(range(1,14),var_exp,alpha=0.5, align='center',label='individual explained variance')\n",
    "plt.step(range(1,14),cum_var_exp,where='mid',label='cumulative explained variance')\n",
    "plt.ylabel('Explained variance ratio')\n",
    "plt.xlabel('Principal component index')\n",
    "plt.legend(loc='best')#알아서 찾아주는건가? 최적의 자리를?\n",
    "plt.tight_layout()\n",
    "plt.show()"
   ]
  },
  {
   "cell_type": "markdown",
   "id": "6295ddd1",
   "metadata": {},
   "source": [
    "<b> 단계 4) 고윳값을 내림차순으로 정렬하고 그에 해당하는 고유벡터의 순위를 매긴다</b>"
   ]
  },
  {
   "cell_type": "code",
   "execution_count": 18,
   "id": "1d6e2d7e",
   "metadata": {},
   "outputs": [],
   "source": [
    "#(고윳값, 고유벡터) 튜플의 리스트를 만든다\n",
    "eigen_pairs = [(np.abs(eigen_vals[i]),eigen_vecs[:,i]) for i in range(len(eigen_vals))]\n",
    "\n",
    "#높은 값에서부터 낮은 값으로(내림차순으로) 튜플(고윳값,고유벡터) 고육값 기준으로 정렬한다\n",
    "eigen_pairs.sort(key= lambda k:k[0],reverse=True)"
   ]
  },
  {
   "cell_type": "code",
   "execution_count": 21,
   "id": "eefbdbba",
   "metadata": {},
   "outputs": [
    {
     "data": {
      "text/plain": [
       "[(4.795002186796571,\n",
       "  array([ 0.12221148, -0.24391049,  0.00369454, -0.249647  ,  0.13011026,\n",
       "          0.39099441,  0.41649235, -0.31569983,  0.2982478 , -0.07304049,\n",
       "          0.31641846,  0.37253046,  0.29514562])),\n",
       " (2.5000307846768703,\n",
       "  array([ 0.49927666,  0.15419073,  0.25170137, -0.12269609,  0.31420427,\n",
       "          0.05595656, -0.02637354,  0.07362469, -0.01094724,  0.53961007,\n",
       "         -0.21061646, -0.23649287,  0.38598117])),\n",
       " (1.4430667761042566,\n",
       "  array([-0.12829383,  0.1337824 ,  0.68792836,  0.59377246,  0.08497154,\n",
       "          0.19268611,  0.17557319,  0.14144693,  0.10831831, -0.04566347,\n",
       "          0.03375899,  0.15215839, -0.08087437]))]"
      ]
     },
     "execution_count": 21,
     "metadata": {},
     "output_type": "execute_result"
    }
   ],
   "source": [
    "eigen_pairs[:3]"
   ]
  },
  {
   "cell_type": "markdown",
   "id": "98c3947b",
   "metadata": {},
   "source": [
    "<b>단계 5) 고윳값이 가장 큰 k개의 고유 벡터를 선택한다. 여기서 k는 새로운 특성 부분 공간의 차원이다.(k<=d)</b>"
   ]
  },
  {
   "cell_type": "markdown",
   "id": "d3ded888",
   "metadata": {},
   "source": [
    "<b>단계 6) 최상위 k개의 고유 벡터로 투영 행렬(projection matrix) W를 만든다.</b>"
   ]
  },
  {
   "cell_type": "code",
   "execution_count": 24,
   "id": "2618379a",
   "metadata": {},
   "outputs": [
    {
     "name": "stdout",
     "output_type": "stream",
     "text": [
      "(4.795002186796571, array([ 0.12221148, -0.24391049,  0.00369454, -0.249647  ,  0.13011026,\n",
      "        0.39099441,  0.41649235, -0.31569983,  0.2982478 , -0.07304049,\n",
      "        0.31641846,  0.37253046,  0.29514562]))\n",
      "[ 0.12221148 -0.24391049  0.00369454 -0.249647    0.13011026  0.39099441\n",
      "  0.41649235 -0.31569983  0.2982478  -0.07304049  0.31641846  0.37253046\n",
      "  0.29514562]\n"
     ]
    }
   ],
   "source": [
    "print(eigen_pairs[0])\n",
    "print(eigen_pairs[0][1])"
   ]
  },
  {
   "cell_type": "code",
   "execution_count": 25,
   "id": "455b7222",
   "metadata": {},
   "outputs": [],
   "source": [
    "#여기선 두 개의 고유 벡터 선택\n",
    "w = np.hstack((eigen_pairs[0][1][:,np.newaxis],eigen_pairs[1][1][:,np.newaxis]))#새로로 쌓기"
   ]
  },
  {
   "cell_type": "code",
   "execution_count": 26,
   "id": "e8128249",
   "metadata": {},
   "outputs": [
    {
     "name": "stdout",
     "output_type": "stream",
     "text": [
      "투영 행렬:\n",
      " [[ 0.12221148  0.49927666]\n",
      " [-0.24391049  0.15419073]\n",
      " [ 0.00369454  0.25170137]\n",
      " [-0.249647   -0.12269609]\n",
      " [ 0.13011026  0.31420427]\n",
      " [ 0.39099441  0.05595656]\n",
      " [ 0.41649235 -0.02637354]\n",
      " [-0.31569983  0.07362469]\n",
      " [ 0.2982478  -0.01094724]\n",
      " [-0.07304049  0.53961007]\n",
      " [ 0.31641846 -0.21061646]\n",
      " [ 0.37253046 -0.23649287]\n",
      " [ 0.29514562  0.38598117]]\n"
     ]
    }
   ],
   "source": [
    "print(\"투영 행렬:\\n\",w)"
   ]
  },
  {
   "cell_type": "markdown",
   "id": "2544b8ec",
   "metadata": {},
   "source": [
    "<b>단계 7) 투영 행렬 W를 사용하여 d차원 입력 데이터셋 X를 새로운 k 차원의 특성 부분 공간으로 변환한다.</b>"
   ]
  },
  {
   "cell_type": "code",
   "execution_count": 28,
   "id": "c746c290",
   "metadata": {},
   "outputs": [],
   "source": [
    "X_train_pca = X_train_std.dot(w)"
   ]
  },
  {
   "cell_type": "code",
   "execution_count": 31,
   "id": "4fa5495e",
   "metadata": {},
   "outputs": [
    {
     "data": {
      "text/plain": [
       "array([[-3.60252556,  1.65534122],\n",
       "       [ 1.95604795,  1.82561351],\n",
       "       [ 2.53103837,  1.06863621],\n",
       "       [ 1.47797293,  0.71793527],\n",
       "       [-3.90146552,  0.40145293]])"
      ]
     },
     "execution_count": 31,
     "metadata": {},
     "output_type": "execute_result"
    }
   ],
   "source": [
    "X_train_pca[:5]#pca"
   ]
  },
  {
   "cell_type": "code",
   "execution_count": 32,
   "id": "82fc98ed",
   "metadata": {},
   "outputs": [
    {
     "data": {
      "text/plain": [
       "array([[ 0.1937094 ,  2.37977151, -0.20420766,  0.7516873 , -0.37917036,\n",
       "        -0.90757407, -1.37745448,  2.00281197, -0.08550407,  1.17204713,\n",
       "        -1.5782345 , -1.64200771, -0.08460637],\n",
       "       [ 0.92207682, -0.70975882,  1.25077192, -0.03264879,  2.61733743,\n",
       "         1.06316198,  0.71546023,  1.10044614, -0.436656  ,  0.11881796,\n",
       "         1.40544599,  0.55879351,  1.47960155],\n",
       "       [ 0.88504119, -0.73508284,  1.25077192,  0.90855452,  0.2354979 ,\n",
       "         1.14459736,  1.22133061, -0.62225227,  1.37177644,  0.24520546,\n",
       "         1.13002933,  0.1389038 ,  1.63295526],\n",
       "       [ 0.61344656, -0.48184265,  1.05932724, -0.189516  ,  0.9269997 ,\n",
       "         0.08593749,  0.50716066, -0.62225227, -0.10306166, -0.38673205,\n",
       "         0.71690434,  0.37056709,  1.05021114],\n",
       "       [-0.59638407,  2.64989439,  1.0210383 ,  1.6928906 , -0.14866976,\n",
       "        -0.8261387 , -1.40721156,  2.16687849, -0.87559591, -0.04969871,\n",
       "        -0.56837341, -1.33794965, -0.72869198]])"
      ]
     },
     "execution_count": 32,
     "metadata": {},
     "output_type": "execute_result"
    }
   ],
   "source": [
    "X_train_std[:5]#원본"
   ]
  },
  {
   "cell_type": "code",
   "execution_count": 34,
   "id": "217071ed",
   "metadata": {},
   "outputs": [
    {
     "data": {
      "image/png": "[encoded data removed]",
      "text/plain": [
       "<Figure size 432x288 with 1 Axes>"
      ]
     },
     "metadata": {
      "needs_background": "light"
     },
     "output_type": "display_data"
    }
   ],
   "source": [
    "#차원 축소된 Wine 데이터셋의 산점도\n",
    "colors = ['r','b','g']\n",
    "markers = ['s','x','o']\n",
    "for l, c, m in zip(np.unique(y_train),colors,markers):\n",
    "    plt.scatter(X_train_pca[y_train==l,0],X_train_pca[y_train==l,1],c=c,label=l,marker=m)\n",
    "plt.xlabel('PC 1')\n",
    "plt.ylabel('PC 2')\n",
    "plt.legend(loc='lower left')\n",
    "plt.tight_layout()\n",
    "plt.show()"
   ]
  },
  {
   "cell_type": "markdown",
   "id": "411fdbcc",
   "metadata": {},
   "source": [
    "#### 사이킷런의 주성분 분석"
   ]
  },
  {
   "cell_type": "code",
   "execution_count": 41,
   "id": "e9e9625c",
   "metadata": {},
   "outputs": [],
   "source": [
    "from matplotlib.colors import ListedColormap\n",
    "\n",
    "def plot_decision_regions(X,y,classifier,resolution=0.02):#결정경계그리기\n",
    "    #마커와 컬러맵을 준비\n",
    "    markers = ('s','x','o','^','v')\n",
    "    colors = ('red','blue','lightgreen','gray','cyan')\n",
    "    cmap = ListedColormap(colors[:len(np.unique(y))])\n",
    "    \n",
    "    #결정경계 그리기\n",
    "    x1_min, x1_max = X[:,0].min()-1,X[:,0].max()+1\n",
    "    x2_min,x2_max = X[:,1].min()-1,X[:,1].max()+1\n",
    "    xx1,xx2 = np.meshgrid(np.arange(x1_min,x1_max,resolution),np.arange(x2_min,x2_max,resolution))\n",
    "    \n",
    "    Z= classifier.predict(np.array([xx1.ravel(),xx2.ravel()]).T)\n",
    "    Z = Z.reshape(xx1.shape)\n",
    "    plt.contourf(xx1,xx2,Z,alpha=0.4,cmap=cmap)\n",
    "    plt.xlim(xx1.min(),xx1.max())\n",
    "    plt.ylim(xx2.min(),xx2.max())\n",
    "    \n",
    "    #클래스 샘플 표시\n",
    "    for idx, cl in enumerate(np.unique(y)):\n",
    "        plt.scatter(x=X[y==cl,0],y=X[y==cl,1],alpha=0.6,c=cmap.colors[idx],edgecolor='black',marker=markers[idx],label=cl)\n",
    "    \n",
    "    "
   ]
  },
  {
   "cell_type": "code",
   "execution_count": 42,
   "id": "cdefa0fe",
   "metadata": {},
   "outputs": [
    {
     "name": "stderr",
     "output_type": "stream",
     "text": [
      "<ipython-input-41-6e4e2590a161>:22: UserWarning: You passed a edgecolor/edgecolors ('black') for an unfilled marker ('x').  Matplotlib is ignoring the edgecolor in favor of the facecolor.  This behavior may change in the future.\n",
      "  plt.scatter(x=X[y==cl,0],y=X[y==cl,1],alpha=0.6,c=cmap.colors[idx],edgecolor='black',marker=markers[idx],label=cl)\n"
     ]
    },
    {
     "data": {
      "image/png": "[encoded data removed]",
      "text/plain": [
       "<Figure size 432x288 with 1 Axes>"
      ]
     },
     "metadata": {
      "needs_background": "light"
     },
     "output_type": "display_data"
    }
   ],
   "source": [
    "from sklearn.linear_model import LogisticRegression\n",
    "from sklearn.decomposition import PCA\n",
    "pca = PCA(n_components=2)#2개의 주성분\n",
    "\n",
    "#사이킷런의 pca클래스를 훈련세트에 적용\n",
    "X_train_pca = pca.fit_transform(X_train_std)#PCA 변환\n",
    "X_test_pca = pca.transform(X_test_std)\n",
    "lr = LogisticRegression(solver='liblinear',multi_class='auto')\n",
    "lr.fit(X_train_pca,y_train)\n",
    "plot_decision_regions(X_train_pca,y_train,classifier=lr)\n",
    "plt.xlabel('PC 1')\n",
    "plt.ylabel('PC 2')\n",
    "plt.legend(loc = 'lower left')\n",
    "plt.tight_layout()\n",
    "plt.show()"
   ]
  },
  {
   "cell_type": "code",
   "execution_count": 43,
   "id": "fda07d3d",
   "metadata": {},
   "outputs": [
    {
     "name": "stderr",
     "output_type": "stream",
     "text": [
      "<ipython-input-41-6e4e2590a161>:22: UserWarning: You passed a edgecolor/edgecolors ('black') for an unfilled marker ('x').  Matplotlib is ignoring the edgecolor in favor of the facecolor.  This behavior may change in the future.\n",
      "  plt.scatter(x=X[y==cl,0],y=X[y==cl,1],alpha=0.6,c=cmap.colors[idx],edgecolor='black',marker=markers[idx],label=cl)\n"
     ]
    },
    {
     "data": {
      "image/png": "[encoded data removed]",
      "text/plain": [
       "<Figure size 432x288 with 1 Axes>"
      ]
     },
     "metadata": {
      "needs_background": "light"
     },
     "output_type": "display_data"
    }
   ],
   "source": [
    "#테스트세트의 결정경계\n",
    "plot_decision_regions(X_test_pca,y_test,classifier=lr)\n",
    "plt.xlabel('PC1')\n",
    "plt.ylabel('PC2')\n",
    "plt.legend(loc='lower left')\n",
    "plt.tight_layout()\n",
    "plt.show()"
   ]
  },
  {
   "cell_type": "code",
   "execution_count": 44,
   "id": "2a72cfec",
   "metadata": {},
   "outputs": [
    {
     "data": {
      "text/plain": [
       "array([0.36584757, 0.19074656, 0.11010266, 0.07622236, 0.06677399,\n",
       "       0.05174628, 0.04046205, 0.02676539, 0.02170402, 0.01520954,\n",
       "       0.01447227, 0.01130043, 0.00864689])"
      ]
     },
     "execution_count": 44,
     "metadata": {},
     "output_type": "execute_result"
    }
   ],
   "source": [
    "#전체 주성분의 설명된 분산(explained variance) 비율 확인\n",
    "pca = PCA(n_components=None)\n",
    "X_train_pca = pca.fit_transform(X_train_std)\n",
    "pca.explained_variance_ratio_#설명된 분산 비율"
   ]
  },
  {
   "cell_type": "markdown",
   "id": "ffb5791e",
   "metadata": {},
   "source": [
    "## 선형 판별 분석 (Linear Discriminant Analysis, LDA)\n",
    "<b><br>\n",
    "- 사용: 지도학습 알고리즘, 규제가 없는 모델에서 과대적합 줄이기 위해 활용\n",
    "- 목표: 클래스를 최적으로 구분할 수 있는 특성 부분 공간을 찾는 것\n",
    "    </b>"
   ]
  },
  {
   "cell_type": "markdown",
   "id": "b81fa856",
   "metadata": {},
   "source": [
    "### LDA 알고리즘\n",
    "\n",
    "1. d차원 데이터셋을 표준화 전처리한다.(d: 특성 개수)\n",
    "2. 각 클래스에 대해 d차원의 평균 벡터를 계산(지도학습; 클래스 레이블 정보 사용)\n",
    "3. 클래스 간의 산포 행렬(scatter matrix) $S_b$와 클래스 내 산포 행렬 $S_w$를 구성한다.\n",
    "4. $S_w^{-1}S_b$ 행렬의 고유 벡터와 고윳값을 계산한다.\n",
    "5. 고윳값을 내림차순으로 정렬하여 고유벡터의 순서를 매긴다.\n",
    "6. 고윳값이 가장 큰 k개의 고유 벡터를 선택하여 $d$x$k$ 차원의 변환행렬 $W$를 구성한다. 이 행렬의 열이 고유 벡터다.\n",
    "7. 변환 행렬 $W$를 사용하여 샘플을 새로운 특성 부분 공간으로 투영한다."
   ]
  },
  {
   "cell_type": "markdown",
   "id": "74e0feeb",
   "metadata": {},
   "source": [
    "<b>단계 1) 표준화 전처리 </b>"
   ]
  },
  {
   "cell_type": "code",
   "execution_count": 47,
   "id": "eb591b5f",
   "metadata": {},
   "outputs": [
    {
     "name": "stdout",
     "output_type": "stream",
     "text": [
      "\n"
     ]
    }
   ],
   "source": [
    "X_train_std\n",
    "X_test_std\n",
    "print()"
   ]
  },
  {
   "cell_type": "markdown",
   "id": "b6ffa1c7",
   "metadata": {},
   "source": [
    "<b>단계 2) 각 클래스에 대해 d차원의 평균 벡터를 계산</b>"
   ]
  },
  {
   "cell_type": "markdown",
   "id": "fc1bf8aa",
   "metadata": {},
   "source": [
    "$$m_i = \\frac{1}{n_i}\\sum_{x \\in D_i}^{} x_{m}$$"
   ]
  },
  {
   "cell_type": "markdown",
   "id": "f736426d",
   "metadata": {},
   "source": [
    "$$\\begin{equation*}\n",
    "m_i = \n",
    "\\begin{bmatrix}\n",
    "\\mu_{i,malcohol} \\\\\n",
    "\\mu_{i,malic acid} \\\\\n",
    ".\\\\\n",
    ".\\\\\n",
    ".\\\\\n",
    "\\mu_{i,proline}\n",
    "\\end{bmatrix}\n",
    "\\end{equation*}$$<br>\n",
    "$$ i \\in {1,2,3} (클래스)$$"
   ]
  },
  {
   "cell_type": "code",
   "execution_count": 50,
   "id": "b8e635d2",
   "metadata": {},
   "outputs": [],
   "source": [
    "np.set_printoptions(precision=4)#소수점 4자리수까지 출력"
   ]
  },
  {
   "cell_type": "code",
   "execution_count": 51,
   "id": "c65f5800",
   "metadata": {},
   "outputs": [
    {
     "name": "stdout",
     "output_type": "stream",
     "text": [
      "MV 1: [ 0.8807 -0.3428  0.2687 -0.8193  0.4718  0.8881  0.9597 -0.6325  0.4794\n",
      "  0.2394  0.5838  0.6963  1.2367]\n",
      "\n",
      "MV 2: [-0.8811 -0.2894 -0.3636  0.3329 -0.398  -0.0317  0.0938 -0.0514  0.137\n",
      " -0.8377  0.3394  0.3511 -0.7462]\n",
      "\n",
      "MV 3: [ 0.2336  0.8204  0.208   0.4841  0.0186 -0.9991 -1.2643  0.8182 -0.7615\n",
      "  0.9256 -1.1759 -1.3252 -0.3796]\n",
      "\n"
     ]
    }
   ],
   "source": [
    "mean_vecs = []#평균벡터\n",
    "for label in range(1,4):\n",
    "    mean_vecs.append(np.mean(X_train_std[y_train==label],axis=0))\n",
    "    print('MV %s: %s\\n'%(label,mean_vecs[label-1]))#클래스 label에 대한 특성 개수 차원 평균 벡터"
   ]
  },
  {
   "cell_type": "markdown",
   "id": "d5598cfd",
   "metadata": {},
   "source": [
    "<b>단계 3) 클래스 간의 산포 행렬(scatter matrix)  $S_𝑏$ 와 클래스 내 산포 행렬  $S_W$ 를 구성한다.</b>"
   ]
  },
  {
   "cell_type": "markdown",
   "id": "dc7ebacf",
   "metadata": {},
   "source": [
    "#### 클래스 내 산포 행렬 $S_W$\n",
    "$$S_W = \\sum_{i=1}^{c} S_{i} $$\n",
    "\n",
    "#### 개별 클래스 i의 산포랭렬 $S_i$\n",
    "$$S_i = \\sum_{x \\in D_i}^{} (x-m_i)(x-m_i)^{T}$$"
   ]
  },
  {
   "cell_type": "code",
   "execution_count": 53,
   "id": "1b948173",
   "metadata": {},
   "outputs": [],
   "source": [
    "#클래스 내 산포행렬(S_W)\n",
    "d=13#특성 개수\n",
    "S_W = np.zeros((d,d))\n",
    "for label,mv in zip(range(1,4),mean_vecs):\n",
    "    class_scatter = np.zeros((d,d))\n",
    "    for row in X_train_std[y_train == label]:\n",
    "        row, mv = row.reshape(d,1),mv.reshape(d,1)\n",
    "        class_scatter += (row-mv).dot((row-mv).T)#개별 클래스 산포 행렬\n",
    "    S_W += class_scatter"
   ]
  },
  {
   "cell_type": "code",
   "execution_count": 54,
   "id": "9f971fc1",
   "metadata": {},
   "outputs": [
    {
     "name": "stdout",
     "output_type": "stream",
     "text": [
      "클래스 내의 산포 행렬: 13x13\n"
     ]
    }
   ],
   "source": [
    "print(\"클래스 내의 산포 행렬: %sx%s\"%(S_W.shape[0],S_W.shape[1]))"
   ]
  },
  {
   "cell_type": "code",
   "execution_count": 56,
   "id": "55d3f57d",
   "metadata": {},
   "outputs": [
    {
     "name": "stdout",
     "output_type": "stream",
     "text": [
      "클래스 레이블 분포: [40 49 34]\n"
     ]
    }
   ],
   "source": [
    "print(\"클래스 레이블 분포: %s\"%np.bincount(y_train)[1:] )#클래스 레이블 개수 불균등하게 분포되어있음"
   ]
  },
  {
   "cell_type": "markdown",
   "id": "9d7d76aa",
   "metadata": {},
   "source": [
    "#### 산포 행렬의 정규화버전(스케일 조정)\n",
    "\n",
    "$$\\sum\\nolimits_{i}=\\frac{1}{n}\\sum_{x \\in D_i}^{} (x-m_i)(x-m_i)^{T}$$\n",
    "\n",
    "$n$: 샘플 개수"
   ]
  },
  {
   "cell_type": "code",
   "execution_count": 57,
   "id": "cf373733",
   "metadata": {},
   "outputs": [],
   "source": [
    "d = 13#클래스 개수\n",
    "S_W = np.zeros((d,d))\n",
    "for label, mv in zip(range(1,4),mean_vecs):\n",
    "    class_scatter = np.cov(X_train_std[y_train == label].T, bias=True)#공분산행렬(=산포행렬의 정규화버전)\n",
    "    S_W += class_scatter"
   ]
  },
  {
   "cell_type": "code",
   "execution_count": 58,
   "id": "7c5f1920",
   "metadata": {},
   "outputs": [
    {
     "name": "stdout",
     "output_type": "stream",
     "text": [
      "스케일 조정된 클래스 내의 산포 행렬: 13x13\n"
     ]
    }
   ],
   "source": [
    "print(\"스케일 조정된 클래스 내의 산포 행렬: %sx%s\"%(S_W.shape[0],S_W.shape[1]))"
   ]
  },
  {
   "cell_type": "markdown",
   "id": "71cc441c",
   "metadata": {},
   "source": [
    "#### 클래스 간의 산포행렬 $S_B$\n",
    "$$S_B = \\sum_{i=1}^{c} n_i(m_i - m)(m_i - m)^{T}$$\n",
    "$m$: 모든 클래스의 샘플을 포함하여 계산된 전체 평균"
   ]
  },
  {
   "cell_type": "code",
   "execution_count": 59,
   "id": "d5ce6747",
   "metadata": {},
   "outputs": [
    {
     "name": "stdout",
     "output_type": "stream",
     "text": [
      "클래스 간의 산포행렬: 13x13\n"
     ]
    }
   ],
   "source": [
    "#클래스 간 산포행렬(S_B) 계산\n",
    "mean_overall = np.mean(X_train_std, axis = 0)#전체평균(m)\n",
    "mean_overall = mean_overall.reshape(d,1)#열(column) 벡터로 만들기\n",
    "d=13\n",
    "S_B = np.zeros((d,d))\n",
    "for i, mean_vec in enumerate(mean_vecs):\n",
    "    n= X_train[y_train == i+1,:].shape[0]#샘플 개수(n_i)\n",
    "    mean_vec = mean_vec.reshape(d,1)#열 벡터로 만들기\n",
    "    S_B += n*(mean_vec-mean_overall).dot((mean_vec - mean_overall).T)\n",
    "    \n",
    "print(\"클래스 간의 산포행렬: %sx%s\"%(S_B.shape[0],S_B.shape[1]))"
   ]
  },
  {
   "cell_type": "markdown",
   "id": "05658625",
   "metadata": {},
   "source": [
    "<b> 단계 4) $S_w^{-1}S_b$ 행렬의 고유 벡터와 고윳값을 계산한다.</b>"
   ]
  },
  {
   "cell_type": "code",
   "execution_count": 60,
   "id": "f20f929f",
   "metadata": {},
   "outputs": [],
   "source": [
    "eigen_vals, eigen_vecs = np.linalg.eig(np.linalg.inv(S_W).dot(S_B))"
   ]
  },
  {
   "cell_type": "code",
   "execution_count": 61,
   "id": "a14adf7e",
   "metadata": {},
   "outputs": [],
   "source": [
    "eigen_pairs = [(np.abs(eigen_vals[i]),eigen_vecs[:,i]) for i in range(len(eigen_vals))]"
   ]
  },
  {
   "cell_type": "markdown",
   "id": "7dcc86b3",
   "metadata": {},
   "source": [
    "<b> 단계 5) 고윳값을 내림차순으로 정렬하여 고유벡터의 순서를 매긴다.</b>"
   ]
  },
  {
   "cell_type": "code",
   "execution_count": 63,
   "id": "a790f875",
   "metadata": {},
   "outputs": [],
   "source": [
    "eigen_pairs = sorted(eigen_pairs, key = lambda k:k[0],reverse=True)#내림차순으로 정렬하여 고유벡터 순서 매김"
   ]
  },
  {
   "cell_type": "code",
   "execution_count": 64,
   "id": "5da7caea",
   "metadata": {
    "scrolled": true
   },
   "outputs": [
    {
     "name": "stdout",
     "output_type": "stream",
     "text": [
      "내림차순의 고윳값:\n",
      "\n",
      "376.5697714155991\n",
      "167.6866436287072\n",
      "5.49693732372873e-14\n",
      "2.0081048210495743e-14\n",
      "1.939052813682953e-14\n",
      "1.939052813682953e-14\n",
      "1.3961261084659713e-14\n",
      "1.3961261084659713e-14\n",
      "8.85307418992304e-15\n",
      "8.85307418992304e-15\n",
      "2.3475938490245313e-15\n",
      "5.5406692513625854e-17\n",
      "0.0\n"
     ]
    }
   ],
   "source": [
    "print(\"내림차순의 고윳값:\\n\")\n",
    "for eigen_Val in eigen_pairs:\n",
    "    print(eigen_Val[0])"
   ]
  },
  {
   "cell_type": "markdown",
   "id": "6320ec7a",
   "metadata": {},
   "source": [
    "고윳값의 내림차순으로 선형 판별 벡터 그리기"
   ]
  },
  {
   "cell_type": "code",
   "execution_count": 68,
   "id": "30e60b79",
   "metadata": {},
   "outputs": [
    {
     "data": {
      "text/plain": [
       "array([ 0.0000e+00+0.0000e+00j,  1.6769e+02+0.0000e+00j,\n",
       "        3.7657e+02+0.0000e+00j,  5.4969e-14+0.0000e+00j,\n",
       "       -2.0081e-14+0.0000e+00j, -8.8905e-15+1.7232e-14j,\n",
       "       -8.8905e-15-1.7232e-14j,  1.3768e-14+2.3167e-15j,\n",
       "        1.3768e-14-2.3167e-15j,  4.8017e-15+7.4378e-15j,\n",
       "        4.8017e-15-7.4378e-15j,  5.5407e-17+0.0000e+00j,\n",
       "        2.3476e-15+0.0000e+00j])"
      ]
     },
     "execution_count": 68,
     "metadata": {},
     "output_type": "execute_result"
    }
   ],
   "source": [
    "eigen_vals"
   ]
  },
  {
   "cell_type": "code",
   "execution_count": 67,
   "id": "209e53d5",
   "metadata": {},
   "outputs": [
    {
     "data": {
      "text/plain": [
       "array([ 0.0000e+00,  1.6769e+02,  3.7657e+02,  5.4969e-14, -2.0081e-14,\n",
       "       -8.8905e-15, -8.8905e-15,  1.3768e-14,  1.3768e-14,  4.8017e-15,\n",
       "        4.8017e-15,  5.5407e-17,  2.3476e-15])"
      ]
     },
     "execution_count": 67,
     "metadata": {},
     "output_type": "execute_result"
    }
   ],
   "source": [
    "eigen_vals.real"
   ]
  },
  {
   "cell_type": "code",
   "execution_count": 69,
   "id": "5fdf51a2",
   "metadata": {},
   "outputs": [
    {
     "data": {
      "image/png": "[encoded data removed]",
      "text/plain": [
       "<Figure size 432x288 with 1 Axes>"
      ]
     },
     "metadata": {
      "needs_background": "light"
     },
     "output_type": "display_data"
    }
   ],
   "source": [
    "tot = sum(eigen_vals.real)\n",
    "discr = [(i/tot) for i in sorted(eigen_vals.real, reverse=True)]\n",
    "cum_discr = np.cumsum(discr)\n",
    "plt.bar(range(1,14),discr,alpha=0.5,align='center',label='individual \"discriminablility\"')\n",
    "plt.step(range(1,14),cum_discr,where='mid',label='cumulative \"discriminability\"')\n",
    "plt.ylabel('\"discriminability\" ratio')\n",
    "plt.xlabel('Linear Discriminants')\n",
    "plt.ylim([-0.1,1.1])\n",
    "plt.legend(loc='best')\n",
    "plt.tight_layout()\n",
    "plt.show()"
   ]
  },
  {
   "cell_type": "markdown",
   "id": "fa64b996",
   "metadata": {},
   "source": [
    "<b>단계 6) 고윳값이 가장 큰 k개의 고유 벡터를 선택하여 $d$x$k$ 차원의 변환행렬 $W$를 구성한다. 이 행렬의 열이 고유 벡터다.</b>"
   ]
  },
  {
   "cell_type": "code",
   "execution_count": 70,
   "id": "78c49160",
   "metadata": {},
   "outputs": [],
   "source": [
    "w = np.hstack((eigen_pairs[0][1][:,np.newaxis].real,eigen_pairs[1][1][:,np.newaxis].real))"
   ]
  },
  {
   "cell_type": "code",
   "execution_count": 71,
   "id": "0a7993c1",
   "metadata": {},
   "outputs": [
    {
     "name": "stdout",
     "output_type": "stream",
     "text": [
      "행렬 W:\n",
      " [[-0.1182 -0.3453]\n",
      " [ 0.0539 -0.1989]\n",
      " [ 0.0132 -0.2756]\n",
      " [ 0.1466  0.2761]\n",
      " [-0.0116 -0.0369]\n",
      " [ 0.1856  0.071 ]\n",
      " [-0.7472  0.26  ]\n",
      " [-0.0529  0.057 ]\n",
      " [ 0.0097  0.1543]\n",
      " [ 0.2747 -0.2725]\n",
      " [-0.0896  0.2394]\n",
      " [-0.3498  0.0048]\n",
      " [-0.3998 -0.6756]]\n"
     ]
    }
   ],
   "source": [
    "print(\"행렬 W:\\n\",w)"
   ]
  },
  {
   "cell_type": "markdown",
   "id": "26ada76e",
   "metadata": {},
   "source": [
    "<b>단계 7) 변환 행렬 $W$를 사용하여 샘플을 새로운 특성 부분 공간으로 투영한다.</b>"
   ]
  },
  {
   "cell_type": "markdown",
   "id": "11f79d9a",
   "metadata": {},
   "source": [
    "$$X'=XW$$"
   ]
  },
  {
   "cell_type": "code",
   "execution_count": 74,
   "id": "6f200578",
   "metadata": {},
   "outputs": [
    {
     "data": {
      "image/png": "[encoded data removed]",
      "text/plain": [
       "<Figure size 432x288 with 1 Axes>"
      ]
     },
     "metadata": {
      "needs_background": "light"
     },
     "output_type": "display_data"
    }
   ],
   "source": [
    "X_train_lda = X_train_std.dot(w)\n",
    "colors = ['r','b','g']\n",
    "markers = ['s','x','o']\n",
    "for l, c, m in zip(np.unique(y_train),colors,markers):\n",
    "    plt.scatter(X_train_lda[y_train == l,0],X_train_lda[y_train==l,1]*(-1),c=c,label=l,marker=m)\n",
    "plt.xlabel('LD 1')\n",
    "plt.ylabel('LD 2')\n",
    "plt.legend(loc='lower right')\n",
    "plt.tight_layout()\n",
    "plt.show()"
   ]
  },
  {
   "cell_type": "markdown",
   "id": "f7911122",
   "metadata": {},
   "source": [
    "### 사이킷런의 LDA"
   ]
  },
  {
   "cell_type": "code",
   "execution_count": 75,
   "id": "d326e8a2",
   "metadata": {},
   "outputs": [],
   "source": [
    "from sklearn.discriminant_analysis import LinearDiscriminantAnalysis as LDA#사이킷런의 LDA 클래스\n",
    "lda = LDA(n_components=2)\n",
    "X_train_lda = lda.fit_transform(X_train_std,y_train)"
   ]
  },
  {
   "cell_type": "code",
   "execution_count": 76,
   "id": "82551dcd",
   "metadata": {},
   "outputs": [
    {
     "name": "stderr",
     "output_type": "stream",
     "text": [
      "<ipython-input-41-6e4e2590a161>:22: UserWarning: You passed a edgecolor/edgecolors ('black') for an unfilled marker ('x').  Matplotlib is ignoring the edgecolor in favor of the facecolor.  This behavior may change in the future.\n",
      "  plt.scatter(x=X[y==cl,0],y=X[y==cl,1],alpha=0.6,c=cmap.colors[idx],edgecolor='black',marker=markers[idx],label=cl)\n"
     ]
    },
    {
     "data": {
      "image/png": "[encoded data removed]",
      "text/plain": [
       "<Figure size 432x288 with 1 Axes>"
      ]
     },
     "metadata": {
      "needs_background": "light"
     },
     "output_type": "display_data"
    }
   ],
   "source": [
    "#LDA로 변환한 저차원 데이터셋에 로지스틱 회귀 분류기가 잘 작동하는지\n",
    "lr = LogisticRegression(solver='liblinear',multi_class='auto')\n",
    "lr = lr.fit(X_train_lda,y_train)\n",
    "plot_decision_regions(X_train_lda,y_train,classifier=lr)\n",
    "plt.xlabel('LD 1')\n",
    "plt.ylabel('LD 2')\n",
    "plt.legend(loc = 'lower left')\n",
    "plt.tight_layout()\n",
    "plt.show()#클래스 2의 샘플 하나 분류 실패"
   ]
  },
  {
   "cell_type": "code",
   "execution_count": 77,
   "id": "2f91154d",
   "metadata": {},
   "outputs": [
    {
     "name": "stderr",
     "output_type": "stream",
     "text": [
      "<ipython-input-41-6e4e2590a161>:22: UserWarning: You passed a edgecolor/edgecolors ('black') for an unfilled marker ('x').  Matplotlib is ignoring the edgecolor in favor of the facecolor.  This behavior may change in the future.\n",
      "  plt.scatter(x=X[y==cl,0],y=X[y==cl,1],alpha=0.6,c=cmap.colors[idx],edgecolor='black',marker=markers[idx],label=cl)\n"
     ]
    },
    {
     "data": {
      "image/png": "[encoded data removed]",
      "text/plain": [
       "<Figure size 432x288 with 1 Axes>"
      ]
     },
     "metadata": {
      "needs_background": "light"
     },
     "output_type": "display_data"
    }
   ],
   "source": [
    "#테스트 세트의 결과\n",
    "X_test_lda = lda.transform(X_test_std)\n",
    "plot_decision_regions(X_test_lda, y_test, classifier=lr)\n",
    "plt.xlabel('LD 1')\n",
    "plt.ylabel('LD 2')\n",
    "plt.legend(loc = 'lower left')\n",
    "plt.tight_layout()\n",
    "plt.show()#완벽하게 분류"
   ]
  },
  {
   "cell_type": "markdown",
   "id": "f6be5ae8",
   "metadata": {},
   "source": [
    "### 커널 PCA\n",
    "커널 PCA를 사용하여 선형적으로 구분되지 않는 데이터를 선형 분류기에 접합합 새로운 저차원 부분 공간으로 변환"
   ]
  },
  {
   "cell_type": "markdown",
   "id": "641f2faa",
   "metadata": {},
   "source": [
    "### 커널 함수와 커널 트릭\n",
    "[비선형 매핑 함수: 더 큰 차원의 특성 공간에 매핑]\n",
    "$$\\phi: \\mathbb{R}^{d} \\rightarrow \\mathbb{R}^{k} (k >> d)$$\n",
    "\n",
    "$$x = [x_1,x_2]^{T}$$\n",
    "\n",
    "$$\\downarrow \\phi (비선형매핑)$$\n",
    "\n",
    "$$z=[x_1^2,\\sqrt{2x_1x_2},x_2^2]^T (고차원)$$"
   ]
  },
  {
   "cell_type": "markdown",
   "id": "1f7fe53c",
   "metadata": {},
   "source": [
    "<br>\n",
    "특성 k와 j의 공분산\n",
    "$$\\sigma_{jk} = \\frac{1}{n} \\sum_{i=1}^{n}(x_j^{(i)} - \\mu_j)(x_k^{(i)} - \\mu_k)$$"
   ]
  },
  {
   "cell_type": "markdown",
   "id": "8aa7ef52",
   "metadata": {},
   "source": [
    "<br>\n",
    "$mu_j$=0, $mu_k$=0처럼 특성 평균을 0에 맞춤\n",
    "\n",
    "$$\\sigma_{jk} = \\frac{1}{n}\\sum_{i=1}^{n} x_j^{(i)}{x_k^{(i)}}^T $$"
   ]
  },
  {
   "cell_type": "markdown",
   "id": "d81dd267",
   "metadata": {},
   "source": [
    "<br>\n",
    "공분산 행렬\n",
    "\n",
    "$$\\sum = \\frac{1}{n}\\sum_{i=1}^{n} x^{(i)}{x^{(i)}}^T $$"
   ]
  },
  {
   "cell_type": "markdown",
   "id": "7182ecbe",
   "metadata": {},
   "source": [
    "<br>\n",
    "베른하르트 슐코프는 이 방식을 일반화하여 $\\phi$를 통한 비선형 특성 조합으로 원본 특성 공간의 샘플 사이의 점곱을 대체\n",
    "\n",
    "$$\\sum = \\frac{1}{n}\\sum_{i=1}^{n} \\phi(x^{(i)})\\phi({x^{(i)}})^T $$"
   ]
  },
  {
   "cell_type": "markdown",
   "id": "734aea68",
   "metadata": {},
   "source": [
    "<br>\n",
    "이 공분산 행렬에서 고유 벡터(주성분)를 얻기 위해:\n",
    "\n",
    "$$\\sum v = \\lambda v$$\n",
    "$$\\Rightarrow \\frac{1}{n}\\sum_{i=1}^{n} \\phi(x^{(i)})\\phi({x^{(i)}})^T v = \\lambda v$$\n",
    "$$\\Rightarrow v = \\frac{1}{n\\lambda}\\sum_{i=1}^{n} \\phi(x^{(i)})\\phi({x^{(i)}})^T v = \\sum_{i=1}^{n} a^{(i)}\\phi({x^{(i)}})$$"
   ]
  },
  {
   "cell_type": "markdown",
   "id": "bb8f3422",
   "metadata": {},
   "source": [
    "$K$: 유사도(커널) 행렬\n",
    "$$K = \\phi(X)\\phi(X)^{T}$$"
   ]
  },
  {
   "cell_type": "markdown",
   "id": "8c9eb1a6",
   "metadata": {},
   "source": [
    "커널 함수 $K$\n",
    "\n",
    "$$K(x^{(i)},x^{(j)}) = {\\phi(x^{(i)})}^T\\phi(x^{(j)})$$"
   ]
  },
  {
   "cell_type": "markdown",
   "id": "eb0dea91",
   "metadata": {},
   "source": [
    "방사 기저 함수(Radical Basis Function, RBF), 가우시안 커널\n",
    "\n",
    "$$K(x^{i},x^{j}) = exp\\Big(-\\frac{{\\parallel x^{i} - x^{j}\\parallel}^2}{2\\sigma^2} \\Big)$$\n",
    "\n",
    "$$ \\gamma = \\frac{1}{2\\sigma^2}$$\n",
    "\n",
    "$$K(x^{i},x^{j}) = exp\\Big(-\\gamma{\\parallel x^{i} - x^{j}\\parallel}^2\\Big)$$"
   ]
  },
  {
   "cell_type": "markdown",
   "id": "cd7079b2",
   "metadata": {},
   "source": [
    "### 파이썬으로 커널 PCA 구현"
   ]
  },
  {
   "cell_type": "code",
   "execution_count": 94,
   "id": "47912eb4",
   "metadata": {},
   "outputs": [],
   "source": [
    "from scipy.spatial.distance import pdist, squareform\n",
    "from numpy import exp\n",
    "from scipy.linalg import eigh\n",
    "import numpy as np\n",
    "import pandas as pd\n",
    "\n",
    "def rbf_kernel_pca(X, gamma, n_components):#RBF 커널 구현\n",
    "    \n",
    "    #MxN 차원의 데이터셋에서 샘플 간의 유클리디안 거리의 제곱을 계산\n",
    "    sq_dists = pdist(X, 'sqeuclidean')#샘플 간의 유클리디안 거리의 제곱을 계산\n",
    "    mat_sq_dists = squareform(sq_dists)#샘플 간의 거리->정방대칭행렬로 변환\n",
    "    K = exp(-gamma*mat_sq_dists)#커널 행렬 계산\n",
    "    \n",
    "    #커널 행렬을 중앙에 맞춤\n",
    "    N = K.shape[0]\n",
    "    one_n= np.ones((N,N))/N\n",
    "    K = K-one_n.dot(K)-K.dot(one_n)+one_n.dot(K).dot(one_n)#커널 행렬 중앙에\n",
    "    \n",
    "    #중앙에 맞춰진 커널 행렬의 고윳값과 고유벡터를 구함\n",
    "    #scipy.linalg.eigh 함수는 오름차순으로 반환\n",
    "    eigvals, eigvecs = eigh(K)\n",
    "    eigvals, eigvecs = eigvals[::-1], eigvecs[:,::-1]#고윳값, 고유벡터 선택\n",
    "    \n",
    "    #최상위 k개의 고유벡터 선택(투영 결과)\n",
    "    X_pc = np.column_stack([eigvecs[:,i] for i in range(n_components)])#최상위 k개 고유벡터 선택\n",
    "    \n",
    "    return X_pc\n"
   ]
  },
  {
   "cell_type": "markdown",
   "id": "290c8fd1",
   "metadata": {},
   "source": [
    "#### 예제 1: 반달 모양 구분하기"
   ]
  },
  {
   "cell_type": "code",
   "execution_count": 81,
   "id": "694ec2dd",
   "metadata": {},
   "outputs": [
    {
     "data": {
      "image/png": "[encoded data removed]",
      "text/plain": [
       "<Figure size 432x288 with 1 Axes>"
      ]
     },
     "metadata": {
      "needs_background": "light"
     },
     "output_type": "display_data"
    }
   ],
   "source": [
    "from sklearn.datasets import make_moons#반달모양\n",
    "X,y = make_moons(n_samples=100,random_state=123)\n",
    "plt.scatter(X[y==0,0],X[y==0,1],\n",
    "           color = 'red',marker='^',alpha=0.5)\n",
    "plt.scatter(X[y==1,0],X[y==1,1],color='blue', marker='o',alpha=0.5)\n",
    "plt.show()"
   ]
  },
  {
   "cell_type": "code",
   "execution_count": 88,
   "id": "4e84edee",
   "metadata": {},
   "outputs": [
    {
     "data": {
      "image/png": "[encoded data removed]",
      "text/plain": [
       "<Figure size 504x216 with 2 Axes>"
      ]
     },
     "metadata": {
      "needs_background": "light"
     },
     "output_type": "display_data"
    }
   ],
   "source": [
    "#기본 PCA의 주성분에 데이터셋 투영 결과\n",
    "from sklearn.decomposition import PCA\n",
    "scikit_pca = PCA(n_components=2)\n",
    "X_spca = scikit_pca.fit_transform(X)\n",
    "fig,ax = plt.subplots(nrows=1,ncols=2,figsize=(7,3))\n",
    "ax[0].scatter(X_spca[y==0,0],X_spca[y==0,1],color='red',marker='^',alpha=0.5)\n",
    "ax[0].scatter(X_spca[y==1,0],X_spca[y==1,1],color='blue',marker='o',alpha=0.5)\n",
    "ax[1].scatter(X_spca[y==0,0],np.zeros((50,1))+0.02,color='red',marker='^',alpha=0.5)\n",
    "ax[1].scatter(X_spca[y==1,0],np.zeros((50,1))+0.02,color='blue',marker='o',alpha=0.5)\n",
    "ax[0].set_xlabel('PC1')\n",
    "ax[0].set_ylabel('PC2')\n",
    "ax[1].set_ylim([-1,1])\n",
    "ax[1].set_yticks([])\n",
    "ax[1].set_xlabel('PC1')\n",
    "plt.show()#구분 불가(선형적으로 구분 불가)"
   ]
  },
  {
   "cell_type": "code",
   "execution_count": 96,
   "id": "c60e799b",
   "metadata": {},
   "outputs": [
    {
     "data": {
      "image/png": "[encoded data removed]",
      "text/plain": [
       "<Figure size 504x216 with 2 Axes>"
      ]
     },
     "metadata": {
      "needs_background": "light"
     },
     "output_type": "display_data"
    }
   ],
   "source": [
    "#RBF 커널 PCA로 투영한 경우\n",
    "X_kpca = rbf_kernel_pca(X,gamma=15,n_components=2)\n",
    "fig,ax = plt.subplots(nrows=1,ncols=2,figsize=(7,3))\n",
    "ax[0].scatter(X_kpca[y==0,0],X_kpca[y==0,1],color='red',marker='^',alpha=0.5)\n",
    "ax[0].scatter(X_kpca[y==1,0],X_kpca[y==1,1],color='blue',marker='o',alpha=0.5)\n",
    "ax[1].scatter(X_kpca[y==0,0],np.zeros((50,1))+0.02,color='red',marker='^',alpha=0.5)\n",
    "ax[1].scatter(X_kpca[y==1,0],np.zeros((50,1))+0.02,color='blue',marker='o',alpha=0.5)\n",
    "ax[0].set_xlabel('PC1')\n",
    "ax[0].set_ylabel('PC2')\n",
    "ax[1].set_ylim([-1,1])\n",
    "ax[1].set_yticks([])\n",
    "ax[1].set_xlabel('PC1')\n",
    "plt.show()#적합(선형적으로 구분 가능)"
   ]
  },
  {
   "cell_type": "markdown",
   "id": "0cede6a5",
   "metadata": {},
   "source": [
    "#### 예제 2: 동심원 분리하기"
   ]
  },
  {
   "cell_type": "code",
   "execution_count": 97,
   "id": "dcd151bc",
   "metadata": {},
   "outputs": [
    {
     "data": {
      "image/png": "[encoded data removed]",
      "text/plain": [
       "<Figure size 432x288 with 1 Axes>"
      ]
     },
     "metadata": {
      "needs_background": "light"
     },
     "output_type": "display_data"
    }
   ],
   "source": [
    "from sklearn.datasets import make_circles#동심원\n",
    "X,y = make_circles(n_samples=1000,random_state=123,noise=0.1,factor=0.2)\n",
    "plt.scatter(X[y==0,0],X[y==0,1],color='red',marker='^',alpha=0.5)\n",
    "plt.scatter(X[y==1,0],X[y==1,1],color='blue',marker='o',alpha=0.5)\n",
    "plt.tight_layout()\n",
    "plt.show()"
   ]
  },
  {
   "cell_type": "code",
   "execution_count": 105,
   "id": "21703c07",
   "metadata": {},
   "outputs": [],
   "source": [
    "#기본 PCA의 경우\n",
    "scikit_pca = PCA(n_components=2)\n",
    "X_spca = scikit_pca.fit_transform(X)"
   ]
  },
  {
   "cell_type": "code",
   "execution_count": 107,
   "id": "e46bf9ac",
   "metadata": {},
   "outputs": [
    {
     "data": {
      "image/png": "[encoded data removed]",
      "text/plain": [
       "<Figure size 504x216 with 2 Axes>"
      ]
     },
     "metadata": {
      "needs_background": "light"
     },
     "output_type": "display_data"
    }
   ],
   "source": [
    "fig, ax = plt.subplots(nrows=1,ncols=2,figsize=(7,3))\n",
    "ax[0].scatter(X_spca[y==0,0],X_spca[y==0,1],color='red',marker='^',alpha=0.5)\n",
    "ax[0].scatter(X_spca[y==1,0],X_spca[y==1,1],color='blue',marker='o',alpha=0.5)\n",
    "ax[1].scatter(X_spca[y==0,0],np.zeros((500,1))+0.02,color='red',marker='^',alpha=0.5)\n",
    "ax[1].scatter(X_spca[y==1,0],np.zeros((500,1))+0.02,color='blue',marker='o',alpha=0.5)\n",
    "ax[0].set_xlabel('PC1')\n",
    "ax[0].set_ylabel('PC2')\n",
    "ax[1].set_ylim([-1,1])\n",
    "ax[1].set_yticks([])\n",
    "ax[1].set_xlabel('PC1')\n",
    "plt.show()#선형 분류기에 부적합한 결과"
   ]
  },
  {
   "cell_type": "code",
   "execution_count": 109,
   "id": "3d82c510",
   "metadata": {},
   "outputs": [
    {
     "data": {
      "image/png": "[encoded data removed]",
      "text/plain": [
       "<Figure size 504x216 with 2 Axes>"
      ]
     },
     "metadata": {
      "needs_background": "light"
     },
     "output_type": "display_data"
    }
   ],
   "source": [
    "#RBF 커널 PCA의 경우\n",
    "X_kpca = rbf_kernel_pca(X,gamma=15,n_components=2)\n",
    "fig,ax = plt.subplots(nrows=1,ncols=2,figsize=(7,3))\n",
    "ax[0].scatter(X_kpca[y==0,0],X_kpca[y==0,1],color='red',marker='^',alpha=0.5)\n",
    "ax[0].scatter(X_kpca[y==1,0],X_kpca[y==1,1],color='blue',marker='o',alpha=0.5)\n",
    "ax[1].scatter(X_kpca[y==0,0],np.zeros((500,1))+0.02,color='red',marker='^',alpha=0.5)\n",
    "ax[1].scatter(X_kpca[y==1,0],np.zeros((500,1))+0.02,color='blue',marker='o',alpha=0.5)\n",
    "ax[0].set_xlabel('PC1')\n",
    "ax[0].set_ylabel('PC2')\n",
    "ax[1].set_ylim([-1,1])\n",
    "ax[1].set_yticks([])\n",
    "ax[1].set_xlabel('PC1')\n",
    "plt.show()#적합(선형적으로 구분 가능)"
   ]
  },
  {
   "cell_type": "markdown",
   "id": "1f597f4c",
   "metadata": {},
   "source": [
    "### 새로운 데이터 포인트 투영"
   ]
  },
  {
   "cell_type": "code",
   "execution_count": 110,
   "id": "c5ed2ff8",
   "metadata": {},
   "outputs": [],
   "source": [
    "from scipy.spatial.distance import pdist, squareform\n",
    "from numpy import exp\n",
    "from scipy.linalg import eigh\n",
    "import numpy as np"
   ]
  },
  {
   "cell_type": "code",
   "execution_count": 111,
   "id": "6fa79440",
   "metadata": {},
   "outputs": [],
   "source": [
    "def rbf_kernel_pca(X,gamma,n_components):\n",
    "    #MxN 차원의 데이터셋에서 샘플 간의 유클리디안 거리의 제곱을 계산\n",
    "    sq_dists = pdist(X,'sqeuclidean')\n",
    "    \n",
    "    #샘플 간의 거리를 정방 대칭 행렬로 변환\n",
    "    mat_sq_dists = squareform(sq_dists)\n",
    "    \n",
    "    #커널 행렬을 계산\n",
    "    K = exp(-gamma*mat_sq_dists)\n",
    "    \n",
    "    #커널 행렬을 증앙에 맞춤\n",
    "    N = K.shape[0]\n",
    "    one_n = np.ones((N,N))/N\n",
    "    K = K-one_n.dot(K)-K.dot(one_n)+one_n.dot(K).dot(one_n)\n",
    "    \n",
    "    #중앙에 맞춰진 커널 행렬의 고유값과 고유벡터를 구함\n",
    "    #scipy.linalg.eigh 함수는 오름차순으로 반환\n",
    "    eigvals,eigvecs = eigh(K)\n",
    "    eigvals,eigvecs = eigvals[::-1],eigvecs[:,::-1]\n",
    "    \n",
    "    #최상위 k개의 고유 벡터를 선택(투영 결과)\n",
    "    alphas = np.column_stack([eigvecs[:,i] for i in range(n_components)])\n",
    "    \n",
    "    #고유 벡터에 상응하는 고윳값을 선택한다\n",
    "    lambdas = [eigvals[i] for i in range(n_components)]#고윳값\n",
    "    \n",
    "    return alphas, lambdas#고유벡터, 고윳값"
   ]
  },
  {
   "cell_type": "code",
   "execution_count": 113,
   "id": "b8bb36c1",
   "metadata": {},
   "outputs": [
    {
     "data": {
      "text/plain": [
       "array([1.8713, 0.0093])"
      ]
     },
     "execution_count": 113,
     "metadata": {},
     "output_type": "execute_result"
    }
   ],
   "source": [
    "X,y = make_moons(n_samples=100, random_state=123)\n",
    "alphas, lambdas = rbf_kernel_pca(X,gamma=15,n_components=1)\n",
    "x_new = X[25]#새로운 데이터포인트\n",
    "x_new"
   ]
  },
  {
   "cell_type": "code",
   "execution_count": 114,
   "id": "64961c69",
   "metadata": {},
   "outputs": [
    {
     "data": {
      "text/plain": [
       "array([0.0788])"
      ]
     },
     "execution_count": 114,
     "metadata": {},
     "output_type": "execute_result"
    }
   ],
   "source": [
    "x_proj = alphas[25]#원본 투영\n",
    "x_proj"
   ]
  },
  {
   "cell_type": "code",
   "execution_count": 122,
   "id": "72f355ed",
   "metadata": {},
   "outputs": [],
   "source": [
    "def project_x(x_new, X, gamma, alphas, lambdas):#새로운 부분 공간으로 투영\n",
    "    pair_dist = np.array([np.sum((x_new-row)**2)for row in X])\n",
    "    k = np.exp(-gamma*pair_dist)\n",
    "    return k.dot(alphas/lambdas)"
   ]
  },
  {
   "cell_type": "code",
   "execution_count": 123,
   "id": "6a7b4e3d",
   "metadata": {},
   "outputs": [
    {
     "data": {
      "text/plain": [
       "array([0.0788])"
      ]
     },
     "execution_count": 123,
     "metadata": {},
     "output_type": "execute_result"
    }
   ],
   "source": [
    "#새로운 데이터 샘플 투영\n",
    "x_reproj = project_x(x_new,X,gamma=15, alphas=alphas,lambdas = lambdas)\n",
    "x_reproj"
   ]
  },
  {
   "cell_type": "code",
   "execution_count": 125,
   "id": "7812be72",
   "metadata": {},
   "outputs": [
    {
     "data": {
      "image/png": "[encoded data removed]",
      "text/plain": [
       "<Figure size 432x288 with 1 Axes>"
      ]
     },
     "metadata": {
      "needs_background": "light"
     },
     "output_type": "display_data"
    }
   ],
   "source": [
    "plt.scatter(alphas[y==0,0],np.zeros((50)),color='red',marker='^',alpha=0.5)\n",
    "plt.scatter(alphas[y==1,0],np.zeros((50)),color='blue',marker='o',alpha=0.5)\n",
    "plt.scatter(x_proj,0,color='black',label='original projection of point X[25]',marker='x',s=500)#x'\n",
    "plt.legend(scatterpoints = 1)\n",
    "plt.tight_layout()\n",
    "plt.show()#주성분에 투영된 새로운 포인트"
   ]
  },
  {
   "cell_type": "markdown",
   "id": "80a0c278",
   "metadata": {},
   "source": [
    "### 사이킷런의 커널 PCA"
   ]
  },
  {
   "cell_type": "code",
   "execution_count": 126,
   "id": "0a2398c1",
   "metadata": {},
   "outputs": [],
   "source": [
    "from sklearn.decomposition import KernelPCA\n",
    "X,y = make_moons(n_samples=100, random_state=123)"
   ]
  },
  {
   "cell_type": "code",
   "execution_count": 127,
   "id": "56398347",
   "metadata": {},
   "outputs": [],
   "source": [
    "scikit_kpca = KernelPCA(n_components=2, kernel='rbf',gamma=15)\n",
    "X_skernpca = scikit_kpca.fit_transform(X)"
   ]
  },
  {
   "cell_type": "code",
   "execution_count": 128,
   "id": "dbe83095",
   "metadata": {},
   "outputs": [
    {
     "data": {
      "image/png": "[encoded data removed]",
      "text/plain": [
       "<Figure size 432x288 with 1 Axes>"
      ]
     },
     "metadata": {
      "needs_background": "light"
     },
     "output_type": "display_data"
    }
   ],
   "source": [
    "plt.scatter(X_skernpca[y==0,0],X_skernpca[y==0,1],color='red',marker='^',alpha=0.5)\n",
    "plt.scatter(X_skernpca[y==1,0],X_skernpca[y==1,1],color='blue',marker='o',alpha=0.5)\n",
    "plt.xlabel('PC1')\n",
    "plt.ylabel('PC2')\n",
    "plt.tight_layout()\n",
    "plt.show()#사이킷런의 커널 PCA"
   ]
  },
  {
   "cell_type": "markdown",
   "id": "fa191206",
   "metadata": {},
   "source": [
    "#### 다른 커널들 시도"
   ]
  },
  {
   "cell_type": "markdown",
   "id": "75c23aa8",
   "metadata": {},
   "source": [
    "원본: 반달모양 데이터"
   ]
  },
  {
   "cell_type": "code",
   "execution_count": 131,
   "id": "6c4087fb",
   "metadata": {},
   "outputs": [],
   "source": [
    "scikit_kpca = KernelPCA(n_components=2, kernel='linear',gamma=15)#linear\n",
    "X_skernpca = scikit_kpca.fit_transform(X)"
   ]
  },
  {
   "cell_type": "code",
   "execution_count": 132,
   "id": "22aafdb3",
   "metadata": {},
   "outputs": [
    {
     "data": {
      "image/png": "[encoded data removed]",
      "text/plain": [
       "<Figure size 432x288 with 1 Axes>"
      ]
     },
     "metadata": {
      "needs_background": "light"
     },
     "output_type": "display_data"
    }
   ],
   "source": [
    "plt.scatter(X_skernpca[y==0,0],X_skernpca[y==0,1],color='red',marker='^',alpha=0.5)\n",
    "plt.scatter(X_skernpca[y==1,0],X_skernpca[y==1,1],color='blue',marker='o',alpha=0.5)\n",
    "plt.xlabel('PC1')\n",
    "plt.ylabel('PC2')\n",
    "plt.tight_layout()\n",
    "plt.show()#사이킷런의 커널 PCA(원본 출력됨)"
   ]
  },
  {
   "cell_type": "code",
   "execution_count": 133,
   "id": "d704c6bf",
   "metadata": {},
   "outputs": [],
   "source": [
    "scikit_kpca = KernelPCA(n_components=2, kernel='poly',gamma=15)#poly\n",
    "X_skernpca = scikit_kpca.fit_transform(X)"
   ]
  },
  {
   "cell_type": "code",
   "execution_count": 134,
   "id": "0c5ee7e7",
   "metadata": {},
   "outputs": [
    {
     "data": {
      "image/png": "[encoded data removed]",
      "text/plain": [
       "<Figure size 432x288 with 1 Axes>"
      ]
     },
     "metadata": {
      "needs_background": "light"
     },
     "output_type": "display_data"
    }
   ],
   "source": [
    "plt.scatter(X_skernpca[y==0,0],X_skernpca[y==0,1],color='red',marker='^',alpha=0.5)\n",
    "plt.scatter(X_skernpca[y==1,0],X_skernpca[y==1,1],color='blue',marker='o',alpha=0.5)\n",
    "plt.xlabel('PC1')\n",
    "plt.ylabel('PC2')\n",
    "plt.tight_layout()\n",
    "plt.show()#사이킷런의 커널 PCA"
   ]
  },
  {
   "cell_type": "code",
   "execution_count": 137,
   "id": "6845ef2e",
   "metadata": {},
   "outputs": [],
   "source": [
    "scikit_kpca = KernelPCA(n_components=2, kernel='sigmoid',gamma=15)#sigmoid\n",
    "X_skernpca = scikit_kpca.fit_transform(X)"
   ]
  },
  {
   "cell_type": "code",
   "execution_count": 138,
   "id": "857a8503",
   "metadata": {},
   "outputs": [
    {
     "data": {
      "image/png": "[encoded data removed]",
      "text/plain": [
       "<Figure size 432x288 with 1 Axes>"
      ]
     },
     "metadata": {
      "needs_background": "light"
     },
     "output_type": "display_data"
    }
   ],
   "source": [
    "plt.scatter(X_skernpca[y==0,0],X_skernpca[y==0,1],color='red',marker='^',alpha=0.5)\n",
    "plt.scatter(X_skernpca[y==1,0],X_skernpca[y==1,1],color='blue',marker='o',alpha=0.5)\n",
    "plt.xlabel('PC1')\n",
    "plt.ylabel('PC2')\n",
    "plt.tight_layout()\n",
    "plt.show()#사이킷런의 커널 PCA"
   ]
  },
  {
   "cell_type": "code",
   "execution_count": 140,
   "id": "c95db063",
   "metadata": {},
   "outputs": [],
   "source": [
    "scikit_kpca = KernelPCA(n_components=2, kernel='cosine',gamma=15)#cosine\n",
    "X_skernpca = scikit_kpca.fit_transform(X)"
   ]
  },
  {
   "cell_type": "code",
   "execution_count": 141,
   "id": "e830fa74",
   "metadata": {},
   "outputs": [
    {
     "data": {
      "image/png": "[encoded data removed]",
      "text/plain": [
       "<Figure size 432x288 with 1 Axes>"
      ]
     },
     "metadata": {
      "needs_background": "light"
     },
     "output_type": "display_data"
    }
   ],
   "source": [
    "plt.scatter(X_skernpca[y==0,0],X_skernpca[y==0,1],color='red',marker='^',alpha=0.5)\n",
    "plt.scatter(X_skernpca[y==1,0],X_skernpca[y==1,1],color='blue',marker='o',alpha=0.5)\n",
    "plt.xlabel('PC1')\n",
    "plt.ylabel('PC2')\n",
    "plt.tight_layout()\n",
    "plt.show()#사이킷런의 커널 PCA"
   ]
  }
 ],
 "metadata": {
  "kernelspec": {
   "display_name": "Python 3",
   "language": "python",
   "name": "python3"
  },
  "language_info": {
   "codemirror_mode": {
    "name": "ipython",
    "version": 3
   },
   "file_extension": ".py",
   "mimetype": "text/x-python",
   "name": "python",
   "nbconvert_exporter": "python",
   "pygments_lexer": "ipython3",
   "version": "3.9.5"
  }
 },
 "nbformat": 4,
 "nbformat_minor": 5
}
