{
 "cells": [
  {
   "cell_type": "markdown",
   "id": "4d442771",
   "metadata": {},
   "source": [
    "### 오차 확률: 앙상블의 예측이 틀릴 확률"
   ]
  },
  {
   "cell_type": "markdown",
   "id": "b7218edb",
   "metadata": {},
   "source": [
    "이항 분포(binomial distribution)의 확률 질량 함수(probability mass function)으로 오차확률 표현 가능\n",
    "\n",
    "$$ P(y \\geq k) = \\sum_{k}^{n} \\varepsilon^{k}\\begin{pmatrix}\n",
    "n\\\\\n",
    "k\n",
    "\\end{pmatrix}(1-\\varepsilon)^{n-k} = \\varepsilon_{ensemble}$$\n",
    "\n",
    "$\\varepsilon$: 에러율(error rate)"
   ]
  },
  {
   "cell_type": "markdown",
   "id": "48ae1d41",
   "metadata": {},
   "source": [
    "<b>확률 질량 함수</b>"
   ]
  },
  {
   "cell_type": "code",
   "execution_count": 12,
   "id": "1f4bb025",
   "metadata": {},
   "outputs": [],
   "source": [
    "from scipy.special import comb#이항계수(조합)\n",
    "import math\n",
    "def ensemble_error(n_classifier, error):#앙상블 오차 확률\n",
    "    k_start = int(math.ceil(n_classifier/2.))#k\n",
    "    probs = [comb(n_classifier, k)*#nCk\n",
    "            error**k *#e^k\n",
    "            (1-error)**(n_classifier-k) for k in range(k_start,n_classifier+1)]\n",
    "    return sum(probs)"
   ]
  },
  {
   "cell_type": "code",
   "execution_count": 13,
   "id": "e8ae1aa5",
   "metadata": {},
   "outputs": [
    {
     "data": {
      "text/plain": [
       "0.03432750701904297"
      ]
     },
     "execution_count": 13,
     "metadata": {},
     "output_type": "execute_result"
    }
   ],
   "source": [
    "ensemble_error(n_classifier=11, error=0.25)"
   ]
  },
  {
   "cell_type": "markdown",
   "id": "87636deb",
   "metadata": {},
   "source": [
    "<b>앙상블과 개별 분류기 에러 사이의 관계</b>"
   ]
  },
  {
   "cell_type": "code",
   "execution_count": 14,
   "id": "927f7c8e",
   "metadata": {},
   "outputs": [],
   "source": [
    "import numpy as np\n",
    "import matplotlib.pyplot as plt\n",
    "error_range = np.arange(0.0,1.01,0.01)\n",
    "ens_errors = [ensemble_error(n_classifier=11,error = error) for error in error_range]"
   ]
  },
  {
   "cell_type": "code",
   "execution_count": 15,
   "id": "99ef68c5",
   "metadata": {},
   "outputs": [
    {
     "data": {
      "image/png": "[encoded data removed]",
      "text/plain": [
       "<Figure size 432x288 with 1 Axes>"
      ]
     },
     "metadata": {
      "needs_background": "light"
     },
     "output_type": "display_data"
    }
   ],
   "source": [
    "plt.plot(error_range, ens_errors, label = 'Ensemble error', linewidth = 2)#앙상블 에러\n",
    "plt.plot(error_range, error_range, linestyle = '--', label = 'Base error', linewidth=2)#개별 분류기 에러\n",
    "plt.xlabel('Base error')\n",
    "plt.ylabel('Base/Ensemble error')\n",
    "plt.legend(loc='upper left')\n",
    "plt.grid(alpha = 0.5)\n",
    "plt.show()"
   ]
  },
  {
   "cell_type": "markdown",
   "id": "1d86c509",
   "metadata": {},
   "source": [
    "#### 앙상블의 작동 방식"
   ]
  },
  {
   "cell_type": "code",
   "execution_count": 16,
   "id": "aebaa772",
   "metadata": {},
   "outputs": [],
   "source": [
    "#클래스 소속 확률\n",
    "ex =  np.array([[0.9,0.1],\n",
    "                [0.8,0.2],\n",
    "               [0.4,0.6]])"
   ]
  },
  {
   "cell_type": "code",
   "execution_count": 17,
   "id": "e7d62021",
   "metadata": {},
   "outputs": [],
   "source": [
    "p = np.average(ex, axis=0, weights = [0.2,0.2,0.6])#가중치(weights)"
   ]
  },
  {
   "cell_type": "code",
   "execution_count": 18,
   "id": "9d2f695c",
   "metadata": {},
   "outputs": [
    {
     "data": {
      "text/plain": [
       "array([0.58, 0.42])"
      ]
     },
     "execution_count": 18,
     "metadata": {},
     "output_type": "execute_result"
    }
   ],
   "source": [
    "p"
   ]
  },
  {
   "cell_type": "code",
   "execution_count": 19,
   "id": "0e3e812d",
   "metadata": {},
   "outputs": [
    {
     "data": {
      "text/plain": [
       "0"
      ]
     },
     "execution_count": 19,
     "metadata": {},
     "output_type": "execute_result"
    }
   ],
   "source": [
    "np.argmax(p)"
   ]
  },
  {
   "cell_type": "code",
   "execution_count": 20,
   "id": "b877e7c7",
   "metadata": {},
   "outputs": [],
   "source": [
    "from sklearn.base import BaseEstimator\n",
    "from sklearn.base import ClassifierMixin\n",
    "from sklearn.preprocessing import LabelEncoder\n",
    "import six\n",
    "from sklearn.base import clone\n",
    "from sklearn.pipeline import _name_estimators\n",
    "import numpy as np\n",
    "import operator"
   ]
  },
  {
   "cell_type": "code",
   "execution_count": 53,
   "id": "71d2e62f",
   "metadata": {},
   "outputs": [],
   "source": [
    "class MajorityVoteClassfier(BaseEstimator, ClassifierMixin):#다수결 투표 앙상블 분류기\n",
    "    def __init__(self, classifiers, vote = 'classlabel',weights = None):\n",
    "        self.classifiers = classifiers\n",
    "        self.named_classifiers = {key: value for\n",
    "                                 key, value in\n",
    "                                 _name_estimators(classifiers)}\n",
    "        self.vote = vote\n",
    "        self.weights = weights#가중치\n",
    "    \n",
    "    #self.predict 매서드에서 np.argmax를 호출할 때\n",
    "    #클래스 레이블이 0부터 시작되어야 함\n",
    "    def fit(self,X,y):#분류기를 학습\n",
    "        self.lablenc_ = LabelEncoder()#클래스 레이블 0부터 시작\n",
    "        self.lablenc_.fit(y)\n",
    "        self.classes_ = self.lablenc_.classes_\n",
    "        self.classifers_ = []\n",
    "        for clf in self.classifiers:\n",
    "            fitted_clf = clone(clf).fit(X, self.lablenc_.transform(y))\n",
    "            self.classifers_.append(fitted_clf)\n",
    "        \n",
    "        return self\n",
    "    \n",
    "    \n",
    "    \n",
    "    def predict(self,X):#예측\n",
    "        if self.vote == 'probability':#클래스 소속 확률을 기반으로 클래스 레이블 예측\n",
    "            maj_vote = np.argmax(self.predict_proba(X),axis = 1)#예측된 클래스 레이블\n",
    "        else:#classlabel투표\n",
    "            #clf.predict 매서드를 사용하여 결과를 모음\n",
    "            predictions = np.asarray([clf.predict(X) for clf in self.classifers_]).T#결과를 모음\n",
    "            \n",
    "            maj_vote = np.apply_along_axis(\n",
    "                lambda x : \n",
    "                np.argmax(np.bincount(x,\n",
    "                                      weights = self.weights)), \n",
    "                axis = 1, \n",
    "                arr = predictions)#확룰 힙이 가장 큰 인덱스\n",
    "        maj_vote = self.lablenc_.inverse_transform(maj_vote)\n",
    "        return maj_vote\n",
    "    \n",
    "    \n",
    "    \n",
    "    def predict_proba(self, X):#클래스 확률 예측\n",
    "        probas = np.asarray([clf.predict_proba(X) for clf in self.classifers_])\n",
    "        avg_proba = np.average(probas,\n",
    "                               axis = 0, weights = self.weights)\n",
    "        return avg_proba\n",
    "    \n",
    "    def get_params(self, deep = True):#분류기의 매개변수 이름 반환\n",
    "        \"\"\"GridSEarch를 위해 분류기의 매개변수 이름을 반환\"\"\"\n",
    "        if not deep:\n",
    "            return super(MajorityVoteClassfier, \n",
    "                         self).get_params(deep =False)\n",
    "        else:\n",
    "            out = self.named_classifiers.copy()\n",
    "            for name, step in six.iteritems(self.named_classifiers):\n",
    "                for key, value in six.iteritems(\n",
    "                    step.get_params(deep=True)):\n",
    "                    out['%s__%s'%(name, key)] = value\n",
    "            return out"
   ]
  },
  {
   "cell_type": "markdown",
   "id": "4b734be7",
   "metadata": {},
   "source": [
    "### 다수결 투표 방식을 사용하여 예측 만들기"
   ]
  },
  {
   "cell_type": "code",
   "execution_count": 24,
   "id": "acc7b094",
   "metadata": {},
   "outputs": [],
   "source": [
    "from sklearn import datasets"
   ]
  },
  {
   "cell_type": "code",
   "execution_count": 25,
   "id": "4b3a46d0",
   "metadata": {},
   "outputs": [],
   "source": [
    "from sklearn.model_selection import train_test_split\n",
    "from sklearn.preprocessing import StandardScaler\n",
    "from sklearn.preprocessing import LabelEncoder"
   ]
  },
  {
   "cell_type": "code",
   "execution_count": 27,
   "id": "e67811ff",
   "metadata": {},
   "outputs": [],
   "source": [
    "iris = datasets.load_iris()#붓꽃 데이터셋"
   ]
  },
  {
   "cell_type": "code",
   "execution_count": 28,
   "id": "5c8a45db",
   "metadata": {},
   "outputs": [],
   "source": [
    "X,y = iris.data[50:,[1,2]],iris.target[50:]#꽃받침 너비와 꽃잎 길이 두 개 특성"
   ]
  },
  {
   "cell_type": "code",
   "execution_count": 29,
   "id": "15d0b835",
   "metadata": {},
   "outputs": [],
   "source": [
    "le = LabelEncoder()\n",
    "y = le.fit_transform(y)\n",
    "X_train,X_test,y_train,y_test = train_test_split(X,y,test_size = 0.5, random_state=1, stratify=y)"
   ]
  },
  {
   "cell_type": "markdown",
   "id": "d4bb73b0",
   "metadata": {},
   "source": [
    "세 분류기: <br>\n",
    "- 로지스틱 회귀 분류기<br>\n",
    "- 결정 트리 분류기<br>\n",
    "- k-최근접 이웃 분류기"
   ]
  },
  {
   "cell_type": "code",
   "execution_count": 54,
   "id": "604f992a",
   "metadata": {},
   "outputs": [
    {
     "name": "stdout",
     "output_type": "stream",
     "text": [
      "10-겹 교차 검증 :\n",
      "\n",
      "ROC AUC: 0.92 (+/- 0.15) [Logistic regression]\n",
      "ROC AUC: 0.87 (+/- 0.18) [Decision Tree]\n",
      "ROC AUC: 0.85 (+/- 0.13) [KNN]\n"
     ]
    }
   ],
   "source": [
    "#각자 예측했을 때\n",
    "from sklearn.model_selection import cross_val_score\n",
    "from sklearn.linear_model import LogisticRegression\n",
    "from sklearn.tree import DecisionTreeClassifier\n",
    "from sklearn.neighbors import KNeighborsClassifier\n",
    "from sklearn.pipeline import Pipeline\n",
    "import numpy as np\n",
    "\n",
    "#분류기 1\n",
    "clf1 = LogisticRegression(solver='liblinear',#로지스틱 회귀 분류기\n",
    "                         penalty='l2',#L2규제\n",
    "                         C=0.001,\n",
    "                         random_state=1)\n",
    "#분류기 2\n",
    "clf2 = DecisionTreeClassifier(max_depth=1,#결정 트리 분류기\n",
    "                             criterion = 'entropy',#불순도 지표: 엔트로피,\n",
    "                             random_state=0)\n",
    "\n",
    "#분류기 3\n",
    "clf3 = KNeighborsClassifier(n_neighbors=1,#K-최근접 이웃 분류기\n",
    "                           p = 2,#유클리디안 거리\n",
    "                           metric = 'minkowski')\n",
    "pipe1 = Pipeline([['sc',StandardScaler()],#표준화 전처리\n",
    "                 ['clf',clf1]])#로지스틱 회귀\n",
    "pipe3 = Pipeline([['sc', StandardScaler()],#표준화 전처리\n",
    "                 ['clf',clf3]])#K-최근접 이웃\n",
    "\n",
    "clf_labels= ['Logistic regression','Decision Tree', 'KNN']#분류기 이름 저장\n",
    "print(\"10-겹 교차 검증 :\\n\")\n",
    "for clf, label in zip([pipe1, clf2, pipe3], clf_labels):\n",
    "    scores = cross_val_score(estimator =clf,\n",
    "                            X= X_train,\n",
    "                            y = y_train,\n",
    "                            cv = 10,#10겹 교차검증\n",
    "                            scoring='roc_auc')#ROC AUC(분류모델 성능 조사)\n",
    "    print(\"ROC AUC: %0.2f (+/- %0.2f) [%s]\"%(scores.mean(), scores.std(),label))"
   ]
  },
  {
   "cell_type": "code",
   "execution_count": 55,
   "id": "5a108ece",
   "metadata": {},
   "outputs": [
    {
     "name": "stdout",
     "output_type": "stream",
     "text": [
      "ROC AUC: 0.92 (+/- 0.15) [Logistic regression]\n",
      "ROC AUC: 0.87 (+/- 0.18) [Decision Tree]\n",
      "ROC AUC: 0.85 (+/- 0.13) [KNN]\n",
      "ROC AUC: 0.98 (+/- 0.05) [Majority Voting]\n"
     ]
    }
   ],
   "source": [
    "#앙상블로 예측했을 때\n",
    "mv_clf = MajorityVoteClassfier(\n",
    "    classifiers=[pipe1, clf2, pipe3])\n",
    "clf_labels += ['Majority Voting']\n",
    "all_clf = [pipe1, clf2, pipe3, mv_clf]\n",
    "for clf, label in zip(all_clf,clf_labels):\n",
    "    scores = cross_val_score(estimator=clf,\n",
    "                            X= X_train,\n",
    "                            y = y_train,\n",
    "                            cv = 10,#10겹 교차 검증\n",
    "                            scoring='roc_auc')\n",
    "    print(\"ROC AUC: %0.2f (+/- %0.2f) [%s]\"%(scores.mean(),scores.std(),label))"
   ]
  },
  {
   "cell_type": "markdown",
   "id": "b410a680",
   "metadata": {},
   "source": [
    "### 앙상블 분류기의 평가와 튜닝"
   ]
  },
  {
   "cell_type": "code",
   "execution_count": 56,
   "id": "104444d2",
   "metadata": {},
   "outputs": [
    {
     "data": {
      "image/png": "[encoded data removed]",
      "text/plain": [
       "<Figure size 432x288 with 1 Axes>"
      ]
     },
     "metadata": {
      "needs_background": "light"
     },
     "output_type": "display_data"
    }
   ],
   "source": [
    "#앙상블 분류기의 일반화 성능 확인 위한 ROC 곡선 그리기\n",
    "from sklearn.metrics import roc_curve\n",
    "from sklearn.metrics import auc\n",
    "colors = ['black','orange','blue','green']\n",
    "linestyles = [':','--','-.','-']\n",
    "for clf, label, clr, ls in zip(all_clf, clf_labels, colors, linestyles):\n",
    "    #양성 클래스의 레이블이 1이라고 가정\n",
    "    y_pred = clf.fit(X_train,y_train).predict_proba(X_test)[:,-1]#테스트세트\n",
    "    fpr, tpr, thresholds = roc_curve(y_true = y_test, y_score = y_pred)#일반화 성능 확인\n",
    "    roc_auc = auc(x=fpr,y=tpr)#roc auc계산\n",
    "    plt.plot(fpr,tpr,color=clr,linestyle=ls,label='%s (auc = %0.2f)'%(label,roc_auc))#roc auc 표기\n",
    "plt.legend(loc='lower right')\n",
    "plt.plot([0,1],[0,1], linestyle='--', color='gray', linewidth =2)\n",
    "plt.xlim([-0.1,1.1])\n",
    "plt.ylim([-0.1,1.1])\n",
    "plt.grid(alpha=0.5)\n",
    "plt.xlabel('False positive rate(FPR)')\n",
    "plt.ylabel('True positive rate(TPR)')\n",
    "plt.show()"
   ]
  },
  {
   "cell_type": "code",
   "execution_count": 57,
   "id": "f78470a2",
   "metadata": {},
   "outputs": [
    {
     "data": {
      "image/png": "[encoded data removed]",
      "text/plain": [
       "<Figure size 504x360 with 4 Axes>"
      ]
     },
     "metadata": {
      "needs_background": "light"
     },
     "output_type": "display_data"
    }
   ],
   "source": [
    "#앙상블의 결정 경계 그리기\n",
    "sc = StandardScaler()\n",
    "X_train_std = sc.fit_transform(X_train)#결정 트리 스케일 맞추기 위한 표준화 전처리\n",
    "from itertools import product\n",
    "x_min = X_train_std[:,0].min()-1\n",
    "x_max = X_train_std[:,0].max()+1\n",
    "y_min = X_train_std[:,1].min()-1\n",
    "y_max = X_train_std[:,1].max()+1\n",
    "xx,yy = np.meshgrid(np.arange(x_min,x_max,0.1),np.arange(y_min,y_max,0.1))\n",
    "f, axarr = plt.subplots(nrows= 2, ncols=2,\n",
    "                       sharex = 'col',\n",
    "                       sharey = 'row',\n",
    "                       figsize = (7,5))\n",
    "for idx,clf,tt in zip(product([0,1],[0,1]),\n",
    "                     all_clf, clf_labels):#분류기마다 결정 경계 그리기\n",
    "    clf.fit(X_train_std,y_train)\n",
    "    Z = clf.predict(np.c_[xx.ravel(),yy.ravel()])\n",
    "    Z = Z.reshape(xx.shape)\n",
    "    axarr[idx[0],idx[1]].contourf(xx,yy,Z,alpha = 0.3)\n",
    "    axarr[idx[0],idx[1]].scatter(X_train_std[y_train == 0,0],#클래스 0\n",
    "                                X_train_std[y_train == 0,1],\n",
    "                                c='blue',\n",
    "                                marker='^',\n",
    "                                s=50)\n",
    "    axarr[idx[0],idx[1]].scatter(X_train_std[y_train == 1,0],#클래스 0\n",
    "                                X_train_std[y_train == 1,1],\n",
    "                                c='blue',\n",
    "                                marker='^',\n",
    "                                s=50)\n",
    "    axarr[idx[0],idx[1]].set_title(tt)\n",
    "plt.text(-3.5,-4.5,s=\"Sepal width [standardized]\",ha='center',va='center',fontsize=12)\n",
    "\n",
    "plt.text(-10.5,4.5,s=\"Sepal length [standardized]\",ha='center',va='center',fontsize=12, rotation =90)\n",
    "plt.show()"
   ]
  },
  {
   "cell_type": "code",
   "execution_count": 58,
   "id": "3973f1c0",
   "metadata": {},
   "outputs": [
    {
     "data": {
      "text/plain": [
       "{'pipeline-1': Pipeline(steps=[('sc', StandardScaler()),\n",
       "                 ['clf',\n",
       "                  LogisticRegression(C=0.001, random_state=1,\n",
       "                                     solver='liblinear')]]),\n",
       " 'decisiontreeclassifier': DecisionTreeClassifier(criterion='entropy', max_depth=1, random_state=0),\n",
       " 'pipeline-2': Pipeline(steps=[('sc', StandardScaler()),\n",
       "                 ['clf', KNeighborsClassifier(n_neighbors=1)]]),\n",
       " 'pipeline-1__memory': None,\n",
       " 'pipeline-1__steps': [('sc', StandardScaler()),\n",
       "  ['clf', LogisticRegression(C=0.001, random_state=1, solver='liblinear')]],\n",
       " 'pipeline-1__verbose': False,\n",
       " 'pipeline-1__sc': StandardScaler(),\n",
       " 'pipeline-1__clf': LogisticRegression(C=0.001, random_state=1, solver='liblinear'),\n",
       " 'pipeline-1__sc__copy': True,\n",
       " 'pipeline-1__sc__with_mean': True,\n",
       " 'pipeline-1__sc__with_std': True,\n",
       " 'pipeline-1__clf__C': 0.001,\n",
       " 'pipeline-1__clf__class_weight': None,\n",
       " 'pipeline-1__clf__dual': False,\n",
       " 'pipeline-1__clf__fit_intercept': True,\n",
       " 'pipeline-1__clf__intercept_scaling': 1,\n",
       " 'pipeline-1__clf__l1_ratio': None,\n",
       " 'pipeline-1__clf__max_iter': 100,\n",
       " 'pipeline-1__clf__multi_class': 'auto',\n",
       " 'pipeline-1__clf__n_jobs': None,\n",
       " 'pipeline-1__clf__penalty': 'l2',\n",
       " 'pipeline-1__clf__random_state': 1,\n",
       " 'pipeline-1__clf__solver': 'liblinear',\n",
       " 'pipeline-1__clf__tol': 0.0001,\n",
       " 'pipeline-1__clf__verbose': 0,\n",
       " 'pipeline-1__clf__warm_start': False,\n",
       " 'decisiontreeclassifier__ccp_alpha': 0.0,\n",
       " 'decisiontreeclassifier__class_weight': None,\n",
       " 'decisiontreeclassifier__criterion': 'entropy',\n",
       " 'decisiontreeclassifier__max_depth': 1,\n",
       " 'decisiontreeclassifier__max_features': None,\n",
       " 'decisiontreeclassifier__max_leaf_nodes': None,\n",
       " 'decisiontreeclassifier__min_impurity_decrease': 0.0,\n",
       " 'decisiontreeclassifier__min_impurity_split': None,\n",
       " 'decisiontreeclassifier__min_samples_leaf': 1,\n",
       " 'decisiontreeclassifier__min_samples_split': 2,\n",
       " 'decisiontreeclassifier__min_weight_fraction_leaf': 0.0,\n",
       " 'decisiontreeclassifier__random_state': 0,\n",
       " 'decisiontreeclassifier__splitter': 'best',\n",
       " 'pipeline-2__memory': None,\n",
       " 'pipeline-2__steps': [('sc', StandardScaler()),\n",
       "  ['clf', KNeighborsClassifier(n_neighbors=1)]],\n",
       " 'pipeline-2__verbose': False,\n",
       " 'pipeline-2__sc': StandardScaler(),\n",
       " 'pipeline-2__clf': KNeighborsClassifier(n_neighbors=1),\n",
       " 'pipeline-2__sc__copy': True,\n",
       " 'pipeline-2__sc__with_mean': True,\n",
       " 'pipeline-2__sc__with_std': True,\n",
       " 'pipeline-2__clf__algorithm': 'auto',\n",
       " 'pipeline-2__clf__leaf_size': 30,\n",
       " 'pipeline-2__clf__metric': 'minkowski',\n",
       " 'pipeline-2__clf__metric_params': None,\n",
       " 'pipeline-2__clf__n_jobs': None,\n",
       " 'pipeline-2__clf__n_neighbors': 1,\n",
       " 'pipeline-2__clf__p': 2,\n",
       " 'pipeline-2__clf__weights': 'uniform'}"
      ]
     },
     "execution_count": 58,
     "metadata": {},
     "output_type": "execute_result"
    }
   ],
   "source": [
    "#매개변수\n",
    "mv_clf.get_params()"
   ]
  },
  {
   "cell_type": "markdown",
   "id": "4db38944",
   "metadata": {},
   "source": [
    "#### 그리드서치를 통한 하이퍼파라미터 튜닝"
   ]
  },
  {
   "cell_type": "markdown",
   "id": "8272b6c2",
   "metadata": {},
   "source": [
    "튜닝 대상:\n",
    "- 로지스틱 회귀 분류기의 규제 매개변수 C\n",
    "- 결정 트리의 깊이"
   ]
  },
  {
   "cell_type": "code",
   "execution_count": 61,
   "id": "2d181de7",
   "metadata": {},
   "outputs": [
    {
     "data": {
      "text/plain": [
       "dict_keys(['pipeline-1', 'decisiontreeclassifier', 'pipeline-2', 'pipeline-1__memory', 'pipeline-1__steps', 'pipeline-1__verbose', 'pipeline-1__sc', 'pipeline-1__clf', 'pipeline-1__sc__copy', 'pipeline-1__sc__with_mean', 'pipeline-1__sc__with_std', 'pipeline-1__clf__C', 'pipeline-1__clf__class_weight', 'pipeline-1__clf__dual', 'pipeline-1__clf__fit_intercept', 'pipeline-1__clf__intercept_scaling', 'pipeline-1__clf__l1_ratio', 'pipeline-1__clf__max_iter', 'pipeline-1__clf__multi_class', 'pipeline-1__clf__n_jobs', 'pipeline-1__clf__penalty', 'pipeline-1__clf__random_state', 'pipeline-1__clf__solver', 'pipeline-1__clf__tol', 'pipeline-1__clf__verbose', 'pipeline-1__clf__warm_start', 'decisiontreeclassifier__ccp_alpha', 'decisiontreeclassifier__class_weight', 'decisiontreeclassifier__criterion', 'decisiontreeclassifier__max_depth', 'decisiontreeclassifier__max_features', 'decisiontreeclassifier__max_leaf_nodes', 'decisiontreeclassifier__min_impurity_decrease', 'decisiontreeclassifier__min_impurity_split', 'decisiontreeclassifier__min_samples_leaf', 'decisiontreeclassifier__min_samples_split', 'decisiontreeclassifier__min_weight_fraction_leaf', 'decisiontreeclassifier__random_state', 'decisiontreeclassifier__splitter', 'pipeline-2__memory', 'pipeline-2__steps', 'pipeline-2__verbose', 'pipeline-2__sc', 'pipeline-2__clf', 'pipeline-2__sc__copy', 'pipeline-2__sc__with_mean', 'pipeline-2__sc__with_std', 'pipeline-2__clf__algorithm', 'pipeline-2__clf__leaf_size', 'pipeline-2__clf__metric', 'pipeline-2__clf__metric_params', 'pipeline-2__clf__n_jobs', 'pipeline-2__clf__n_neighbors', 'pipeline-2__clf__p', 'pipeline-2__clf__weights'])"
      ]
     },
     "execution_count": 61,
     "metadata": {},
     "output_type": "execute_result"
    }
   ],
   "source": [
    "mv_clf.get_params().keys()"
   ]
  },
  {
   "cell_type": "code",
   "execution_count": 63,
   "id": "18d5a99b",
   "metadata": {
    "scrolled": false
   },
   "outputs": [
    {
     "data": {
      "text/plain": [
       "GridSearchCV(cv=10,\n",
       "             estimator=MajorityVoteClassfier(classifiers=[Pipeline(steps=[('sc',\n",
       "                                                                           StandardScaler()),\n",
       "                                                                          ['clf',\n",
       "                                                                           LogisticRegression(C=0.001,\n",
       "                                                                                              random_state=1,\n",
       "                                                                                              solver='liblinear')]]),\n",
       "                                                          DecisionTreeClassifier(criterion='entropy',\n",
       "                                                                                 max_depth=1,\n",
       "                                                                                 random_state=0),\n",
       "                                                          Pipeline(steps=[('sc',\n",
       "                                                                           StandardScaler()),\n",
       "                                                                          ['clf',\n",
       "                                                                           KNeighborsClassifier(n_neighbors=1)]])]),\n",
       "             param_grid={'decisiontreeclassifier__max_depth': [1, 2],\n",
       "                         'pipeline-1__clf__C': [0.001, 0.1, 100.0]},\n",
       "             scoring='roc_auc')"
      ]
     },
     "execution_count": 63,
     "metadata": {},
     "output_type": "execute_result"
    }
   ],
   "source": [
    "from sklearn.model_selection import GridSearchCV#그리드서치\n",
    "params = {'decisiontreeclassifier__max_depth':[1,2],#결정 트리 깊이\n",
    "         'pipeline-1__clf__C':[0.001,0.1,100.0]}#로지스틱 회귀 분류기의 규제 매개변수 C\n",
    "grid = GridSearchCV(estimator=mv_clf,\n",
    "                   param_grid=params,\n",
    "                   cv=10,#10겹 교차 검증\n",
    "                   scoring = 'roc_auc'#ROC AUC 점수\n",
    "                   )\n",
    "\n",
    "grid.fit(X_train,y_train)"
   ]
  },
  {
   "cell_type": "markdown",
   "id": "38b8ccc2",
   "metadata": {},
   "source": [
    "각각의 하이퍼파라미터 조합과 10-겹 교차검증으로 계산한 평균 ROC AUC 점수"
   ]
  },
  {
   "cell_type": "code",
   "execution_count": 65,
   "id": "060f1d22",
   "metadata": {},
   "outputs": [
    {
     "ename": "ValueError",
     "evalue": "too many values to unpack (expected 3)",
     "output_type": "error",
     "traceback": [
      "\u001b[1;31m---------------------------------------------------------------------------\u001b[0m",
      "\u001b[1;31mValueError\u001b[0m                                Traceback (most recent call last)",
      "\u001b[1;32m<ipython-input-65-7ab9e6c58518>\u001b[0m in \u001b[0;36m<module>\u001b[1;34m\u001b[0m\n\u001b[1;32m----> 1\u001b[1;33m \u001b[1;32mfor\u001b[0m \u001b[0mparams\u001b[0m\u001b[1;33m,\u001b[0m \u001b[0mmean_score\u001b[0m\u001b[1;33m,\u001b[0m  \u001b[0mscores\u001b[0m \u001b[1;32min\u001b[0m \u001b[0mgrid\u001b[0m\u001b[1;33m.\u001b[0m\u001b[0mcv_results_\u001b[0m\u001b[1;33m:\u001b[0m\u001b[1;33m\u001b[0m\u001b[1;33m\u001b[0m\u001b[0m\n\u001b[0m\u001b[0;32m      2\u001b[0m     print(\"%0.3f +/-%0.2f %r\"\n\u001b[0;32m      3\u001b[0m          %(mean_score, scores.std()/2, params))\n",
      "\u001b[1;31mValueError\u001b[0m: too many values to unpack (expected 3)"
     ]
    }
   ],
   "source": [
    "for i in len(grid.cv_results_['mean_test_score']):\n",
    "    print(\"%0.3f +/-%0.2f %r\"\n",
    "         %(grid.cv_results_['mean_test_score'][i], scores.std()/2, grid.cv_results_['mean_test_score']))"
   ]
  },
  {
   "cell_type": "code",
   "execution_count": 73,
   "id": "4e261392",
   "metadata": {},
   "outputs": [
    {
     "name": "stdout",
     "output_type": "stream",
     "text": [
      "0.983 +/- 0.05 {'decisiontreeclassifier__max_depth': 1, 'pipeline-1__clf__C': 0.001}\n",
      "0.983 +/- 0.05 {'decisiontreeclassifier__max_depth': 1, 'pipeline-1__clf__C': 0.1}\n",
      "0.967 +/- 0.10 {'decisiontreeclassifier__max_depth': 1, 'pipeline-1__clf__C': 100.0}\n",
      "0.983 +/- 0.05 {'decisiontreeclassifier__max_depth': 2, 'pipeline-1__clf__C': 0.001}\n",
      "0.983 +/- 0.05 {'decisiontreeclassifier__max_depth': 2, 'pipeline-1__clf__C': 0.1}\n",
      "0.967 +/- 0.10 {'decisiontreeclassifier__max_depth': 2, 'pipeline-1__clf__C': 100.0}\n"
     ]
    }
   ],
   "source": [
    "for params, mean_score, scores in zip(grid.cv_results_['params'],grid.cv_results_['mean_test_score'],grid.cv_results_['std_test_score']):\n",
    "    print(\"%0.3f +/- %0.2f %r\"%(mean_score,scores,params))"
   ]
  },
  {
   "cell_type": "code",
   "execution_count": 76,
   "id": "1bd91740",
   "metadata": {},
   "outputs": [
    {
     "name": "stdout",
     "output_type": "stream",
     "text": [
      "최적의 매개변수: {'decisiontreeclassifier__max_depth': 1, 'pipeline-1__clf__C': 0.001}\n"
     ]
    }
   ],
   "source": [
    "print(\"최적의 매개변수: %s\"%grid.best_params_)"
   ]
  },
  {
   "cell_type": "code",
   "execution_count": 77,
   "id": "273c22ee",
   "metadata": {},
   "outputs": [
    {
     "name": "stdout",
     "output_type": "stream",
     "text": [
      "정확도: 0.98\n"
     ]
    }
   ],
   "source": [
    "print(\"정확도: %.2f\"%grid.best_score_)"
   ]
  },
  {
   "cell_type": "markdown",
   "id": "1aee8fa8",
   "metadata": {},
   "source": [
    "## 배깅: 부트스트랩 샘플링을 통한 분류 앙상블\n",
    "앙상블에 있는 개별 분류기를 동일한 훈련 세트로 학습하는 것이 아니라 원본 훈련 세트에서 <b>부트스트랩(bootstrap) 샘플(중복을 허용한 랜덤 샘플)</b>을 뽑아서 사용.\n",
    "<br>\n"
   ]
  },
  {
   "cell_type": "code",
   "execution_count": 123,
   "id": "a5c16279",
   "metadata": {},
   "outputs": [],
   "source": [
    "import pandas as pd\n",
    "df_wine = pd.read_csv('https://archive.ics.uci.edu/ml/''machine-learning-databases/wine/wine.data',header=None)"
   ]
  },
  {
   "cell_type": "code",
   "execution_count": 124,
   "id": "96fcfe95",
   "metadata": {},
   "outputs": [],
   "source": [
    "df_wine.columns = ['Class label','Alcohol','Malic acid','Ash','Alcalinity of ash','Magnesium','Total pheols','Flabanoids',\n",
    "                  'Nonflavanoid phenols','Proanthocyanins','Color intensity',\n",
    "                  'Hue','OD280/OD315 of diluted wines','Proline']"
   ]
  },
  {
   "cell_type": "code",
   "execution_count": 125,
   "id": "b4ade6c3",
   "metadata": {},
   "outputs": [
    {
     "data": {
      "text/html": [
       "<div>\n",
       "<style scoped>\n",
       "    .dataframe tbody tr th:only-of-type {\n",
       "        vertical-align: middle;\n",
       "    }\n",
       "\n",
       "    .dataframe tbody tr th {\n",
       "        vertical-align: top;\n",
       "    }\n",
       "\n",
       "    .dataframe thead th {\n",
       "        text-align: right;\n",
       "    }\n",
       "</style>\n",
       "<table border=\"1\" class=\"dataframe\">\n",
       "  <thead>\n",
       "    <tr style=\"text-align: right;\">\n",
       "      <th></th>\n",
       "      <th>Class label</th>\n",
       "      <th>Alcohol</th>\n",
       "      <th>Malic acid</th>\n",
       "      <th>Ash</th>\n",
       "      <th>Alcalinity of ash</th>\n",
       "      <th>Magnesium</th>\n",
       "      <th>Total pheols</th>\n",
       "      <th>Flabanoids</th>\n",
       "      <th>Nonflavanoid phenols</th>\n",
       "      <th>Proanthocyanins</th>\n",
       "      <th>Color intensity</th>\n",
       "      <th>Hue</th>\n",
       "      <th>OD280/OD315 of diluted wines</th>\n",
       "      <th>Proline</th>\n",
       "    </tr>\n",
       "  </thead>\n",
       "  <tbody>\n",
       "    <tr>\n",
       "      <th>0</th>\n",
       "      <td>1</td>\n",
       "      <td>14.23</td>\n",
       "      <td>1.71</td>\n",
       "      <td>2.43</td>\n",
       "      <td>15.6</td>\n",
       "      <td>127</td>\n",
       "      <td>2.80</td>\n",
       "      <td>3.06</td>\n",
       "      <td>0.28</td>\n",
       "      <td>2.29</td>\n",
       "      <td>5.64</td>\n",
       "      <td>1.04</td>\n",
       "      <td>3.92</td>\n",
       "      <td>1065</td>\n",
       "    </tr>\n",
       "    <tr>\n",
       "      <th>1</th>\n",
       "      <td>1</td>\n",
       "      <td>13.20</td>\n",
       "      <td>1.78</td>\n",
       "      <td>2.14</td>\n",
       "      <td>11.2</td>\n",
       "      <td>100</td>\n",
       "      <td>2.65</td>\n",
       "      <td>2.76</td>\n",
       "      <td>0.26</td>\n",
       "      <td>1.28</td>\n",
       "      <td>4.38</td>\n",
       "      <td>1.05</td>\n",
       "      <td>3.40</td>\n",
       "      <td>1050</td>\n",
       "    </tr>\n",
       "    <tr>\n",
       "      <th>2</th>\n",
       "      <td>1</td>\n",
       "      <td>13.16</td>\n",
       "      <td>2.36</td>\n",
       "      <td>2.67</td>\n",
       "      <td>18.6</td>\n",
       "      <td>101</td>\n",
       "      <td>2.80</td>\n",
       "      <td>3.24</td>\n",
       "      <td>0.30</td>\n",
       "      <td>2.81</td>\n",
       "      <td>5.68</td>\n",
       "      <td>1.03</td>\n",
       "      <td>3.17</td>\n",
       "      <td>1185</td>\n",
       "    </tr>\n",
       "    <tr>\n",
       "      <th>3</th>\n",
       "      <td>1</td>\n",
       "      <td>14.37</td>\n",
       "      <td>1.95</td>\n",
       "      <td>2.50</td>\n",
       "      <td>16.8</td>\n",
       "      <td>113</td>\n",
       "      <td>3.85</td>\n",
       "      <td>3.49</td>\n",
       "      <td>0.24</td>\n",
       "      <td>2.18</td>\n",
       "      <td>7.80</td>\n",
       "      <td>0.86</td>\n",
       "      <td>3.45</td>\n",
       "      <td>1480</td>\n",
       "    </tr>\n",
       "    <tr>\n",
       "      <th>4</th>\n",
       "      <td>1</td>\n",
       "      <td>13.24</td>\n",
       "      <td>2.59</td>\n",
       "      <td>2.87</td>\n",
       "      <td>21.0</td>\n",
       "      <td>118</td>\n",
       "      <td>2.80</td>\n",
       "      <td>2.69</td>\n",
       "      <td>0.39</td>\n",
       "      <td>1.82</td>\n",
       "      <td>4.32</td>\n",
       "      <td>1.04</td>\n",
       "      <td>2.93</td>\n",
       "      <td>735</td>\n",
       "    </tr>\n",
       "  </tbody>\n",
       "</table>\n",
       "</div>"
      ],
      "text/plain": [
       "   Class label  Alcohol  Malic acid   Ash  Alcalinity of ash  Magnesium  \\\n",
       "0            1    14.23        1.71  2.43               15.6        127   \n",
       "1            1    13.20        1.78  2.14               11.2        100   \n",
       "2            1    13.16        2.36  2.67               18.6        101   \n",
       "3            1    14.37        1.95  2.50               16.8        113   \n",
       "4            1    13.24        2.59  2.87               21.0        118   \n",
       "\n",
       "   Total pheols  Flabanoids  Nonflavanoid phenols  Proanthocyanins  \\\n",
       "0          2.80        3.06                  0.28             2.29   \n",
       "1          2.65        2.76                  0.26             1.28   \n",
       "2          2.80        3.24                  0.30             2.81   \n",
       "3          3.85        3.49                  0.24             2.18   \n",
       "4          2.80        2.69                  0.39             1.82   \n",
       "\n",
       "   Color intensity   Hue  OD280/OD315 of diluted wines  Proline  \n",
       "0             5.64  1.04                          3.92     1065  \n",
       "1             4.38  1.05                          3.40     1050  \n",
       "2             5.68  1.03                          3.17     1185  \n",
       "3             7.80  0.86                          3.45     1480  \n",
       "4             4.32  1.04                          2.93      735  "
      ]
     },
     "execution_count": 125,
     "metadata": {},
     "output_type": "execute_result"
    }
   ],
   "source": [
    "df_wine.head()"
   ]
  },
  {
   "cell_type": "code",
   "execution_count": 126,
   "id": "9d1cf86b",
   "metadata": {},
   "outputs": [],
   "source": [
    "#클래스 1 제외하기\n",
    "df_wine = df_wine[df_wine['Class label']!=1]"
   ]
  },
  {
   "cell_type": "code",
   "execution_count": 127,
   "id": "89ecfaf9",
   "metadata": {},
   "outputs": [],
   "source": [
    "y = df_wine['Class label'].values"
   ]
  },
  {
   "cell_type": "code",
   "execution_count": 130,
   "id": "bd5d56ce",
   "metadata": {},
   "outputs": [],
   "source": [
    "X= df_wine[['Alcohol','OD280/OD315 of diluted wines']].values"
   ]
  },
  {
   "cell_type": "code",
   "execution_count": 131,
   "id": "12ad3bb0",
   "metadata": {},
   "outputs": [],
   "source": [
    "from sklearn.preprocessing import LabelEncoder\n",
    "from sklearn.model_selection import train_test_split\n",
    "le = LabelEncoder()\n",
    "y = le.fit_transform(y)#이진 형태로 인코딩\n",
    "X_train,X_test,y_train,y_test = train_test_split(X,y,test_size=0.2,random_state=1,stratify=y)"
   ]
  },
  {
   "cell_type": "code",
   "execution_count": 133,
   "id": "1a0992cc",
   "metadata": {},
   "outputs": [],
   "source": [
    "from sklearn.ensemble import BaggingClassifier#배깅\n",
    "tree = DecisionTreeClassifier(criterion='entropy',random_state=1, max_depth=None)\n",
    "bag = BaggingClassifier(base_estimator=tree, n_estimators=500, max_samples=1.0, max_features=1.0, bootstrap=True, \n",
    "                        bootstrap_features=False,n_jobs=1,random_state=1)"
   ]
  },
  {
   "cell_type": "code",
   "execution_count": 136,
   "id": "1cb42109",
   "metadata": {},
   "outputs": [
    {
     "name": "stdout",
     "output_type": "stream",
     "text": [
      "결정 트리의 훈련 정확도/테스트 정확도 1.000/0.833\n"
     ]
    }
   ],
   "source": [
    "from sklearn.metrics import accuracy_score#예측 정확도\n",
    "tree = tree.fit(X_train,y_train)#가지치기가 없는 단일 결정 트리\n",
    "y_train_pred = tree.predict(X_train)\n",
    "y_test_pred = tree.predict(X_test)\n",
    "tree_train = accuracy_score(y_train,y_train_pred)\n",
    "tree_test = accuracy_score(y_test,y_test_pred)\n",
    "\n",
    "print(\"결정 트리의 훈련 정확도/테스트 정확도 %.3f/%.3f\"%(tree_train,tree_test))#배깅 없이는 과대적합이 나타남"
   ]
  },
  {
   "cell_type": "code",
   "execution_count": 138,
   "id": "706b8f73",
   "metadata": {},
   "outputs": [
    {
     "name": "stdout",
     "output_type": "stream",
     "text": [
      "배깅의 훈련 정확도/테스트 정확도: 1.000/0.917\n"
     ]
    }
   ],
   "source": [
    "bag = bag.fit(X_train,y_train)\n",
    "y_train_pred = bag.predict(X_train)\n",
    "y_test_pred = bag.predict(X_test)\n",
    "bag_train = accuracy_score(y_train,y_train_pred)\n",
    "bag_test = accuracy_score(y_test,y_test_pred)\n",
    "print(\"배깅의 훈련 정확도/테스트 정확도: %.3f/%.3f\"%(bag_train,bag_test))#배깅 분류기의 일반화 성능이 더 나음"
   ]
  },
  {
   "cell_type": "code",
   "execution_count": 141,
   "id": "d1dec85f",
   "metadata": {},
   "outputs": [
    {
     "data": {
      "image/png": "[encoded data removed]",
      "text/plain": [
       "<Figure size 576x216 with 2 Axes>"
      ]
     },
     "metadata": {
      "needs_background": "light"
     },
     "output_type": "display_data"
    }
   ],
   "source": [
    "#결정 트리와 배깅 분류기의 결정 경계 비교\n",
    "x_min = X_train[:,0].min()-1\n",
    "x_max = X_train[:,0].max()+1\n",
    "y_min = X_train[:,1].min()-1\n",
    "y_max = X_train[:,1].max()+1\n",
    "\n",
    "xx,yy = np.meshgrid(np.arange(x_min,x_max,0.1),np.arange(y_min,y_max,0.1))\n",
    "f,axarr = plt.subplots(nrows=1, ncols=2, sharex='col', sharey='row', figsize=(8,3))\n",
    "\n",
    "for idx, clf, tt in zip([0,1],[tree,bag],['Decision tree','Bagging']):\n",
    "    clf.fit(X_train,y_train)\n",
    "    \n",
    "    Z = clf.predict(np.c_[xx.ravel(),yy.ravel()])\n",
    "    Z = Z.reshape(xx.shape)\n",
    "    axarr[idx].contourf(xx,yy,Z,alpha = 0.3)\n",
    "    axarr[idx].scatter(X_train[y_train == 0,0],\n",
    "                      X_train[y_train==0,1],\n",
    "                      c='blue',marker='^')\n",
    "    axarr[idx].scatter(X_train[y_train == 1,0],\n",
    "                      X_train[y_train==1,1],\n",
    "                      c='green',marker='o')\n",
    "    axarr[idx].set_title(tt)\n",
    "    \n",
    "axarr[0].set_ylabel('Alcohol',fontsize=12)\n",
    "plt.text(10.2,-1.2,s = '0D280/OD315 of diluted wines',ha = 'center', fontsize=12)\n",
    "plt.tight_layout()\n",
    "plt.show()#배깅 앙상블에서 선형 결정 경계가 더 부드러워짐"
   ]
  },
  {
   "cell_type": "markdown",
   "id": "5dfba934",
   "metadata": {},
   "source": [
    "### 7.4 약한 학습기를 이용한 에이다부스트\n",
    "\n",
    "부스팅의 핵심: 분류하기 어려운 훈련 샘플에 초점을 맞추는 것"
   ]
  },
  {
   "cell_type": "markdown",
   "id": "88e955ab",
   "metadata": {},
   "source": [
    "#### 부스팅 작동 원리\n",
    "1. 훈련 세트 D에서 중복을 허용하지 않고 랜덤한 부분 집합 $d_1$을 뽑아 약한 학습기 $C_1$을 훈련\n",
    "2. 훈련 세트에서 중복을 허용하지 않고 두 번째 랜덤한 훈련 부분 집합 $d_2$를 뽑고 이전에 잘못 분류된 샘플의 50%를 더해서 약한 학습기 $C_2$를 훈련\n",
    "3. 훈련 세트 D에서 $C_1$과 $C_2$에서 잘못 분류한 훈련 샘플 $d_3$를 찾아 세 번째 약한 학습기인 $C_3$를 훈련\n",
    "4. 약한 학습기 $C_1$, $C_2$, $C_3$를 다수결 투표로 연결\n",
    "\n",
    "에이다부스트는 과대적합되는 경향이 있음"
   ]
  },
  {
   "cell_type": "markdown",
   "id": "935592f4",
   "metadata": {},
   "source": [
    "#### 에이다부스트 의사코드\n",
    "1. 가중치 벡터 w를 동일한 가중치로 설정한다. $\\sum\\nolimits_{i}w_i = 1$\n",
    "<br><br>\n",
    "2. m번 부스팅 반복의 j번째에서 다음을 수행<br>\n",
    "\n",
    "    a. 가중치가 부여된 약한 학습기를 훈련 $C_j = train(X,y,w)$<br>\n",
    "    b. 클래스 레이블을 예측 $\\hat{y} = predict(C_j,X)$<br>\n",
    "    c. 가중치가 적용된 에러율을 계산 $ \\varepsilon = w\\cdot (\\hat{y}\\neq y)$<br>\n",
    "    d. 학습기 가중치를 계산 $\\alpha_j = 0.5log\\frac{1-\\varepsilon}{\\varepsilon}$<br>\n",
    "    e. 가중치를 업데이트 $w := w$ x $exp(-\\alpha_j$x$\\hat{y}$x$y)$<br>\n",
    "    f. 합이 1이 되도록 가중치 정규화 $w := w$ / $\\sum\\nolimits_{i}w_i$<br>\n",
    "<br><br>\n",
    "3. 최종 예측을 계산 $\\hat{y} = (\\sum\\nolimits_{i=1}^{m}(\\alpha_j$ x $predict(C_j,X))>0)$\n",
    "\n",
    "<br><br>\n",
    "$(\\hat{y}\\neq y)$ 표현은 1 또는 0으로 구성된 이진 벡터다. 예측이 잘못되면 1이고 정확하면 0이다."
   ]
  },
  {
   "cell_type": "markdown",
   "id": "18e014e0",
   "metadata": {},
   "source": [
    "### 사이킷런에서 에이다부스트 사용"
   ]
  },
  {
   "cell_type": "code",
   "execution_count": 142,
   "id": "242d654e",
   "metadata": {},
   "outputs": [],
   "source": [
    "from sklearn.ensemble import AdaBoostClassifier\n",
    "tree = DecisionTreeClassifier(criterion = 'entropy',#결정트리\n",
    "                             random_state=1,\n",
    "                             max_depth=1)#깊이 1(약한 훈련기)\n",
    "ada = AdaBoostClassifier(base_estimator=tree,\n",
    "                        n_estimators=500,#500개 트리\n",
    "                        learning_rate=0.1,\n",
    "                        random_state=1)"
   ]
  },
  {
   "cell_type": "code",
   "execution_count": 143,
   "id": "271afdd0",
   "metadata": {},
   "outputs": [],
   "source": [
    "tree = tree.fit(X_train,y_train)"
   ]
  },
  {
   "cell_type": "code",
   "execution_count": 144,
   "id": "76977e68",
   "metadata": {},
   "outputs": [],
   "source": [
    "y_train_pred = tree.predict(X_train)"
   ]
  },
  {
   "cell_type": "code",
   "execution_count": 145,
   "id": "afd5c623",
   "metadata": {},
   "outputs": [],
   "source": [
    "y_test_pred = tree.predict(X_test)"
   ]
  },
  {
   "cell_type": "code",
   "execution_count": 146,
   "id": "c47f6dc6",
   "metadata": {},
   "outputs": [
    {
     "name": "stdout",
     "output_type": "stream",
     "text": [
      "결정 트리의 훈련 정확도/테스트 정확도: 0.916/0.875\n"
     ]
    }
   ],
   "source": [
    "tree_train = accuracy_score(y_train,y_train_pred)\n",
    "tree_test = accuracy_score(y_test,y_test_pred)\n",
    "print(\"결정 트리의 훈련 정확도/테스트 정확도: %.3f/%.3f\"%(tree_train,tree_test))"
   ]
  },
  {
   "cell_type": "code",
   "execution_count": 147,
   "id": "ebf20c36",
   "metadata": {},
   "outputs": [
    {
     "name": "stdout",
     "output_type": "stream",
     "text": [
      "에이다부스트의 훈련 정확도/테스트 정확도 1.000/0.917\n"
     ]
    }
   ],
   "source": [
    "ada = ada.fit(X_train,y_train)\n",
    "y_train_pred = ada.predict(X_train)\n",
    "y_test_pred = ada.predict(X_test)\n",
    "ada_train = accuracy_score(y_train,y_train_pred)\n",
    "ada_test = accuracy_score(y_test, y_test_pred)\n",
    "print(\"에이다부스트의 훈련 정확도/테스트 정확도 %.3f/%.3f\"%(ada_train,ada_test))"
   ]
  },
  {
   "cell_type": "code",
   "execution_count": 149,
   "id": "5451a904",
   "metadata": {},
   "outputs": [
    {
     "data": {
      "image/png": "[encoded data removed]",
      "text/plain": [
       "<Figure size 576x216 with 2 Axes>"
      ]
     },
     "metadata": {
      "needs_background": "light"
     },
     "output_type": "display_data"
    }
   ],
   "source": [
    "#에이다부스트의 결정 영역\n",
    "x_min = X_train[:,0].min()-1\n",
    "x_max = X_train[:,0].max()+1\n",
    "y_min = X_train[:,1].min()-1\n",
    "y_max = X_train[:,1].max()+1\n",
    "xx,yy = np.meshgrid(np.arange(x_min,x_max,0.1),np.arange(y_min,y_max,0.1))\n",
    "\n",
    "f, axarr = plt.subplots(1,2,\n",
    "                       sharex='col',\n",
    "                       sharey='row',\n",
    "                       figsize = (8,3))\n",
    "\n",
    "for idx, clf, tt in zip([0,1],\n",
    "                       [tree,ada],\n",
    "                       ['Decision Tree','AdaBoost']):\n",
    "    clf.fit(X_train,y_train)\n",
    "    Z = clf.predict(np.c_[xx.ravel(),yy.ravel()])\n",
    "    Z= Z.reshape(xx.shape)\n",
    "    axarr[idx].contourf(xx,yy,Z,alpha = 0.3)\n",
    "    axarr[idx].scatter(X_train[y_train == 0,0],\n",
    "                      X_train[y_train == 0,1],\n",
    "                      c='blue',\n",
    "                      marker = '^')\n",
    "    axarr[idx].scatter(X_train[y_train==1,0],\n",
    "                      X_train[y_train ==1,1],\n",
    "                      c='red',\n",
    "                      marker = 'o')\n",
    "    axarr[idx].set_title(tt)\n",
    "    axarr[0].set_ylabel('Alcolhol',fontsize=12)\n",
    "plt.text(10.2,-0.5, s = 'OD280/OD315 of diluted wines',ha='center',va='center',fontsize=12)\n",
    "plt.tight_layout()\n",
    "plt.show()"
   ]
  },
  {
   "cell_type": "markdown",
   "id": "31b30b16",
   "metadata": {},
   "source": [
    "### 그래디언트 부스팅(Gradient Boosting)"
   ]
  },
  {
   "cell_type": "code",
   "execution_count": 153,
   "id": "dcc76490",
   "metadata": {},
   "outputs": [
    {
     "name": "stdout",
     "output_type": "stream",
     "text": [
      "앙상블에 사용한 트리개수: 20\n"
     ]
    }
   ],
   "source": [
    "from sklearn.ensemble import GradientBoostingClassifier#그래디언트 부스팅 모델\n",
    "gbrt = GradientBoostingClassifier(n_estimators=20, random_state = 42)#트리 개수 20개\n",
    "gbrt.fit(X_train,y_train)\n",
    "gbrt_train_score = gbrt.score(X_train,y_train)\n",
    "gbrt_test_score = gbrt.score(X_test,y_test)\n",
    "print(\"앙상블에 사용한 트리개수: %d\"%gbrt.n_estimators_)"
   ]
  },
  {
   "cell_type": "code",
   "execution_count": 155,
   "id": "d24485a5",
   "metadata": {},
   "outputs": [
    {
     "name": "stdout",
     "output_type": "stream",
     "text": [
      "그래디언트 부스팅의 훈련 정확도/테스트 정확도 1.000/0.917\n"
     ]
    }
   ],
   "source": [
    "print(\"그래디언트 부스팅의 훈련 정확도/테스트 정확도 %.3f/%.3f\"%(gbrt_train_score,gbrt_test_score))"
   ]
  },
  {
   "cell_type": "code",
   "execution_count": 156,
   "id": "2632180b",
   "metadata": {},
   "outputs": [
    {
     "data": {
      "image/png": "[encoded data removed]",
      "text/plain": [
       "<Figure size 576x216 with 2 Axes>"
      ]
     },
     "metadata": {
      "needs_background": "light"
     },
     "output_type": "display_data"
    }
   ],
   "source": [
    "#에이다부스트의 결정 영역\n",
    "x_min = X_train[:,0].min()-1\n",
    "x_max = X_train[:,0].max()+1\n",
    "y_min = X_train[:,1].min()-1\n",
    "y_max = X_train[:,1].max()+1\n",
    "xx,yy = np.meshgrid(np.arange(x_min,x_max,0.1),np.arange(y_min,y_max,0.1))\n",
    "\n",
    "f, axarr = plt.subplots(1,2,\n",
    "                       sharex='col',\n",
    "                       sharey='row',\n",
    "                       figsize = (8,3))\n",
    "\n",
    "for idx, clf, tt in zip([0,1],\n",
    "                       [tree,gbrt],\n",
    "                       ['Decision Tree','Gradient Boost']):\n",
    "    clf.fit(X_train,y_train)\n",
    "    Z = clf.predict(np.c_[xx.ravel(),yy.ravel()])\n",
    "    Z= Z.reshape(xx.shape)\n",
    "    axarr[idx].contourf(xx,yy,Z,alpha = 0.3)\n",
    "    axarr[idx].scatter(X_train[y_train == 0,0],\n",
    "                      X_train[y_train == 0,1],\n",
    "                      c='blue',\n",
    "                      marker = '^')\n",
    "    axarr[idx].scatter(X_train[y_train==1,0],\n",
    "                      X_train[y_train ==1,1],\n",
    "                      c='red',\n",
    "                      marker = 'o')\n",
    "    axarr[idx].set_title(tt)\n",
    "    axarr[0].set_ylabel('Alcolhol',fontsize=12)\n",
    "plt.text(10.2,-0.5, s = 'OD280/OD315 of diluted wines',ha='center',va='center',fontsize=12)\n",
    "plt.tight_layout()\n",
    "plt.show()"
   ]
  },
  {
   "cell_type": "markdown",
   "id": "34e0d2a6",
   "metadata": {},
   "source": [
    "히스토그램 기반 부스팅 알고리즘"
   ]
  },
  {
   "cell_type": "code",
   "execution_count": 157,
   "id": "bdec4d58",
   "metadata": {},
   "outputs": [],
   "source": [
    "from sklearn.experimental import enable_hist_gradient_boosting\n",
    "from sklearn.ensemble import HistGradientBoostingClassifier"
   ]
  },
  {
   "cell_type": "code",
   "execution_count": 160,
   "id": "952b658f",
   "metadata": {},
   "outputs": [],
   "source": [
    "hgbrt = HistGradientBoostingClassifier( random_state = 42)#트리 개수 20개\n",
    "hgbrt.fit(X_train,y_train)\n",
    "hgbrt_train_score = hgbrt.score(X_train,y_train)\n",
    "hgbrt_test_score = hgbrt.score(X_test,y_test)"
   ]
  },
  {
   "cell_type": "code",
   "execution_count": 161,
   "id": "6e7d53bb",
   "metadata": {},
   "outputs": [
    {
     "name": "stdout",
     "output_type": "stream",
     "text": [
      "히스토그램 기반 부스팅의 훈련 정확도/테스트 정확도 0.979/0.917\n"
     ]
    }
   ],
   "source": [
    "print(\"히스토그램 기반 부스팅의 훈련 정확도/테스트 정확도 %.3f/%.3f\"%(hgbrt_train_score,hgbrt_test_score))"
   ]
  },
  {
   "cell_type": "code",
   "execution_count": 163,
   "id": "a7549f30",
   "metadata": {},
   "outputs": [
    {
     "data": {
      "image/png": "[encoded data removed]",
      "text/plain": [
       "<Figure size 576x216 with 2 Axes>"
      ]
     },
     "metadata": {
      "needs_background": "light"
     },
     "output_type": "display_data"
    }
   ],
   "source": [
    "#에이다부스트의 결정 영역\n",
    "x_min = X_train[:,0].min()-1\n",
    "x_max = X_train[:,0].max()+1\n",
    "y_min = X_train[:,1].min()-1\n",
    "y_max = X_train[:,1].max()+1\n",
    "xx,yy = np.meshgrid(np.arange(x_min,x_max,0.1),np.arange(y_min,y_max,0.1))\n",
    "\n",
    "f, axarr = plt.subplots(1,2,\n",
    "                       sharex='col',\n",
    "                       sharey='row',\n",
    "                       figsize = (8,3))\n",
    "\n",
    "for idx, clf, tt in zip([0,1],\n",
    "                       [tree,hgbrt],\n",
    "                       ['Decision Tree','HYistGradient Boost']):\n",
    "    clf.fit(X_train,y_train)\n",
    "    Z = clf.predict(np.c_[xx.ravel(),yy.ravel()])\n",
    "    Z= Z.reshape(xx.shape)\n",
    "    axarr[idx].contourf(xx,yy,Z,alpha = 0.3)\n",
    "    axarr[idx].scatter(X_train[y_train == 0,0],\n",
    "                      X_train[y_train == 0,1],\n",
    "                      c='blue',\n",
    "                      marker = '^')\n",
    "    axarr[idx].scatter(X_train[y_train==1,0],\n",
    "                      X_train[y_train ==1,1],\n",
    "                      c='red',\n",
    "                      marker = 'o')\n",
    "    axarr[idx].set_title(tt)\n",
    "    axarr[0].set_ylabel('Alcolhol',fontsize=12)\n",
    "plt.text(10.2,-0.5, s = 'OD280/OD315 of diluted wines',ha='center',va='center',fontsize=12)\n",
    "plt.tight_layout()\n",
    "plt.show()"
   ]
  }
 ],
 "metadata": {
  "kernelspec": {
   "display_name": "Python 3",
   "language": "python",
   "name": "python3"
  },
  "language_info": {
   "codemirror_mode": {
    "name": "ipython",
    "version": 3
   },
   "file_extension": ".py",
   "mimetype": "text/x-python",
   "name": "python",
   "nbconvert_exporter": "python",
   "pygments_lexer": "ipython3",
   "version": "3.9.5"
  }
 },
 "nbformat": 4,
 "nbformat_minor": 5
}
