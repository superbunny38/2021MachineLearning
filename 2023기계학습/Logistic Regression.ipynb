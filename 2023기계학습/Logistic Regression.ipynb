{
 "cells": [
  {
   "cell_type": "code",
   "execution_count": 1,
   "id": "ecc34f99",
   "metadata": {},
   "outputs": [],
   "source": [
    "import numpy as np\n",
    "import matplotlib.pyplot as plt\n",
    "\n",
    "def sigmoid(input):\n",
    "    return 1./(1.+np.exp(-input))"
   ]
  },
  {
   "cell_type": "code",
   "execution_count": 2,
   "id": "0d236f1b",
   "metadata": {},
   "outputs": [
    {
     "data": {
      "image/png": "[encoded data removed]",
      "text/plain": [
       "<Figure size 432x288 with 1 Axes>"
      ]
     },
     "metadata": {
      "needs_background": "light"
     },
     "output_type": "display_data"
    }
   ],
   "source": [
    "z = np.linspace(-8,8,1000)\n",
    "y = sigmoid(z)\n",
    "\n",
    "plt.plot(z,y)\n",
    "plt.axhline(y=0,ls='dotted',color='k')\n",
    "plt.axhline(y=0.5,ls='dotted',color='k')\n",
    "plt.axhline(y=1,ls='dotted',color='k')\n",
    "\n",
    "plt.yticks([0.0,0.25,.5,.75,1.])\n",
    "plt.xlabel('z')\n",
    "plt.ylabel('y(z)')\n",
    "plt.show()"
   ]
  },
  {
   "cell_type": "markdown",
   "id": "0f04b05b",
   "metadata": {},
   "source": [
    "### Get & Preprocess Data"
   ]
  },
  {
   "cell_type": "code",
   "execution_count": 4,
   "id": "b41f36e6",
   "metadata": {},
   "outputs": [],
   "source": [
    "import pandas as pd\n",
    "data = pd.read_csv('./ctr_data_20000.csv')"
   ]
  },
  {
   "cell_type": "code",
   "execution_count": 5,
   "id": "d79cfa4e",
   "metadata": {},
   "outputs": [
    {
     "data": {
      "text/plain": [
       "Index(['id', 'click', 'hour', 'C1', 'banner_pos', 'site_id', 'site_domain',\n",
       "       'site_category', 'app_id', 'app_domain', 'app_category', 'device_id',\n",
       "       'device_ip', 'device_model', 'device_type', 'device_conn_type', 'C14',\n",
       "       'C15', 'C16', 'C17', 'C18', 'C19', 'C20', 'C21'],\n",
       "      dtype='object')"
      ]
     },
     "execution_count": 5,
     "metadata": {},
     "output_type": "execute_result"
    }
   ],
   "source": [
    "data.columns"
   ]
  },
  {
   "cell_type": "code",
   "execution_count": 6,
   "id": "de3020dc",
   "metadata": {},
   "outputs": [],
   "source": [
    "data = data.drop(['id','hour','device_id','device_ip'],axis = 1)"
   ]
  },
  {
   "cell_type": "code",
   "execution_count": 9,
   "id": "85145129",
   "metadata": {},
   "outputs": [],
   "source": [
    "from sklearn.feature_extraction import DictVectorizer\n",
    "data_x = data.loc[:,data.columns != 'click'].astype('str')\n",
    "data_y = data.loc[:,data.columns == 'click'].astype('int').values.ravel()\n",
    "\n",
    "train_X, test_X = data_x[0:15000],data_x[15000:]\n",
    "train_y, test_y = data_y[0:15000],data_y[15000:]\n",
    "\n",
    "dict_one_hot_encoder = DictVectorizer(sparse=False)\n",
    "onehot_train_X = dict_one_hot_encoder.fit_transform(train_X.to_dict('records'))\n",
    "one_hot_test_X = dict_one_hot_encoder.transform(test_X.to_dict('records'))"
   ]
  },
  {
   "cell_type": "code",
   "execution_count": 10,
   "id": "e44bdd3d",
   "metadata": {
    "scrolled": true
   },
   "outputs": [
    {
     "name": "stdout",
     "output_type": "stream",
     "text": [
      "(15000, 19)\n",
      "(15000, 3244)\n"
     ]
    }
   ],
   "source": [
    "print(train_X.shape)\n",
    "print(onehot_train_X.shape)"
   ]
  },
  {
   "cell_type": "code",
   "execution_count": 11,
   "id": "febb43e8",
   "metadata": {},
   "outputs": [
    {
     "name": "stdout",
     "output_type": "stream",
     "text": [
      "ROC AUC: 0.710\n"
     ]
    }
   ],
   "source": [
    "from sklearn.metrics import roc_auc_score\n",
    "from sklearn.linear_model import LogisticRegression\n",
    "\n",
    "logistic_regression = LogisticRegression(fit_intercept=True, max_iter=10000)\n",
    "logistic_regression.fit(onehot_train_X,train_y)\n",
    "\n",
    "pos_prob = logistic_regression.predict_proba(one_hot_test_X)[:,1]\n",
    "print(\"ROC AUC: {0:.3f}\".format(roc_auc_score(test_y,pos_prob)))"
   ]
  },
  {
   "cell_type": "markdown",
   "id": "4a42ec6f",
   "metadata": {},
   "source": [
    "# Stochastic Gradient Descent"
   ]
  },
  {
   "cell_type": "code",
   "execution_count": 13,
   "id": "ca72a801",
   "metadata": {},
   "outputs": [
    {
     "name": "stdout",
     "output_type": "stream",
     "text": [
      "ROC AUC: 0.710\n"
     ]
    }
   ],
   "source": [
    "from sklearn.linear_model import SGDClassifier\n",
    "from sklearn.model_selection import GridSearchCV\n",
    "parameters = {'eta0':[0.1,0.01,0.001]}\n",
    "\n",
    "sgd_lr = SGDClassifier(loss = 'log',fit_intercept=True)\n",
    "grid_search = GridSearchCV(sgd_lr,parameters,n_jobs=-1,cv=3,scoring='roc_auc')\n",
    "\n",
    "grid_search.fit(onehot_train_X,train_y)\n",
    "sgd_lr_best = grid_search.best_estimator_\n",
    "pos_prob  = sgd_lr_best.predict_proba(one_hot_test_X)[:,1]\n",
    "\n",
    "print(\"ROC AUC: {0:.3f}\".format(roc_auc_score(test_y,pos_prob)))"
   ]
  },
  {
   "cell_type": "markdown",
   "id": "ba0fab51",
   "metadata": {},
   "source": [
    "# Regularization"
   ]
  },
  {
   "cell_type": "markdown",
   "id": "7348f9ea",
   "metadata": {},
   "source": [
    "L1"
   ]
  },
  {
   "cell_type": "code",
   "execution_count": 14,
   "id": "539d6484",
   "metadata": {},
   "outputs": [
    {
     "name": "stdout",
     "output_type": "stream",
     "text": [
      "ROC AUC: 0.712\n"
     ]
    }
   ],
   "source": [
    "from sklearn.linear_model import SGDClassifier\n",
    "from sklearn.model_selection import GridSearchCV\n",
    "parameters = {'eta0':[0.1,0.01,0.001]}\n",
    "\n",
    "sgd_lr = SGDClassifier(loss = 'log',fit_intercept=True, penalty='l1')\n",
    "grid_search = GridSearchCV(sgd_lr,parameters,n_jobs=-1,cv=3,scoring='roc_auc')\n",
    "\n",
    "grid_search.fit(onehot_train_X,train_y)\n",
    "sgd_lr_best = grid_search.best_estimator_\n",
    "pos_prob  = sgd_lr_best.predict_proba(one_hot_test_X)[:,1]\n",
    "\n",
    "print(\"ROC AUC: {0:.3f}\".format(roc_auc_score(test_y,pos_prob)))"
   ]
  },
  {
   "cell_type": "markdown",
   "id": "b25c7eb0",
   "metadata": {},
   "source": [
    "L2"
   ]
  },
  {
   "cell_type": "code",
   "execution_count": 15,
   "id": "a5bb02e2",
   "metadata": {},
   "outputs": [
    {
     "name": "stdout",
     "output_type": "stream",
     "text": [
      "ROC AUC: 0.705\n"
     ]
    }
   ],
   "source": [
    "from sklearn.linear_model import SGDClassifier\n",
    "from sklearn.model_selection import GridSearchCV\n",
    "parameters = {'eta0':[0.1,0.01,0.001]}\n",
    "\n",
    "sgd_lr = SGDClassifier(loss = 'log',fit_intercept=True, penalty='l2')\n",
    "grid_search = GridSearchCV(sgd_lr,parameters,n_jobs=-1,cv=3,scoring='roc_auc')\n",
    "\n",
    "grid_search.fit(onehot_train_X,train_y)\n",
    "sgd_lr_best = grid_search.best_estimator_\n",
    "pos_prob  = sgd_lr_best.predict_proba(one_hot_test_X)[:,1]\n",
    "\n",
    "print(\"ROC AUC: {0:.3f}\".format(roc_auc_score(test_y,pos_prob)))"
   ]
  },
  {
   "cell_type": "markdown",
   "id": "cdf1b43a",
   "metadata": {},
   "source": [
    "elasticnet"
   ]
  },
  {
   "cell_type": "code",
   "execution_count": 16,
   "id": "4069f0cf",
   "metadata": {},
   "outputs": [
    {
     "name": "stdout",
     "output_type": "stream",
     "text": [
      "ROC AUC: 0.714\n"
     ]
    }
   ],
   "source": [
    "from sklearn.linear_model import SGDClassifier\n",
    "from sklearn.model_selection import GridSearchCV\n",
    "parameters = {'eta0':[0.1,0.01,0.001]}\n",
    "\n",
    "sgd_lr = SGDClassifier(loss = 'log',fit_intercept=True, penalty='elasticnet')\n",
    "grid_search = GridSearchCV(sgd_lr,parameters,n_jobs=-1,cv=3,scoring='roc_auc')\n",
    "\n",
    "grid_search.fit(onehot_train_X,train_y)\n",
    "sgd_lr_best = grid_search.best_estimator_\n",
    "pos_prob  = sgd_lr_best.predict_proba(one_hot_test_X)[:,1]\n",
    "\n",
    "print(\"ROC AUC: {0:.3f}\".format(roc_auc_score(test_y,pos_prob)))"
   ]
  },
  {
   "cell_type": "markdown",
   "id": "5b080169",
   "metadata": {},
   "source": [
    "# Multi-class Classification"
   ]
  },
  {
   "cell_type": "markdown",
   "id": "498eeab6",
   "metadata": {},
   "source": [
    "Get Data"
   ]
  },
  {
   "cell_type": "code",
   "execution_count": 19,
   "id": "1caa5815",
   "metadata": {},
   "outputs": [
    {
     "name": "stderr",
     "output_type": "stream",
     "text": [
      "[nltk_data] Downloading package names to\n",
      "[nltk_data]     C:\\Users\\KIST\\AppData\\Roaming\\nltk_data...\n",
      "[nltk_data]   Package names is already up-to-date!\n",
      "[nltk_data] Downloading package wordnet to\n",
      "[nltk_data]     C:\\Users\\KIST\\AppData\\Roaming\\nltk_data...\n",
      "[nltk_data]   Package wordnet is already up-to-date!\n"
     ]
    },
    {
     "data": {
      "text/plain": [
       "True"
      ]
     },
     "execution_count": 19,
     "metadata": {},
     "output_type": "execute_result"
    }
   ],
   "source": [
    "import nltk\n",
    "nltk.download('names')\n",
    "nltk.download('wordnet')"
   ]
  },
  {
   "cell_type": "code",
   "execution_count": 17,
   "id": "00daae7a",
   "metadata": {},
   "outputs": [],
   "source": [
    "from nltk.corpus import names\n",
    "from nltk.stem import WordNetLemmatizer\n",
    "\n",
    "all_names = set(names.words())\n",
    "lemmatizer = WordNetLemmatizer()"
   ]
  },
  {
   "cell_type": "code",
   "execution_count": 23,
   "id": "58134686",
   "metadata": {},
   "outputs": [],
   "source": [
    "def clean_text(docs):\n",
    "    cleanned_docs = []\n",
    "    for doc in docs:\n",
    "        lemmatized_list = [lemmatizer.lemmatize(word.lower()) for word in doc.split() if word.isalpha() and word not in all_names]\n",
    "        cleanned_docs.append(''.join(lemmatized_list))\n",
    "    return cleanned_docs"
   ]
  },
  {
   "cell_type": "code",
   "execution_count": 24,
   "id": "b1899e04",
   "metadata": {},
   "outputs": [],
   "source": [
    "from sklearn.datasets import fetch_20newsgroups\n",
    "\n",
    "data_train = fetch_20newsgroups(subset='train',categories=None,random_state=42)\n",
    "data_test = fetch_20newsgroups(subset='test',categories=None,random_state=42)"
   ]
  },
  {
   "cell_type": "code",
   "execution_count": 25,
   "id": "5e93eb5c",
   "metadata": {},
   "outputs": [],
   "source": [
    "cleanned_train = clean_text(data_train.data)\n",
    "label_train = data_train.target\n",
    "\n",
    "cleanned_test = clean_text(data_test.data)\n",
    "label_test= data_test.target\n",
    "\n",
    "from sklearn.feature_extraction.text import TfidfVectorizer\n",
    "tfidf_vectorizer = TfidfVectorizer(sublinear_tf=True, max_df=.5, stop_words='english',max_features=40000)\n",
    "term_docs_train = tfidf_vectorizer.fit_transform(cleanned_train)\n",
    "term_docs_test = tfidf_vectorizer.transform(cleanned_test)"
   ]
  },
  {
   "cell_type": "code",
   "execution_count": 32,
   "id": "54aa1452",
   "metadata": {},
   "outputs": [
    {
     "name": "stdout",
     "output_type": "stream",
     "text": [
      "{'alpha': 1e-07, 'eta0': 0.01, 'penalty': 'l2'}\n"
     ]
    }
   ],
   "source": [
    "parameters = {'penalty':['l2',None],\n",
    "             'alpha':[1e-07,1e-06,1e-05,1e-04],\n",
    "             'eta0':[0.01,0.1,1,10]}\n",
    "\n",
    "sgd_lr = SGDClassifier(loss ='log',learning_rate='constant',eta0 = 0.01,fit_intercept=True)\n",
    "\n",
    "grid_search = GridSearchCV(sgd_lr,parameters,n_jobs=-1,cv=3)\n",
    "grid_search.fit(term_docs_train,label_train)\n",
    "print(grid_search.best_params_)"
   ]
  },
  {
   "cell_type": "code",
   "execution_count": 33,
   "id": "9cce87ce",
   "metadata": {},
   "outputs": [
    {
     "name": "stdout",
     "output_type": "stream",
     "text": [
      "The accuracy on test set is:5.4%\n"
     ]
    }
   ],
   "source": [
    "sgd_lr_best = grid_search.best_estimator_\n",
    "accuracy = sgd_lr_best.score(term_docs_test,label_test)\n",
    "print('The accuracy on test set is:{0:.1f}%'.format(accuracy*100))"
   ]
  },
  {
   "cell_type": "markdown",
   "id": "1566ff3f",
   "metadata": {},
   "source": [
    "정확도 너무 낮아서,, 가져옴\n",
    "\n",
    "src: https://github.com/PacktPublishing/Python-Machine-Learning-By-Example/blob/master/Chapter06/5scikit_logistic_regression.py"
   ]
  },
  {
   "cell_type": "code",
   "execution_count": 36,
   "id": "48ee5262",
   "metadata": {},
   "outputs": [],
   "source": [
    "from sklearn.feature_extraction.text import TfidfVectorizer\n",
    "from sklearn.datasets import fetch_20newsgroups\n",
    "from sklearn.linear_model import SGDClassifier\n",
    "from nltk.corpus import names\n",
    "from nltk.stem import WordNetLemmatizer\n",
    "\n",
    "all_names = set(names.words())\n",
    "lemmatizer = WordNetLemmatizer()\n",
    "\n",
    "def letters_only(astr):\n",
    "    for c in astr:\n",
    "        if not c.isalpha():\n",
    "            return False\n",
    "    return True\n",
    "\n",
    "def clean_text(docs):\n",
    "    cleaned_docs = []\n",
    "    for doc in docs:\n",
    "        cleaned_docs.append(' '.join([lemmatizer.lemmatize(word.lower())\n",
    "                                        for word in doc.split()\n",
    "                                        if letters_only(word)\n",
    "                                        and word not in all_names]))\n",
    "    return cleaned_docs\n",
    "\n",
    "data_train = fetch_20newsgroups(subset='train', categories=None, random_state=42)\n",
    "data_test = fetch_20newsgroups(subset='test', categories=None, random_state=42)\n",
    "\n",
    "cleaned_train = clean_text(data_train.data)\n",
    "label_train = data_train.target\n",
    "cleaned_test = clean_text(data_test.data)\n",
    "label_test = data_test.target\n",
    "\n",
    "tfidf_vectorizer = TfidfVectorizer(sublinear_tf=True, max_df=0.5, stop_words='english', max_features=40000)\n",
    "term_docs_train = tfidf_vectorizer.fit_transform(cleaned_train)\n",
    "term_docs_test = tfidf_vectorizer.transform(cleaned_test)"
   ]
  },
  {
   "cell_type": "code",
   "execution_count": 37,
   "id": "a9bed9d9",
   "metadata": {},
   "outputs": [
    {
     "name": "stdout",
     "output_type": "stream",
     "text": [
      "{'alpha': 1e-06, 'eta0': 10, 'penalty': 'l2'}\n",
      "The accuracy on testing set is: 79.9%\n"
     ]
    }
   ],
   "source": [
    "# combined with grid search\n",
    "from sklearn.model_selection import GridSearchCV\n",
    "parameters = {'penalty': ['l2', None],\n",
    "              'alpha': [1e-07, 1e-06, 1e-05, 1e-04],\n",
    "              'eta0': [0.01, 0.1, 1, 10]}\n",
    "\n",
    "sgd_lr = SGDClassifier(loss='log', learning_rate='constant', eta0=0.01, fit_intercept=True)\n",
    "\n",
    "grid_search = GridSearchCV(sgd_lr, parameters, n_jobs=-1, cv=3)\n",
    "\n",
    "grid_search.fit(term_docs_train, label_train)\n",
    "print(grid_search.best_params_)\n",
    "\n",
    "sgd_lr_best = grid_search.best_estimator_\n",
    "accuracy = sgd_lr_best.score(term_docs_test, label_test)\n",
    "print('The accuracy on testing set is: {0:.1f}%'.format(accuracy*100))"
   ]
  },
  {
   "cell_type": "code",
   "execution_count": null,
   "id": "da798436",
   "metadata": {},
   "outputs": [],
   "source": []
  }
 ],
 "metadata": {
  "kernelspec": {
   "display_name": "Python 3 (ipykernel)",
   "language": "python",
   "name": "python3"
  },
  "language_info": {
   "codemirror_mode": {
    "name": "ipython",
    "version": 3
   },
   "file_extension": ".py",
   "mimetype": "text/x-python",
   "name": "python",
   "nbconvert_exporter": "python",
   "pygments_lexer": "ipython3",
   "version": "3.9.7"
  }
 },
 "nbformat": 4,
 "nbformat_minor": 5
}
