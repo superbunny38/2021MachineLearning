{
 "cells": [
  {
   "cell_type": "markdown",
   "id": "9ebc53c3",
   "metadata": {},
   "source": [
    "# Get Data (Use all 20 categories)"
   ]
  },
  {
   "cell_type": "code",
   "execution_count": 2,
   "id": "8367976b",
   "metadata": {},
   "outputs": [],
   "source": [
    "from sklearn.datasets import fetch_20newsgroups\n",
    "from sklearn.feature_extraction.text import TfidfVectorizer\n",
    "\n",
    "data_train = fetch_20newsgroups(subset='train',categories=None, random_state=42)\n",
    "data_test = fetch_20newsgroups(subset='test',categories=None,random_state=42)"
   ]
  },
  {
   "cell_type": "code",
   "execution_count": 3,
   "id": "9e3a9d4b",
   "metadata": {},
   "outputs": [
    {
     "name": "stderr",
     "output_type": "stream",
     "text": [
      "[nltk_data] Downloading package names to\n",
      "[nltk_data]     C:\\Users\\KIST\\AppData\\Roaming\\nltk_data...\n",
      "[nltk_data]   Package names is already up-to-date!\n",
      "[nltk_data] Downloading package wordnet to\n",
      "[nltk_data]     C:\\Users\\KIST\\AppData\\Roaming\\nltk_data...\n",
      "[nltk_data]   Package wordnet is already up-to-date!\n"
     ]
    },
    {
     "data": {
      "text/plain": [
       "True"
      ]
     },
     "execution_count": 3,
     "metadata": {},
     "output_type": "execute_result"
    }
   ],
   "source": [
    "import nltk\n",
    "nltk.download('names')\n",
    "nltk.download('wordnet')"
   ]
  },
  {
   "cell_type": "code",
   "execution_count": 11,
   "id": "5ad328a8",
   "metadata": {},
   "outputs": [],
   "source": [
    "from nltk.corpus import names\n",
    "from nltk.stem import WordNetLemmatizer\n",
    "\n",
    "all_names= set(names.words())\n",
    "lemmatizer = WordNetLemmatizer()\n",
    "\n",
    "def clean_text(docs):\n",
    "    cleaned_docs = []\n",
    "    for doc in docs:\n",
    "        lemmatized_list = [lemmatizer.lemmatize(word.lower()) for word in doc.split() if word.isalpha() and word not in all_names]\n",
    "        cleaned_docs.append(' '.join(lemmatized_list))\n",
    "    return cleaned_docs"
   ]
  },
  {
   "cell_type": "code",
   "execution_count": 12,
   "id": "c34ccc0c",
   "metadata": {},
   "outputs": [
    {
     "data": {
      "text/plain": [
       "(11314, 7532)"
      ]
     },
     "execution_count": 12,
     "metadata": {},
     "output_type": "execute_result"
    }
   ],
   "source": [
    "cleaned_train,label_train = clean_text(data_train.data),data_train.target\n",
    "cleaned_test,label_test = clean_text(data_test.data), data_test.target\n",
    "\n",
    "len(label_train),len(label_test)"
   ]
  },
  {
   "cell_type": "markdown",
   "id": "7d4d4caa",
   "metadata": {},
   "source": [
    "TF-Idf로 추출"
   ]
  },
  {
   "cell_type": "code",
   "execution_count": 14,
   "id": "9213bd2e",
   "metadata": {},
   "outputs": [],
   "source": [
    "from sklearn.feature_extraction.text import TfidfVectorizer\n",
    "tfidf_vectorizer = TfidfVectorizer(sublinear_tf=True, max_df = 0.5, stop_words='english',max_features=8000)\n",
    "term_docs_train = tfidf_vectorizer.fit_transform(cleaned_train)\n",
    "term_docs_test = tfidf_vectorizer.transform(cleaned_test)"
   ]
  },
  {
   "cell_type": "code",
   "execution_count": 15,
   "id": "41d81e94",
   "metadata": {},
   "outputs": [],
   "source": [
    "from sklearn.svm import SVC\n",
    "svc_libsvbm  = SVC(kernel = 'linear')"
   ]
  },
  {
   "cell_type": "markdown",
   "id": "49656150",
   "metadata": {},
   "source": [
    "## 하이퍼파라미터 찾기\n",
    "\n",
    "GridSearchCV 사용"
   ]
  },
  {
   "cell_type": "code",
   "execution_count": 19,
   "id": "7e05acf5",
   "metadata": {},
   "outputs": [
    {
     "data": {
      "text/plain": [
       "GridSearchCV(cv=3, estimator=SVC(kernel='linear'), n_jobs=-1,\n",
       "             param_grid={'C': (0.1, 1, 10, 100)})"
      ]
     },
     "execution_count": 19,
     "metadata": {},
     "output_type": "execute_result"
    }
   ],
   "source": [
    "from sklearn.model_selection import GridSearchCV\n",
    "parameters = {'C':(0.1,1,10,100)}\n",
    "grid_search = GridSearchCV(svc_libsvbm,parameters,n_jobs=-1,cv = 3)#n_jobs = -1: 병렬 수행에 모든 코어 수 사용 cv: 교차 검증 k값\n",
    "grid_search"
   ]
  },
  {
   "cell_type": "code",
   "execution_count": 20,
   "id": "d659736a",
   "metadata": {},
   "outputs": [
    {
     "name": "stdout",
     "output_type": "stream",
     "text": [
      "--- 136.210s seconds ---\n"
     ]
    }
   ],
   "source": [
    "import timeit\n",
    "start_time = timeit.default_timer()\n",
    "grid_search.fit(term_docs_train, label_train)\n",
    "print(f'--- %0.3fs seconds ---'%(timeit.default_timer()-start_time))#시간 오래 걸림..."
   ]
  },
  {
   "cell_type": "code",
   "execution_count": 21,
   "id": "88bb203f",
   "metadata": {},
   "outputs": [
    {
     "data": {
      "text/plain": [
       "{'C': 10}"
      ]
     },
     "execution_count": 21,
     "metadata": {},
     "output_type": "execute_result"
    }
   ],
   "source": [
    "grid_search.best_params_"
   ]
  },
  {
   "cell_type": "code",
   "execution_count": 25,
   "id": "299903d0",
   "metadata": {},
   "outputs": [
    {
     "data": {
      "text/plain": [
       "0.8666260504741258"
      ]
     },
     "execution_count": 25,
     "metadata": {},
     "output_type": "execute_result"
    }
   ],
   "source": [
    "grid_search.best_score_"
   ]
  },
  {
   "cell_type": "markdown",
   "id": "3fe3bd3d",
   "metadata": {},
   "source": [
    "## 테스트 데이터에 대한 최종 성능 평가"
   ]
  },
  {
   "cell_type": "code",
   "execution_count": 26,
   "id": "055a27bc",
   "metadata": {},
   "outputs": [],
   "source": [
    "svc_libsvm_best = grid_search.best_estimator_"
   ]
  },
  {
   "cell_type": "code",
   "execution_count": 31,
   "id": "275249d4",
   "metadata": {},
   "outputs": [
    {
     "name": "stdout",
     "output_type": "stream",
     "text": [
      "The accuracy on testing set: 76.2%\n"
     ]
    }
   ],
   "source": [
    "accuracy = svc_libsvm_best.score(term_docs_test,label_test)\n",
    "print(\"The accuracy on testing set: {0:.1f}%\".format(accuracy*100))"
   ]
  },
  {
   "cell_type": "markdown",
   "id": "4513f846",
   "metadata": {},
   "source": [
    "## 더 다양한 파이프라인 고려하기"
   ]
  },
  {
   "cell_type": "code",
   "execution_count": 32,
   "id": "81e6fd80",
   "metadata": {},
   "outputs": [],
   "source": [
    "from sklearn.pipeline import Pipeline\n",
    "pipeline = Pipeline([\n",
    "    ('tfidf',TfidfVectorizer(stop_words='english')),\n",
    "    ('svc',SVC(kernel = 'linear'))\n",
    "])"
   ]
  },
  {
   "cell_type": "code",
   "execution_count": 33,
   "id": "94ff008e",
   "metadata": {},
   "outputs": [],
   "source": [
    "parameters_pipeline = {\n",
    "    'tfidf__max_df':(0.25,0.5),\n",
    "    'tfidf__max_features':(40000,50000),\n",
    "    'tfidf__sublinear_tf':(True,False),\n",
    "    'tfidf__smooth_idf':(True,False),\n",
    "    'svc__C':(0.1,1,10,100),\n",
    "}"
   ]
  },
  {
   "cell_type": "code",
   "execution_count": null,
   "id": "6148325a",
   "metadata": {},
   "outputs": [],
   "source": [
    "import timeit\n",
    "grid_search = GridSearchCV(pipeline,parameters_pipeline,n_jobs=-1,cv = 3)\n",
    "start_time = timeit.default_timer()\n",
    "grid_search.fit(cleaned_train, label_train)\n",
    "print(f'--- %0.3fs seconds ---'%(timeit.default_timer()-start_time))#시간 오래 걸림..."
   ]
  },
  {
   "cell_type": "code",
   "execution_count": null,
   "id": "e28e165c",
   "metadata": {},
   "outputs": [],
   "source": [
    "grid_search.best_params_"
   ]
  },
  {
   "cell_type": "code",
   "execution_count": null,
   "id": "dbeae597",
   "metadata": {},
   "outputs": [],
   "source": [
    "grid_search.best_score_"
   ]
  },
  {
   "cell_type": "code",
   "execution_count": null,
   "id": "8b343848",
   "metadata": {},
   "outputs": [],
   "source": [
    "pipeline_best = grid_search.best_estimator_"
   ]
  },
  {
   "cell_type": "code",
   "execution_count": null,
   "id": "0b24a9e2",
   "metadata": {},
   "outputs": [],
   "source": [
    "accuracy = pipeline_best.score(term_docs_test,label_test)\n",
    "print(\"The accuracy on testing set: {0:.1f}%\".format(accuracy*100))"
   ]
  }
 ],
 "metadata": {
  "kernelspec": {
   "display_name": "Python 3 (ipykernel)",
   "language": "python",
   "name": "python3"
  },
  "language_info": {
   "codemirror_mode": {
    "name": "ipython",
    "version": 3
   },
   "file_extension": ".py",
   "mimetype": "text/x-python",
   "name": "python",
   "nbconvert_exporter": "python",
   "pygments_lexer": "ipython3",
   "version": "3.9.7"
  }
 },
 "nbformat": 4,
 "nbformat_minor": 5
}
