{
 "cells": [
  {
   "cell_type": "markdown",
   "id": "23402983",
   "metadata": {},
   "source": [
    "# 데이터 불러오기"
   ]
  },
  {
   "cell_type": "code",
   "execution_count": 6,
   "id": "eda96410",
   "metadata": {
    "scrolled": true
   },
   "outputs": [
    {
     "name": "stderr",
     "output_type": "stream",
     "text": [
      "  % Total    % Received % Xferd  Average Speed   Time    Time     Time  Current\n",
      "                                 Dload  Upload   Total   Spent    Left  Speed\n",
      "\n",
      "  0     0    0     0    0     0      0      0 --:--:-- --:--:-- --:--:--     0\n",
      "  0 1760k    0 11445    0     0  12014      0  0:02:30 --:--:--  0:02:30 12022\n",
      "  3 1760k    3 61085    0     0  27866      0  0:01:04  0:00:02  0:01:02 27879\n",
      " 10 1760k   10  183k    0     0  59766      0  0:00:30  0:00:03  0:00:27 59791\n",
      " 18 1760k   18  331k    0     0  83597      0  0:00:21  0:00:04  0:00:17 83627\n",
      " 27 1760k   27  477k    0     0  97586      0  0:00:18  0:00:05  0:00:13 97616\n",
      " 37 1760k   37  659k    0     0   110k      0  0:00:15  0:00:05  0:00:10  129k\n",
      " 45 1760k   45  803k    0     0   113k      0  0:00:15  0:00:07  0:00:08  152k\n",
      " 62 1760k   62 1094k    0     0   134k      0  0:00:13  0:00:08  0:00:05  183k\n",
      " 78 1760k   78 1381k    0     0   147k      0  0:00:11  0:00:09  0:00:02  198k\n",
      " 80 1760k   80 1414k    0     0   138k      0  0:00:12  0:00:10  0:00:02  179k\n",
      " 83 1760k   83 1474k    0     0   132k      0  0:00:13  0:00:11  0:00:02  157k\n",
      " 89 1760k   89 1576k    0     0   131k      0  0:00:13  0:00:12  0:00:01  156k\n",
      "100 1760k  100 1760k    0     0   139k      0  0:00:12  0:00:12 --:--:--  148k\n"
     ]
    }
   ],
   "source": [
    "! curl http://nlp.cs.aueb.gr/software_and_datasets/Enron-Spam/preprocessed/enron1.tar.gz --output enron1.tar.gz"
   ]
  },
  {
   "cell_type": "code",
   "execution_count": 7,
   "id": "0cb0dc6b",
   "metadata": {},
   "outputs": [],
   "source": [
    "!tar -xf enron1.tar.gz enron1"
   ]
  },
  {
   "cell_type": "code",
   "execution_count": 13,
   "id": "cd7bd630",
   "metadata": {},
   "outputs": [
    {
     "data": {
      "text/plain": [
       "['.ipynb_checkpoints', 'AndrewNg', 'enron1', 'enron1.tar.gz', 'NB.ipynb']"
      ]
     },
     "execution_count": 13,
     "metadata": {},
     "output_type": "execute_result"
    }
   ],
   "source": [
    "import os\n",
    "os.listdir('./')"
   ]
  },
  {
   "cell_type": "code",
   "execution_count": 14,
   "id": "07688834",
   "metadata": {},
   "outputs": [
    {
     "data": {
      "text/plain": [
       "['ham', 'spam', 'Summary.txt']"
      ]
     },
     "execution_count": 14,
     "metadata": {},
     "output_type": "execute_result"
    }
   ],
   "source": [
    "os.listdir('./enron1')"
   ]
  },
  {
   "cell_type": "code",
   "execution_count": 15,
   "id": "04ea3c93",
   "metadata": {},
   "outputs": [
    {
     "name": "stderr",
     "output_type": "stream",
     "text": [
      "'cat'은(는) 내부 또는 외부 명령, 실행할 수 있는 프로그램, 또는\n",
      "배치 파일이 아닙니다.\n"
     ]
    }
   ],
   "source": [
    "!cat ./enron1/Summary.txt"
   ]
  },
  {
   "cell_type": "code",
   "execution_count": 18,
   "id": "ae9cc7e3",
   "metadata": {},
   "outputs": [],
   "source": [
    "import glob,os\n",
    "emails,labels = [],[]\n",
    "partition = 0\n",
    "\n",
    "file_path = \"./enron1/spam/\"\n",
    "\n",
    "for fname in glob.glob(os.path.join(file_path,\"*.txt\")):\n",
    "    with open(fname,'r',encoding=\"ISO-8859-1\") as f:\n",
    "        emails.append(f.read())\n",
    "        labels.append(1)\n",
    "file_path = \"./enron1/ham/\"\n",
    "\n",
    "for fname in glob.glob(os.path.join(file_path,'*.txt')):\n",
    "    with open(fname,'r',encoding=\"ISO-8859-1\") as f:\n",
    "        emails.append(f.read())\n",
    "        labels.append(0)"
   ]
  },
  {
   "cell_type": "code",
   "execution_count": 20,
   "id": "ba9d66ad",
   "metadata": {},
   "outputs": [
    {
     "name": "stdout",
     "output_type": "stream",
     "text": [
      "number of emails 5172\n",
      "number of labels == 5172\n"
     ]
    }
   ],
   "source": [
    "print(\"number of emails {}\\nnumber of labels == {}\".format(len(emails),len(labels)))"
   ]
  },
  {
   "cell_type": "code",
   "execution_count": 21,
   "id": "b4c7ca8e",
   "metadata": {},
   "outputs": [
    {
     "data": {
      "text/plain": [
       "'Subject: dobmeos with hgh my energy level has gone up ! stukm\\nintroducing\\ndoctor - formulated\\nhgh\\nhuman growth hormone - also called hgh\\nis referred to in medical science as the master hormone . it is very plentiful\\nwhen we are young , but near the age of twenty - one our bodies begin to produce\\nless of it . by the time we are forty nearly everyone is deficient in hgh ,\\nand at eighty our production has normally diminished at least 90 - 95 % .\\nadvantages of hgh :\\n- increased muscle strength\\n- loss in body fat\\n- increased bone density\\n- lower blood pressure\\n- quickens wound healing\\n- reduces cellulite\\n- improved vision\\n- wrinkle disappearance\\n- increased skin thickness texture\\n- increased energy levels\\n- improved sleep and emotional stability\\n- improved memory and mental alertness\\n- increased sexual potency\\n- resistance to common illness\\n- strengthened heart muscle\\n- controlled cholesterol\\n- controlled mood swings\\n- new hair growth and color restore\\nread\\nmore at this website\\nunsubscribe\\n'"
      ]
     },
     "execution_count": 21,
     "metadata": {},
     "output_type": "execute_result"
    }
   ],
   "source": [
    "emails[0]"
   ]
  },
  {
   "cell_type": "markdown",
   "id": "853908ae",
   "metadata": {},
   "source": [
    "# 데이터 전처리\n",
    "\n",
    "- 숫자와 구두점 표기 제거\n",
    "- 사람 이름 제거\n",
    "- 불용어 (Stop word) 제거\n",
    "- 표제어 원형 복원"
   ]
  },
  {
   "cell_type": "code",
   "execution_count": 22,
   "id": "a41c990e",
   "metadata": {},
   "outputs": [],
   "source": [
    "def letters_only(word):\n",
    "    return word.isalpha()"
   ]
  },
  {
   "cell_type": "code",
   "execution_count": 23,
   "id": "dc16ef4d",
   "metadata": {},
   "outputs": [
    {
     "name": "stderr",
     "output_type": "stream",
     "text": [
      "[nltk_data] Downloading package names to\n",
      "[nltk_data]     C:\\Users\\KIST\\AppData\\Roaming\\nltk_data...\n",
      "[nltk_data]   Unzipping corpora\\names.zip.\n",
      "[nltk_data] Downloading package wordnet to\n",
      "[nltk_data]     C:\\Users\\KIST\\AppData\\Roaming\\nltk_data...\n"
     ]
    },
    {
     "data": {
      "text/plain": [
       "True"
      ]
     },
     "execution_count": 23,
     "metadata": {},
     "output_type": "execute_result"
    }
   ],
   "source": [
    "import nltk\n",
    "nltk.download('names')\n",
    "nltk.download('wordnet')"
   ]
  },
  {
   "cell_type": "code",
   "execution_count": 25,
   "id": "9075237f",
   "metadata": {},
   "outputs": [
    {
     "name": "stderr",
     "output_type": "stream",
     "text": [
      "ERROR: Could not find a version that satisfies the requirement nltk_corpus (from versions: none)\n",
      "ERROR: No matching distribution found for nltk_corpus\n"
     ]
    }
   ],
   "source": [
    "!pip install nltk_corpus"
   ]
  },
  {
   "cell_type": "code",
   "execution_count": 27,
   "id": "98820ae6",
   "metadata": {},
   "outputs": [],
   "source": [
    "from nltk.corpus import names\n",
    "all_names = set(names.words())"
   ]
  },
  {
   "cell_type": "code",
   "execution_count": 30,
   "id": "e229f153",
   "metadata": {},
   "outputs": [],
   "source": [
    "from nltk.stem import WordNetLemmatizer\n",
    "lemmatizer = WordNetLemmatizer()"
   ]
  },
  {
   "cell_type": "code",
   "execution_count": 50,
   "id": "f2da956e",
   "metadata": {},
   "outputs": [],
   "source": [
    "def clean_text(doc):\n",
    "    cleaned_doc = []\n",
    "    for word in doc.split(' '):\n",
    "        word = word.lower()\n",
    "        \n",
    "        if letters_only(word) and word not in all_names and len(word)>2:#remove nmber and punc. an dname entity\n",
    "            cleaned_doc.append(lemmatizer.lemmatize(word))\n",
    "    return \" \".join(cleaned_doc)\n",
    "\n",
    "cleaned_emails = [clean_text(doc) for doc in emails]"
   ]
  },
  {
   "cell_type": "code",
   "execution_count": 51,
   "id": "a5337046",
   "metadata": {},
   "outputs": [
    {
     "data": {
      "text/plain": [
       "'your prescription ready oxwq cost prescription ultram adipex vicodin many online and your door our licensed physician will write approved prescription for you and ship overnight via licensed pharmacy your doorstep fast and secure here thanks please take off your'"
      ]
     },
     "execution_count": 51,
     "metadata": {},
     "output_type": "execute_result"
    }
   ],
   "source": [
    "cleaned_emails[1]"
   ]
  },
  {
   "cell_type": "code",
   "execution_count": 52,
   "id": "0134c65c",
   "metadata": {},
   "outputs": [],
   "source": [
    "from sklearn.model_selection import train_test_split\n",
    "X_train,X_test,Y_train,Y_test = train_test_split(cleaned_emails,labels, test_size=0.33, random_state=0)"
   ]
  },
  {
   "cell_type": "markdown",
   "id": "61304538",
   "metadata": {},
   "source": [
    "vectorization 진행"
   ]
  },
  {
   "cell_type": "code",
   "execution_count": 53,
   "id": "1ed1db44",
   "metadata": {},
   "outputs": [],
   "source": [
    "from sklearn.feature_extraction.text import CountVectorizer\n",
    "cv = CountVectorizer(stop_words='english',max_features=500)\n",
    "term_docs_train = cv.fit_transform(X_train)\n",
    "term_docs_test = cv.transform(X_test)"
   ]
  },
  {
   "cell_type": "code",
   "execution_count": 55,
   "id": "ff1ba989",
   "metadata": {},
   "outputs": [
    {
     "data": {
      "text/plain": [
       "<1x500 sparse matrix of type '<class 'numpy.int64'>'\n",
       "\twith 13 stored elements in Compressed Sparse Row format>"
      ]
     },
     "execution_count": 55,
     "metadata": {},
     "output_type": "execute_result"
    }
   ],
   "source": [
    "term_docs_train[5]#원래 출력되어야함.."
   ]
  },
  {
   "cell_type": "code",
   "execution_count": 56,
   "id": "e6e6fc72",
   "metadata": {},
   "outputs": [],
   "source": [
    "feature_names = cv.get_feature_names()"
   ]
  },
  {
   "cell_type": "code",
   "execution_count": 57,
   "id": "472a6965",
   "metadata": {},
   "outputs": [
    {
     "data": {
      "text/plain": [
       "'advice'"
      ]
     },
     "execution_count": 57,
     "metadata": {},
     "output_type": "execute_result"
    }
   ],
   "source": [
    "feature_names[12]"
   ]
  },
  {
   "cell_type": "markdown",
   "id": "8cafaced",
   "metadata": {},
   "source": [
    "# NB 모델 학습"
   ]
  },
  {
   "cell_type": "code",
   "execution_count": 58,
   "id": "8429cf68",
   "metadata": {},
   "outputs": [],
   "source": [
    "from sklearn.naive_bayes import MultinomialNB\n",
    "clf = MultinomialNB(alpha = 1.0, fit_prior=True)#alpha: smoothing factor"
   ]
  },
  {
   "cell_type": "code",
   "execution_count": 59,
   "id": "5a80b780",
   "metadata": {
    "scrolled": true
   },
   "outputs": [
    {
     "data": {
      "text/plain": [
       "MultinomialNB()"
      ]
     },
     "execution_count": 59,
     "metadata": {},
     "output_type": "execute_result"
    }
   ],
   "source": [
    "clf.fit(term_docs_train,Y_train)"
   ]
  },
  {
   "cell_type": "markdown",
   "id": "11b7b34d",
   "metadata": {},
   "source": [
    "# NB 모델 Inference"
   ]
  },
  {
   "cell_type": "code",
   "execution_count": 60,
   "id": "c71af8f7",
   "metadata": {},
   "outputs": [
    {
     "data": {
      "text/plain": [
       "array([[1.00000000e+00, 4.64142239e-16],\n",
       "       [3.08855042e-01, 6.91144958e-01],\n",
       "       [1.48462350e-12, 1.00000000e+00],\n",
       "       ...,\n",
       "       [1.00000000e+00, 2.38735388e-22],\n",
       "       [1.01028546e-03, 9.98989715e-01],\n",
       "       [1.00000000e+00, 1.14973800e-17]])"
      ]
     },
     "execution_count": 60,
     "metadata": {},
     "output_type": "execute_result"
    }
   ],
   "source": [
    "predict_prob = clf.predict_proba(term_docs_test)\n",
    "predict_prob#0에 대한 확률, 1에 대한 확률"
   ]
  },
  {
   "cell_type": "markdown",
   "id": "eb8047ba",
   "metadata": {},
   "source": [
    "계산된 확률 값에 기반해 최종 예측 결과값 생성\n",
    "\n",
    "Threshold: 0.5"
   ]
  },
  {
   "cell_type": "code",
   "execution_count": 62,
   "id": "4acfa2f7",
   "metadata": {},
   "outputs": [],
   "source": [
    "prediction = clf.predict(term_docs_test)"
   ]
  },
  {
   "cell_type": "code",
   "execution_count": 63,
   "id": "b864183b",
   "metadata": {},
   "outputs": [
    {
     "data": {
      "text/plain": [
       "array([0, 1, 1, 0, 0, 0, 0, 0, 1, 0])"
      ]
     },
     "execution_count": 63,
     "metadata": {},
     "output_type": "execute_result"
    }
   ],
   "source": [
    "prediction[:10]"
   ]
  },
  {
   "cell_type": "code",
   "execution_count": 64,
   "id": "9b11c780",
   "metadata": {},
   "outputs": [],
   "source": [
    "accuray = clf.score(term_docs_test,Y_test)"
   ]
  },
  {
   "cell_type": "code",
   "execution_count": 65,
   "id": "bf1dc89d",
   "metadata": {},
   "outputs": [
    {
     "data": {
      "text/plain": [
       "0.8998242530755711"
      ]
     },
     "execution_count": 65,
     "metadata": {},
     "output_type": "execute_result"
    }
   ],
   "source": [
    "accuray"
   ]
  }
 ],
 "metadata": {
  "kernelspec": {
   "display_name": "Python 3 (ipykernel)",
   "language": "python",
   "name": "python3"
  },
  "language_info": {
   "codemirror_mode": {
    "name": "ipython",
    "version": 3
   },
   "file_extension": ".py",
   "mimetype": "text/x-python",
   "name": "python",
   "nbconvert_exporter": "python",
   "pygments_lexer": "ipython3",
   "version": "3.9.7"
  }
 },
 "nbformat": 4,
 "nbformat_minor": 5
}
