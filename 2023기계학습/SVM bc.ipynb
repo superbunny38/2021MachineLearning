{
 "cells": [
  {
   "cell_type": "markdown",
   "id": "0d262aba",
   "metadata": {},
   "source": [
    "# Import datasets"
   ]
  },
  {
   "cell_type": "code",
   "execution_count": 1,
   "id": "784f7488",
   "metadata": {},
   "outputs": [],
   "source": [
    "from sklearn.datasets import fetch_20newsgroups"
   ]
  },
  {
   "cell_type": "code",
   "execution_count": 2,
   "id": "772a0eb9",
   "metadata": {},
   "outputs": [],
   "source": [
    "categories = ['comp.graphics', 'sci.space']\n",
    "data_train = fetch_20newsgroups(subset='train',\n",
    "                               categories=categories,\n",
    "                               random_state = 42)\n",
    "data_test = fetch_20newsgroups(subset='test',\n",
    "                              categories=categories,\n",
    "                              random_state=42)"
   ]
  },
  {
   "cell_type": "code",
   "execution_count": 3,
   "id": "8cd571e4",
   "metadata": {},
   "outputs": [
    {
     "name": "stderr",
     "output_type": "stream",
     "text": [
      "[nltk_data] Downloading package names to\n",
      "[nltk_data]     C:\\Users\\KIST\\AppData\\Roaming\\nltk_data...\n",
      "[nltk_data]   Package names is already up-to-date!\n",
      "[nltk_data] Downloading package wordnet to\n",
      "[nltk_data]     C:\\Users\\KIST\\AppData\\Roaming\\nltk_data...\n",
      "[nltk_data]   Package wordnet is already up-to-date!\n"
     ]
    },
    {
     "data": {
      "text/plain": [
       "True"
      ]
     },
     "execution_count": 3,
     "metadata": {},
     "output_type": "execute_result"
    }
   ],
   "source": [
    "import nltk\n",
    "nltk.download(\"names\")\n",
    "nltk.download(\"wordnet\")"
   ]
  },
  {
   "cell_type": "markdown",
   "id": "bcd1d6dd",
   "metadata": {},
   "source": [
    "# Data Preprocessing"
   ]
  },
  {
   "cell_type": "code",
   "execution_count": 4,
   "id": "f7f603f4",
   "metadata": {},
   "outputs": [],
   "source": [
    "from nltk.corpus import names\n",
    "from nltk.stem import WordNetLemmatizer\n",
    "\n",
    "all_names = set(names.words())\n",
    "lemmatizer = WordNetLemmatizer()\n",
    "\n",
    "def clean_text(docs):\n",
    "    cleaned_docs = []\n",
    "    for doc in docs:\n",
    "        lemmatized_list = [lemmatizer.lemmatize(word.lower()) for word in doc.split() if word.isalpha() and word not in all_names]\n",
    "        cleaned_docs.append(' '.join(lemmatized_list))\n",
    "    return cleaned_docs"
   ]
  },
  {
   "cell_type": "code",
   "execution_count": 5,
   "id": "8a1de947",
   "metadata": {},
   "outputs": [
    {
     "data": {
      "text/plain": [
       "(1177, 783)"
      ]
     },
     "execution_count": 5,
     "metadata": {},
     "output_type": "execute_result"
    }
   ],
   "source": [
    "cleaned_train = clean_text(data_train.data)\n",
    "label_train = data_train.target\n",
    "\n",
    "cleaned_test = clean_text(data_test.data)\n",
    "label_test = data_test.target\n",
    "\n",
    "len(label_train),len(label_test)"
   ]
  },
  {
   "cell_type": "code",
   "execution_count": 6,
   "id": "1d45a716",
   "metadata": {},
   "outputs": [
    {
     "data": {
      "text/plain": [
       "Counter({0: 584, 1: 593})"
      ]
     },
     "execution_count": 6,
     "metadata": {},
     "output_type": "execute_result"
    }
   ],
   "source": [
    "from collections import Counter\n",
    "Counter(label_train)"
   ]
  },
  {
   "cell_type": "code",
   "execution_count": 7,
   "id": "ce4bb5d9",
   "metadata": {},
   "outputs": [
    {
     "data": {
      "text/plain": [
       "Counter({1: 394, 0: 389})"
      ]
     },
     "execution_count": 7,
     "metadata": {},
     "output_type": "execute_result"
    }
   ],
   "source": [
    "Counter(label_test)"
   ]
  },
  {
   "cell_type": "markdown",
   "id": "271bfc56",
   "metadata": {},
   "source": [
    "# Feature Extraction"
   ]
  },
  {
   "cell_type": "code",
   "execution_count": 8,
   "id": "96d26376",
   "metadata": {},
   "outputs": [],
   "source": [
    "from sklearn.feature_extraction.text import TfidfVectorizer\n",
    "\n",
    "tfidf_vectorizer = TfidfVectorizer(stop_words='english',max_features= 8000)\n",
    "\n",
    "term_docs_train = tfidf_vectorizer.fit_transform(cleaned_train)\n",
    "term_docs_test = tfidf_vectorizer.transform(cleaned_test)"
   ]
  },
  {
   "cell_type": "code",
   "execution_count": 9,
   "id": "90ce2752",
   "metadata": {},
   "outputs": [
    {
     "data": {
      "text/plain": [
       "(1177, 8000)"
      ]
     },
     "execution_count": 9,
     "metadata": {},
     "output_type": "execute_result"
    }
   ],
   "source": [
    "term_docs_train.shape"
   ]
  },
  {
   "cell_type": "code",
   "execution_count": 10,
   "id": "3e62ab28",
   "metadata": {},
   "outputs": [
    {
     "data": {
      "text/plain": [
       "(783, 8000)"
      ]
     },
     "execution_count": 10,
     "metadata": {},
     "output_type": "execute_result"
    }
   ],
   "source": [
    "term_docs_test.shape"
   ]
  },
  {
   "cell_type": "markdown",
   "id": "559d5a2a",
   "metadata": {},
   "source": [
    "# SVM Train"
   ]
  },
  {
   "cell_type": "code",
   "execution_count": 11,
   "id": "55f78c17",
   "metadata": {},
   "outputs": [
    {
     "data": {
      "text/plain": [
       "SVC(kernel='linear', random_state=42)"
      ]
     },
     "execution_count": 11,
     "metadata": {},
     "output_type": "execute_result"
    }
   ],
   "source": [
    "from sklearn.svm import SVC\n",
    "svm = SVC(kernel=\"linear\", C = 1.0, random_state=42)\n",
    "svm.fit(term_docs_train, label_train)"
   ]
  },
  {
   "cell_type": "code",
   "execution_count": 12,
   "id": "70d20a9e",
   "metadata": {},
   "outputs": [
    {
     "name": "stdout",
     "output_type": "stream",
     "text": [
      "acc on test set: 95.9%\n"
     ]
    }
   ],
   "source": [
    "accuracy = svm.score(term_docs_test, label_test)\n",
    "print(\"acc on test set: {0:.1f}%\".format(accuracy*100))"
   ]
  }
 ],
 "metadata": {
  "kernelspec": {
   "display_name": "Python 3 (ipykernel)",
   "language": "python",
   "name": "python3"
  },
  "language_info": {
   "codemirror_mode": {
    "name": "ipython",
    "version": 3
   },
   "file_extension": ".py",
   "mimetype": "text/x-python",
   "name": "python",
   "nbconvert_exporter": "python",
   "pygments_lexer": "ipython3",
   "version": "3.9.7"
  }
 },
 "nbformat": 4,
 "nbformat_minor": 5
}
