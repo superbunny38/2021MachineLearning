{
 "cells": [
  {
   "cell_type": "markdown",
   "id": "dbd2703a",
   "metadata": {},
   "source": [
    "# 다중 클래스 데이터 준비 (5 classes)"
   ]
  },
  {
   "cell_type": "code",
   "execution_count": 1,
   "id": "6db9b89f",
   "metadata": {},
   "outputs": [],
   "source": [
    "from sklearn.datasets import fetch_20newsgroups\n",
    "from sklearn.feature_extraction.text import TfidfVectorizer\n",
    "\n",
    "categories = ['alt.atheism', 'talk.religion.misc', 'comp.graphics','sci.space','rec.sport.hockey']\n",
    "\n",
    "data_train = fetch_20newsgroups(subset='train',categories=categories, random_state=42)\n",
    "data_test = fetch_20newsgroups(subset='test',categories=categories,random_state=42)"
   ]
  },
  {
   "cell_type": "code",
   "execution_count": 2,
   "id": "a6fd2cc7",
   "metadata": {},
   "outputs": [],
   "source": [
    "from nltk.corpus import names\n",
    "from nltk.stem import WordNetLemmatizer\n",
    "\n",
    "all_names = set(names.words())\n",
    "lemmatizer = WordNetLemmatizer()\n",
    "\n",
    "def clean_text(docs):\n",
    "    cleaned_docs = []\n",
    "    for doc in docs:\n",
    "        lemmatized_list = [lemmatizer.lemmatize(word.lower()) for word in doc.split() if word.isalpha() and word not in all_names]\n",
    "        cleaned_docs.append(' '.join(lemmatized_list))\n",
    "    return cleaned_docs"
   ]
  },
  {
   "cell_type": "code",
   "execution_count": 3,
   "id": "9aa639c4",
   "metadata": {},
   "outputs": [
    {
     "data": {
      "text/plain": [
       "(2634, 1752)"
      ]
     },
     "execution_count": 3,
     "metadata": {},
     "output_type": "execute_result"
    }
   ],
   "source": [
    "cleaned_train = clean_text(data_train.data)\n",
    "label_train = data_train.target\n",
    "\n",
    "cleaned_test = clean_text(data_test.data)\n",
    "label_test = data_test.target\n",
    "\n",
    "len(label_train),len(label_test)"
   ]
  },
  {
   "cell_type": "code",
   "execution_count": 11,
   "id": "99a68adb",
   "metadata": {},
   "outputs": [],
   "source": [
    "from sklearn.feature_extraction.text import TfidfVectorizer\n",
    "\n",
    "tfidf_vectorizer = TfidfVectorizer(sublinear_tf=True,max_df=0.5,stop_words='english',max_features= 8000)\n",
    "\n",
    "term_docs_train = tfidf_vectorizer.fit_transform(cleaned_train)\n",
    "term_docs_test = tfidf_vectorizer.transform(cleaned_test)"
   ]
  },
  {
   "cell_type": "markdown",
   "id": "ec6327f9",
   "metadata": {},
   "source": [
    "# Multi-class SVM train & test"
   ]
  },
  {
   "cell_type": "code",
   "execution_count": 12,
   "id": "8d0508fc",
   "metadata": {},
   "outputs": [
    {
     "data": {
      "text/plain": [
       "SVC(kernel='linear', random_state=42)"
      ]
     },
     "execution_count": 12,
     "metadata": {},
     "output_type": "execute_result"
    }
   ],
   "source": [
    "from sklearn.svm import SVC\n",
    "svm = SVC(kernel='linear',C=1.0, random_state=42)\n",
    "svm.fit(term_docs_train,label_train)"
   ]
  },
  {
   "cell_type": "code",
   "execution_count": 13,
   "id": "81c31c3a",
   "metadata": {},
   "outputs": [],
   "source": [
    "accuray = svm.score(term_docs_test,label_test)"
   ]
  },
  {
   "cell_type": "code",
   "execution_count": 14,
   "id": "27dde49a",
   "metadata": {},
   "outputs": [
    {
     "name": "stdout",
     "output_type": "stream",
     "text": [
      "The accuracy on testing set is: 88.6%\n"
     ]
    }
   ],
   "source": [
    "print('The accuracy on testing set is: {0:.1f}%'.format(accuray*100))"
   ]
  },
  {
   "cell_type": "markdown",
   "id": "3a3a2b0a",
   "metadata": {},
   "source": [
    "# 클래스 별 정확도 평가"
   ]
  },
  {
   "cell_type": "code",
   "execution_count": 15,
   "id": "02eb96fe",
   "metadata": {},
   "outputs": [
    {
     "name": "stdout",
     "output_type": "stream",
     "text": [
      "              precision    recall  f1-score   support\n",
      "\n",
      "           0       0.81      0.77      0.79       319\n",
      "           1       0.91      0.94      0.93       389\n",
      "           2       0.98      0.96      0.97       399\n",
      "           3       0.93      0.93      0.93       394\n",
      "           4       0.73      0.76      0.74       251\n",
      "\n",
      "    accuracy                           0.89      1752\n",
      "   macro avg       0.87      0.87      0.87      1752\n",
      "weighted avg       0.89      0.89      0.89      1752\n",
      "\n"
     ]
    }
   ],
   "source": [
    "from sklearn.metrics import classification_report\n",
    "\n",
    "prediction = svm.predict(term_docs_test)\n",
    "report = classification_report(label_test,prediction)\n",
    "print(report)"
   ]
  },
  {
   "cell_type": "code",
   "execution_count": null,
   "id": "c5072cc9",
   "metadata": {},
   "outputs": [],
   "source": []
  }
 ],
 "metadata": {
  "kernelspec": {
   "display_name": "Python 3 (ipykernel)",
   "language": "python",
   "name": "python3"
  },
  "language_info": {
   "codemirror_mode": {
    "name": "ipython",
    "version": 3
   },
   "file_extension": ".py",
   "mimetype": "text/x-python",
   "name": "python",
   "nbconvert_exporter": "python",
   "pygments_lexer": "ipython3",
   "version": "3.9.7"
  }
 },
 "nbformat": 4,
 "nbformat_minor": 5
}
