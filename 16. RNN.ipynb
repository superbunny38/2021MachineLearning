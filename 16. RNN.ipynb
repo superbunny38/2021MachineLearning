{
 "cells": [
  {
   "cell_type": "code",
   "execution_count": 1,
   "id": "e9cc2b5c",
   "metadata": {},
   "outputs": [],
   "source": [
    "import pyprind\n",
    "import pandas as pd\n",
    "from string import punctuation\n",
    "import re\n",
    "import numpy as np"
   ]
  },
  {
   "cell_type": "code",
   "execution_count": 2,
   "id": "c0ab4a44",
   "metadata": {},
   "outputs": [],
   "source": [
    "df = pd.read_csv('movie_data.csv',encoding='utf-8')"
   ]
  },
  {
   "cell_type": "code",
   "execution_count": 3,
   "id": "6550b211",
   "metadata": {},
   "outputs": [],
   "source": [
    "from collections import Counter\n",
    "c = Counter()\n",
    "c.update('abc')"
   ]
  },
  {
   "cell_type": "code",
   "execution_count": 4,
   "id": "3cc9526d",
   "metadata": {},
   "outputs": [
    {
     "data": {
      "text/plain": [
       "Counter({'a': 1, 'b': 1, 'c': 1})"
      ]
     },
     "execution_count": 4,
     "metadata": {},
     "output_type": "execute_result"
    }
   ],
   "source": [
    "c"
   ]
  },
  {
   "cell_type": "code",
   "execution_count": 5,
   "id": "37e2dd1f",
   "metadata": {},
   "outputs": [
    {
     "data": {
      "text/plain": [
       "1"
      ]
     },
     "execution_count": 5,
     "metadata": {},
     "output_type": "execute_result"
    }
   ],
   "source": [
    "c['a']"
   ]
  },
  {
   "cell_type": "code",
   "execution_count": 6,
   "id": "622b5cd7",
   "metadata": {},
   "outputs": [],
   "source": [
    "c.update(['a','b'])"
   ]
  },
  {
   "cell_type": "code",
   "execution_count": 7,
   "id": "30d19101",
   "metadata": {},
   "outputs": [
    {
     "data": {
      "text/plain": [
       "Counter({'a': 2, 'b': 2, 'c': 1})"
      ]
     },
     "execution_count": 7,
     "metadata": {},
     "output_type": "execute_result"
    }
   ],
   "source": [
    "c"
   ]
  },
  {
   "cell_type": "code",
   "execution_count": 8,
   "id": "87d15c2a",
   "metadata": {},
   "outputs": [],
   "source": [
    "c.update({'c':3})"
   ]
  },
  {
   "cell_type": "code",
   "execution_count": 9,
   "id": "2a526c14",
   "metadata": {},
   "outputs": [
    {
     "data": {
      "text/plain": [
       "Counter({'a': 2, 'b': 2, 'c': 4})"
      ]
     },
     "execution_count": 9,
     "metadata": {},
     "output_type": "execute_result"
    }
   ],
   "source": [
    "c"
   ]
  },
  {
   "cell_type": "code",
   "execution_count": 12,
   "id": "424be088",
   "metadata": {},
   "outputs": [
    {
     "data": {
      "text/plain": [
       "[('c', 4)]"
      ]
     },
     "execution_count": 12,
     "metadata": {},
     "output_type": "execute_result"
    }
   ],
   "source": [
    "c.most_common(1)#가장 최빈 한 개 출력"
   ]
  },
  {
   "cell_type": "code",
   "execution_count": 13,
   "id": "ad36cedd",
   "metadata": {},
   "outputs": [
    {
     "data": {
      "text/plain": [
       "[('c', 4), ('a', 2), ('b', 2)]"
      ]
     },
     "execution_count": 13,
     "metadata": {},
     "output_type": "execute_result"
    }
   ],
   "source": [
    "c.most_common()"
   ]
  },
  {
   "cell_type": "code",
   "execution_count": 14,
   "id": "53e80640",
   "metadata": {},
   "outputs": [
    {
     "data": {
      "text/plain": [
       "[('c', 4), ('a', 2)]"
      ]
     },
     "execution_count": 14,
     "metadata": {},
     "output_type": "execute_result"
    }
   ],
   "source": [
    "c.most_common(2)#최빈값 2개 출력"
   ]
  },
  {
   "cell_type": "code",
   "execution_count": 17,
   "id": "cb141b8c",
   "metadata": {},
   "outputs": [
    {
     "name": "stderr",
     "output_type": "stream",
     "text": [
      "단어의 등장 횟수를 카운트합니다\n",
      "0% [##############################] 100% | ETA: 00:00:00\n",
      "Total time elapsed: 00:06:24\n"
     ]
    }
   ],
   "source": [
    "#데이터 전처리\n",
    "#단어를 나누고 등장 횟수를 카운트함\n",
    "from collections import Counter#원소를 카운트하여 딕셔너리에 저장\n",
    "counts = Counter()\n",
    "pbar = pyprind.ProgBar(len(df['review']),\n",
    "                      title = '단어의 등장 횟수를 카운트합니다')\n",
    "\n",
    "for i, review in enumerate(df['review']):\n",
    "    text = ''.join([c if c not in punctuation else ' '+c+' '\n",
    "                   for c in review] ).lower()\n",
    "    df.loc[i, 'review'] = text\n",
    "    pbar.update()\n",
    "    counts.update(text.split())"
   ]
  },
  {
   "cell_type": "code",
   "execution_count": 19,
   "id": "788be459",
   "metadata": {},
   "outputs": [
    {
     "name": "stdout",
     "output_type": "stream",
     "text": [
      "['the', '.', ',', 'and', 'a']\n"
     ]
    }
   ],
   "source": [
    "#고유한 각 단어를 정수로 매핑하는\n",
    "#딕셔너리 생성\n",
    "word_counts = sorted(counts, key=counts.get, reverse = True)\n",
    "print(word_counts[:5])\n",
    "word_to_int = {word:ii for ii,word in\n",
    "              enumerate(word_counts,1)}#전체 리뷰 텍스트를 정수리스트로 변환"
   ]
  },
  {
   "cell_type": "code",
   "execution_count": 21,
   "id": "0a42d3c5",
   "metadata": {},
   "outputs": [
    {
     "name": "stderr",
     "output_type": "stream",
     "text": [
      "리뷰를 정수로 매핑합니다\n",
      "0% [##############################] 100% | ETA: 00:00:00\n",
      "Total time elapsed: 00:00:10\n"
     ]
    }
   ],
   "source": [
    "mapped_reviews = []\n",
    "pbar = pyprind.ProgBar(len(df['review']),\n",
    "                      title = '리뷰를 정수로 매핑합니다')\n",
    "for review in df['review']:\n",
    "    mapped_reviews.append([word_to_int[word]\n",
    "                          for word in review.split()])\n",
    "    pbar.update()"
   ]
  },
  {
   "cell_type": "code",
   "execution_count": 22,
   "id": "6ca1f85e",
   "metadata": {},
   "outputs": [],
   "source": [
    "#동일 길이의 시퀀스를 만듭니다\n",
    "#시퀀스 길이가 200보다 작으면 왼쪽에 0이 패딩됩니다\n",
    "#시퀀스 길이가 200보다 크면 마지막 200개 원소만 사용합니다(첫 원소들 잘림)\n",
    "#데이터셋 전처리\n",
    "\n",
    "sequence_length = 200#RNN 시퀀스 길이\n",
    "sequences = np.zeros((len(mapped_reviews), sequence_length),\n",
    "                    dtype=int)#0으로 채우기\n",
    "\n",
    "for i, row in enumerate(mapped_reviews):\n",
    "    review_arr = np.array(row)\n",
    "    sequences[i, -len(row):] = review_arr[-sequence_length:]#동일한 길이의 시퀀스 만들기"
   ]
  },
  {
   "cell_type": "code",
   "execution_count": 23,
   "id": "17cc1094",
   "metadata": {},
   "outputs": [],
   "source": [
    "#훈련 세트와 테스트 세트로 나눔\n",
    "X_train = sequences[:37500,:]#75% 훈련세트\n",
    "y_train = df.loc[:37499, 'sentiment'].values\n",
    "X_test = sequences[37500:,:]#25% 테스트 세트\n",
    "y_test = df.loc[37500:, 'sentiment'].values"
   ]
  },
  {
   "cell_type": "code",
   "execution_count": 24,
   "id": "57b550de",
   "metadata": {},
   "outputs": [
    {
     "name": "stdout",
     "output_type": "stream",
     "text": [
      "(37500, 200) (37500,) (12500, 200) (12500,)\n"
     ]
    }
   ],
   "source": [
    "#크기 확인\n",
    "print(X_train.shape, y_train.shape, X_test.shape, y_test.shape)"
   ]
  },
  {
   "cell_type": "code",
   "execution_count": 25,
   "id": "9d1baefc",
   "metadata": {},
   "outputs": [
    {
     "name": "stdout",
     "output_type": "stream",
     "text": [
      "102967\n"
     ]
    }
   ],
   "source": [
    "#딕셔너리 크기 확인\n",
    "n_words = len(word_to_int)+1#딕셔너리 크기 확인\n",
    "print(n_words)"
   ]
  },
  {
   "cell_type": "code",
   "execution_count": 26,
   "id": "325bd928",
   "metadata": {},
   "outputs": [],
   "source": [
    "#임베딩: 데이터셋에 있는 필터를 표현하는데 중요한 특성을 자동으로 학습 가능\n",
    "from tensorflow.keras import modelsls, layers\n",
    "model = models.Sequential()"
   ]
  },
  {
   "cell_type": "code",
   "execution_count": 27,
   "id": "a95aab2c",
   "metadata": {},
   "outputs": [],
   "source": [
    "#임베딩층 추가\n",
    "model.add(layers.Embedding(n_words, 200,#어휘 사전의 크기, 출력 차원\n",
    "                          embeddings_regularizer = 'l2'))#L2 규제"
   ]
  },
  {
   "cell_type": "code",
   "execution_count": 29,
   "id": "2fa758b4",
   "metadata": {},
   "outputs": [
    {
     "name": "stdout",
     "output_type": "stream",
     "text": [
      "Model: \"sequential\"\n",
      "_________________________________________________________________\n",
      "Layer (type)                 Output Shape              Param #   \n",
      "=================================================================\n",
      "embedding (Embedding)        (None, None, 200)         20593400  \n",
      "=================================================================\n",
      "Total params: 20,593,400\n",
      "Trainable params: 20,593,400\n",
      "Non-trainable params: 0\n",
      "_________________________________________________________________\n"
     ]
    }
   ],
   "source": [
    "#모델 구조 출력\n",
    "model.summary()#임베딩의 출력은 3차원 텐서(배치 차원, 타임 스템, 임베딩 벡터의 차원)"
   ]
  },
  {
   "cell_type": "code",
   "execution_count": 30,
   "id": "3d8b119a",
   "metadata": {},
   "outputs": [],
   "source": [
    "#LSTM층 사용\n",
    "model.add(layers.LSTM(16))#16개의 순환 유닛"
   ]
  },
  {
   "cell_type": "code",
   "execution_count": null,
   "id": "5f9ec30d",
   "metadata": {},
   "outputs": [],
   "source": []
  }
 ],
 "metadata": {
  "kernelspec": {
   "display_name": "Python 3",
   "language": "python",
   "name": "python3"
  },
  "language_info": {
   "codemirror_mode": {
    "name": "ipython",
    "version": 3
   },
   "file_extension": ".py",
   "mimetype": "text/x-python",
   "name": "python",
   "nbconvert_exporter": "python",
   "pygments_lexer": "ipython3",
   "version": "3.9.5"
  }
 },
 "nbformat": 4,
 "nbformat_minor": 5
}
