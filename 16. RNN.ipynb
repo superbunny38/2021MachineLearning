{
 "cells": [
  {
   "cell_type": "code",
   "execution_count": 1,
   "id": "e9cc2b5c",
   "metadata": {},
   "outputs": [],
   "source": [
    "import pyprind\n",
    "import pandas as pd\n",
    "from string import punctuation\n",
    "import re\n",
    "import numpy as np"
   ]
  },
  {
   "cell_type": "code",
   "execution_count": 2,
   "id": "c0ab4a44",
   "metadata": {},
   "outputs": [],
   "source": [
    "df = pd.read_csv('movie_data.csv',encoding='utf-8')"
   ]
  },
  {
   "cell_type": "code",
   "execution_count": 3,
   "id": "6550b211",
   "metadata": {},
   "outputs": [],
   "source": [
    "from collections import Counter\n",
    "c = Counter()\n",
    "c.update('abc')"
   ]
  },
  {
   "cell_type": "code",
   "execution_count": 4,
   "id": "3cc9526d",
   "metadata": {},
   "outputs": [
    {
     "data": {
      "text/plain": [
       "Counter({'a': 1, 'b': 1, 'c': 1})"
      ]
     },
     "execution_count": 4,
     "metadata": {},
     "output_type": "execute_result"
    }
   ],
   "source": [
    "c"
   ]
  },
  {
   "cell_type": "code",
   "execution_count": 5,
   "id": "37e2dd1f",
   "metadata": {},
   "outputs": [
    {
     "data": {
      "text/plain": [
       "1"
      ]
     },
     "execution_count": 5,
     "metadata": {},
     "output_type": "execute_result"
    }
   ],
   "source": [
    "c['a']"
   ]
  },
  {
   "cell_type": "code",
   "execution_count": 6,
   "id": "bbec1a1e",
   "metadata": {},
   "outputs": [],
   "source": [
    "c.update(['a','b'])"
   ]
  },
  {
   "cell_type": "code",
   "execution_count": 7,
   "id": "2834a1cd",
   "metadata": {},
   "outputs": [
    {
     "data": {
      "text/plain": [
       "Counter({'a': 2, 'b': 2, 'c': 1})"
      ]
     },
     "execution_count": 7,
     "metadata": {},
     "output_type": "execute_result"
    }
   ],
   "source": [
    "c"
   ]
  },
  {
   "cell_type": "code",
   "execution_count": 8,
   "id": "cfd7868a",
   "metadata": {},
   "outputs": [],
   "source": [
    "c.update({'c':3})"
   ]
  },
  {
   "cell_type": "code",
   "execution_count": 9,
   "id": "8263ab31",
   "metadata": {},
   "outputs": [
    {
     "data": {
      "text/plain": [
       "Counter({'a': 2, 'b': 2, 'c': 4})"
      ]
     },
     "execution_count": 9,
     "metadata": {},
     "output_type": "execute_result"
    }
   ],
   "source": [
    "c"
   ]
  },
  {
   "cell_type": "code",
   "execution_count": 12,
   "id": "9063c0e5",
   "metadata": {},
   "outputs": [
    {
     "data": {
      "text/plain": [
       "[('c', 4)]"
      ]
     },
     "execution_count": 12,
     "metadata": {},
     "output_type": "execute_result"
    }
   ],
   "source": [
    "c.most_common(1)#가장 최빈 한 개 출력"
   ]
  },
  {
   "cell_type": "code",
   "execution_count": 13,
   "id": "b50ff62f",
   "metadata": {},
   "outputs": [
    {
     "data": {
      "text/plain": [
       "[('c', 4), ('a', 2), ('b', 2)]"
      ]
     },
     "execution_count": 13,
     "metadata": {},
     "output_type": "execute_result"
    }
   ],
   "source": [
    "c.most_common()"
   ]
  },
  {
   "cell_type": "code",
   "execution_count": 14,
   "id": "99310dac",
   "metadata": {},
   "outputs": [
    {
     "data": {
      "text/plain": [
       "[('c', 4), ('a', 2)]"
      ]
     },
     "execution_count": 14,
     "metadata": {},
     "output_type": "execute_result"
    }
   ],
   "source": [
    "c.most_common(2)#최빈값 2개 출력"
   ]
  },
  {
   "cell_type": "code",
   "execution_count": 17,
   "id": "1419257a",
   "metadata": {},
   "outputs": [
    {
     "name": "stderr",
     "output_type": "stream",
     "text": [
      "단어의 등장 횟수를 카운트합니다\n",
      "0% [##############################] 100% | ETA: 00:00:00\n",
      "Total time elapsed: 00:06:24\n"
     ]
    }
   ],
   "source": [
    "#데이터 전처리\n",
    "#단어를 나누고 등장 횟수를 카운트함\n",
    "from collections import Counter#원소를 카운트하여 딕셔너리에 저장\n",
    "counts = Counter()\n",
    "pbar = pyprind.ProgBar(len(df['review']),\n",
    "                      title = '단어의 등장 횟수를 카운트합니다')\n",
    "\n",
    "for i, review in enumerate(df['review']):\n",
    "    text = ''.join([c if c not in punctuation else ' '+c+' '\n",
    "                   for c in review] ).lower()\n",
    "    df.loc[i, 'review'] = text\n",
    "    pbar.update()\n",
    "    counts.update(text.split())"
   ]
  },
  {
   "cell_type": "code",
   "execution_count": 19,
   "id": "09c410c6",
   "metadata": {},
   "outputs": [
    {
     "name": "stdout",
     "output_type": "stream",
     "text": [
      "['the', '.', ',', 'and', 'a']\n"
     ]
    }
   ],
   "source": [
    "#고유한 각 단어를 정수로 매핑하는\n",
    "#딕셔너리 생성\n",
    "word_counts = sorted(counts, key=counts.get, reverse = True)\n",
    "print(word_counts[:5])\n",
    "word_to_int = {word:ii for ii,word in\n",
    "              enumerate(word_counts,1)}#전체 리뷰 텍스트를 정수리스트로 변환"
   ]
  },
  {
   "cell_type": "code",
   "execution_count": 21,
   "id": "91505c48",
   "metadata": {},
   "outputs": [
    {
     "name": "stderr",
     "output_type": "stream",
     "text": [
      "리뷰를 정수로 매핑합니다\n",
      "0% [##############################] 100% | ETA: 00:00:00\n",
      "Total time elapsed: 00:00:10\n"
     ]
    }
   ],
   "source": [
    "mapped_reviews = []\n",
    "pbar = pyprind.ProgBar(len(df['review']),\n",
    "                      title = '리뷰를 정수로 매핑합니다')\n",
    "for review in df['review']:\n",
    "    mapped_reviews.append([word_to_int[word]\n",
    "                          for word in review.split()])\n",
    "    pbar.update()"
   ]
  },
  {
   "cell_type": "code",
   "execution_count": 22,
   "id": "461b2bcd",
   "metadata": {},
   "outputs": [],
   "source": [
    "#동일 길이의 시퀀스를 만듭니다\n",
    "#시퀀스 길이가 200보다 작으면 왼쪽에 0이 패딩됩니다\n",
    "#시퀀스 길이가 200보다 크면 마지막 200개 원소만 사용합니다(첫 원소들 잘림)\n",
    "#데이터셋 전처리\n",
    "\n",
    "sequence_length = 200#RNN 시퀀스 길이\n",
    "sequences = np.zeros((len(mapped_reviews), sequence_length),\n",
    "                    dtype=int)#0으로 채우기\n",
    "\n",
    "for i, row in enumerate(mapped_reviews):\n",
    "    review_arr = np.array(row)\n",
    "    sequences[i, -len(row):] = review_arr[-sequence_length:]#동일한 길이의 시퀀스 만들기"
   ]
  },
  {
   "cell_type": "code",
   "execution_count": 23,
   "id": "c41f4c01",
   "metadata": {},
   "outputs": [],
   "source": [
    "#훈련 세트와 테스트 세트로 나눔\n",
    "X_train = sequences[:37500,:]#75% 훈련세트\n",
    "y_train = df.loc[:37499, 'sentiment'].values\n",
    "X_test = sequences[37500:,:]#25% 테스트 세트\n",
    "y_test = df.loc[37500:, 'sentiment'].values"
   ]
  },
  {
   "cell_type": "code",
   "execution_count": 24,
   "id": "f9b1c105",
   "metadata": {},
   "outputs": [
    {
     "name": "stdout",
     "output_type": "stream",
     "text": [
      "(37500, 200) (37500,) (12500, 200) (12500,)\n"
     ]
    }
   ],
   "source": [
    "#크기 확인\n",
    "print(X_train.shape, y_train.shape, X_test.shape, y_test.shape)"
   ]
  },
  {
   "cell_type": "code",
   "execution_count": 25,
   "id": "7b5d1dae",
   "metadata": {},
   "outputs": [
    {
     "name": "stdout",
     "output_type": "stream",
     "text": [
      "102967\n"
     ]
    }
   ],
   "source": [
    "#딕셔너리 크기 확인\n",
    "n_words = len(word_to_int)+1#딕셔너리 크기 확인\n",
    "print(n_words)"
   ]
  },
  {
   "cell_type": "code",
   "execution_count": 26,
   "id": "fc33263c",
   "metadata": {},
   "outputs": [],
   "source": [
    "#임베딩: 데이터셋에 있는 필터를 표현하는데 중요한 특성을 자동으로 학습 가능\n",
    "from tensorflow.keras import modelsls, layers\n",
    "model = models.Sequential()"
   ]
  },
  {
   "cell_type": "code",
   "execution_count": 27,
   "id": "9b073bb8",
   "metadata": {},
   "outputs": [],
   "source": [
    "#임베딩층 추가\n",
    "model.add(layers.Embedding(n_words, 200,#어휘 사전의 크기, 출력 차원\n",
    "                          embeddings_regularizer = 'l2'))#L2 규제"
   ]
  },
  {
   "cell_type": "code",
   "execution_count": 29,
   "id": "a7bd66a3",
   "metadata": {},
   "outputs": [
    {
     "name": "stdout",
     "output_type": "stream",
     "text": [
      "Model: \"sequential\"\n",
      "_________________________________________________________________\n",
      "Layer (type)                 Output Shape              Param #   \n",
      "=================================================================\n",
      "embedding (Embedding)        (None, None, 200)         20593400  \n",
      "=================================================================\n",
      "Total params: 20,593,400\n",
      "Trainable params: 20,593,400\n",
      "Non-trainable params: 0\n",
      "_________________________________________________________________\n"
     ]
    }
   ],
   "source": [
    "#모델 구조 출력\n",
    "model.summary()#임베딩의 출력은 3차원 텐서(배치 차원, 타임 스템, 임베딩 벡터의 차원)"
   ]
  },
  {
   "cell_type": "code",
   "execution_count": 30,
   "id": "2d277283",
   "metadata": {},
   "outputs": [],
   "source": [
    "#LSTM층 사용\n",
    "model.add(layers.LSTM(16))#16개의 순환 유닛"
   ]
  },
  {
   "cell_type": "code",
   "execution_count": 31,
   "id": "cc4d8bc9",
   "metadata": {},
   "outputs": [],
   "source": [
    "model.add(layers.Flatten())#순환층을 추가한 후 출력층에 연결하기 위해 펼쳐야 함\n",
    "model.add(layers.Dense(1, activation = 'sigmoid'))"
   ]
  },
  {
   "cell_type": "code",
   "execution_count": 32,
   "id": "d1ddcf53",
   "metadata": {},
   "outputs": [
    {
     "name": "stdout",
     "output_type": "stream",
     "text": [
      "Model: \"sequential\"\n",
      "_________________________________________________________________\n",
      "Layer (type)                 Output Shape              Param #   \n",
      "=================================================================\n",
      "embedding (Embedding)        (None, None, 200)         20593400  \n",
      "_________________________________________________________________\n",
      "lstm (LSTM)                  (None, 16)                13888     \n",
      "_________________________________________________________________\n",
      "flatten (Flatten)            (None, 16)                0         \n",
      "_________________________________________________________________\n",
      "dense (Dense)                (None, 1)                 17        \n",
      "=================================================================\n",
      "Total params: 20,607,305\n",
      "Trainable params: 20,607,305\n",
      "Non-trainable params: 0\n",
      "_________________________________________________________________\n"
     ]
    }
   ],
   "source": [
    "model.summary()#전체 모델 구조 출력"
   ]
  },
  {
   "cell_type": "markdown",
   "id": "030a7aa1",
   "metadata": {},
   "source": [
    "출력 크기: (None,16)<br>\n",
    "첫번째 차원: 배치 차원, 두번째 차원: 셀의 출력(유닛 개수) 차원<br>"
   ]
  },
  {
   "cell_type": "code",
   "execution_count": 33,
   "id": "47026561",
   "metadata": {},
   "outputs": [],
   "source": [
    "#Adam 옵티마이저를 사용하여 모델 컴파일\n",
    "model.compile(loss = 'binary_crossentropy',#이진 분류 문제\n",
    "             optimizer = 'adam', metrics = ['acc'])"
   ]
  },
  {
   "cell_type": "code",
   "execution_count": 51,
   "id": "f8b064b4",
   "metadata": {},
   "outputs": [],
   "source": [
    "#가장 좋은 검증 점수의 모델 파라미터를 체크포인트로 저장\n",
    "#텐서 보드를 위한 출력 지정\n",
    "import time\n",
    "from tensorflow.keras.callbacks import ModelCheckpoint, TensorBoard\n",
    "\n",
    "callback_list = [ModelCheckpoint(filepath = 'sentiment_rnn_checkpoint.h5',\n",
    "                                monitor = 'val_loss',\n",
    "                                save_best_only=True),\n",
    "                 \n",
    "                TensorBoard(log_dir = 'sentiment_rnn_logs/{}'.format(str(time.asctime())[:5]))]"
   ]
  },
  {
   "cell_type": "code",
   "execution_count": 52,
   "id": "1d090c30",
   "metadata": {},
   "outputs": [
    {
     "name": "stdout",
     "output_type": "stream",
     "text": [
      "Epoch 1/10\n",
      "411/411 [==============================] - 214s 503ms/step - loss: 6.5235 - acc: 0.7286 - val_loss: 0.6713 - val_acc: 0.7788\n",
      "Epoch 2/10\n",
      "411/411 [==============================] - 197s 480ms/step - loss: 0.6190 - acc: 0.8276 - val_loss: 0.5798 - val_acc: 0.8396\n",
      "Epoch 3/10\n",
      "411/411 [==============================] - 196s 477ms/step - loss: 0.5742 - acc: 0.8468 - val_loss: 0.5518 - val_acc: 0.8498\n",
      "Epoch 4/10\n",
      "411/411 [==============================] - 202s 491ms/step - loss: 0.5476 - acc: 0.8544 - val_loss: 0.5639 - val_acc: 0.8487\n",
      "Epoch 5/10\n",
      "411/411 [==============================] - 199s 485ms/step - loss: 0.5264 - acc: 0.8646 - val_loss: 0.5309 - val_acc: 0.8647\n",
      "Epoch 6/10\n",
      "411/411 [==============================] - 202s 492ms/step - loss: 0.5085 - acc: 0.8729 - val_loss: 0.4790 - val_acc: 0.8720\n",
      "Epoch 7/10\n",
      "411/411 [==============================] - 205s 500ms/step - loss: 0.4850 - acc: 0.8781 - val_loss: 0.4869 - val_acc: 0.8770\n",
      "Epoch 8/10\n",
      "411/411 [==============================] - 199s 485ms/step - loss: 0.4769 - acc: 0.8807 - val_loss: 0.4978 - val_acc: 0.8642\n",
      "Epoch 9/10\n",
      "411/411 [==============================] - 197s 479ms/step - loss: 0.4664 - acc: 0.8859 - val_loss: 0.4939 - val_acc: 0.8729\n",
      "Epoch 10/10\n",
      "411/411 [==============================] - 198s 482ms/step - loss: 0.4621 - acc: 0.8906 - val_loss: 0.4894 - val_acc: 0.8774\n"
     ]
    }
   ],
   "source": [
    "#모델 훈련\n",
    "history = model.fit(X_train, y_train,\n",
    "                   batch_size=64, epochs = 10,#배치크기 64로 지정, 열번 에포크 동안 훈련\n",
    "                   validation_split=0.3, callbacks=callback_list)#전체 훈련 세트의 30%를 검증 세트로 사용"
   ]
  },
  {
   "cell_type": "code",
   "execution_count": 54,
   "id": "f79484f3",
   "metadata": {},
   "outputs": [
    {
     "data": {
      "image/png": "[encoded data removed]",
      "text/plain": [
       "<Figure size 432x288 with 1 Axes>"
      ]
     },
     "metadata": {
      "needs_background": "light"
     },
     "output_type": "display_data"
    }
   ],
   "source": [
    "#손실 점수에 대한 그래프 그리기\n",
    "import matplotlib.pyplot as plt\n",
    "epochs = np.arange(1,11)\n",
    "plt.plot(epochs, history.history['loss'])\n",
    "plt.plot(epochs, history.history['val_loss'])\n",
    "plt.xlabel('epochs')\n",
    "plt.ylabel('loss')\n",
    "plt.show()"
   ]
  },
  {
   "cell_type": "code",
   "execution_count": 56,
   "id": "3f03e204",
   "metadata": {},
   "outputs": [
    {
     "data": {
      "image/png": "[encoded data removed]",
      "text/plain": [
       "<Figure size 432x288 with 1 Axes>"
      ]
     },
     "metadata": {
      "needs_background": "light"
     },
     "output_type": "display_data"
    }
   ],
   "source": [
    "#정확도 그래프 그리기\n",
    "epochs = np.arange(1,11)\n",
    "plt.plot(epochs, history.history['acc'])\n",
    "plt.plot(epochs, history.history['val_acc'])\n",
    "plt.xlabel('epochs')\n",
    "plt.ylabel('loss')\n",
    "plt.show()"
   ]
  },
  {
   "cell_type": "code",
   "execution_count": 57,
   "id": "b55096e3",
   "metadata": {},
   "outputs": [
    {
     "name": "stdout",
     "output_type": "stream",
     "text": [
      "391/391 [==============================] - 39s 99ms/step - loss: 0.4850 - acc: 0.8686\n"
     ]
    },
    {
     "data": {
      "text/plain": [
       "[0.48500856757164, 0.8686400055885315]"
      ]
     },
     "execution_count": 57,
     "metadata": {},
     "output_type": "execute_result"
    }
   ],
   "source": [
    "#체크포인트 복원\n",
    "model.load_weights('sentiment_rnn_checkpoint.h5')\n",
    "#감성 분석 RNN 모델 평가\n",
    "model.evaluate(X_test, y_test)"
   ]
  },
  {
   "cell_type": "code",
   "execution_count": 58,
   "id": "a1c4b46b",
   "metadata": {},
   "outputs": [
    {
     "name": "stderr",
     "output_type": "stream",
     "text": [
      "C:\\Anaconda3\\envs\\dsfs\\lib\\site-packages\\tensorflow\\python\\keras\\engine\\sequential.py:430: UserWarning: `model.predict_proba()` is deprecated and will be removed after 2021-01-01. Please use `model.predict()` instead.\n",
      "  warnings.warn('`model.predict_proba()` is deprecated and '\n"
     ]
    },
    {
     "data": {
      "text/plain": [
       "array([[0.01192534],\n",
       "       [0.02059531],\n",
       "       [0.00386864],\n",
       "       [0.935076  ],\n",
       "       [0.99180347],\n",
       "       [0.9635012 ],\n",
       "       [0.04769766],\n",
       "       [0.8796698 ],\n",
       "       [0.02382815],\n",
       "       [0.8976263 ]], dtype=float32)"
      ]
     },
     "execution_count": 58,
     "metadata": {},
     "output_type": "execute_result"
    }
   ],
   "source": [
    "#긍정 리뷰일 확률 반환\n",
    "model.predict_proba(X_test[:10])"
   ]
  },
  {
   "cell_type": "code",
   "execution_count": 59,
   "id": "730977ac",
   "metadata": {},
   "outputs": [
    {
     "name": "stderr",
     "output_type": "stream",
     "text": [
      "C:\\Anaconda3\\envs\\dsfs\\lib\\site-packages\\tensorflow\\python\\keras\\engine\\sequential.py:455: UserWarning: `model.predict_classes()` is deprecated and will be removed after 2021-01-01. Please use instead:* `np.argmax(model.predict(x), axis=-1)`,   if your model does multi-class classification   (e.g. if it uses a `softmax` last-layer activation).* `(model.predict(x) > 0.5).astype(\"int32\")`,   if your model does binary classification   (e.g. if it uses a `sigmoid` last-layer activation).\n",
      "  warnings.warn('`model.predict_classes()` is deprecated and '\n"
     ]
    },
    {
     "data": {
      "text/plain": [
       "array([[0],\n",
       "       [0],\n",
       "       [0],\n",
       "       [1],\n",
       "       [1],\n",
       "       [1],\n",
       "       [0],\n",
       "       [1],\n",
       "       [0],\n",
       "       [1]])"
      ]
     },
     "execution_count": 59,
     "metadata": {},
     "output_type": "execute_result"
    }
   ],
   "source": [
    "#이진 분류 결과 반환\n",
    "model.predict_classes(X_test[:10])"
   ]
  },
  {
   "cell_type": "code",
   "execution_count": null,
   "id": "d1c40349",
   "metadata": {},
   "outputs": [],
   "source": [
    "#하이퍼 파라미터 튜닝(테스트 세트를 반복적으로 사용하면 안됨)\n",
    "\n",
    "sequence_length_list = [50,100,250,300]\n",
    "for value in sequence_length_list:\n",
    "    sequence_length = value#RNN 시퀀스 길이\n",
    "    sequences = np.zeros((len(mapped_reviews), sequence_length),\n",
    "                        dtype=int)#0으로 채우기\n",
    "\n",
    "    for i, row in enumerate(mapped_reviews):\n",
    "        review_arr = np.array(row)\n",
    "        sequences[i, -len(row):] = review_arr[-sequence_length:]#동일한 길이의 시퀀스 만들기\n",
    "    \n",
    "    #훈련 세트와 테스트 세트로 나눔\n",
    "    X_train = sequences[:37500,:]#75% 훈련세트\n",
    "    y_train = df.loc[:37499, 'sentiment'].values\n",
    "    X_test = sequences[37500:,:]#25% 테스트 세트\n",
    "    y_test = df.loc[37500:, 'sentiment'].values\n",
    "    \n",
    "    n_words = len(word_to_int)+1#딕셔너리 크기 확인\n",
    "    \n",
    "    #모델\n",
    "    model = models.Sequential()\n",
    "    #임베딩층 추가\n",
    "    model.add(layers.Embedding(n_words, 200,#어휘 사전의 크기, 출력 차원\n",
    "                              embeddings_regularizer = 'l2'))#L2 규제\n",
    "    #LSTM층 사용\n",
    "    model.add(layers.LSTM(16))#16개의 순환 유닛\n",
    "    model.add(layers.Flatten())#순환층을 추가한 후 출력층에 연결하기 위해 펼쳐야 함\n",
    "    model.add(layers.Dense(1, activation = 'sigmoid'))\n",
    "    #Adam 옵티마이저를 사용하여 모델 컴파일\n",
    "    model.compile(loss = 'binary_crossentropy',#이진 분류 문제\n",
    "             optimizer = 'adam', metrics = ['acc'])\n",
    "    #모델 훈련\n",
    "    history = model.fit(X_train, y_train,\n",
    "                       batch_size=64, epochs = 10,#배치크기 64로 지정, 열번 에포크 동안 훈련\n",
    "                       validation_split=0.3)#전체 훈련 세트의 30%를 검증 세트로 사용"
   ]
  },
  {
   "cell_type": "code",
   "execution_count": 62,
   "id": "9ea93919",
   "metadata": {},
   "outputs": [],
   "source": [
    "#글자 단위 언어 모델 구현\n",
    "import numpy as np\n",
    "#텍스트를 읽고 처리합니다\n",
    "with open('pg2265.txt','r',encoding = 'utf-8') as f:\n",
    "    text = f.read()\n",
    "\n",
    "text = text[15858:]\n",
    "chars = set(text)#텍스트에 있는 고유한 글자 집합\n",
    "char2int = {ch:i for i, ch in enumerate(chars)}#글자와 정수를 매핑한 딕셔너리\n",
    "int2char = dict(enumerate(chars))#정수와 고유한 글자를 매핑한 딕셔너리\n",
    "#텍스트를 넘파이 배열로 변환\n",
    "text_ints = np.array([char2int[ch] for ch in text], dtype = np.int32)"
   ]
  },
  {
   "cell_type": "code",
   "execution_count": 66,
   "id": "185a5b0a",
   "metadata": {},
   "outputs": [
    {
     "data": {
      "text/plain": [
       "162849"
      ]
     },
     "execution_count": 66,
     "metadata": {},
     "output_type": "execute_result"
    }
   ],
   "source": [
    "#텍스트 전체 길이\n",
    "len(text)"
   ]
  },
  {
   "cell_type": "code",
   "execution_count": 67,
   "id": "9f2f0c1f",
   "metadata": {},
   "outputs": [
    {
     "data": {
      "text/plain": [
       "65"
      ]
     },
     "execution_count": 67,
     "metadata": {},
     "output_type": "execute_result"
    }
   ],
   "source": [
    "#고유한 글자 수\n",
    "len(chars)"
   ]
  },
  {
   "cell_type": "code",
   "execution_count": 68,
   "id": "f6592d07",
   "metadata": {},
   "outputs": [],
   "source": [
    "#동일한 구조의 입력(x)과 출력(y) 만들기\n",
    "def reshape_data(sequence, batch_size, num_steps):\n",
    "    mini_batch_length = batch_size*num_steps\n",
    "    num_batches = int(len(sequence)/mini_batch_length)\n",
    "    if num_batches*mini_batch_length +1 > len(sequence):\n",
    "        num_batches = num_batches -1\n",
    "    #전체 배치에 포함되지 않는 시퀀스 끝부분은 삭제함\n",
    "    x = sequence[0:num_batches *mini_batch_length]\n",
    "    y = sequence[1:num_batches*mini_batch_length+1]\n",
    "    \n",
    "    #x와 y를 시퀀스 배치의 리스트로 나눔\n",
    "    x_batch_splits = np.split(x, batch_size)\n",
    "    y_batch_splits = np.split(y, batch_size)\n",
    "    \n",
    "    #합쳐진 배치 크기는\n",
    "    #batch_size x mini_batch_length가 됨\n",
    "    x = np.stack(x_batch_splits)\n",
    "    y = np.stack(y_batch_splits)\n",
    "    \n",
    "    return x,y"
   ]
  },
  {
   "cell_type": "code",
   "execution_count": 69,
   "id": "f832f495",
   "metadata": {},
   "outputs": [
    {
     "name": "stdout",
     "output_type": "stream",
     "text": [
      "(64, 2540)\n"
     ]
    }
   ],
   "source": [
    "#시퀀스 길이를 10으로 가정하고 reshape_data 함수를 사용하여 배치크기 64에 맞게 데이터를 바꿈\n",
    "\n",
    "#테스트\n",
    "train_x, train_y = reshape_data(text_ints, 64, 10)#배치크기 64, 시퀀스 길이 10\n",
    "print(train_x.shape)"
   ]
  },
  {
   "cell_type": "code",
   "execution_count": 70,
   "id": "aab66755",
   "metadata": {},
   "outputs": [
    {
     "name": "stdout",
     "output_type": "stream",
     "text": [
      "[ 5 23 18 52  5 44 47 42 18 11]\n"
     ]
    }
   ],
   "source": [
    "print(train_x[0,:10])"
   ]
  },
  {
   "cell_type": "code",
   "execution_count": 71,
   "id": "ab33ef9b",
   "metadata": {},
   "outputs": [
    {
     "name": "stdout",
     "output_type": "stream",
     "text": [
      "[23 18 52  5 44 47 42 18 11 57]\n"
     ]
    }
   ],
   "source": [
    "print(train_y[0,:10])"
   ]
  },
  {
   "cell_type": "code",
   "execution_count": 73,
   "id": "8ff56f47",
   "metadata": {},
   "outputs": [
    {
     "name": "stdout",
     "output_type": "stream",
     "text": [
      "The Traged\n"
     ]
    }
   ],
   "source": [
    "print(''.join(int2char[i] for i in train_x[0,:10]))"
   ]
  },
  {
   "cell_type": "code",
   "execution_count": 75,
   "id": "62dd7b0a",
   "metadata": {},
   "outputs": [
    {
     "name": "stdout",
     "output_type": "stream",
     "text": [
      "he Tragedi\n"
     ]
    }
   ],
   "source": [
    "print(''.join(int2char[i] for i in train_y[0,:10]))"
   ]
  },
  {
   "cell_type": "code",
   "execution_count": 77,
   "id": "8d3b9de0",
   "metadata": {},
   "outputs": [],
   "source": [
    "#미니 배치 생성\n",
    "def create_batch_generator(data_x, data_y, num_steps):#메모리 부족 해결\n",
    "    batch_size, tot_batch_length = data_x.shape[0:2]\n",
    "    num_batches = int(tot_batch_length/num_steps)\n",
    "    for b in range(num_batches):\n",
    "        yield(data_x[:,b*num_steps:(b+1)*num_steps],\n",
    "             data_y[:,b*num_steps:(b+1)*num_steps])"
   ]
  },
  {
   "cell_type": "code",
   "execution_count": 79,
   "id": "b302edd1",
   "metadata": {},
   "outputs": [
    {
     "name": "stdout",
     "output_type": "stream",
     "text": [
      "(64, 15) (64, 15)  The Tragedie of      he Tragedie of \n",
      "(64, 15) (64, 15)   Hamlet**Actus       Hamlet**Actus P\n",
      "(64, 15) (64, 15)  Primus. Scoena       rimus. Scoena P\n",
      "(64, 15) (64, 15)  Prima.**Enter B      rima.**Enter Ba\n",
      "(64, 15) (64, 15)  arnardo and Fra      rnardo and Fran\n",
      "(64, 15) (64, 15)  ncisco two Cent      cisco two Centi\n"
     ]
    }
   ],
   "source": [
    "#길이 100까지만 사용하여 배치데이터를 테스트로 만들어보기\n",
    "#시퀀스 길이는 15로 설정\n",
    "\n",
    "bgen = create_batch_generator(train_x[:,:100], train_y[:,:100], 15)\n",
    "\n",
    "for x,y in bgen:\n",
    "    print(x.shape, y.shape, end = '  ')\n",
    "    print(''.join(int2char[i] for i in x[0,:]).replace('\\n', '*'), '    ',\n",
    "         ''.join(int2char[i] for i in y[0,:]).replace('\\n','*'))\n",
    "    #훈련 데이터와 타깃 데이터가 올바르게 추출됨을 알 수 있음"
   ]
  },
  {
   "cell_type": "code",
   "execution_count": 84,
   "id": "6a4f90c5",
   "metadata": {},
   "outputs": [],
   "source": [
    "batch_size = 64#배치 크기"
   ]
  },
  {
   "cell_type": "code",
   "execution_count": 85,
   "id": "0d95b0b7",
   "metadata": {},
   "outputs": [],
   "source": [
    "num_steps = 100#타임 스텝 길이"
   ]
  },
  {
   "cell_type": "code",
   "execution_count": 82,
   "id": "a91c44dc",
   "metadata": {},
   "outputs": [],
   "source": [
    "train_x, train_y = reshape_data(text_ints, batch_size, num_steps)"
   ]
  },
  {
   "cell_type": "code",
   "execution_count": 83,
   "id": "ce46dbd8",
   "metadata": {},
   "outputs": [
    {
     "name": "stdout",
     "output_type": "stream",
     "text": [
      "(64, 2500) (64, 2500)\n"
     ]
    }
   ],
   "source": [
    "print(train_x.shape, train_y.shape)"
   ]
  },
  {
   "cell_type": "code",
   "execution_count": 86,
   "id": "d0d53b62",
   "metadata": {},
   "outputs": [
    {
     "name": "stdout",
     "output_type": "stream",
     "text": [
      "(64, 2500, 65) (64, 2500, 65)\n"
     ]
    }
   ],
   "source": [
    "#원-핫 인코딩\n",
    "from tensorflow.keras.utils import to_categorical\n",
    "train_encoded_x = to_categorical(train_x)\n",
    "train_encoded_y = to_categorical(train_y)\n",
    "print(train_encoded_x.shape, train_encoded_y.shape)"
   ]
  },
  {
   "cell_type": "code",
   "execution_count": 87,
   "id": "659f7e5b",
   "metadata": {},
   "outputs": [
    {
     "name": "stdout",
     "output_type": "stream",
     "text": [
      "64 64\n"
     ]
    }
   ],
   "source": [
    "#한 글자만 이동했기에 train_x와 train_y의 최대값이 같아야 함\n",
    "print(np.max(train_x),np.max(train_y))"
   ]
  },
  {
   "cell_type": "code",
   "execution_count": 88,
   "id": "2ad66de0",
   "metadata": {},
   "outputs": [],
   "source": [
    "#Sequential 클래스를 사용하여 글자 단위 RNN 모델 만들기\n",
    "char_model = models.Sequential()"
   ]
  },
  {
   "cell_type": "code",
   "execution_count": 89,
   "id": "97c45cda",
   "metadata": {},
   "outputs": [],
   "source": [
    "num_classes = len(chars)"
   ]
  },
  {
   "cell_type": "code",
   "execution_count": 91,
   "id": "5151d4bc",
   "metadata": {},
   "outputs": [],
   "source": [
    "char_model.add(layers.LSTM(128, input_shape = (None, num_classes), \n",
    "                          return_sequences = True))#128개의 순환 유닛을 가진 LSTM 층을 모델에 추가"
   ]
  },
  {
   "cell_type": "code",
   "execution_count": 93,
   "id": "919bb2c3",
   "metadata": {},
   "outputs": [],
   "source": [
    "char_model.add(layers.TimeDistributed(layers.Dense(num_classes,#TimeDistributed를 통해 Dense 층을 감싸서 \n",
    "                                                   #타임 스탭을 가진 입력을 다룰 수 있음\n",
    "                                                  activation = 'softmax')))#다중 출력이기에 활성화함수는 소프트맥스 함수를 사용"
   ]
  },
  {
   "cell_type": "code",
   "execution_count": 95,
   "id": "ab51037a",
   "metadata": {},
   "outputs": [
    {
     "name": "stdout",
     "output_type": "stream",
     "text": [
      "Model: \"sequential_1\"\n",
      "_________________________________________________________________\n",
      "Layer (type)                 Output Shape              Param #   \n",
      "=================================================================\n",
      "lstm_1 (LSTM)                (None, None, 128)         99328     \n",
      "_________________________________________________________________\n",
      "lstm_2 (LSTM)                (None, None, 128)         131584    \n",
      "_________________________________________________________________\n",
      "time_distributed (TimeDistri (None, None, 65)          8385      \n",
      "_________________________________________________________________\n",
      "time_distributed_1 (TimeDist (None, None, 65)          4290      \n",
      "=================================================================\n",
      "Total params: 243,587\n",
      "Trainable params: 243,587\n",
      "Non-trainable params: 0\n",
      "_________________________________________________________________\n"
     ]
    }
   ],
   "source": [
    "char_model.summary()#모델 구성"
   ]
  },
  {
   "cell_type": "code",
   "execution_count": 98,
   "id": "1f3e38ea",
   "metadata": {},
   "outputs": [],
   "source": [
    "#글자 단위 RNN 모델 훈련\n",
    "from tensorflow.keras.optimizers import Adam#Adam 옵티마이저 사용\n",
    "adam = Adam(clipnorm = 5.0)#L2노름의 임계 값: 5.0"
   ]
  },
  {
   "cell_type": "code",
   "execution_count": 100,
   "id": "6c835137",
   "metadata": {},
   "outputs": [],
   "source": [
    "char_model.compile(loss = 'categorical_crossentropy',optimizer = adam)#모델 컴파일"
   ]
  },
  {
   "cell_type": "code",
   "execution_count": 101,
   "id": "5488b9f9",
   "metadata": {},
   "outputs": [],
   "source": [
    "callback_list = [ModelCheckpoint(filepath = 'char_rnn_checkpoint.h5')]"
   ]
  },
  {
   "cell_type": "code",
   "execution_count": 102,
   "id": "ffbef0ba",
   "metadata": {},
   "outputs": [
    {
     "name": "stderr",
     "output_type": "stream",
     "text": [
      "C:\\Anaconda3\\envs\\dsfs\\lib\\site-packages\\tensorflow\\python\\keras\\engine\\training.py:1940: UserWarning: `Model.fit_generator` is deprecated and will be removed in a future version. Please use `Model.fit`, which supports generators.\n",
      "  warnings.warn('`Model.fit_generator` is deprecated and '\n"
     ]
    }
   ],
   "source": [
    "for i in range(500):#500번의 에포크 동안 훈련\n",
    "    bgen = create_batch_generator(train_encoded_x,\n",
    "                                 train_encoded_y, num_steps)\n",
    "    char_model.fit_generator(bgen, steps_per_epoch=25, epochs=1,\n",
    "                            callbacks= callback_list, verbose = 0)#훈련과정 출력 x"
   ]
  },
  {
   "cell_type": "code",
   "execution_count": 103,
   "id": "52570477",
   "metadata": {},
   "outputs": [],
   "source": [
    "#모델이서 출력된 65객의 확률 값에서 하나를 랜덤하게 선택할 get_top_char 함수를 정의\n",
    "np.random.seed(42)\n",
    "\n",
    "def get_top_char(probas, char_size, top_n=5):\n",
    "    p = np.squeeze(probas)\n",
    "    p[np.argsort(p)[:-top_n]] = 0.0\n",
    "    p = p/np.sum(p)\n",
    "    ch_id = np.random.choice(char_size,1,p=p)[0]\n",
    "    return ch_id"
   ]
  },
  {
   "cell_type": "code",
   "execution_count": 107,
   "id": "c4562227",
   "metadata": {},
   "outputs": [],
   "source": [
    "#\"The \"란 초기 문자열을 사용하여 이어지는 텍스트를 생성\n",
    "seed_text = \"The \"\n",
    "for ch in seed_text:\n",
    "    num = [char2int[ch]]#한 글자씩 주입->마지막 글자에서 다음 글자를 예측\n",
    "    onehot = to_categorical(num, num_classes = 65)#원-핫 인코딩 될 벡터 크기 지정\n",
    "    onehot = np.expand_dims(onehot, axis = 0)#배치 차원을 만들기 위해 첫번째 차원 추가\n",
    "    probas = char_model.predict(onehot)"
   ]
  },
  {
   "cell_type": "code",
   "execution_count": 108,
   "id": "6269f9ad",
   "metadata": {},
   "outputs": [],
   "source": [
    "num = get_top_char(probas, len(chars))\n",
    "seed_text += int2char[num]"
   ]
  },
  {
   "cell_type": "code",
   "execution_count": 109,
   "id": "fbac949a",
   "metadata": {},
   "outputs": [],
   "source": [
    "for i in range(500):#500번 되풀이 하여 긴 텍스트 만들기\n",
    "    onehot = to_categorical([num], num_classes = 65)\n",
    "    onehot = np.expand_dims(onehot, axis=0)\n",
    "    probas = char_model.predict(onehot)\n",
    "    num = get_top_char(probas, len(chars))\n",
    "    seed_text += int2char[num]"
   ]
  },
  {
   "cell_type": "code",
   "execution_count": 110,
   "id": "dbdadfce",
   "metadata": {},
   "outputs": [
    {
     "name": "stdout",
     "output_type": "stream",
     "text": [
      "The t iteee tnei seeonth hooo s te hei ihe te h s s tein w weeeoos sone hinhe innere theos t te it ttteee s woo seoei t ih t woeer we theo s ihi s soe teo se wo ih s tte see ie s h t hrei s itthe w so w inee tee he inh so t tnerso t t tnte se hi wreit w sr se w te we w inho i w t tnn sre h th he se ih he tnn th sreei iheeonnnhintnthr heee ite teronner t tee h w tntn t weeeee ho h se t i se i th si t ie t s te ho w tthr inne h t see tee h ieeihr winhe tt h h hee it th sieie t h w tntnt ho wr se s hi i\n"
     ]
    }
   ],
   "source": [
    "print(seed_text)"
   ]
  },
  {
   "cell_type": "markdown",
   "id": "6c742299",
   "metadata": {},
   "source": [
    "더 나은 결과를 얻으려면 에포크 수를 늘려서 모델 훈련해야 함"
   ]
  }
 ],
 "metadata": {
  "kernelspec": {
   "display_name": "Python 3",
   "language": "python",
   "name": "python3"
  },
  "language_info": {
   "codemirror_mode": {
    "name": "ipython",
    "version": 3
   },
   "file_extension": ".py",
   "mimetype": "text/x-python",
   "name": "python",
   "nbconvert_exporter": "python",
   "pygments_lexer": "ipython3",
   "version": "3.9.5"
  }
 },
 "nbformat": 4,
 "nbformat_minor": 5
}
