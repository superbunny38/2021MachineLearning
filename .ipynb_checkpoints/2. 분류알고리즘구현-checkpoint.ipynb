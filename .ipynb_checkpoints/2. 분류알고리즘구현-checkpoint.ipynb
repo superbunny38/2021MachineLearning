{
 "cells": [
  {
   "cell_type": "code",
   "execution_count": 1,
   "id": "f9748d30",
   "metadata": {},
   "outputs": [],
   "source": [
    "import numpy as np"
   ]
  },
  {
   "cell_type": "markdown",
   "id": "b411afd5",
   "metadata": {},
   "source": [
    "# 퍼셉트론 구현"
   ]
  },
  {
   "cell_type": "code",
   "execution_count": 40,
   "id": "1a1fc5e1",
   "metadata": {},
   "outputs": [],
   "source": [
    "class Perceptron(object):\n",
    "    def __init__(self,eta=0.01,n_iter=50,random_state=1):#초기화\n",
    "        self.eta = eta#학습률\n",
    "        self.n_iter =  n_iter#훈련 데이터셋 반복 횟수\n",
    "        self.random_state = random_state#난수생성시드\n",
    "        \n",
    "    def fit(self,X,y):#훈련데이터학습\n",
    "        rgen = np.random.RandomState(self.random_state)\n",
    "        self.w_ = rgen.normal(loc=0.0, scale = 0.01, size = 1+X.shape[1])\n",
    "        self.errors_ = []\n",
    "        \n",
    "        for _ in range(self.n_iter):\n",
    "            errors = 0\n",
    "            for xi, target in zip(X,y):\n",
    "                update = self.eta *(target - self.predict(xi))\n",
    "                self.w_[1:]+=update*xi#eta*(y-y_hat)*x 업데이트\n",
    "                self.w_[0]+=update #절편\n",
    "                errors += int(update != 0.0)#틀린 분류라면\n",
    "            self.errors_.append(errors)\n",
    "        return self\n",
    "    \n",
    "    def net_input(self,X):#최종입력 z = x dot w\n",
    "        \"\"\"최종입력계산\"\"\"\n",
    "        return np.dot(X,self.w_[1:]) + self.w_[0]\n",
    "    \n",
    "    def predict(self,X):#예측\n",
    "        \"\"\"단위 계단 함수를 사용하여 클래스 레이블을 반환\"\"\"\n",
    "        return np.where(self.net_input(X)>=0.0, 1, -1)"
   ]
  },
  {
   "cell_type": "code",
   "execution_count": 41,
   "id": "f1a6c636",
   "metadata": {},
   "outputs": [
    {
     "data": {
      "text/plain": [
       "0.0"
      ]
     },
     "execution_count": 41,
     "metadata": {},
     "output_type": "execute_result"
    }
   ],
   "source": [
    "#가중치를 0으로 초기화하지 않는 이유\n",
    "v1 = np.array([1,2,3])\n",
    "v2 = 0.5*v1\n",
    "np.arccos(v1.dot(v2)/(np.linalg.norm(v1)*np.linalg.norm(v2)))"
   ]
  },
  {
   "cell_type": "markdown",
   "id": "565fdec2",
   "metadata": {},
   "source": [
    "## 붓꽃 데이터셋에서 퍼셉트론 훈련"
   ]
  },
  {
   "cell_type": "code",
   "execution_count": 31,
   "id": "9653afab",
   "metadata": {},
   "outputs": [],
   "source": [
    "import pandas as pd\n",
    "df = pd.read_csv('https://archive.ics.uci.edu/ml/machine-learning-databases/iris/iris.data',header=None)"
   ]
  },
  {
   "cell_type": "code",
   "execution_count": 32,
   "id": "c0cd9ac0",
   "metadata": {},
   "outputs": [
    {
     "data": {
      "text/html": [
       "<div>\n",
       "<style scoped>\n",
       "    .dataframe tbody tr th:only-of-type {\n",
       "        vertical-align: middle;\n",
       "    }\n",
       "\n",
       "    .dataframe tbody tr th {\n",
       "        vertical-align: top;\n",
       "    }\n",
       "\n",
       "    .dataframe thead th {\n",
       "        text-align: right;\n",
       "    }\n",
       "</style>\n",
       "<table border=\"1\" class=\"dataframe\">\n",
       "  <thead>\n",
       "    <tr style=\"text-align: right;\">\n",
       "      <th></th>\n",
       "      <th>0</th>\n",
       "      <th>1</th>\n",
       "      <th>2</th>\n",
       "      <th>3</th>\n",
       "      <th>4</th>\n",
       "    </tr>\n",
       "  </thead>\n",
       "  <tbody>\n",
       "    <tr>\n",
       "      <th>145</th>\n",
       "      <td>6.7</td>\n",
       "      <td>3.0</td>\n",
       "      <td>5.2</td>\n",
       "      <td>2.3</td>\n",
       "      <td>Iris-virginica</td>\n",
       "    </tr>\n",
       "    <tr>\n",
       "      <th>146</th>\n",
       "      <td>6.3</td>\n",
       "      <td>2.5</td>\n",
       "      <td>5.0</td>\n",
       "      <td>1.9</td>\n",
       "      <td>Iris-virginica</td>\n",
       "    </tr>\n",
       "    <tr>\n",
       "      <th>147</th>\n",
       "      <td>6.5</td>\n",
       "      <td>3.0</td>\n",
       "      <td>5.2</td>\n",
       "      <td>2.0</td>\n",
       "      <td>Iris-virginica</td>\n",
       "    </tr>\n",
       "    <tr>\n",
       "      <th>148</th>\n",
       "      <td>6.2</td>\n",
       "      <td>3.4</td>\n",
       "      <td>5.4</td>\n",
       "      <td>2.3</td>\n",
       "      <td>Iris-virginica</td>\n",
       "    </tr>\n",
       "    <tr>\n",
       "      <th>149</th>\n",
       "      <td>5.9</td>\n",
       "      <td>3.0</td>\n",
       "      <td>5.1</td>\n",
       "      <td>1.8</td>\n",
       "      <td>Iris-virginica</td>\n",
       "    </tr>\n",
       "  </tbody>\n",
       "</table>\n",
       "</div>"
      ],
      "text/plain": [
       "       0    1    2    3               4\n",
       "145  6.7  3.0  5.2  2.3  Iris-virginica\n",
       "146  6.3  2.5  5.0  1.9  Iris-virginica\n",
       "147  6.5  3.0  5.2  2.0  Iris-virginica\n",
       "148  6.2  3.4  5.4  2.3  Iris-virginica\n",
       "149  5.9  3.0  5.1  1.8  Iris-virginica"
      ]
     },
     "execution_count": 32,
     "metadata": {},
     "output_type": "execute_result"
    }
   ],
   "source": [
    "df.tail()"
   ]
  },
  {
   "cell_type": "code",
   "execution_count": 33,
   "id": "438fbd0d",
   "metadata": {},
   "outputs": [],
   "source": [
    "\n",
    "df = pd.read_csv('https://archive.ics.uci.edu/ml/''machine-learning-databases/iris/iris.data',header=None)"
   ]
  },
  {
   "cell_type": "code",
   "execution_count": 34,
   "id": "966902c7",
   "metadata": {},
   "outputs": [
    {
     "data": {
      "text/html": [
       "<div>\n",
       "<style scoped>\n",
       "    .dataframe tbody tr th:only-of-type {\n",
       "        vertical-align: middle;\n",
       "    }\n",
       "\n",
       "    .dataframe tbody tr th {\n",
       "        vertical-align: top;\n",
       "    }\n",
       "\n",
       "    .dataframe thead th {\n",
       "        text-align: right;\n",
       "    }\n",
       "</style>\n",
       "<table border=\"1\" class=\"dataframe\">\n",
       "  <thead>\n",
       "    <tr style=\"text-align: right;\">\n",
       "      <th></th>\n",
       "      <th>0</th>\n",
       "      <th>1</th>\n",
       "      <th>2</th>\n",
       "      <th>3</th>\n",
       "      <th>4</th>\n",
       "    </tr>\n",
       "  </thead>\n",
       "  <tbody>\n",
       "    <tr>\n",
       "      <th>145</th>\n",
       "      <td>6.7</td>\n",
       "      <td>3.0</td>\n",
       "      <td>5.2</td>\n",
       "      <td>2.3</td>\n",
       "      <td>Iris-virginica</td>\n",
       "    </tr>\n",
       "    <tr>\n",
       "      <th>146</th>\n",
       "      <td>6.3</td>\n",
       "      <td>2.5</td>\n",
       "      <td>5.0</td>\n",
       "      <td>1.9</td>\n",
       "      <td>Iris-virginica</td>\n",
       "    </tr>\n",
       "    <tr>\n",
       "      <th>147</th>\n",
       "      <td>6.5</td>\n",
       "      <td>3.0</td>\n",
       "      <td>5.2</td>\n",
       "      <td>2.0</td>\n",
       "      <td>Iris-virginica</td>\n",
       "    </tr>\n",
       "    <tr>\n",
       "      <th>148</th>\n",
       "      <td>6.2</td>\n",
       "      <td>3.4</td>\n",
       "      <td>5.4</td>\n",
       "      <td>2.3</td>\n",
       "      <td>Iris-virginica</td>\n",
       "    </tr>\n",
       "    <tr>\n",
       "      <th>149</th>\n",
       "      <td>5.9</td>\n",
       "      <td>3.0</td>\n",
       "      <td>5.1</td>\n",
       "      <td>1.8</td>\n",
       "      <td>Iris-virginica</td>\n",
       "    </tr>\n",
       "  </tbody>\n",
       "</table>\n",
       "</div>"
      ],
      "text/plain": [
       "       0    1    2    3               4\n",
       "145  6.7  3.0  5.2  2.3  Iris-virginica\n",
       "146  6.3  2.5  5.0  1.9  Iris-virginica\n",
       "147  6.5  3.0  5.2  2.0  Iris-virginica\n",
       "148  6.2  3.4  5.4  2.3  Iris-virginica\n",
       "149  5.9  3.0  5.1  1.8  Iris-virginica"
      ]
     },
     "execution_count": 34,
     "metadata": {},
     "output_type": "execute_result"
    }
   ],
   "source": [
    "df.tail()"
   ]
  },
  {
   "cell_type": "markdown",
   "id": "9b220818",
   "metadata": {},
   "source": [
    "### 붓꽃 데이터셋의 산점도"
   ]
  },
  {
   "cell_type": "code",
   "execution_count": 35,
   "id": "7de40ada",
   "metadata": {},
   "outputs": [],
   "source": [
    "import matplotlib.pyplot as plt\n",
    "import numpy as np"
   ]
  },
  {
   "cell_type": "code",
   "execution_count": 43,
   "id": "b7ff1737",
   "metadata": {},
   "outputs": [],
   "source": [
    "#setosa와 versicolor를 선택합니다\n",
    "y = df.iloc[0:100,4].values\n",
    "y = np.where(y=='Iris-setosa',-1,1)#versicolor(1),setosa(-1)"
   ]
  },
  {
   "cell_type": "code",
   "execution_count": 44,
   "id": "ca59f4b5",
   "metadata": {},
   "outputs": [],
   "source": [
    "#꽃받침 길이와 꽃잎 길이를 추출\n",
    "X = df.iloc[0:100,[0,2]].values"
   ]
  },
  {
   "cell_type": "code",
   "execution_count": 45,
   "id": "f1ad26eb",
   "metadata": {},
   "outputs": [
    {
     "data": {
      "image/png": "[encoded data removed]",
      "text/plain": [
       "<Figure size 432x288 with 1 Axes>"
      ]
     },
     "metadata": {
      "needs_background": "light"
     },
     "output_type": "display_data"
    }
   ],
   "source": [
    "#산점도\n",
    "plt.scatter(X[:50,0],X[:50,1],color='red', marker='o',label = 'setosa')\n",
    "plt.scatter(X[50:100,0],X[50:100,1],color='blue',marker='x',label='versicolor')\n",
    "plt.xlabel('sepal length [cm]')\n",
    "plt.ylabel('petal length [cm]')\n",
    "plt.legend(loc='upper left')\n",
    "plt.show()"
   ]
  },
  {
   "cell_type": "markdown",
   "id": "94cbfa86",
   "metadata": {},
   "source": [
    "퍼셉트론의 에포크 대비 오차"
   ]
  },
  {
   "cell_type": "code",
   "execution_count": 46,
   "id": "da984c4a",
   "metadata": {},
   "outputs": [
    {
     "data": {
      "image/png": "[encoded data removed]",
      "text/plain": [
       "<Figure size 432x288 with 1 Axes>"
      ]
     },
     "metadata": {
      "needs_background": "light"
     },
     "output_type": "display_data"
    }
   ],
   "source": [
    "ppn = Perceptron(eta = 0.1, n_iter = 10)#퍼셉트론\n",
    "ppn.fit(X,y)\n",
    "plt.plot(range(1,len(ppn.errors_) +1), ppn.errors_,marker ='o')\n",
    "plt.xlabel('Epochs')\n",
    "plt.ylabel(\"num of errors\")\n",
    "plt.show()"
   ]
  },
  {
   "cell_type": "markdown",
   "id": "4a4a1976",
   "metadata": {},
   "source": [
    "퍼셉트론이 만든 붓꽃 데이터셋의 결정 경계"
   ]
  },
  {
   "cell_type": "code",
   "execution_count": 48,
   "id": "e2cdcced",
   "metadata": {},
   "outputs": [],
   "source": [
    "from matplotlib.colors import ListedColormap"
   ]
  },
  {
   "cell_type": "code",
   "execution_count": 54,
   "id": "d5cd70c4",
   "metadata": {},
   "outputs": [
    {
     "name": "stderr",
     "output_type": "stream",
     "text": [
      "<ipython-input-54-d28168eef3bb>:19: UserWarning: You passed a edgecolor/edgecolors ('black') for an unfilled marker ('x').  Matplotlib is ignoring the edgecolor in favor of the facecolor.  This behavior may change in the future.\n",
      "  plt.scatter(x = X[y==cl,0],\n"
     ]
    },
    {
     "data": {
      "image/png": "[encoded data removed]",
      "text/plain": [
       "<Figure size 432x288 with 1 Axes>"
      ]
     },
     "metadata": {
      "needs_background": "light"
     },
     "output_type": "display_data"
    }
   ],
   "source": [
    "#결정 경계 시각화(by 퍼셉트론)\n",
    "def plot_decision_regions(X,y,classifier, resolution=0.02):\n",
    "    #마커와 컬러맵을 설정\n",
    "    markers = ('s','x','o','^','v')#마커\n",
    "    colors = ('red','blue','lightgreen','gray','cyan')#컬러\n",
    "    cmap = ListedColormap(colors[:len(np.unique(y))])#컬러맵\n",
    "    \n",
    "    #결정 경계 그리기\n",
    "    x1_min, x1_max = X[:,0].min() -1, X[:,0].max()+1#특성 1 최소, 최대\n",
    "    x2_min, x2_max = X[:,1].min()-1, X[:,1].max()+1#특성 2 최소 최대\n",
    "    xx1, xx2 = np.meshgrid(np.arange(x1_min,x1_max,resolution),np.arange(x2_min,x2_max,resolution))\n",
    "    Z= classifier.predict(np.array([xx1.ravel(),xx2.ravel()]).T)\n",
    "    Z = Z.reshape(xx1.shape)\n",
    "    plt.contourf(xx1,xx2,Z,alpha=0.3,cmap=cmap)\n",
    "    plt.xlim(xx1.min(),xx1.max())\n",
    "    plt.ylim(xx2.min(),xx2.max())\n",
    "    #샘플의 산점도 그리기\n",
    "    for idx, cl in enumerate(np.unique(y)):\n",
    "        plt.scatter(x = X[y==cl,0],\n",
    "                   y = X[y==cl,1],\n",
    "                   alpha = 0.8,\n",
    "                   c = colors[idx],\n",
    "                   marker = markers[idx],\n",
    "                   label = cl,\n",
    "                   edgecolor = 'black')\n",
    "        \n",
    "plot_decision_regions(X,y,classifier=ppn)\n",
    "plt.xlabel('sepal length [cm]')\n",
    "plt.ylabel('petal length [cm]')\n",
    "plt.legend(loc = 'upper left')\n",
    "plt.show()"
   ]
  },
  {
   "cell_type": "markdown",
   "id": "dc22c65e",
   "metadata": {},
   "source": [
    "아달린 구현"
   ]
  },
  {
   "cell_type": "code",
   "execution_count": 61,
   "id": "fe0279c9",
   "metadata": {},
   "outputs": [],
   "source": [
    "#경사하강법으로 비용함수가 최소화되도록 가중치 업데이트\n",
    "class AdalineGD(object):#아달린 구현\n",
    "    \"\"\"적응형 선형 뉴런 만들기\"\"\"\n",
    "    def __init__(self,eta = 0.01, n_iter = 50, random_state = 1):#초기화\n",
    "        self.eta = eta#학습률\n",
    "        self.n_iter = n_iter#훈련 데이터 셋 반복횟수\n",
    "        self.random_state = random_state\n",
    "        \n",
    "    def fit(self,X,y):#학습\n",
    "        rgen = np.random.RandomState(self.random_state)\n",
    "        self.w_ = rgen.normal(loc = 0.0, scale = 0.01, size = 1+X.shape[1])\n",
    "        self.cost_ = []\n",
    "        for i in range(self.n_iter):\n",
    "            net_input = self.net_input(X)\n",
    "            output = self.activation(net_input)\n",
    "            errors = (y-output)\n",
    "            self.w_[1:]+=self.eta*X.T.dot(errors)#특성 행렬과 오차 벡터간의 행렬-벡터 곱셈elf.\n",
    "            self.w_[0]+=self.eta *errors.sum()\n",
    "            cost = (errors**2).sum()/2.0\n",
    "            self.cost_.append(cost)\n",
    "        return self\n",
    "    \n",
    "    def activation(self,X):#선형 활성화 계산\n",
    "        return X\n",
    "    \n",
    "    def net_input(self,X):\n",
    "        \"\"\"최종 입력 계산\"\"\"\n",
    "        return np.dot(X,self.w_[1:])+self.w_[0]\n",
    "    \n",
    "    def predict(self,X):#항등함수\n",
    "        \"\"\"단위 계단 함수를 사용하여 클래스 레이블 반환\"\"\"\n",
    "        return np.where(self.activation(self.net_input(X))>=0.0,1,-1)"
   ]
  },
  {
   "cell_type": "code",
   "execution_count": 67,
   "id": "50438a80",
   "metadata": {},
   "outputs": [
    {
     "data": {
      "image/png": "[encoded data removed]",
      "text/plain": [
       "<Figure size 720x288 with 2 Axes>"
      ]
     },
     "metadata": {
      "needs_background": "light"
     },
     "output_type": "display_data"
    }
   ],
   "source": [
    "#서로 다른 학습률에서 에포크 횟수 대비 비용 그래프\n",
    "fig, ax = plt.subplots(nrows=1,ncols=2,figsize=(10,4))\n",
    "\n",
    "ada1 = AdalineGD(n_iter=10,eta=0.01).fit(X,y)#0.01 학습률\n",
    "ax[0].plot(range(1,len(ada1.cost_)+1),\n",
    "          np.log10(ada1.cost_),marker = 'o')\n",
    "ax[0].set_xlabel('Epochs')\n",
    "ax[0].set_ylabel('log(Sum Squared Error)')\n",
    "ax[0].set_title('Adaline - Learning rate : 0.01\\n(too big learning rate;divergence)')\n",
    "\n",
    "ada2 = AdalineGD(n_iter=10,eta=0.0001).fit(X,y)\n",
    "ax[1].plot(range(1,len(ada2.cost_)+1),np.log10(ada2.cost_),marker='o')\n",
    "ax[1].set_xlabel('Epochs')\n",
    "ax[1].set_ylabel('log(Sum Squared Error)')\n",
    "ax[1].set_title('Adaline - Learning rate 0.0001\\n(convergence)')\n",
    "plt.show()"
   ]
  },
  {
   "cell_type": "markdown",
   "id": "6dab8165",
   "metadata": {},
   "source": [
    "표준화를 적용한 아달린의 결정 경계와 학습 곡선"
   ]
  },
  {
   "cell_type": "code",
   "execution_count": 69,
   "id": "099c6be5",
   "metadata": {},
   "outputs": [],
   "source": [
    "X_std = np.copy(X)\n",
    "X_std[:,0]= (X[:,0]-X[:,0].mean())/X[:,0].std()#표준화\n",
    "X_std[:,1]= (X[:,1]-X[:,1].mean())/X[:,1].std()#표준화"
   ]
  },
  {
   "cell_type": "code",
   "execution_count": 70,
   "id": "81dc7a61",
   "metadata": {},
   "outputs": [
    {
     "data": {
      "text/plain": [
       "<__main__.AdalineGD at 0x2bf2ab0afa0>"
      ]
     },
     "execution_count": 70,
     "metadata": {},
     "output_type": "execute_result"
    }
   ],
   "source": [
    "ada = AdalineGD(n_iter=15,eta=0.01)\n",
    "ada.fit(X_std,y)"
   ]
  },
  {
   "cell_type": "code",
   "execution_count": 73,
   "id": "8ca9537a",
   "metadata": {},
   "outputs": [
    {
     "name": "stderr",
     "output_type": "stream",
     "text": [
      "<ipython-input-54-d28168eef3bb>:19: UserWarning: You passed a edgecolor/edgecolors ('black') for an unfilled marker ('x').  Matplotlib is ignoring the edgecolor in favor of the facecolor.  This behavior may change in the future.\n",
      "  plt.scatter(x = X[y==cl,0],\n"
     ]
    },
    {
     "data": {
      "image/png": "[encoded data removed]",
      "text/plain": [
       "<Figure size 432x288 with 1 Axes>"
      ]
     },
     "metadata": {
      "needs_background": "light"
     },
     "output_type": "display_data"
    }
   ],
   "source": [
    "#결정경계\n",
    "plot_decision_regions(X_std,y,classifier=ada)#결정경계\n",
    "plt.title('Adaline-Gradient Descent')\n",
    "plt.xlabel('sepal length [standardized]')\n",
    "plt.ylabel('petal legnth [standardized]')\n",
    "plt.legend(loc = 'upper left')\n",
    "plt.tight_layout()\n",
    "plt.show()"
   ]
  },
  {
   "cell_type": "code",
   "execution_count": 74,
   "id": "e9665b34",
   "metadata": {},
   "outputs": [
    {
     "data": {
      "image/png": "[encoded data removed]",
      "text/plain": [
       "<Figure size 432x288 with 1 Axes>"
      ]
     },
     "metadata": {
      "needs_background": "light"
     },
     "output_type": "display_data"
    }
   ],
   "source": [
    "#학습곡선\n",
    "plt.plot(range(1,len(ada.cost_)+1),ada.cost_,marker='o')#손실값\n",
    "plt.xlabel('Epochs')\n",
    "plt.ylabel('Sum-squared-error')\n",
    "plt.show()"
   ]
  },
  {
   "cell_type": "markdown",
   "id": "5a87ea20",
   "metadata": {},
   "source": [
    "### 배치 경사 하강법의 다른 대안: 확률적 경사 하강법 Stochastic Gradient Descent"
   ]
  },
  {
   "cell_type": "code",
   "execution_count": 78,
   "id": "48e1ea21",
   "metadata": {},
   "outputs": [],
   "source": [
    "class AdalineSGD(object):#확률적 경사하강법\n",
    "    def __init__(self, eta = 0.01, n_iter = 10, shuffle=True, random_state =None):\n",
    "        self.eta = eta\n",
    "        self.n_iter = n_iter#반복횟수\n",
    "        self.w_initialized = False\n",
    "        self.shuffle = shuffle#훈련 데이터 섞기(epoch 마다)\n",
    "        self.random_state = random_state\n",
    "    \n",
    "    def fit(self,X,y):#학습\n",
    "        self._initialize_weights(X.shape[1])#초기화\n",
    "        self.cost_ = []\n",
    "        for i in range(self.n_iter):#반복동안갱신\n",
    "            if self.shuffle:#에포크마다 섞기\n",
    "                X,y = self._shuffle(X,y)\n",
    "            cost = []\n",
    "            for xi, target in zip(X,y):\n",
    "                cost.append(self._update_weights(xi,target))\n",
    "            avg_cost = sum(cost)/len(y)#평균비용\n",
    "            self.cost_.append(avg_cost)#손실추가\n",
    "        \n",
    "        return self\n",
    "    \n",
    "    def partial_fit(self,X,y):\n",
    "        \"\"\"가중치를 다시 초기화하지 않고 훈련 데이터를 학습\"\"\"\n",
    "        if not self.w_initialized:#초기화 안되었으면\n",
    "            self._initialize_weights(X.shape[1])\n",
    "        if y.ravel().shape[0]>1:\n",
    "            for xi, target in zip(X,y):\n",
    "                self._update_weights(xi,target)\n",
    "        else:\n",
    "            self._update_weights(X,y)\n",
    "        return self\n",
    "\n",
    "    def _shuffle(self,X,y):\n",
    "        \"\"\"훈련 데이터를 섞습니다\"\"\"\n",
    "        r = self.rgen.permutation(len(y))#랜덤한 숫자 시퀀스 생서\n",
    "        return X[r],y[r]\n",
    "\n",
    "    def _initialize_weights(self,m):\n",
    "        \"\"\"랜덤한 작은 수로 가중치를 초기화한다\"\"\"\n",
    "        self.rgen = np.random.RandomState(self.random_state)\n",
    "        self.w_ = self.rgen.normal(loc=0.0,scale =0.01, size = 1+m)\n",
    "        self.w_initialized = True\n",
    "    \n",
    "    def _update_weights(self,xi,target):#가중치 업데이트\n",
    "        \"\"\"아달린 학습 규칙을 적용하여 가중치를 업데이트\"\"\"\n",
    "        output = self.activation(self.net_input(xi))\n",
    "        error = (target-output)\n",
    "        self.w_[1:] += self.eta*xi.dot(error)\n",
    "        self.w_[0]+= self.eta*error\n",
    "        cost = 0.5*error**2#SSE\n",
    "        return cost\n",
    "    \n",
    "    def net_input(self,X):\n",
    "        \"\"\"최종 입력 계산\"\"\"\n",
    "        return np.dot(X,self.w_[1:])+self.w_[0]\n",
    "    \n",
    "    def activation(self,X):\n",
    "        \"\"\"선형 활성화 계산\"\"\"\n",
    "        return X\n",
    "    \n",
    "    def predict(self,X):\n",
    "        \"\"\"단위 계단 함수 사용하여 클래스 레이블 반환\"\"\"\n",
    "        return np.where(self.activation(self.net_input(X))>=0.0,1,-1)"
   ]
  },
  {
   "cell_type": "code",
   "execution_count": 79,
   "id": "71c72d23",
   "metadata": {},
   "outputs": [
    {
     "data": {
      "text/plain": [
       "<__main__.AdalineSGD at 0x2bf2afc4a30>"
      ]
     },
     "execution_count": 79,
     "metadata": {},
     "output_type": "execute_result"
    }
   ],
   "source": [
    "ada = AdalineSGD(n_iter=15,eta=0.01,random_state=1)\n",
    "ada.fit(X_std,y)"
   ]
  },
  {
   "cell_type": "code",
   "execution_count": 80,
   "id": "01604f27",
   "metadata": {},
   "outputs": [
    {
     "name": "stderr",
     "output_type": "stream",
     "text": [
      "<ipython-input-54-d28168eef3bb>:19: UserWarning: You passed a edgecolor/edgecolors ('black') for an unfilled marker ('x').  Matplotlib is ignoring the edgecolor in favor of the facecolor.  This behavior may change in the future.\n",
      "  plt.scatter(x = X[y==cl,0],\n"
     ]
    },
    {
     "data": {
      "image/png": "[encoded data removed]",
      "text/plain": [
       "<Figure size 432x288 with 1 Axes>"
      ]
     },
     "metadata": {
      "needs_background": "light"
     },
     "output_type": "display_data"
    }
   ],
   "source": [
    "#결정경계\n",
    "plot_decision_regions(X_std,y,classifier=ada)\n",
    "plt.title(\"Adaline - Stochastic Gradient Descent\")\n",
    "plt.xlabel('sepal length [standardized]')\n",
    "plt.ylabel('petal length [standardized]')\n",
    "plt.legend(loc='upper left')\n",
    "plt.show()"
   ]
  },
  {
   "cell_type": "code",
   "execution_count": 81,
   "id": "6fc8510e",
   "metadata": {},
   "outputs": [
    {
     "data": {
      "image/png": "[encoded data removed]",
      "text/plain": [
       "<Figure size 432x288 with 1 Axes>"
      ]
     },
     "metadata": {
      "needs_background": "light"
     },
     "output_type": "display_data"
    }
   ],
   "source": [
    "plt.plot(range(1,len(ada.cost_)+1),ada.cost_,marker='o')\n",
    "plt.xlabel('Epochs')\n",
    "plt.ylabel('Average Cost')\n",
    "plt.show()"
   ]
  }
 ],
 "metadata": {
  "kernelspec": {
   "display_name": "Python 3",
   "language": "python",
   "name": "python3"
  },
  "language_info": {
   "codemirror_mode": {
    "name": "ipython",
    "version": 3
   },
   "file_extension": ".py",
   "mimetype": "text/x-python",
   "name": "python",
   "nbconvert_exporter": "python",
   "pygments_lexer": "ipython3",
   "version": "3.9.5"
  }
 },
 "nbformat": 4,
 "nbformat_minor": 5
}
