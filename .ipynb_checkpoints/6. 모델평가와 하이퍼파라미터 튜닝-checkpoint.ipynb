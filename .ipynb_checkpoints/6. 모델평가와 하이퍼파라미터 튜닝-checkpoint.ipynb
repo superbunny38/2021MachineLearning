{
 "cells": [
  {
   "cell_type": "code",
   "execution_count": 2,
   "id": "4c3fb5fd",
   "metadata": {},
   "outputs": [],
   "source": [
    "import pandas as pd\n",
    "df = pd.read_csv('https://archive.ics.uci.edu/ml/'\n",
    "                'machine-learning-databases'\n",
    "                '/breast-cancer-wisconsin/wdbc.data',header=None)#위스콘신 유방암 데이터셋"
   ]
  },
  {
   "cell_type": "code",
   "execution_count": 3,
   "id": "c8feff20",
   "metadata": {},
   "outputs": [
    {
     "data": {
      "text/html": [
       "<div>\n",
       "<style scoped>\n",
       "    .dataframe tbody tr th:only-of-type {\n",
       "        vertical-align: middle;\n",
       "    }\n",
       "\n",
       "    .dataframe tbody tr th {\n",
       "        vertical-align: top;\n",
       "    }\n",
       "\n",
       "    .dataframe thead th {\n",
       "        text-align: right;\n",
       "    }\n",
       "</style>\n",
       "<table border=\"1\" class=\"dataframe\">\n",
       "  <thead>\n",
       "    <tr style=\"text-align: right;\">\n",
       "      <th></th>\n",
       "      <th>0</th>\n",
       "      <th>1</th>\n",
       "      <th>2</th>\n",
       "      <th>3</th>\n",
       "      <th>4</th>\n",
       "      <th>5</th>\n",
       "      <th>6</th>\n",
       "      <th>7</th>\n",
       "      <th>8</th>\n",
       "      <th>9</th>\n",
       "      <th>...</th>\n",
       "      <th>22</th>\n",
       "      <th>23</th>\n",
       "      <th>24</th>\n",
       "      <th>25</th>\n",
       "      <th>26</th>\n",
       "      <th>27</th>\n",
       "      <th>28</th>\n",
       "      <th>29</th>\n",
       "      <th>30</th>\n",
       "      <th>31</th>\n",
       "    </tr>\n",
       "  </thead>\n",
       "  <tbody>\n",
       "    <tr>\n",
       "      <th>0</th>\n",
       "      <td>842302</td>\n",
       "      <td>M</td>\n",
       "      <td>17.99</td>\n",
       "      <td>10.38</td>\n",
       "      <td>122.80</td>\n",
       "      <td>1001.0</td>\n",
       "      <td>0.11840</td>\n",
       "      <td>0.27760</td>\n",
       "      <td>0.3001</td>\n",
       "      <td>0.14710</td>\n",
       "      <td>...</td>\n",
       "      <td>25.38</td>\n",
       "      <td>17.33</td>\n",
       "      <td>184.60</td>\n",
       "      <td>2019.0</td>\n",
       "      <td>0.1622</td>\n",
       "      <td>0.6656</td>\n",
       "      <td>0.7119</td>\n",
       "      <td>0.2654</td>\n",
       "      <td>0.4601</td>\n",
       "      <td>0.11890</td>\n",
       "    </tr>\n",
       "    <tr>\n",
       "      <th>1</th>\n",
       "      <td>842517</td>\n",
       "      <td>M</td>\n",
       "      <td>20.57</td>\n",
       "      <td>17.77</td>\n",
       "      <td>132.90</td>\n",
       "      <td>1326.0</td>\n",
       "      <td>0.08474</td>\n",
       "      <td>0.07864</td>\n",
       "      <td>0.0869</td>\n",
       "      <td>0.07017</td>\n",
       "      <td>...</td>\n",
       "      <td>24.99</td>\n",
       "      <td>23.41</td>\n",
       "      <td>158.80</td>\n",
       "      <td>1956.0</td>\n",
       "      <td>0.1238</td>\n",
       "      <td>0.1866</td>\n",
       "      <td>0.2416</td>\n",
       "      <td>0.1860</td>\n",
       "      <td>0.2750</td>\n",
       "      <td>0.08902</td>\n",
       "    </tr>\n",
       "    <tr>\n",
       "      <th>2</th>\n",
       "      <td>84300903</td>\n",
       "      <td>M</td>\n",
       "      <td>19.69</td>\n",
       "      <td>21.25</td>\n",
       "      <td>130.00</td>\n",
       "      <td>1203.0</td>\n",
       "      <td>0.10960</td>\n",
       "      <td>0.15990</td>\n",
       "      <td>0.1974</td>\n",
       "      <td>0.12790</td>\n",
       "      <td>...</td>\n",
       "      <td>23.57</td>\n",
       "      <td>25.53</td>\n",
       "      <td>152.50</td>\n",
       "      <td>1709.0</td>\n",
       "      <td>0.1444</td>\n",
       "      <td>0.4245</td>\n",
       "      <td>0.4504</td>\n",
       "      <td>0.2430</td>\n",
       "      <td>0.3613</td>\n",
       "      <td>0.08758</td>\n",
       "    </tr>\n",
       "    <tr>\n",
       "      <th>3</th>\n",
       "      <td>84348301</td>\n",
       "      <td>M</td>\n",
       "      <td>11.42</td>\n",
       "      <td>20.38</td>\n",
       "      <td>77.58</td>\n",
       "      <td>386.1</td>\n",
       "      <td>0.14250</td>\n",
       "      <td>0.28390</td>\n",
       "      <td>0.2414</td>\n",
       "      <td>0.10520</td>\n",
       "      <td>...</td>\n",
       "      <td>14.91</td>\n",
       "      <td>26.50</td>\n",
       "      <td>98.87</td>\n",
       "      <td>567.7</td>\n",
       "      <td>0.2098</td>\n",
       "      <td>0.8663</td>\n",
       "      <td>0.6869</td>\n",
       "      <td>0.2575</td>\n",
       "      <td>0.6638</td>\n",
       "      <td>0.17300</td>\n",
       "    </tr>\n",
       "    <tr>\n",
       "      <th>4</th>\n",
       "      <td>84358402</td>\n",
       "      <td>M</td>\n",
       "      <td>20.29</td>\n",
       "      <td>14.34</td>\n",
       "      <td>135.10</td>\n",
       "      <td>1297.0</td>\n",
       "      <td>0.10030</td>\n",
       "      <td>0.13280</td>\n",
       "      <td>0.1980</td>\n",
       "      <td>0.10430</td>\n",
       "      <td>...</td>\n",
       "      <td>22.54</td>\n",
       "      <td>16.67</td>\n",
       "      <td>152.20</td>\n",
       "      <td>1575.0</td>\n",
       "      <td>0.1374</td>\n",
       "      <td>0.2050</td>\n",
       "      <td>0.4000</td>\n",
       "      <td>0.1625</td>\n",
       "      <td>0.2364</td>\n",
       "      <td>0.07678</td>\n",
       "    </tr>\n",
       "  </tbody>\n",
       "</table>\n",
       "<p>5 rows × 32 columns</p>\n",
       "</div>"
      ],
      "text/plain": [
       "         0  1      2      3       4       5        6        7       8   \\\n",
       "0    842302  M  17.99  10.38  122.80  1001.0  0.11840  0.27760  0.3001   \n",
       "1    842517  M  20.57  17.77  132.90  1326.0  0.08474  0.07864  0.0869   \n",
       "2  84300903  M  19.69  21.25  130.00  1203.0  0.10960  0.15990  0.1974   \n",
       "3  84348301  M  11.42  20.38   77.58   386.1  0.14250  0.28390  0.2414   \n",
       "4  84358402  M  20.29  14.34  135.10  1297.0  0.10030  0.13280  0.1980   \n",
       "\n",
       "        9   ...     22     23      24      25      26      27      28      29  \\\n",
       "0  0.14710  ...  25.38  17.33  184.60  2019.0  0.1622  0.6656  0.7119  0.2654   \n",
       "1  0.07017  ...  24.99  23.41  158.80  1956.0  0.1238  0.1866  0.2416  0.1860   \n",
       "2  0.12790  ...  23.57  25.53  152.50  1709.0  0.1444  0.4245  0.4504  0.2430   \n",
       "3  0.10520  ...  14.91  26.50   98.87   567.7  0.2098  0.8663  0.6869  0.2575   \n",
       "4  0.10430  ...  22.54  16.67  152.20  1575.0  0.1374  0.2050  0.4000  0.1625   \n",
       "\n",
       "       30       31  \n",
       "0  0.4601  0.11890  \n",
       "1  0.2750  0.08902  \n",
       "2  0.3613  0.08758  \n",
       "3  0.6638  0.17300  \n",
       "4  0.2364  0.07678  \n",
       "\n",
       "[5 rows x 32 columns]"
      ]
     },
     "execution_count": 3,
     "metadata": {},
     "output_type": "execute_result"
    }
   ],
   "source": [
    "df.head()"
   ]
  },
  {
   "cell_type": "code",
   "execution_count": 4,
   "id": "621a5242",
   "metadata": {},
   "outputs": [],
   "source": [
    "from sklearn.preprocessing import LabelEncoder\n",
    "X= df.loc[:,2:].values"
   ]
  },
  {
   "cell_type": "code",
   "execution_count": 13,
   "id": "4a2ae020",
   "metadata": {},
   "outputs": [],
   "source": [
    "y = df.loc[:,1].values"
   ]
  },
  {
   "cell_type": "code",
   "execution_count": 14,
   "id": "2d88c565",
   "metadata": {},
   "outputs": [
    {
     "data": {
      "text/plain": [
       "array(['M', 'M', 'M', 'M', 'M'], dtype=object)"
      ]
     },
     "execution_count": 14,
     "metadata": {},
     "output_type": "execute_result"
    }
   ],
   "source": [
    "y[:5]"
   ]
  },
  {
   "cell_type": "code",
   "execution_count": 15,
   "id": "f3068aef",
   "metadata": {},
   "outputs": [
    {
     "data": {
      "text/plain": [
       "array(['B', 'M'], dtype=object)"
      ]
     },
     "execution_count": 15,
     "metadata": {},
     "output_type": "execute_result"
    }
   ],
   "source": [
    "le = LabelEncoder()\n",
    "y = le.fit_transform(y)\n",
    "le.classes_#M:악성, B:양성"
   ]
  },
  {
   "cell_type": "code",
   "execution_count": 17,
   "id": "ee84c2b1",
   "metadata": {},
   "outputs": [
    {
     "data": {
      "text/plain": [
       "array([1, 0])"
      ]
     },
     "execution_count": 17,
     "metadata": {},
     "output_type": "execute_result"
    }
   ],
   "source": [
    "le.transform(['M','B'])"
   ]
  },
  {
   "cell_type": "code",
   "execution_count": 16,
   "id": "9477d7bb",
   "metadata": {},
   "outputs": [
    {
     "data": {
      "text/plain": [
       "array([1, 1, 1, 1, 1])"
      ]
     },
     "execution_count": 16,
     "metadata": {},
     "output_type": "execute_result"
    }
   ],
   "source": [
    "y[:5]"
   ]
  },
  {
   "cell_type": "code",
   "execution_count": 18,
   "id": "06756d8c",
   "metadata": {},
   "outputs": [],
   "source": [
    "from sklearn.model_selection import train_test_split\n",
    "X_train,X_test,y_train,y_test = train_test_split(X,y,test_size=0.20,stratify=y,random_state=1)"
   ]
  },
  {
   "cell_type": "markdown",
   "id": "f6a7a666",
   "metadata": {},
   "source": [
    "## 파이프라인을 사용한 효율적인 워크플로"
   ]
  },
  {
   "cell_type": "code",
   "execution_count": 19,
   "id": "2b25f4ca",
   "metadata": {},
   "outputs": [],
   "source": [
    "from sklearn.preprocessing import StandardScaler\n",
    "from sklearn.decomposition import PCA\n",
    "from sklearn.linear_model import LogisticRegression\n",
    "from sklearn.pipeline import make_pipeline\n",
    "pipe_lr = make_pipeline(StandardScaler(),#표준화\n",
    "                        PCA(n_components=2),#주성분분석\n",
    "                       LogisticRegression(solver='liblinear',random_state=1))#로지스틱 회귀"
   ]
  },
  {
   "cell_type": "code",
   "execution_count": 20,
   "id": "c3d9c235",
   "metadata": {},
   "outputs": [
    {
     "data": {
      "text/plain": [
       "Pipeline(steps=[('standardscaler', StandardScaler()),\n",
       "                ('pca', PCA(n_components=2)),\n",
       "                ('logisticregression',\n",
       "                 LogisticRegression(random_state=1, solver='liblinear'))])"
      ]
     },
     "execution_count": 20,
     "metadata": {},
     "output_type": "execute_result"
    }
   ],
   "source": [
    "pipe_lr.fit(X_train,y_train)#훈련"
   ]
  },
  {
   "cell_type": "code",
   "execution_count": 21,
   "id": "1583c4f1",
   "metadata": {},
   "outputs": [],
   "source": [
    "y_pred = pipe_lr.predict(X_test)#예측"
   ]
  },
  {
   "cell_type": "code",
   "execution_count": 23,
   "id": "b85bab53",
   "metadata": {},
   "outputs": [
    {
     "name": "stdout",
     "output_type": "stream",
     "text": [
      "테스트 정확도: 0.956\n"
     ]
    }
   ],
   "source": [
    "print(\"테스트 정확도: %.3f\"%pipe_lr.score(X_test,y_test))#정확도"
   ]
  },
  {
   "cell_type": "markdown",
   "id": "f2c92364",
   "metadata": {},
   "source": [
    "#### 계층적 k-겹 교차검증(stratified k-fold cross-validation)\n",
    ": 클래스 비율이 전체 훈련 세트에 있는 클래스 비율을 대표하도록 유지"
   ]
  },
  {
   "cell_type": "code",
   "execution_count": 38,
   "id": "b88954aa",
   "metadata": {},
   "outputs": [],
   "source": [
    "import numpy as np\n",
    "from sklearn.model_selection import StratifiedKFold#계층적 k-겹 교차검증"
   ]
  },
  {
   "cell_type": "code",
   "execution_count": 39,
   "id": "f0f5f7bb",
   "metadata": {},
   "outputs": [],
   "source": [
    "kfold = StratifiedKFold(n_splits=10,shuffle=True,#10겹\n",
    "                       random_state=1).split(X_train,y_train)"
   ]
  },
  {
   "cell_type": "code",
   "execution_count": 40,
   "id": "78f91b67",
   "metadata": {},
   "outputs": [],
   "source": [
    "scores = []#정확도"
   ]
  },
  {
   "cell_type": "code",
   "execution_count": 41,
   "id": "21bf4221",
   "metadata": {},
   "outputs": [
    {
     "name": "stdout",
     "output_type": "stream",
     "text": [
      "폴드:  1, 클래스 분포:[256 153], 정확도: 0.913\n",
      "폴드:  2, 클래스 분포:[256 153], 정확도: 1.000\n",
      "폴드:  3, 클래스 분포:[256 153], 정확도: 0.957\n",
      "폴드:  4, 클래스 분포:[256 153], 정확도: 0.978\n",
      "폴드:  5, 클래스 분포:[256 153], 정확도: 0.870\n",
      "폴드:  6, 클래스 분포:[257 153], 정확도: 0.933\n",
      "폴드:  7, 클래스 분포:[257 153], 정확도: 0.956\n",
      "폴드:  8, 클래스 분포:[257 153], 정확도: 0.978\n",
      "폴드:  9, 클래스 분포:[257 153], 정확도: 0.978\n",
      "폴드: 10, 클래스 분포:[257 153], 정확도: 0.911\n"
     ]
    }
   ],
   "source": [
    "for k,(train,test) in enumerate(kfold):\n",
    "    pipe_lr.fit(X_train[train],y_train[train])#훈련\n",
    "    score = pipe_lr.score(X_train[test],y_train[test])\n",
    "    scores.append(score)\n",
    "    print(\"폴드: %2d, 클래스 분포:%s, 정확도: %.3f\"%(k+1,np.bincount(y_train[train]),score))"
   ]
  },
  {
   "cell_type": "code",
   "execution_count": 42,
   "id": "0d341c4c",
   "metadata": {},
   "outputs": [
    {
     "name": "stdout",
     "output_type": "stream",
     "text": [
      "\n",
      " CV 정확도: 0.947 +/- 0.038\n"
     ]
    }
   ],
   "source": [
    "print(\"\\n CV 정확도: %.3f +/- %.3f\"%(np.mean(scores),np.std(scores)))"
   ]
  },
  {
   "cell_type": "code",
   "execution_count": 43,
   "id": "ec4fe516",
   "metadata": {},
   "outputs": [],
   "source": [
    "from sklearn.model_selection import cross_val_score#사이킷런의 k겹교차검증함수"
   ]
  },
  {
   "cell_type": "code",
   "execution_count": 44,
   "id": "748cf4cf",
   "metadata": {},
   "outputs": [],
   "source": [
    "scores = cross_val_score(estimator=pipe_lr,X=X_train,y=y_train, cv=10, n_jobs=1)#n_jobs=1: 하나의 CPU 코어만 성능평가에 사용"
   ]
  },
  {
   "cell_type": "code",
   "execution_count": 45,
   "id": "1d02634f",
   "metadata": {},
   "outputs": [
    {
     "name": "stdout",
     "output_type": "stream",
     "text": [
      "CV 정확도 점수: [0.93478261 0.93478261 0.95652174 0.95652174 0.93478261 0.95555556\n",
      " 0.97777778 0.93333333 0.95555556 0.95555556]\n"
     ]
    }
   ],
   "source": [
    "print(\"CV 정확도 점수: %s\"%scores)"
   ]
  },
  {
   "cell_type": "code",
   "execution_count": 46,
   "id": "c576ed8c",
   "metadata": {},
   "outputs": [
    {
     "name": "stdout",
     "output_type": "stream",
     "text": [
      "\n",
      " CV 정확도: 0.950 +/- 0.014\n"
     ]
    }
   ],
   "source": [
    "print(\"\\n CV 정확도: %.3f +/- %.3f\"%(np.mean(scores),np.std(scores)))"
   ]
  },
  {
   "cell_type": "markdown",
   "id": "0e530c95",
   "metadata": {},
   "source": [
    "### 학습 곡선과 검증 곡선을 사용한 알고리즘 디버깅"
   ]
  },
  {
   "cell_type": "code",
   "execution_count": 58,
   "id": "baa6d6d9",
   "metadata": {},
   "outputs": [],
   "source": [
    "import matplotlib.pyplot as plt\n",
    "from sklearn.model_selection import learning_curve#학습 곡선 함수"
   ]
  },
  {
   "cell_type": "code",
   "execution_count": 59,
   "id": "e7bbe5ad",
   "metadata": {},
   "outputs": [],
   "source": [
    "pipe_lr = make_pipeline(StandardScaler(), LogisticRegression(solver='liblinear',penalty='l2',random_state=1))"
   ]
  },
  {
   "cell_type": "code",
   "execution_count": 60,
   "id": "f785bbe9",
   "metadata": {},
   "outputs": [],
   "source": [
    "train_sizes, train_scores, test_scores = learning_curve(estimator=pipe_lr, X = X_train, y=y_train, \n",
    "                                                        train_sizes=np.linspace(0.1,1.0,10),#일정한 간격으로 훈련세트의 비율 10개 설정\n",
    "                                                       cv=10,#계층별 10겹 교차 검증\n",
    "                                                       n_jobs=1)"
   ]
  },
  {
   "cell_type": "code",
   "execution_count": 61,
   "id": "09426a37",
   "metadata": {},
   "outputs": [],
   "source": [
    "train_mean = np.mean(train_scores,axis=1)#column따라 평균 내기\n",
    "train_std = np.std(train_scores,axis=1)\n",
    "test_mean = np.mean(test_scores,axis=1)\n",
    "test_std = np.std(test_scores,axis=1)"
   ]
  },
  {
   "cell_type": "code",
   "execution_count": 54,
   "id": "7892d010",
   "metadata": {},
   "outputs": [
    {
     "data": {
      "text/plain": [
       "array([[1.        , 1.        , 1.        , 1.        , 1.        ,\n",
       "        1.        , 1.        , 1.        , 1.        , 1.        ],\n",
       "       [1.        , 1.        , 1.        , 1.        , 1.        ,\n",
       "        1.        , 1.        , 1.        , 1.        , 1.        ],\n",
       "       [1.        , 1.        , 1.        , 1.        , 1.        ,\n",
       "        1.        , 1.        , 1.        , 1.        , 1.        ],\n",
       "       [0.99386503, 0.99386503, 0.99386503, 1.        , 1.        ,\n",
       "        1.        , 1.        , 1.        , 1.        , 1.        ],\n",
       "       [0.98529412, 0.98529412, 0.98529412, 0.99019608, 0.99509804,\n",
       "        0.99509804, 0.99509804, 0.99509804, 0.99509804, 0.99509804],\n",
       "       [0.97959184, 0.98367347, 0.98367347, 0.9877551 , 0.9877551 ,\n",
       "        0.9877551 , 0.9877551 , 0.9877551 , 0.9877551 , 0.9877551 ],\n",
       "       [0.97902098, 0.98601399, 0.98251748, 0.98951049, 0.98951049,\n",
       "        0.98951049, 0.98601399, 0.98601399, 0.98601399, 0.98601399],\n",
       "       [0.98470948, 0.98470948, 0.98776758, 0.98470948, 0.99082569,\n",
       "        0.99082569, 0.98776758, 0.98776758, 0.98776758, 0.98776758],\n",
       "       [0.98641304, 0.98641304, 0.98913043, 0.98913043, 0.99184783,\n",
       "        0.98913043, 0.98913043, 0.98913043, 0.98913043, 0.98913043],\n",
       "       [0.98777506, 0.98777506, 0.99022005, 0.99022005, 0.99022005,\n",
       "        0.99022005, 0.99022005, 0.98777506, 0.99022005, 0.98777506]])"
      ]
     },
     "execution_count": 54,
     "metadata": {},
     "output_type": "execute_result"
    }
   ],
   "source": [
    "train_scores"
   ]
  },
  {
   "cell_type": "code",
   "execution_count": 53,
   "id": "8afcffca",
   "metadata": {},
   "outputs": [
    {
     "name": "stdout",
     "output_type": "stream",
     "text": [
      "[1.         1.         1.         0.99815951 0.99166667 0.98612245\n",
      " 0.98601399 0.98746177 0.9888587  0.98924205]\n",
      "\n",
      "\n",
      " 0.9927525134004909\n"
     ]
    }
   ],
   "source": [
    "train_mean2= np.mean(train_scores)#axis 없으면?\n",
    "print(train_mean)\n",
    "print(\"\\n\\n\",train_mean2)"
   ]
  },
  {
   "cell_type": "code",
   "execution_count": 64,
   "id": "5aeae5b5",
   "metadata": {},
   "outputs": [
    {
     "data": {
      "image/png": "[encoded data removed]",
      "text/plain": [
       "<Figure size 432x288 with 1 Axes>"
      ]
     },
     "metadata": {
      "needs_background": "light"
     },
     "output_type": "display_data"
    }
   ],
   "source": [
    "plt.plot(train_sizes, train_mean, color='blue',marker='o',markersize=5, label = 'training accuracy')#평균 훈련 정확도\n",
    "plt.fill_between(train_sizes, train_mean+train_std, train_mean-train_std, alpha = 0.15, color='blue')\n",
    "plt.plot(train_sizes, test_mean, color='green',linestyle = '--', marker = 's', markersize=5, label = 'validation accuracy')#교차검증정확도\n",
    "plt.fill_between(train_sizes, test_mean+test_std, test_mean - test_std, alpha=0.15, color='green')\n",
    "plt.grid()\n",
    "plt.xlabel('Number of training samples')\n",
    "plt.ylabel('Accuracy')\n",
    "plt.legend(loc = 'lower right')\n",
    "plt.ylim([0.8,1.03])\n",
    "plt.tight_layout()\n",
    "plt.show()"
   ]
  },
  {
   "cell_type": "markdown",
   "id": "394b5e53",
   "metadata": {},
   "source": [
    "### 검증곡선으로 과대적합과 과소적합 조사"
   ]
  },
  {
   "cell_type": "code",
   "execution_count": 66,
   "id": "0b7cf2b0",
   "metadata": {},
   "outputs": [],
   "source": [
    "from sklearn.model_selection import validation_curve#검증곡선\n",
    "param_range = [0.001,0.001,0.1,1.0,10.0,100.0]#값 범위\n",
    "train_scores, test_scores = validation_curve(#계층별 k-겹 교차검증\n",
    "    estimator=pipe_lr,\n",
    "    X = X_train,\n",
    "    y = y_train,\n",
    "    param_name='logisticregression__C',#평가: logistic regression의 규제 매개변수인 C\n",
    "    param_range=param_range,\n",
    "    cv = 10\n",
    ")"
   ]
  },
  {
   "cell_type": "code",
   "execution_count": 67,
   "id": "925e9220",
   "metadata": {},
   "outputs": [],
   "source": [
    "train_mean = np.mean(train_scores, axis = 1)\n",
    "train_std = np.std(train_scores, axis = 1)\n",
    "test_mean = np.mean(test_scores,axis=1)\n",
    "test_std = np.std(test_scores, axis = 1)"
   ]
  },
  {
   "cell_type": "code",
   "execution_count": 68,
   "id": "a5353157",
   "metadata": {},
   "outputs": [
    {
     "data": {
      "image/png": "[encoded data removed]",
      "text/plain": [
       "<Figure size 432x288 with 1 Axes>"
      ]
     },
     "metadata": {
      "needs_background": "light"
     },
     "output_type": "display_data"
    }
   ],
   "source": [
    "\n",
    "plt.plot(param_range, train_mean, color = 'blue', marker = 'o', markersize = 5,label='training accuracy')#평균 훈련 정확도\n",
    "plt.fill_between(param_range, train_mean+train_std, train_mean-train_std, alpha = 0.15, color = 'blue')#표준편차\n",
    "plt.plot(param_range, test_mean, color = 'green', linestyle='--', marker='s',markersize=5, label='validation accuracry')#교차검증정확도\n",
    "plt.fill_between(param_range, test_mean+test_std, test_mean-test_std, alpha=0.15, color = 'green')#표준편차\n",
    "plt.grid()\n",
    "plt.xscale('log')\n",
    "plt.legend(loc = 'upper right')\n",
    "plt.xlabel('Parameter C')#매개변수 C에 대한 검증곡선 그래프\n",
    "plt.ylabel('Accuracy')\n",
    "plt.ylim([0.8,1.0])\n",
    "plt.tight_layout()\n",
    "plt.show()"
   ]
  },
  {
   "cell_type": "markdown",
   "id": "3a383d36",
   "metadata": {},
   "source": [
    "### 그리드 서치를 사용한 머신 러닝 모델 세부 튜닝"
   ]
  },
  {
   "cell_type": "code",
   "execution_count": 69,
   "id": "74b35caf",
   "metadata": {},
   "outputs": [],
   "source": [
    "from sklearn.model_selection import GridSearchCV#그리드서치\n",
    "from sklearn.svm import SVC"
   ]
  },
  {
   "cell_type": "code",
   "execution_count": 70,
   "id": "e936eb90",
   "metadata": {},
   "outputs": [],
   "source": [
    "pipe_svc = make_pipeline(StandardScaler(),#표준화\n",
    "                         SVC(random_state=1))#SVM\n",
    "param_range = [0.0001,0.001,0.01,0.1,1.0,10.0,100.0,1000.0]\n",
    "param_grid = [{'svc__C':param_range,\n",
    "              'svc__kernel':['linear']},\n",
    "             {'svc__C':param_range,\n",
    "             'svc__gamma':param_range,\n",
    "             'svc__kernel':['rbf']}]#튜닝하려는 매개변수를 딕셔너리의 리스트로 수정"
   ]
  },
  {
   "cell_type": "code",
   "execution_count": 71,
   "id": "f1c99939",
   "metadata": {},
   "outputs": [],
   "source": [
    "gs = GridSearchCV(estimator=pipe_svc,\n",
    "                 param_grid=param_grid,\n",
    "                 scoring='accuracy',\n",
    "                 cv =10,\n",
    "                 n_jobs=-1)\n",
    "gs = gs.fit(X_train,y_train)"
   ]
  },
  {
   "cell_type": "code",
   "execution_count": 72,
   "id": "0c39f9eb",
   "metadata": {},
   "outputs": [
    {
     "name": "stdout",
     "output_type": "stream",
     "text": [
      "0.9846859903381642\n"
     ]
    }
   ],
   "source": [
    "print(gs.best_score_)"
   ]
  },
  {
   "cell_type": "code",
   "execution_count": 73,
   "id": "8c3eb11c",
   "metadata": {},
   "outputs": [
    {
     "name": "stdout",
     "output_type": "stream",
     "text": [
      "{'svc__C': 100.0, 'svc__gamma': 0.001, 'svc__kernel': 'rbf'}\n"
     ]
    }
   ],
   "source": [
    "print(gs.best_params_)"
   ]
  },
  {
   "cell_type": "code",
   "execution_count": 74,
   "id": "70fb9532",
   "metadata": {},
   "outputs": [],
   "source": [
    "clf = gs.best_estimator_"
   ]
  },
  {
   "cell_type": "code",
   "execution_count": 75,
   "id": "bb825d20",
   "metadata": {},
   "outputs": [
    {
     "data": {
      "text/plain": [
       "Pipeline(steps=[('standardscaler', StandardScaler()),\n",
       "                ('svc', SVC(C=100.0, gamma=0.001, random_state=1))])"
      ]
     },
     "execution_count": 75,
     "metadata": {},
     "output_type": "execute_result"
    }
   ],
   "source": [
    "clf.fit(X_train,y_train)"
   ]
  },
  {
   "cell_type": "code",
   "execution_count": 76,
   "id": "48ccfb29",
   "metadata": {},
   "outputs": [
    {
     "name": "stdout",
     "output_type": "stream",
     "text": [
      "테스트 정확도: 0.974\n"
     ]
    }
   ],
   "source": [
    "print(\"테스트 정확도: %.3f\"%clf.score(X_test,y_test))#정확도"
   ]
  },
  {
   "cell_type": "markdown",
   "id": "9a86944a",
   "metadata": {},
   "source": [
    "### 중첩 교차 검증\n",
    "- 중첩된 교차 검증을 사용했을 때 테스트 세트에 대한 추정 오차는 거의 편향되지 않음\n",
    "- 대용량 데이터셋에서 유용"
   ]
  },
  {
   "cell_type": "code",
   "execution_count": 86,
   "id": "6654bd06",
   "metadata": {},
   "outputs": [],
   "source": [
    "gs = GridSearchCV(estimator=pipe_svc,\n",
    "                 param_grid=param_grid,\n",
    "                 scoring = 'accuracy',\n",
    "                 cv = 2)"
   ]
  },
  {
   "cell_type": "code",
   "execution_count": 87,
   "id": "194f8447",
   "metadata": {},
   "outputs": [],
   "source": [
    "scores = cross_val_score(gs,X_train,y_train,scoring='accuracy',cv=5)#중첩교차검증(5x2)"
   ]
  },
  {
   "cell_type": "code",
   "execution_count": 88,
   "id": "deb6e5d0",
   "metadata": {},
   "outputs": [
    {
     "name": "stdout",
     "output_type": "stream",
     "text": [
      "CV 정확도: 0.974 +/- 0.015\n"
     ]
    }
   ],
   "source": [
    "print(\"CV 정확도: %.3f +/- %.3f\"%(np.mean(scores),np.std(scores)))"
   ]
  },
  {
   "cell_type": "code",
   "execution_count": 81,
   "id": "9894d00a",
   "metadata": {},
   "outputs": [],
   "source": [
    "from sklearn.tree import DecisionTreeClassifier"
   ]
  },
  {
   "cell_type": "code",
   "execution_count": 84,
   "id": "06cd7412",
   "metadata": {},
   "outputs": [],
   "source": [
    "gs = GridSearchCV(estimator=DecisionTreeClassifier(random_state=0),\n",
    "                 param_grid=[{'max_depth':[1,2,3,4,5,6,7,None]}],\n",
    "                 scoring = 'accuracy',\n",
    "                 cv=2)"
   ]
  },
  {
   "cell_type": "code",
   "execution_count": 85,
   "id": "853e5df5",
   "metadata": {},
   "outputs": [
    {
     "name": "stdout",
     "output_type": "stream",
     "text": [
      "CV 정확도: 0.974 +/- 0.015\n"
     ]
    }
   ],
   "source": [
    "print(\"CV 정확도: %.3f +/- %.3f\"%(np.mean(scores),np.std(scores)))"
   ]
  },
  {
   "cell_type": "markdown",
   "id": "dc8535d8",
   "metadata": {},
   "source": [
    "### 여러가지 성능평가 지표"
   ]
  },
  {
   "cell_type": "code",
   "execution_count": 89,
   "id": "a7ae51ba",
   "metadata": {},
   "outputs": [
    {
     "name": "stdout",
     "output_type": "stream",
     "text": [
      "[[71  1]\n",
      " [ 2 40]]\n"
     ]
    }
   ],
   "source": [
    "from sklearn.metrics import confusion_matrix#오차 행렬\n",
    "pipe_svc.fit(X_train,y_train)\n",
    "y_pred = pipe_svc.predict(X_test)\n",
    "confmat = confusion_matrix(y_true=y_test, y_pred = y_pred)\n",
    "print(confmat)"
   ]
  },
  {
   "cell_type": "code",
   "execution_count": 94,
   "id": "6e38afc4",
   "metadata": {},
   "outputs": [
    {
     "data": {
      "image/png": "[encoded data removed]",
      "text/plain": [
       "<Figure size 252x252 with 1 Axes>"
      ]
     },
     "metadata": {
      "needs_background": "light"
     },
     "output_type": "display_data"
    }
   ],
   "source": [
    "#오차행렬을 그림으로\n",
    "fig,ax = plt.subplots(figsize=(3.5,3.5))\n",
    "ax.matshow(confmat, cmap=plt.cm.Blues, alpha=0.3)\n",
    "for i in range(confmat.shape[0]):\n",
    "    for j in range(confmat.shape[1]):\n",
    "        ax.text(x=j, y=i, s=confmat[i,j],va='center',ha='center')\n",
    "plt.xlabel('predicted label')\n",
    "plt.ylabel('true label')\n",
    "plt.tight_layout()\n",
    "plt.show()"
   ]
  },
  {
   "cell_type": "markdown",
   "id": "9b59539c",
   "metadata": {},
   "source": [
    "<br><br>\n",
    "오차\n",
    "$$ERR = \\frac{FP + FN}{FP + FN + TP + TN}$$\n",
    "<br><br><br><br>\n",
    "예측정확도\n",
    "$$ACC = \\frac{TP + TN}{FP + FN + TP + TN}$$\n",
    "<br><br><br><br>\n",
    "거짓 양성 비율\n",
    "$$FPR = \\frac{FP}{N}= \\frac{FP}{FP + TN}$$\n",
    "<br><br><br><br>\n",
    "진짜 양성 비율\n",
    "$$TPR = \\frac{TP}{P} = \\frac{TP}{FN + TP}$$\n",
    "<br><br><br><br>\n",
    "정밀도\n",
    "$$PRE = \\frac{TP}{TP+FP}$$\n",
    "<br><br><br><br>\n",
    "재현율\n",
    "$$REC = \\frac{TP}{P} = \\frac{TP}{FN + TP}$$\n",
    "<br><br><br><br>\n",
    "F1-점수\n",
    "$$F1 = 2\\frac{PRE X REC}{PRE + REC}$$\n"
   ]
  },
  {
   "cell_type": "code",
   "execution_count": 95,
   "id": "79e5ea14",
   "metadata": {},
   "outputs": [
    {
     "name": "stdout",
     "output_type": "stream",
     "text": [
      "정밀도: 0.976\n",
      "재현율: 0.952\n",
      "F1: 0.964\n"
     ]
    }
   ],
   "source": [
    "from sklearn.metrics import precision_score\n",
    "from sklearn.metrics import recall_score, f1_score\n",
    "print(\"정밀도: %.3f\"%precision_score(y_true = y_test, y_pred=y_pred))\n",
    "print(\"재현율: %.3f\"%recall_score(y_true = y_test, y_pred=y_pred))\n",
    "print(\"F1: %.3f\"%f1_score(y_true = y_test, y_pred=y_pred))\n"
   ]
  },
  {
   "cell_type": "markdown",
   "id": "14188ba8",
   "metadata": {},
   "source": [
    "#### GridSearchCv의 scoring 매개변수를 사용하여 정확도 대신 다른 성능 지표 사용"
   ]
  },
  {
   "cell_type": "code",
   "execution_count": 96,
   "id": "8440bb6f",
   "metadata": {},
   "outputs": [],
   "source": [
    "from sklearn.metrics import make_scorer, f1_score\n",
    "scorer = make_scorer(f1_score, pos_label=0)#양성 레이블 바꾸기\n",
    "c_gamma_range = [0.01,0.1,1.0,10.0]\n",
    "param_grid = [{'svc__C':c_gamma_range,\n",
    "              'svc__kernel':['linear']},\n",
    "             {'svc__C':c_gamma_range,\n",
    "             'svc__kernel':['rbf']}]\n",
    "gs = GridSearchCV(estimator=pipe_svc,\n",
    "                 param_grid=param_grid,\n",
    "                 scoring=scorer,\n",
    "                 cv=10)\n",
    "gs = gs.fit(X_train,y_train)"
   ]
  },
  {
   "cell_type": "code",
   "execution_count": 97,
   "id": "93e1f203",
   "metadata": {},
   "outputs": [
    {
     "name": "stdout",
     "output_type": "stream",
     "text": [
      "0.9895936509889569\n"
     ]
    }
   ],
   "source": [
    "print(gs.best_score_)"
   ]
  },
  {
   "cell_type": "code",
   "execution_count": 98,
   "id": "d4e2731b",
   "metadata": {},
   "outputs": [
    {
     "name": "stdout",
     "output_type": "stream",
     "text": [
      "{'svc__C': 10.0, 'svc__kernel': 'rbf'}\n"
     ]
    }
   ],
   "source": [
    "print(gs.best_params_)"
   ]
  },
  {
   "cell_type": "markdown",
   "id": "1539919e",
   "metadata": {},
   "source": [
    "### ROC 곡선\n",
    "\n",
    "ROC(Receiver Operating Characteristic) 그래프: 분류기의 임계 값을 바꾸어 가며 계산된 FPR(거짓 양성 비율)과 TDR(진짜 양성 비율) 점수를 기반으로 분류 모델을 선택하는 도구<br>\n",
    "ROC곡선의 아래 면적인 <b>ROC AUC(ROC Area Under the Curver)</b>를 계산하여 분류 모델의 성능을 종합"
   ]
  },
  {
   "cell_type": "code",
   "execution_count": 112,
   "id": "8a7d619b",
   "metadata": {},
   "outputs": [
    {
     "data": {
      "image/png": "[encoded data removed]",
      "text/plain": [
       "<Figure size 504x360 with 1 Axes>"
      ]
     },
     "metadata": {
      "needs_background": "light"
     },
     "output_type": "display_data"
    }
   ],
   "source": [
    "from sklearn.metrics import roc_curve,auc\n",
    "from numpy import interp\n",
    "\n",
    "pipe_lr = make_pipeline(StandardScaler(),\n",
    "                       PCA(n_components=2),\n",
    "                       LogisticRegression(solver='liblinear',\n",
    "                                         penalty = 'l2',\n",
    "                                         random_state=1,\n",
    "                                          C=100.0))\n",
    "X_train2 = X_train[:,[4,14]]\n",
    "cv = list(StratifiedKFold(n_splits=3,shuffle=True, random_state=1).split(X_train,y_train))\n",
    "\n",
    "fig = plt.figure(figsize=(7,5))\n",
    "\n",
    "mean_tpr = 0.0\n",
    "mean_fpr = np.linspace(0, 1, 100)\n",
    "all_tpr = []\n",
    "\n",
    "for i, (train,test) in enumerate(cv):\n",
    "    probas = pipe_lr.fit(X_train2[train],y_train[train]).predict_proba(X_train2[test])\n",
    "    fpr, tpr, thresholds = roc_curve(y_train[test], probas[:,1], pos_label=1)\n",
    "    mean_tpr += interp(mean_fpr,fpr,tpr)\n",
    "    mean_tpr[0] = 0.0\n",
    "    roc_auc = auc(fpr,tpr)\n",
    "    plt.plot(fpr,\n",
    "            tpr,\n",
    "            label='ROC fold %d (area = %0.2f)'%(i+1, roc_auc))\n",
    "    \n",
    "plt.plot([0,1],\n",
    "         [0,1],\n",
    "         linestyle='--',\n",
    "         color = (0.6,0.6,0.6),\n",
    "         label = 'random guessing')\n",
    "\n",
    "mean_tpr /= len(cv)\n",
    "mean_tpr[-1] = 1.0\n",
    "mean_auc = auc(mean_fpr,mean_tpr)\n",
    "\n",
    "plt.plot(mean_fpr, mean_tpr, 'k--',\n",
    "        label = 'mean ROC (area = %0.2f)'%mean_auc, lw=2)\n",
    "\n",
    "plt.plot([0,0,1],[0,1,1],linestyle=':',color = 'black', label = 'perfect performance')\n",
    "plt.xlim([-0.05,1.05])\n",
    "plt.ylim([-0.05,1.05])\n",
    "plt.xlabel('false positive rate')\n",
    "plt.ylabel('true positive rate')\n",
    "plt.legend(loc = 'lower right')\n",
    "plt.tight_layout()\n",
    "plt.show()"
   ]
  },
  {
   "cell_type": "markdown",
   "id": "986a3447",
   "metadata": {},
   "source": [
    "### 불균형한 클래스 다루기"
   ]
  },
  {
   "cell_type": "code",
   "execution_count": 113,
   "id": "182dfba3",
   "metadata": {},
   "outputs": [],
   "source": [
    "#212개의 악성 종양(클래스 1)과 357개의 양성 종양(클래스 0)을 가진 유방암 데이터셋에서 불균형한 데이터셋"
   ]
  },
  {
   "cell_type": "code",
   "execution_count": 117,
   "id": "1d366d76",
   "metadata": {},
   "outputs": [],
   "source": [
    "X_imb = np.vstack((X[y==0],X[y==1][:40]))\n",
    "y_imb = np.hstack((y[y==0],y[y==1][:40]))"
   ]
  },
  {
   "cell_type": "code",
   "execution_count": 130,
   "id": "121611cc",
   "metadata": {},
   "outputs": [
    {
     "name": "stdout",
     "output_type": "stream",
     "text": [
      "(40, 30)\n",
      "(357, 30)\n",
      "(357,)\n",
      "(40,)\n"
     ]
    }
   ],
   "source": [
    "print(X_imb[y_imb == 1].shape)\n",
    "print(X_imb[y_imb == 0].shape)\n",
    "print(y_imb[y_imb == 0].shape)\n",
    "print(y_imb[y_imb == 1].shape)"
   ]
  },
  {
   "cell_type": "code",
   "execution_count": 123,
   "id": "376faee9",
   "metadata": {},
   "outputs": [
    {
     "data": {
      "text/plain": [
       "89.92443324937027"
      ]
     },
     "execution_count": 123,
     "metadata": {},
     "output_type": "execute_result"
    }
   ],
   "source": [
    "y_pred = np.zeros(y_imb.shape[0])\n",
    "np.mean(y_pred == y_imb)*100"
   ]
  },
  {
   "cell_type": "code",
   "execution_count": 131,
   "id": "5ffed219",
   "metadata": {},
   "outputs": [
    {
     "name": "stdout",
     "output_type": "stream",
     "text": [
      "샘플링 하기 전 클래스 1의 개수: 40\n"
     ]
    }
   ],
   "source": [
    "#소수 클래스의 샘플을 늘림\n",
    "from sklearn.utils import resample\n",
    "print('샘플링 하기 전 클래스 1의 개수:', X_imb[y_imb == 1].shape[0])"
   ]
  },
  {
   "cell_type": "code",
   "execution_count": 132,
   "id": "b52f3dfa",
   "metadata": {},
   "outputs": [],
   "source": [
    "X_upsampled, y_upsampled = resample(X_imb[y_imb == 1], y_imb[y_imb == 1],replace=True, n_samples= X_imb[y_imb == 0].shape[0],random_state=123)"
   ]
  },
  {
   "cell_type": "code",
   "execution_count": 133,
   "id": "a1b24135",
   "metadata": {},
   "outputs": [
    {
     "name": "stdout",
     "output_type": "stream",
     "text": [
      "샘플링 한 클래스 1의 샘플 개수: 357\n"
     ]
    }
   ],
   "source": [
    "print(\"샘플링 한 클래스 1의 샘플 개수:\",X_upsampled.shape[0])"
   ]
  },
  {
   "cell_type": "code",
   "execution_count": 136,
   "id": "22ff295c",
   "metadata": {},
   "outputs": [],
   "source": [
    "#샘플 추출한 후 클래스 0인 원본 샘플과 업샘플링된 클래스 1을 연결하여 균형 잡힌 데이터셋을 얻음\n",
    "X_bal = np.vstack((X[y==0],X_upsampled))\n",
    "y_bal = np.hstack((y[y==0],y_upsampled))"
   ]
  },
  {
   "cell_type": "code",
   "execution_count": 138,
   "id": "f6b68e5d",
   "metadata": {},
   "outputs": [
    {
     "data": {
      "text/plain": [
       "50.0"
      ]
     },
     "execution_count": 138,
     "metadata": {},
     "output_type": "execute_result"
    }
   ],
   "source": [
    "y_pred = np.zeros(y_bal.shape[0])\n",
    "np.mean(y_pred == y_bal)*100#다수 클래스 예측하는 규칙: 50% 정확도"
   ]
  },
  {
   "cell_type": "markdown",
   "id": "c477be1c",
   "metadata": {},
   "source": [
    "다운 샘플링(다수 클래스의 훈련 샘플 삭제하는 방법) 참고"
   ]
  }
 ],
 "metadata": {
  "kernelspec": {
   "display_name": "Python 3",
   "language": "python",
   "name": "python3"
  },
  "language_info": {
   "codemirror_mode": {
    "name": "ipython",
    "version": 3
   },
   "file_extension": ".py",
   "mimetype": "text/x-python",
   "name": "python",
   "nbconvert_exporter": "python",
   "pygments_lexer": "ipython3",
   "version": "3.9.5"
  }
 },
 "nbformat": 4,
 "nbformat_minor": 5
}
